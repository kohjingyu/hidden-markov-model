{
 "cells": [
  {
   "cell_type": "code",
   "execution_count": 1,
   "metadata": {},
   "outputs": [],
   "source": [
    "%matplotlib inline\n",
    "import numpy as np\n",
    "import matplotlib.pyplot as plt\n",
    "import os\n",
    "import re\n",
    "import itertools\n",
    "from collections import defaultdict, OrderedDict\n",
    "from random import shuffle\n",
    "from tqdm import tqdm_notebook as tqdm, tnrange as trange\n",
    "from sklearn.metrics import confusion_matrix\n",
    "\n",
    "import sys\n",
    "sys.path.insert(0, '..')\n",
    "from evalResult import get_predicted, get_observed\n",
    "plt.style.use('seaborn')"
   ]
  },
  {
   "cell_type": "code",
   "execution_count": 2,
   "metadata": {},
   "outputs": [],
   "source": [
    "dataset = 'EN'"
   ]
  },
  {
   "cell_type": "markdown",
   "metadata": {},
   "source": [
    "## Hyperparameters\n",
    "Here for easy tuning."
   ]
  },
  {
   "cell_type": "code",
   "execution_count": 3,
   "metadata": {},
   "outputs": [],
   "source": [
    "# optimal 1e-4\n",
    "lr = 1e-4\n",
    "n_epochs = 5"
   ]
  },
  {
   "cell_type": "markdown",
   "metadata": {},
   "source": [
    "## Data"
   ]
  },
  {
   "cell_type": "markdown",
   "metadata": {},
   "source": [
    "### Cleaning\n",
    "Prepare words for cleaning. Specifically, find\n",
    "1. ~~stopwords~~\n",
    "1. punctuation\n",
    "1. hashtags\n",
    "1. @ mentions\n",
    "1. numbers\n",
    "1. URLs"
   ]
  },
  {
   "cell_type": "code",
   "execution_count": 4,
   "metadata": {},
   "outputs": [],
   "source": [
    "re_punc = r'^[^a-zA-Z0-9]+$'\n",
    "re_hash = r'^#'\n",
    "re_at = r'^@'\n",
    "re_num = r'\\d'  # just remove all words with numbers\n",
    "re_url = r'(^http:|\\.com$)'"
   ]
  },
  {
   "cell_type": "code",
   "execution_count": 5,
   "metadata": {},
   "outputs": [],
   "source": [
    "def clean_word(w):\n",
    "    w = w.strip()\n",
    "    if re.match(re_punc, w):\n",
    "        return '#PUNC#'\n",
    "    if re.match(re_hash, w):\n",
    "        return '#HASH#'\n",
    "    if re.match(re_at, w):\n",
    "        return '#AT#'\n",
    "    if re.match(re_num, w):\n",
    "        return '#NUM#'\n",
    "    if re.match(re_url, w):\n",
    "        return '#URL#'\n",
    "    return w.lower()"
   ]
  },
  {
   "cell_type": "markdown",
   "metadata": {},
   "source": [
    "### I/O"
   ]
  },
  {
   "cell_type": "code",
   "execution_count": 6,
   "metadata": {},
   "outputs": [],
   "source": [
    "def parse(train_filename):\n",
    "    with open(train_filename, 'r') as f:\n",
    "        lines = f.readlines()\n",
    "\n",
    "    observations, states = defaultdict(int), defaultdict(int)\n",
    "    for line in lines:\n",
    "        data_split = line.strip().rsplit(' ', 1)\n",
    "        if len(data_split) == 2:\n",
    "            obs, state = data_split\n",
    "            observations[clean_word(obs)] += 1\n",
    "            states[state] += 1\n",
    "    return observations, states"
   ]
  },
  {
   "cell_type": "code",
   "execution_count": 7,
   "metadata": {},
   "outputs": [],
   "source": [
    "def read_file(filename, clean=True):\n",
    "    with open(filename, 'r') as f:\n",
    "        lines = f.readlines()\n",
    "        \n",
    "    sentence, label = [], []\n",
    "    sentences, labels = [], []\n",
    "    for line in lines:\n",
    "        data_split = line.strip().rsplit(' ', 1)\n",
    "        if len(data_split) == 2:\n",
    "            word, state = data_split\n",
    "            if clean:\n",
    "                word = clean_word(word)\n",
    "            sentence.append(word)\n",
    "            label.append(state)\n",
    "        else:\n",
    "            sentences.append(sentence)\n",
    "            labels.append(label)\n",
    "            sentence = []\n",
    "            label = []\n",
    "    return sentences, labels"
   ]
  },
  {
   "cell_type": "markdown",
   "metadata": {},
   "source": [
    "### Train data"
   ]
  },
  {
   "cell_type": "code",
   "execution_count": 8,
   "metadata": {},
   "outputs": [],
   "source": [
    "train_filename = f'../data/{dataset}/train'\n",
    "\n",
    "observations, states = parse(train_filename)"
   ]
  },
  {
   "cell_type": "code",
   "execution_count": 9,
   "metadata": {
    "scrolled": true
   },
   "outputs": [
    {
     "data": {
      "text/plain": [
       "(['rt', '#AT#', '#PUNC#', 'encore', '#PUNC#'], ['O', 'O', 'O', 'B-INTJ', 'O'])"
      ]
     },
     "execution_count": 9,
     "metadata": {},
     "output_type": "execute_result"
    }
   ],
   "source": [
    "train_sentences, train_labels = read_file(train_filename)\n",
    "train_sentences[0][:5], train_labels[0][:5]"
   ]
  },
  {
   "cell_type": "markdown",
   "metadata": {},
   "source": [
    "## Encoding"
   ]
  },
  {
   "cell_type": "code",
   "execution_count": 10,
   "metadata": {},
   "outputs": [],
   "source": [
    "def one_hot_encode(n, depth):\n",
    "    a = np.zeros([depth, 1])\n",
    "    a[n, 0] = 1\n",
    "    return a"
   ]
  },
  {
   "cell_type": "markdown",
   "metadata": {},
   "source": [
    "### Encode words\n",
    "Create a vocabulary out of words that appear more than `1` time(s) in training. Each word now maps to an _integer_. Other words will be treated as `#UNK#`."
   ]
  },
  {
   "cell_type": "code",
   "execution_count": 11,
   "metadata": {},
   "outputs": [],
   "source": [
    "def tokenize(token_mapping, sentence):\n",
    "    \"\"\"\n",
    "    Function to convert each word into its corresponding integer\n",
    "    If word is not found, return the value for '#UNK'\n",
    "    \"\"\"\n",
    "    return [token_mapping.get(w, token_mapping['#UNK#']) for w in sentence]\n",
    "\n",
    "def prepare_inputs(token_mapping, sentences):\n",
    "    \"\"\"\n",
    "    Converts a 2-D list of sentences (list of list of words)\n",
    "    to one-hot encoded tokens of shape [n_sentences, n_words, len(token_mapping), 1].\n",
    "    \"\"\"\n",
    "    tokens = [tokenize(token_mapping, sentence) for sentence in sentences] \n",
    "    \n",
    "    depth = len(token_mapping)\n",
    "    one_hot_tokens = [[one_hot_encode(token, depth) for token in sentence] for sentence in tokens]\n",
    "    one_hot_tokens = [np.asarray(ls) for ls in one_hot_tokens]  # list of [n_words, len(token_mapping), 1]\n",
    "    return one_hot_tokens"
   ]
  },
  {
   "cell_type": "code",
   "execution_count": 12,
   "metadata": {},
   "outputs": [
    {
     "data": {
      "text/plain": [
       "2504"
      ]
     },
     "execution_count": 12,
     "metadata": {},
     "output_type": "execute_result"
    }
   ],
   "source": [
    "min_freq = 0\n",
    "\n",
    "token_mapping = {}\n",
    "for word in observations:\n",
    "    if observations[word] > min_freq:  # appears more than once in training\n",
    "        token_mapping[word] = len(token_mapping)\n",
    "token_mapping['#UNK#'] = len(token_mapping)\n",
    "len(token_mapping)"
   ]
  },
  {
   "cell_type": "code",
   "execution_count": 13,
   "metadata": {
    "scrolled": false
   },
   "outputs": [
    {
     "data": {
      "text/plain": [
       "(551, (25, 2504, 1))"
      ]
     },
     "execution_count": 13,
     "metadata": {},
     "output_type": "execute_result"
    }
   ],
   "source": [
    "X_train = prepare_inputs(token_mapping, train_sentences)\n",
    "len(X_train), X_train[0].shape"
   ]
  },
  {
   "cell_type": "markdown",
   "metadata": {},
   "source": [
    "## `word2vec`\n",
    "$$ h = Wx $$\n",
    "$$ o = Uh $$\n",
    "$$ \\hat{y} = \\text{softmax}(o) $$"
   ]
  },
  {
   "cell_type": "code",
   "execution_count": 14,
   "metadata": {},
   "outputs": [],
   "source": [
    "def softmax(x):\n",
    "    e_x = np.exp(x - np.max(x))\n",
    "    return e_x / e_x.sum(axis=0)"
   ]
  },
  {
   "cell_type": "markdown",
   "metadata": {},
   "source": [
    "### Initialization"
   ]
  },
  {
   "cell_type": "code",
   "execution_count": 15,
   "metadata": {},
   "outputs": [],
   "source": [
    "np.random.seed(0)\n",
    "\n",
    "vocab_size = len(token_mapping)\n",
    "latent_size = 300\n",
    "\n",
    "W = np.random.normal(0, 0.1, size=[latent_size, vocab_size])\n",
    "U = np.random.normal(0, 0.1, size=[vocab_size, latent_size])"
   ]
  },
  {
   "cell_type": "markdown",
   "metadata": {},
   "source": [
    "### Forward"
   ]
  },
  {
   "cell_type": "code",
   "execution_count": 16,
   "metadata": {},
   "outputs": [
    {
     "data": {
      "text/plain": [
       "(2504, 1)"
      ]
     },
     "execution_count": 16,
     "metadata": {},
     "output_type": "execute_result"
    }
   ],
   "source": [
    "def forward(W, U, x):\n",
    "    h = W.dot(x)\n",
    "    o = U.dot(h)\n",
    "    y_ = softmax(o)\n",
    "    return y_\n",
    "\n",
    "y_ = forward(W, U, X_train[0][0])\n",
    "y_.shape"
   ]
  },
  {
   "cell_type": "code",
   "execution_count": 17,
   "metadata": {
    "scrolled": true
   },
   "outputs": [
    {
     "data": {
      "text/plain": [
       "'instructions'"
      ]
     },
     "execution_count": 17,
     "metadata": {},
     "output_type": "execute_result"
    }
   ],
   "source": [
    "list(token_mapping)[np.argmax(y_)]"
   ]
  },
  {
   "cell_type": "markdown",
   "metadata": {},
   "source": [
    "### Backward"
   ]
  },
  {
   "cell_type": "code",
   "execution_count": 18,
   "metadata": {
    "scrolled": true
   },
   "outputs": [
    {
     "data": {
      "text/plain": [
       "((300, 2504), (2504, 300))"
      ]
     },
     "execution_count": 18,
     "metadata": {},
     "output_type": "execute_result"
    }
   ],
   "source": [
    "def backward(W, U, x, y):\n",
    "    h = W.dot(x)\n",
    "    o = U.dot(h)\n",
    "    y_ = softmax(o)\n",
    "    \n",
    "    do = y_ - y\n",
    "    dU = do.dot(h.T)\n",
    "    dW = U.T.dot(do).dot(x.T)\n",
    "    grad = (dW, dU)\n",
    "    \n",
    "    assert dU.shape == U.shape\n",
    "    assert dW.shape == W.shape\n",
    "    \n",
    "    xent = -np.log(y_ + 1e-8) * y\n",
    "    loss = np.sum(xent)\n",
    "    return loss, grad\n",
    "\n",
    "loss, (dW, dU) = backward(W, U, X_train[0][0], X_train[0][1])\n",
    "dW.shape, dU.shape"
   ]
  },
  {
   "cell_type": "markdown",
   "metadata": {},
   "source": [
    "### Training"
   ]
  },
  {
   "cell_type": "code",
   "execution_count": 19,
   "metadata": {},
   "outputs": [],
   "source": [
    "def save_model(i, W, U):\n",
    "    np.save(f'weights/word2vec/{dataset}/W_new', W)\n",
    "    np.save(f'weights/word2vec/{dataset}/U_new', U)"
   ]
  },
  {
   "cell_type": "code",
   "execution_count": 20,
   "metadata": {
    "scrolled": false
   },
   "outputs": [
    {
     "data": {
      "application/vnd.jupyter.widget-view+json": {
       "model_id": "14e79833aa8c4fb38c6748fe5a0f5c8b",
       "version_major": 2,
       "version_minor": 0
      },
      "text/plain": [
       "HBox(children=(IntProgress(value=0, max=5), HTML(value='')))"
      ]
     },
     "metadata": {},
     "output_type": "display_data"
    },
    {
     "data": {
      "application/vnd.jupyter.widget-view+json": {
       "model_id": "",
       "version_major": 2,
       "version_minor": 0
      },
      "text/plain": [
       "HBox(children=(IntProgress(value=0, max=551), HTML(value='')))"
      ]
     },
     "metadata": {},
     "output_type": "display_data"
    },
    {
     "data": {
      "application/vnd.jupyter.widget-view+json": {
       "model_id": "",
       "version_major": 2,
       "version_minor": 0
      },
      "text/plain": [
       "HBox(children=(IntProgress(value=0, max=551), HTML(value='')))"
      ]
     },
     "metadata": {},
     "output_type": "display_data"
    },
    {
     "data": {
      "application/vnd.jupyter.widget-view+json": {
       "model_id": "",
       "version_major": 2,
       "version_minor": 0
      },
      "text/plain": [
       "HBox(children=(IntProgress(value=0, max=551), HTML(value='')))"
      ]
     },
     "metadata": {},
     "output_type": "display_data"
    },
    {
     "data": {
      "application/vnd.jupyter.widget-view+json": {
       "model_id": "",
       "version_major": 2,
       "version_minor": 0
      },
      "text/plain": [
       "HBox(children=(IntProgress(value=0, max=551), HTML(value='')))"
      ]
     },
     "metadata": {},
     "output_type": "display_data"
    },
    {
     "data": {
      "application/vnd.jupyter.widget-view+json": {
       "model_id": "",
       "version_major": 2,
       "version_minor": 0
      },
      "text/plain": [
       "HBox(children=(IntProgress(value=0, max=551), HTML(value='')))"
      ]
     },
     "metadata": {},
     "output_type": "display_data"
    },
    {
     "name": "stdout",
     "output_type": "stream",
     "text": [
      "\n"
     ]
    }
   ],
   "source": [
    "def train_sentence(W, U, sentence):\n",
    "    for i in range(len(sentence)):\n",
    "        # python allows indexing beyond len(list), but not before\n",
    "        if i <= 2:\n",
    "            context = np.concatenate([sentence[:i], sentence[i+1:i+3]])\n",
    "        else:\n",
    "            context = np.concatenate([sentence[i-2:i], sentence[i+1:i+3]])\n",
    "        # positive sampling\n",
    "        center_word = sentence[i]\n",
    "        loss, (dW, dU) = backward(W, U, center_word, np.sum(context, axis=0))\n",
    "        W -= lr * dW\n",
    "        U -= lr * dU\n",
    "        # create probabilities for negative samples\n",
    "        word_counts = np.asarray(list(observations.values()))\n",
    "        word_probs = np.power(word_counts, 0.75) / np.sum(np.power(word_counts, 0.75))\n",
    "        # remove probability of context word being negatively sampled\n",
    "        for context_word in context:\n",
    "            word_probs[np.where(context_word.flatten())] = 0\n",
    "        # negative sampling\n",
    "        word_probs /= np.sum(word_probs)  # normalize to 1\n",
    "        # sample indices of 20 words\n",
    "        negative_idx = np.random.choice(np.arange(len(word_probs)), size=20, p=word_probs)\n",
    "        # create a size-20 one-hot window\n",
    "        neg_context = np.zeros([20, len(token_mapping), 1])\n",
    "        for i, idx in enumerate(negative_idx):\n",
    "            neg_context[i, idx, 0] = 0\n",
    "        loss, (dW, dU) = backward(W, U, center_word, -np.sum(neg_context, axis=0))\n",
    "        W -= lr * dW\n",
    "        U -= lr * dU\n",
    "            \n",
    "def train_epoch(i, W, U, X):\n",
    "    for sentence in tqdm(X, leave=False):\n",
    "        train_sentence(W, U, sentence)\n",
    "    save_model(i, W, U)\n",
    "\n",
    "for i in trange(n_epochs):\n",
    "    train_epoch(i, W, U, X=X_train)"
   ]
  },
  {
   "cell_type": "markdown",
   "metadata": {},
   "source": [
    "## Visualization"
   ]
  },
  {
   "cell_type": "code",
   "execution_count": 21,
   "metadata": {},
   "outputs": [],
   "source": [
    "def word2vec(one_hot_vector):\n",
    "    weights = 0.5 * (W + U.T)\n",
    "    return weights.dot(one_hot_vector)"
   ]
  },
  {
   "cell_type": "code",
   "execution_count": 22,
   "metadata": {},
   "outputs": [
    {
     "data": {
      "image/png": "[encoded data removed]",
      "text/plain": [
       "<Figure size 1152x1152 with 1 Axes>"
      ]
     },
     "metadata": {
      "needs_background": "light"
     },
     "output_type": "display_data"
    }
   ],
   "source": [
    "from sklearn.manifold import TSNE\n",
    "import matplotlib.pyplot as plt\n",
    "%matplotlib inline\n",
    "\n",
    "def tsne_plot():\n",
    "    labels = []\n",
    "    tokens = []\n",
    "    \n",
    "    count = 0\n",
    "    for word in observations:\n",
    "        # to speed up the process, let's limit to the first 100 elements\n",
    "        if count < 100:\n",
    "            token = token_mapping[word]\n",
    "            one_hot = one_hot_encode(token, len(token_mapping))\n",
    "            vec = word2vec(one_hot).flatten()\n",
    "            tokens.append(vec)\n",
    "            labels.append(word)\n",
    "            count = count+1\n",
    "\n",
    "    # set the t-sne values\n",
    "    tsne_model = TSNE(perplexity=40, n_components=2, init='pca', n_iter=2500, random_state=23)\n",
    "    new_values = tsne_model.fit_transform(tokens)\n",
    "\n",
    "    x = []\n",
    "    y = []\n",
    "    for value in new_values:\n",
    "        x.append(value[0])\n",
    "        y.append(value[1])\n",
    "        \n",
    "    plt.figure(figsize=(16, 16)) \n",
    "    for i in range(len(x)):\n",
    "        plt.scatter(x[i],y[i])\n",
    "        plt.annotate(labels[i],\n",
    "                     xy=(x[i], y[i]),\n",
    "                     xytext=(5, 2),\n",
    "                     textcoords='offset points',\n",
    "                     ha='right',\n",
    "                     va='bottom')\n",
    "    plt.show()\n",
    "    \n",
    "tsne_plot()"
   ]
  }
 ],
 "metadata": {
  "kernelspec": {
   "display_name": "Python 3",
   "language": "python",
   "name": "python3"
  },
  "language_info": {
   "codemirror_mode": {
    "name": "ipython",
    "version": 3
   },
   "file_extension": ".py",
   "mimetype": "text/x-python",
   "name": "python",
   "nbconvert_exporter": "python",
   "pygments_lexer": "ipython3",
   "version": "3.6.7"
  },
  "widgets": {
   "application/vnd.jupyter.widget-state+json": {
    "state": {
     "00d006fec38f462897e01827016f4f15": {
      "model_module": "@jupyter-widgets/controls",
      "model_module_version": "1.4.0",
      "model_name": "HTMLModel",
      "state": {
       "layout": "IPY_MODEL_8a5a32663ea842d7822a8c91abed6a43",
       "style": "IPY_MODEL_f11f49e223de434a990becdcf59f39d3",
       "value": "  1% 4/551 [00:14&lt;33:33,  3.68s/it]"
      }
     },
     "02ef597a00e946c4b1e2922a7b0b8a80": {
      "model_module": "@jupyter-widgets/base",
      "model_module_version": "1.1.0",
      "model_name": "LayoutModel",
      "state": {}
     },
     "03a7cea2fec64b9daf7117b1a7638200": {
      "model_module": "@jupyter-widgets/controls",
      "model_module_version": "1.4.0",
      "model_name": "IntProgressModel",
      "state": {
       "layout": "IPY_MODEL_8651869ca15b47bbb08dcc506e7d75b5",
       "max": 1632,
       "style": "IPY_MODEL_310070b6bc0c47cda10db050bf60eb33",
       "value": 1632
      }
     },
     "0439bed474fc49ea94989fbea7671e0c": {
      "model_module": "@jupyter-widgets/base",
      "model_module_version": "1.1.0",
      "model_name": "LayoutModel",
      "state": {}
     },
     "055dbf91ec2b4fe393e24bcba0fd86d2": {
      "model_module": "@jupyter-widgets/controls",
      "model_module_version": "1.4.0",
      "model_name": "HBoxModel",
      "state": {
       "children": [
        "IPY_MODEL_a1a3368038194aaa944c68ed1596cd20",
        "IPY_MODEL_af485ce7386648aab0068487f60f06d9"
       ],
       "layout": "IPY_MODEL_f585f742e5114c8488bb9db337c7d91d"
      }
     },
     "085318de59f0494eb5f71b82a1716eb1": {
      "model_module": "@jupyter-widgets/base",
      "model_module_version": "1.1.0",
      "model_name": "LayoutModel",
      "state": {}
     },
     "09293f96d7c54bff9ee78a3e32160305": {
      "model_module": "@jupyter-widgets/controls",
      "model_module_version": "1.4.0",
      "model_name": "DescriptionStyleModel",
      "state": {
       "description_width": ""
      }
     },
     "11fdfcb672114532add7065915050f45": {
      "model_module": "@jupyter-widgets/controls",
      "model_module_version": "1.4.0",
      "model_name": "HBoxModel",
      "state": {
       "children": [
        "IPY_MODEL_94e0a30d17614d15a5a7d1ff70d1c45e",
        "IPY_MODEL_00d006fec38f462897e01827016f4f15"
       ],
       "layout": "IPY_MODEL_fea77cbf6b9f4e589893f8b88bc84e8f"
      }
     },
     "1267d6c110bd4dfaa8865b274633fc16": {
      "model_module": "@jupyter-widgets/base",
      "model_module_version": "1.1.0",
      "model_name": "LayoutModel",
      "state": {}
     },
     "14498c67aa3740cd9b9ed57119a98ab1": {
      "model_module": "@jupyter-widgets/controls",
      "model_module_version": "1.4.0",
      "model_name": "ProgressStyleModel",
      "state": {
       "description_width": ""
      }
     },
     "16207d027fea46649ac14c704452fefc": {
      "model_module": "@jupyter-widgets/controls",
      "model_module_version": "1.4.0",
      "model_name": "HTMLModel",
      "state": {
       "layout": "IPY_MODEL_cc946a0c1fb2494c8c39be6b0b15f85e",
       "style": "IPY_MODEL_994ce08cf9fc49fd826f96861ea702fa",
       "value": "100% 1632/1632 [1:52:43&lt;00:00,  4.14s/it]"
      }
     },
     "19954c906108487a9c6f3b4961fb4c82": {
      "model_module": "@jupyter-widgets/controls",
      "model_module_version": "1.4.0",
      "model_name": "DescriptionStyleModel",
      "state": {
       "description_width": ""
      }
     },
     "1c139fa965e24dfb926073e6545c8e96": {
      "model_module": "@jupyter-widgets/controls",
      "model_module_version": "1.4.0",
      "model_name": "HBoxModel",
      "state": {
       "children": [
        "IPY_MODEL_84951f976ac14258b389b372bfc803b4",
        "IPY_MODEL_6a6072a2e90f4a6c9aab1b91eb7bf1c2"
       ],
       "layout": "IPY_MODEL_b2d7117a571b44d68938523a14ca6d4c"
      }
     },
     "1c753caa2d5b4ffbb4248d5e532f8efb": {
      "model_module": "@jupyter-widgets/controls",
      "model_module_version": "1.4.0",
      "model_name": "ProgressStyleModel",
      "state": {
       "description_width": ""
      }
     },
     "1e33fde578ff42698f05a045ac1e96e3": {
      "model_module": "@jupyter-widgets/controls",
      "model_module_version": "1.4.0",
      "model_name": "IntProgressModel",
      "state": {
       "bar_style": "danger",
       "layout": "IPY_MODEL_4458841c29724d2499cfb8ee09ca49fb",
       "max": 10,
       "style": "IPY_MODEL_6d63df3cf6e544c8a52e7f76d387f9ff",
       "value": 5
      }
     },
     "211988f8d2d740daa24bdedbdb19fd2f": {
      "model_module": "@jupyter-widgets/controls",
      "model_module_version": "1.4.0",
      "model_name": "DescriptionStyleModel",
      "state": {
       "description_width": ""
      }
     },
     "2298a487a1fc42618ba63ad8f6d9f044": {
      "model_module": "@jupyter-widgets/controls",
      "model_module_version": "1.4.0",
      "model_name": "HTMLModel",
      "state": {
       "layout": "IPY_MODEL_438d98089c5a4ba9a6f93969cb7bbd41",
       "style": "IPY_MODEL_b0ddc81087f44510aad4b001634361e1",
       "value": "100% 1632/1632 [1:52:46&lt;00:00,  4.15s/it]"
      }
     },
     "24768b0ab10c4a9bb117912131d0b429": {
      "model_module": "@jupyter-widgets/controls",
      "model_module_version": "1.4.0",
      "model_name": "IntProgressModel",
      "state": {
       "layout": "IPY_MODEL_52ab227de0634dfcb5e7707c2e63b7bc",
       "max": 1632,
       "style": "IPY_MODEL_1c753caa2d5b4ffbb4248d5e532f8efb",
       "value": 1632
      }
     },
     "2526d6214e1b4619940c823852f1fd73": {
      "model_module": "@jupyter-widgets/controls",
      "model_module_version": "1.4.0",
      "model_name": "DescriptionStyleModel",
      "state": {
       "description_width": ""
      }
     },
     "2626d0d0e057491cb45f4ce8a37249eb": {
      "model_module": "@jupyter-widgets/base",
      "model_module_version": "1.1.0",
      "model_name": "LayoutModel",
      "state": {}
     },
     "29448d45adb04b40854c8a584e8a0b58": {
      "model_module": "@jupyter-widgets/controls",
      "model_module_version": "1.4.0",
      "model_name": "ProgressStyleModel",
      "state": {
       "description_width": ""
      }
     },
     "2bdbc901ca2a48c99f5665d422e5291c": {
      "model_module": "@jupyter-widgets/controls",
      "model_module_version": "1.4.0",
      "model_name": "HTMLModel",
      "state": {
       "layout": "IPY_MODEL_f40eecd9685d4c4383a0bbdddc7b7a78",
       "style": "IPY_MODEL_211988f8d2d740daa24bdedbdb19fd2f",
       "value": "100% 1632/1632 [1:55:17&lt;00:00,  4.24s/it]"
      }
     },
     "2f01406854ec456ba829d4b515ce8f89": {
      "model_module": "@jupyter-widgets/base",
      "model_module_version": "1.1.0",
      "model_name": "LayoutModel",
      "state": {}
     },
     "300455f98d374449860b23befc778ddc": {
      "model_module": "@jupyter-widgets/controls",
      "model_module_version": "1.4.0",
      "model_name": "ProgressStyleModel",
      "state": {
       "description_width": ""
      }
     },
     "30f7acb4f836466491b300bfb4887a5b": {
      "model_module": "@jupyter-widgets/controls",
      "model_module_version": "1.4.0",
      "model_name": "ProgressStyleModel",
      "state": {
       "description_width": ""
      }
     },
     "310070b6bc0c47cda10db050bf60eb33": {
      "model_module": "@jupyter-widgets/controls",
      "model_module_version": "1.4.0",
      "model_name": "ProgressStyleModel",
      "state": {
       "description_width": ""
      }
     },
     "31110227c7934545bbba37c4b5065085": {
      "model_module": "@jupyter-widgets/controls",
      "model_module_version": "1.4.0",
      "model_name": "HTMLModel",
      "state": {
       "layout": "IPY_MODEL_8ec6ecbdc6d6489e90da83f8cdc4510f",
       "style": "IPY_MODEL_514e5cbacc7042b18cdd07164897c16a",
       "value": "100% 1632/1632 [1:56:24&lt;00:00,  4.28s/it]"
      }
     },
     "3566940b2fea41a3b0e54397fe30b5c3": {
      "model_module": "@jupyter-widgets/base",
      "model_module_version": "1.1.0",
      "model_name": "LayoutModel",
      "state": {}
     },
     "3600a06f99ec47bea9ce378644912757": {
      "model_module": "@jupyter-widgets/controls",
      "model_module_version": "1.4.0",
      "model_name": "HTMLModel",
      "state": {
       "layout": "IPY_MODEL_cce1499180634e62b70c0e1839a3f833",
       "style": "IPY_MODEL_3f24f8e63f254348857bc47db5a4a5bf",
       "value": "100% 551/551 [29:29&lt;00:00,  3.21s/it]"
      }
     },
     "37271572d9fc422288c16f27a324ffd5": {
      "model_module": "@jupyter-widgets/base",
      "model_module_version": "1.1.0",
      "model_name": "LayoutModel",
      "state": {}
     },
     "38ca6019a2bf4d559f7da072cea380f0": {
      "model_module": "@jupyter-widgets/base",
      "model_module_version": "1.1.0",
      "model_name": "LayoutModel",
      "state": {}
     },
     "3a2408392c73409e8fbd5d9979ba0250": {
      "model_module": "@jupyter-widgets/controls",
      "model_module_version": "1.4.0",
      "model_name": "HTMLModel",
      "state": {
       "layout": "IPY_MODEL_6aba54fd7eff4d59a0fd036a81871c97",
       "style": "IPY_MODEL_a3727b4098484fd7801ee3b8d2b88530",
       "value": "100% 551/551 [31:09&lt;00:00,  3.39s/it]"
      }
     },
     "3b1bd1ccebaa4738a036342af2fe715b": {
      "model_module": "@jupyter-widgets/base",
      "model_module_version": "1.1.0",
      "model_name": "LayoutModel",
      "state": {}
     },
     "3e68a3423df04c978299ca28b935ada7": {
      "model_module": "@jupyter-widgets/controls",
      "model_module_version": "1.4.0",
      "model_name": "IntProgressModel",
      "state": {
       "layout": "IPY_MODEL_2f01406854ec456ba829d4b515ce8f89",
       "max": 551,
       "style": "IPY_MODEL_30f7acb4f836466491b300bfb4887a5b",
       "value": 551
      }
     },
     "3f24f8e63f254348857bc47db5a4a5bf": {
      "model_module": "@jupyter-widgets/controls",
      "model_module_version": "1.4.0",
      "model_name": "DescriptionStyleModel",
      "state": {
       "description_width": ""
      }
     },
     "40a617c7497842e09dbe7dfe59599bd8": {
      "model_module": "@jupyter-widgets/controls",
      "model_module_version": "1.4.0",
      "model_name": "ProgressStyleModel",
      "state": {
       "description_width": ""
      }
     },
     "40b9e44f17534813992d7364e0456371": {
      "model_module": "@jupyter-widgets/controls",
      "model_module_version": "1.4.0",
      "model_name": "IntProgressModel",
      "state": {
       "layout": "IPY_MODEL_45fb0890aa1343309af528be92ed7504",
       "max": 1632,
       "style": "IPY_MODEL_fcdb6fe01c224519abe7a1246767af37",
       "value": 1632
      }
     },
     "40c26ae3a1ae4bd29cc0a855e440fcdd": {
      "model_module": "@jupyter-widgets/controls",
      "model_module_version": "1.4.0",
      "model_name": "HTMLModel",
      "state": {
       "layout": "IPY_MODEL_02ef597a00e946c4b1e2922a7b0b8a80",
       "style": "IPY_MODEL_cf50c6fb259c4a71ba9685019424eadb",
       "value": " 50% 5/10 [2:56:06&lt;2:56:06, 2113.25s/it]"
      }
     },
     "4171bb25093a47e6924cf0de077ebf1d": {
      "model_module": "@jupyter-widgets/controls",
      "model_module_version": "1.4.0",
      "model_name": "HTMLModel",
      "state": {
       "layout": "IPY_MODEL_43c642d315c640d68e67624ca009b243",
       "style": "IPY_MODEL_5530c849458b4518ab16df98dfaa661d",
       "value": "  1% 9/1632 [00:41&lt;2:04:07,  4.59s/it]"
      }
     },
     "438d98089c5a4ba9a6f93969cb7bbd41": {
      "model_module": "@jupyter-widgets/base",
      "model_module_version": "1.1.0",
      "model_name": "LayoutModel",
      "state": {}
     },
     "43c642d315c640d68e67624ca009b243": {
      "model_module": "@jupyter-widgets/base",
      "model_module_version": "1.1.0",
      "model_name": "LayoutModel",
      "state": {}
     },
     "4458841c29724d2499cfb8ee09ca49fb": {
      "model_module": "@jupyter-widgets/base",
      "model_module_version": "1.1.0",
      "model_name": "LayoutModel",
      "state": {}
     },
     "45fb0890aa1343309af528be92ed7504": {
      "model_module": "@jupyter-widgets/base",
      "model_module_version": "1.1.0",
      "model_name": "LayoutModel",
      "state": {}
     },
     "47bdae14be554c7c97480ebace079173": {
      "model_module": "@jupyter-widgets/controls",
      "model_module_version": "1.4.0",
      "model_name": "ProgressStyleModel",
      "state": {
       "description_width": ""
      }
     },
     "48f582ad0c9141e19f95b7180e37627f": {
      "model_module": "@jupyter-widgets/base",
      "model_module_version": "1.1.0",
      "model_name": "LayoutModel",
      "state": {}
     },
     "4a60cad58d944136b13be47f1999840a": {
      "model_module": "@jupyter-widgets/controls",
      "model_module_version": "1.4.0",
      "model_name": "ProgressStyleModel",
      "state": {
       "description_width": ""
      }
     },
     "4f5caccded384a50b2488070bae525f0": {
      "model_module": "@jupyter-widgets/base",
      "model_module_version": "1.1.0",
      "model_name": "LayoutModel",
      "state": {}
     },
     "514e5cbacc7042b18cdd07164897c16a": {
      "model_module": "@jupyter-widgets/controls",
      "model_module_version": "1.4.0",
      "model_name": "DescriptionStyleModel",
      "state": {
       "description_width": ""
      }
     },
     "51e08adaa7f0402b83cb976faae4904d": {
      "model_module": "@jupyter-widgets/controls",
      "model_module_version": "1.4.0",
      "model_name": "HBoxModel",
      "state": {
       "children": [
        "IPY_MODEL_c504cd8c39804079a93085c35c55e1c7",
        "IPY_MODEL_4171bb25093a47e6924cf0de077ebf1d"
       ],
       "layout": "IPY_MODEL_1267d6c110bd4dfaa8865b274633fc16"
      }
     },
     "52ab227de0634dfcb5e7707c2e63b7bc": {
      "model_module": "@jupyter-widgets/base",
      "model_module_version": "1.1.0",
      "model_name": "LayoutModel",
      "state": {}
     },
     "5530c849458b4518ab16df98dfaa661d": {
      "model_module": "@jupyter-widgets/controls",
      "model_module_version": "1.4.0",
      "model_name": "DescriptionStyleModel",
      "state": {
       "description_width": ""
      }
     },
     "5ab16cbd1d6945d7893921694053383c": {
      "model_module": "@jupyter-widgets/controls",
      "model_module_version": "1.4.0",
      "model_name": "ProgressStyleModel",
      "state": {
       "description_width": ""
      }
     },
     "5c3d20d558ff436a939312c864efc5ab": {
      "model_module": "@jupyter-widgets/base",
      "model_module_version": "1.1.0",
      "model_name": "LayoutModel",
      "state": {}
     },
     "5daffb1cd44241d7acaa939ebca1f5ad": {
      "model_module": "@jupyter-widgets/base",
      "model_module_version": "1.1.0",
      "model_name": "LayoutModel",
      "state": {}
     },
     "601d5c1de4dd417f81a8e0ea95bc47f5": {
      "model_module": "@jupyter-widgets/controls",
      "model_module_version": "1.4.0",
      "model_name": "HTMLModel",
      "state": {
       "layout": "IPY_MODEL_3b1bd1ccebaa4738a036342af2fe715b",
       "style": "IPY_MODEL_09293f96d7c54bff9ee78a3e32160305",
       "value": "100% 551/551 [43:33&lt;00:00,  4.74s/it]"
      }
     },
     "62702a7f567149b0bc96bc83d15e0bda": {
      "model_module": "@jupyter-widgets/controls",
      "model_module_version": "1.4.0",
      "model_name": "DescriptionStyleModel",
      "state": {
       "description_width": ""
      }
     },
     "6463715d61ad462d81461ad7b35f64c4": {
      "model_module": "@jupyter-widgets/base",
      "model_module_version": "1.1.0",
      "model_name": "LayoutModel",
      "state": {}
     },
     "65614f6cee264767bcca206424765e2e": {
      "model_module": "@jupyter-widgets/controls",
      "model_module_version": "1.4.0",
      "model_name": "IntProgressModel",
      "state": {
       "layout": "IPY_MODEL_7d79b4d75f6949a4aee20e7d5750ea7e",
       "max": 551,
       "style": "IPY_MODEL_5ab16cbd1d6945d7893921694053383c",
       "value": 551
      }
     },
     "67d4a99b48cd4c909f976dd35ada705d": {
      "model_module": "@jupyter-widgets/controls",
      "model_module_version": "1.4.0",
      "model_name": "ProgressStyleModel",
      "state": {
       "description_width": ""
      }
     },
     "6a30a88c982448119b909a71923ecff1": {
      "model_module": "@jupyter-widgets/controls",
      "model_module_version": "1.4.0",
      "model_name": "HBoxModel",
      "state": {
       "children": [
        "IPY_MODEL_1e33fde578ff42698f05a045ac1e96e3",
        "IPY_MODEL_40c26ae3a1ae4bd29cc0a855e440fcdd"
       ],
       "layout": "IPY_MODEL_38ca6019a2bf4d559f7da072cea380f0"
      }
     },
     "6a6072a2e90f4a6c9aab1b91eb7bf1c2": {
      "model_module": "@jupyter-widgets/controls",
      "model_module_version": "1.4.0",
      "model_name": "HTMLModel",
      "state": {
       "layout": "IPY_MODEL_7d70f52e14e24962be5eb1159d2099b2",
       "style": "IPY_MODEL_19954c906108487a9c6f3b4961fb4c82",
       "value": "100% 5/5 [9:36:26&lt;00:00, 6917.32s/it]"
      }
     },
     "6aba54fd7eff4d59a0fd036a81871c97": {
      "model_module": "@jupyter-widgets/base",
      "model_module_version": "1.1.0",
      "model_name": "LayoutModel",
      "state": {}
     },
     "6d63df3cf6e544c8a52e7f76d387f9ff": {
      "model_module": "@jupyter-widgets/controls",
      "model_module_version": "1.4.0",
      "model_name": "ProgressStyleModel",
      "state": {
       "description_width": ""
      }
     },
     "71a3c8a3c9e747ea9b64bcabe17a0337": {
      "model_module": "@jupyter-widgets/controls",
      "model_module_version": "1.4.0",
      "model_name": "IntProgressModel",
      "state": {
       "layout": "IPY_MODEL_d42c2cfe05e54391924a778ec8e6c725",
       "max": 1632,
       "style": "IPY_MODEL_14498c67aa3740cd9b9ed57119a98ab1",
       "value": 1632
      }
     },
     "76b06f824b384e16a368dbce10ecf8a2": {
      "model_module": "@jupyter-widgets/controls",
      "model_module_version": "1.4.0",
      "model_name": "IntProgressModel",
      "state": {
       "layout": "IPY_MODEL_be10499250f24ae9b16fb79e771a8120",
       "max": 551,
       "style": "IPY_MODEL_df91c78c17e645178f924026e6785f72",
       "value": 551
      }
     },
     "7d70f52e14e24962be5eb1159d2099b2": {
      "model_module": "@jupyter-widgets/base",
      "model_module_version": "1.1.0",
      "model_name": "LayoutModel",
      "state": {}
     },
     "7d79b4d75f6949a4aee20e7d5750ea7e": {
      "model_module": "@jupyter-widgets/base",
      "model_module_version": "1.1.0",
      "model_name": "LayoutModel",
      "state": {}
     },
     "7f9a8ddc4aa7488db08ad5820e846488": {
      "model_module": "@jupyter-widgets/base",
      "model_module_version": "1.1.0",
      "model_name": "LayoutModel",
      "state": {}
     },
     "84951f976ac14258b389b372bfc803b4": {
      "model_module": "@jupyter-widgets/controls",
      "model_module_version": "1.4.0",
      "model_name": "IntProgressModel",
      "state": {
       "bar_style": "success",
       "layout": "IPY_MODEL_dcf52dcb4d8e40889518d017df6fc396",
       "max": 5,
       "style": "IPY_MODEL_29448d45adb04b40854c8a584e8a0b58",
       "value": 5
      }
     },
     "84b6435148f14ada93c64cc4339ef176": {
      "model_module": "@jupyter-widgets/controls",
      "model_module_version": "1.4.0",
      "model_name": "IntProgressModel",
      "state": {
       "layout": "IPY_MODEL_e66eb095a2884f2895d40bfe57b86549",
       "max": 1632,
       "style": "IPY_MODEL_47bdae14be554c7c97480ebace079173",
       "value": 1632
      }
     },
     "8651869ca15b47bbb08dcc506e7d75b5": {
      "model_module": "@jupyter-widgets/base",
      "model_module_version": "1.1.0",
      "model_name": "LayoutModel",
      "state": {}
     },
     "8a5a32663ea842d7822a8c91abed6a43": {
      "model_module": "@jupyter-widgets/base",
      "model_module_version": "1.1.0",
      "model_name": "LayoutModel",
      "state": {}
     },
     "8d387fb4432043659be9ed30ead5fac2": {
      "model_module": "@jupyter-widgets/controls",
      "model_module_version": "1.4.0",
      "model_name": "DescriptionStyleModel",
      "state": {
       "description_width": ""
      }
     },
     "8ec6ecbdc6d6489e90da83f8cdc4510f": {
      "model_module": "@jupyter-widgets/base",
      "model_module_version": "1.1.0",
      "model_name": "LayoutModel",
      "state": {}
     },
     "8f8597b27e58472fbf72cebe5e26f951": {
      "model_module": "@jupyter-widgets/base",
      "model_module_version": "1.1.0",
      "model_name": "LayoutModel",
      "state": {}
     },
     "94abe6947a874607b2554d38b739c472": {
      "model_module": "@jupyter-widgets/controls",
      "model_module_version": "1.4.0",
      "model_name": "HTMLModel",
      "state": {
       "layout": "IPY_MODEL_4f5caccded384a50b2488070bae525f0",
       "style": "IPY_MODEL_2526d6214e1b4619940c823852f1fd73",
       "value": "100% 551/551 [38:00&lt;00:00,  4.14s/it]"
      }
     },
     "94e0a30d17614d15a5a7d1ff70d1c45e": {
      "model_module": "@jupyter-widgets/controls",
      "model_module_version": "1.4.0",
      "model_name": "IntProgressModel",
      "state": {
       "bar_style": "danger",
       "layout": "IPY_MODEL_8f8597b27e58472fbf72cebe5e26f951",
       "max": 551,
       "style": "IPY_MODEL_4a60cad58d944136b13be47f1999840a",
       "value": 4
      }
     },
     "994ce08cf9fc49fd826f96861ea702fa": {
      "model_module": "@jupyter-widgets/controls",
      "model_module_version": "1.4.0",
      "model_name": "DescriptionStyleModel",
      "state": {
       "description_width": ""
      }
     },
     "9d95a555687d432d8ebcb3718f6e9a66": {
      "model_module": "@jupyter-widgets/base",
      "model_module_version": "1.1.0",
      "model_name": "LayoutModel",
      "state": {}
     },
     "9de060d9adc045aeb2ccbef308031ca2": {
      "model_module": "@jupyter-widgets/base",
      "model_module_version": "1.1.0",
      "model_name": "LayoutModel",
      "state": {}
     },
     "a1a3368038194aaa944c68ed1596cd20": {
      "model_module": "@jupyter-widgets/controls",
      "model_module_version": "1.4.0",
      "model_name": "IntProgressModel",
      "state": {
       "bar_style": "danger",
       "layout": "IPY_MODEL_2626d0d0e057491cb45f4ce8a37249eb",
       "max": 10,
       "style": "IPY_MODEL_67d4a99b48cd4c909f976dd35ada705d"
      }
     },
     "a3727b4098484fd7801ee3b8d2b88530": {
      "model_module": "@jupyter-widgets/controls",
      "model_module_version": "1.4.0",
      "model_name": "DescriptionStyleModel",
      "state": {
       "description_width": ""
      }
     },
     "a9317c44f5a34b168d6eb1eb576f825b": {
      "model_module": "@jupyter-widgets/controls",
      "model_module_version": "1.4.0",
      "model_name": "ProgressStyleModel",
      "state": {
       "description_width": ""
      }
     },
     "ab68f9c353f94acdbb205ce14361ae97": {
      "model_module": "@jupyter-widgets/controls",
      "model_module_version": "1.4.0",
      "model_name": "HTMLModel",
      "state": {
       "layout": "IPY_MODEL_37271572d9fc422288c16f27a324ffd5",
       "style": "IPY_MODEL_d3783da7ce904b1ca9112fc38e721815",
       "value": "100% 551/551 [33:52&lt;00:00,  3.69s/it]"
      }
     },
     "ae50ff6b1d984de38cbd21f123c63ff9": {
      "model_module": "@jupyter-widgets/base",
      "model_module_version": "1.1.0",
      "model_name": "LayoutModel",
      "state": {}
     },
     "af485ce7386648aab0068487f60f06d9": {
      "model_module": "@jupyter-widgets/controls",
      "model_module_version": "1.4.0",
      "model_name": "HTMLModel",
      "state": {
       "layout": "IPY_MODEL_f4f060cf4d384acd9504ca162e09cbf6",
       "style": "IPY_MODEL_8d387fb4432043659be9ed30ead5fac2",
       "value": "  0% 0/10 [00:00&lt;?, ?it/s]"
      }
     },
     "b0ddc81087f44510aad4b001634361e1": {
      "model_module": "@jupyter-widgets/controls",
      "model_module_version": "1.4.0",
      "model_name": "DescriptionStyleModel",
      "state": {
       "description_width": ""
      }
     },
     "b2d7117a571b44d68938523a14ca6d4c": {
      "model_module": "@jupyter-widgets/base",
      "model_module_version": "1.1.0",
      "model_name": "LayoutModel",
      "state": {}
     },
     "b8161d99bdc44ba69e606fdce83aeb2e": {
      "model_module": "@jupyter-widgets/base",
      "model_module_version": "1.1.0",
      "model_name": "LayoutModel",
      "state": {}
     },
     "be10499250f24ae9b16fb79e771a8120": {
      "model_module": "@jupyter-widgets/base",
      "model_module_version": "1.1.0",
      "model_name": "LayoutModel",
      "state": {}
     },
     "bf60db2c3ed444928dc39b304647aff9": {
      "model_module": "@jupyter-widgets/controls",
      "model_module_version": "1.4.0",
      "model_name": "IntProgressModel",
      "state": {
       "layout": "IPY_MODEL_9d95a555687d432d8ebcb3718f6e9a66",
       "max": 551,
       "style": "IPY_MODEL_300455f98d374449860b23befc778ddc",
       "value": 551
      }
     },
     "c504cd8c39804079a93085c35c55e1c7": {
      "model_module": "@jupyter-widgets/controls",
      "model_module_version": "1.4.0",
      "model_name": "IntProgressModel",
      "state": {
       "bar_style": "danger",
       "layout": "IPY_MODEL_7f9a8ddc4aa7488db08ad5820e846488",
       "max": 1632,
       "style": "IPY_MODEL_40a617c7497842e09dbe7dfe59599bd8",
       "value": 9
      }
     },
     "cc946a0c1fb2494c8c39be6b0b15f85e": {
      "model_module": "@jupyter-widgets/base",
      "model_module_version": "1.1.0",
      "model_name": "LayoutModel",
      "state": {}
     },
     "cce1499180634e62b70c0e1839a3f833": {
      "model_module": "@jupyter-widgets/base",
      "model_module_version": "1.1.0",
      "model_name": "LayoutModel",
      "state": {}
     },
     "cf50c6fb259c4a71ba9685019424eadb": {
      "model_module": "@jupyter-widgets/controls",
      "model_module_version": "1.4.0",
      "model_name": "DescriptionStyleModel",
      "state": {
       "description_width": ""
      }
     },
     "d3783da7ce904b1ca9112fc38e721815": {
      "model_module": "@jupyter-widgets/controls",
      "model_module_version": "1.4.0",
      "model_name": "DescriptionStyleModel",
      "state": {
       "description_width": ""
      }
     },
     "d42c2cfe05e54391924a778ec8e6c725": {
      "model_module": "@jupyter-widgets/base",
      "model_module_version": "1.1.0",
      "model_name": "LayoutModel",
      "state": {}
     },
     "d6d110e829fe4dcab75418d82384a0cc": {
      "model_module": "@jupyter-widgets/controls",
      "model_module_version": "1.4.0",
      "model_name": "IntProgressModel",
      "state": {
       "layout": "IPY_MODEL_b8161d99bdc44ba69e606fdce83aeb2e",
       "max": 551,
       "style": "IPY_MODEL_a9317c44f5a34b168d6eb1eb576f825b",
       "value": 551
      }
     },
     "d887775a1fef4c07bee35a62a2ce3370": {
      "model_module": "@jupyter-widgets/base",
      "model_module_version": "1.1.0",
      "model_name": "LayoutModel",
      "state": {}
     },
     "dcf52dcb4d8e40889518d017df6fc396": {
      "model_module": "@jupyter-widgets/base",
      "model_module_version": "1.1.0",
      "model_name": "LayoutModel",
      "state": {}
     },
     "df91c78c17e645178f924026e6785f72": {
      "model_module": "@jupyter-widgets/controls",
      "model_module_version": "1.4.0",
      "model_name": "ProgressStyleModel",
      "state": {
       "description_width": ""
      }
     },
     "e66eb095a2884f2895d40bfe57b86549": {
      "model_module": "@jupyter-widgets/base",
      "model_module_version": "1.1.0",
      "model_name": "LayoutModel",
      "state": {}
     },
     "ed17fbe58270474a88eb6a5768f951ff": {
      "model_module": "@jupyter-widgets/base",
      "model_module_version": "1.1.0",
      "model_name": "LayoutModel",
      "state": {}
     },
     "f11f49e223de434a990becdcf59f39d3": {
      "model_module": "@jupyter-widgets/controls",
      "model_module_version": "1.4.0",
      "model_name": "DescriptionStyleModel",
      "state": {
       "description_width": ""
      }
     },
     "f2bc787f33724b90898d2635ce8e54c3": {
      "model_module": "@jupyter-widgets/controls",
      "model_module_version": "1.4.0",
      "model_name": "HTMLModel",
      "state": {
       "layout": "IPY_MODEL_085318de59f0494eb5f71b82a1716eb1",
       "style": "IPY_MODEL_62702a7f567149b0bc96bc83d15e0bda",
       "value": "100% 1632/1632 [1:59:14&lt;00:00,  4.38s/it]"
      }
     },
     "f40eecd9685d4c4383a0bbdddc7b7a78": {
      "model_module": "@jupyter-widgets/base",
      "model_module_version": "1.1.0",
      "model_name": "LayoutModel",
      "state": {}
     },
     "f4f060cf4d384acd9504ca162e09cbf6": {
      "model_module": "@jupyter-widgets/base",
      "model_module_version": "1.1.0",
      "model_name": "LayoutModel",
      "state": {}
     },
     "f585f742e5114c8488bb9db337c7d91d": {
      "model_module": "@jupyter-widgets/base",
      "model_module_version": "1.1.0",
      "model_name": "LayoutModel",
      "state": {}
     },
     "fcdb6fe01c224519abe7a1246767af37": {
      "model_module": "@jupyter-widgets/controls",
      "model_module_version": "1.4.0",
      "model_name": "ProgressStyleModel",
      "state": {
       "description_width": ""
      }
     },
     "fea77cbf6b9f4e589893f8b88bc84e8f": {
      "model_module": "@jupyter-widgets/base",
      "model_module_version": "1.1.0",
      "model_name": "LayoutModel",
      "state": {}
     }
    },
    "version_major": 2,
    "version_minor": 0
   }
  }
 },
 "nbformat": 4,
 "nbformat_minor": 2
}
