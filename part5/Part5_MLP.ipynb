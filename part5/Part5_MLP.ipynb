{
 "cells": [
  {
   "cell_type": "markdown",
   "metadata": {},
   "source": [
    "* Data cleaning\n",
    "* word2vec\n",
    "* Batch updates\n",
    "* No MTL\n",
    "* No weighting"
   ]
  },
  {
   "cell_type": "code",
   "execution_count": 1,
   "metadata": {},
   "outputs": [],
   "source": [
    "%matplotlib inline\n",
    "import numpy as np\n",
    "import matplotlib.pyplot as plt\n",
    "import os\n",
    "import re\n",
    "import itertools\n",
    "from collections import defaultdict, OrderedDict\n",
    "from random import shuffle\n",
    "from tqdm import tqdm_notebook as tqdm, tnrange as trange\n",
    "from sklearn.metrics import confusion_matrix\n",
    "\n",
    "import sys\n",
    "sys.path.insert(0, '..')\n",
    "from evalResult import get_predicted, get_observed\n",
    "plt.style.use('seaborn')"
   ]
  },
  {
   "cell_type": "code",
   "execution_count": 2,
   "metadata": {},
   "outputs": [],
   "source": [
    "dataset = 'EN'"
   ]
  },
  {
   "cell_type": "markdown",
   "metadata": {},
   "source": [
    "## Hyperparameters\n",
    "Here for easy tuning."
   ]
  },
  {
   "cell_type": "code",
   "execution_count": 3,
   "metadata": {},
   "outputs": [],
   "source": [
    "lr = 0.01\n",
    "batch_size = 64\n",
    "n_epochs = 10"
   ]
  },
  {
   "cell_type": "markdown",
   "metadata": {},
   "source": [
    "## Data"
   ]
  },
  {
   "cell_type": "markdown",
   "metadata": {},
   "source": [
    "### Cleaning\n",
    "Prepare words for cleaning. Specifically, find\n",
    "1. ~~stopwords~~\n",
    "1. punctuation\n",
    "1. hashtags\n",
    "1. @ mentions\n",
    "1. numbers\n",
    "1. URLs"
   ]
  },
  {
   "cell_type": "code",
   "execution_count": 4,
   "metadata": {},
   "outputs": [],
   "source": [
    "re_punc = r'^[^a-zA-Z0-9]+$'\n",
    "re_hash = r'^#'\n",
    "re_at = r'^@'\n",
    "re_num = r'\\d'  # just remove all words with numbers\n",
    "re_url = r'(^http:|\\.com$)'"
   ]
  },
  {
   "cell_type": "code",
   "execution_count": 5,
   "metadata": {},
   "outputs": [],
   "source": [
    "def clean_word(w):\n",
    "    w = w.strip()\n",
    "    if re.match(re_punc, w):\n",
    "        return '#PUNC#'\n",
    "    if re.match(re_hash, w):\n",
    "        return '#HASH#'\n",
    "    if re.match(re_at, w):\n",
    "        return '#AT#'\n",
    "    if re.match(re_num, w):\n",
    "        return '#NUM#'\n",
    "    if re.match(re_url, w):\n",
    "        return '#URL#'\n",
    "    return w.lower()"
   ]
  },
  {
   "cell_type": "markdown",
   "metadata": {},
   "source": [
    "### I/O"
   ]
  },
  {
   "cell_type": "code",
   "execution_count": 6,
   "metadata": {},
   "outputs": [],
   "source": [
    "def parse(train_filename):\n",
    "    with open(train_filename, 'r') as f:\n",
    "        lines = f.readlines()\n",
    "\n",
    "    observations, states = defaultdict(int), defaultdict(int)\n",
    "    for line in lines:\n",
    "        data_split = line.strip().rsplit(' ', 1)\n",
    "        if len(data_split) == 2:\n",
    "            obs, state = data_split\n",
    "            observations[clean_word(obs)] += 1\n",
    "            states[state] += 1\n",
    "    return observations, states"
   ]
  },
  {
   "cell_type": "code",
   "execution_count": 7,
   "metadata": {},
   "outputs": [],
   "source": [
    "def read_file(filename, clean=True):\n",
    "    with open(filename, 'r') as f:\n",
    "        lines = f.readlines()\n",
    "        \n",
    "    sentence, label = [], []\n",
    "    sentences, labels = [], []\n",
    "    for line in lines:\n",
    "        data_split = line.strip().rsplit(' ', 1)\n",
    "        if len(data_split) == 2:\n",
    "            word, state = data_split\n",
    "            if clean:\n",
    "                word = clean_word(word)\n",
    "            sentence.append(word)\n",
    "            label.append(state)\n",
    "        else:\n",
    "            sentences.append(sentence)\n",
    "            labels.append(label)\n",
    "            sentence = []\n",
    "            label = []\n",
    "    return sentences, labels"
   ]
  },
  {
   "cell_type": "markdown",
   "metadata": {},
   "source": [
    "### Train data"
   ]
  },
  {
   "cell_type": "code",
   "execution_count": 8,
   "metadata": {},
   "outputs": [],
   "source": [
    "train_filename = f'../data/{dataset}/train'\n",
    "\n",
    "observations, states = parse(train_filename)"
   ]
  },
  {
   "cell_type": "code",
   "execution_count": 9,
   "metadata": {
    "scrolled": true
   },
   "outputs": [
    {
     "data": {
      "text/plain": [
       "(['rt', '#AT#', '#PUNC#', 'encore', '#PUNC#'], ['O', 'O', 'O', 'B-INTJ', 'O'])"
      ]
     },
     "execution_count": 9,
     "metadata": {},
     "output_type": "execute_result"
    }
   ],
   "source": [
    "train_sentences, train_labels = read_file(train_filename)\n",
    "train_sentences[0][:5], train_labels[0][:5]"
   ]
  },
  {
   "cell_type": "markdown",
   "metadata": {},
   "source": [
    "### Validation data"
   ]
  },
  {
   "cell_type": "code",
   "execution_count": 10,
   "metadata": {
    "scrolled": true
   },
   "outputs": [
    {
     "data": {
      "text/plain": [
       "(['no', 'saints', 'r', '#PUNC#', 'buch'],\n",
       " ['B-NP', 'I-NP', 'I-NP', 'O', 'B-NP'])"
      ]
     },
     "execution_count": 10,
     "metadata": {},
     "output_type": "execute_result"
    }
   ],
   "source": [
    "val_filename = f'../data/{dataset}/dev.out'\n",
    "val_sentences, val_labels = read_file(val_filename)\n",
    "val_sentences[0][:5], val_labels[0][:5]"
   ]
  },
  {
   "cell_type": "code",
   "execution_count": 11,
   "metadata": {},
   "outputs": [],
   "source": [
    "out_filename = f'../data/{dataset}/dev.p5.out'"
   ]
  },
  {
   "cell_type": "markdown",
   "metadata": {},
   "source": [
    "## Encoding"
   ]
  },
  {
   "cell_type": "code",
   "execution_count": 12,
   "metadata": {},
   "outputs": [],
   "source": [
    "def one_hot_encode(n, depth):\n",
    "    a = np.zeros([depth])\n",
    "    a[n] = 1\n",
    "    return a"
   ]
  },
  {
   "cell_type": "markdown",
   "metadata": {},
   "source": [
    "### Encode words\n",
    "Create a vocabulary out of words that appear more than `1` time(s) in training. Each word now maps to an _integer_. Other words will be treated as `#UNK#`."
   ]
  },
  {
   "cell_type": "code",
   "execution_count": 13,
   "metadata": {},
   "outputs": [],
   "source": [
    "w2v_W = np.load(f'weights/word2vec/{dataset}/W.npy')\n",
    "w2v_U = np.load(f'weights/word2vec/{dataset}/U.npy')\n",
    "\n",
    "def word2vec(sentence):\n",
    "    \"\"\"\n",
    "    sentence: array of one-hot vectors [n_words, n_tokens]\n",
    "    \"\"\"\n",
    "    weights = 0.5 * (w2v_W + w2v_U.T)  # [300, n_tokens]\n",
    "    return sentence.dot(weights.T)  # [n_words, 300]"
   ]
  },
  {
   "cell_type": "code",
   "execution_count": 14,
   "metadata": {},
   "outputs": [],
   "source": [
    "def tokenize(token_mapping, sentence):\n",
    "    \"\"\"\n",
    "    Function to convert each word into its corresponding integer\n",
    "    If word is not found, return the value for '#UNK'\n",
    "    \"\"\"\n",
    "    return [token_mapping.get(w, token_mapping['#UNK#']) for w in sentence]\n",
    "\n",
    "\n",
    "\n",
    "def prepare_inputs(token_mapping, sentences):\n",
    "    \"\"\"\n",
    "    Converts a 2-D list of sentences (list of list of words)\n",
    "    to one-hot encoded tokens of shape [n_sentences, n_words, len(token_mapping), 1].\n",
    "    \"\"\"\n",
    "    tokens = [tokenize(token_mapping, sentence) for sentence in sentences] \n",
    "    \n",
    "    depth = len(token_mapping)\n",
    "    one_hot_tokens = []\n",
    "    for sentence in tokens:\n",
    "        one_hot_sentence = []\n",
    "        for i, token in enumerate(sentence):\n",
    "            if token != token_mapping['#UNK#']:\n",
    "                one_hot_sentence.append(one_hot_encode(token, depth))\n",
    "            else:\n",
    "                if i <= 2:\n",
    "                    context_tokens = sentence[:i] + sentence[i+1:i+3]\n",
    "                else:\n",
    "                    context_tokens = sentence[i-2:i] + sentence[i+1:i+3]\n",
    "                context_one_hot = [one_hot_encode(token, depth) for token in context_tokens]\n",
    "                context_mean = np.mean(np.asarray(context_one_hot), axis=0)\n",
    "                one_hot_sentence.append(context_mean)\n",
    "        one_hot_tokens.append(one_hot_sentence)\n",
    "    \n",
    "    one_hot_tokens = [np.asarray(ls) for ls in one_hot_tokens]\n",
    "    vec_tokens = [word2vec(sentence) for sentence in tqdm(one_hot_tokens)]\n",
    "    return vec_tokens"
   ]
  },
  {
   "cell_type": "code",
   "execution_count": 15,
   "metadata": {},
   "outputs": [
    {
     "data": {
      "text/plain": [
       "2504"
      ]
     },
     "execution_count": 15,
     "metadata": {},
     "output_type": "execute_result"
    }
   ],
   "source": [
    "min_freq = 0\n",
    "\n",
    "token_mapping = {}\n",
    "for word in observations:\n",
    "    if observations[word] > min_freq:  # appears more than once in training\n",
    "        token_mapping[word] = len(token_mapping)\n",
    "token_mapping['#UNK#'] = len(token_mapping)\n",
    "len(token_mapping)"
   ]
  },
  {
   "cell_type": "code",
   "execution_count": 16,
   "metadata": {
    "scrolled": false
   },
   "outputs": [
    {
     "data": {
      "application/vnd.jupyter.widget-view+json": {
       "model_id": "9de793f0fb684552b3a42fd935f387c4",
       "version_major": 2,
       "version_minor": 0
      },
      "text/plain": [
       "HBox(children=(IntProgress(value=0, max=551), HTML(value='')))"
      ]
     },
     "metadata": {},
     "output_type": "display_data"
    },
    {
     "name": "stdout",
     "output_type": "stream",
     "text": [
      "\n"
     ]
    },
    {
     "data": {
      "text/plain": [
       "(551, (25, 300))"
      ]
     },
     "execution_count": 16,
     "metadata": {},
     "output_type": "execute_result"
    }
   ],
   "source": [
    "X_train = prepare_inputs(token_mapping, train_sentences)\n",
    "len(X_train), X_train[0].shape"
   ]
  },
  {
   "cell_type": "markdown",
   "metadata": {},
   "source": [
    "### Encode labels\n",
    "Perform a similar encoding for the states:\n",
    "1. Map to integer\n",
    "1. Convert from integer to one-hot-encoding"
   ]
  },
  {
   "cell_type": "code",
   "execution_count": 17,
   "metadata": {},
   "outputs": [],
   "source": [
    "def prepare_labels(state_mapping, sequences):\n",
    "    \"\"\"\n",
    "    Convert each state from str to its corresponding int value.\n",
    "    Convert the int to a one-hot vector.\n",
    "    \"\"\"\n",
    "    encoded_labels = [[state_mapping[state] for state in label] for label in sequences]\n",
    "    \n",
    "    depth = len(state_mapping)\n",
    "    one_hot_labels = [[one_hot_encode(label, depth) for label in sequence] for sequence in encoded_labels]\n",
    "    one_hot_labels = [np.asarray(ls) for ls in one_hot_labels]\n",
    "    return one_hot_labels"
   ]
  },
  {
   "cell_type": "code",
   "execution_count": 18,
   "metadata": {},
   "outputs": [
    {
     "data": {
      "text/plain": [
       "{'O': 0,\n",
       " 'B-INTJ': 1,\n",
       " 'B-PP': 2,\n",
       " 'B-NP': 3,\n",
       " 'I-NP': 4,\n",
       " 'B-VP': 5,\n",
       " 'B-PRT': 6,\n",
       " 'I-VP': 7,\n",
       " 'B-ADJP': 8,\n",
       " 'B-SBAR': 9,\n",
       " 'B-ADVP': 10,\n",
       " 'I-INTJ': 11,\n",
       " 'B-CONJP': 12,\n",
       " 'I-CONJP': 13,\n",
       " 'I-ADVP': 14,\n",
       " 'I-ADJP': 15,\n",
       " 'I-SBAR': 16,\n",
       " 'I-PP': 17}"
      ]
     },
     "execution_count": 18,
     "metadata": {},
     "output_type": "execute_result"
    }
   ],
   "source": [
    "state_mapping = {state: i for i, state in enumerate(states)}\n",
    "state_mapping"
   ]
  },
  {
   "cell_type": "code",
   "execution_count": 19,
   "metadata": {},
   "outputs": [
    {
     "data": {
      "text/plain": [
       "(551, (25, 18))"
      ]
     },
     "execution_count": 19,
     "metadata": {},
     "output_type": "execute_result"
    }
   ],
   "source": [
    "y_train = prepare_labels(state_mapping, train_labels)\n",
    "len(y_train), y_train[0].shape"
   ]
  },
  {
   "cell_type": "markdown",
   "metadata": {},
   "source": [
    "### Validation\n",
    "Perform a similar encoding for validation data, based on the states and tokens of the training data."
   ]
  },
  {
   "cell_type": "code",
   "execution_count": 20,
   "metadata": {},
   "outputs": [
    {
     "data": {
      "application/vnd.jupyter.widget-view+json": {
       "model_id": "6f9fa15722a947628887e509e8020470",
       "version_major": 2,
       "version_minor": 0
      },
      "text/plain": [
       "HBox(children=(IntProgress(value=0, max=78), HTML(value='')))"
      ]
     },
     "metadata": {},
     "output_type": "display_data"
    },
    {
     "name": "stdout",
     "output_type": "stream",
     "text": [
      "\n"
     ]
    }
   ],
   "source": [
    "X_val = prepare_inputs(token_mapping, val_sentences)\n",
    "y_val = prepare_labels(state_mapping, val_labels)"
   ]
  },
  {
   "cell_type": "markdown",
   "metadata": {},
   "source": [
    "## MLP\n",
    "$$\n",
    "    x \\in \\mathbb{R}^{n \\times 300} \\\\\n",
    "    a_1, h_1, a_2, h_2 \\in \\mathbb{R}^{n \\times 128} \\\\\n",
    "$$\n",
    "$$\n",
    "    a_1 = xW + b \\\\\n",
    "    h_1 = \\text{ReLU}(a_1) \\\\\n",
    "$$\n",
    "$$\n",
    "    a_2 = h_1V + c \\\\\n",
    "    h_2 = \\text{ReLU}(a_2) \\\\\n",
    "$$\n",
    "$$\n",
    "    \\hat{y} = \\text{softmax}(h_2) \\\\\n",
    "$$"
   ]
  },
  {
   "cell_type": "code",
   "execution_count": 21,
   "metadata": {},
   "outputs": [],
   "source": [
    "def softmax(x):\n",
    "    e_x = np.exp(x - np.max(x, axis=1, keepdims=True))\n",
    "    return e_x / e_x.sum(axis=1, keepdims=True)"
   ]
  },
  {
   "cell_type": "markdown",
   "metadata": {},
   "source": [
    "### Initialization"
   ]
  },
  {
   "cell_type": "code",
   "execution_count": 22,
   "metadata": {},
   "outputs": [],
   "source": [
    "np.random.seed(0)\n",
    "\n",
    "n_hidden = 128  # number of hidden units\n",
    "# layer 1\n",
    "W = np.random.normal(0, 0.1, size=[300, n_hidden])\n",
    "b = np.ones(shape=[1, n_hidden]) * 0.1\n",
    "# layer 2\n",
    "V = np.random.normal(0, 0.1, size=[n_hidden, n_hidden])\n",
    "c = np.ones(shape=[1, n_hidden]) * 0.1\n",
    "# output layer\n",
    "U = np.random.normal(0, 0.1, size=[n_hidden, len(state_mapping)])\n",
    "d = np.ones(shape=[1, len(state_mapping)]) * 0.1"
   ]
  },
  {
   "cell_type": "code",
   "execution_count": 23,
   "metadata": {},
   "outputs": [],
   "source": [
    "model = (W, b, V, c, U, d)  # time for some unpacking magic"
   ]
  },
  {
   "cell_type": "markdown",
   "metadata": {},
   "source": [
    "### Forward"
   ]
  },
  {
   "cell_type": "code",
   "execution_count": 24,
   "metadata": {},
   "outputs": [
    {
     "data": {
      "text/plain": [
       "(25, 18)"
      ]
     },
     "execution_count": 24,
     "metadata": {},
     "output_type": "execute_result"
    }
   ],
   "source": [
    "def forward(W, b, V, c, U, d, x):\n",
    "    \"\"\"\n",
    "    Compute the outputs at each time step.\n",
    "    \n",
    "    x - shape [n, 300]\n",
    "    \"\"\"\n",
    "    a1 = x.dot(W) + b\n",
    "    h1 = a1 * (a1 >= 0)\n",
    "    \n",
    "    a2 = h1.dot(V) + c\n",
    "    h2 = a2 * (a2 >= 0)\n",
    "    \n",
    "    o = h2.dot(U) + d\n",
    "    y_ = softmax(o)\n",
    "    return y_\n",
    "\n",
    "y_ = forward(*model, x=X_train[0])\n",
    "y_.shape"
   ]
  },
  {
   "cell_type": "code",
   "execution_count": 25,
   "metadata": {},
   "outputs": [
    {
     "data": {
      "text/plain": [
       "array([ 5,  5,  7,  7,  7,  5, 10, 17, 14,  5, 17,  7, 17,  7,  5, 17, 17,\n",
       "       14,  7, 17, 17,  7, 17, 17,  7])"
      ]
     },
     "execution_count": 25,
     "metadata": {},
     "output_type": "execute_result"
    }
   ],
   "source": [
    "np.argmax(y_, axis=1).flatten()"
   ]
  },
  {
   "cell_type": "markdown",
   "metadata": {},
   "source": [
    "### Evaluation"
   ]
  },
  {
   "cell_type": "code",
   "execution_count": 26,
   "metadata": {},
   "outputs": [],
   "source": [
    "def predict(probs):\n",
    "    states = list(state_mapping)\n",
    "    indices = np.argmax(probs, axis=1)  # take argmax of the probs\n",
    "    return [states[int(i)] for i in indices]  # map indices back to states"
   ]
  },
  {
   "cell_type": "code",
   "execution_count": 27,
   "metadata": {},
   "outputs": [],
   "source": [
    "def write_predictions(*args, X):\n",
    "    # get and store predictions\n",
    "    result = []\n",
    "    for i in trange(len(X), leave=False):\n",
    "        y_pred = predict(forward(*args, x=X[i]))\n",
    "        result.append(y_pred)\n",
    "    # write predictions to file\n",
    "    with open(out_filename, 'w') as f:\n",
    "        for i in range(len(result)):\n",
    "            for j in range(len(result[i])):\n",
    "                word = val_sentences[i][j]\n",
    "                pred = result[i][j]\n",
    "                f.write('hello' + ' ' + pred + '\\n')\n",
    "            f.write('\\n')"
   ]
  },
  {
   "cell_type": "code",
   "execution_count": 28,
   "metadata": {},
   "outputs": [
    {
     "data": {
      "application/vnd.jupyter.widget-view+json": {
       "model_id": "",
       "version_major": 2,
       "version_minor": 0
      },
      "text/plain": [
       "HBox(children=(IntProgress(value=0, max=78), HTML(value='')))"
      ]
     },
     "metadata": {},
     "output_type": "display_data"
    },
    {
     "name": "stdout",
     "output_type": "stream",
     "text": [
      "\r"
     ]
    },
    {
     "data": {
      "text/plain": [
       "((0.321, 0.4002493765586035, 0.35627081021087686),\n",
       " (0.069, 0.08603491271820449, 0.07658157602663708))"
      ]
     },
     "execution_count": 28,
     "metadata": {},
     "output_type": "execute_result"
    }
   ],
   "source": [
    "def compare(observed, predicted):\n",
    "    correct_sentiment = 0\n",
    "    correct_entity = 0\n",
    "\n",
    "    total_observed = 0.0\n",
    "    total_predicted = 0.0\n",
    "\n",
    "    #For each Instance Index example (example = 0,1,2,3.....)\n",
    "    for example in observed:\n",
    "        observed_instance = observed[example]\n",
    "        predicted_instance = predicted[example]\n",
    "\n",
    "        #Count number of entities in gold data\n",
    "        total_observed += len(observed_instance)\n",
    "        #Count number of entities in prediction data\n",
    "        total_predicted += len(predicted_instance)\n",
    "\n",
    "        #For each entity in prediction\n",
    "        for span in predicted_instance:\n",
    "            span_begin = span[1]\n",
    "            span_length = len(span) - 1\n",
    "            span_ne = (span_begin, span_length)\n",
    "            span_sent = span[0]\n",
    "\n",
    "            #For each entity in gold data\n",
    "            for observed_span in observed_instance:\n",
    "                begin = observed_span[1]\n",
    "                length = len(observed_span) - 1\n",
    "                ne = (begin, length)\n",
    "                sent = observed_span[0]\n",
    "\n",
    "                #Entity matched\n",
    "                if span_ne == ne:\n",
    "                    correct_entity += 1\n",
    "                    #Entity & Sentiment both are matched\n",
    "                    if span_sent == sent:\n",
    "                        correct_sentiment += 1\n",
    "\n",
    "    prec = correct_entity/total_predicted if total_predicted != 0 else 0\n",
    "    rec = correct_entity/total_observed if total_observed != 0 else 0\n",
    "    if abs(prec + rec) < 1e-6:\n",
    "        f = 0\n",
    "    else:\n",
    "        f = 2 * prec * rec / (prec + rec)\n",
    "    entity_scores = (prec, rec, f)\n",
    "\n",
    "    prec = correct_sentiment/total_predicted if total_predicted != 0 else 0\n",
    "    rec = correct_sentiment/total_observed if total_observed != 0 else 0\n",
    "    if abs(prec + rec) < 1e-6:\n",
    "        f = 0\n",
    "    else:\n",
    "        f = 2 * prec * rec / (prec + rec)\n",
    "    type_scores = (prec, rec, f)\n",
    "    return entity_scores, type_scores\n",
    "\n",
    "def get_scores(*args, X):\n",
    "    write_predictions(*args, X=X)\n",
    "    observed = get_observed(open(val_filename, 'r'))\n",
    "    predicted = get_predicted(open(out_filename, 'r'))\n",
    "    return compare(observed, predicted)\n",
    "\n",
    "get_scores(*model, X=X_val)"
   ]
  },
  {
   "cell_type": "markdown",
   "metadata": {},
   "source": [
    "### Backward\n",
    "`<insert derived backpropagation equations here>`"
   ]
  },
  {
   "cell_type": "markdown",
   "metadata": {},
   "source": [
    "#### Weighting"
   ]
  },
  {
   "cell_type": "code",
   "execution_count": 29,
   "metadata": {},
   "outputs": [
    {
     "data": {
      "text/plain": [
       "array([2.70931589e-01, 2.30977086e+00, 8.29065798e-01, 2.14454881e-01,\n",
       "       3.11770542e-01, 4.47333166e-01, 6.98366013e+00, 9.77942522e-01,\n",
       "       3.73340321e+00, 8.36071987e+00, 1.53785262e+00, 6.74558081e+00,\n",
       "       2.96805556e+02, 2.96805556e+02, 1.16394336e+01, 9.73132969e+00,\n",
       "       1.48402778e+02, 9.89351852e+01])"
      ]
     },
     "execution_count": 29,
     "metadata": {},
     "output_type": "execute_result"
    }
   ],
   "source": [
    "from functools import reduce\n",
    "from operator import add\n",
    "from sklearn.utils.class_weight import compute_class_weight\n",
    "weights = compute_class_weight(class_weight='balanced',\n",
    "                               classes=list(states),\n",
    "                               y=reduce(add, ([k]*v for k, v in states.items())))\n",
    "weights"
   ]
  },
  {
   "cell_type": "markdown",
   "metadata": {},
   "source": [
    "#### Gradients"
   ]
  },
  {
   "cell_type": "code",
   "execution_count": 30,
   "metadata": {
    "scrolled": true
   },
   "outputs": [
    {
     "data": {
      "application/vnd.jupyter.widget-view+json": {
       "model_id": "c60ea6c0eebb4acda9688b39ce64f042",
       "version_major": 2,
       "version_minor": 0
      },
      "text/plain": [
       "HBox(children=(IntProgress(value=0, max=551), HTML(value='')))"
      ]
     },
     "metadata": {},
     "output_type": "display_data"
    },
    {
     "name": "stdout",
     "output_type": "stream",
     "text": [
      "\n"
     ]
    }
   ],
   "source": [
    "def backward(W, b, V, c, U, d, x, y):\n",
    "    assert len(x) == len(y), [len(x), len(y)]\n",
    "\n",
    "    # feedforward\n",
    "    a1 = x.dot(W) + b\n",
    "    h1 = a1 * (a1 >= 0)  # ReLU\n",
    "    \n",
    "    a2 = h1.dot(V) + c\n",
    "    h2 = a2 * (a2 >= 0)  # ReLU\n",
    "    \n",
    "    o = h2.dot(U) + d\n",
    "    y_ = softmax(o)\n",
    "\n",
    "    # backprop\n",
    "    do = y_ - y\n",
    "    \n",
    "    dd = np.mean(do, axis=0, keepdims=True)\n",
    "    dU = h2.T.dot(do)\n",
    "    \n",
    "    dh2 = do.dot(U.T)\n",
    "    da2 = dh2 * (a2 >= 0)\n",
    "    \n",
    "    dc = np.mean(da2, axis=0, keepdims=True)\n",
    "    dV = h1.T.dot(da2)\n",
    "    \n",
    "    dh1 = da2.dot(V.T)\n",
    "    da1 = dh1 * (a1 >= 0)\n",
    "    \n",
    "    db = np.mean(da1, axis=0, keepdims=True)\n",
    "    dW = x.T.dot(da1)\n",
    "    \n",
    "    assert dW.shape == W.shape\n",
    "    assert db.shape == b.shape\n",
    "    assert dV.shape == V.shape\n",
    "    assert dc.shape == c.shape\n",
    "    assert dU.shape == U.shape\n",
    "    assert dd.shape == d.shape\n",
    "\n",
    "    grad = (dW, db, dV, dc, dU, dd)\n",
    "    \n",
    "    # compute loss\n",
    "    xent = -np.log(y_ + 1e-8) * y\n",
    "    loss = np.mean(np.sum(xent, axis=1))\n",
    "    return loss, grad\n",
    "        \n",
    "for i in trange(len(X_train)):\n",
    "    backward(*model, x=X_train[i], y=y_train[i])"
   ]
  },
  {
   "cell_type": "markdown",
   "metadata": {},
   "source": [
    "##### Training"
   ]
  },
  {
   "cell_type": "code",
   "execution_count": 31,
   "metadata": {
    "scrolled": true
   },
   "outputs": [],
   "source": [
    "%%script true\n",
    "# overfitting check\n",
    "losses = []\n",
    "n_iters = 1000\n",
    "for i in trange(n_iters):\n",
    "    x, y = X_train[0], y_train[0]\n",
    "    loss, grad = backward(*model, x=x, y=y)\n",
    "    \n",
    "    losses.append(loss)\n",
    "    for error, weight in zip(grad, model):\n",
    "        weight -= lr * error\n",
    "\n",
    "plt.plot(np.arange(n_iters), losses);\n",
    "\n",
    "y_pred = predict(forward(*model, x=X_train[0]))\n",
    "y_true = train_labels[0]\n",
    "np.mean(np.array(y_pred) == np.array(y_true))"
   ]
  },
  {
   "cell_type": "code",
   "execution_count": 32,
   "metadata": {},
   "outputs": [
    {
     "data": {
      "text/plain": [
       "((10685, 300), (10685, 18))"
      ]
     },
     "execution_count": 32,
     "metadata": {},
     "output_type": "execute_result"
    }
   ],
   "source": [
    "X_flat, y_flat = [], []\n",
    "\n",
    "for sentence in X_train:\n",
    "    X_flat.extend(sentence)\n",
    "X_flat = np.asarray(X_flat)\n",
    "\n",
    "for sentence in y_train:\n",
    "    y_flat.extend(sentence)\n",
    "y_flat = np.asarray(y_flat)\n",
    "\n",
    "X_flat.shape, y_flat.shape"
   ]
  },
  {
   "cell_type": "code",
   "execution_count": 33,
   "metadata": {},
   "outputs": [
    {
     "data": {
      "application/vnd.jupyter.widget-view+json": {
       "model_id": "58f33e15a44249749da5ea8a487d822d",
       "version_major": 2,
       "version_minor": 0
      },
      "text/plain": [
       "HBox(children=(IntProgress(value=0, max=10), HTML(value='')))"
      ]
     },
     "metadata": {},
     "output_type": "display_data"
    },
    {
     "data": {
      "application/vnd.jupyter.widget-view+json": {
       "model_id": "",
       "version_major": 2,
       "version_minor": 0
      },
      "text/plain": [
       "HBox(children=(IntProgress(value=0, max=166), HTML(value='')))"
      ]
     },
     "metadata": {},
     "output_type": "display_data"
    },
    {
     "data": {
      "application/vnd.jupyter.widget-view+json": {
       "model_id": "",
       "version_major": 2,
       "version_minor": 0
      },
      "text/plain": [
       "HBox(children=(IntProgress(value=0, max=78), HTML(value='')))"
      ]
     },
     "metadata": {},
     "output_type": "display_data"
    },
    {
     "data": {
      "application/vnd.jupyter.widget-view+json": {
       "model_id": "",
       "version_major": 2,
       "version_minor": 0
      },
      "text/plain": [
       "HBox(children=(IntProgress(value=0, max=166), HTML(value='')))"
      ]
     },
     "metadata": {},
     "output_type": "display_data"
    },
    {
     "data": {
      "application/vnd.jupyter.widget-view+json": {
       "model_id": "",
       "version_major": 2,
       "version_minor": 0
      },
      "text/plain": [
       "HBox(children=(IntProgress(value=0, max=78), HTML(value='')))"
      ]
     },
     "metadata": {},
     "output_type": "display_data"
    },
    {
     "data": {
      "application/vnd.jupyter.widget-view+json": {
       "model_id": "",
       "version_major": 2,
       "version_minor": 0
      },
      "text/plain": [
       "HBox(children=(IntProgress(value=0, max=166), HTML(value='')))"
      ]
     },
     "metadata": {},
     "output_type": "display_data"
    },
    {
     "data": {
      "application/vnd.jupyter.widget-view+json": {
       "model_id": "",
       "version_major": 2,
       "version_minor": 0
      },
      "text/plain": [
       "HBox(children=(IntProgress(value=0, max=78), HTML(value='')))"
      ]
     },
     "metadata": {},
     "output_type": "display_data"
    },
    {
     "data": {
      "application/vnd.jupyter.widget-view+json": {
       "model_id": "",
       "version_major": 2,
       "version_minor": 0
      },
      "text/plain": [
       "HBox(children=(IntProgress(value=0, max=166), HTML(value='')))"
      ]
     },
     "metadata": {},
     "output_type": "display_data"
    },
    {
     "data": {
      "application/vnd.jupyter.widget-view+json": {
       "model_id": "",
       "version_major": 2,
       "version_minor": 0
      },
      "text/plain": [
       "HBox(children=(IntProgress(value=0, max=78), HTML(value='')))"
      ]
     },
     "metadata": {},
     "output_type": "display_data"
    },
    {
     "data": {
      "application/vnd.jupyter.widget-view+json": {
       "model_id": "",
       "version_major": 2,
       "version_minor": 0
      },
      "text/plain": [
       "HBox(children=(IntProgress(value=0, max=166), HTML(value='')))"
      ]
     },
     "metadata": {},
     "output_type": "display_data"
    },
    {
     "data": {
      "application/vnd.jupyter.widget-view+json": {
       "model_id": "",
       "version_major": 2,
       "version_minor": 0
      },
      "text/plain": [
       "HBox(children=(IntProgress(value=0, max=78), HTML(value='')))"
      ]
     },
     "metadata": {},
     "output_type": "display_data"
    },
    {
     "data": {
      "application/vnd.jupyter.widget-view+json": {
       "model_id": "",
       "version_major": 2,
       "version_minor": 0
      },
      "text/plain": [
       "HBox(children=(IntProgress(value=0, max=166), HTML(value='')))"
      ]
     },
     "metadata": {},
     "output_type": "display_data"
    },
    {
     "data": {
      "application/vnd.jupyter.widget-view+json": {
       "model_id": "",
       "version_major": 2,
       "version_minor": 0
      },
      "text/plain": [
       "HBox(children=(IntProgress(value=0, max=78), HTML(value='')))"
      ]
     },
     "metadata": {},
     "output_type": "display_data"
    },
    {
     "data": {
      "application/vnd.jupyter.widget-view+json": {
       "model_id": "",
       "version_major": 2,
       "version_minor": 0
      },
      "text/plain": [
       "HBox(children=(IntProgress(value=0, max=166), HTML(value='')))"
      ]
     },
     "metadata": {},
     "output_type": "display_data"
    },
    {
     "data": {
      "application/vnd.jupyter.widget-view+json": {
       "model_id": "",
       "version_major": 2,
       "version_minor": 0
      },
      "text/plain": [
       "HBox(children=(IntProgress(value=0, max=78), HTML(value='')))"
      ]
     },
     "metadata": {},
     "output_type": "display_data"
    },
    {
     "data": {
      "application/vnd.jupyter.widget-view+json": {
       "model_id": "",
       "version_major": 2,
       "version_minor": 0
      },
      "text/plain": [
       "HBox(children=(IntProgress(value=0, max=166), HTML(value='')))"
      ]
     },
     "metadata": {},
     "output_type": "display_data"
    },
    {
     "data": {
      "application/vnd.jupyter.widget-view+json": {
       "model_id": "",
       "version_major": 2,
       "version_minor": 0
      },
      "text/plain": [
       "HBox(children=(IntProgress(value=0, max=78), HTML(value='')))"
      ]
     },
     "metadata": {},
     "output_type": "display_data"
    },
    {
     "data": {
      "application/vnd.jupyter.widget-view+json": {
       "model_id": "",
       "version_major": 2,
       "version_minor": 0
      },
      "text/plain": [
       "HBox(children=(IntProgress(value=0, max=166), HTML(value='')))"
      ]
     },
     "metadata": {},
     "output_type": "display_data"
    },
    {
     "data": {
      "application/vnd.jupyter.widget-view+json": {
       "model_id": "",
       "version_major": 2,
       "version_minor": 0
      },
      "text/plain": [
       "HBox(children=(IntProgress(value=0, max=78), HTML(value='')))"
      ]
     },
     "metadata": {},
     "output_type": "display_data"
    },
    {
     "data": {
      "application/vnd.jupyter.widget-view+json": {
       "model_id": "",
       "version_major": 2,
       "version_minor": 0
      },
      "text/plain": [
       "HBox(children=(IntProgress(value=0, max=166), HTML(value='')))"
      ]
     },
     "metadata": {},
     "output_type": "display_data"
    },
    {
     "data": {
      "application/vnd.jupyter.widget-view+json": {
       "model_id": "",
       "version_major": 2,
       "version_minor": 0
      },
      "text/plain": [
       "HBox(children=(IntProgress(value=0, max=78), HTML(value='')))"
      ]
     },
     "metadata": {},
     "output_type": "display_data"
    },
    {
     "name": "stdout",
     "output_type": "stream",
     "text": [
      "\n"
     ]
    }
   ],
   "source": [
    "checkpoints = []  # store model weights after every epoch\n",
    "losses = []  # training loss\n",
    "scores = []  # f1-score\n",
    "cum_grad = [np.zeros_like(weight) for weight in model]\n",
    "\n",
    "n_iters = len(X_flat) // batch_size\n",
    "for i in trange(n_epochs):\n",
    "    for j in trange(n_iters, leave=False):\n",
    "        idx = np.random.choice(np.arange(len(X_flat)), size=batch_size)\n",
    "        x, y = X_flat[idx], y_flat[idx]\n",
    "        loss, grad = backward(*model, x=x, y=y)\n",
    "\n",
    "        # gradient accumulation\n",
    "        for cum_weight, weight_update in zip(cum_grad, grad):\n",
    "            cum_weight += np.square(weight_update)\n",
    "        # gradient update\n",
    "        for weight, cum_weight, weight_update in zip(model, cum_grad, grad):\n",
    "            weight -= (lr / (np.sqrt(cum_weight) + 1e-6)) * weight_update\n",
    "\n",
    "        losses.append(loss)\n",
    "    scores.append(get_scores(*model, X=X_val))\n",
    "    checkpoints.append(tuple(weights.copy() for weights in model))"
   ]
  },
  {
   "cell_type": "code",
   "execution_count": 34,
   "metadata": {
    "scrolled": false
   },
   "outputs": [
    {
     "data": {
      "image/png": "[encoded data removed]",
      "text/plain": [
       "<Figure size 1440x720 with 1 Axes>"
      ]
     },
     "metadata": {
      "needs_background": "light"
     },
     "output_type": "display_data"
    }
   ],
   "source": [
    "plt.figure(figsize=(20, 10))\n",
    "plt.plot(np.arange(len(losses)), losses, linewidth=0.5);  # overall training loss"
   ]
  },
  {
   "cell_type": "code",
   "execution_count": 35,
   "metadata": {},
   "outputs": [
    {
     "data": {
      "image/png": "[encoded data removed]",
      "text/plain": [
       "<Figure size 1440x720 with 1 Axes>"
      ]
     },
     "metadata": {
      "needs_background": "light"
     },
     "output_type": "display_data"
    }
   ],
   "source": [
    "f_entity = [tup[0][-1] for tup in scores]\n",
    "f_type = [tup[1][-1] for tup in scores]\n",
    "\n",
    "x = [np.argmax(f_entity), np.argmax(f_type)]\n",
    "y = [np.max(f_entity), np.max(f_type)]\n",
    "\n",
    "\n",
    "plt.figure(figsize=(20, 10))\n",
    "plt.plot(np.arange(len(f_entity)), f_entity, label='Entity')\n",
    "plt.plot(np.arange(len(f_type)), f_type, label='Entity type')\n",
    "\n",
    "plt.scatter(x, y)\n",
    "plt.annotate(f'Entity: ({x[0]}, {np.round(y[0], 3)})', (x[0], y[0]))\n",
    "plt.annotate(f'Entity type: ({x[1]}, {np.round(y[1], 3)})', (x[1], y[1]))\n",
    "\n",
    "plt.legend();"
   ]
  },
  {
   "cell_type": "markdown",
   "metadata": {},
   "source": [
    "## Prediction"
   ]
  },
  {
   "cell_type": "code",
   "execution_count": 36,
   "metadata": {},
   "outputs": [
    {
     "name": "stdout",
     "output_type": "stream",
     "text": [
      "B-NP\tB-NP\n",
      "B-NP\tI-NP\n",
      "B-VP\tI-NP\n",
      "O\tO\n",
      "I-NP\tB-NP\n",
      "B-VP\tB-VP\n",
      "B-VP\tI-VP\n",
      "B-ADVP\tB-ADVP\n",
      "O\tO\n",
      "I-VP\tB-VP\n",
      "I-NP\tB-PP\n",
      "I-NP\tB-NP\n",
      "B-PP\tB-PP\n",
      "B-NP\tB-NP\n",
      "O\tO\n"
     ]
    }
   ],
   "source": [
    "y_pred = predict(forward(*model, x=X_val[0]))\n",
    "y_true = val_labels[0]\n",
    "for _pred, _true in zip(y_pred, y_true):\n",
    "    print(_pred, _true, sep='\\t')"
   ]
  },
  {
   "cell_type": "markdown",
   "metadata": {},
   "source": [
    "Check for class imbalance."
   ]
  },
  {
   "cell_type": "code",
   "execution_count": 37,
   "metadata": {
    "scrolled": true
   },
   "outputs": [
    {
     "data": {
      "application/vnd.jupyter.widget-view+json": {
       "model_id": "7d5812917b784279a8e57c0205b5a0f0",
       "version_major": 2,
       "version_minor": 0
      },
      "text/plain": [
       "HBox(children=(IntProgress(value=0, max=78), HTML(value='')))"
      ]
     },
     "metadata": {},
     "output_type": "display_data"
    },
    {
     "name": "stdout",
     "output_type": "stream",
     "text": [
      "\n"
     ]
    }
   ],
   "source": [
    "all_pred, all_true = [], []\n",
    "for i in trange(len(X_val)):\n",
    "    y_pred = np.argmax(softmax(forward(*model, x=X_val[i])), axis=1).flatten()\n",
    "    y_true = np.argmax(y_val[i], axis=1).flatten()\n",
    "    all_pred.extend(y_pred)\n",
    "    all_true.extend(y_true)\n",
    "all_pred = np.asarray(all_pred)\n",
    "all_true = np.asarray(all_true)"
   ]
  },
  {
   "cell_type": "code",
   "execution_count": 38,
   "metadata": {
    "scrolled": false
   },
   "outputs": [
    {
     "name": "stdout",
     "output_type": "stream",
     "text": [
      "Confusion matrix, without normalization\n"
     ]
    },
    {
     "data": {
      "image/png": "[encoded data removed]",
      "text/plain": [
       "<Figure size 720x720 with 2 Axes>"
      ]
     },
     "metadata": {
      "needs_background": "light"
     },
     "output_type": "display_data"
    }
   ],
   "source": [
    "def plot_confusion_matrix(cm, classes,\n",
    "                          normalize=False,\n",
    "                          title='Confusion matrix',\n",
    "                          cmap=plt.cm.Blues):\n",
    "    \"\"\"\n",
    "    This function prints and plots the confusion matrix.\n",
    "    Normalization can be applied by setting `normalize=True`.\n",
    "    \"\"\"\n",
    "    if normalize:\n",
    "        cm = cm.astype('float') / cm.sum(axis=1)[:, np.newaxis]\n",
    "        print(\"Normalized confusion matrix\")\n",
    "    else:\n",
    "        print('Confusion matrix, without normalization')\n",
    "\n",
    "    plt.imshow(cm, interpolation='nearest', cmap=cmap)\n",
    "    plt.title(title)\n",
    "    plt.colorbar()\n",
    "    tick_marks = np.arange(len(classes))\n",
    "    plt.xticks(tick_marks, classes, rotation=45)\n",
    "    plt.yticks(tick_marks, classes)\n",
    "\n",
    "    fmt = '.2f' if normalize else 'd'\n",
    "    thresh = cm.max() / 2.\n",
    "    for i, j in itertools.product(range(cm.shape[0]), range(cm.shape[1])):\n",
    "        plt.text(j, i, format(cm[i, j], fmt),\n",
    "                 horizontalalignment=\"center\",\n",
    "                 color=\"white\" if cm[i, j] > thresh else \"black\")\n",
    "\n",
    "    plt.ylabel('True label')\n",
    "    plt.xlabel('Predicted label')\n",
    "    plt.tight_layout()\n",
    "\n",
    "    \n",
    "cm = confusion_matrix(all_true, all_pred, labels=np.arange(len(state_mapping)))\n",
    "classes = list(state_mapping)\n",
    "\n",
    "plt.figure(figsize=(10, 10))\n",
    "plt.grid(False)\n",
    "plot_confusion_matrix(cm, classes=classes)"
   ]
  },
  {
   "cell_type": "markdown",
   "metadata": {},
   "source": [
    "## Save model"
   ]
  },
  {
   "cell_type": "code",
   "execution_count": 39,
   "metadata": {},
   "outputs": [],
   "source": [
    "%%script true\n",
    "def save_model(U, W, b, V, c, path, name):\n",
    "    if not os.path.isdir(path):\n",
    "        os.makedirs(path)\n",
    "    np.save(f'{path}/{name}_U', U)\n",
    "    np.save(f'{path}/{name}_W', W)\n",
    "    np.save(f'{path}/{name}_b', b)\n",
    "    np.save(f'{path}/{name}_V', V)\n",
    "    np.save(f'{path}/{name}_c', c)\n",
    "    return True\n",
    "\n",
    "save_model(*model, path='weights/EN', name=f'epochs{n_epochs}_lr{lr}')"
   ]
  }
 ],
 "metadata": {
  "kernelspec": {
   "display_name": "Python 3",
   "language": "python",
   "name": "python3"
  },
  "language_info": {
   "codemirror_mode": {
    "name": "ipython",
    "version": 3
   },
   "file_extension": ".py",
   "mimetype": "text/x-python",
   "name": "python",
   "nbconvert_exporter": "python",
   "pygments_lexer": "ipython3",
   "version": "3.6.7"
  },
  "widgets": {
   "application/vnd.jupyter.widget-state+json": {
    "state": {
     "000e7052e4d54e5c9ccae20c3ce411f2": {
      "model_module": "@jupyter-widgets/controls",
      "model_module_version": "1.4.0",
      "model_name": "DescriptionStyleModel",
      "state": {
       "description_width": ""
      }
     },
     "006c024c4932459082c6db273c1f8fe5": {
      "model_module": "@jupyter-widgets/controls",
      "model_module_version": "1.4.0",
      "model_name": "IntProgressModel",
      "state": {
       "bar_style": "success",
       "layout": "IPY_MODEL_e389ba369a5c42eda7b844cca757f5dc",
       "max": 551,
       "style": "IPY_MODEL_7e612862cb424fecb82ba18a492314df",
       "value": 551
      }
     },
     "006dcbc6957c42309d500a6562e531dd": {
      "model_module": "@jupyter-widgets/base",
      "model_module_version": "1.1.0",
      "model_name": "LayoutModel",
      "state": {}
     },
     "0081b16b03b64b3c85a208a84f141237": {
      "model_module": "@jupyter-widgets/base",
      "model_module_version": "1.1.0",
      "model_name": "LayoutModel",
      "state": {}
     },
     "0092878cf3764bdc9f4b04cce6162e4a": {
      "model_module": "@jupyter-widgets/controls",
      "model_module_version": "1.4.0",
      "model_name": "HTMLModel",
      "state": {
       "layout": "IPY_MODEL_15506682e1904fb1898e1e620a16e5cd",
       "style": "IPY_MODEL_36e33951b729412886bb25d6e9f56f1a",
       "value": " 90% 70/78 [00:00&lt;00:00, 348.45it/s]"
      }
     },
     "00b00ff050004c7d9d951178cd6e0337": {
      "model_module": "@jupyter-widgets/controls",
      "model_module_version": "1.4.0",
      "model_name": "IntProgressModel",
      "state": {
       "layout": "IPY_MODEL_8788ce922082468ea82a8f0c35b9549b",
       "max": 17,
       "style": "IPY_MODEL_89234bf2e2484d4889da1cc27d99874f",
       "value": 17
      }
     },
     "00eeada0b18f44abb85e09d77baca816": {
      "model_module": "@jupyter-widgets/controls",
      "model_module_version": "1.4.0",
      "model_name": "DescriptionStyleModel",
      "state": {
       "description_width": ""
      }
     },
     "00fd06eb86134c50b6f24a30990f3758": {
      "model_module": "@jupyter-widgets/controls",
      "model_module_version": "1.4.0",
      "model_name": "DescriptionStyleModel",
      "state": {
       "description_width": ""
      }
     },
     "01079627f2364af7b40690bcb16d455c": {
      "model_module": "@jupyter-widgets/controls",
      "model_module_version": "1.4.0",
      "model_name": "HTMLModel",
      "state": {
       "layout": "IPY_MODEL_260256167ca945788181c84c540f8d16",
       "style": "IPY_MODEL_e2b78b38d29045c580144965c0d0424b",
       "value": "100% 17/17 [00:07&lt;00:00,  2.38it/s]"
      }
     },
     "010cfccaa39c4976a14c7522ce73dd08": {
      "model_module": "@jupyter-widgets/controls",
      "model_module_version": "1.4.0",
      "model_name": "HTMLModel",
      "state": {
       "layout": "IPY_MODEL_1a43122233684d31b340079ef14bafd2",
       "style": "IPY_MODEL_e9b3520534bd44deb65ec3ef73004f0b",
       "value": " 56% 44/78 [00:00&lt;00:00, 436.23it/s]"
      }
     },
     "013552e5fa8146298acff923af909146": {
      "model_module": "@jupyter-widgets/controls",
      "model_module_version": "1.4.0",
      "model_name": "DescriptionStyleModel",
      "state": {
       "description_width": ""
      }
     },
     "0190a170e2be4ebbbc82602ba78900cd": {
      "model_module": "@jupyter-widgets/controls",
      "model_module_version": "1.4.0",
      "model_name": "IntProgressModel",
      "state": {
       "layout": "IPY_MODEL_cd8976ec8b554c8a922447d3126848a3",
       "max": 17,
       "style": "IPY_MODEL_6e2bd9866ab444e3a388f4dc40e49698",
       "value": 17
      }
     },
     "0204c78638734dc896d24732401854f2": {
      "model_module": "@jupyter-widgets/controls",
      "model_module_version": "1.4.0",
      "model_name": "IntProgressModel",
      "state": {
       "layout": "IPY_MODEL_0ec0890b3a3e4b4fad99fa73fffacdb2",
       "max": 78,
       "style": "IPY_MODEL_69d06be9dd7d4238bb021fcba237ffdc",
       "value": 48
      }
     },
     "02059e90dfa149ea90d61ad7ccc25d21": {
      "model_module": "@jupyter-widgets/controls",
      "model_module_version": "1.4.0",
      "model_name": "IntProgressModel",
      "state": {
       "layout": "IPY_MODEL_ca996e43ab624a02af09f791a68cd442",
       "max": 17,
       "style": "IPY_MODEL_c017ed3523ee4462b7e04bd406fa5655",
       "value": 17
      }
     },
     "02071e77b2e54301a692d47b3e5505a8": {
      "model_module": "@jupyter-widgets/base",
      "model_module_version": "1.1.0",
      "model_name": "LayoutModel",
      "state": {}
     },
     "020cd284abd844deaf383bb73e279af7": {
      "model_module": "@jupyter-widgets/controls",
      "model_module_version": "1.4.0",
      "model_name": "HTMLModel",
      "state": {
       "layout": "IPY_MODEL_54cc31abc8ef4e9ba48020be08502277",
       "style": "IPY_MODEL_00fd06eb86134c50b6f24a30990f3758",
       "value": " 74% 58/78 [00:00&lt;00:00, 261.09it/s]"
      }
     },
     "021d5cea6fd8455db5d9d357d0fca3e4": {
      "model_module": "@jupyter-widgets/controls",
      "model_module_version": "1.4.0",
      "model_name": "DescriptionStyleModel",
      "state": {
       "description_width": ""
      }
     },
     "023203aae7664526bd8988ab69864d66": {
      "model_module": "@jupyter-widgets/controls",
      "model_module_version": "1.4.0",
      "model_name": "HTMLModel",
      "state": {
       "layout": "IPY_MODEL_2c846efd02a44d2e983da9a571c33306",
       "style": "IPY_MODEL_febb325c06af43d2a6baf3ef3f844bd1",
       "value": "100% 17/17 [00:09&lt;00:00,  1.89it/s]"
      }
     },
     "024af5799f2547b1a9f8556649979d2d": {
      "model_module": "@jupyter-widgets/controls",
      "model_module_version": "1.4.0",
      "model_name": "ProgressStyleModel",
      "state": {
       "description_width": ""
      }
     },
     "024ec0a4816d4b8c894bf9245dc92fc4": {
      "model_module": "@jupyter-widgets/base",
      "model_module_version": "1.1.0",
      "model_name": "LayoutModel",
      "state": {}
     },
     "02510d260bd74fb785737d7a5067f11c": {
      "model_module": "@jupyter-widgets/base",
      "model_module_version": "1.1.0",
      "model_name": "LayoutModel",
      "state": {}
     },
     "02579921ee3b41cd89e9d13360439f4f": {
      "model_module": "@jupyter-widgets/base",
      "model_module_version": "1.1.0",
      "model_name": "LayoutModel",
      "state": {}
     },
     "026a4857735848cca7e58a1d59725541": {
      "model_module": "@jupyter-widgets/base",
      "model_module_version": "1.1.0",
      "model_name": "LayoutModel",
      "state": {}
     },
     "02e96e589b464e159669fc79a2cf1014": {
      "model_module": "@jupyter-widgets/controls",
      "model_module_version": "1.4.0",
      "model_name": "IntProgressModel",
      "state": {
       "layout": "IPY_MODEL_e014f8e4a1f042749fb10af784e4d33d",
       "max": 78,
       "style": "IPY_MODEL_64389003554b4586854fb2952443e48f",
       "value": 26
      }
     },
     "02f3d2dceb76460fab769e9cbb987503": {
      "model_module": "@jupyter-widgets/controls",
      "model_module_version": "1.4.0",
      "model_name": "ProgressStyleModel",
      "state": {
       "description_width": ""
      }
     },
     "02fa0ae9388c436cad0f1da1472ebfa8": {
      "model_module": "@jupyter-widgets/controls",
      "model_module_version": "1.4.0",
      "model_name": "IntProgressModel",
      "state": {
       "layout": "IPY_MODEL_926d63bb464949afafb2487c19505d31",
       "max": 17,
       "style": "IPY_MODEL_ebf4cf8f49df4dfc8bb79582715af4dc",
       "value": 17
      }
     },
     "03066de2c59545c8b16b1331e780af95": {
      "model_module": "@jupyter-widgets/base",
      "model_module_version": "1.1.0",
      "model_name": "LayoutModel",
      "state": {}
     },
     "030ec6814cfa433cb492cdcd3c589d47": {
      "model_module": "@jupyter-widgets/controls",
      "model_module_version": "1.4.0",
      "model_name": "DescriptionStyleModel",
      "state": {
       "description_width": ""
      }
     },
     "030fc596e54b4902870e659c0b2aa2aa": {
      "model_module": "@jupyter-widgets/controls",
      "model_module_version": "1.4.0",
      "model_name": "HTMLModel",
      "state": {
       "layout": "IPY_MODEL_89d6e4583c2a4d50a6c672cf22df2dde",
       "style": "IPY_MODEL_2c0e3ab4b8af4fb299ffe0c3c6eed613",
       "value": "100% 17/17 [00:05&lt;00:00,  2.95it/s]"
      }
     },
     "03183154629b4d38b4a74a4b799079d0": {
      "model_module": "@jupyter-widgets/controls",
      "model_module_version": "1.4.0",
      "model_name": "IntProgressModel",
      "state": {
       "layout": "IPY_MODEL_4b7f90456d04402bab881077e22dd8f7",
       "max": 78,
       "style": "IPY_MODEL_5c61907789844500ab19ef9bdb20d4da",
       "value": 76
      }
     },
     "035f95064d9b4ff18fdbdaa98aa8cafb": {
      "model_module": "@jupyter-widgets/base",
      "model_module_version": "1.1.0",
      "model_name": "LayoutModel",
      "state": {}
     },
     "03a72db7fad041e3a8a213bf7612c7cb": {
      "model_module": "@jupyter-widgets/base",
      "model_module_version": "1.1.0",
      "model_name": "LayoutModel",
      "state": {}
     },
     "03b74a73dbce42f5a3c73c60532a5bec": {
      "model_module": "@jupyter-widgets/base",
      "model_module_version": "1.1.0",
      "model_name": "LayoutModel",
      "state": {}
     },
     "03ca2c748035445ca5ac6132c63d2949": {
      "model_module": "@jupyter-widgets/controls",
      "model_module_version": "1.4.0",
      "model_name": "ProgressStyleModel",
      "state": {
       "description_width": ""
      }
     },
     "03ce4cc2905b4b1295f2da02dd4efba3": {
      "model_module": "@jupyter-widgets/base",
      "model_module_version": "1.1.0",
      "model_name": "LayoutModel",
      "state": {}
     },
     "03db3650664e4b21ad7066091a4c4281": {
      "model_module": "@jupyter-widgets/base",
      "model_module_version": "1.1.0",
      "model_name": "LayoutModel",
      "state": {}
     },
     "03e1350e27f54edab336cb07e1e117a9": {
      "model_module": "@jupyter-widgets/base",
      "model_module_version": "1.1.0",
      "model_name": "LayoutModel",
      "state": {}
     },
     "040aec005d734a6dada07e95f06dbaf0": {
      "model_module": "@jupyter-widgets/base",
      "model_module_version": "1.1.0",
      "model_name": "LayoutModel",
      "state": {}
     },
     "042268b2734342e1b8290b7a9490b223": {
      "model_module": "@jupyter-widgets/base",
      "model_module_version": "1.1.0",
      "model_name": "LayoutModel",
      "state": {}
     },
     "042371ef237e42b2b479dbda310fe10a": {
      "model_module": "@jupyter-widgets/controls",
      "model_module_version": "1.4.0",
      "model_name": "DescriptionStyleModel",
      "state": {
       "description_width": ""
      }
     },
     "043b2f4126624751b1915345333469a6": {
      "model_module": "@jupyter-widgets/base",
      "model_module_version": "1.1.0",
      "model_name": "LayoutModel",
      "state": {}
     },
     "044335560d8f456784cae6d00131e9f0": {
      "model_module": "@jupyter-widgets/base",
      "model_module_version": "1.1.0",
      "model_name": "LayoutModel",
      "state": {}
     },
     "045076b02ae042138846910b79c3283d": {
      "model_module": "@jupyter-widgets/controls",
      "model_module_version": "1.4.0",
      "model_name": "DescriptionStyleModel",
      "state": {
       "description_width": ""
      }
     },
     "0451f9830f3343c495ee7b3f90134149": {
      "model_module": "@jupyter-widgets/base",
      "model_module_version": "1.1.0",
      "model_name": "LayoutModel",
      "state": {}
     },
     "045c300b69424f4a853fbfae76eca0d0": {
      "model_module": "@jupyter-widgets/controls",
      "model_module_version": "1.4.0",
      "model_name": "DescriptionStyleModel",
      "state": {
       "description_width": ""
      }
     },
     "0474abd141d0483aa061c666d4d7c322": {
      "model_module": "@jupyter-widgets/controls",
      "model_module_version": "1.4.0",
      "model_name": "ProgressStyleModel",
      "state": {
       "description_width": ""
      }
     },
     "04b1e62da2474f7788ba66463646a9e9": {
      "model_module": "@jupyter-widgets/base",
      "model_module_version": "1.1.0",
      "model_name": "LayoutModel",
      "state": {}
     },
     "04b84e36f71a49b7bdee7d330b4fa667": {
      "model_module": "@jupyter-widgets/controls",
      "model_module_version": "1.4.0",
      "model_name": "DescriptionStyleModel",
      "state": {
       "description_width": ""
      }
     },
     "04befcd2374245848a19030cc509c342": {
      "model_module": "@jupyter-widgets/controls",
      "model_module_version": "1.4.0",
      "model_name": "DescriptionStyleModel",
      "state": {
       "description_width": ""
      }
     },
     "04ead0feabe94f1abc9c45544ad362a8": {
      "model_module": "@jupyter-widgets/base",
      "model_module_version": "1.1.0",
      "model_name": "LayoutModel",
      "state": {}
     },
     "04ec21d103a04e3dbeb447aa4dbf2a43": {
      "model_module": "@jupyter-widgets/base",
      "model_module_version": "1.1.0",
      "model_name": "LayoutModel",
      "state": {}
     },
     "051b069150034f4b9a27cb6f74ba4053": {
      "model_module": "@jupyter-widgets/base",
      "model_module_version": "1.1.0",
      "model_name": "LayoutModel",
      "state": {}
     },
     "052a9d2aa8f64672ac7eca8ec1fbb003": {
      "model_module": "@jupyter-widgets/controls",
      "model_module_version": "1.4.0",
      "model_name": "IntProgressModel",
      "state": {
       "layout": "IPY_MODEL_ae806b04f06e4bc9a11eff801a885281",
       "max": 78,
       "style": "IPY_MODEL_56b0018b47c74d8191ffbcdc080f428e",
       "value": 77
      }
     },
     "052cfcb81e2646529578847c1f787c82": {
      "model_module": "@jupyter-widgets/base",
      "model_module_version": "1.1.0",
      "model_name": "LayoutModel",
      "state": {}
     },
     "059e0d1954364f29b0defdc43e674c89": {
      "model_module": "@jupyter-widgets/base",
      "model_module_version": "1.1.0",
      "model_name": "LayoutModel",
      "state": {}
     },
     "05aac89b891c4e16a8a3148029c2ed50": {
      "model_module": "@jupyter-widgets/base",
      "model_module_version": "1.1.0",
      "model_name": "LayoutModel",
      "state": {}
     },
     "05d3f7315de7456c8852f8db0d5610ac": {
      "model_module": "@jupyter-widgets/controls",
      "model_module_version": "1.4.0",
      "model_name": "IntProgressModel",
      "state": {
       "layout": "IPY_MODEL_13e33d79ba0a4857869b1ff108ceb51b",
       "max": 78,
       "style": "IPY_MODEL_8e7e3c0d81b34ee0b3b0c9bc11de229f",
       "value": 12
      }
     },
     "05dbd00f6d3e4a16acb48e5bad477fa4": {
      "model_module": "@jupyter-widgets/base",
      "model_module_version": "1.1.0",
      "model_name": "LayoutModel",
      "state": {}
     },
     "05df68e1447b4054b3b395f89765dc82": {
      "model_module": "@jupyter-widgets/controls",
      "model_module_version": "1.4.0",
      "model_name": "IntProgressModel",
      "state": {
       "layout": "IPY_MODEL_df6743077ad141c59357a0f5fa951019",
       "max": 17,
       "style": "IPY_MODEL_a95feb4f7ecd4404acf9b6badafdb992",
       "value": 17
      }
     },
     "0601a1540a4a483693f4715cbba646b5": {
      "model_module": "@jupyter-widgets/base",
      "model_module_version": "1.1.0",
      "model_name": "LayoutModel",
      "state": {}
     },
     "0608e068f87b40e5b54f65d6afa4659c": {
      "model_module": "@jupyter-widgets/controls",
      "model_module_version": "1.4.0",
      "model_name": "IntProgressModel",
      "state": {
       "layout": "IPY_MODEL_970696aebe5a4d349aef0a8b62343c7d",
       "max": 78,
       "style": "IPY_MODEL_b737de086f6e4c3a993aeffdcbf4309e",
       "value": 12
      }
     },
     "061bba6c78b946c984bcd221815e96d7": {
      "model_module": "@jupyter-widgets/controls",
      "model_module_version": "1.4.0",
      "model_name": "DescriptionStyleModel",
      "state": {
       "description_width": ""
      }
     },
     "06260ac0006244fd9eaeb01c8a7174dd": {
      "model_module": "@jupyter-widgets/controls",
      "model_module_version": "1.4.0",
      "model_name": "HTMLModel",
      "state": {
       "layout": "IPY_MODEL_02510d260bd74fb785737d7a5067f11c",
       "style": "IPY_MODEL_f5249ad6539b45429639675eaf8e8f19",
       "value": "100% 17/17 [00:04&lt;00:00,  3.76it/s]"
      }
     },
     "06466a7069234ef58e9fbd9238ca40ef": {
      "model_module": "@jupyter-widgets/controls",
      "model_module_version": "1.4.0",
      "model_name": "IntProgressModel",
      "state": {
       "layout": "IPY_MODEL_9ec336972b28449e919c3351ae85fb12",
       "max": 17,
       "style": "IPY_MODEL_dc38b19f4fa74f7699679022cc2cf2d6",
       "value": 17
      }
     },
     "064c6009669f447e9b1040f1688d13b0": {
      "model_module": "@jupyter-widgets/controls",
      "model_module_version": "1.4.0",
      "model_name": "IntProgressModel",
      "state": {
       "layout": "IPY_MODEL_d5638a1237d74603937cc80763952e35",
       "max": 78,
       "style": "IPY_MODEL_cca5f78a8f244be3b28c56002116a0b9",
       "value": 24
      }
     },
     "066586c7b50a443b91d6b308ae4b6b1b": {
      "model_module": "@jupyter-widgets/base",
      "model_module_version": "1.1.0",
      "model_name": "LayoutModel",
      "state": {}
     },
     "068d6982b6e244268304ba486c90d523": {
      "model_module": "@jupyter-widgets/controls",
      "model_module_version": "1.4.0",
      "model_name": "HTMLModel",
      "state": {
       "layout": "IPY_MODEL_bb73b195bd0d42f0b468b28ff9b15751",
       "style": "IPY_MODEL_a36cebb63b5b402aba854548985b5484",
       "value": " 55% 43/78 [00:00&lt;00:00, 428.92it/s]"
      }
     },
     "06bd036deb654d4dbc7f608c1cb8a9c7": {
      "model_module": "@jupyter-widgets/controls",
      "model_module_version": "1.4.0",
      "model_name": "ProgressStyleModel",
      "state": {
       "description_width": ""
      }
     },
     "06c07b9b15144c8597773dd0e6042e57": {
      "model_module": "@jupyter-widgets/controls",
      "model_module_version": "1.4.0",
      "model_name": "ProgressStyleModel",
      "state": {
       "description_width": ""
      }
     },
     "06c35863739749e084ac225c06de0a4b": {
      "model_module": "@jupyter-widgets/base",
      "model_module_version": "1.1.0",
      "model_name": "LayoutModel",
      "state": {}
     },
     "06c634ae1ffd4cff8bc767d6637e3cd5": {
      "model_module": "@jupyter-widgets/controls",
      "model_module_version": "1.4.0",
      "model_name": "DescriptionStyleModel",
      "state": {
       "description_width": ""
      }
     },
     "06d6f8946aee4cf7b385335aee21b9c2": {
      "model_module": "@jupyter-widgets/base",
      "model_module_version": "1.1.0",
      "model_name": "LayoutModel",
      "state": {}
     },
     "06dfb38130604f099dd420d648f53ad7": {
      "model_module": "@jupyter-widgets/base",
      "model_module_version": "1.1.0",
      "model_name": "LayoutModel",
      "state": {}
     },
     "06f67e40f69a4f478cde5b31463edf55": {
      "model_module": "@jupyter-widgets/base",
      "model_module_version": "1.1.0",
      "model_name": "LayoutModel",
      "state": {}
     },
     "072c8f82172a405087fa9dd737adb2b0": {
      "model_module": "@jupyter-widgets/controls",
      "model_module_version": "1.4.0",
      "model_name": "IntProgressModel",
      "state": {
       "layout": "IPY_MODEL_d58b8a5aebe647e297f95e231a3dbe6d",
       "max": 17,
       "style": "IPY_MODEL_903e5f784fc9483888787f93b703facb",
       "value": 17
      }
     },
     "0747b987b5814c3685785e2ce2f7c26d": {
      "model_module": "@jupyter-widgets/base",
      "model_module_version": "1.1.0",
      "model_name": "LayoutModel",
      "state": {}
     },
     "07884691361d413a93a0bdc290e71466": {
      "model_module": "@jupyter-widgets/base",
      "model_module_version": "1.1.0",
      "model_name": "LayoutModel",
      "state": {}
     },
     "0795c15e9bb54187b94097fe1f4fab10": {
      "model_module": "@jupyter-widgets/controls",
      "model_module_version": "1.4.0",
      "model_name": "IntProgressModel",
      "state": {
       "layout": "IPY_MODEL_664a0c47e455456dab906709d2931275",
       "max": 78,
       "style": "IPY_MODEL_a3414c52fafa438791d2210cd1f5e6b3",
       "value": 25
      }
     },
     "07cc531bf9a24c0f811ce74317005d51": {
      "model_module": "@jupyter-widgets/controls",
      "model_module_version": "1.4.0",
      "model_name": "HTMLModel",
      "state": {
       "layout": "IPY_MODEL_fdbc78b6865f45c39511c524cc04d1a3",
       "style": "IPY_MODEL_be5440e9f63748b784e8ce43bdca17b0",
       "value": " 49% 38/78 [00:00&lt;00:00, 378.05it/s]"
      }
     },
     "07de2469233a42eab64479d13eaf65cd": {
      "model_module": "@jupyter-widgets/controls",
      "model_module_version": "1.4.0",
      "model_name": "HTMLModel",
      "state": {
       "layout": "IPY_MODEL_f6a689d1499e4613859dffc0a8a6e202",
       "style": "IPY_MODEL_5fa8ff09df63452eaf7983dc0ef5bafc",
       "value": " 33% 26/78 [00:00&lt;00:00, 256.85it/s]"
      }
     },
     "07f100ac6a3f4452b39add4fd24fdf29": {
      "model_module": "@jupyter-widgets/base",
      "model_module_version": "1.1.0",
      "model_name": "LayoutModel",
      "state": {}
     },
     "07f1856ce13043bbb1b971f3635c30b4": {
      "model_module": "@jupyter-widgets/controls",
      "model_module_version": "1.4.0",
      "model_name": "IntProgressModel",
      "state": {
       "layout": "IPY_MODEL_ad60983523384512bf0c9ec2f0a078c9",
       "max": 17,
       "style": "IPY_MODEL_361fd418330f42de918088c57dead497",
       "value": 17
      }
     },
     "0815c29c06904c73a20787abcfc0a115": {
      "model_module": "@jupyter-widgets/controls",
      "model_module_version": "1.4.0",
      "model_name": "ProgressStyleModel",
      "state": {
       "description_width": ""
      }
     },
     "08227b3153994bdcbaae5d8227461032": {
      "model_module": "@jupyter-widgets/controls",
      "model_module_version": "1.4.0",
      "model_name": "IntProgressModel",
      "state": {
       "layout": "IPY_MODEL_8862b53b6cf64f13b5f350df64bd4fbe",
       "max": 78,
       "style": "IPY_MODEL_e881d33cf5ff4bd7adf28c3a2cdb8949",
       "value": 37
      }
     },
     "0822f1dc182149a585bb51d546e35cde": {
      "model_module": "@jupyter-widgets/controls",
      "model_module_version": "1.4.0",
      "model_name": "IntProgressModel",
      "state": {
       "layout": "IPY_MODEL_2b2d248723bb4242a09aa9ba7b318f85",
       "max": 78,
       "style": "IPY_MODEL_8425269522174b94b9ae42c8223f1716",
       "value": 60
      }
     },
     "0826af7c59d149ed8301a2e39566a125": {
      "model_module": "@jupyter-widgets/controls",
      "model_module_version": "1.4.0",
      "model_name": "HTMLModel",
      "state": {
       "layout": "IPY_MODEL_0f6ae9884ec446c9a2c2171859aa7598",
       "style": "IPY_MODEL_3ab5d09e7fab42d9a2461705a1f2603d",
       "value": " 17% 13/78 [00:00&lt;00:00, 119.86it/s]"
      }
     },
     "084122ca7809432abec831b8bcd11997": {
      "model_module": "@jupyter-widgets/base",
      "model_module_version": "1.1.0",
      "model_name": "LayoutModel",
      "state": {}
     },
     "085205821e1d4e509699fbff46e5a8a8": {
      "model_module": "@jupyter-widgets/controls",
      "model_module_version": "1.4.0",
      "model_name": "DescriptionStyleModel",
      "state": {
       "description_width": ""
      }
     },
     "086e916d166f4dcfaca79d8667f2be41": {
      "model_module": "@jupyter-widgets/base",
      "model_module_version": "1.1.0",
      "model_name": "LayoutModel",
      "state": {}
     },
     "087f3ab41cc949df912f9746aea16e89": {
      "model_module": "@jupyter-widgets/base",
      "model_module_version": "1.1.0",
      "model_name": "LayoutModel",
      "state": {}
     },
     "0889c13baada4742806402853b681964": {
      "model_module": "@jupyter-widgets/controls",
      "model_module_version": "1.4.0",
      "model_name": "ProgressStyleModel",
      "state": {
       "description_width": ""
      }
     },
     "08a7b853ca5e495a90ea9783d6ae4f42": {
      "model_module": "@jupyter-widgets/controls",
      "model_module_version": "1.4.0",
      "model_name": "IntProgressModel",
      "state": {
       "layout": "IPY_MODEL_a9c4949502894a5e9f6275ed27dd3408",
       "max": 17,
       "style": "IPY_MODEL_b912a423d72045769333efb4c85bca99",
       "value": 17
      }
     },
     "08c1a1af4d2e41d78c6fc4bf4e2579ed": {
      "model_module": "@jupyter-widgets/controls",
      "model_module_version": "1.4.0",
      "model_name": "DescriptionStyleModel",
      "state": {
       "description_width": ""
      }
     },
     "08e365dc7f5949d38144eed567e3f090": {
      "model_module": "@jupyter-widgets/controls",
      "model_module_version": "1.4.0",
      "model_name": "IntProgressModel",
      "state": {
       "layout": "IPY_MODEL_3ec10efaa6564a93842a6ade46fca19b",
       "max": 17,
       "style": "IPY_MODEL_ee71adf0f80c4afd893e35f9a8cde678",
       "value": 17
      }
     },
     "091f228ea40d4cc28420467c7a32be4f": {
      "model_module": "@jupyter-widgets/controls",
      "model_module_version": "1.4.0",
      "model_name": "ProgressStyleModel",
      "state": {
       "description_width": ""
      }
     },
     "093d4cd686e0459d8ed945f96ba4ba7f": {
      "model_module": "@jupyter-widgets/controls",
      "model_module_version": "1.4.0",
      "model_name": "IntProgressModel",
      "state": {
       "bar_style": "success",
       "layout": "IPY_MODEL_e7a2131d9b584bccb01a2ea7d3e259bb",
       "max": 78,
       "style": "IPY_MODEL_2ccba753f57e4e60a10aa2f38cea9581",
       "value": 78
      }
     },
     "095deefbba4c427a9c44b34a7d457e63": {
      "model_module": "@jupyter-widgets/base",
      "model_module_version": "1.1.0",
      "model_name": "LayoutModel",
      "state": {}
     },
     "0966592458e143a69366e780802be290": {
      "model_module": "@jupyter-widgets/controls",
      "model_module_version": "1.4.0",
      "model_name": "IntProgressModel",
      "state": {
       "layout": "IPY_MODEL_2a6b3b67a2054fcc8679c60a8345ebe2",
       "max": 17,
       "style": "IPY_MODEL_10b8f9ad87df482c8896e0d5faa979de",
       "value": 17
      }
     },
     "0989186623b145ac8d44f5b8950afec7": {
      "model_module": "@jupyter-widgets/base",
      "model_module_version": "1.1.0",
      "model_name": "LayoutModel",
      "state": {}
     },
     "098b07081c69493a9c31e17659729133": {
      "model_module": "@jupyter-widgets/controls",
      "model_module_version": "1.4.0",
      "model_name": "HTMLModel",
      "state": {
       "layout": "IPY_MODEL_233fb5cc71ff41fa872c359e51d548d8",
       "style": "IPY_MODEL_4be3901d0fde41539b2f94c52232e17d",
       "value": " 47% 37/78 [00:00&lt;00:00, 367.09it/s]"
      }
     },
     "098b688056d4495799a5e0055220f1b7": {
      "model_module": "@jupyter-widgets/controls",
      "model_module_version": "1.4.0",
      "model_name": "HTMLModel",
      "state": {
       "layout": "IPY_MODEL_0d50144bd5eb4a458ee627c23b214688",
       "style": "IPY_MODEL_b75a165782d844bda727f83af04e9323",
       "value": " 94% 73/78 [00:00&lt;00:00, 196.46it/s]"
      }
     },
     "09a4da78686644a7a8475a9d9051a89c": {
      "model_module": "@jupyter-widgets/controls",
      "model_module_version": "1.4.0",
      "model_name": "DescriptionStyleModel",
      "state": {
       "description_width": ""
      }
     },
     "09c07f72857a490f93a73268c56742da": {
      "model_module": "@jupyter-widgets/controls",
      "model_module_version": "1.4.0",
      "model_name": "IntProgressModel",
      "state": {
       "layout": "IPY_MODEL_4374013bf15c44d6a7e3bcb162870bc7",
       "max": 17,
       "style": "IPY_MODEL_1820a2ddad0e4c2499caed3149a843b5",
       "value": 17
      }
     },
     "09c3d1fc8672419d964ad2426cf2e853": {
      "model_module": "@jupyter-widgets/base",
      "model_module_version": "1.1.0",
      "model_name": "LayoutModel",
      "state": {}
     },
     "09d1d8adffaf4e8e9c0eef657f22bd43": {
      "model_module": "@jupyter-widgets/base",
      "model_module_version": "1.1.0",
      "model_name": "LayoutModel",
      "state": {}
     },
     "09d3e8c8ef5c42e2bf7fec4f00da46e2": {
      "model_module": "@jupyter-widgets/controls",
      "model_module_version": "1.4.0",
      "model_name": "IntProgressModel",
      "state": {
       "layout": "IPY_MODEL_0e103bc053214a1789f7b93566cfdf5b",
       "max": 17,
       "style": "IPY_MODEL_e8da6dea39cb4ed79a2d843d780c58b9",
       "value": 17
      }
     },
     "09da903ae7dc41149c3c0119d4f679bf": {
      "model_module": "@jupyter-widgets/controls",
      "model_module_version": "1.4.0",
      "model_name": "ProgressStyleModel",
      "state": {
       "description_width": ""
      }
     },
     "0a0cbb275c154594b03448aac36d8b62": {
      "model_module": "@jupyter-widgets/base",
      "model_module_version": "1.1.0",
      "model_name": "LayoutModel",
      "state": {}
     },
     "0a18990d4f9b498290bc65048289dbeb": {
      "model_module": "@jupyter-widgets/controls",
      "model_module_version": "1.4.0",
      "model_name": "ProgressStyleModel",
      "state": {
       "description_width": ""
      }
     },
     "0a21a7739c464ae3a0c81daa4a0d5602": {
      "model_module": "@jupyter-widgets/controls",
      "model_module_version": "1.4.0",
      "model_name": "HTMLModel",
      "state": {
       "layout": "IPY_MODEL_051b069150034f4b9a27cb6f74ba4053",
       "style": "IPY_MODEL_ec66316e2d4f4d82b685bc9e0c0f4674",
       "value": "100% 551/551 [00:02&lt;00:00, 186.80it/s]"
      }
     },
     "0a2c90168cda4a7f830f8daa3329ccf9": {
      "model_module": "@jupyter-widgets/base",
      "model_module_version": "1.1.0",
      "model_name": "LayoutModel",
      "state": {}
     },
     "0a4015369d7846b098cd9507d50a0034": {
      "model_module": "@jupyter-widgets/base",
      "model_module_version": "1.1.0",
      "model_name": "LayoutModel",
      "state": {}
     },
     "0a49d1505fa4485899ecf6ce1dd26758": {
      "model_module": "@jupyter-widgets/base",
      "model_module_version": "1.1.0",
      "model_name": "LayoutModel",
      "state": {}
     },
     "0a8fe34af5d3484b88b5beb9cfecb8d6": {
      "model_module": "@jupyter-widgets/controls",
      "model_module_version": "1.4.0",
      "model_name": "IntProgressModel",
      "state": {
       "layout": "IPY_MODEL_25133f689731495189f7170f4b28edc8",
       "max": 17,
       "style": "IPY_MODEL_99e70ecd14174a42aad70015486158d7",
       "value": 17
      }
     },
     "0addcf627d654174a426abd3d17a94e7": {
      "model_module": "@jupyter-widgets/controls",
      "model_module_version": "1.4.0",
      "model_name": "ProgressStyleModel",
      "state": {
       "description_width": ""
      }
     },
     "0af115c3533945a0b97075d1981f6eaa": {
      "model_module": "@jupyter-widgets/controls",
      "model_module_version": "1.4.0",
      "model_name": "HTMLModel",
      "state": {
       "layout": "IPY_MODEL_5b5bb94a540a4da6bb406fae47c92f01",
       "style": "IPY_MODEL_a59f431a322446d5b2629aab1e5b48be",
       "value": " 82% 64/78 [00:00&lt;00:00, 318.58it/s]"
      }
     },
     "0b5a24e6a00543c5a9db077e1f9f202c": {
      "model_module": "@jupyter-widgets/base",
      "model_module_version": "1.1.0",
      "model_name": "LayoutModel",
      "state": {}
     },
     "0b5b035e9e544951bdfe1190641fef25": {
      "model_module": "@jupyter-widgets/controls",
      "model_module_version": "1.4.0",
      "model_name": "HTMLModel",
      "state": {
       "layout": "IPY_MODEL_44c28c219b374596afc17c784bd56fad",
       "style": "IPY_MODEL_2a1dc0a7c2ed473fa3ab8bf381027455",
       "value": " 14% 11/78 [00:00&lt;00:00, 107.02it/s]"
      }
     },
     "0b8a6fb36b1245fa8890c545182b0a08": {
      "model_module": "@jupyter-widgets/base",
      "model_module_version": "1.1.0",
      "model_name": "LayoutModel",
      "state": {}
     },
     "0b8ba63a1778421197762ca4c2aca37c": {
      "model_module": "@jupyter-widgets/controls",
      "model_module_version": "1.4.0",
      "model_name": "ProgressStyleModel",
      "state": {
       "description_width": ""
      }
     },
     "0bae525844ef4e369808582ef67ffa1c": {
      "model_module": "@jupyter-widgets/controls",
      "model_module_version": "1.4.0",
      "model_name": "DescriptionStyleModel",
      "state": {
       "description_width": ""
      }
     },
     "0bbc592443ab4966bcab687fd3732582": {
      "model_module": "@jupyter-widgets/base",
      "model_module_version": "1.1.0",
      "model_name": "LayoutModel",
      "state": {}
     },
     "0bc5b1035396473c9f312fa375a56906": {
      "model_module": "@jupyter-widgets/controls",
      "model_module_version": "1.4.0",
      "model_name": "IntProgressModel",
      "state": {
       "layout": "IPY_MODEL_12afb91f44614719bbade0bf78858d55",
       "max": 78,
       "style": "IPY_MODEL_11e20eb1d42249d88d45fc1190020374",
       "value": 66
      }
     },
     "0bc85824d3144c8287953069e00b79ca": {
      "model_module": "@jupyter-widgets/base",
      "model_module_version": "1.1.0",
      "model_name": "LayoutModel",
      "state": {}
     },
     "0bcce86e3dfe41a6aeb780dcae6be6fa": {
      "model_module": "@jupyter-widgets/controls",
      "model_module_version": "1.4.0",
      "model_name": "HTMLModel",
      "state": {
       "layout": "IPY_MODEL_21bf34696ad14e8db900fdaa06290b80",
       "style": "IPY_MODEL_1b8ad1ac65394f81b59b972ab6eddd4f",
       "value": "100% 17/17 [00:07&lt;00:00,  2.40it/s]"
      }
     },
     "0bf47a5c13734a46bc7d054e5c00114d": {
      "model_module": "@jupyter-widgets/controls",
      "model_module_version": "1.4.0",
      "model_name": "DescriptionStyleModel",
      "state": {
       "description_width": ""
      }
     },
     "0bfe2a05fb334fa1b4b2a70940b18b84": {
      "model_module": "@jupyter-widgets/controls",
      "model_module_version": "1.4.0",
      "model_name": "IntProgressModel",
      "state": {
       "layout": "IPY_MODEL_799e723f434c4e3eaddad5dea9e8b6f7",
       "max": 17,
       "style": "IPY_MODEL_02f3d2dceb76460fab769e9cbb987503",
       "value": 17
      }
     },
     "0c0001a3718446fbb755d8ace49c4e62": {
      "model_module": "@jupyter-widgets/controls",
      "model_module_version": "1.4.0",
      "model_name": "HTMLModel",
      "state": {
       "layout": "IPY_MODEL_06d6f8946aee4cf7b385335aee21b9c2",
       "style": "IPY_MODEL_f661f7fc4a344103b0e272a0916deccd",
       "value": " 23% 18/78 [00:00&lt;00:00, 145.00it/s]"
      }
     },
     "0c04549c07324f8cb8abb88c20e8f6e3": {
      "model_module": "@jupyter-widgets/controls",
      "model_module_version": "1.4.0",
      "model_name": "ProgressStyleModel",
      "state": {
       "description_width": ""
      }
     },
     "0c5a4855c7074962803cc3c6b46acd8c": {
      "model_module": "@jupyter-widgets/controls",
      "model_module_version": "1.4.0",
      "model_name": "IntProgressModel",
      "state": {
       "layout": "IPY_MODEL_239f4dbff1ad40b7bf6b59320e365f9a",
       "max": 78,
       "style": "IPY_MODEL_8af625fbc80c4ba1a8be7a785f4a7f63",
       "value": 8
      }
     },
     "0c5c29794a774e6bb85ebf83197bda9e": {
      "model_module": "@jupyter-widgets/base",
      "model_module_version": "1.1.0",
      "model_name": "LayoutModel",
      "state": {}
     },
     "0ccc7409a22b450dbaf957b40f89402c": {
      "model_module": "@jupyter-widgets/controls",
      "model_module_version": "1.4.0",
      "model_name": "ProgressStyleModel",
      "state": {
       "description_width": ""
      }
     },
     "0cdd2051f5444118b7f7f56db40317b5": {
      "model_module": "@jupyter-widgets/controls",
      "model_module_version": "1.4.0",
      "model_name": "HTMLModel",
      "state": {
       "layout": "IPY_MODEL_999217ca9f7f4ab395ade54481661b30",
       "style": "IPY_MODEL_7eda2c7c5d6a4bb3a09908866dc9d4dc",
       "value": "100% 17/17 [00:06&lt;00:00,  2.54it/s]"
      }
     },
     "0d203757ed9d4a9bb16aef9596cada2c": {
      "model_module": "@jupyter-widgets/base",
      "model_module_version": "1.1.0",
      "model_name": "LayoutModel",
      "state": {}
     },
     "0d392484ff75468fa571f82213ae8b2c": {
      "model_module": "@jupyter-widgets/controls",
      "model_module_version": "1.4.0",
      "model_name": "DescriptionStyleModel",
      "state": {
       "description_width": ""
      }
     },
     "0d50144bd5eb4a458ee627c23b214688": {
      "model_module": "@jupyter-widgets/base",
      "model_module_version": "1.1.0",
      "model_name": "LayoutModel",
      "state": {}
     },
     "0d58fc6c0f6a43e3bee5e74f041947c4": {
      "model_module": "@jupyter-widgets/controls",
      "model_module_version": "1.4.0",
      "model_name": "ProgressStyleModel",
      "state": {
       "description_width": ""
      }
     },
     "0d71f86a1d5f4f5690357692d2b70400": {
      "model_module": "@jupyter-widgets/base",
      "model_module_version": "1.1.0",
      "model_name": "LayoutModel",
      "state": {}
     },
     "0ded225d9cb74e929328ccfd139db44d": {
      "model_module": "@jupyter-widgets/controls",
      "model_module_version": "1.4.0",
      "model_name": "ProgressStyleModel",
      "state": {
       "description_width": ""
      }
     },
     "0e103bc053214a1789f7b93566cfdf5b": {
      "model_module": "@jupyter-widgets/base",
      "model_module_version": "1.1.0",
      "model_name": "LayoutModel",
      "state": {}
     },
     "0e6b495ca2674725b6ed268d71b9372b": {
      "model_module": "@jupyter-widgets/controls",
      "model_module_version": "1.4.0",
      "model_name": "DescriptionStyleModel",
      "state": {
       "description_width": ""
      }
     },
     "0e708d5b188d4aeaa000e6a41c808d0c": {
      "model_module": "@jupyter-widgets/controls",
      "model_module_version": "1.4.0",
      "model_name": "HTMLModel",
      "state": {
       "layout": "IPY_MODEL_526b60c5bcf243f6818674cbf33e4997",
       "style": "IPY_MODEL_2d41d6547a124015ae4bdd49a6b9dbd2",
       "value": " 33% 26/78 [00:00&lt;00:00, 258.13it/s]"
      }
     },
     "0e7738e44496412291ddaeff5c58b5d6": {
      "model_module": "@jupyter-widgets/controls",
      "model_module_version": "1.4.0",
      "model_name": "HTMLModel",
      "state": {
       "layout": "IPY_MODEL_772974a48c9f4a76ae26bd226247c918",
       "style": "IPY_MODEL_1dc7cc3eddcf4688b94d74e627f7ee55",
       "value": "100% 17/17 [00:05&lt;00:00,  3.10it/s]"
      }
     },
     "0e7ffd1191604ed3bf79f86c261f00f1": {
      "model_module": "@jupyter-widgets/controls",
      "model_module_version": "1.4.0",
      "model_name": "ProgressStyleModel",
      "state": {
       "description_width": ""
      }
     },
     "0e960b77a92746428dfa6845fc4f8e46": {
      "model_module": "@jupyter-widgets/controls",
      "model_module_version": "1.4.0",
      "model_name": "HTMLModel",
      "state": {
       "layout": "IPY_MODEL_e9732e86bca64c0291fa28c95aa5a060",
       "style": "IPY_MODEL_3b04a1a9a5ad4deb8d35f5164a5d37c5",
       "value": " 35% 27/78 [00:00&lt;00:00, 266.82it/s]"
      }
     },
     "0ea308c8a10547888bff4328d0b4c39b": {
      "model_module": "@jupyter-widgets/base",
      "model_module_version": "1.1.0",
      "model_name": "LayoutModel",
      "state": {}
     },
     "0ec0890b3a3e4b4fad99fa73fffacdb2": {
      "model_module": "@jupyter-widgets/base",
      "model_module_version": "1.1.0",
      "model_name": "LayoutModel",
      "state": {}
     },
     "0ed168632e0447abacd80b94e3a92a8e": {
      "model_module": "@jupyter-widgets/controls",
      "model_module_version": "1.4.0",
      "model_name": "IntProgressModel",
      "state": {
       "layout": "IPY_MODEL_1de52e9c4b7b4c89b248213a63d0d398",
       "max": 17,
       "style": "IPY_MODEL_91bb1ac54ab643309440c6fe65940e5e",
       "value": 17
      }
     },
     "0ee74e0900fe41b99f53ec524a4b30ed": {
      "model_module": "@jupyter-widgets/base",
      "model_module_version": "1.1.0",
      "model_name": "LayoutModel",
      "state": {}
     },
     "0ef5cbb5c95745599cebd29dfd50db49": {
      "model_module": "@jupyter-widgets/controls",
      "model_module_version": "1.4.0",
      "model_name": "DescriptionStyleModel",
      "state": {
       "description_width": ""
      }
     },
     "0ef6d4e75f114122b817c7d8a30b8b2d": {
      "model_module": "@jupyter-widgets/base",
      "model_module_version": "1.1.0",
      "model_name": "LayoutModel",
      "state": {}
     },
     "0efc93e871664f37a7ea2d03bcb05af8": {
      "model_module": "@jupyter-widgets/base",
      "model_module_version": "1.1.0",
      "model_name": "LayoutModel",
      "state": {}
     },
     "0f0aadc3da154498920ae7f985173abe": {
      "model_module": "@jupyter-widgets/base",
      "model_module_version": "1.1.0",
      "model_name": "LayoutModel",
      "state": {}
     },
     "0f2ccca352214972af47500513f5a351": {
      "model_module": "@jupyter-widgets/base",
      "model_module_version": "1.1.0",
      "model_name": "LayoutModel",
      "state": {}
     },
     "0f30262d723d41eeb47bb27b79968304": {
      "model_module": "@jupyter-widgets/controls",
      "model_module_version": "1.4.0",
      "model_name": "DescriptionStyleModel",
      "state": {
       "description_width": ""
      }
     },
     "0f4d3b868eb746e7a4ce7c01abd3fc8e": {
      "model_module": "@jupyter-widgets/base",
      "model_module_version": "1.1.0",
      "model_name": "LayoutModel",
      "state": {}
     },
     "0f67128964e1432e89f2d48cc5a8d340": {
      "model_module": "@jupyter-widgets/controls",
      "model_module_version": "1.4.0",
      "model_name": "HTMLModel",
      "state": {
       "layout": "IPY_MODEL_adc54382b54e4f488af5bdd26ff14766",
       "style": "IPY_MODEL_6bf754b39d8e413eb3a61db99dc25e16",
       "value": " 29% 23/78 [00:00&lt;00:00, 223.26it/s]"
      }
     },
     "0f6ae9884ec446c9a2c2171859aa7598": {
      "model_module": "@jupyter-widgets/base",
      "model_module_version": "1.1.0",
      "model_name": "LayoutModel",
      "state": {}
     },
     "0f6f580af4fc4d8786d394903e3c000d": {
      "model_module": "@jupyter-widgets/controls",
      "model_module_version": "1.4.0",
      "model_name": "IntProgressModel",
      "state": {
       "layout": "IPY_MODEL_0bc85824d3144c8287953069e00b79ca",
       "max": 78,
       "style": "IPY_MODEL_ba8eb445203b4bfa87862252eca34142",
       "value": 55
      }
     },
     "0faa3534d7b145f488c060515bdcc44c": {
      "model_module": "@jupyter-widgets/controls",
      "model_module_version": "1.4.0",
      "model_name": "IntProgressModel",
      "state": {
       "layout": "IPY_MODEL_715c1b27f64d4c4e94c81a49001b9024",
       "max": 17,
       "style": "IPY_MODEL_b798dcfaa3db4822960cb55311c52cd5",
       "value": 17
      }
     },
     "0fc6c9b0aace47a08b85a62910fb615a": {
      "model_module": "@jupyter-widgets/controls",
      "model_module_version": "1.4.0",
      "model_name": "DescriptionStyleModel",
      "state": {
       "description_width": ""
      }
     },
     "0feca056078f4cc199550f67dc8d0ae7": {
      "model_module": "@jupyter-widgets/controls",
      "model_module_version": "1.4.0",
      "model_name": "DescriptionStyleModel",
      "state": {
       "description_width": ""
      }
     },
     "0ff5bea892da4b5cac0e0c8377288dd0": {
      "model_module": "@jupyter-widgets/controls",
      "model_module_version": "1.4.0",
      "model_name": "HTMLModel",
      "state": {
       "layout": "IPY_MODEL_801108d6e0f246dc84df15c0a34d1593",
       "style": "IPY_MODEL_a0bafabb81744fda8b5cc26ebe47bc05",
       "value": " 40% 31/78 [00:00&lt;00:00, 309.21it/s]"
      }
     },
     "1012faa40caa4ea18a8a8e6960aae2a8": {
      "model_module": "@jupyter-widgets/base",
      "model_module_version": "1.1.0",
      "model_name": "LayoutModel",
      "state": {}
     },
     "101d8f2b38a04d41bf2ff646c242e75a": {
      "model_module": "@jupyter-widgets/controls",
      "model_module_version": "1.4.0",
      "model_name": "IntProgressModel",
      "state": {
       "layout": "IPY_MODEL_27ec63c7b16544e89840e2e5d012f23a",
       "max": 78,
       "style": "IPY_MODEL_a673fae880764d55a73bc551a3776fe8",
       "value": 18
      }
     },
     "1053dc7684af44b0b65d295213b04b2c": {
      "model_module": "@jupyter-widgets/base",
      "model_module_version": "1.1.0",
      "model_name": "LayoutModel",
      "state": {}
     },
     "10829246e5ce4b82a495f9b9dd214e56": {
      "model_module": "@jupyter-widgets/base",
      "model_module_version": "1.1.0",
      "model_name": "LayoutModel",
      "state": {}
     },
     "108df54bcd214e39ace1647b5c70f6d3": {
      "model_module": "@jupyter-widgets/controls",
      "model_module_version": "1.4.0",
      "model_name": "DescriptionStyleModel",
      "state": {
       "description_width": ""
      }
     },
     "10abc36e388e4ca8b5fc86e71169b96c": {
      "model_module": "@jupyter-widgets/controls",
      "model_module_version": "1.4.0",
      "model_name": "HTMLModel",
      "state": {
       "layout": "IPY_MODEL_c66cfd33d87548f999d522e4cd060f5a",
       "style": "IPY_MODEL_41b5a48b9fa84ca783ba4d30a33a0c18",
       "value": " 99% 77/78 [00:00&lt;00:00, 374.06it/s]"
      }
     },
     "10b5aded8acb40dda83507c0c7563a49": {
      "model_module": "@jupyter-widgets/base",
      "model_module_version": "1.1.0",
      "model_name": "LayoutModel",
      "state": {}
     },
     "10b8f9ad87df482c8896e0d5faa979de": {
      "model_module": "@jupyter-widgets/controls",
      "model_module_version": "1.4.0",
      "model_name": "ProgressStyleModel",
      "state": {
       "description_width": ""
      }
     },
     "10d16908e68a4fd28fd4d686984d0dd6": {
      "model_module": "@jupyter-widgets/controls",
      "model_module_version": "1.4.0",
      "model_name": "ProgressStyleModel",
      "state": {
       "description_width": ""
      }
     },
     "10d85a47af3c446fb2e84a842b10b94a": {
      "model_module": "@jupyter-widgets/controls",
      "model_module_version": "1.4.0",
      "model_name": "IntProgressModel",
      "state": {
       "layout": "IPY_MODEL_45a8c6b6d2294c499683f3f2c5435116",
       "max": 78,
       "style": "IPY_MODEL_8f3d8bf8d2d14d0e9e0837ab37592289",
       "value": 69
      }
     },
     "10e7c489916542229f84a7529f694504": {
      "model_module": "@jupyter-widgets/controls",
      "model_module_version": "1.4.0",
      "model_name": "HTMLModel",
      "state": {
       "layout": "IPY_MODEL_a4700733b8834009800003b88840605f",
       "style": "IPY_MODEL_5f794bf040da48ecb62dca9bf1afbce3",
       "value": " 53% 41/78 [00:00&lt;00:00, 407.30it/s]"
      }
     },
     "111cd19fc308416fbc7e6e05556d9d92": {
      "model_module": "@jupyter-widgets/controls",
      "model_module_version": "1.4.0",
      "model_name": "DescriptionStyleModel",
      "state": {
       "description_width": ""
      }
     },
     "11374abae6044952984c81bbf872856f": {
      "model_module": "@jupyter-widgets/controls",
      "model_module_version": "1.4.0",
      "model_name": "HTMLModel",
      "state": {
       "layout": "IPY_MODEL_dc5711d70bb941499c3578ec698a07bc",
       "style": "IPY_MODEL_52db68e608614cc8a4c1603e61550575",
       "value": "100% 17/17 [00:04&lt;00:00,  3.74it/s]"
      }
     },
     "118e533d57064efeaf52b9d6dda32223": {
      "model_module": "@jupyter-widgets/controls",
      "model_module_version": "1.4.0",
      "model_name": "IntProgressModel",
      "state": {
       "layout": "IPY_MODEL_7ff0f62bcf2546cf865f4081ba81490e",
       "max": 17,
       "style": "IPY_MODEL_09da903ae7dc41149c3c0119d4f679bf",
       "value": 17
      }
     },
     "11a5ff8320b0483bbd777de4468a65a7": {
      "model_module": "@jupyter-widgets/controls",
      "model_module_version": "1.4.0",
      "model_name": "ProgressStyleModel",
      "state": {
       "description_width": ""
      }
     },
     "11c99c90848146eab95f9b7921bad630": {
      "model_module": "@jupyter-widgets/controls",
      "model_module_version": "1.4.0",
      "model_name": "IntProgressModel",
      "state": {
       "layout": "IPY_MODEL_c0e2a88794e8484982f0ab70cd2ece1d",
       "max": 78,
       "style": "IPY_MODEL_9b89fb2c4d7a42d1aba0294cfe39949b",
       "value": 56
      }
     },
     "11d84592e77e49e8aff1dd0df0051695": {
      "model_module": "@jupyter-widgets/controls",
      "model_module_version": "1.4.0",
      "model_name": "IntProgressModel",
      "state": {
       "layout": "IPY_MODEL_f783d32c13d24c2cbc8c25462467b653",
       "max": 78,
       "style": "IPY_MODEL_c843231810a649869ed790560fd0cbe2",
       "value": 38
      }
     },
     "11e20eb1d42249d88d45fc1190020374": {
      "model_module": "@jupyter-widgets/controls",
      "model_module_version": "1.4.0",
      "model_name": "ProgressStyleModel",
      "state": {
       "description_width": ""
      }
     },
     "11e676fbcca04608a2ac9e1ff4b6c8a9": {
      "model_module": "@jupyter-widgets/controls",
      "model_module_version": "1.4.0",
      "model_name": "ProgressStyleModel",
      "state": {
       "description_width": ""
      }
     },
     "1213b0cb16ea4c57b1cdab0afe8a56f2": {
      "model_module": "@jupyter-widgets/controls",
      "model_module_version": "1.4.0",
      "model_name": "IntProgressModel",
      "state": {
       "layout": "IPY_MODEL_38c5f0f1fa0b4010b23414e670158861",
       "max": 17,
       "style": "IPY_MODEL_5ca9dd426bef4d35b00fbfa36cd42448",
       "value": 17
      }
     },
     "12245933b15c428d82ac7b3d69891c97": {
      "model_module": "@jupyter-widgets/base",
      "model_module_version": "1.1.0",
      "model_name": "LayoutModel",
      "state": {}
     },
     "124a120e406b4465a7c1247b11f04390": {
      "model_module": "@jupyter-widgets/controls",
      "model_module_version": "1.4.0",
      "model_name": "DescriptionStyleModel",
      "state": {
       "description_width": ""
      }
     },
     "126c2c189b43499580cc0aeef8ce364c": {
      "model_module": "@jupyter-widgets/controls",
      "model_module_version": "1.4.0",
      "model_name": "IntProgressModel",
      "state": {
       "layout": "IPY_MODEL_5eb7c522a0bf4e40a53827e55dc5ae14",
       "max": 17,
       "style": "IPY_MODEL_dc5235f8a2d54e099305b4dd3736fa3a",
       "value": 17
      }
     },
     "127e51aa72274bd69f003919f13ecdfa": {
      "model_module": "@jupyter-widgets/controls",
      "model_module_version": "1.4.0",
      "model_name": "IntProgressModel",
      "state": {
       "layout": "IPY_MODEL_d29e4a1428fe405c90a20b661598a960",
       "max": 78,
       "style": "IPY_MODEL_c6592fe6adde4450a178e13363a12940"
      }
     },
     "12a74321875045158cd3fdd378e9275e": {
      "model_module": "@jupyter-widgets/base",
      "model_module_version": "1.1.0",
      "model_name": "LayoutModel",
      "state": {}
     },
     "12afb91f44614719bbade0bf78858d55": {
      "model_module": "@jupyter-widgets/base",
      "model_module_version": "1.1.0",
      "model_name": "LayoutModel",
      "state": {}
     },
     "12bf943df6234cb99f70c1291670d109": {
      "model_module": "@jupyter-widgets/controls",
      "model_module_version": "1.4.0",
      "model_name": "IntProgressModel",
      "state": {
       "layout": "IPY_MODEL_eb604621f4d24e63b71b8975824950aa",
       "max": 78,
       "style": "IPY_MODEL_cef275412ec64e3a956b44f356206159",
       "value": 1
      }
     },
     "131cd5a0dd054f72b73d8674e18a215a": {
      "model_module": "@jupyter-widgets/base",
      "model_module_version": "1.1.0",
      "model_name": "LayoutModel",
      "state": {}
     },
     "1324b641c57f4d83851bc35ab7245e45": {
      "model_module": "@jupyter-widgets/base",
      "model_module_version": "1.1.0",
      "model_name": "LayoutModel",
      "state": {}
     },
     "133ddf3af689417ab990c90502244e95": {
      "model_module": "@jupyter-widgets/controls",
      "model_module_version": "1.4.0",
      "model_name": "ProgressStyleModel",
      "state": {
       "description_width": ""
      }
     },
     "13789b7e32fe49678a32286ab4f8e26c": {
      "model_module": "@jupyter-widgets/controls",
      "model_module_version": "1.4.0",
      "model_name": "IntProgressModel",
      "state": {
       "layout": "IPY_MODEL_1fd1cb14b1634f5ba42aef42a2218538",
       "max": 17,
       "style": "IPY_MODEL_f8ca0e9f4b0a4578bff945becc0c027c",
       "value": 17
      }
     },
     "1384a64a1034498f8f5f1cb3cbcd46e5": {
      "model_module": "@jupyter-widgets/controls",
      "model_module_version": "1.4.0",
      "model_name": "HTMLModel",
      "state": {
       "layout": "IPY_MODEL_7ca63c45ab4646a89a422200e09f124b",
       "style": "IPY_MODEL_5c3595eaa3ab4c11aad13415c87da299",
       "value": " 78% 61/78 [00:00&lt;00:00, 609.43it/s]"
      }
     },
     "139e5769ea0645c397854d11cadfa4fb": {
      "model_module": "@jupyter-widgets/controls",
      "model_module_version": "1.4.0",
      "model_name": "IntProgressModel",
      "state": {
       "layout": "IPY_MODEL_f43f2ea18a7043a1a003a75a188dcc9f",
       "max": 17,
       "style": "IPY_MODEL_5e2f12b665dc4f7380c05ccc38c8fdb8",
       "value": 17
      }
     },
     "13b0be8f829442169fdd42bd78fe60d4": {
      "model_module": "@jupyter-widgets/controls",
      "model_module_version": "1.4.0",
      "model_name": "IntProgressModel",
      "state": {
       "layout": "IPY_MODEL_b3e6dfb2129340e9882e8bfb41304391",
       "max": 78,
       "style": "IPY_MODEL_aae5858464a74446b5b88d9731ebb1ab",
       "value": 43
      }
     },
     "13ba08e9c99d4130ac3a4b0410154805": {
      "model_module": "@jupyter-widgets/controls",
      "model_module_version": "1.4.0",
      "model_name": "DescriptionStyleModel",
      "state": {
       "description_width": ""
      }
     },
     "13e33d79ba0a4857869b1ff108ceb51b": {
      "model_module": "@jupyter-widgets/base",
      "model_module_version": "1.1.0",
      "model_name": "LayoutModel",
      "state": {}
     },
     "13e5ba01a20140818ebf8530088539c8": {
      "model_module": "@jupyter-widgets/base",
      "model_module_version": "1.1.0",
      "model_name": "LayoutModel",
      "state": {}
     },
     "140acafc547b47df85d784563dd79fe6": {
      "model_module": "@jupyter-widgets/controls",
      "model_module_version": "1.4.0",
      "model_name": "IntProgressModel",
      "state": {
       "layout": "IPY_MODEL_4ebcc934d4884899a685c64b14c12145",
       "max": 17,
       "style": "IPY_MODEL_d454fe4464744ca6975053e972b3d8a6",
       "value": 17
      }
     },
     "140e7c06c02246078b1466a3febcca13": {
      "model_module": "@jupyter-widgets/base",
      "model_module_version": "1.1.0",
      "model_name": "LayoutModel",
      "state": {}
     },
     "14390856641f48d29c9b2ed3c51a9e83": {
      "model_module": "@jupyter-widgets/controls",
      "model_module_version": "1.4.0",
      "model_name": "ProgressStyleModel",
      "state": {
       "description_width": ""
      }
     },
     "1481fc262b38408cb862cbbfc36832be": {
      "model_module": "@jupyter-widgets/base",
      "model_module_version": "1.1.0",
      "model_name": "LayoutModel",
      "state": {}
     },
     "148f270aa8fc4ef5a93f7da6942924ac": {
      "model_module": "@jupyter-widgets/controls",
      "model_module_version": "1.4.0",
      "model_name": "DescriptionStyleModel",
      "state": {
       "description_width": ""
      }
     },
     "14b2a838a10c4ea3962e085fb44abe67": {
      "model_module": "@jupyter-widgets/controls",
      "model_module_version": "1.4.0",
      "model_name": "HTMLModel",
      "state": {
       "layout": "IPY_MODEL_d41d830032be4ea2bccb177e88b5385c",
       "style": "IPY_MODEL_2b0c0b9f1a5944e786743697df056af7",
       "value": " 99% 77/78 [00:00&lt;00:00, 249.27it/s]"
      }
     },
     "14c0b5fd08fc4f57b9fa68082bb10a59": {
      "model_module": "@jupyter-widgets/controls",
      "model_module_version": "1.4.0",
      "model_name": "DescriptionStyleModel",
      "state": {
       "description_width": ""
      }
     },
     "153ca126bd9d4e739a682b1bfcd01dc3": {
      "model_module": "@jupyter-widgets/base",
      "model_module_version": "1.1.0",
      "model_name": "LayoutModel",
      "state": {}
     },
     "153efe5e64e140339a6202652fc275c9": {
      "model_module": "@jupyter-widgets/controls",
      "model_module_version": "1.4.0",
      "model_name": "HTMLModel",
      "state": {
       "layout": "IPY_MODEL_5d606e9a455242938955ac4249e18283",
       "style": "IPY_MODEL_fd12f55906624d8a9db2c3ca824d2b7e",
       "value": "100% 17/17 [00:06&lt;00:00,  2.80it/s]"
      }
     },
     "15506682e1904fb1898e1e620a16e5cd": {
      "model_module": "@jupyter-widgets/base",
      "model_module_version": "1.1.0",
      "model_name": "LayoutModel",
      "state": {}
     },
     "156033c451754f77a41d5ce119dccd8b": {
      "model_module": "@jupyter-widgets/controls",
      "model_module_version": "1.4.0",
      "model_name": "ProgressStyleModel",
      "state": {
       "description_width": ""
      }
     },
     "157cf71099b34bc29b72ccd071e04314": {
      "model_module": "@jupyter-widgets/base",
      "model_module_version": "1.1.0",
      "model_name": "LayoutModel",
      "state": {}
     },
     "15906762cd774bd28d884cca247bb41f": {
      "model_module": "@jupyter-widgets/base",
      "model_module_version": "1.1.0",
      "model_name": "LayoutModel",
      "state": {}
     },
     "15c09a2206e34a8eb2b3535e6fb29c82": {
      "model_module": "@jupyter-widgets/base",
      "model_module_version": "1.1.0",
      "model_name": "LayoutModel",
      "state": {}
     },
     "15ce3545aabb44fdb2464111b1a5b5d5": {
      "model_module": "@jupyter-widgets/base",
      "model_module_version": "1.1.0",
      "model_name": "LayoutModel",
      "state": {}
     },
     "15d58bd6c052411289203350cfbe9331": {
      "model_module": "@jupyter-widgets/base",
      "model_module_version": "1.1.0",
      "model_name": "LayoutModel",
      "state": {}
     },
     "1608559b8a274ee5a7649cf7f7aa4158": {
      "model_module": "@jupyter-widgets/controls",
      "model_module_version": "1.4.0",
      "model_name": "ProgressStyleModel",
      "state": {
       "description_width": ""
      }
     },
     "163e40de43f54b38a0129e1677122395": {
      "model_module": "@jupyter-widgets/controls",
      "model_module_version": "1.4.0",
      "model_name": "ProgressStyleModel",
      "state": {
       "description_width": ""
      }
     },
     "1643d6664a4343809365f8ab6f02234b": {
      "model_module": "@jupyter-widgets/controls",
      "model_module_version": "1.4.0",
      "model_name": "IntProgressModel",
      "state": {
       "layout": "IPY_MODEL_ad28416fed8d479ebf8fc997a5a2871b",
       "max": 78,
       "style": "IPY_MODEL_74d6bcf9da964714896e62547ad04faf",
       "value": 70
      }
     },
     "16739369b32c4edba6eafa814eafe703": {
      "model_module": "@jupyter-widgets/base",
      "model_module_version": "1.1.0",
      "model_name": "LayoutModel",
      "state": {}
     },
     "167cc5c7801b4b129c926e9157bcbf1a": {
      "model_module": "@jupyter-widgets/controls",
      "model_module_version": "1.4.0",
      "model_name": "HTMLModel",
      "state": {
       "layout": "IPY_MODEL_9c74d74069be4ce5b448cea015e11fd4",
       "style": "IPY_MODEL_e9f2824a0aa3467597a2f58e0017e468",
       "value": "  0% 0/78 [00:00&lt;?, ?it/s]"
      }
     },
     "168cd8eec9f24be5b28bd97f88cbf722": {
      "model_module": "@jupyter-widgets/controls",
      "model_module_version": "1.4.0",
      "model_name": "IntProgressModel",
      "state": {
       "layout": "IPY_MODEL_d53af6633b6946df857a819eab6d3408",
       "max": 17,
       "style": "IPY_MODEL_9361007f4903493da0ebb9fca6a46416",
       "value": 17
      }
     },
     "16e5d67db4b8435a94c7d28725744b73": {
      "model_module": "@jupyter-widgets/controls",
      "model_module_version": "1.4.0",
      "model_name": "IntProgressModel",
      "state": {
       "layout": "IPY_MODEL_5f980e4ff3ff4c7f81de585c35bddee2",
       "max": 78,
       "style": "IPY_MODEL_8dd54603a5cc442e91f5a7be382e174b",
       "value": 50
      }
     },
     "17097a1e144b4dc5ab55a1c4a9588ffb": {
      "model_module": "@jupyter-widgets/controls",
      "model_module_version": "1.4.0",
      "model_name": "IntProgressModel",
      "state": {
       "layout": "IPY_MODEL_9d4ac588270245a5af4dd4b1f20185de",
       "max": 17,
       "style": "IPY_MODEL_a111ac4ccb7d4d00a2653033107542e4",
       "value": 17
      }
     },
     "17228d0981fe4f30a10b7b873caba2df": {
      "model_module": "@jupyter-widgets/controls",
      "model_module_version": "1.4.0",
      "model_name": "ProgressStyleModel",
      "state": {
       "description_width": ""
      }
     },
     "173e89dcd91845ccbb64064ab55f77ac": {
      "model_module": "@jupyter-widgets/base",
      "model_module_version": "1.1.0",
      "model_name": "LayoutModel",
      "state": {}
     },
     "17a06ee375834304ad7229979c9395b4": {
      "model_module": "@jupyter-widgets/controls",
      "model_module_version": "1.4.0",
      "model_name": "IntProgressModel",
      "state": {
       "layout": "IPY_MODEL_cad2db0d490c4b6e87c1e14a7c0a744f",
       "max": 78,
       "style": "IPY_MODEL_7a34066bf166459f8a7f36618fab9ef9",
       "value": 12
      }
     },
     "181fa24839b04f9e8cf566804adb168b": {
      "model_module": "@jupyter-widgets/base",
      "model_module_version": "1.1.0",
      "model_name": "LayoutModel",
      "state": {}
     },
     "1820a2ddad0e4c2499caed3149a843b5": {
      "model_module": "@jupyter-widgets/controls",
      "model_module_version": "1.4.0",
      "model_name": "ProgressStyleModel",
      "state": {
       "description_width": ""
      }
     },
     "184d9bb78d3f49d182f992f2ebcee9f4": {
      "model_module": "@jupyter-widgets/controls",
      "model_module_version": "1.4.0",
      "model_name": "IntProgressModel",
      "state": {
       "layout": "IPY_MODEL_8df52dabb8b846cc87ddb394b1481801",
       "max": 78,
       "style": "IPY_MODEL_c664a2db70f0466fbd4764a5fb561d98",
       "value": 12
      }
     },
     "189df158dd1246b0a55c176d5e9dfb28": {
      "model_module": "@jupyter-widgets/controls",
      "model_module_version": "1.4.0",
      "model_name": "HTMLModel",
      "state": {
       "layout": "IPY_MODEL_fa562648d22f4c3f8ac4b269bc0c9fec",
       "style": "IPY_MODEL_61e9bb962eba49bfb7c276c9f38070f4",
       "value": "100% 17/17 [00:05&lt;00:00,  3.10it/s]"
      }
     },
     "189e42061f064979bbbc20ff2fdc443d": {
      "model_module": "@jupyter-widgets/base",
      "model_module_version": "1.1.0",
      "model_name": "LayoutModel",
      "state": {}
     },
     "18d9163718e9432faecbe74fdf2d6aaa": {
      "model_module": "@jupyter-widgets/controls",
      "model_module_version": "1.4.0",
      "model_name": "HTMLModel",
      "state": {
       "layout": "IPY_MODEL_731becc8af3a4e8298b36ecd7a0efb4b",
       "style": "IPY_MODEL_3ac742ef200942b5a1b16cb4271bfc2d",
       "value": " 19% 15/78 [00:00&lt;00:00, 137.60it/s]"
      }
     },
     "18d9ae5099814ff099fa256504d04219": {
      "model_module": "@jupyter-widgets/base",
      "model_module_version": "1.1.0",
      "model_name": "LayoutModel",
      "state": {}
     },
     "18e70bfdf15d4d00977eeddbe5114b14": {
      "model_module": "@jupyter-widgets/controls",
      "model_module_version": "1.4.0",
      "model_name": "DescriptionStyleModel",
      "state": {
       "description_width": ""
      }
     },
     "18f39b31309b4f7d86931614d84f0c58": {
      "model_module": "@jupyter-widgets/controls",
      "model_module_version": "1.4.0",
      "model_name": "ProgressStyleModel",
      "state": {
       "description_width": ""
      }
     },
     "18fff6697276462588941058da21d0ea": {
      "model_module": "@jupyter-widgets/controls",
      "model_module_version": "1.4.0",
      "model_name": "DescriptionStyleModel",
      "state": {
       "description_width": ""
      }
     },
     "190f4313150b4419a7fc6db9abcc7133": {
      "model_module": "@jupyter-widgets/base",
      "model_module_version": "1.1.0",
      "model_name": "LayoutModel",
      "state": {}
     },
     "19123f2ff49045e09cffe7ff2bc34352": {
      "model_module": "@jupyter-widgets/base",
      "model_module_version": "1.1.0",
      "model_name": "LayoutModel",
      "state": {}
     },
     "1928384f453c48279c5e3954597a4760": {
      "model_module": "@jupyter-widgets/controls",
      "model_module_version": "1.4.0",
      "model_name": "HTMLModel",
      "state": {
       "layout": "IPY_MODEL_087f3ab41cc949df912f9746aea16e89",
       "style": "IPY_MODEL_c54574d47f134b5cb9329789fd025d43",
       "value": "100% 17/17 [00:05&lt;00:00,  3.28it/s]"
      }
     },
     "1952fa94752a4a768898802ebd548fe4": {
      "model_module": "@jupyter-widgets/controls",
      "model_module_version": "1.4.0",
      "model_name": "HTMLModel",
      "state": {
       "layout": "IPY_MODEL_e7610dd8a1fa4329873124aec3b0b2e2",
       "style": "IPY_MODEL_bbbfea17f2ee4e2e861165d398634d5d",
       "value": "  0% 0/78 [00:00&lt;?, ?it/s]"
      }
     },
     "1959c59476ef48bba09883493be8bb54": {
      "model_module": "@jupyter-widgets/base",
      "model_module_version": "1.1.0",
      "model_name": "LayoutModel",
      "state": {}
     },
     "196e61b42f06461bb287662baac8726f": {
      "model_module": "@jupyter-widgets/controls",
      "model_module_version": "1.4.0",
      "model_name": "DescriptionStyleModel",
      "state": {
       "description_width": ""
      }
     },
     "197e5ff174784f3fa4073a32fa8450d6": {
      "model_module": "@jupyter-widgets/controls",
      "model_module_version": "1.4.0",
      "model_name": "IntProgressModel",
      "state": {
       "layout": "IPY_MODEL_c47dc72448ed41b08968071ca1d4e8f0",
       "max": 78,
       "style": "IPY_MODEL_4b02f0f0d6e64fe18ce74553d435914a",
       "value": 20
      }
     },
     "198f63a3223b42b7bbf21cd194800165": {
      "model_module": "@jupyter-widgets/base",
      "model_module_version": "1.1.0",
      "model_name": "LayoutModel",
      "state": {}
     },
     "19bacf004904458185f445f3c5e4e326": {
      "model_module": "@jupyter-widgets/controls",
      "model_module_version": "1.4.0",
      "model_name": "ProgressStyleModel",
      "state": {
       "description_width": ""
      }
     },
     "19cc202a65184cf18bec90b60e36b720": {
      "model_module": "@jupyter-widgets/controls",
      "model_module_version": "1.4.0",
      "model_name": "HTMLModel",
      "state": {
       "layout": "IPY_MODEL_6a61d82a9d814178ad8bcf5464f5b2d2",
       "style": "IPY_MODEL_31ea18ae8d17491daae3aebb0e526282",
       "value": " 72% 56/78 [00:00&lt;00:00, 256.38it/s]"
      }
     },
     "19e8a278c4754cba9922e801562c44fb": {
      "model_module": "@jupyter-widgets/controls",
      "model_module_version": "1.4.0",
      "model_name": "HTMLModel",
      "state": {
       "layout": "IPY_MODEL_0989186623b145ac8d44f5b8950afec7",
       "style": "IPY_MODEL_7d61275de3644e80aab2a7a3842294b1",
       "value": " 81% 63/78 [00:00&lt;00:00, 204.82it/s]"
      }
     },
     "19f8960812924fbaa9faa2c94edeeb23": {
      "model_module": "@jupyter-widgets/base",
      "model_module_version": "1.1.0",
      "model_name": "LayoutModel",
      "state": {}
     },
     "19f9fe4eecf345cabbb72eea71f57baf": {
      "model_module": "@jupyter-widgets/base",
      "model_module_version": "1.1.0",
      "model_name": "LayoutModel",
      "state": {}
     },
     "19fc0938f7304a36b16227bd2d501ea1": {
      "model_module": "@jupyter-widgets/base",
      "model_module_version": "1.1.0",
      "model_name": "LayoutModel",
      "state": {}
     },
     "1a0e4ea1febd4f408608096a1044e1d9": {
      "model_module": "@jupyter-widgets/base",
      "model_module_version": "1.1.0",
      "model_name": "LayoutModel",
      "state": {}
     },
     "1a17c40bfcdc44ffa1a422d2ade206ac": {
      "model_module": "@jupyter-widgets/controls",
      "model_module_version": "1.4.0",
      "model_name": "HBoxModel",
      "state": {
       "children": [
        "IPY_MODEL_59e8816431e2492db613a1d0311d63e0",
        "IPY_MODEL_bf2fbacea267423fba1444ed8829e802"
       ],
       "layout": "IPY_MODEL_066586c7b50a443b91d6b308ae4b6b1b"
      }
     },
     "1a1d2512405a46548742edb7176dfeb0": {
      "model_module": "@jupyter-widgets/base",
      "model_module_version": "1.1.0",
      "model_name": "LayoutModel",
      "state": {}
     },
     "1a1d9d3eac624208b5d88bbb8fb3bd8c": {
      "model_module": "@jupyter-widgets/controls",
      "model_module_version": "1.4.0",
      "model_name": "IntProgressModel",
      "state": {
       "layout": "IPY_MODEL_40f9f3f3090f4ec994dadd8e4efee4aa",
       "max": 78,
       "style": "IPY_MODEL_1a20f8c6df374cfa88289ea2dbdb2bea",
       "value": 30
      }
     },
     "1a20f8c6df374cfa88289ea2dbdb2bea": {
      "model_module": "@jupyter-widgets/controls",
      "model_module_version": "1.4.0",
      "model_name": "ProgressStyleModel",
      "state": {
       "description_width": ""
      }
     },
     "1a43122233684d31b340079ef14bafd2": {
      "model_module": "@jupyter-widgets/base",
      "model_module_version": "1.1.0",
      "model_name": "LayoutModel",
      "state": {}
     },
     "1a5bd2438c3b40cd800f4a637d2ddde0": {
      "model_module": "@jupyter-widgets/controls",
      "model_module_version": "1.4.0",
      "model_name": "ProgressStyleModel",
      "state": {
       "description_width": ""
      }
     },
     "1a68bcd04bcb4fc68dd7fc1f8c201eb6": {
      "model_module": "@jupyter-widgets/base",
      "model_module_version": "1.1.0",
      "model_name": "LayoutModel",
      "state": {}
     },
     "1a814330cff6414d8fab99ff40a4996c": {
      "model_module": "@jupyter-widgets/controls",
      "model_module_version": "1.4.0",
      "model_name": "DescriptionStyleModel",
      "state": {
       "description_width": ""
      }
     },
     "1a87b6252cca446ab4b8ddce5b45c759": {
      "model_module": "@jupyter-widgets/base",
      "model_module_version": "1.1.0",
      "model_name": "LayoutModel",
      "state": {}
     },
     "1a891b134bc34801aa129344a0ee87cd": {
      "model_module": "@jupyter-widgets/controls",
      "model_module_version": "1.4.0",
      "model_name": "HTMLModel",
      "state": {
       "layout": "IPY_MODEL_1b5b80bb798b4b4b9ece11b0b480ee76",
       "style": "IPY_MODEL_56dfd4d963744573b43101098c147771",
       "value": "100% 17/17 [00:05&lt;00:00,  3.37it/s]"
      }
     },
     "1a9db11d57014d07862e6003e519eed5": {
      "model_module": "@jupyter-widgets/base",
      "model_module_version": "1.1.0",
      "model_name": "LayoutModel",
      "state": {}
     },
     "1aa98ca42a2a4e8ab1ceff1ec274caea": {
      "model_module": "@jupyter-widgets/controls",
      "model_module_version": "1.4.0",
      "model_name": "DescriptionStyleModel",
      "state": {
       "description_width": ""
      }
     },
     "1aa9b3e107384cbea78e49315230f7d3": {
      "model_module": "@jupyter-widgets/base",
      "model_module_version": "1.1.0",
      "model_name": "LayoutModel",
      "state": {}
     },
     "1ac37eeb35044a69ab5867a4a65514b3": {
      "model_module": "@jupyter-widgets/base",
      "model_module_version": "1.1.0",
      "model_name": "LayoutModel",
      "state": {}
     },
     "1ae0866b385248209e5658bb08b03396": {
      "model_module": "@jupyter-widgets/controls",
      "model_module_version": "1.4.0",
      "model_name": "HTMLModel",
      "state": {
       "layout": "IPY_MODEL_ec84136a5dad4e76926d484d192071d1",
       "style": "IPY_MODEL_7dd8ec369d8f4a629ad880d91773f9c8",
       "value": " 41% 32/78 [00:00&lt;00:00, 319.77it/s]"
      }
     },
     "1b3621616cb84d7fa918968b4f514c0f": {
      "model_module": "@jupyter-widgets/base",
      "model_module_version": "1.1.0",
      "model_name": "LayoutModel",
      "state": {}
     },
     "1b4b02f26c844af5bc0fb9f3f5d75c04": {
      "model_module": "@jupyter-widgets/base",
      "model_module_version": "1.1.0",
      "model_name": "LayoutModel",
      "state": {}
     },
     "1b5b80bb798b4b4b9ece11b0b480ee76": {
      "model_module": "@jupyter-widgets/base",
      "model_module_version": "1.1.0",
      "model_name": "LayoutModel",
      "state": {}
     },
     "1b655de6c48d41aaa8beea6b4cab623a": {
      "model_module": "@jupyter-widgets/base",
      "model_module_version": "1.1.0",
      "model_name": "LayoutModel",
      "state": {}
     },
     "1b8ad1ac65394f81b59b972ab6eddd4f": {
      "model_module": "@jupyter-widgets/controls",
      "model_module_version": "1.4.0",
      "model_name": "DescriptionStyleModel",
      "state": {
       "description_width": ""
      }
     },
     "1ba0b64ea1b2408bbc2359f4f8a46acb": {
      "model_module": "@jupyter-widgets/base",
      "model_module_version": "1.1.0",
      "model_name": "LayoutModel",
      "state": {}
     },
     "1bcea223577a404f8a13ca4f2f1834e8": {
      "model_module": "@jupyter-widgets/controls",
      "model_module_version": "1.4.0",
      "model_name": "IntProgressModel",
      "state": {
       "layout": "IPY_MODEL_a142ad56c77a4d7f85bfcacfdac65023",
       "max": 78,
       "style": "IPY_MODEL_ff1ecb1a1397417398384cf24fd88852",
       "value": 78
      }
     },
     "1be666865f754d16888aac1f9746de04": {
      "model_module": "@jupyter-widgets/base",
      "model_module_version": "1.1.0",
      "model_name": "LayoutModel",
      "state": {}
     },
     "1c0b38df14704818b1d7c19955abc8aa": {
      "model_module": "@jupyter-widgets/controls",
      "model_module_version": "1.4.0",
      "model_name": "IntProgressModel",
      "state": {
       "layout": "IPY_MODEL_2f7130b65d9c41d18b4c90e106795ada",
       "max": 17,
       "style": "IPY_MODEL_97aee9b6f7a74b9ca35ff2afd9762218",
       "value": 17
      }
     },
     "1c2a510bde4243b280a7a6606ebe3d38": {
      "model_module": "@jupyter-widgets/controls",
      "model_module_version": "1.4.0",
      "model_name": "IntProgressModel",
      "state": {
       "layout": "IPY_MODEL_cb8ba0b08636491b91f4233ab8076aab",
       "max": 78,
       "style": "IPY_MODEL_f88c8f9687fd4a879d4ce13a2011463c",
       "value": 18
      }
     },
     "1c30e7a492b8424db9fb415f9d2e5b9a": {
      "model_module": "@jupyter-widgets/controls",
      "model_module_version": "1.4.0",
      "model_name": "HTMLModel",
      "state": {
       "layout": "IPY_MODEL_d317f4348d5a42308706c85eb3190909",
       "style": "IPY_MODEL_18e70bfdf15d4d00977eeddbe5114b14",
       "value": "100% 17/17 [00:06&lt;00:00,  2.76it/s]"
      }
     },
     "1c793746f58244d0b9b597e7f2dbc4fd": {
      "model_module": "@jupyter-widgets/base",
      "model_module_version": "1.1.0",
      "model_name": "LayoutModel",
      "state": {}
     },
     "1c8d9bce80094883898e1048090b726b": {
      "model_module": "@jupyter-widgets/base",
      "model_module_version": "1.1.0",
      "model_name": "LayoutModel",
      "state": {}
     },
     "1c946b297b0c4aa2afb9e4e2bba305d8": {
      "model_module": "@jupyter-widgets/controls",
      "model_module_version": "1.4.0",
      "model_name": "HTMLModel",
      "state": {
       "layout": "IPY_MODEL_e0c2141dce7248aebe822ac18c0b7406",
       "style": "IPY_MODEL_04befcd2374245848a19030cc509c342",
       "value": " 29% 23/78 [00:00&lt;00:00, 209.71it/s]"
      }
     },
     "1c96c092936847a6b4fc3843b0aea1d0": {
      "model_module": "@jupyter-widgets/controls",
      "model_module_version": "1.4.0",
      "model_name": "ProgressStyleModel",
      "state": {
       "description_width": ""
      }
     },
     "1cd41813dc05448e9aa4f7d7aae6d163": {
      "model_module": "@jupyter-widgets/controls",
      "model_module_version": "1.4.0",
      "model_name": "IntProgressModel",
      "state": {
       "layout": "IPY_MODEL_c6f1f51a152d42e58461a3b4f2aee3c2",
       "max": 78,
       "style": "IPY_MODEL_0815c29c06904c73a20787abcfc0a115",
       "value": 67
      }
     },
     "1cd8488819da4bb4859ccfaa4bdc4225": {
      "model_module": "@jupyter-widgets/base",
      "model_module_version": "1.1.0",
      "model_name": "LayoutModel",
      "state": {}
     },
     "1ce00fe1483c4825ae7e091f5d3bec78": {
      "model_module": "@jupyter-widgets/base",
      "model_module_version": "1.1.0",
      "model_name": "LayoutModel",
      "state": {}
     },
     "1ce8c900f89d46c5b0d0e4890e119ffa": {
      "model_module": "@jupyter-widgets/controls",
      "model_module_version": "1.4.0",
      "model_name": "DescriptionStyleModel",
      "state": {
       "description_width": ""
      }
     },
     "1ceb65cbf6804336b4687538f1e11274": {
      "model_module": "@jupyter-widgets/controls",
      "model_module_version": "1.4.0",
      "model_name": "ProgressStyleModel",
      "state": {
       "description_width": ""
      }
     },
     "1cf09640541b4f27a3883e32577d7d92": {
      "model_module": "@jupyter-widgets/base",
      "model_module_version": "1.1.0",
      "model_name": "LayoutModel",
      "state": {}
     },
     "1d1ce86b1efa4757bd732ac548b85b9b": {
      "model_module": "@jupyter-widgets/controls",
      "model_module_version": "1.4.0",
      "model_name": "ProgressStyleModel",
      "state": {
       "description_width": ""
      }
     },
     "1d6467cf7778455eafe2b7522bbb5450": {
      "model_module": "@jupyter-widgets/base",
      "model_module_version": "1.1.0",
      "model_name": "LayoutModel",
      "state": {}
     },
     "1d7e4bd32d0347e2a5c314ddec93fd61": {
      "model_module": "@jupyter-widgets/controls",
      "model_module_version": "1.4.0",
      "model_name": "ProgressStyleModel",
      "state": {
       "description_width": ""
      }
     },
     "1d80642428b94bad8c98653d62baace2": {
      "model_module": "@jupyter-widgets/controls",
      "model_module_version": "1.4.0",
      "model_name": "DescriptionStyleModel",
      "state": {
       "description_width": ""
      }
     },
     "1dc7cc3eddcf4688b94d74e627f7ee55": {
      "model_module": "@jupyter-widgets/controls",
      "model_module_version": "1.4.0",
      "model_name": "DescriptionStyleModel",
      "state": {
       "description_width": ""
      }
     },
     "1dda1b0014b049a4b18946dfc21c139e": {
      "model_module": "@jupyter-widgets/base",
      "model_module_version": "1.1.0",
      "model_name": "LayoutModel",
      "state": {}
     },
     "1de52e9c4b7b4c89b248213a63d0d398": {
      "model_module": "@jupyter-widgets/base",
      "model_module_version": "1.1.0",
      "model_name": "LayoutModel",
      "state": {}
     },
     "1df8784bdf9147ffaeee6f4c70c1c09e": {
      "model_module": "@jupyter-widgets/controls",
      "model_module_version": "1.4.0",
      "model_name": "IntProgressModel",
      "state": {
       "layout": "IPY_MODEL_3dcf415cdb2c46c5ad7692acfa8a4d5f",
       "max": 17,
       "style": "IPY_MODEL_471b32f977d14ed2a42c5cd62ccc5e36",
       "value": 17
      }
     },
     "1e20b6322ea047db9e55e2021409905f": {
      "model_module": "@jupyter-widgets/base",
      "model_module_version": "1.1.0",
      "model_name": "LayoutModel",
      "state": {}
     },
     "1e235be9963b4de8adf6d5d65b60267a": {
      "model_module": "@jupyter-widgets/base",
      "model_module_version": "1.1.0",
      "model_name": "LayoutModel",
      "state": {}
     },
     "1e689802c1b449dfa23015445542d711": {
      "model_module": "@jupyter-widgets/base",
      "model_module_version": "1.1.0",
      "model_name": "LayoutModel",
      "state": {}
     },
     "1ec2857a511d47ad819acabea2f4e9e1": {
      "model_module": "@jupyter-widgets/controls",
      "model_module_version": "1.4.0",
      "model_name": "IntProgressModel",
      "state": {
       "layout": "IPY_MODEL_bd3d0d927ede4bceb86273bc33a1af46",
       "max": 17,
       "style": "IPY_MODEL_45b5837c4e094f6185bb231075c6a81b",
       "value": 17
      }
     },
     "1ec5f574d42347f4924f1b7fcc77385c": {
      "model_module": "@jupyter-widgets/controls",
      "model_module_version": "1.4.0",
      "model_name": "ProgressStyleModel",
      "state": {
       "description_width": ""
      }
     },
     "1ed233e146a247abb2aa2af266971bd3": {
      "model_module": "@jupyter-widgets/controls",
      "model_module_version": "1.4.0",
      "model_name": "ProgressStyleModel",
      "state": {
       "description_width": ""
      }
     },
     "1f13f6e61fbe4b83a9390a1d52f6a711": {
      "model_module": "@jupyter-widgets/base",
      "model_module_version": "1.1.0",
      "model_name": "LayoutModel",
      "state": {}
     },
     "1f1f957d35d14abcb1c24426effaabeb": {
      "model_module": "@jupyter-widgets/base",
      "model_module_version": "1.1.0",
      "model_name": "LayoutModel",
      "state": {}
     },
     "1f2b21cf0bc9411ba984e1e362340663": {
      "model_module": "@jupyter-widgets/controls",
      "model_module_version": "1.4.0",
      "model_name": "IntProgressModel",
      "state": {
       "bar_style": "success",
       "layout": "IPY_MODEL_9a440ca9fccf4db0904a213fd20de8b1",
       "max": 78,
       "style": "IPY_MODEL_21aad0f1d9604bcdb90027182be2b08c",
       "value": 78
      }
     },
     "1f346b92c6fb418c9300a9c24edf9f65": {
      "model_module": "@jupyter-widgets/controls",
      "model_module_version": "1.4.0",
      "model_name": "HTMLModel",
      "state": {
       "layout": "IPY_MODEL_e548db6748b34674b481de08da2fab90",
       "style": "IPY_MODEL_eeafe991cc824dbd935abaaae0fe7798",
       "value": "100% 17/17 [00:07&lt;00:00,  2.24it/s]"
      }
     },
     "1f389c7b6a4d4f559b38bd882a017ee0": {
      "model_module": "@jupyter-widgets/base",
      "model_module_version": "1.1.0",
      "model_name": "LayoutModel",
      "state": {}
     },
     "1f6089b01ba84575bf075b3b89cd9cef": {
      "model_module": "@jupyter-widgets/base",
      "model_module_version": "1.1.0",
      "model_name": "LayoutModel",
      "state": {}
     },
     "1f737bf1b5474917b8150beb9f744906": {
      "model_module": "@jupyter-widgets/base",
      "model_module_version": "1.1.0",
      "model_name": "LayoutModel",
      "state": {}
     },
     "1f82a1cd297f4e7088059d1e92dbdec1": {
      "model_module": "@jupyter-widgets/base",
      "model_module_version": "1.1.0",
      "model_name": "LayoutModel",
      "state": {}
     },
     "1fd1cb14b1634f5ba42aef42a2218538": {
      "model_module": "@jupyter-widgets/base",
      "model_module_version": "1.1.0",
      "model_name": "LayoutModel",
      "state": {}
     },
     "1fd5eff445f5463da6fdc8294dbc9b79": {
      "model_module": "@jupyter-widgets/base",
      "model_module_version": "1.1.0",
      "model_name": "LayoutModel",
      "state": {}
     },
     "1fdf32f16ce14aaea9fd8ecc24954e9d": {
      "model_module": "@jupyter-widgets/controls",
      "model_module_version": "1.4.0",
      "model_name": "DescriptionStyleModel",
      "state": {
       "description_width": ""
      }
     },
     "2003bf67a09c4ca2aa97dcbf1fe07172": {
      "model_module": "@jupyter-widgets/controls",
      "model_module_version": "1.4.0",
      "model_name": "IntProgressModel",
      "state": {
       "layout": "IPY_MODEL_1f737bf1b5474917b8150beb9f744906",
       "max": 78,
       "style": "IPY_MODEL_79101c2f2ccc4ce48ad4d0889508fb6c",
       "value": 36
      }
     },
     "200ab0a6bb5d4ebe9334070407a0a2dd": {
      "model_module": "@jupyter-widgets/controls",
      "model_module_version": "1.4.0",
      "model_name": "HTMLModel",
      "state": {
       "layout": "IPY_MODEL_be85019a703c4aee9dba4a4c3e3aae86",
       "style": "IPY_MODEL_2b5b7b1d591c4430a83e86a3ff86a4e0",
       "value": "100% 17/17 [00:04&lt;00:00,  3.66it/s]"
      }
     },
     "2010508b346443adbdcab9f310ed37f8": {
      "model_module": "@jupyter-widgets/controls",
      "model_module_version": "1.4.0",
      "model_name": "IntProgressModel",
      "state": {
       "layout": "IPY_MODEL_3878667bf87f4a5a817756e3beb8f18c",
       "max": 78,
       "style": "IPY_MODEL_4eb295d995c74e79a4874be55d382605",
       "value": 63
      }
     },
     "201bc1be64244aec8b673c0d4a726f3a": {
      "model_module": "@jupyter-widgets/controls",
      "model_module_version": "1.4.0",
      "model_name": "HTMLModel",
      "state": {
       "layout": "IPY_MODEL_4ef3c848de444d50befc4049e385eb2e",
       "style": "IPY_MODEL_ee3bc98e6aa44b3caaab56b492bbdb68",
       "value": "100% 17/17 [00:05&lt;00:00,  2.86it/s]"
      }
     },
     "202df5884aa54e06a043410166be25f7": {
      "model_module": "@jupyter-widgets/base",
      "model_module_version": "1.1.0",
      "model_name": "LayoutModel",
      "state": {}
     },
     "203112ace14741bfb320d679d7298b9f": {
      "model_module": "@jupyter-widgets/controls",
      "model_module_version": "1.4.0",
      "model_name": "DescriptionStyleModel",
      "state": {
       "description_width": ""
      }
     },
     "2039693bc6344e2e93cc6653308ccb6f": {
      "model_module": "@jupyter-widgets/controls",
      "model_module_version": "1.4.0",
      "model_name": "IntProgressModel",
      "state": {
       "layout": "IPY_MODEL_e5b9e97dcb064738a63e06f8d011b07b",
       "max": 17,
       "style": "IPY_MODEL_9d0af980b11b4197aef509551c27097f",
       "value": 17
      }
     },
     "2041a68c237640c7b8ed00141913e0ec": {
      "model_module": "@jupyter-widgets/base",
      "model_module_version": "1.1.0",
      "model_name": "LayoutModel",
      "state": {}
     },
     "20466f17b8b049a08512d45e0ad894ec": {
      "model_module": "@jupyter-widgets/controls",
      "model_module_version": "1.4.0",
      "model_name": "IntProgressModel",
      "state": {
       "layout": "IPY_MODEL_ec10f387a9434f82a0936fbdcdddc064",
       "max": 78,
       "style": "IPY_MODEL_43afe1b1ae934764826fd8fe3ca9ce6f",
       "value": 13
      }
     },
     "204b5892a21f4c34868824e4bc1a8b14": {
      "model_module": "@jupyter-widgets/base",
      "model_module_version": "1.1.0",
      "model_name": "LayoutModel",
      "state": {}
     },
     "2067c31944794384afbea41fb699a9fb": {
      "model_module": "@jupyter-widgets/controls",
      "model_module_version": "1.4.0",
      "model_name": "HTMLModel",
      "state": {
       "layout": "IPY_MODEL_181fa24839b04f9e8cf566804adb168b",
       "style": "IPY_MODEL_b407a245674247219960fa08788b00d0",
       "value": " 91% 71/78 [00:00&lt;00:00, 707.45it/s]"
      }
     },
     "2077dc78cb81439aa6f8d4e8d5d76280": {
      "model_module": "@jupyter-widgets/base",
      "model_module_version": "1.1.0",
      "model_name": "LayoutModel",
      "state": {}
     },
     "20934766415f48eb8c1c3ef0ad2c86f4": {
      "model_module": "@jupyter-widgets/controls",
      "model_module_version": "1.4.0",
      "model_name": "IntProgressModel",
      "state": {
       "layout": "IPY_MODEL_4028afc2e57b4b639cc82517b3e78b44",
       "max": 17,
       "style": "IPY_MODEL_71c88af580a34b569bc1afd11edc82f6",
       "value": 17
      }
     },
     "20aed5d6af7b4037ba6822ffb58d3f66": {
      "model_module": "@jupyter-widgets/base",
      "model_module_version": "1.1.0",
      "model_name": "LayoutModel",
      "state": {}
     },
     "20bea5567e54420da1828f75524f6952": {
      "model_module": "@jupyter-widgets/controls",
      "model_module_version": "1.4.0",
      "model_name": "DescriptionStyleModel",
      "state": {
       "description_width": ""
      }
     },
     "20c4f54294fe444d9435b050455c9994": {
      "model_module": "@jupyter-widgets/controls",
      "model_module_version": "1.4.0",
      "model_name": "ProgressStyleModel",
      "state": {
       "description_width": ""
      }
     },
     "21164214d79648c390299b7cd6844d77": {
      "model_module": "@jupyter-widgets/controls",
      "model_module_version": "1.4.0",
      "model_name": "DescriptionStyleModel",
      "state": {
       "description_width": ""
      }
     },
     "21393669129841fa86b684e6962870cd": {
      "model_module": "@jupyter-widgets/controls",
      "model_module_version": "1.4.0",
      "model_name": "ProgressStyleModel",
      "state": {
       "description_width": ""
      }
     },
     "213bd61c71814f22a6f8fd7b7406c9b3": {
      "model_module": "@jupyter-widgets/base",
      "model_module_version": "1.1.0",
      "model_name": "LayoutModel",
      "state": {}
     },
     "2147bc129a574418bddb2acb0476e168": {
      "model_module": "@jupyter-widgets/base",
      "model_module_version": "1.1.0",
      "model_name": "LayoutModel",
      "state": {}
     },
     "2160a5155864427eb2f17f6d549d924f": {
      "model_module": "@jupyter-widgets/base",
      "model_module_version": "1.1.0",
      "model_name": "LayoutModel",
      "state": {}
     },
     "2164d370eef8499bb4d7ae97918e709c": {
      "model_module": "@jupyter-widgets/controls",
      "model_module_version": "1.4.0",
      "model_name": "HTMLModel",
      "state": {
       "layout": "IPY_MODEL_c97326e5729c48d8a358c7f514a4610d",
       "style": "IPY_MODEL_e858a762bcf14ded8627356b71aaece7",
       "value": "100% 17/17 [00:07&lt;00:00,  2.17it/s]"
      }
     },
     "217751fc563249ac9269a1b9eff51d33": {
      "model_module": "@jupyter-widgets/controls",
      "model_module_version": "1.4.0",
      "model_name": "DescriptionStyleModel",
      "state": {
       "description_width": ""
      }
     },
     "21876aea277a4337b90b74024cbb56e5": {
      "model_module": "@jupyter-widgets/base",
      "model_module_version": "1.1.0",
      "model_name": "LayoutModel",
      "state": {}
     },
     "21a55d38aeba44088eff7224ed2725e4": {
      "model_module": "@jupyter-widgets/controls",
      "model_module_version": "1.4.0",
      "model_name": "IntProgressModel",
      "state": {
       "layout": "IPY_MODEL_2d56f851467545f7b6b6d0d23ea46732",
       "max": 78,
       "style": "IPY_MODEL_4c15d1a3e5034609870e6f8ee27d49ab",
       "value": 23
      }
     },
     "21aad0f1d9604bcdb90027182be2b08c": {
      "model_module": "@jupyter-widgets/controls",
      "model_module_version": "1.4.0",
      "model_name": "ProgressStyleModel",
      "state": {
       "description_width": ""
      }
     },
     "21b877ba26bb4090922e21bf24e6985d": {
      "model_module": "@jupyter-widgets/base",
      "model_module_version": "1.1.0",
      "model_name": "LayoutModel",
      "state": {}
     },
     "21bf34696ad14e8db900fdaa06290b80": {
      "model_module": "@jupyter-widgets/base",
      "model_module_version": "1.1.0",
      "model_name": "LayoutModel",
      "state": {}
     },
     "21c05fea28e04f518d64b0d4f8c5253e": {
      "model_module": "@jupyter-widgets/base",
      "model_module_version": "1.1.0",
      "model_name": "LayoutModel",
      "state": {}
     },
     "21c8102685f241b4b1307ac12e2e9e72": {
      "model_module": "@jupyter-widgets/controls",
      "model_module_version": "1.4.0",
      "model_name": "IntProgressModel",
      "state": {
       "layout": "IPY_MODEL_45ef02901d1f40f1a1d7b308f231a66c",
       "max": 17,
       "style": "IPY_MODEL_24bf4b549e844b47b7f4189c7b70de08",
       "value": 17
      }
     },
     "21d52d88f538439c816e4a8ed31529e9": {
      "model_module": "@jupyter-widgets/controls",
      "model_module_version": "1.4.0",
      "model_name": "ProgressStyleModel",
      "state": {
       "description_width": ""
      }
     },
     "221e0a86c1b145d2ac074d29f841b6b7": {
      "model_module": "@jupyter-widgets/base",
      "model_module_version": "1.1.0",
      "model_name": "LayoutModel",
      "state": {}
     },
     "2233f3462ef2430f81bee5d07d279b34": {
      "model_module": "@jupyter-widgets/base",
      "model_module_version": "1.1.0",
      "model_name": "LayoutModel",
      "state": {}
     },
     "224c1befb66e4b73937f99b6891d4355": {
      "model_module": "@jupyter-widgets/base",
      "model_module_version": "1.1.0",
      "model_name": "LayoutModel",
      "state": {}
     },
     "2267d9fd02fd41fda0e60bbebef519e6": {
      "model_module": "@jupyter-widgets/controls",
      "model_module_version": "1.4.0",
      "model_name": "DescriptionStyleModel",
      "state": {
       "description_width": ""
      }
     },
     "226cb03f13c34105a61a4c64ab5d8317": {
      "model_module": "@jupyter-widgets/controls",
      "model_module_version": "1.4.0",
      "model_name": "DescriptionStyleModel",
      "state": {
       "description_width": ""
      }
     },
     "226e9bfa5ec94630b0a11fe5a7fb8dda": {
      "model_module": "@jupyter-widgets/controls",
      "model_module_version": "1.4.0",
      "model_name": "IntProgressModel",
      "state": {
       "layout": "IPY_MODEL_a37115839ae641faa82fdd6b63b7b602",
       "max": 78,
       "style": "IPY_MODEL_bef19d18066049028a74906e80ba626b",
       "value": 15
      }
     },
     "227b5237e4824ec5be2d3885e5564f33": {
      "model_module": "@jupyter-widgets/controls",
      "model_module_version": "1.4.0",
      "model_name": "DescriptionStyleModel",
      "state": {
       "description_width": ""
      }
     },
     "229be6798f8d45a18ab2bb0d373d3abe": {
      "model_module": "@jupyter-widgets/base",
      "model_module_version": "1.1.0",
      "model_name": "LayoutModel",
      "state": {}
     },
     "22b99811ef8d470997fa8e232c1c29af": {
      "model_module": "@jupyter-widgets/controls",
      "model_module_version": "1.4.0",
      "model_name": "ProgressStyleModel",
      "state": {
       "description_width": ""
      }
     },
     "22c81082dcb04e70825022d46f65831e": {
      "model_module": "@jupyter-widgets/controls",
      "model_module_version": "1.4.0",
      "model_name": "ProgressStyleModel",
      "state": {
       "description_width": ""
      }
     },
     "22dcef63ba334dd48379d6c3ef006bcf": {
      "model_module": "@jupyter-widgets/base",
      "model_module_version": "1.1.0",
      "model_name": "LayoutModel",
      "state": {}
     },
     "22fb9578b9734d9ca56ec47e36d5223e": {
      "model_module": "@jupyter-widgets/base",
      "model_module_version": "1.1.0",
      "model_name": "LayoutModel",
      "state": {}
     },
     "22ff96ed8ec24711b61fd50d1e593270": {
      "model_module": "@jupyter-widgets/base",
      "model_module_version": "1.1.0",
      "model_name": "LayoutModel",
      "state": {}
     },
     "230c3be91de3444a80b97512e60bd9f9": {
      "model_module": "@jupyter-widgets/controls",
      "model_module_version": "1.4.0",
      "model_name": "DescriptionStyleModel",
      "state": {
       "description_width": ""
      }
     },
     "231f145d286f4b4abbdb3a708ccf1986": {
      "model_module": "@jupyter-widgets/controls",
      "model_module_version": "1.4.0",
      "model_name": "ProgressStyleModel",
      "state": {
       "description_width": ""
      }
     },
     "2335dbf8231e4b68823ed23a4cd16a2d": {
      "model_module": "@jupyter-widgets/controls",
      "model_module_version": "1.4.0",
      "model_name": "HTMLModel",
      "state": {
       "layout": "IPY_MODEL_7a03ba6b7d9d4e69a6f9ed47c91f38ab",
       "style": "IPY_MODEL_31579893276546dc923638b2d732a374",
       "value": "  0% 0/78 [00:00&lt;?, ?it/s]"
      }
     },
     "233e7726e52643b0aa6f15ac04471f7b": {
      "model_module": "@jupyter-widgets/controls",
      "model_module_version": "1.4.0",
      "model_name": "ProgressStyleModel",
      "state": {
       "description_width": ""
      }
     },
     "233fb5cc71ff41fa872c359e51d548d8": {
      "model_module": "@jupyter-widgets/base",
      "model_module_version": "1.1.0",
      "model_name": "LayoutModel",
      "state": {}
     },
     "236492695d0f4eb3ae7302e48d0095a6": {
      "model_module": "@jupyter-widgets/controls",
      "model_module_version": "1.4.0",
      "model_name": "ProgressStyleModel",
      "state": {
       "description_width": ""
      }
     },
     "236843e168b346e3a0e8f3dbaa67d747": {
      "model_module": "@jupyter-widgets/base",
      "model_module_version": "1.1.0",
      "model_name": "LayoutModel",
      "state": {}
     },
     "239f4dbff1ad40b7bf6b59320e365f9a": {
      "model_module": "@jupyter-widgets/base",
      "model_module_version": "1.1.0",
      "model_name": "LayoutModel",
      "state": {}
     },
     "23b5864961ae4eb0b9e643d9a2bc591c": {
      "model_module": "@jupyter-widgets/base",
      "model_module_version": "1.1.0",
      "model_name": "LayoutModel",
      "state": {}
     },
     "23c01d19229c4309a787ea56686f0990": {
      "model_module": "@jupyter-widgets/controls",
      "model_module_version": "1.4.0",
      "model_name": "IntProgressModel",
      "state": {
       "bar_style": "success",
       "layout": "IPY_MODEL_198f63a3223b42b7bbf21cd194800165",
       "max": 50,
       "style": "IPY_MODEL_cdba219002874218bb11dc39c538ed8f",
       "value": 50
      }
     },
     "23c235acb0ea41f19db9a3cad6e77629": {
      "model_module": "@jupyter-widgets/controls",
      "model_module_version": "1.4.0",
      "model_name": "DescriptionStyleModel",
      "state": {
       "description_width": ""
      }
     },
     "23ef0ab1b1b643019e05c701a8aa3458": {
      "model_module": "@jupyter-widgets/controls",
      "model_module_version": "1.4.0",
      "model_name": "ProgressStyleModel",
      "state": {
       "description_width": ""
      }
     },
     "24025b02f68845b7b0569d85ff1ed497": {
      "model_module": "@jupyter-widgets/controls",
      "model_module_version": "1.4.0",
      "model_name": "ProgressStyleModel",
      "state": {
       "description_width": ""
      }
     },
     "244960f1795f46d3aa2b93d7b5482bf1": {
      "model_module": "@jupyter-widgets/base",
      "model_module_version": "1.1.0",
      "model_name": "LayoutModel",
      "state": {}
     },
     "248780eaec074e39acb23705e235a691": {
      "model_module": "@jupyter-widgets/base",
      "model_module_version": "1.1.0",
      "model_name": "LayoutModel",
      "state": {}
     },
     "24bf4b549e844b47b7f4189c7b70de08": {
      "model_module": "@jupyter-widgets/controls",
      "model_module_version": "1.4.0",
      "model_name": "ProgressStyleModel",
      "state": {
       "description_width": ""
      }
     },
     "24d1e386bf7a47398e23009552e4040d": {
      "model_module": "@jupyter-widgets/base",
      "model_module_version": "1.1.0",
      "model_name": "LayoutModel",
      "state": {}
     },
     "2512de0a64ca4a34892682858499c361": {
      "model_module": "@jupyter-widgets/base",
      "model_module_version": "1.1.0",
      "model_name": "LayoutModel",
      "state": {}
     },
     "25133f689731495189f7170f4b28edc8": {
      "model_module": "@jupyter-widgets/base",
      "model_module_version": "1.1.0",
      "model_name": "LayoutModel",
      "state": {}
     },
     "2529017d1b2d4bfc8c0ea6b6043e0c02": {
      "model_module": "@jupyter-widgets/controls",
      "model_module_version": "1.4.0",
      "model_name": "HTMLModel",
      "state": {
       "layout": "IPY_MODEL_861b54417cc74ed9b638444783b3b6d3",
       "style": "IPY_MODEL_bc98107b92b54071812bb63b9dfbaccf",
       "value": "100% 17/17 [00:05&lt;00:00,  3.22it/s]"
      }
     },
     "253a06bf647140c9a17092d88a01dc77": {
      "model_module": "@jupyter-widgets/controls",
      "model_module_version": "1.4.0",
      "model_name": "IntProgressModel",
      "state": {
       "layout": "IPY_MODEL_9d270ea1e4ea4abfbb2c272c2fc372a6",
       "max": 17,
       "style": "IPY_MODEL_f5df459ed51b457bb7a12f0a185f67c1",
       "value": 17
      }
     },
     "255c817a067f42b989bf9b9da9b2efc5": {
      "model_module": "@jupyter-widgets/base",
      "model_module_version": "1.1.0",
      "model_name": "LayoutModel",
      "state": {}
     },
     "258a0a45f9514976b3b873bc3236f5f3": {
      "model_module": "@jupyter-widgets/controls",
      "model_module_version": "1.4.0",
      "model_name": "ProgressStyleModel",
      "state": {
       "description_width": ""
      }
     },
     "25d19c52c5e040b3a3c49821ef5a49c9": {
      "model_module": "@jupyter-widgets/controls",
      "model_module_version": "1.4.0",
      "model_name": "HTMLModel",
      "state": {
       "layout": "IPY_MODEL_3b58c85cb6c94045966f41f5628f6207",
       "style": "IPY_MODEL_4534f55622194d2780aa7b0d61c35a26",
       "value": " 15% 12/78 [00:00&lt;00:00, 118.97it/s]"
      }
     },
     "25ea9e711fcd48d2b3b33150a111d61c": {
      "model_module": "@jupyter-widgets/controls",
      "model_module_version": "1.4.0",
      "model_name": "HTMLModel",
      "state": {
       "layout": "IPY_MODEL_4d6f191808f14b3597a8448ce5321586",
       "style": "IPY_MODEL_77b195de4d0f47febf13b6294517ea6a",
       "value": "  0% 0/78 [00:00&lt;?, ?it/s]"
      }
     },
     "25f8f9f49122436782f986f81b19e385": {
      "model_module": "@jupyter-widgets/base",
      "model_module_version": "1.1.0",
      "model_name": "LayoutModel",
      "state": {}
     },
     "260256167ca945788181c84c540f8d16": {
      "model_module": "@jupyter-widgets/base",
      "model_module_version": "1.1.0",
      "model_name": "LayoutModel",
      "state": {}
     },
     "261007bd362b442ba534418a141c3cbc": {
      "model_module": "@jupyter-widgets/base",
      "model_module_version": "1.1.0",
      "model_name": "LayoutModel",
      "state": {}
     },
     "2636d9b3bb2a4beb9edf7c5b24e68b08": {
      "model_module": "@jupyter-widgets/controls",
      "model_module_version": "1.4.0",
      "model_name": "ProgressStyleModel",
      "state": {
       "description_width": ""
      }
     },
     "2640d67505e44d13b90eddfd628e531d": {
      "model_module": "@jupyter-widgets/controls",
      "model_module_version": "1.4.0",
      "model_name": "ProgressStyleModel",
      "state": {
       "description_width": ""
      }
     },
     "264166c8ffe3413195ae2779a895da37": {
      "model_module": "@jupyter-widgets/base",
      "model_module_version": "1.1.0",
      "model_name": "LayoutModel",
      "state": {}
     },
     "2654a0a3172c49dd8b0ceafe54ec5a21": {
      "model_module": "@jupyter-widgets/base",
      "model_module_version": "1.1.0",
      "model_name": "LayoutModel",
      "state": {}
     },
     "26b860aed4234ed2a263b2734352b4b1": {
      "model_module": "@jupyter-widgets/controls",
      "model_module_version": "1.4.0",
      "model_name": "IntProgressModel",
      "state": {
       "layout": "IPY_MODEL_81f2275d2ca94183a15db251777338c8",
       "max": 78,
       "style": "IPY_MODEL_7175c1c19fa744edae46c6b67f15da6a",
       "value": 35
      }
     },
     "26c4040649cb49ed845a20b7cbb03f3d": {
      "model_module": "@jupyter-widgets/controls",
      "model_module_version": "1.4.0",
      "model_name": "DescriptionStyleModel",
      "state": {
       "description_width": ""
      }
     },
     "26dd820ae99f4eff89e718ed2f17ef1b": {
      "model_module": "@jupyter-widgets/base",
      "model_module_version": "1.1.0",
      "model_name": "LayoutModel",
      "state": {}
     },
     "26edd7885296404c89f6797af5ba9e55": {
      "model_module": "@jupyter-widgets/base",
      "model_module_version": "1.1.0",
      "model_name": "LayoutModel",
      "state": {}
     },
     "270b0dfc480e4b5d94683f4f342be64e": {
      "model_module": "@jupyter-widgets/base",
      "model_module_version": "1.1.0",
      "model_name": "LayoutModel",
      "state": {}
     },
     "270ca333fa7442e98db44ca9ea557df5": {
      "model_module": "@jupyter-widgets/controls",
      "model_module_version": "1.4.0",
      "model_name": "IntProgressModel",
      "state": {
       "layout": "IPY_MODEL_572bba1f65f44046a5f378bc5c5e2eac",
       "max": 17,
       "style": "IPY_MODEL_d0fa13ac0bef482196aa8d7cade62abe",
       "value": 17
      }
     },
     "270d19e85d044a13b3e9cc72255ab08d": {
      "model_module": "@jupyter-widgets/base",
      "model_module_version": "1.1.0",
      "model_name": "LayoutModel",
      "state": {}
     },
     "2741c2224d894c9c838cc73d1b4c9443": {
      "model_module": "@jupyter-widgets/controls",
      "model_module_version": "1.4.0",
      "model_name": "ProgressStyleModel",
      "state": {
       "description_width": ""
      }
     },
     "2791b95e8043498189151969241b9434": {
      "model_module": "@jupyter-widgets/controls",
      "model_module_version": "1.4.0",
      "model_name": "HTMLModel",
      "state": {
       "layout": "IPY_MODEL_6548334cfd794e62b4e155be329e45ac",
       "style": "IPY_MODEL_49f5de4efaf647db8cd625ec36d543b5",
       "value": " 23% 18/78 [00:00&lt;00:00, 168.38it/s]"
      }
     },
     "27d5781d8a52447e97181535d0ba3932": {
      "model_module": "@jupyter-widgets/base",
      "model_module_version": "1.1.0",
      "model_name": "LayoutModel",
      "state": {}
     },
     "27e298c7b7b0431f9eef90b71a5d8356": {
      "model_module": "@jupyter-widgets/controls",
      "model_module_version": "1.4.0",
      "model_name": "ProgressStyleModel",
      "state": {
       "description_width": ""
      }
     },
     "27ec63c7b16544e89840e2e5d012f23a": {
      "model_module": "@jupyter-widgets/base",
      "model_module_version": "1.1.0",
      "model_name": "LayoutModel",
      "state": {}
     },
     "281a2dc18e02410897a46a4af25c5a85": {
      "model_module": "@jupyter-widgets/base",
      "model_module_version": "1.1.0",
      "model_name": "LayoutModel",
      "state": {}
     },
     "2821c7b3614c4c94bef890ff1ff881a3": {
      "model_module": "@jupyter-widgets/controls",
      "model_module_version": "1.4.0",
      "model_name": "IntProgressModel",
      "state": {
       "layout": "IPY_MODEL_7f41809d3bd4429f95eba5ae3921874c",
       "max": 17,
       "style": "IPY_MODEL_5f7e3f6a6ac4427fa6806108d4ee6800",
       "value": 17
      }
     },
     "28396941478f414684b9b01a5ff94126": {
      "model_module": "@jupyter-widgets/base",
      "model_module_version": "1.1.0",
      "model_name": "LayoutModel",
      "state": {}
     },
     "287a6a40acaa427f97814ae2f4fae24d": {
      "model_module": "@jupyter-widgets/controls",
      "model_module_version": "1.4.0",
      "model_name": "HTMLModel",
      "state": {
       "layout": "IPY_MODEL_34e695b7fe154e82b72ce995e79ee545",
       "style": "IPY_MODEL_1ce8c900f89d46c5b0d0e4890e119ffa",
       "value": "100% 17/17 [00:05&lt;00:00,  3.39it/s]"
      }
     },
     "2885b79269674ec895d6fc0ef60c07d2": {
      "model_module": "@jupyter-widgets/controls",
      "model_module_version": "1.4.0",
      "model_name": "DescriptionStyleModel",
      "state": {
       "description_width": ""
      }
     },
     "28b87e228aa5428392c1e9f245fde928": {
      "model_module": "@jupyter-widgets/base",
      "model_module_version": "1.1.0",
      "model_name": "LayoutModel",
      "state": {}
     },
     "28ced80601ed4f52ae05e7b8b2405de1": {
      "model_module": "@jupyter-widgets/base",
      "model_module_version": "1.1.0",
      "model_name": "LayoutModel",
      "state": {}
     },
     "28f2f24f5ff346e3b3d8705fc5206077": {
      "model_module": "@jupyter-widgets/controls",
      "model_module_version": "1.4.0",
      "model_name": "ProgressStyleModel",
      "state": {
       "description_width": ""
      }
     },
     "2903895231c2494790711ceb6360f001": {
      "model_module": "@jupyter-widgets/controls",
      "model_module_version": "1.4.0",
      "model_name": "HTMLModel",
      "state": {
       "layout": "IPY_MODEL_c8e8da8625b6487dbacdea34ab55df53",
       "style": "IPY_MODEL_8566e45c2c5a45e6928b33bd6c2a871d",
       "value": "100% 17/17 [00:05&lt;00:00,  3.14it/s]"
      }
     },
     "291573b3013c43a2b44df5534c7bf71e": {
      "model_module": "@jupyter-widgets/controls",
      "model_module_version": "1.4.0",
      "model_name": "IntProgressModel",
      "state": {
       "layout": "IPY_MODEL_4a4c146647a64d15a44bb6f0856508ad",
       "max": 17,
       "style": "IPY_MODEL_2f0cbbe4b8164ce28bb5dd2d3ff8b924",
       "value": 17
      }
     },
     "293dbf51b4334ca7a6a6be32d65f8bc5": {
      "model_module": "@jupyter-widgets/controls",
      "model_module_version": "1.4.0",
      "model_name": "HTMLModel",
      "state": {
       "layout": "IPY_MODEL_8fbeeeaef2f84f80987723c91f6dd0bf",
       "style": "IPY_MODEL_90005ff6c88548eea476fb2a09c290c8",
       "value": "100% 17/17 [00:05&lt;00:00,  2.96it/s]"
      }
     },
     "2952416743294873be41a8a1de59efee": {
      "model_module": "@jupyter-widgets/controls",
      "model_module_version": "1.4.0",
      "model_name": "ProgressStyleModel",
      "state": {
       "description_width": ""
      }
     },
     "295e7e971a2d49208ca32d689e798cd1": {
      "model_module": "@jupyter-widgets/controls",
      "model_module_version": "1.4.0",
      "model_name": "DescriptionStyleModel",
      "state": {
       "description_width": ""
      }
     },
     "2965d0b5962b4035854ba9dfb920025e": {
      "model_module": "@jupyter-widgets/controls",
      "model_module_version": "1.4.0",
      "model_name": "HTMLModel",
      "state": {
       "layout": "IPY_MODEL_5150008554134b5da10713af2a564f7c",
       "style": "IPY_MODEL_e28771bd02ea4a72be3eab126279cafd",
       "value": "100% 17/17 [00:06&lt;00:00,  2.77it/s]"
      }
     },
     "29b639b2cd2d400e9491aa02ddae63a6": {
      "model_module": "@jupyter-widgets/base",
      "model_module_version": "1.1.0",
      "model_name": "LayoutModel",
      "state": {}
     },
     "29e2d95ff69d4f0abd02ec44f73fd0d8": {
      "model_module": "@jupyter-widgets/controls",
      "model_module_version": "1.4.0",
      "model_name": "IntProgressModel",
      "state": {
       "layout": "IPY_MODEL_59a1b842ddb54fa3adc1e287f0253635",
       "max": 78,
       "style": "IPY_MODEL_c41abc364a3e4b83bdd7ebf09440741c",
       "value": 31
      }
     },
     "2a0f14c3f36d418e9e944675de803b85": {
      "model_module": "@jupyter-widgets/controls",
      "model_module_version": "1.4.0",
      "model_name": "ProgressStyleModel",
      "state": {
       "description_width": ""
      }
     },
     "2a1dc0a7c2ed473fa3ab8bf381027455": {
      "model_module": "@jupyter-widgets/controls",
      "model_module_version": "1.4.0",
      "model_name": "DescriptionStyleModel",
      "state": {
       "description_width": ""
      }
     },
     "2a2c826827f74529adf064da9bd8a28d": {
      "model_module": "@jupyter-widgets/controls",
      "model_module_version": "1.4.0",
      "model_name": "DescriptionStyleModel",
      "state": {
       "description_width": ""
      }
     },
     "2a3e2b1e7396466b9dcb7d756e231f56": {
      "model_module": "@jupyter-widgets/base",
      "model_module_version": "1.1.0",
      "model_name": "LayoutModel",
      "state": {}
     },
     "2a4228adb59b4c7eb9eb0752a72c4e02": {
      "model_module": "@jupyter-widgets/controls",
      "model_module_version": "1.4.0",
      "model_name": "IntProgressModel",
      "state": {
       "layout": "IPY_MODEL_bb614557290644cb9dc3af6dee7bbe72",
       "max": 78,
       "style": "IPY_MODEL_5c53290a86824c1f994233d0666ddf73"
      }
     },
     "2a6995928be94cffb94766c4b0f140b2": {
      "model_module": "@jupyter-widgets/base",
      "model_module_version": "1.1.0",
      "model_name": "LayoutModel",
      "state": {}
     },
     "2a6b3b67a2054fcc8679c60a8345ebe2": {
      "model_module": "@jupyter-widgets/base",
      "model_module_version": "1.1.0",
      "model_name": "LayoutModel",
      "state": {}
     },
     "2ab45ef9726f476389dc3b00c771f266": {
      "model_module": "@jupyter-widgets/controls",
      "model_module_version": "1.4.0",
      "model_name": "ProgressStyleModel",
      "state": {
       "description_width": ""
      }
     },
     "2ababc06fdf049d2ac16c9e9035a48be": {
      "model_module": "@jupyter-widgets/controls",
      "model_module_version": "1.4.0",
      "model_name": "ProgressStyleModel",
      "state": {
       "description_width": ""
      }
     },
     "2ad14c1fb84e4b08a7c181971fecaa97": {
      "model_module": "@jupyter-widgets/controls",
      "model_module_version": "1.4.0",
      "model_name": "HTMLModel",
      "state": {
       "layout": "IPY_MODEL_4e8b58ad246347828726db80fe27c53f",
       "style": "IPY_MODEL_a3f527f9f61045ca9fc09f5fce504736",
       "value": "100% 17/17 [00:04&lt;00:00,  3.85it/s]"
      }
     },
     "2ae5204cb89740a9ab8c94f6c45eef8e": {
      "model_module": "@jupyter-widgets/base",
      "model_module_version": "1.1.0",
      "model_name": "LayoutModel",
      "state": {}
     },
     "2b025672f9eb49f7b38eaf64f4cb245a": {
      "model_module": "@jupyter-widgets/controls",
      "model_module_version": "1.4.0",
      "model_name": "IntProgressModel",
      "state": {
       "layout": "IPY_MODEL_ba2f26991c404dfd8329be13c4bca6de",
       "max": 78,
       "style": "IPY_MODEL_488992f6424849c7b4da943933fa1195",
       "value": 66
      }
     },
     "2b0c0b9f1a5944e786743697df056af7": {
      "model_module": "@jupyter-widgets/controls",
      "model_module_version": "1.4.0",
      "model_name": "DescriptionStyleModel",
      "state": {
       "description_width": ""
      }
     },
     "2b12fcc747934ca8854d608615a9500e": {
      "model_module": "@jupyter-widgets/controls",
      "model_module_version": "1.4.0",
      "model_name": "IntProgressModel",
      "state": {
       "layout": "IPY_MODEL_6d0fda76180243aab4d3eae6f3cbaa83",
       "max": 78,
       "style": "IPY_MODEL_c7798b7b8ba94967b58b90cf94940775",
       "value": 19
      }
     },
     "2b2d248723bb4242a09aa9ba7b318f85": {
      "model_module": "@jupyter-widgets/base",
      "model_module_version": "1.1.0",
      "model_name": "LayoutModel",
      "state": {}
     },
     "2b5b7b1d591c4430a83e86a3ff86a4e0": {
      "model_module": "@jupyter-widgets/controls",
      "model_module_version": "1.4.0",
      "model_name": "DescriptionStyleModel",
      "state": {
       "description_width": ""
      }
     },
     "2b5e5e47c08743f296bdd037f83f24f8": {
      "model_module": "@jupyter-widgets/base",
      "model_module_version": "1.1.0",
      "model_name": "LayoutModel",
      "state": {}
     },
     "2b777b9fed4843f5a3068c5c3204cdce": {
      "model_module": "@jupyter-widgets/base",
      "model_module_version": "1.1.0",
      "model_name": "LayoutModel",
      "state": {}
     },
     "2b8720accb5749cca4763151c4fcb3a6": {
      "model_module": "@jupyter-widgets/base",
      "model_module_version": "1.1.0",
      "model_name": "LayoutModel",
      "state": {}
     },
     "2b8b36e9b12e4343a393451407b007da": {
      "model_module": "@jupyter-widgets/controls",
      "model_module_version": "1.4.0",
      "model_name": "DescriptionStyleModel",
      "state": {
       "description_width": ""
      }
     },
     "2b989f8bd1e0427bacbca5997722c3af": {
      "model_module": "@jupyter-widgets/controls",
      "model_module_version": "1.4.0",
      "model_name": "DescriptionStyleModel",
      "state": {
       "description_width": ""
      }
     },
     "2bbf8b87e0ff4992a0ad9787541b34aa": {
      "model_module": "@jupyter-widgets/controls",
      "model_module_version": "1.4.0",
      "model_name": "IntProgressModel",
      "state": {
       "layout": "IPY_MODEL_f789d34b3250431f932f71566bb9cfa0",
       "max": 78,
       "style": "IPY_MODEL_e6019e2c64c64ede81574e64ed469a27",
       "value": 19
      }
     },
     "2bdba3e18e8344b68910690bfe15903c": {
      "model_module": "@jupyter-widgets/controls",
      "model_module_version": "1.4.0",
      "model_name": "IntProgressModel",
      "state": {
       "bar_style": "success",
       "layout": "IPY_MODEL_f2904716a750436fb64534c1d0b8e9f2",
       "max": 78,
       "style": "IPY_MODEL_480f0a283c264192b241b4eccd080b24",
       "value": 78
      }
     },
     "2c0e3ab4b8af4fb299ffe0c3c6eed613": {
      "model_module": "@jupyter-widgets/controls",
      "model_module_version": "1.4.0",
      "model_name": "DescriptionStyleModel",
      "state": {
       "description_width": ""
      }
     },
     "2c1bdfcc3d3f49da8031c75015564c7b": {
      "model_module": "@jupyter-widgets/base",
      "model_module_version": "1.1.0",
      "model_name": "LayoutModel",
      "state": {}
     },
     "2c268683dab946efb3dede086204d648": {
      "model_module": "@jupyter-widgets/controls",
      "model_module_version": "1.4.0",
      "model_name": "DescriptionStyleModel",
      "state": {
       "description_width": ""
      }
     },
     "2c546d4d9f344f53aada0bcb43a061c3": {
      "model_module": "@jupyter-widgets/base",
      "model_module_version": "1.1.0",
      "model_name": "LayoutModel",
      "state": {}
     },
     "2c5ec53efcf44da5aa7572a9f0aca3ff": {
      "model_module": "@jupyter-widgets/controls",
      "model_module_version": "1.4.0",
      "model_name": "IntProgressModel",
      "state": {
       "layout": "IPY_MODEL_84ad1f18eb734d37a31050dd0b029cd0",
       "max": 78,
       "style": "IPY_MODEL_6c0401b028ae4d9bb5aa0517b41f06e5",
       "value": 9
      }
     },
     "2c5fb278bb5549908a96a76663b5dff5": {
      "model_module": "@jupyter-widgets/controls",
      "model_module_version": "1.4.0",
      "model_name": "IntProgressModel",
      "state": {
       "layout": "IPY_MODEL_7da219523b294ce6964ce7c0bffc4ce6",
       "max": 78,
       "style": "IPY_MODEL_6c77a06393bb49ffa5d0cdc58b1824d6",
       "value": 57
      }
     },
     "2c6341774acb45e4ad06045b24af455b": {
      "model_module": "@jupyter-widgets/base",
      "model_module_version": "1.1.0",
      "model_name": "LayoutModel",
      "state": {}
     },
     "2c846efd02a44d2e983da9a571c33306": {
      "model_module": "@jupyter-widgets/base",
      "model_module_version": "1.1.0",
      "model_name": "LayoutModel",
      "state": {}
     },
     "2c955caa6ac2478982988debde02bccd": {
      "model_module": "@jupyter-widgets/base",
      "model_module_version": "1.1.0",
      "model_name": "LayoutModel",
      "state": {}
     },
     "2caa342fad18499dbdcc85fa1555de71": {
      "model_module": "@jupyter-widgets/base",
      "model_module_version": "1.1.0",
      "model_name": "LayoutModel",
      "state": {}
     },
     "2cc60f3f22c04852a95c788e1e9868fd": {
      "model_module": "@jupyter-widgets/controls",
      "model_module_version": "1.4.0",
      "model_name": "ProgressStyleModel",
      "state": {
       "description_width": ""
      }
     },
     "2cc8d1d9e6d44140b6b207c9b269a517": {
      "model_module": "@jupyter-widgets/controls",
      "model_module_version": "1.4.0",
      "model_name": "HTMLModel",
      "state": {
       "layout": "IPY_MODEL_4dccd138fdf94b7fb1de550502753d80",
       "style": "IPY_MODEL_56f63522d5ae487893953b6bab6f0e3a",
       "value": " 55% 43/78 [00:00&lt;00:00, 194.60it/s]"
      }
     },
     "2ccba753f57e4e60a10aa2f38cea9581": {
      "model_module": "@jupyter-widgets/controls",
      "model_module_version": "1.4.0",
      "model_name": "ProgressStyleModel",
      "state": {
       "description_width": ""
      }
     },
     "2d1050b639b2406699d0b56c2ac0c1a1": {
      "model_module": "@jupyter-widgets/controls",
      "model_module_version": "1.4.0",
      "model_name": "ProgressStyleModel",
      "state": {
       "description_width": ""
      }
     },
     "2d41d6547a124015ae4bdd49a6b9dbd2": {
      "model_module": "@jupyter-widgets/controls",
      "model_module_version": "1.4.0",
      "model_name": "DescriptionStyleModel",
      "state": {
       "description_width": ""
      }
     },
     "2d53585306cc44458fd75ca556509617": {
      "model_module": "@jupyter-widgets/base",
      "model_module_version": "1.1.0",
      "model_name": "LayoutModel",
      "state": {}
     },
     "2d56f851467545f7b6b6d0d23ea46732": {
      "model_module": "@jupyter-widgets/base",
      "model_module_version": "1.1.0",
      "model_name": "LayoutModel",
      "state": {}
     },
     "2d5d8debccda4fd6831216263e04ffee": {
      "model_module": "@jupyter-widgets/base",
      "model_module_version": "1.1.0",
      "model_name": "LayoutModel",
      "state": {}
     },
     "2d7967fd73a6485d8f3e0fb1338cdd20": {
      "model_module": "@jupyter-widgets/base",
      "model_module_version": "1.1.0",
      "model_name": "LayoutModel",
      "state": {}
     },
     "2d8fcc96eacf47b79c8961fca68da3bb": {
      "model_module": "@jupyter-widgets/controls",
      "model_module_version": "1.4.0",
      "model_name": "HBoxModel",
      "state": {
       "children": [
        "IPY_MODEL_2ebc2ac494634f338fb4b5ed021260bd",
        "IPY_MODEL_88347563992e45e281fb15204d94faec"
       ],
       "layout": "IPY_MODEL_ca70cd01bd5e435e88ea053be6ef6d4e"
      }
     },
     "2d9d03868de94650b5a5895250ae58e1": {
      "model_module": "@jupyter-widgets/controls",
      "model_module_version": "1.4.0",
      "model_name": "HTMLModel",
      "state": {
       "layout": "IPY_MODEL_31037335b3074428829b340ef12b1201",
       "style": "IPY_MODEL_b7a57ca72373456f9f53c4d950b2d65f",
       "value": " 23% 18/78 [00:00&lt;00:00, 178.18it/s]"
      }
     },
     "2dac475de93b4cd495b227f30600e3a9": {
      "model_module": "@jupyter-widgets/base",
      "model_module_version": "1.1.0",
      "model_name": "LayoutModel",
      "state": {}
     },
     "2dc0968c62fd4fe38a6d53701b4c86f5": {
      "model_module": "@jupyter-widgets/base",
      "model_module_version": "1.1.0",
      "model_name": "LayoutModel",
      "state": {}
     },
     "2dca4e894c734a8f9b5e4e7b4a1a75f2": {
      "model_module": "@jupyter-widgets/controls",
      "model_module_version": "1.4.0",
      "model_name": "HTMLModel",
      "state": {
       "layout": "IPY_MODEL_36e4d088319d4662bdd4f0c9033fefac",
       "style": "IPY_MODEL_e2c284a1c52b4a51a6bfb05e8ce48294",
       "value": "100% 17/17 [00:06&lt;00:00,  2.63it/s]"
      }
     },
     "2e285ec673744cfe8e3d8caf70acbd86": {
      "model_module": "@jupyter-widgets/controls",
      "model_module_version": "1.4.0",
      "model_name": "HTMLModel",
      "state": {
       "layout": "IPY_MODEL_9a82682d274844928b2e47102a4f3f5e",
       "style": "IPY_MODEL_573aba85e59f46fba8230d03eec4cbd8",
       "value": "100% 17/17 [00:04&lt;00:00,  3.94it/s]"
      }
     },
     "2e31c08a5aae46a898f08f82780eda47": {
      "model_module": "@jupyter-widgets/base",
      "model_module_version": "1.1.0",
      "model_name": "LayoutModel",
      "state": {}
     },
     "2e3c207d44614429a8316fe613baeede": {
      "model_module": "@jupyter-widgets/controls",
      "model_module_version": "1.4.0",
      "model_name": "DescriptionStyleModel",
      "state": {
       "description_width": ""
      }
     },
     "2e5877fc0f3f429ca2d78df7d2eee6a2": {
      "model_module": "@jupyter-widgets/base",
      "model_module_version": "1.1.0",
      "model_name": "LayoutModel",
      "state": {}
     },
     "2e5a08829820475887448f46974e8ab3": {
      "model_module": "@jupyter-widgets/controls",
      "model_module_version": "1.4.0",
      "model_name": "DescriptionStyleModel",
      "state": {
       "description_width": ""
      }
     },
     "2e5f8edb1e91461c91772c51bf0f1d9c": {
      "model_module": "@jupyter-widgets/controls",
      "model_module_version": "1.4.0",
      "model_name": "IntProgressModel",
      "state": {
       "layout": "IPY_MODEL_d13c58e974074e7a8bd295908e54b0c2",
       "max": 78,
       "style": "IPY_MODEL_706ac70a7f6248ada197c9832fd5deee",
       "value": 23
      }
     },
     "2e7df3da493f4af2bd1b435871fbf8ac": {
      "model_module": "@jupyter-widgets/controls",
      "model_module_version": "1.4.0",
      "model_name": "IntProgressModel",
      "state": {
       "layout": "IPY_MODEL_6f6762b7d0b540c3a11e5d5b49f11c6d",
       "max": 17,
       "style": "IPY_MODEL_0ded225d9cb74e929328ccfd139db44d",
       "value": 17
      }
     },
     "2eb6713e3fb84582ae8464a3ba3900b0": {
      "model_module": "@jupyter-widgets/base",
      "model_module_version": "1.1.0",
      "model_name": "LayoutModel",
      "state": {}
     },
     "2ebc2ac494634f338fb4b5ed021260bd": {
      "model_module": "@jupyter-widgets/controls",
      "model_module_version": "1.4.0",
      "model_name": "IntProgressModel",
      "state": {
       "bar_style": "success",
       "layout": "IPY_MODEL_873246fa70674782bdceff02858011fb",
       "max": 551,
       "style": "IPY_MODEL_944e913da3784472b2b1d4d15ddbcf17",
       "value": 551
      }
     },
     "2ef9482429b249659b57483d7f57a2a7": {
      "model_module": "@jupyter-widgets/controls",
      "model_module_version": "1.4.0",
      "model_name": "HTMLModel",
      "state": {
       "layout": "IPY_MODEL_75bffe97775d4947854b6a00f827b18a",
       "style": "IPY_MODEL_f7d9a4b872ec4b3a974184cba8c2b6cd",
       "value": "100% 17/17 [00:05&lt;00:00,  2.98it/s]"
      }
     },
     "2f033cf80fa8466eb0a65d00ad44ce57": {
      "model_module": "@jupyter-widgets/controls",
      "model_module_version": "1.4.0",
      "model_name": "DescriptionStyleModel",
      "state": {
       "description_width": ""
      }
     },
     "2f0cbbe4b8164ce28bb5dd2d3ff8b924": {
      "model_module": "@jupyter-widgets/controls",
      "model_module_version": "1.4.0",
      "model_name": "ProgressStyleModel",
      "state": {
       "description_width": ""
      }
     },
     "2f2487b14ff844edbea938009cc73d82": {
      "model_module": "@jupyter-widgets/controls",
      "model_module_version": "1.4.0",
      "model_name": "IntProgressModel",
      "state": {
       "layout": "IPY_MODEL_6353ab59d674440dbd56131ba03b6105",
       "max": 17,
       "style": "IPY_MODEL_a01a887420a84efb8c7eb874d88e72ac",
       "value": 17
      }
     },
     "2f32796a87df492aa7e9c49370b11e1f": {
      "model_module": "@jupyter-widgets/controls",
      "model_module_version": "1.4.0",
      "model_name": "ProgressStyleModel",
      "state": {
       "description_width": ""
      }
     },
     "2f5ecee82725483394a9975783b5f15e": {
      "model_module": "@jupyter-widgets/base",
      "model_module_version": "1.1.0",
      "model_name": "LayoutModel",
      "state": {}
     },
     "2f7130b65d9c41d18b4c90e106795ada": {
      "model_module": "@jupyter-widgets/base",
      "model_module_version": "1.1.0",
      "model_name": "LayoutModel",
      "state": {}
     },
     "2f7829a1de3142d5850981eb717d8a48": {
      "model_module": "@jupyter-widgets/controls",
      "model_module_version": "1.4.0",
      "model_name": "HTMLModel",
      "state": {
       "layout": "IPY_MODEL_66b891a6c8254597b29b4d223e2ed24f",
       "style": "IPY_MODEL_ab98b5e656ed449b8a67b2ba36e742b4",
       "value": "100% 17/17 [00:06&lt;00:00,  2.64it/s]"
      }
     },
     "2f9fbff65e384c019fd2e62949fdba3d": {
      "model_module": "@jupyter-widgets/controls",
      "model_module_version": "1.4.0",
      "model_name": "HBoxModel",
      "state": {
       "children": [
        "IPY_MODEL_2bdba3e18e8344b68910690bfe15903c",
        "IPY_MODEL_a18b20e1a0cf412a831377c2d15bac99"
       ],
       "layout": "IPY_MODEL_efc050e2566f41f487dd4ab9143dae04"
      }
     },
     "2fa830c7a85a4b128a50e0ed650d0372": {
      "model_module": "@jupyter-widgets/controls",
      "model_module_version": "1.4.0",
      "model_name": "ProgressStyleModel",
      "state": {
       "description_width": ""
      }
     },
     "2fb66458fc034250b8b99367e84d5485": {
      "model_module": "@jupyter-widgets/controls",
      "model_module_version": "1.4.0",
      "model_name": "ProgressStyleModel",
      "state": {
       "description_width": ""
      }
     },
     "2fd61b8abd3b4fe08a3acae915f892bc": {
      "model_module": "@jupyter-widgets/controls",
      "model_module_version": "1.4.0",
      "model_name": "ProgressStyleModel",
      "state": {
       "description_width": ""
      }
     },
     "300151d2090c4f4080d765e43cbee382": {
      "model_module": "@jupyter-widgets/base",
      "model_module_version": "1.1.0",
      "model_name": "LayoutModel",
      "state": {}
     },
     "300a4dc4bc2b4d228cc8e334c2bc4adb": {
      "model_module": "@jupyter-widgets/base",
      "model_module_version": "1.1.0",
      "model_name": "LayoutModel",
      "state": {}
     },
     "301289531a6f401292e48e9a1f2ec272": {
      "model_module": "@jupyter-widgets/controls",
      "model_module_version": "1.4.0",
      "model_name": "HTMLModel",
      "state": {
       "layout": "IPY_MODEL_d79e78b587854629892876d797a52c7e",
       "style": "IPY_MODEL_b77ecec9ab7f420d9131d69a6402e499",
       "value": "100% 17/17 [00:05&lt;00:00,  2.88it/s]"
      }
     },
     "302a542efa2449f382b5024e59d6dd5e": {
      "model_module": "@jupyter-widgets/controls",
      "model_module_version": "1.4.0",
      "model_name": "ProgressStyleModel",
      "state": {
       "description_width": ""
      }
     },
     "303104a6b7434facb00a7782334c661b": {
      "model_module": "@jupyter-widgets/base",
      "model_module_version": "1.1.0",
      "model_name": "LayoutModel",
      "state": {}
     },
     "303261f7b38f41448a2c58dbb68a9b91": {
      "model_module": "@jupyter-widgets/controls",
      "model_module_version": "1.4.0",
      "model_name": "IntProgressModel",
      "state": {
       "layout": "IPY_MODEL_99fcb0ec59ef4da7bcfaf6ef34be688d",
       "max": 17,
       "style": "IPY_MODEL_3f3bdd7b28fd4ccea46dfe92bfdf1131",
       "value": 17
      }
     },
     "306df89056c84122933aa042135fb319": {
      "model_module": "@jupyter-widgets/base",
      "model_module_version": "1.1.0",
      "model_name": "LayoutModel",
      "state": {}
     },
     "30cc534740d241f58ddd801953a2f152": {
      "model_module": "@jupyter-widgets/controls",
      "model_module_version": "1.4.0",
      "model_name": "IntProgressModel",
      "state": {
       "layout": "IPY_MODEL_6108868c8a4e48eea8bb98f6ec709576",
       "max": 78,
       "style": "IPY_MODEL_81e01fe4574747d8b666a64d861ef25d",
       "value": 40
      }
     },
     "30f17dc9c41a43cf9305945df3d4d0f1": {
      "model_module": "@jupyter-widgets/controls",
      "model_module_version": "1.4.0",
      "model_name": "IntProgressModel",
      "state": {
       "layout": "IPY_MODEL_4caf215ed15a4ec2aaebd620c165f60c",
       "max": 78,
       "style": "IPY_MODEL_c5928ec3e21147bb83ff536d5e2e1656",
       "value": 26
      }
     },
     "31037335b3074428829b340ef12b1201": {
      "model_module": "@jupyter-widgets/base",
      "model_module_version": "1.1.0",
      "model_name": "LayoutModel",
      "state": {}
     },
     "311d2f39c5074a058cc2120a893102e1": {
      "model_module": "@jupyter-widgets/controls",
      "model_module_version": "1.4.0",
      "model_name": "IntProgressModel",
      "state": {
       "layout": "IPY_MODEL_c64333bb70ef42bfbec5b9fe82b2936d",
       "max": 17,
       "style": "IPY_MODEL_5dc649355d3e48c4aa057803a4f87d4c",
       "value": 17
      }
     },
     "31235b6b78394f5594793abbe45a78dd": {
      "model_module": "@jupyter-widgets/base",
      "model_module_version": "1.1.0",
      "model_name": "LayoutModel",
      "state": {}
     },
     "3126455bae2f495cbd3af177dce6a1ee": {
      "model_module": "@jupyter-widgets/base",
      "model_module_version": "1.1.0",
      "model_name": "LayoutModel",
      "state": {}
     },
     "3134de30ea9c4969946fbddf8b4b9424": {
      "model_module": "@jupyter-widgets/base",
      "model_module_version": "1.1.0",
      "model_name": "LayoutModel",
      "state": {}
     },
     "31494cbdf64b48f9bf0495ce8fd95d92": {
      "model_module": "@jupyter-widgets/controls",
      "model_module_version": "1.4.0",
      "model_name": "ProgressStyleModel",
      "state": {
       "description_width": ""
      }
     },
     "31565e67b2524efdb694f8681b219fee": {
      "model_module": "@jupyter-widgets/base",
      "model_module_version": "1.1.0",
      "model_name": "LayoutModel",
      "state": {}
     },
     "31579893276546dc923638b2d732a374": {
      "model_module": "@jupyter-widgets/controls",
      "model_module_version": "1.4.0",
      "model_name": "DescriptionStyleModel",
      "state": {
       "description_width": ""
      }
     },
     "3178c898b9ba48c28160073e25b1c49b": {
      "model_module": "@jupyter-widgets/base",
      "model_module_version": "1.1.0",
      "model_name": "LayoutModel",
      "state": {}
     },
     "31a1918506f54fa093e62f65c1198248": {
      "model_module": "@jupyter-widgets/controls",
      "model_module_version": "1.4.0",
      "model_name": "HTMLModel",
      "state": {
       "layout": "IPY_MODEL_190f4313150b4419a7fc6db9abcc7133",
       "style": "IPY_MODEL_7cebb6b676ab45619ac712895a0e8072",
       "value": "100% 17/17 [00:08&lt;00:00,  2.04it/s]"
      }
     },
     "31bf8a4b45e34c198aea8d92d76fca38": {
      "model_module": "@jupyter-widgets/controls",
      "model_module_version": "1.4.0",
      "model_name": "DescriptionStyleModel",
      "state": {
       "description_width": ""
      }
     },
     "31c61badc2e941ed8d1b2462b201960c": {
      "model_module": "@jupyter-widgets/controls",
      "model_module_version": "1.4.0",
      "model_name": "DescriptionStyleModel",
      "state": {
       "description_width": ""
      }
     },
     "31e710804fd54be4937e0d0fc9aec84c": {
      "model_module": "@jupyter-widgets/controls",
      "model_module_version": "1.4.0",
      "model_name": "IntProgressModel",
      "state": {
       "layout": "IPY_MODEL_ecf36634792b455d8819f5257359514d",
       "max": 17,
       "style": "IPY_MODEL_d4aa60f6d4264326971ea7f1e46d0567",
       "value": 17
      }
     },
     "31ea18ae8d17491daae3aebb0e526282": {
      "model_module": "@jupyter-widgets/controls",
      "model_module_version": "1.4.0",
      "model_name": "DescriptionStyleModel",
      "state": {
       "description_width": ""
      }
     },
     "31ee7085ce4f410a9cd7a2e9b66da9c1": {
      "model_module": "@jupyter-widgets/controls",
      "model_module_version": "1.4.0",
      "model_name": "ProgressStyleModel",
      "state": {
       "description_width": ""
      }
     },
     "31fa25fd7503496ba5570de641676eec": {
      "model_module": "@jupyter-widgets/controls",
      "model_module_version": "1.4.0",
      "model_name": "IntProgressModel",
      "state": {
       "layout": "IPY_MODEL_0ea308c8a10547888bff4328d0b4c39b",
       "max": 17,
       "style": "IPY_MODEL_95cc974cc3b74feb94d0866a6f7d8956",
       "value": 17
      }
     },
     "3202a5ba511c4cdd843c4bb1abb67e25": {
      "model_module": "@jupyter-widgets/base",
      "model_module_version": "1.1.0",
      "model_name": "LayoutModel",
      "state": {}
     },
     "3212569c0a594ab4a07f71ac8301a97c": {
      "model_module": "@jupyter-widgets/base",
      "model_module_version": "1.1.0",
      "model_name": "LayoutModel",
      "state": {}
     },
     "321f85915c1b4e2fa51836de7bbea5f8": {
      "model_module": "@jupyter-widgets/controls",
      "model_module_version": "1.4.0",
      "model_name": "HTMLModel",
      "state": {
       "layout": "IPY_MODEL_864821b95c6f4e2b93b25b3a7526fb8a",
       "style": "IPY_MODEL_d3290fa08d9a48d2baeb4c990ad26354",
       "value": " 37% 29/78 [00:00&lt;00:00, 288.79it/s]"
      }
     },
     "3257b04aa28d4f29ac0e3a2def8b7ec8": {
      "model_module": "@jupyter-widgets/controls",
      "model_module_version": "1.4.0",
      "model_name": "IntProgressModel",
      "state": {
       "layout": "IPY_MODEL_986123fdab28454ca4d5ba4ba709a958",
       "max": 17,
       "style": "IPY_MODEL_8c1e79f63b20448cb2eda51ce395004f",
       "value": 17
      }
     },
     "3267237aaa5349e4be62daccce337361": {
      "model_module": "@jupyter-widgets/controls",
      "model_module_version": "1.4.0",
      "model_name": "IntProgressModel",
      "state": {
       "bar_style": "success",
       "layout": "IPY_MODEL_ec29412000ac4cc593fbfe47ad32eb1d",
       "max": 78,
       "style": "IPY_MODEL_cd0c5967b97c4d04b2faf9df00e0fd7d",
       "value": 78
      }
     },
     "32af9cc520aa40bd96ee2e54edfc7fbf": {
      "model_module": "@jupyter-widgets/controls",
      "model_module_version": "1.4.0",
      "model_name": "HTMLModel",
      "state": {
       "layout": "IPY_MODEL_12245933b15c428d82ac7b3d69891c97",
       "style": "IPY_MODEL_217751fc563249ac9269a1b9eff51d33",
       "value": "100% 17/17 [00:05&lt;00:00,  3.13it/s]"
      }
     },
     "32c7c031da7d412e920c8c89d5f1147e": {
      "model_module": "@jupyter-widgets/base",
      "model_module_version": "1.1.0",
      "model_name": "LayoutModel",
      "state": {}
     },
     "32ca7f58c9a44a04ac709fcbde596f80": {
      "model_module": "@jupyter-widgets/base",
      "model_module_version": "1.1.0",
      "model_name": "LayoutModel",
      "state": {}
     },
     "32cf23ffe5aa49279c77d8748473db16": {
      "model_module": "@jupyter-widgets/controls",
      "model_module_version": "1.4.0",
      "model_name": "HTMLModel",
      "state": {
       "layout": "IPY_MODEL_b8bf53b8d43a4578b21b1c32836a9354",
       "style": "IPY_MODEL_39f120902f9144e7b5d3fcf838883294",
       "value": " 82% 64/78 [00:00&lt;00:00, 636.75it/s]"
      }
     },
     "32ec959e0d8542f5b17ab1e57294d6ce": {
      "model_module": "@jupyter-widgets/base",
      "model_module_version": "1.1.0",
      "model_name": "LayoutModel",
      "state": {}
     },
     "32efc1c4e2244fbfb5c333fe72951028": {
      "model_module": "@jupyter-widgets/controls",
      "model_module_version": "1.4.0",
      "model_name": "HTMLModel",
      "state": {
       "layout": "IPY_MODEL_23b5864961ae4eb0b9e643d9a2bc591c",
       "style": "IPY_MODEL_65098b9dd40244dcb44aa93d6c57bb1c",
       "value": " 92% 72/78 [00:00&lt;00:00, 356.36it/s]"
      }
     },
     "32f48f62f72d4521abbbd7e51d7acd9d": {
      "model_module": "@jupyter-widgets/controls",
      "model_module_version": "1.4.0",
      "model_name": "DescriptionStyleModel",
      "state": {
       "description_width": ""
      }
     },
     "3306b7533ff64fa6a5d7ac78080a361f": {
      "model_module": "@jupyter-widgets/base",
      "model_module_version": "1.1.0",
      "model_name": "LayoutModel",
      "state": {}
     },
     "330fdc986985441798e55abe7198b261": {
      "model_module": "@jupyter-widgets/controls",
      "model_module_version": "1.4.0",
      "model_name": "HTMLModel",
      "state": {
       "layout": "IPY_MODEL_3f221668bb684d509b91e0f3078c971c",
       "style": "IPY_MODEL_3524819ff1744b7f925e8218f4c52c08",
       "value": "100% 17/17 [00:05&lt;00:00,  3.35it/s]"
      }
     },
     "332ff53bc44444928670f6368ef7430d": {
      "model_module": "@jupyter-widgets/controls",
      "model_module_version": "1.4.0",
      "model_name": "HTMLModel",
      "state": {
       "layout": "IPY_MODEL_381850ce57934b558f61bd5ed8172dc8",
       "style": "IPY_MODEL_b5efc3da486149ae9b2e2da9c3321aa2",
       "value": "100% 17/17 [00:06&lt;00:00,  2.81it/s]"
      }
     },
     "3333e38c01b945f2be287f63571859ac": {
      "model_module": "@jupyter-widgets/base",
      "model_module_version": "1.1.0",
      "model_name": "LayoutModel",
      "state": {}
     },
     "33462ee55e594729987cc7f688efb316": {
      "model_module": "@jupyter-widgets/controls",
      "model_module_version": "1.4.0",
      "model_name": "HTMLModel",
      "state": {
       "layout": "IPY_MODEL_189e42061f064979bbbc20ff2fdc443d",
       "style": "IPY_MODEL_c1046365b01e457fb8b72c75bc2d4094",
       "value": " 49% 38/78 [00:00&lt;00:00, 378.88it/s]"
      }
     },
     "334f7a6b18e94aafb18be080bfaae5a5": {
      "model_module": "@jupyter-widgets/base",
      "model_module_version": "1.1.0",
      "model_name": "LayoutModel",
      "state": {}
     },
     "336c5f72eeb4477a85f37de73caade64": {
      "model_module": "@jupyter-widgets/controls",
      "model_module_version": "1.4.0",
      "model_name": "HTMLModel",
      "state": {
       "layout": "IPY_MODEL_e0132fa8c6d348f2b3076f804a1233d9",
       "style": "IPY_MODEL_7c18cbff4c814cffbb1eeeb3b1c02561",
       "value": " 35% 27/78 [00:00&lt;00:00, 269.42it/s]"
      }
     },
     "339373710e3a40aba1633364ae2a8af4": {
      "model_module": "@jupyter-widgets/base",
      "model_module_version": "1.1.0",
      "model_name": "LayoutModel",
      "state": {}
     },
     "33d80392a06341ecacb5e9b0f476e164": {
      "model_module": "@jupyter-widgets/base",
      "model_module_version": "1.1.0",
      "model_name": "LayoutModel",
      "state": {}
     },
     "33e5abb6a2a349d4945f81b78ffb72d1": {
      "model_module": "@jupyter-widgets/base",
      "model_module_version": "1.1.0",
      "model_name": "LayoutModel",
      "state": {}
     },
     "33f01433eaaf4c848eccf36f98e99eb5": {
      "model_module": "@jupyter-widgets/controls",
      "model_module_version": "1.4.0",
      "model_name": "HTMLModel",
      "state": {
       "layout": "IPY_MODEL_a72fc6aefbce4d51bb1ca74d0cb02f65",
       "style": "IPY_MODEL_720ed2a7e858468baff2599b564c4e08",
       "value": "100% 78/78 [00:00&lt;00:00, 206.92it/s]"
      }
     },
     "344ab5fe0a2d4d0e94046d5595769855": {
      "model_module": "@jupyter-widgets/base",
      "model_module_version": "1.1.0",
      "model_name": "LayoutModel",
      "state": {}
     },
     "3475cf679f614cb9b261a44d89f36f71": {
      "model_module": "@jupyter-widgets/controls",
      "model_module_version": "1.4.0",
      "model_name": "IntProgressModel",
      "state": {
       "layout": "IPY_MODEL_6385ae01fae6480aa6aad3088148b57e",
       "max": 17,
       "style": "IPY_MODEL_cfdd3254fd3f4117b7c6d0b0014394c6",
       "value": 17
      }
     },
     "348ab3b4c13045df811a983fc097e12f": {
      "model_module": "@jupyter-widgets/base",
      "model_module_version": "1.1.0",
      "model_name": "LayoutModel",
      "state": {}
     },
     "34b6e904211e4c40befc0f8cfce05e2b": {
      "model_module": "@jupyter-widgets/controls",
      "model_module_version": "1.4.0",
      "model_name": "ProgressStyleModel",
      "state": {
       "description_width": ""
      }
     },
     "34d7df479a904101881b046e4acd1c5e": {
      "model_module": "@jupyter-widgets/base",
      "model_module_version": "1.1.0",
      "model_name": "LayoutModel",
      "state": {}
     },
     "34e695b7fe154e82b72ce995e79ee545": {
      "model_module": "@jupyter-widgets/base",
      "model_module_version": "1.1.0",
      "model_name": "LayoutModel",
      "state": {}
     },
     "3524819ff1744b7f925e8218f4c52c08": {
      "model_module": "@jupyter-widgets/controls",
      "model_module_version": "1.4.0",
      "model_name": "DescriptionStyleModel",
      "state": {
       "description_width": ""
      }
     },
     "3539b0b47c4f4ca3b6f5903a09bf67ab": {
      "model_module": "@jupyter-widgets/controls",
      "model_module_version": "1.4.0",
      "model_name": "IntProgressModel",
      "state": {
       "layout": "IPY_MODEL_306df89056c84122933aa042135fb319",
       "max": 78,
       "style": "IPY_MODEL_f4af103273fe449da8733779892d00c7",
       "value": 21
      }
     },
     "355d04947d94433dab2f5fa2e680c363": {
      "model_module": "@jupyter-widgets/base",
      "model_module_version": "1.1.0",
      "model_name": "LayoutModel",
      "state": {}
     },
     "3571e5de33e9426eb819b150d0ee7483": {
      "model_module": "@jupyter-widgets/base",
      "model_module_version": "1.1.0",
      "model_name": "LayoutModel",
      "state": {}
     },
     "3572325ab86c4c67b307d735ce7f5ceb": {
      "model_module": "@jupyter-widgets/controls",
      "model_module_version": "1.4.0",
      "model_name": "IntProgressModel",
      "state": {
       "layout": "IPY_MODEL_f53bd6d6943d423f896c379ac28561f3",
       "max": 17,
       "style": "IPY_MODEL_57d0abeef1ba4ce2b3c27820c8f640c0",
       "value": 17
      }
     },
     "3576c110fac4487a943e3e395423a2f1": {
      "model_module": "@jupyter-widgets/base",
      "model_module_version": "1.1.0",
      "model_name": "LayoutModel",
      "state": {}
     },
     "35a35621956f4581b2791f83b48a364d": {
      "model_module": "@jupyter-widgets/controls",
      "model_module_version": "1.4.0",
      "model_name": "IntProgressModel",
      "state": {
       "layout": "IPY_MODEL_1e20b6322ea047db9e55e2021409905f",
       "max": 78,
       "style": "IPY_MODEL_f95ff51f072846baa749e60895a95abd",
       "value": 71
      }
     },
     "35fc1b1999944ba7b6741fe64bc4ca69": {
      "model_module": "@jupyter-widgets/controls",
      "model_module_version": "1.4.0",
      "model_name": "HTMLModel",
      "state": {
       "layout": "IPY_MODEL_caf367b1454949d3854efc9bc0e2eda3",
       "style": "IPY_MODEL_d697c771d3664090bbf4e784f0b7d63d",
       "value": " 24% 19/78 [00:00&lt;00:00, 185.24it/s]"
      }
     },
     "360bfc8715c146a2a866483832a39965": {
      "model_module": "@jupyter-widgets/controls",
      "model_module_version": "1.4.0",
      "model_name": "HTMLModel",
      "state": {
       "layout": "IPY_MODEL_2d7967fd73a6485d8f3e0fb1338cdd20",
       "style": "IPY_MODEL_c2fffbeeef7c49e390f7ab4f847b661b",
       "value": " 64% 50/78 [00:00&lt;00:00, 160.04it/s]"
      }
     },
     "361fd418330f42de918088c57dead497": {
      "model_module": "@jupyter-widgets/controls",
      "model_module_version": "1.4.0",
      "model_name": "ProgressStyleModel",
      "state": {
       "description_width": ""
      }
     },
     "363834df36d54fe78dc87a59c4f8aeb1": {
      "model_module": "@jupyter-widgets/controls",
      "model_module_version": "1.4.0",
      "model_name": "HTMLModel",
      "state": {
       "layout": "IPY_MODEL_7d9dab5722eb48d0a9e02789c8dd4632",
       "style": "IPY_MODEL_5f0ffc16eb6c43e4a611b3010318c340",
       "value": " 96% 75/78 [00:00&lt;00:00, 361.05it/s]"
      }
     },
     "365863dca1634fd9bff840232261adc6": {
      "model_module": "@jupyter-widgets/base",
      "model_module_version": "1.1.0",
      "model_name": "LayoutModel",
      "state": {}
     },
     "36619d97225f4b178714d7b05e006d35": {
      "model_module": "@jupyter-widgets/base",
      "model_module_version": "1.1.0",
      "model_name": "LayoutModel",
      "state": {}
     },
     "369741fa58ed43e4b60cd46c6168f93b": {
      "model_module": "@jupyter-widgets/base",
      "model_module_version": "1.1.0",
      "model_name": "LayoutModel",
      "state": {}
     },
     "36a1934b763a42e6a86d8b1334083d71": {
      "model_module": "@jupyter-widgets/controls",
      "model_module_version": "1.4.0",
      "model_name": "IntProgressModel",
      "state": {
       "layout": "IPY_MODEL_02071e77b2e54301a692d47b3e5505a8",
       "max": 17,
       "style": "IPY_MODEL_c8fc4260d6f943bb837a9bbdfa99590c",
       "value": 17
      }
     },
     "36d96faad0cc42e0afe987816ca456ef": {
      "model_module": "@jupyter-widgets/controls",
      "model_module_version": "1.4.0",
      "model_name": "ProgressStyleModel",
      "state": {
       "description_width": ""
      }
     },
     "36dd0e23afbe4b09adefa87852934dfe": {
      "model_module": "@jupyter-widgets/controls",
      "model_module_version": "1.4.0",
      "model_name": "HTMLModel",
      "state": {
       "layout": "IPY_MODEL_5a1e5e9b2dc349ee80d87b015f191455",
       "style": "IPY_MODEL_a2450f6ae2a2439991dc817d602de424",
       "value": " 85% 66/78 [00:00&lt;00:00, 327.62it/s]"
      }
     },
     "36de3b0a291f4ce7bacb299c3208f301": {
      "model_module": "@jupyter-widgets/base",
      "model_module_version": "1.1.0",
      "model_name": "LayoutModel",
      "state": {}
     },
     "36e33951b729412886bb25d6e9f56f1a": {
      "model_module": "@jupyter-widgets/controls",
      "model_module_version": "1.4.0",
      "model_name": "DescriptionStyleModel",
      "state": {
       "description_width": ""
      }
     },
     "36e4d088319d4662bdd4f0c9033fefac": {
      "model_module": "@jupyter-widgets/base",
      "model_module_version": "1.1.0",
      "model_name": "LayoutModel",
      "state": {}
     },
     "36f901dfd0384b5a80cba7f066b08cc5": {
      "model_module": "@jupyter-widgets/controls",
      "model_module_version": "1.4.0",
      "model_name": "DescriptionStyleModel",
      "state": {
       "description_width": ""
      }
     },
     "36fb2398c28947fda951fb18df7ba4be": {
      "model_module": "@jupyter-widgets/controls",
      "model_module_version": "1.4.0",
      "model_name": "ProgressStyleModel",
      "state": {
       "description_width": ""
      }
     },
     "371d5762a1cf46e2bee26807e95929c5": {
      "model_module": "@jupyter-widgets/controls",
      "model_module_version": "1.4.0",
      "model_name": "HTMLModel",
      "state": {
       "layout": "IPY_MODEL_a888e4e6d71346658076e2c4d5769822",
       "style": "IPY_MODEL_a9612c6acbbc4a71ab5d98dd288fba2b",
       "value": "100% 17/17 [00:08&lt;00:00,  2.12it/s]"
      }
     },
     "372cccb3501b451cad6222a8dcb1bde2": {
      "model_module": "@jupyter-widgets/controls",
      "model_module_version": "1.4.0",
      "model_name": "IntProgressModel",
      "state": {
       "layout": "IPY_MODEL_4f07acf600054fcea4b88df7f5999767",
       "max": 17,
       "style": "IPY_MODEL_27e298c7b7b0431f9eef90b71a5d8356",
       "value": 17
      }
     },
     "374774e25d6b42729f0689d3b91bc777": {
      "model_module": "@jupyter-widgets/controls",
      "model_module_version": "1.4.0",
      "model_name": "IntProgressModel",
      "state": {
       "layout": "IPY_MODEL_04b1e62da2474f7788ba66463646a9e9",
       "max": 78,
       "style": "IPY_MODEL_cbf25851fd3b4fd8a8cb5701d1b6c7ac",
       "value": 15
      }
     },
     "375c82f6e7a34095ad45610ec3641e0b": {
      "model_module": "@jupyter-widgets/controls",
      "model_module_version": "1.4.0",
      "model_name": "IntProgressModel",
      "state": {
       "layout": "IPY_MODEL_cf38a78a855546dd840b3fa679acd31c",
       "max": 78,
       "style": "IPY_MODEL_0c04549c07324f8cb8abb88c20e8f6e3",
       "value": 74
      }
     },
     "377fa5875a614450b25fd18b00a98fe3": {
      "model_module": "@jupyter-widgets/base",
      "model_module_version": "1.1.0",
      "model_name": "LayoutModel",
      "state": {}
     },
     "379626f59e2548e3a528cd77ce7a1595": {
      "model_module": "@jupyter-widgets/controls",
      "model_module_version": "1.4.0",
      "model_name": "DescriptionStyleModel",
      "state": {
       "description_width": ""
      }
     },
     "379cf4145f9c467bb592edd8db605bc8": {
      "model_module": "@jupyter-widgets/base",
      "model_module_version": "1.1.0",
      "model_name": "LayoutModel",
      "state": {}
     },
     "37a2bc3166ba434ea5f53d062669b4d0": {
      "model_module": "@jupyter-widgets/base",
      "model_module_version": "1.1.0",
      "model_name": "LayoutModel",
      "state": {}
     },
     "37ace068b95647ce9d82602f1be7933f": {
      "model_module": "@jupyter-widgets/base",
      "model_module_version": "1.1.0",
      "model_name": "LayoutModel",
      "state": {}
     },
     "37bb7da8ba384af4a6b7a755feb4ba96": {
      "model_module": "@jupyter-widgets/base",
      "model_module_version": "1.1.0",
      "model_name": "LayoutModel",
      "state": {}
     },
     "37f1c84b7f9a4da8962d548328bf27da": {
      "model_module": "@jupyter-widgets/controls",
      "model_module_version": "1.4.0",
      "model_name": "IntProgressModel",
      "state": {
       "layout": "IPY_MODEL_aff6eee4ea5e4be68726ac3288122d85",
       "max": 17,
       "style": "IPY_MODEL_19bacf004904458185f445f3c5e4e326",
       "value": 17
      }
     },
     "380631d5f5b341ef9bd5a6d5e73eeb5f": {
      "model_module": "@jupyter-widgets/controls",
      "model_module_version": "1.4.0",
      "model_name": "IntProgressModel",
      "state": {
       "layout": "IPY_MODEL_abb4776804294adb8c92dbef12f2bbec",
       "max": 78,
       "style": "IPY_MODEL_76baddf8229d46678d7e81ed0d5264c7",
       "value": 64
      }
     },
     "381850ce57934b558f61bd5ed8172dc8": {
      "model_module": "@jupyter-widgets/base",
      "model_module_version": "1.1.0",
      "model_name": "LayoutModel",
      "state": {}
     },
     "381c5904ab1a4e829ff746bb3e2585cd": {
      "model_module": "@jupyter-widgets/controls",
      "model_module_version": "1.4.0",
      "model_name": "ProgressStyleModel",
      "state": {
       "description_width": ""
      }
     },
     "382d3859335f406f9b16f51b6f7ef369": {
      "model_module": "@jupyter-widgets/controls",
      "model_module_version": "1.4.0",
      "model_name": "HTMLModel",
      "state": {
       "layout": "IPY_MODEL_a7eb2d16b4854ba9995fce9aa868421d",
       "style": "IPY_MODEL_61cb88f9fcbf46219faaa27f510f9239",
       "value": " 85% 66/78 [00:00&lt;00:00, 174.80it/s]"
      }
     },
     "3837bf68ee3f48d5a1d424ae807d3690": {
      "model_module": "@jupyter-widgets/controls",
      "model_module_version": "1.4.0",
      "model_name": "DescriptionStyleModel",
      "state": {
       "description_width": ""
      }
     },
     "38542e0a16cb41f399fed64df71b3424": {
      "model_module": "@jupyter-widgets/base",
      "model_module_version": "1.1.0",
      "model_name": "LayoutModel",
      "state": {}
     },
     "386a293675834e53bac3085ad1d3f1cc": {
      "model_module": "@jupyter-widgets/base",
      "model_module_version": "1.1.0",
      "model_name": "LayoutModel",
      "state": {}
     },
     "386a6e0e897e4dce97fa2f5a0a0f909e": {
      "model_module": "@jupyter-widgets/base",
      "model_module_version": "1.1.0",
      "model_name": "LayoutModel",
      "state": {}
     },
     "3878667bf87f4a5a817756e3beb8f18c": {
      "model_module": "@jupyter-widgets/base",
      "model_module_version": "1.1.0",
      "model_name": "LayoutModel",
      "state": {}
     },
     "38901dab68ee44e59abf105eb8dd0f27": {
      "model_module": "@jupyter-widgets/controls",
      "model_module_version": "1.4.0",
      "model_name": "IntProgressModel",
      "state": {
       "layout": "IPY_MODEL_334f7a6b18e94aafb18be080bfaae5a5",
       "max": 78,
       "style": "IPY_MODEL_21393669129841fa86b684e6962870cd",
       "value": 29
      }
     },
     "38b4ae2bc73a4cb5825fb731cae9d6cd": {
      "model_module": "@jupyter-widgets/base",
      "model_module_version": "1.1.0",
      "model_name": "LayoutModel",
      "state": {}
     },
     "38bb1c4df206493c99e13c2f0285b291": {
      "model_module": "@jupyter-widgets/base",
      "model_module_version": "1.1.0",
      "model_name": "LayoutModel",
      "state": {}
     },
     "38c186270f574685adee24d501493c7f": {
      "model_module": "@jupyter-widgets/controls",
      "model_module_version": "1.4.0",
      "model_name": "ProgressStyleModel",
      "state": {
       "description_width": ""
      }
     },
     "38c46c0fbac9469d9a722df0c412847c": {
      "model_module": "@jupyter-widgets/controls",
      "model_module_version": "1.4.0",
      "model_name": "DescriptionStyleModel",
      "state": {
       "description_width": ""
      }
     },
     "38c5f0f1fa0b4010b23414e670158861": {
      "model_module": "@jupyter-widgets/base",
      "model_module_version": "1.1.0",
      "model_name": "LayoutModel",
      "state": {}
     },
     "38f56df98dac457ba153fbf133a4ec33": {
      "model_module": "@jupyter-widgets/controls",
      "model_module_version": "1.4.0",
      "model_name": "IntProgressModel",
      "state": {
       "layout": "IPY_MODEL_afc03df5c1984921834656e543782a6d",
       "max": 17,
       "style": "IPY_MODEL_ef8ee5289b204c8f9e110cfc6637c692",
       "value": 17
      }
     },
     "38fd0624ab0e4116b608b93c26e8fc54": {
      "model_module": "@jupyter-widgets/controls",
      "model_module_version": "1.4.0",
      "model_name": "HTMLModel",
      "state": {
       "layout": "IPY_MODEL_c1669bb896d24f85ac2f63a3079e1a9e",
       "style": "IPY_MODEL_710dc77320384763acb51ba6c4736878",
       "value": "100% 17/17 [00:08&lt;00:00,  2.02it/s]"
      }
     },
     "3937359a5ee34e3cb7d80cfbfb48b06e": {
      "model_module": "@jupyter-widgets/controls",
      "model_module_version": "1.4.0",
      "model_name": "IntProgressModel",
      "state": {
       "layout": "IPY_MODEL_a969a3f2d32d4bb0a7e1adfc55f5f880",
       "max": 78,
       "style": "IPY_MODEL_62d0c2f4e0a14421a0219e37dfa18d84"
      }
     },
     "394445394e6142bdbee04541a3599d71": {
      "model_module": "@jupyter-widgets/base",
      "model_module_version": "1.1.0",
      "model_name": "LayoutModel",
      "state": {}
     },
     "3991c32d4ae04035bc95e55ed9f975ba": {
      "model_module": "@jupyter-widgets/base",
      "model_module_version": "1.1.0",
      "model_name": "LayoutModel",
      "state": {}
     },
     "399c5828f89644029f0e42e7385c2753": {
      "model_module": "@jupyter-widgets/controls",
      "model_module_version": "1.4.0",
      "model_name": "ProgressStyleModel",
      "state": {
       "description_width": ""
      }
     },
     "39d46165d983424faf3ed92a75e16868": {
      "model_module": "@jupyter-widgets/base",
      "model_module_version": "1.1.0",
      "model_name": "LayoutModel",
      "state": {}
     },
     "39f120902f9144e7b5d3fcf838883294": {
      "model_module": "@jupyter-widgets/controls",
      "model_module_version": "1.4.0",
      "model_name": "DescriptionStyleModel",
      "state": {
       "description_width": ""
      }
     },
     "39f4a834448a4a899d9dc35f5eab68a4": {
      "model_module": "@jupyter-widgets/controls",
      "model_module_version": "1.4.0",
      "model_name": "HTMLModel",
      "state": {
       "layout": "IPY_MODEL_d8684460e98d4c9dbfe9fae0dfd07ebb",
       "style": "IPY_MODEL_52251e8203a84f3ebe476962b0ce7ee8",
       "value": "100% 17/17 [00:04&lt;00:00,  3.65it/s]"
      }
     },
     "3a335e0c30a14922b1626231c91e5f03": {
      "model_module": "@jupyter-widgets/controls",
      "model_module_version": "1.4.0",
      "model_name": "ProgressStyleModel",
      "state": {
       "description_width": ""
      }
     },
     "3a385b730da044498d9d07dc43d602a8": {
      "model_module": "@jupyter-widgets/controls",
      "model_module_version": "1.4.0",
      "model_name": "HTMLModel",
      "state": {
       "layout": "IPY_MODEL_0efc93e871664f37a7ea2d03bcb05af8",
       "style": "IPY_MODEL_ffb2660d2fee49509e44eb561d70ac37",
       "value": "100% 17/17 [00:06&lt;00:00,  2.73it/s]"
      }
     },
     "3a4214a3eb8d4d199ff9a18fbe717ef7": {
      "model_module": "@jupyter-widgets/controls",
      "model_module_version": "1.4.0",
      "model_name": "IntProgressModel",
      "state": {
       "layout": "IPY_MODEL_12a74321875045158cd3fdd378e9275e",
       "max": 78,
       "style": "IPY_MODEL_f0d15914eaa04aeaa1b941fb39d28973"
      }
     },
     "3a4385f6c762405fb89c648d2a45b6bc": {
      "model_module": "@jupyter-widgets/controls",
      "model_module_version": "1.4.0",
      "model_name": "IntProgressModel",
      "state": {
       "layout": "IPY_MODEL_0f0aadc3da154498920ae7f985173abe",
       "max": 17,
       "style": "IPY_MODEL_cc5c3484fcae48ee8576a4d08033f592",
       "value": 17
      }
     },
     "3a5167adffbb411e89918e44b3f80199": {
      "model_module": "@jupyter-widgets/controls",
      "model_module_version": "1.4.0",
      "model_name": "HTMLModel",
      "state": {
       "layout": "IPY_MODEL_8e5a131c74b2476bbaf37c38d109d1f2",
       "style": "IPY_MODEL_148f270aa8fc4ef5a93f7da6942924ac",
       "value": " 62% 48/78 [00:00&lt;00:00, 152.26it/s]"
      }
     },
     "3a6336aaf7564602b88140d98722857e": {
      "model_module": "@jupyter-widgets/controls",
      "model_module_version": "1.4.0",
      "model_name": "HTMLModel",
      "state": {
       "layout": "IPY_MODEL_1012faa40caa4ea18a8a8e6960aae2a8",
       "style": "IPY_MODEL_9507fd193427466999541299c02a5f13",
       "value": "100% 17/17 [00:05&lt;00:00,  2.88it/s]"
      }
     },
     "3a891d93361642c2a1892ffe14a38d5b": {
      "model_module": "@jupyter-widgets/controls",
      "model_module_version": "1.4.0",
      "model_name": "HBoxModel",
      "state": {
       "children": [
        "IPY_MODEL_5e596daf81e44645b48884fcc51c7207",
        "IPY_MODEL_601aafbc96e84008be144ee88b83d4a1"
       ],
       "layout": "IPY_MODEL_3126455bae2f495cbd3af177dce6a1ee"
      }
     },
     "3a8a04d6cac142d1bc445e7077999a2e": {
      "model_module": "@jupyter-widgets/controls",
      "model_module_version": "1.4.0",
      "model_name": "IntProgressModel",
      "state": {
       "layout": "IPY_MODEL_044335560d8f456784cae6d00131e9f0",
       "max": 78,
       "style": "IPY_MODEL_e429962991544045b2d33c6ede5f8c36",
       "value": 34
      }
     },
     "3ab5d09e7fab42d9a2461705a1f2603d": {
      "model_module": "@jupyter-widgets/controls",
      "model_module_version": "1.4.0",
      "model_name": "DescriptionStyleModel",
      "state": {
       "description_width": ""
      }
     },
     "3ab8a5d9cf994f00b93d46ed3a369473": {
      "model_module": "@jupyter-widgets/base",
      "model_module_version": "1.1.0",
      "model_name": "LayoutModel",
      "state": {}
     },
     "3ac742ef200942b5a1b16cb4271bfc2d": {
      "model_module": "@jupyter-widgets/controls",
      "model_module_version": "1.4.0",
      "model_name": "DescriptionStyleModel",
      "state": {
       "description_width": ""
      }
     },
     "3ae184926efc4550be2d7edb2fe0b518": {
      "model_module": "@jupyter-widgets/base",
      "model_module_version": "1.1.0",
      "model_name": "LayoutModel",
      "state": {}
     },
     "3afdf7e6c1354ab585ea1917026eedb1": {
      "model_module": "@jupyter-widgets/controls",
      "model_module_version": "1.4.0",
      "model_name": "HTMLModel",
      "state": {
       "layout": "IPY_MODEL_49187d5623d84d0d97a66ba5a4bcc855",
       "style": "IPY_MODEL_f19d886b53f64ca3a5241762e3a79f9f",
       "value": "100% 17/17 [00:05&lt;00:00,  3.07it/s]"
      }
     },
     "3b0011c263e340d487c74ff96ec97c56": {
      "model_module": "@jupyter-widgets/base",
      "model_module_version": "1.1.0",
      "model_name": "LayoutModel",
      "state": {}
     },
     "3b04a1a9a5ad4deb8d35f5164a5d37c5": {
      "model_module": "@jupyter-widgets/controls",
      "model_module_version": "1.4.0",
      "model_name": "DescriptionStyleModel",
      "state": {
       "description_width": ""
      }
     },
     "3b27476625af4494b758a61bc90afaf6": {
      "model_module": "@jupyter-widgets/controls",
      "model_module_version": "1.4.0",
      "model_name": "HTMLModel",
      "state": {
       "layout": "IPY_MODEL_4673ece870cd4a7388ca50a4a530ea3d",
       "style": "IPY_MODEL_8a62c2e2497a412f91c7ac644736e93c",
       "value": "100% 17/17 [00:08&lt;00:00,  2.04it/s]"
      }
     },
     "3b4236a87f174e66a31873fbbf3103b0": {
      "model_module": "@jupyter-widgets/base",
      "model_module_version": "1.1.0",
      "model_name": "LayoutModel",
      "state": {}
     },
     "3b58c85cb6c94045966f41f5628f6207": {
      "model_module": "@jupyter-widgets/base",
      "model_module_version": "1.1.0",
      "model_name": "LayoutModel",
      "state": {}
     },
     "3b76013853eb4e0e8be0981e0ff5bef0": {
      "model_module": "@jupyter-widgets/controls",
      "model_module_version": "1.4.0",
      "model_name": "IntProgressModel",
      "state": {
       "layout": "IPY_MODEL_710f1dbbea654ab8b8a8980bb805c7ac",
       "max": 17,
       "style": "IPY_MODEL_916cf5887045402a90c3ffa6b32a0f58",
       "value": 17
      }
     },
     "3b822839f77b4f44854f5ed07aa027db": {
      "model_module": "@jupyter-widgets/controls",
      "model_module_version": "1.4.0",
      "model_name": "DescriptionStyleModel",
      "state": {
       "description_width": ""
      }
     },
     "3b8ee095f8494695925749ef79a87273": {
      "model_module": "@jupyter-widgets/controls",
      "model_module_version": "1.4.0",
      "model_name": "DescriptionStyleModel",
      "state": {
       "description_width": ""
      }
     },
     "3b935954f726456da6cc316ea810f146": {
      "model_module": "@jupyter-widgets/base",
      "model_module_version": "1.1.0",
      "model_name": "LayoutModel",
      "state": {}
     },
     "3bacf1ee12bd4b099135fdc071deb91c": {
      "model_module": "@jupyter-widgets/controls",
      "model_module_version": "1.4.0",
      "model_name": "HTMLModel",
      "state": {
       "layout": "IPY_MODEL_8fc8b071cc48413a8c70ca6e8f5badc6",
       "style": "IPY_MODEL_ccfc0d50f2404ee8bc1bc01dd10cbcdb",
       "value": " 23% 18/78 [00:00&lt;00:00, 178.31it/s]"
      }
     },
     "3bb15eceb5bd45b081a60c219fd16fee": {
      "model_module": "@jupyter-widgets/base",
      "model_module_version": "1.1.0",
      "model_name": "LayoutModel",
      "state": {}
     },
     "3bf8554f27794c3ea94cf9fa9a6a3666": {
      "model_module": "@jupyter-widgets/controls",
      "model_module_version": "1.4.0",
      "model_name": "ProgressStyleModel",
      "state": {
       "description_width": ""
      }
     },
     "3bfe7daf73434a7fa9d4fa7ea9ad97cd": {
      "model_module": "@jupyter-widgets/controls",
      "model_module_version": "1.4.0",
      "model_name": "HTMLModel",
      "state": {
       "layout": "IPY_MODEL_e82a2c9971644b499036e2b30444b2b0",
       "style": "IPY_MODEL_0f30262d723d41eeb47bb27b79968304",
       "value": "100% 17/17 [00:06&lt;00:00,  2.51it/s]"
      }
     },
     "3c08113ad7324ce988f008e24266009d": {
      "model_module": "@jupyter-widgets/controls",
      "model_module_version": "1.4.0",
      "model_name": "DescriptionStyleModel",
      "state": {
       "description_width": ""
      }
     },
     "3c0b4771dd1e40778717d67d13dc7dc0": {
      "model_module": "@jupyter-widgets/controls",
      "model_module_version": "1.4.0",
      "model_name": "IntProgressModel",
      "state": {
       "layout": "IPY_MODEL_cda54ce24d734f52bca353f56375a0b3",
       "max": 78,
       "style": "IPY_MODEL_cf132ce254f74e2ba36ece55604755e5",
       "value": 42
      }
     },
     "3c1a8045353f44759fffee622ca5e900": {
      "model_module": "@jupyter-widgets/base",
      "model_module_version": "1.1.0",
      "model_name": "LayoutModel",
      "state": {}
     },
     "3c7c3d1854114a1eb4adeac73c91edcc": {
      "model_module": "@jupyter-widgets/base",
      "model_module_version": "1.1.0",
      "model_name": "LayoutModel",
      "state": {}
     },
     "3c9702ebc54242479143fcec30c76b67": {
      "model_module": "@jupyter-widgets/controls",
      "model_module_version": "1.4.0",
      "model_name": "DescriptionStyleModel",
      "state": {
       "description_width": ""
      }
     },
     "3c98906248784b7f8e74266ac09096fb": {
      "model_module": "@jupyter-widgets/base",
      "model_module_version": "1.1.0",
      "model_name": "LayoutModel",
      "state": {}
     },
     "3cd69d6175e14630be054f4f0e19f4ee": {
      "model_module": "@jupyter-widgets/controls",
      "model_module_version": "1.4.0",
      "model_name": "HTMLModel",
      "state": {
       "layout": "IPY_MODEL_9d83f58869e945dbb69a8c16f6407c82",
       "style": "IPY_MODEL_5009ceebf372498290935f4625d972b4",
       "value": " 91% 71/78 [00:00&lt;00:00, 351.03it/s]"
      }
     },
     "3cdda760f9f74e1888b129b46beddb23": {
      "model_module": "@jupyter-widgets/controls",
      "model_module_version": "1.4.0",
      "model_name": "DescriptionStyleModel",
      "state": {
       "description_width": ""
      }
     },
     "3ce88b9281094f22842306150d03931f": {
      "model_module": "@jupyter-widgets/controls",
      "model_module_version": "1.4.0",
      "model_name": "ProgressStyleModel",
      "state": {
       "description_width": ""
      }
     },
     "3cf9363c976b412980e427af625978c6": {
      "model_module": "@jupyter-widgets/base",
      "model_module_version": "1.1.0",
      "model_name": "LayoutModel",
      "state": {}
     },
     "3d0c2d7c235c466d93eedea1b4beb589": {
      "model_module": "@jupyter-widgets/base",
      "model_module_version": "1.1.0",
      "model_name": "LayoutModel",
      "state": {}
     },
     "3d0dfb42e4a945cd848cefb8c2e51875": {
      "model_module": "@jupyter-widgets/controls",
      "model_module_version": "1.4.0",
      "model_name": "IntProgressModel",
      "state": {
       "layout": "IPY_MODEL_b1a01d0f92ed4150927b29508ba2ff20",
       "max": 78,
       "style": "IPY_MODEL_6c0e46648f664c83a52743c62f925e7a",
       "value": 70
      }
     },
     "3d0e37bd595c4f7897156837f2dfb2b1": {
      "model_module": "@jupyter-widgets/base",
      "model_module_version": "1.1.0",
      "model_name": "LayoutModel",
      "state": {}
     },
     "3d26b1dd35104c21ba14eaed12ba9aee": {
      "model_module": "@jupyter-widgets/controls",
      "model_module_version": "1.4.0",
      "model_name": "HTMLModel",
      "state": {
       "layout": "IPY_MODEL_9cf80367e5b14b288d57451c5f134693",
       "style": "IPY_MODEL_e48b632a24424e9aa5c7d7eef451abd1",
       "value": "100% 17/17 [00:07&lt;00:00,  2.30it/s]"
      }
     },
     "3d412db0a00f4dbc8f9f2def2e7d7129": {
      "model_module": "@jupyter-widgets/controls",
      "model_module_version": "1.4.0",
      "model_name": "ProgressStyleModel",
      "state": {
       "description_width": ""
      }
     },
     "3d5494afb00a435f94d434f027ef2004": {
      "model_module": "@jupyter-widgets/controls",
      "model_module_version": "1.4.0",
      "model_name": "ProgressStyleModel",
      "state": {
       "description_width": ""
      }
     },
     "3da05eb2ede44f5ab85ee201425737f1": {
      "model_module": "@jupyter-widgets/controls",
      "model_module_version": "1.4.0",
      "model_name": "IntProgressModel",
      "state": {
       "layout": "IPY_MODEL_80dbf82b3d344df5bb406cbb8601a221",
       "max": 17,
       "style": "IPY_MODEL_63b57189a3aa423cab2b5e38318a8650",
       "value": 17
      }
     },
     "3dcf415cdb2c46c5ad7692acfa8a4d5f": {
      "model_module": "@jupyter-widgets/base",
      "model_module_version": "1.1.0",
      "model_name": "LayoutModel",
      "state": {}
     },
     "3dfadbe5feb94b42b89875cc0a2d177f": {
      "model_module": "@jupyter-widgets/controls",
      "model_module_version": "1.4.0",
      "model_name": "IntProgressModel",
      "state": {
       "layout": "IPY_MODEL_b90e7c4e39104d689dd89353c93ff19c",
       "max": 17,
       "style": "IPY_MODEL_7b44e5649e46479292ea87f4a39e5ac6",
       "value": 17
      }
     },
     "3e5ef60dbdc04f2bb87d6a7a3fde1b11": {
      "model_module": "@jupyter-widgets/controls",
      "model_module_version": "1.4.0",
      "model_name": "DescriptionStyleModel",
      "state": {
       "description_width": ""
      }
     },
     "3e635f5280a047778f0cc5157310f3e1": {
      "model_module": "@jupyter-widgets/controls",
      "model_module_version": "1.4.0",
      "model_name": "HTMLModel",
      "state": {
       "layout": "IPY_MODEL_4a7727ad5a194ec5ab284c87ed28feec",
       "style": "IPY_MODEL_4d9f631570ca4532ae17c61d1eaaae73",
       "value": " 10% 8/78 [00:00&lt;00:00, 79.03it/s]"
      }
     },
     "3ea0e86fd8fd4ba19e3b339ccc07ed36": {
      "model_module": "@jupyter-widgets/controls",
      "model_module_version": "1.4.0",
      "model_name": "ProgressStyleModel",
      "state": {
       "description_width": ""
      }
     },
     "3eb7de71d4d24fadab8f75fc1d7bd8fd": {
      "model_module": "@jupyter-widgets/base",
      "model_module_version": "1.1.0",
      "model_name": "LayoutModel",
      "state": {}
     },
     "3ec10efaa6564a93842a6ade46fca19b": {
      "model_module": "@jupyter-widgets/base",
      "model_module_version": "1.1.0",
      "model_name": "LayoutModel",
      "state": {}
     },
     "3f01e872eca14cfdb7b95a0ce43cae66": {
      "model_module": "@jupyter-widgets/controls",
      "model_module_version": "1.4.0",
      "model_name": "IntProgressModel",
      "state": {
       "layout": "IPY_MODEL_8a80270d62af41a6bfb8c1a5791c2772",
       "max": 78,
       "style": "IPY_MODEL_dca05d36a6b14d7288d3490356f9833f",
       "value": 70
      }
     },
     "3f0c14fa69a048e58903ae017911075e": {
      "model_module": "@jupyter-widgets/controls",
      "model_module_version": "1.4.0",
      "model_name": "HTMLModel",
      "state": {
       "layout": "IPY_MODEL_5b9ba9dc708049448d039aaaf8c78797",
       "style": "IPY_MODEL_230c3be91de3444a80b97512e60bd9f9",
       "value": " 41% 32/78 [00:00&lt;00:00, 319.89it/s]"
      }
     },
     "3f221668bb684d509b91e0f3078c971c": {
      "model_module": "@jupyter-widgets/base",
      "model_module_version": "1.1.0",
      "model_name": "LayoutModel",
      "state": {}
     },
     "3f2b9c991df74f569d6ffc10c7e94f00": {
      "model_module": "@jupyter-widgets/controls",
      "model_module_version": "1.4.0",
      "model_name": "ProgressStyleModel",
      "state": {
       "description_width": ""
      }
     },
     "3f3a453dd9914017a05aa72aaf873ea5": {
      "model_module": "@jupyter-widgets/base",
      "model_module_version": "1.1.0",
      "model_name": "LayoutModel",
      "state": {}
     },
     "3f3bdd7b28fd4ccea46dfe92bfdf1131": {
      "model_module": "@jupyter-widgets/controls",
      "model_module_version": "1.4.0",
      "model_name": "ProgressStyleModel",
      "state": {
       "description_width": ""
      }
     },
     "3f4e0c70c1004ef297d9266c76c2141f": {
      "model_module": "@jupyter-widgets/base",
      "model_module_version": "1.1.0",
      "model_name": "LayoutModel",
      "state": {}
     },
     "3f4f25cbd1d5441cb17809fb0f2c215d": {
      "model_module": "@jupyter-widgets/controls",
      "model_module_version": "1.4.0",
      "model_name": "ProgressStyleModel",
      "state": {
       "description_width": ""
      }
     },
     "3f77ba9c65524b498208b2022668cb67": {
      "model_module": "@jupyter-widgets/controls",
      "model_module_version": "1.4.0",
      "model_name": "HTMLModel",
      "state": {
       "layout": "IPY_MODEL_4c8394e74633453aa8476af4e72dfcd5",
       "style": "IPY_MODEL_9271bbea7e6e478d9ab02664a18abbc6",
       "value": "100% 17/17 [00:04&lt;00:00,  3.74it/s]"
      }
     },
     "3f84a34c304c4911bcd439a82e751fb1": {
      "model_module": "@jupyter-widgets/controls",
      "model_module_version": "1.4.0",
      "model_name": "IntProgressModel",
      "state": {
       "layout": "IPY_MODEL_632f35ef9b684230bbe53b91fd924c3d",
       "max": 78,
       "style": "IPY_MODEL_4cd1d76faf84498e9c105789738e14ba",
       "value": 15
      }
     },
     "3f9f194020384f2e990a1a0f9dc35fdd": {
      "model_module": "@jupyter-widgets/controls",
      "model_module_version": "1.4.0",
      "model_name": "ProgressStyleModel",
      "state": {
       "description_width": ""
      }
     },
     "3fa34a76ab914e43a69af98b18876b67": {
      "model_module": "@jupyter-widgets/controls",
      "model_module_version": "1.4.0",
      "model_name": "IntProgressModel",
      "state": {
       "layout": "IPY_MODEL_8a00371f49084d5c9053b7b0226de555",
       "max": 78,
       "style": "IPY_MODEL_e123aaf630ca4c2da51476b27efd0a0c",
       "value": 18
      }
     },
     "3fd1420356144471a580eaeae84e36df": {
      "model_module": "@jupyter-widgets/controls",
      "model_module_version": "1.4.0",
      "model_name": "IntProgressModel",
      "state": {
       "layout": "IPY_MODEL_a1845f5b0c184a269fe8da7f980ab940",
       "max": 17,
       "style": "IPY_MODEL_31494cbdf64b48f9bf0495ce8fd95d92",
       "value": 17
      }
     },
     "3fff53dbe96140309fcdf3a8c8170bcc": {
      "model_module": "@jupyter-widgets/controls",
      "model_module_version": "1.4.0",
      "model_name": "ProgressStyleModel",
      "state": {
       "description_width": ""
      }
     },
     "4028afc2e57b4b639cc82517b3e78b44": {
      "model_module": "@jupyter-widgets/base",
      "model_module_version": "1.1.0",
      "model_name": "LayoutModel",
      "state": {}
     },
     "4054d661d650486c92e22ad556ebe239": {
      "model_module": "@jupyter-widgets/controls",
      "model_module_version": "1.4.0",
      "model_name": "HTMLModel",
      "state": {
       "layout": "IPY_MODEL_dfb48d86f20048138a221b4fe3a4686a",
       "style": "IPY_MODEL_2e5a08829820475887448f46974e8ab3",
       "value": " 26% 20/78 [00:00&lt;00:00, 198.09it/s]"
      }
     },
     "40716a25518746bd91ca96f7b000ae9b": {
      "model_module": "@jupyter-widgets/controls",
      "model_module_version": "1.4.0",
      "model_name": "ProgressStyleModel",
      "state": {
       "description_width": ""
      }
     },
     "40a140a338554c45a382834114230312": {
      "model_module": "@jupyter-widgets/controls",
      "model_module_version": "1.4.0",
      "model_name": "HTMLModel",
      "state": {
       "layout": "IPY_MODEL_885d328a0842409aabb4dc490b33597d",
       "style": "IPY_MODEL_45a51cfdd4f6448fa5012f06b976dc00",
       "value": "100% 17/17 [00:06&lt;00:00,  2.59it/s]"
      }
     },
     "40f00201278141e09124f84a86e0c7f7": {
      "model_module": "@jupyter-widgets/controls",
      "model_module_version": "1.4.0",
      "model_name": "HTMLModel",
      "state": {
       "layout": "IPY_MODEL_a0981c035e9d47629618c14079e4b54e",
       "style": "IPY_MODEL_6532944dc38f4c30b91d7ada224e80d3",
       "value": "100% 17/17 [00:05&lt;00:00,  2.96it/s]"
      }
     },
     "40f9f3f3090f4ec994dadd8e4efee4aa": {
      "model_module": "@jupyter-widgets/base",
      "model_module_version": "1.1.0",
      "model_name": "LayoutModel",
      "state": {}
     },
     "40fb3aaa6ee14b509c04eef19305cfb0": {
      "model_module": "@jupyter-widgets/base",
      "model_module_version": "1.1.0",
      "model_name": "LayoutModel",
      "state": {}
     },
     "4129b15bd6dc4b4b8cc86f5ba6cce05e": {
      "model_module": "@jupyter-widgets/controls",
      "model_module_version": "1.4.0",
      "model_name": "IntProgressModel",
      "state": {
       "layout": "IPY_MODEL_ff8e8bc8250b4f2a82a3fcc45de19d18",
       "max": 17,
       "style": "IPY_MODEL_381c5904ab1a4e829ff746bb3e2585cd",
       "value": 17
      }
     },
     "41337513d899457884618cb31c3a7c94": {
      "model_module": "@jupyter-widgets/controls",
      "model_module_version": "1.4.0",
      "model_name": "HTMLModel",
      "state": {
       "layout": "IPY_MODEL_9aa4d1dce9314d6c8d22a786be9926a2",
       "style": "IPY_MODEL_4b0f580821634d9590945476a27ea05a",
       "value": "100% 17/17 [00:06&lt;00:00,  2.82it/s]"
      }
     },
     "41366434a1004f5faedb228f4d44f0bb": {
      "model_module": "@jupyter-widgets/controls",
      "model_module_version": "1.4.0",
      "model_name": "ProgressStyleModel",
      "state": {
       "description_width": ""
      }
     },
     "4165348516344b5caab16fd57a74fd94": {
      "model_module": "@jupyter-widgets/controls",
      "model_module_version": "1.4.0",
      "model_name": "DescriptionStyleModel",
      "state": {
       "description_width": ""
      }
     },
     "41991eca712d4e0ba885efd652b02387": {
      "model_module": "@jupyter-widgets/controls",
      "model_module_version": "1.4.0",
      "model_name": "HTMLModel",
      "state": {
       "layout": "IPY_MODEL_9fa747e1d828407ba502768cf0559b59",
       "style": "IPY_MODEL_4a44a1255f99455ab5edeeba8652454b",
       "value": " 40% 31/78 [00:00&lt;00:00, 307.78it/s]"
      }
     },
     "41ada44adae64c2ba06d1bc6c42b89c2": {
      "model_module": "@jupyter-widgets/controls",
      "model_module_version": "1.4.0",
      "model_name": "ProgressStyleModel",
      "state": {
       "description_width": ""
      }
     },
     "41b40366229a4fe1a5c7edfba950f3e8": {
      "model_module": "@jupyter-widgets/controls",
      "model_module_version": "1.4.0",
      "model_name": "HTMLModel",
      "state": {
       "layout": "IPY_MODEL_2233f3462ef2430f81bee5d07d279b34",
       "style": "IPY_MODEL_061bba6c78b946c984bcd221815e96d7",
       "value": "100% 17/17 [00:04&lt;00:00,  3.72it/s]"
      }
     },
     "41b5a48b9fa84ca783ba4d30a33a0c18": {
      "model_module": "@jupyter-widgets/controls",
      "model_module_version": "1.4.0",
      "model_name": "DescriptionStyleModel",
      "state": {
       "description_width": ""
      }
     },
     "41dd5472fb894e9784a487868d9babe0": {
      "model_module": "@jupyter-widgets/controls",
      "model_module_version": "1.4.0",
      "model_name": "HTMLModel",
      "state": {
       "layout": "IPY_MODEL_29b639b2cd2d400e9491aa02ddae63a6",
       "style": "IPY_MODEL_4c914680f22a4e0ea3ea01530e6b12b3",
       "value": " 78% 61/78 [00:00&lt;00:00, 299.66it/s]"
      }
     },
     "41e7222753484f518047848f1b4d94ba": {
      "model_module": "@jupyter-widgets/controls",
      "model_module_version": "1.4.0",
      "model_name": "HTMLModel",
      "state": {
       "layout": "IPY_MODEL_24d1e386bf7a47398e23009552e4040d",
       "style": "IPY_MODEL_8d0c310c64044cc98628bed7520081fb",
       "value": "100% 17/17 [00:05&lt;00:00,  2.95it/s]"
      }
     },
     "420e05c833d04f1dadd67f62c7ee3877": {
      "model_module": "@jupyter-widgets/controls",
      "model_module_version": "1.4.0",
      "model_name": "HTMLModel",
      "state": {
       "layout": "IPY_MODEL_bdec2a85138a4935a4cbc0b00b467de0",
       "style": "IPY_MODEL_cc5365f8444943d0ae7c43b00d4f77df",
       "value": " 95% 74/78 [00:00&lt;00:00, 233.04it/s]"
      }
     },
     "423a3e36e03d4441a3ddd49345e4d1af": {
      "model_module": "@jupyter-widgets/controls",
      "model_module_version": "1.4.0",
      "model_name": "IntProgressModel",
      "state": {
       "layout": "IPY_MODEL_cc0953eb93314ff18fd9da1797adc1c5",
       "max": 78,
       "style": "IPY_MODEL_14390856641f48d29c9b2ed3c51a9e83",
       "value": 8
      }
     },
     "423b63e8cdd744f49f5696894d8c199a": {
      "model_module": "@jupyter-widgets/controls",
      "model_module_version": "1.4.0",
      "model_name": "IntProgressModel",
      "state": {
       "layout": "IPY_MODEL_708f3ae27e4949238b8970392654c4e0",
       "max": 17,
       "style": "IPY_MODEL_869a6249fced41fc89b92b687dfe13d1",
       "value": 17
      }
     },
     "423df98c742c4055b8e837d0af7c0d4b": {
      "model_module": "@jupyter-widgets/controls",
      "model_module_version": "1.4.0",
      "model_name": "IntProgressModel",
      "state": {
       "layout": "IPY_MODEL_1e235be9963b4de8adf6d5d65b60267a",
       "max": 78,
       "style": "IPY_MODEL_1d7e4bd32d0347e2a5c314ddec93fd61",
       "value": 65
      }
     },
     "424d9bc1721541289fcf86d7c8d9514a": {
      "model_module": "@jupyter-widgets/controls",
      "model_module_version": "1.4.0",
      "model_name": "IntProgressModel",
      "state": {
       "layout": "IPY_MODEL_feec1169c81248ab9df2b17f7690bd70",
       "max": 17,
       "style": "IPY_MODEL_53d5f1cd5592433d9dba1175f785e6cc",
       "value": 17
      }
     },
     "4255528370214df99f6d933d5a4e24e9": {
      "model_module": "@jupyter-widgets/base",
      "model_module_version": "1.1.0",
      "model_name": "LayoutModel",
      "state": {}
     },
     "428ccb937a384a8b99f3c4a55153eea9": {
      "model_module": "@jupyter-widgets/controls",
      "model_module_version": "1.4.0",
      "model_name": "DescriptionStyleModel",
      "state": {
       "description_width": ""
      }
     },
     "42a766d5a7984113bcdbc020efbc3310": {
      "model_module": "@jupyter-widgets/controls",
      "model_module_version": "1.4.0",
      "model_name": "DescriptionStyleModel",
      "state": {
       "description_width": ""
      }
     },
     "42ab0cbb88b546418c618a32dfc5aa52": {
      "model_module": "@jupyter-widgets/base",
      "model_module_version": "1.1.0",
      "model_name": "LayoutModel",
      "state": {}
     },
     "42c3a91ae427458da4a8c1d9cc0a8054": {
      "model_module": "@jupyter-widgets/controls",
      "model_module_version": "1.4.0",
      "model_name": "ProgressStyleModel",
      "state": {
       "description_width": ""
      }
     },
     "42cc5ddef65741609f959bc022b430a8": {
      "model_module": "@jupyter-widgets/controls",
      "model_module_version": "1.4.0",
      "model_name": "IntProgressModel",
      "state": {
       "layout": "IPY_MODEL_d601b6ee61e14a3fa29c44dec7bd71b2",
       "max": 17,
       "style": "IPY_MODEL_e98ed7afa4824339af031471c59a750d",
       "value": 17
      }
     },
     "42e5ab38be454f098c7fefb45d63e790": {
      "model_module": "@jupyter-widgets/controls",
      "model_module_version": "1.4.0",
      "model_name": "HTMLModel",
      "state": {
       "layout": "IPY_MODEL_b45ecf669b764e03a56941aa277fda59",
       "style": "IPY_MODEL_2c268683dab946efb3dede086204d648",
       "value": "100% 17/17 [00:04&lt;00:00,  3.65it/s]"
      }
     },
     "4374013bf15c44d6a7e3bcb162870bc7": {
      "model_module": "@jupyter-widgets/base",
      "model_module_version": "1.1.0",
      "model_name": "LayoutModel",
      "state": {}
     },
     "43756a5388d5461687695d8b90946c9c": {
      "model_module": "@jupyter-widgets/controls",
      "model_module_version": "1.4.0",
      "model_name": "HTMLModel",
      "state": {
       "layout": "IPY_MODEL_488a9ff05eca48328ebd93f661627dd6",
       "style": "IPY_MODEL_75e0435c09c74efdaa25630aba0448e0",
       "value": " 83% 65/78 [00:00&lt;00:00, 645.51it/s]"
      }
     },
     "43759f9f29cc426fb876741baba17626": {
      "model_module": "@jupyter-widgets/controls",
      "model_module_version": "1.4.0",
      "model_name": "DescriptionStyleModel",
      "state": {
       "description_width": ""
      }
     },
     "43a6ed10bff44359ac502ec26809b302": {
      "model_module": "@jupyter-widgets/controls",
      "model_module_version": "1.4.0",
      "model_name": "HTMLModel",
      "state": {
       "layout": "IPY_MODEL_270d19e85d044a13b3e9cc72255ab08d",
       "style": "IPY_MODEL_a2d9bd7c2c2a4716b25f53b2b85d9cb8",
       "value": " 64% 50/78 [00:00&lt;00:00, 490.51it/s]"
      }
     },
     "43a726ee1dd3490dae3ae7afbf604293": {
      "model_module": "@jupyter-widgets/controls",
      "model_module_version": "1.4.0",
      "model_name": "HTMLModel",
      "state": {
       "layout": "IPY_MODEL_42ab0cbb88b546418c618a32dfc5aa52",
       "style": "IPY_MODEL_7b33f78872ae44c5bc4969791b92a30f",
       "value": " 85% 66/78 [00:00&lt;00:00, 208.19it/s]"
      }
     },
     "43afe1b1ae934764826fd8fe3ca9ce6f": {
      "model_module": "@jupyter-widgets/controls",
      "model_module_version": "1.4.0",
      "model_name": "ProgressStyleModel",
      "state": {
       "description_width": ""
      }
     },
     "43c715a89eb4445ab64af363ef4346a7": {
      "model_module": "@jupyter-widgets/base",
      "model_module_version": "1.1.0",
      "model_name": "LayoutModel",
      "state": {}
     },
     "4405d2bc81e54a7eb5a5005e3264cdaa": {
      "model_module": "@jupyter-widgets/controls",
      "model_module_version": "1.4.0",
      "model_name": "DescriptionStyleModel",
      "state": {
       "description_width": ""
      }
     },
     "442eaf38644b4628b1473b0855a243c9": {
      "model_module": "@jupyter-widgets/controls",
      "model_module_version": "1.4.0",
      "model_name": "DescriptionStyleModel",
      "state": {
       "description_width": ""
      }
     },
     "44535e01564e412e9e4d6f6425e1aebe": {
      "model_module": "@jupyter-widgets/base",
      "model_module_version": "1.1.0",
      "model_name": "LayoutModel",
      "state": {}
     },
     "4457cbc9993343ebbb06c4da8d4dc10c": {
      "model_module": "@jupyter-widgets/controls",
      "model_module_version": "1.4.0",
      "model_name": "DescriptionStyleModel",
      "state": {
       "description_width": ""
      }
     },
     "4465e50ab3b84067a3af52e542c82007": {
      "model_module": "@jupyter-widgets/base",
      "model_module_version": "1.1.0",
      "model_name": "LayoutModel",
      "state": {}
     },
     "44774952fb1e45be8b9704ea2ad1df56": {
      "model_module": "@jupyter-widgets/controls",
      "model_module_version": "1.4.0",
      "model_name": "ProgressStyleModel",
      "state": {
       "description_width": ""
      }
     },
     "44a9cee89b1f4e3f9cf5c93a3bf5e04b": {
      "model_module": "@jupyter-widgets/base",
      "model_module_version": "1.1.0",
      "model_name": "LayoutModel",
      "state": {}
     },
     "44c28c219b374596afc17c784bd56fad": {
      "model_module": "@jupyter-widgets/base",
      "model_module_version": "1.1.0",
      "model_name": "LayoutModel",
      "state": {}
     },
     "44f0a332310a4262b936a82711f54c58": {
      "model_module": "@jupyter-widgets/controls",
      "model_module_version": "1.4.0",
      "model_name": "HTMLModel",
      "state": {
       "layout": "IPY_MODEL_f94fb643eb184637a99166b8676ed2c0",
       "style": "IPY_MODEL_ce807822cbe24c5d93d8b2393f41d3e3",
       "value": " 33% 26/78 [00:00&lt;00:00, 259.36it/s]"
      }
     },
     "44ff2282bc39493f8be250b036d7571c": {
      "model_module": "@jupyter-widgets/base",
      "model_module_version": "1.1.0",
      "model_name": "LayoutModel",
      "state": {}
     },
     "4505b5fb1ec246a8bbde4c4468ffdd41": {
      "model_module": "@jupyter-widgets/base",
      "model_module_version": "1.1.0",
      "model_name": "LayoutModel",
      "state": {}
     },
     "452dbc27e949454e8084fa4b6d2ee403": {
      "model_module": "@jupyter-widgets/base",
      "model_module_version": "1.1.0",
      "model_name": "LayoutModel",
      "state": {}
     },
     "452ec177cb4c4dbfbd8644fc8ad0c76a": {
      "model_module": "@jupyter-widgets/controls",
      "model_module_version": "1.4.0",
      "model_name": "ProgressStyleModel",
      "state": {
       "description_width": ""
      }
     },
     "4534f55622194d2780aa7b0d61c35a26": {
      "model_module": "@jupyter-widgets/controls",
      "model_module_version": "1.4.0",
      "model_name": "DescriptionStyleModel",
      "state": {
       "description_width": ""
      }
     },
     "453adfd7214b47b2b4eff59a74ad858f": {
      "model_module": "@jupyter-widgets/base",
      "model_module_version": "1.1.0",
      "model_name": "LayoutModel",
      "state": {}
     },
     "4542dcaa517b4d50bdb75c2c19687918": {
      "model_module": "@jupyter-widgets/controls",
      "model_module_version": "1.4.0",
      "model_name": "ProgressStyleModel",
      "state": {
       "description_width": ""
      }
     },
     "45547d540abd42db9d1367206f5a4a51": {
      "model_module": "@jupyter-widgets/controls",
      "model_module_version": "1.4.0",
      "model_name": "IntProgressModel",
      "state": {
       "layout": "IPY_MODEL_10829246e5ce4b82a495f9b9dd214e56",
       "max": 78,
       "style": "IPY_MODEL_42c3a91ae427458da4a8c1d9cc0a8054",
       "value": 68
      }
     },
     "4555bdaf47d84156973341d1845fa6d4": {
      "model_module": "@jupyter-widgets/controls",
      "model_module_version": "1.4.0",
      "model_name": "HBoxModel",
      "state": {
       "children": [
        "IPY_MODEL_cb7b14b522e34d3e88f91dd248d90a17",
        "IPY_MODEL_f4732624db264c9fb50daeaa48c80a16"
       ],
       "layout": "IPY_MODEL_9daa1ff2f428487c85ff8fc975f6ca37"
      }
     },
     "4559ee4080054d2d8d0bf04ed5e4e281": {
      "model_module": "@jupyter-widgets/base",
      "model_module_version": "1.1.0",
      "model_name": "LayoutModel",
      "state": {}
     },
     "45813e1f37724322a61001b3519b21a3": {
      "model_module": "@jupyter-widgets/controls",
      "model_module_version": "1.4.0",
      "model_name": "HTMLModel",
      "state": {
       "layout": "IPY_MODEL_94b5a18b628847249dbba76a7b3b0e68",
       "style": "IPY_MODEL_e52176dca4ac48fca17cd7812d794da4",
       "value": "100% 17/17 [00:04&lt;00:00,  3.51it/s]"
      }
     },
     "45a51cfdd4f6448fa5012f06b976dc00": {
      "model_module": "@jupyter-widgets/controls",
      "model_module_version": "1.4.0",
      "model_name": "DescriptionStyleModel",
      "state": {
       "description_width": ""
      }
     },
     "45a8c6b6d2294c499683f3f2c5435116": {
      "model_module": "@jupyter-widgets/base",
      "model_module_version": "1.1.0",
      "model_name": "LayoutModel",
      "state": {}
     },
     "45b2e297e70d452db9eb3814713af45e": {
      "model_module": "@jupyter-widgets/base",
      "model_module_version": "1.1.0",
      "model_name": "LayoutModel",
      "state": {}
     },
     "45b5837c4e094f6185bb231075c6a81b": {
      "model_module": "@jupyter-widgets/controls",
      "model_module_version": "1.4.0",
      "model_name": "ProgressStyleModel",
      "state": {
       "description_width": ""
      }
     },
     "45c1b8b8eff341b7a0f5f46963f8d93b": {
      "model_module": "@jupyter-widgets/base",
      "model_module_version": "1.1.0",
      "model_name": "LayoutModel",
      "state": {}
     },
     "45d00116185d4a5fb03625d05eadacac": {
      "model_module": "@jupyter-widgets/controls",
      "model_module_version": "1.4.0",
      "model_name": "ProgressStyleModel",
      "state": {
       "description_width": ""
      }
     },
     "45e405520d394391833d7a1923addc32": {
      "model_module": "@jupyter-widgets/base",
      "model_module_version": "1.1.0",
      "model_name": "LayoutModel",
      "state": {}
     },
     "45ef02901d1f40f1a1d7b308f231a66c": {
      "model_module": "@jupyter-widgets/base",
      "model_module_version": "1.1.0",
      "model_name": "LayoutModel",
      "state": {}
     },
     "45f55b57cadd4ade94227bbd6b0c925b": {
      "model_module": "@jupyter-widgets/base",
      "model_module_version": "1.1.0",
      "model_name": "LayoutModel",
      "state": {}
     },
     "4612768bec244ec5a2f5b0e4541f6df2": {
      "model_module": "@jupyter-widgets/base",
      "model_module_version": "1.1.0",
      "model_name": "LayoutModel",
      "state": {}
     },
     "4613e2bb8a18488fbf93b2d5b7a0fe28": {
      "model_module": "@jupyter-widgets/controls",
      "model_module_version": "1.4.0",
      "model_name": "HTMLModel",
      "state": {
       "layout": "IPY_MODEL_70a8419de8b143d2b00eb80a6083e12b",
       "style": "IPY_MODEL_2e3c207d44614429a8316fe613baeede",
       "value": " 99% 77/78 [00:00&lt;00:00, 768.06it/s]"
      }
     },
     "463026a282b741fe9a55d8c4a9c3663d": {
      "model_module": "@jupyter-widgets/base",
      "model_module_version": "1.1.0",
      "model_name": "LayoutModel",
      "state": {}
     },
     "4633b484e0c94e6ab70b81ded245ba12": {
      "model_module": "@jupyter-widgets/controls",
      "model_module_version": "1.4.0",
      "model_name": "IntProgressModel",
      "state": {
       "layout": "IPY_MODEL_71fafd16cd7842baaf8bd21038093025",
       "max": 17,
       "style": "IPY_MODEL_18f39b31309b4f7d86931614d84f0c58",
       "value": 17
      }
     },
     "4670192da0ee4802a04a5c6b1cc4f0d3": {
      "model_module": "@jupyter-widgets/controls",
      "model_module_version": "1.4.0",
      "model_name": "DescriptionStyleModel",
      "state": {
       "description_width": ""
      }
     },
     "4673ece870cd4a7388ca50a4a530ea3d": {
      "model_module": "@jupyter-widgets/base",
      "model_module_version": "1.1.0",
      "model_name": "LayoutModel",
      "state": {}
     },
     "467e3216f6f64ab3975224b493be3643": {
      "model_module": "@jupyter-widgets/controls",
      "model_module_version": "1.4.0",
      "model_name": "DescriptionStyleModel",
      "state": {
       "description_width": ""
      }
     },
     "46ccb46a3d7445dd8e5094f1d89be26b": {
      "model_module": "@jupyter-widgets/controls",
      "model_module_version": "1.4.0",
      "model_name": "ProgressStyleModel",
      "state": {
       "description_width": ""
      }
     },
     "46f11b91e9ee40a281b6a300a071ed37": {
      "model_module": "@jupyter-widgets/controls",
      "model_module_version": "1.4.0",
      "model_name": "IntProgressModel",
      "state": {
       "layout": "IPY_MODEL_37bb7da8ba384af4a6b7a755feb4ba96",
       "max": 78,
       "style": "IPY_MODEL_03ca2c748035445ca5ac6132c63d2949",
       "value": 44
      }
     },
     "471a688a66e84632b384fdd37b7f26c3": {
      "model_module": "@jupyter-widgets/controls",
      "model_module_version": "1.4.0",
      "model_name": "ProgressStyleModel",
      "state": {
       "description_width": ""
      }
     },
     "471b32f977d14ed2a42c5cd62ccc5e36": {
      "model_module": "@jupyter-widgets/controls",
      "model_module_version": "1.4.0",
      "model_name": "ProgressStyleModel",
      "state": {
       "description_width": ""
      }
     },
     "471c831d05c047d7af8407ca3f37ac6c": {
      "model_module": "@jupyter-widgets/base",
      "model_module_version": "1.1.0",
      "model_name": "LayoutModel",
      "state": {}
     },
     "47437cdefade44c3a2dc4003dd714ee3": {
      "model_module": "@jupyter-widgets/controls",
      "model_module_version": "1.4.0",
      "model_name": "HTMLModel",
      "state": {
       "layout": "IPY_MODEL_3b0011c263e340d487c74ff96ec97c56",
       "style": "IPY_MODEL_68f06bf504ef4988a71a7a95bf4ff01b",
       "value": " 46% 36/78 [00:00&lt;00:00, 355.87it/s]"
      }
     },
     "4785fad36ebd46248b252505f11dad7d": {
      "model_module": "@jupyter-widgets/controls",
      "model_module_version": "1.4.0",
      "model_name": "HTMLModel",
      "state": {
       "layout": "IPY_MODEL_c0bf8a6004634b569d66a247418ecea7",
       "style": "IPY_MODEL_633b5ca6e08a49f5982a5a9fdfb7e76b",
       "value": "100% 17/17 [00:04&lt;00:00,  3.65it/s]"
      }
     },
     "47b536da96174472b35a70bf2484ad50": {
      "model_module": "@jupyter-widgets/controls",
      "model_module_version": "1.4.0",
      "model_name": "HTMLModel",
      "state": {
       "layout": "IPY_MODEL_06f67e40f69a4f478cde5b31463edf55",
       "style": "IPY_MODEL_0bae525844ef4e369808582ef67ffa1c",
       "value": " 41% 32/78 [00:00&lt;00:00, 318.36it/s]"
      }
     },
     "47bcd97fd41a4430a21c4827198cf0a9": {
      "model_module": "@jupyter-widgets/controls",
      "model_module_version": "1.4.0",
      "model_name": "DescriptionStyleModel",
      "state": {
       "description_width": ""
      }
     },
     "47c0c62f49b74d67a05fa158461b610c": {
      "model_module": "@jupyter-widgets/base",
      "model_module_version": "1.1.0",
      "model_name": "LayoutModel",
      "state": {}
     },
     "47caec4db02b4391a7a9914325c9cb85": {
      "model_module": "@jupyter-widgets/controls",
      "model_module_version": "1.4.0",
      "model_name": "HTMLModel",
      "state": {
       "layout": "IPY_MODEL_637861f1b4494f958947da05caf62524",
       "style": "IPY_MODEL_4165348516344b5caab16fd57a74fd94",
       "value": "100% 17/17 [00:05&lt;00:00,  2.94it/s]"
      }
     },
     "47ee6d02b50c43e0adf8b3d0d429a7ed": {
      "model_module": "@jupyter-widgets/controls",
      "model_module_version": "1.4.0",
      "model_name": "DescriptionStyleModel",
      "state": {
       "description_width": ""
      }
     },
     "4809ac1dc396444687ccc42af4c6d533": {
      "model_module": "@jupyter-widgets/base",
      "model_module_version": "1.1.0",
      "model_name": "LayoutModel",
      "state": {}
     },
     "480a4ec02d6641cf9f77c356d86d7711": {
      "model_module": "@jupyter-widgets/controls",
      "model_module_version": "1.4.0",
      "model_name": "HTMLModel",
      "state": {
       "layout": "IPY_MODEL_024ec0a4816d4b8c894bf9245dc92fc4",
       "style": "IPY_MODEL_b122905d6a81477596e5b45bfa05b8f5",
       "value": "  0% 0/78 [00:00&lt;?, ?it/s]"
      }
     },
     "480f0a283c264192b241b4eccd080b24": {
      "model_module": "@jupyter-widgets/controls",
      "model_module_version": "1.4.0",
      "model_name": "ProgressStyleModel",
      "state": {
       "description_width": ""
      }
     },
     "481f40693e52459dbc4e40016e17ddb5": {
      "model_module": "@jupyter-widgets/controls",
      "model_module_version": "1.4.0",
      "model_name": "IntProgressModel",
      "state": {
       "layout": "IPY_MODEL_2dc0968c62fd4fe38a6d53701b4c86f5",
       "max": 78,
       "style": "IPY_MODEL_17228d0981fe4f30a10b7b873caba2df",
       "value": 27
      }
     },
     "4835f315f8df4b30a90b4db64dca234f": {
      "model_module": "@jupyter-widgets/controls",
      "model_module_version": "1.4.0",
      "model_name": "HTMLModel",
      "state": {
       "layout": "IPY_MODEL_8311a72ab8f3486ca4fc33b2dbc75387",
       "style": "IPY_MODEL_96d8352d33a5459f82407aecd885ee63",
       "value": " 91% 71/78 [00:00&lt;00:00, 332.90it/s]"
      }
     },
     "485503d1c2d34213b73c791bdb16dc20": {
      "model_module": "@jupyter-widgets/controls",
      "model_module_version": "1.4.0",
      "model_name": "HTMLModel",
      "state": {
       "layout": "IPY_MODEL_95c568596cec4fffaae24f0416ce37ef",
       "style": "IPY_MODEL_36f901dfd0384b5a80cba7f066b08cc5",
       "value": "100% 17/17 [00:05&lt;00:00,  3.16it/s]"
      }
     },
     "485d6be98ca242768754fa8a337e6c13": {
      "model_module": "@jupyter-widgets/controls",
      "model_module_version": "1.4.0",
      "model_name": "ProgressStyleModel",
      "state": {
       "description_width": ""
      }
     },
     "487b4bd7cd344c43b5c8fddc8fc06fe8": {
      "model_module": "@jupyter-widgets/controls",
      "model_module_version": "1.4.0",
      "model_name": "IntProgressModel",
      "state": {
       "layout": "IPY_MODEL_58d8ac9e7c08442a90c623c380e00d4b",
       "max": 17,
       "style": "IPY_MODEL_8d123bb95d9640dc8e608eaf7fe0fd91",
       "value": 17
      }
     },
     "4887f1f2482f44f6961492f67dea56e4": {
      "model_module": "@jupyter-widgets/controls",
      "model_module_version": "1.4.0",
      "model_name": "IntProgressModel",
      "state": {
       "layout": "IPY_MODEL_6b345407dd73482ebb123d2f70a1f0d7",
       "max": 78,
       "style": "IPY_MODEL_2ab45ef9726f476389dc3b00c771f266",
       "value": 40
      }
     },
     "488992f6424849c7b4da943933fa1195": {
      "model_module": "@jupyter-widgets/controls",
      "model_module_version": "1.4.0",
      "model_name": "ProgressStyleModel",
      "state": {
       "description_width": ""
      }
     },
     "488a9ff05eca48328ebd93f661627dd6": {
      "model_module": "@jupyter-widgets/base",
      "model_module_version": "1.1.0",
      "model_name": "LayoutModel",
      "state": {}
     },
     "4894bbe9ee1d47f0bf93be841ccb49b3": {
      "model_module": "@jupyter-widgets/base",
      "model_module_version": "1.1.0",
      "model_name": "LayoutModel",
      "state": {}
     },
     "48aab24fffba4aca945f83c81e82761b": {
      "model_module": "@jupyter-widgets/controls",
      "model_module_version": "1.4.0",
      "model_name": "IntProgressModel",
      "state": {
       "layout": "IPY_MODEL_494c4b083b3942e6b9ab614dff81b72a",
       "max": 78,
       "style": "IPY_MODEL_485d6be98ca242768754fa8a337e6c13"
      }
     },
     "4916c2c757c44576a0b8616af1a7066e": {
      "model_module": "@jupyter-widgets/controls",
      "model_module_version": "1.4.0",
      "model_name": "IntProgressModel",
      "state": {
       "layout": "IPY_MODEL_c9519dc22144490cb1b1c8e3bbf427b0",
       "max": 78,
       "style": "IPY_MODEL_718cf6a7cd5d4179ae4a71ed992acdad",
       "value": 71
      }
     },
     "49187d5623d84d0d97a66ba5a4bcc855": {
      "model_module": "@jupyter-widgets/base",
      "model_module_version": "1.1.0",
      "model_name": "LayoutModel",
      "state": {}
     },
     "494c4b083b3942e6b9ab614dff81b72a": {
      "model_module": "@jupyter-widgets/base",
      "model_module_version": "1.1.0",
      "model_name": "LayoutModel",
      "state": {}
     },
     "49731b6f66b3462981cc20a90bfa3c79": {
      "model_module": "@jupyter-widgets/base",
      "model_module_version": "1.1.0",
      "model_name": "LayoutModel",
      "state": {}
     },
     "49807ff90a2c4bd0b118bc8a1b4fc9ee": {
      "model_module": "@jupyter-widgets/controls",
      "model_module_version": "1.4.0",
      "model_name": "ProgressStyleModel",
      "state": {
       "description_width": ""
      }
     },
     "49f58d526d4d46f9bfee12cd81acb939": {
      "model_module": "@jupyter-widgets/base",
      "model_module_version": "1.1.0",
      "model_name": "LayoutModel",
      "state": {}
     },
     "49f5de4efaf647db8cd625ec36d543b5": {
      "model_module": "@jupyter-widgets/controls",
      "model_module_version": "1.4.0",
      "model_name": "DescriptionStyleModel",
      "state": {
       "description_width": ""
      }
     },
     "4a18cd80107c4d9990cc7c8efb412f7e": {
      "model_module": "@jupyter-widgets/base",
      "model_module_version": "1.1.0",
      "model_name": "LayoutModel",
      "state": {}
     },
     "4a3aeea475b34f25a7d13712b226fa94": {
      "model_module": "@jupyter-widgets/controls",
      "model_module_version": "1.4.0",
      "model_name": "DescriptionStyleModel",
      "state": {
       "description_width": ""
      }
     },
     "4a44a1255f99455ab5edeeba8652454b": {
      "model_module": "@jupyter-widgets/controls",
      "model_module_version": "1.4.0",
      "model_name": "DescriptionStyleModel",
      "state": {
       "description_width": ""
      }
     },
     "4a4c146647a64d15a44bb6f0856508ad": {
      "model_module": "@jupyter-widgets/base",
      "model_module_version": "1.1.0",
      "model_name": "LayoutModel",
      "state": {}
     },
     "4a510b34d435402e9dbb8f9f9b35c6b6": {
      "model_module": "@jupyter-widgets/base",
      "model_module_version": "1.1.0",
      "model_name": "LayoutModel",
      "state": {}
     },
     "4a7727ad5a194ec5ab284c87ed28feec": {
      "model_module": "@jupyter-widgets/base",
      "model_module_version": "1.1.0",
      "model_name": "LayoutModel",
      "state": {}
     },
     "4a7c52c79cb7493095aad308caaf51e4": {
      "model_module": "@jupyter-widgets/controls",
      "model_module_version": "1.4.0",
      "model_name": "ProgressStyleModel",
      "state": {
       "description_width": ""
      }
     },
     "4a807e03b6c040279f64fa1a5efe3757": {
      "model_module": "@jupyter-widgets/controls",
      "model_module_version": "1.4.0",
      "model_name": "DescriptionStyleModel",
      "state": {
       "description_width": ""
      }
     },
     "4a8a583c08684cd6ad3a7b3da4e88cc4": {
      "model_module": "@jupyter-widgets/controls",
      "model_module_version": "1.4.0",
      "model_name": "HTMLModel",
      "state": {
       "layout": "IPY_MODEL_1f1f957d35d14abcb1c24426effaabeb",
       "style": "IPY_MODEL_bfd672be4eb24f0592a7d21871ecfd78",
       "value": " 31% 24/78 [00:00&lt;00:00, 239.14it/s]"
      }
     },
     "4a93e9d01f2e42a59ac56d5ecebe46f6": {
      "model_module": "@jupyter-widgets/controls",
      "model_module_version": "1.4.0",
      "model_name": "DescriptionStyleModel",
      "state": {
       "description_width": ""
      }
     },
     "4a9ca7b43150476ebdf65085f5d956f9": {
      "model_module": "@jupyter-widgets/controls",
      "model_module_version": "1.4.0",
      "model_name": "IntProgressModel",
      "state": {
       "layout": "IPY_MODEL_e115b280904f4282b9d07a17d17cd8a0",
       "max": 17,
       "style": "IPY_MODEL_0ccc7409a22b450dbaf957b40f89402c",
       "value": 17
      }
     },
     "4acd03c339264bbbab1ae1a6eef6ba95": {
      "model_module": "@jupyter-widgets/controls",
      "model_module_version": "1.4.0",
      "model_name": "IntProgressModel",
      "state": {
       "layout": "IPY_MODEL_2e5877fc0f3f429ca2d78df7d2eee6a2",
       "max": 78,
       "style": "IPY_MODEL_d8c1eb7f18174c68a76a87f6980580d8",
       "value": 66
      }
     },
     "4b02f0f0d6e64fe18ce74553d435914a": {
      "model_module": "@jupyter-widgets/controls",
      "model_module_version": "1.4.0",
      "model_name": "ProgressStyleModel",
      "state": {
       "description_width": ""
      }
     },
     "4b0f580821634d9590945476a27ea05a": {
      "model_module": "@jupyter-widgets/controls",
      "model_module_version": "1.4.0",
      "model_name": "DescriptionStyleModel",
      "state": {
       "description_width": ""
      }
     },
     "4b3d7bf2820d48d8aea0736cd8375c9f": {
      "model_module": "@jupyter-widgets/controls",
      "model_module_version": "1.4.0",
      "model_name": "DescriptionStyleModel",
      "state": {
       "description_width": ""
      }
     },
     "4b464a5184c143c0a1baa38951011611": {
      "model_module": "@jupyter-widgets/controls",
      "model_module_version": "1.4.0",
      "model_name": "DescriptionStyleModel",
      "state": {
       "description_width": ""
      }
     },
     "4b48b2da22384d67896ac3d4ed77819a": {
      "model_module": "@jupyter-widgets/controls",
      "model_module_version": "1.4.0",
      "model_name": "DescriptionStyleModel",
      "state": {
       "description_width": ""
      }
     },
     "4b4de839980b4fe8bebef54f0ad3598f": {
      "model_module": "@jupyter-widgets/controls",
      "model_module_version": "1.4.0",
      "model_name": "HTMLModel",
      "state": {
       "layout": "IPY_MODEL_57d6d1edfe7d4a63ab400efa3ec37600",
       "style": "IPY_MODEL_fff828319eeb4e4a9f0b89f085d44947",
       "value": " 76% 59/78 [00:00&lt;00:00, 584.15it/s]"
      }
     },
     "4b6f9451fdbe41529310afabcb664faa": {
      "model_module": "@jupyter-widgets/controls",
      "model_module_version": "1.4.0",
      "model_name": "IntProgressModel",
      "state": {
       "layout": "IPY_MODEL_fb72a68855084ac38a5ef7a4b1b9674b",
       "max": 17,
       "style": "IPY_MODEL_44774952fb1e45be8b9704ea2ad1df56",
       "value": 17
      }
     },
     "4b7f90456d04402bab881077e22dd8f7": {
      "model_module": "@jupyter-widgets/base",
      "model_module_version": "1.1.0",
      "model_name": "LayoutModel",
      "state": {}
     },
     "4b86bee4778f4b07a76eeb1c734c89b8": {
      "model_module": "@jupyter-widgets/controls",
      "model_module_version": "1.4.0",
      "model_name": "ProgressStyleModel",
      "state": {
       "description_width": ""
      }
     },
     "4be3901d0fde41539b2f94c52232e17d": {
      "model_module": "@jupyter-widgets/controls",
      "model_module_version": "1.4.0",
      "model_name": "DescriptionStyleModel",
      "state": {
       "description_width": ""
      }
     },
     "4be60c3510844ef0ac9c7054aaac8074": {
      "model_module": "@jupyter-widgets/controls",
      "model_module_version": "1.4.0",
      "model_name": "ProgressStyleModel",
      "state": {
       "description_width": ""
      }
     },
     "4be6fb915c874eb6b8292cb5a41dee5d": {
      "model_module": "@jupyter-widgets/base",
      "model_module_version": "1.1.0",
      "model_name": "LayoutModel",
      "state": {}
     },
     "4bf82e5c282a49368975e4fc44638c74": {
      "model_module": "@jupyter-widgets/controls",
      "model_module_version": "1.4.0",
      "model_name": "HTMLModel",
      "state": {
       "layout": "IPY_MODEL_6f7281362cf7401b8baadc87ee5457e6",
       "style": "IPY_MODEL_2b8b36e9b12e4343a393451407b007da",
       "value": "100% 17/17 [00:05&lt;00:00,  2.88it/s]"
      }
     },
     "4c15d1a3e5034609870e6f8ee27d49ab": {
      "model_module": "@jupyter-widgets/controls",
      "model_module_version": "1.4.0",
      "model_name": "ProgressStyleModel",
      "state": {
       "description_width": ""
      }
     },
     "4c36c9a07ede490fa7391e9c183ae2b3": {
      "model_module": "@jupyter-widgets/base",
      "model_module_version": "1.1.0",
      "model_name": "LayoutModel",
      "state": {}
     },
     "4c404b3301c244c28a934019faf56ce1": {
      "model_module": "@jupyter-widgets/controls",
      "model_module_version": "1.4.0",
      "model_name": "DescriptionStyleModel",
      "state": {
       "description_width": ""
      }
     },
     "4c42f124aec04e628d9ffca43a6330c1": {
      "model_module": "@jupyter-widgets/base",
      "model_module_version": "1.1.0",
      "model_name": "LayoutModel",
      "state": {}
     },
     "4c57342aa125423ab8cd7e640b5f5a5d": {
      "model_module": "@jupyter-widgets/controls",
      "model_module_version": "1.4.0",
      "model_name": "ProgressStyleModel",
      "state": {
       "description_width": ""
      }
     },
     "4c693c27b85a4ea8a67cd18208bb4850": {
      "model_module": "@jupyter-widgets/base",
      "model_module_version": "1.1.0",
      "model_name": "LayoutModel",
      "state": {}
     },
     "4c6e6b15053247d2beb0f3c3e0a198ca": {
      "model_module": "@jupyter-widgets/controls",
      "model_module_version": "1.4.0",
      "model_name": "IntProgressModel",
      "state": {
       "layout": "IPY_MODEL_ea7bed13245f42ebaf17bcf45dd2a7fd",
       "max": 17,
       "style": "IPY_MODEL_8730556912b14e55bb958dbaa58ad3d6",
       "value": 17
      }
     },
     "4c8394e74633453aa8476af4e72dfcd5": {
      "model_module": "@jupyter-widgets/base",
      "model_module_version": "1.1.0",
      "model_name": "LayoutModel",
      "state": {}
     },
     "4c8405eedc774fcd8d0b56dc9fd19b49": {
      "model_module": "@jupyter-widgets/controls",
      "model_module_version": "1.4.0",
      "model_name": "HTMLModel",
      "state": {
       "layout": "IPY_MODEL_f0ed8b6a85bc4e13be4669dc80612c22",
       "style": "IPY_MODEL_7176b71861544258ab27216943e88731",
       "value": "100% 17/17 [00:05&lt;00:00,  3.23it/s]"
      }
     },
     "4c914680f22a4e0ea3ea01530e6b12b3": {
      "model_module": "@jupyter-widgets/controls",
      "model_module_version": "1.4.0",
      "model_name": "DescriptionStyleModel",
      "state": {
       "description_width": ""
      }
     },
     "4ca057cfbe314308b348cd390d5aca17": {
      "model_module": "@jupyter-widgets/controls",
      "model_module_version": "1.4.0",
      "model_name": "HTMLModel",
      "state": {
       "layout": "IPY_MODEL_3cf9363c976b412980e427af625978c6",
       "style": "IPY_MODEL_6f8030a543a74456ba65eb2b578407c1",
       "value": "100% 17/17 [00:06&lt;00:00,  2.53it/s]"
      }
     },
     "4caf215ed15a4ec2aaebd620c165f60c": {
      "model_module": "@jupyter-widgets/base",
      "model_module_version": "1.1.0",
      "model_name": "LayoutModel",
      "state": {}
     },
     "4ccdd03fa42740a8bfacd0c43d885897": {
      "model_module": "@jupyter-widgets/controls",
      "model_module_version": "1.4.0",
      "model_name": "IntProgressModel",
      "state": {
       "layout": "IPY_MODEL_794ad86bca7c4919aab4dc260c05cd50",
       "max": 78,
       "style": "IPY_MODEL_a423a8fe2a764da6adbec04ff7b6c369",
       "value": 6
      }
     },
     "4cd1d76faf84498e9c105789738e14ba": {
      "model_module": "@jupyter-widgets/controls",
      "model_module_version": "1.4.0",
      "model_name": "ProgressStyleModel",
      "state": {
       "description_width": ""
      }
     },
     "4cdac0f10e8b4c0ca50f926011f798ef": {
      "model_module": "@jupyter-widgets/controls",
      "model_module_version": "1.4.0",
      "model_name": "HTMLModel",
      "state": {
       "layout": "IPY_MODEL_aba5f18e650b4bb2bd01951382e2e8b8",
       "style": "IPY_MODEL_c2469a4564ce402cbef00c06c6aac280",
       "value": "100% 551/551 [00:02&lt;00:00, 201.46it/s]"
      }
     },
     "4d4bfa9dadf2487da5b9afb3e4238422": {
      "model_module": "@jupyter-widgets/controls",
      "model_module_version": "1.4.0",
      "model_name": "HTMLModel",
      "state": {
       "layout": "IPY_MODEL_e5e2307726dc49bb8702d5bbdbe529f7",
       "style": "IPY_MODEL_3c9702ebc54242479143fcec30c76b67",
       "value": "100% 17/17 [00:04&lt;00:00,  3.61it/s]"
      }
     },
     "4d6f191808f14b3597a8448ce5321586": {
      "model_module": "@jupyter-widgets/base",
      "model_module_version": "1.1.0",
      "model_name": "LayoutModel",
      "state": {}
     },
     "4d9f631570ca4532ae17c61d1eaaae73": {
      "model_module": "@jupyter-widgets/controls",
      "model_module_version": "1.4.0",
      "model_name": "DescriptionStyleModel",
      "state": {
       "description_width": ""
      }
     },
     "4daa36c6912a4964b60ab9e323a7d515": {
      "model_module": "@jupyter-widgets/controls",
      "model_module_version": "1.4.0",
      "model_name": "DescriptionStyleModel",
      "state": {
       "description_width": ""
      }
     },
     "4dc4c2b7cba84baa92b717f64a4b441c": {
      "model_module": "@jupyter-widgets/base",
      "model_module_version": "1.1.0",
      "model_name": "LayoutModel",
      "state": {}
     },
     "4dccd138fdf94b7fb1de550502753d80": {
      "model_module": "@jupyter-widgets/base",
      "model_module_version": "1.1.0",
      "model_name": "LayoutModel",
      "state": {}
     },
     "4e28113bb2ca49a9b295986253fefb87": {
      "model_module": "@jupyter-widgets/controls",
      "model_module_version": "1.4.0",
      "model_name": "HTMLModel",
      "state": {
       "layout": "IPY_MODEL_bef55621d5b4491b866184618536e8d6",
       "style": "IPY_MODEL_4405d2bc81e54a7eb5a5005e3264cdaa",
       "value": " 24% 19/78 [00:00&lt;00:00, 187.98it/s]"
      }
     },
     "4e606767e84247ca9d305ae77e64cc09": {
      "model_module": "@jupyter-widgets/base",
      "model_module_version": "1.1.0",
      "model_name": "LayoutModel",
      "state": {}
     },
     "4e8b58ad246347828726db80fe27c53f": {
      "model_module": "@jupyter-widgets/base",
      "model_module_version": "1.1.0",
      "model_name": "LayoutModel",
      "state": {}
     },
     "4eb295d995c74e79a4874be55d382605": {
      "model_module": "@jupyter-widgets/controls",
      "model_module_version": "1.4.0",
      "model_name": "ProgressStyleModel",
      "state": {
       "description_width": ""
      }
     },
     "4ebcc934d4884899a685c64b14c12145": {
      "model_module": "@jupyter-widgets/base",
      "model_module_version": "1.1.0",
      "model_name": "LayoutModel",
      "state": {}
     },
     "4ef3c848de444d50befc4049e385eb2e": {
      "model_module": "@jupyter-widgets/base",
      "model_module_version": "1.1.0",
      "model_name": "LayoutModel",
      "state": {}
     },
     "4f07acf600054fcea4b88df7f5999767": {
      "model_module": "@jupyter-widgets/base",
      "model_module_version": "1.1.0",
      "model_name": "LayoutModel",
      "state": {}
     },
     "4f0eab9c59ee47318456fe5a531be2f9": {
      "model_module": "@jupyter-widgets/base",
      "model_module_version": "1.1.0",
      "model_name": "LayoutModel",
      "state": {}
     },
     "4f15251fde7648c98e223632c29d318c": {
      "model_module": "@jupyter-widgets/base",
      "model_module_version": "1.1.0",
      "model_name": "LayoutModel",
      "state": {}
     },
     "4f1f7f7296e84033a7b676fc06b35f37": {
      "model_module": "@jupyter-widgets/base",
      "model_module_version": "1.1.0",
      "model_name": "LayoutModel",
      "state": {}
     },
     "4f689f2db75f42a48b09a1ad3729a488": {
      "model_module": "@jupyter-widgets/base",
      "model_module_version": "1.1.0",
      "model_name": "LayoutModel",
      "state": {}
     },
     "4f6db753db7d4fe484be8a06e2c3d023": {
      "model_module": "@jupyter-widgets/base",
      "model_module_version": "1.1.0",
      "model_name": "LayoutModel",
      "state": {}
     },
     "4f7b92234e114b918f57e0c732e9b0d8": {
      "model_module": "@jupyter-widgets/base",
      "model_module_version": "1.1.0",
      "model_name": "LayoutModel",
      "state": {}
     },
     "4fa746fbf3a24195816cf78782496a5a": {
      "model_module": "@jupyter-widgets/base",
      "model_module_version": "1.1.0",
      "model_name": "LayoutModel",
      "state": {}
     },
     "4fb36ec1c1a346169ea4711dd221cd78": {
      "model_module": "@jupyter-widgets/base",
      "model_module_version": "1.1.0",
      "model_name": "LayoutModel",
      "state": {}
     },
     "4fcb4c115fc448a486f57e42181df6b5": {
      "model_module": "@jupyter-widgets/base",
      "model_module_version": "1.1.0",
      "model_name": "LayoutModel",
      "state": {}
     },
     "4ffebdfd9b06419a89ad76e745c3306b": {
      "model_module": "@jupyter-widgets/controls",
      "model_module_version": "1.4.0",
      "model_name": "IntProgressModel",
      "state": {
       "layout": "IPY_MODEL_ea23205b90f04706bd462f9f899caf2a",
       "max": 17,
       "style": "IPY_MODEL_a6a9d1ffda624ca5bb9f3049f6531380",
       "value": 17
      }
     },
     "5009ceebf372498290935f4625d972b4": {
      "model_module": "@jupyter-widgets/controls",
      "model_module_version": "1.4.0",
      "model_name": "DescriptionStyleModel",
      "state": {
       "description_width": ""
      }
     },
     "504727e409b34450a6e4a89c165a8ad9": {
      "model_module": "@jupyter-widgets/controls",
      "model_module_version": "1.4.0",
      "model_name": "DescriptionStyleModel",
      "state": {
       "description_width": ""
      }
     },
     "50793a85f67f41eda4fd637c6396d95a": {
      "model_module": "@jupyter-widgets/controls",
      "model_module_version": "1.4.0",
      "model_name": "IntProgressModel",
      "state": {
       "layout": "IPY_MODEL_26dd820ae99f4eff89e718ed2f17ef1b",
       "max": 17,
       "style": "IPY_MODEL_550d443bc9b04fbabfad2a309ffc1c73",
       "value": 17
      }
     },
     "508720175cd44dcb9ecbe0c1c8532664": {
      "model_module": "@jupyter-widgets/base",
      "model_module_version": "1.1.0",
      "model_name": "LayoutModel",
      "state": {}
     },
     "50f93dc2c0ea452da661b66dccbcdfe4": {
      "model_module": "@jupyter-widgets/base",
      "model_module_version": "1.1.0",
      "model_name": "LayoutModel",
      "state": {}
     },
     "514fc725950a448ca2fd3e62b6a587c1": {
      "model_module": "@jupyter-widgets/base",
      "model_module_version": "1.1.0",
      "model_name": "LayoutModel",
      "state": {}
     },
     "5150008554134b5da10713af2a564f7c": {
      "model_module": "@jupyter-widgets/base",
      "model_module_version": "1.1.0",
      "model_name": "LayoutModel",
      "state": {}
     },
     "517e59b8c7bc4c108e88f67ede77b830": {
      "model_module": "@jupyter-widgets/base",
      "model_module_version": "1.1.0",
      "model_name": "LayoutModel",
      "state": {}
     },
     "51b15fcee1244a279731dab029a61602": {
      "model_module": "@jupyter-widgets/controls",
      "model_module_version": "1.4.0",
      "model_name": "DescriptionStyleModel",
      "state": {
       "description_width": ""
      }
     },
     "51c45930751043c1915f83d7ebf021d2": {
      "model_module": "@jupyter-widgets/controls",
      "model_module_version": "1.4.0",
      "model_name": "DescriptionStyleModel",
      "state": {
       "description_width": ""
      }
     },
     "51cd491d797d4332b0a7c32310c8df32": {
      "model_module": "@jupyter-widgets/base",
      "model_module_version": "1.1.0",
      "model_name": "LayoutModel",
      "state": {}
     },
     "52042d9b878d47b18d130b9671d9d4d5": {
      "model_module": "@jupyter-widgets/controls",
      "model_module_version": "1.4.0",
      "model_name": "DescriptionStyleModel",
      "state": {
       "description_width": ""
      }
     },
     "521ae17f13624a638e76570fde20e8b5": {
      "model_module": "@jupyter-widgets/controls",
      "model_module_version": "1.4.0",
      "model_name": "IntProgressModel",
      "state": {
       "layout": "IPY_MODEL_36619d97225f4b178714d7b05e006d35",
       "max": 78,
       "style": "IPY_MODEL_4be60c3510844ef0ac9c7054aaac8074",
       "value": 78
      }
     },
     "521b2964fd1b40dab6d17f60cfb81af3": {
      "model_module": "@jupyter-widgets/controls",
      "model_module_version": "1.4.0",
      "model_name": "HTMLModel",
      "state": {
       "layout": "IPY_MODEL_365863dca1634fd9bff840232261adc6",
       "style": "IPY_MODEL_732e48d5570644a495b0cd3ea37ef372",
       "value": "100% 17/17 [00:05&lt;00:00,  3.15it/s]"
      }
     },
     "52251e8203a84f3ebe476962b0ce7ee8": {
      "model_module": "@jupyter-widgets/controls",
      "model_module_version": "1.4.0",
      "model_name": "DescriptionStyleModel",
      "state": {
       "description_width": ""
      }
     },
     "526b60c5bcf243f6818674cbf33e4997": {
      "model_module": "@jupyter-widgets/base",
      "model_module_version": "1.1.0",
      "model_name": "LayoutModel",
      "state": {}
     },
     "5286afa1b9e947628eef1f67162cb676": {
      "model_module": "@jupyter-widgets/controls",
      "model_module_version": "1.4.0",
      "model_name": "DescriptionStyleModel",
      "state": {
       "description_width": ""
      }
     },
     "528fb9beb35f4cb5801bfc38b868f4d6": {
      "model_module": "@jupyter-widgets/base",
      "model_module_version": "1.1.0",
      "model_name": "LayoutModel",
      "state": {}
     },
     "528ffc6cbaa449e7b932cd3e3d99b0de": {
      "model_module": "@jupyter-widgets/base",
      "model_module_version": "1.1.0",
      "model_name": "LayoutModel",
      "state": {}
     },
     "52906dd1bef34f65a4745167808dbfd1": {
      "model_module": "@jupyter-widgets/controls",
      "model_module_version": "1.4.0",
      "model_name": "HTMLModel",
      "state": {
       "layout": "IPY_MODEL_fbf138f35daa49b394b2ed4fb456c672",
       "style": "IPY_MODEL_21164214d79648c390299b7cd6844d77",
       "value": " 87% 68/78 [00:00&lt;00:00, 335.92it/s]"
      }
     },
     "52be2db3030e4a73a59127981287fba7": {
      "model_module": "@jupyter-widgets/controls",
      "model_module_version": "1.4.0",
      "model_name": "HTMLModel",
      "state": {
       "layout": "IPY_MODEL_6eb4bdfc53a345389620e53a51702271",
       "style": "IPY_MODEL_53f4fdffaf4e46e8bfbb336e7299682a",
       "value": " 13% 10/78 [00:00&lt;00:00, 90.45it/s]"
      }
     },
     "52cd090da3be4dde94b54351dc3ce367": {
      "model_module": "@jupyter-widgets/base",
      "model_module_version": "1.1.0",
      "model_name": "LayoutModel",
      "state": {}
     },
     "52cd18502ca944fd84dc5c42e88ecaa0": {
      "model_module": "@jupyter-widgets/base",
      "model_module_version": "1.1.0",
      "model_name": "LayoutModel",
      "state": {}
     },
     "52db68e608614cc8a4c1603e61550575": {
      "model_module": "@jupyter-widgets/controls",
      "model_module_version": "1.4.0",
      "model_name": "DescriptionStyleModel",
      "state": {
       "description_width": ""
      }
     },
     "52fd1a1591364b3385d88bdbaee84ba8": {
      "model_module": "@jupyter-widgets/base",
      "model_module_version": "1.1.0",
      "model_name": "LayoutModel",
      "state": {}
     },
     "53158126027242d38dbbfe1de6323141": {
      "model_module": "@jupyter-widgets/base",
      "model_module_version": "1.1.0",
      "model_name": "LayoutModel",
      "state": {}
     },
     "532f84a260524fa2814ebc8743e3f483": {
      "model_module": "@jupyter-widgets/base",
      "model_module_version": "1.1.0",
      "model_name": "LayoutModel",
      "state": {}
     },
     "5345d283dac54ed9a2a03fa5750370ef": {
      "model_module": "@jupyter-widgets/controls",
      "model_module_version": "1.4.0",
      "model_name": "HTMLModel",
      "state": {
       "layout": "IPY_MODEL_4f6db753db7d4fe484be8a06e2c3d023",
       "style": "IPY_MODEL_a8fb016b11c74a2b96d94d0bda43555c",
       "value": " 23% 18/78 [00:00&lt;00:00, 170.12it/s]"
      }
     },
     "53528b4baf57423598dbf2b4c50bb12a": {
      "model_module": "@jupyter-widgets/base",
      "model_module_version": "1.1.0",
      "model_name": "LayoutModel",
      "state": {}
     },
     "5353debcb0844eda8b7e14810356975a": {
      "model_module": "@jupyter-widgets/controls",
      "model_module_version": "1.4.0",
      "model_name": "HTMLModel",
      "state": {
       "layout": "IPY_MODEL_c109f090f3f24f5fa05431650dd7d98c",
       "style": "IPY_MODEL_e999aa2fa8114a1385b94a66fc8feb28",
       "value": "100% 17/17 [00:07&lt;00:00,  2.32it/s]"
      }
     },
     "536b57324f704e9d85f3cca4617811d1": {
      "model_module": "@jupyter-widgets/base",
      "model_module_version": "1.1.0",
      "model_name": "LayoutModel",
      "state": {}
     },
     "53864ddb9e434ed0b73fe0f02775d6e8": {
      "model_module": "@jupyter-widgets/base",
      "model_module_version": "1.1.0",
      "model_name": "LayoutModel",
      "state": {}
     },
     "53998ea99e1c4d86a717498d04dfbdd5": {
      "model_module": "@jupyter-widgets/controls",
      "model_module_version": "1.4.0",
      "model_name": "DescriptionStyleModel",
      "state": {
       "description_width": ""
      }
     },
     "53c3db47c11f49449b105264b867f7e6": {
      "model_module": "@jupyter-widgets/controls",
      "model_module_version": "1.4.0",
      "model_name": "IntProgressModel",
      "state": {
       "layout": "IPY_MODEL_f42b7eb8623e436087c8bc2c18e4dc17",
       "max": 17,
       "style": "IPY_MODEL_c216f80d3ca841b09f914bfde8e539eb",
       "value": 17
      }
     },
     "53d5f1cd5592433d9dba1175f785e6cc": {
      "model_module": "@jupyter-widgets/controls",
      "model_module_version": "1.4.0",
      "model_name": "ProgressStyleModel",
      "state": {
       "description_width": ""
      }
     },
     "53dabfa72ef54d0a98a4c1caaa5be801": {
      "model_module": "@jupyter-widgets/controls",
      "model_module_version": "1.4.0",
      "model_name": "IntProgressModel",
      "state": {
       "layout": "IPY_MODEL_463026a282b741fe9a55d8c4a9c3663d",
       "max": 17,
       "style": "IPY_MODEL_38c186270f574685adee24d501493c7f",
       "value": 17
      }
     },
     "53ee377eebea4dbc871e82d3be3eed49": {
      "model_module": "@jupyter-widgets/controls",
      "model_module_version": "1.4.0",
      "model_name": "DescriptionStyleModel",
      "state": {
       "description_width": ""
      }
     },
     "53f4fdffaf4e46e8bfbb336e7299682a": {
      "model_module": "@jupyter-widgets/controls",
      "model_module_version": "1.4.0",
      "model_name": "DescriptionStyleModel",
      "state": {
       "description_width": ""
      }
     },
     "5430259d126145af8e66f1d67947e8d5": {
      "model_module": "@jupyter-widgets/base",
      "model_module_version": "1.1.0",
      "model_name": "LayoutModel",
      "state": {}
     },
     "5467924eabbf44fbbb8de6ebe06667d5": {
      "model_module": "@jupyter-widgets/base",
      "model_module_version": "1.1.0",
      "model_name": "LayoutModel",
      "state": {}
     },
     "5471e7fbe17643c78fb9d755359b1930": {
      "model_module": "@jupyter-widgets/controls",
      "model_module_version": "1.4.0",
      "model_name": "IntProgressModel",
      "state": {
       "layout": "IPY_MODEL_df9a905aa04a4019aef44f3cf09eb247",
       "max": 78,
       "style": "IPY_MODEL_57844f3b550349888909cddf9f5e8099",
       "value": 43
      }
     },
     "5476d763e3084bf5b6f8b443b4ccd270": {
      "model_module": "@jupyter-widgets/controls",
      "model_module_version": "1.4.0",
      "model_name": "DescriptionStyleModel",
      "state": {
       "description_width": ""
      }
     },
     "54844d0159b4469e92dc126000b4765b": {
      "model_module": "@jupyter-widgets/base",
      "model_module_version": "1.1.0",
      "model_name": "LayoutModel",
      "state": {}
     },
     "54bc500325a4422bbf166ab0e658f7db": {
      "model_module": "@jupyter-widgets/controls",
      "model_module_version": "1.4.0",
      "model_name": "DescriptionStyleModel",
      "state": {
       "description_width": ""
      }
     },
     "54c3f4b78d5f4362957fea503e0801fe": {
      "model_module": "@jupyter-widgets/controls",
      "model_module_version": "1.4.0",
      "model_name": "DescriptionStyleModel",
      "state": {
       "description_width": ""
      }
     },
     "54cc31abc8ef4e9ba48020be08502277": {
      "model_module": "@jupyter-widgets/base",
      "model_module_version": "1.1.0",
      "model_name": "LayoutModel",
      "state": {}
     },
     "54e7a9be27a34ce6b10dc2a0387d7ace": {
      "model_module": "@jupyter-widgets/controls",
      "model_module_version": "1.4.0",
      "model_name": "HTMLModel",
      "state": {
       "layout": "IPY_MODEL_2f5ecee82725483394a9975783b5f15e",
       "style": "IPY_MODEL_4b3d7bf2820d48d8aea0736cd8375c9f",
       "value": "100% 17/17 [00:05&lt;00:00,  3.07it/s]"
      }
     },
     "550d443bc9b04fbabfad2a309ffc1c73": {
      "model_module": "@jupyter-widgets/controls",
      "model_module_version": "1.4.0",
      "model_name": "ProgressStyleModel",
      "state": {
       "description_width": ""
      }
     },
     "5518a59e036d4cd89241d337a5a53bc8": {
      "model_module": "@jupyter-widgets/controls",
      "model_module_version": "1.4.0",
      "model_name": "HTMLModel",
      "state": {
       "layout": "IPY_MODEL_086e916d166f4dcfaca79d8667f2be41",
       "style": "IPY_MODEL_e0a2170149ad4cb1aa833389142fd4da",
       "value": "100% 17/17 [00:06&lt;00:00,  2.64it/s]"
      }
     },
     "554fd3c772a7418e929a4fe4dd3ed34c": {
      "model_module": "@jupyter-widgets/controls",
      "model_module_version": "1.4.0",
      "model_name": "DescriptionStyleModel",
      "state": {
       "description_width": ""
      }
     },
     "55661711b69d4a01a8c7d8f42c9e6c87": {
      "model_module": "@jupyter-widgets/base",
      "model_module_version": "1.1.0",
      "model_name": "LayoutModel",
      "state": {}
     },
     "557d1fd7c0b6433191026f94605703ce": {
      "model_module": "@jupyter-widgets/controls",
      "model_module_version": "1.4.0",
      "model_name": "HTMLModel",
      "state": {
       "layout": "IPY_MODEL_532f84a260524fa2814ebc8743e3f483",
       "style": "IPY_MODEL_ad1f4ee2116b4a60af6ee837dd44b76e",
       "value": " 71% 55/78 [00:00&lt;00:00, 549.77it/s]"
      }
     },
     "557ef42ce4c84e579cc19626cf4e429c": {
      "model_module": "@jupyter-widgets/controls",
      "model_module_version": "1.4.0",
      "model_name": "HTMLModel",
      "state": {
       "layout": "IPY_MODEL_1cf09640541b4f27a3883e32577d7d92",
       "style": "IPY_MODEL_467e3216f6f64ab3975224b493be3643",
       "value": "100% 17/17 [00:06&lt;00:00,  2.79it/s]"
      }
     },
     "55986c71c6214f879e46863f5d5ffa3e": {
      "model_module": "@jupyter-widgets/controls",
      "model_module_version": "1.4.0",
      "model_name": "ProgressStyleModel",
      "state": {
       "description_width": ""
      }
     },
     "55e4ca3f4453430496f43b4c4e213ac0": {
      "model_module": "@jupyter-widgets/controls",
      "model_module_version": "1.4.0",
      "model_name": "HTMLModel",
      "state": {
       "layout": "IPY_MODEL_9d151c3712a04faa8f48d17f5651f76c",
       "style": "IPY_MODEL_4a93e9d01f2e42a59ac56d5ecebe46f6",
       "value": "100% 17/17 [00:04&lt;00:00,  3.41it/s]"
      }
     },
     "55f51c04e7704e3087e5400023665b65": {
      "model_module": "@jupyter-widgets/controls",
      "model_module_version": "1.4.0",
      "model_name": "IntProgressModel",
      "state": {
       "layout": "IPY_MODEL_d4b42884b2b94909b4c1e13ff6559d2a",
       "max": 17,
       "style": "IPY_MODEL_20c4f54294fe444d9435b050455c9994",
       "value": 17
      }
     },
     "560236d74ac84656b7e56040fbb08060": {
      "model_module": "@jupyter-widgets/base",
      "model_module_version": "1.1.0",
      "model_name": "LayoutModel",
      "state": {}
     },
     "5624b2b19435428680751037fece9db3": {
      "model_module": "@jupyter-widgets/base",
      "model_module_version": "1.1.0",
      "model_name": "LayoutModel",
      "state": {}
     },
     "564c31d591624c1e9ca1145d5313c1d9": {
      "model_module": "@jupyter-widgets/controls",
      "model_module_version": "1.4.0",
      "model_name": "HBoxModel",
      "state": {
       "children": [
        "IPY_MODEL_1f2b21cf0bc9411ba984e1e362340663",
        "IPY_MODEL_33f01433eaaf4c848eccf36f98e99eb5"
       ],
       "layout": "IPY_MODEL_153ca126bd9d4e739a682b1bfcd01dc3"
      }
     },
     "566880831c02442eb8875e710441b7d9": {
      "model_module": "@jupyter-widgets/controls",
      "model_module_version": "1.4.0",
      "model_name": "HTMLModel",
      "state": {
       "layout": "IPY_MODEL_b9995740c7214200a929fe3b88332011",
       "style": "IPY_MODEL_045076b02ae042138846910b79c3283d",
       "value": "100% 551/551 [00:05&lt;00:00, 102.22it/s]"
      }
     },
     "568d08b977104823a10b23c78ba90104": {
      "model_module": "@jupyter-widgets/controls",
      "model_module_version": "1.4.0",
      "model_name": "DescriptionStyleModel",
      "state": {
       "description_width": ""
      }
     },
     "56b0018b47c74d8191ffbcdc080f428e": {
      "model_module": "@jupyter-widgets/controls",
      "model_module_version": "1.4.0",
      "model_name": "ProgressStyleModel",
      "state": {
       "description_width": ""
      }
     },
     "56b07674038e4f10ba8a0dd718a2a8c5": {
      "model_module": "@jupyter-widgets/controls",
      "model_module_version": "1.4.0",
      "model_name": "ProgressStyleModel",
      "state": {
       "description_width": ""
      }
     },
     "56b2fa2840d841d6afe9328bf9f77905": {
      "model_module": "@jupyter-widgets/controls",
      "model_module_version": "1.4.0",
      "model_name": "ProgressStyleModel",
      "state": {
       "description_width": ""
      }
     },
     "56b57e6a4c9946f2b2b6e86399675f03": {
      "model_module": "@jupyter-widgets/base",
      "model_module_version": "1.1.0",
      "model_name": "LayoutModel",
      "state": {}
     },
     "56c35abbfaf2439ebfd5c3188f6c9781": {
      "model_module": "@jupyter-widgets/base",
      "model_module_version": "1.1.0",
      "model_name": "LayoutModel",
      "state": {}
     },
     "56dfd4d963744573b43101098c147771": {
      "model_module": "@jupyter-widgets/controls",
      "model_module_version": "1.4.0",
      "model_name": "DescriptionStyleModel",
      "state": {
       "description_width": ""
      }
     },
     "56f1348c342d4bc6a8663d0a8d9fdd44": {
      "model_module": "@jupyter-widgets/base",
      "model_module_version": "1.1.0",
      "model_name": "LayoutModel",
      "state": {}
     },
     "56f418c299e6466ba7e9f0f256f5f711": {
      "model_module": "@jupyter-widgets/controls",
      "model_module_version": "1.4.0",
      "model_name": "DescriptionStyleModel",
      "state": {
       "description_width": ""
      }
     },
     "56f63522d5ae487893953b6bab6f0e3a": {
      "model_module": "@jupyter-widgets/controls",
      "model_module_version": "1.4.0",
      "model_name": "DescriptionStyleModel",
      "state": {
       "description_width": ""
      }
     },
     "570c4a7bb8f042d3a5f0135e861c0f1b": {
      "model_module": "@jupyter-widgets/controls",
      "model_module_version": "1.4.0",
      "model_name": "IntProgressModel",
      "state": {
       "layout": "IPY_MODEL_202df5884aa54e06a043410166be25f7",
       "max": 78,
       "style": "IPY_MODEL_452ec177cb4c4dbfbd8644fc8ad0c76a",
       "value": 21
      }
     },
     "572bba1f65f44046a5f378bc5c5e2eac": {
      "model_module": "@jupyter-widgets/base",
      "model_module_version": "1.1.0",
      "model_name": "LayoutModel",
      "state": {}
     },
     "573aba85e59f46fba8230d03eec4cbd8": {
      "model_module": "@jupyter-widgets/controls",
      "model_module_version": "1.4.0",
      "model_name": "DescriptionStyleModel",
      "state": {
       "description_width": ""
      }
     },
     "575d1a72eb9944c79ff93673348c6846": {
      "model_module": "@jupyter-widgets/controls",
      "model_module_version": "1.4.0",
      "model_name": "IntProgressModel",
      "state": {
       "layout": "IPY_MODEL_ca1222f31b1d415fae34be06be0a6df0",
       "max": 17,
       "style": "IPY_MODEL_6c826679665443799f06e6df94ffde66",
       "value": 17
      }
     },
     "57681b7b1e3c4203add7c34188eead15": {
      "model_module": "@jupyter-widgets/base",
      "model_module_version": "1.1.0",
      "model_name": "LayoutModel",
      "state": {}
     },
     "576fc7d893464d49919c932a0bd99759": {
      "model_module": "@jupyter-widgets/base",
      "model_module_version": "1.1.0",
      "model_name": "LayoutModel",
      "state": {}
     },
     "57753290a0ab42fb95e70e414bb56e42": {
      "model_module": "@jupyter-widgets/controls",
      "model_module_version": "1.4.0",
      "model_name": "HTMLModel",
      "state": {
       "layout": "IPY_MODEL_a1364c4c392c41e28311b89459cd7ea5",
       "style": "IPY_MODEL_65ebae44e5454f10af3a07ddb241137e",
       "value": "100% 17/17 [00:08&lt;00:00,  1.95it/s]"
      }
     },
     "57844f3b550349888909cddf9f5e8099": {
      "model_module": "@jupyter-widgets/controls",
      "model_module_version": "1.4.0",
      "model_name": "ProgressStyleModel",
      "state": {
       "description_width": ""
      }
     },
     "579fa3f1dc094b29b53e583e405faf31": {
      "model_module": "@jupyter-widgets/base",
      "model_module_version": "1.1.0",
      "model_name": "LayoutModel",
      "state": {}
     },
     "57a54d24a4634f868a184dfd03e140c6": {
      "model_module": "@jupyter-widgets/controls",
      "model_module_version": "1.4.0",
      "model_name": "ProgressStyleModel",
      "state": {
       "description_width": ""
      }
     },
     "57b67c2766fb453497a0a56b6f9571fc": {
      "model_module": "@jupyter-widgets/base",
      "model_module_version": "1.1.0",
      "model_name": "LayoutModel",
      "state": {}
     },
     "57b8c07f1d014b87888f740623373b86": {
      "model_module": "@jupyter-widgets/base",
      "model_module_version": "1.1.0",
      "model_name": "LayoutModel",
      "state": {}
     },
     "57d0abeef1ba4ce2b3c27820c8f640c0": {
      "model_module": "@jupyter-widgets/controls",
      "model_module_version": "1.4.0",
      "model_name": "ProgressStyleModel",
      "state": {
       "description_width": ""
      }
     },
     "57d6d1edfe7d4a63ab400efa3ec37600": {
      "model_module": "@jupyter-widgets/base",
      "model_module_version": "1.1.0",
      "model_name": "LayoutModel",
      "state": {}
     },
     "57ebf39787044271925102059d9546c4": {
      "model_module": "@jupyter-widgets/controls",
      "model_module_version": "1.4.0",
      "model_name": "DescriptionStyleModel",
      "state": {
       "description_width": ""
      }
     },
     "5801765a116343dda734a6d7d12c5abc": {
      "model_module": "@jupyter-widgets/base",
      "model_module_version": "1.1.0",
      "model_name": "LayoutModel",
      "state": {}
     },
     "5832de3cd40e4152901d47048de5070f": {
      "model_module": "@jupyter-widgets/controls",
      "model_module_version": "1.4.0",
      "model_name": "HTMLModel",
      "state": {
       "layout": "IPY_MODEL_5f42957b17094351b244661d961b8b39",
       "style": "IPY_MODEL_e930c99be072434983d187e2323fbb75",
       "value": "100% 17/17 [00:07&lt;00:00,  2.35it/s]"
      }
     },
     "58749507e4a6498383c77a31aa1a3e26": {
      "model_module": "@jupyter-widgets/controls",
      "model_module_version": "1.4.0",
      "model_name": "ProgressStyleModel",
      "state": {
       "description_width": ""
      }
     },
     "5891bc77b9064c4fb8641449aa6e6b93": {
      "model_module": "@jupyter-widgets/base",
      "model_module_version": "1.1.0",
      "model_name": "LayoutModel",
      "state": {}
     },
     "58a412261349465389e20ffd6bb4d077": {
      "model_module": "@jupyter-widgets/controls",
      "model_module_version": "1.4.0",
      "model_name": "ProgressStyleModel",
      "state": {
       "description_width": ""
      }
     },
     "58c65ce616e7444bbecff9b9c1d8b2aa": {
      "model_module": "@jupyter-widgets/controls",
      "model_module_version": "1.4.0",
      "model_name": "DescriptionStyleModel",
      "state": {
       "description_width": ""
      }
     },
     "58d6b61b3fb84dbb91d57ef18321cb1e": {
      "model_module": "@jupyter-widgets/base",
      "model_module_version": "1.1.0",
      "model_name": "LayoutModel",
      "state": {}
     },
     "58d8ac9e7c08442a90c623c380e00d4b": {
      "model_module": "@jupyter-widgets/base",
      "model_module_version": "1.1.0",
      "model_name": "LayoutModel",
      "state": {}
     },
     "58e092b84d744f5588b95a7f25048d47": {
      "model_module": "@jupyter-widgets/controls",
      "model_module_version": "1.4.0",
      "model_name": "DescriptionStyleModel",
      "state": {
       "description_width": ""
      }
     },
     "5907ecbfea2242409559c6237c7c5d66": {
      "model_module": "@jupyter-widgets/controls",
      "model_module_version": "1.4.0",
      "model_name": "DescriptionStyleModel",
      "state": {
       "description_width": ""
      }
     },
     "59265685be0c44ba8a016e67c697249f": {
      "model_module": "@jupyter-widgets/base",
      "model_module_version": "1.1.0",
      "model_name": "LayoutModel",
      "state": {}
     },
     "5939ac853532482e9f22eae61babb4d1": {
      "model_module": "@jupyter-widgets/base",
      "model_module_version": "1.1.0",
      "model_name": "LayoutModel",
      "state": {}
     },
     "595324f8a42949f2bb37be07e3d88834": {
      "model_module": "@jupyter-widgets/base",
      "model_module_version": "1.1.0",
      "model_name": "LayoutModel",
      "state": {}
     },
     "595e35a82cff462db0f1513db745c2be": {
      "model_module": "@jupyter-widgets/controls",
      "model_module_version": "1.4.0",
      "model_name": "HTMLModel",
      "state": {
       "layout": "IPY_MODEL_9de2610d37744efebb2ea87574ba9fe9",
       "style": "IPY_MODEL_43759f9f29cc426fb876741baba17626",
       "value": " 96% 75/78 [00:00&lt;00:00, 362.81it/s]"
      }
     },
     "597fec79186f4d5dbf609331232f5f23": {
      "model_module": "@jupyter-widgets/base",
      "model_module_version": "1.1.0",
      "model_name": "LayoutModel",
      "state": {}
     },
     "599abcd26c504ae987ee010a3f456583": {
      "model_module": "@jupyter-widgets/controls",
      "model_module_version": "1.4.0",
      "model_name": "ProgressStyleModel",
      "state": {
       "description_width": ""
      }
     },
     "59a1b842ddb54fa3adc1e287f0253635": {
      "model_module": "@jupyter-widgets/base",
      "model_module_version": "1.1.0",
      "model_name": "LayoutModel",
      "state": {}
     },
     "59e8816431e2492db613a1d0311d63e0": {
      "model_module": "@jupyter-widgets/controls",
      "model_module_version": "1.4.0",
      "model_name": "IntProgressModel",
      "state": {
       "bar_style": "success",
       "layout": "IPY_MODEL_820a05997ebd41c488ce0dbb0ddebf13",
       "max": 78,
       "style": "IPY_MODEL_5dd472f59bca472a88603a6caec9fa04",
       "value": 78
      }
     },
     "5a001c37b6ef4a7a8dfe7605a5da94fb": {
      "model_module": "@jupyter-widgets/base",
      "model_module_version": "1.1.0",
      "model_name": "LayoutModel",
      "state": {}
     },
     "5a01e40bc5f94352ab0fe2cfbe8c3ad0": {
      "model_module": "@jupyter-widgets/controls",
      "model_module_version": "1.4.0",
      "model_name": "IntProgressModel",
      "state": {
       "layout": "IPY_MODEL_9d3b273294a042adaabdfa1ad77a4a42",
       "max": 17,
       "style": "IPY_MODEL_78fff0b836a341c8b83b93beb22f5b5b",
       "value": 17
      }
     },
     "5a1e5e9b2dc349ee80d87b015f191455": {
      "model_module": "@jupyter-widgets/base",
      "model_module_version": "1.1.0",
      "model_name": "LayoutModel",
      "state": {}
     },
     "5a4acd079beb428a97ef88ffad23294a": {
      "model_module": "@jupyter-widgets/base",
      "model_module_version": "1.1.0",
      "model_name": "LayoutModel",
      "state": {}
     },
     "5a56df4d92f74ca8bb7c59f440aface8": {
      "model_module": "@jupyter-widgets/base",
      "model_module_version": "1.1.0",
      "model_name": "LayoutModel",
      "state": {}
     },
     "5ac4fe2de1c345e3aff8fa62d087ae5e": {
      "model_module": "@jupyter-widgets/controls",
      "model_module_version": "1.4.0",
      "model_name": "HTMLModel",
      "state": {
       "layout": "IPY_MODEL_df903777abde43ae869a891c1396181e",
       "style": "IPY_MODEL_4a807e03b6c040279f64fa1a5efe3757",
       "value": "  0% 0/78 [00:00&lt;?, ?it/s]"
      }
     },
     "5b1bf7ee2a6d45d2ae6d583acb97e3da": {
      "model_module": "@jupyter-widgets/controls",
      "model_module_version": "1.4.0",
      "model_name": "IntProgressModel",
      "state": {
       "layout": "IPY_MODEL_b7e24c2dd65c4f3d8ede57a69f2ef313",
       "max": 17,
       "style": "IPY_MODEL_2640d67505e44d13b90eddfd628e531d",
       "value": 17
      }
     },
     "5b551bcea5af4fd7bd962b3be52b7a8f": {
      "model_module": "@jupyter-widgets/base",
      "model_module_version": "1.1.0",
      "model_name": "LayoutModel",
      "state": {}
     },
     "5b585050883d459695a08606c7de9d63": {
      "model_module": "@jupyter-widgets/controls",
      "model_module_version": "1.4.0",
      "model_name": "DescriptionStyleModel",
      "state": {
       "description_width": ""
      }
     },
     "5b5bb94a540a4da6bb406fae47c92f01": {
      "model_module": "@jupyter-widgets/base",
      "model_module_version": "1.1.0",
      "model_name": "LayoutModel",
      "state": {}
     },
     "5b5ea1c162394db183134783ec3d9ac4": {
      "model_module": "@jupyter-widgets/base",
      "model_module_version": "1.1.0",
      "model_name": "LayoutModel",
      "state": {}
     },
     "5b95fabf28c640b9b5456cf6eeb938cb": {
      "model_module": "@jupyter-widgets/controls",
      "model_module_version": "1.4.0",
      "model_name": "IntProgressModel",
      "state": {
       "layout": "IPY_MODEL_b9dfbcbe00d64912aec7c42899b2285a",
       "max": 78,
       "style": "IPY_MODEL_06bd036deb654d4dbc7f608c1cb8a9c7",
       "value": 38
      }
     },
     "5b9ba9dc708049448d039aaaf8c78797": {
      "model_module": "@jupyter-widgets/base",
      "model_module_version": "1.1.0",
      "model_name": "LayoutModel",
      "state": {}
     },
     "5c0a841f7ba14725a21a015d582ef31a": {
      "model_module": "@jupyter-widgets/controls",
      "model_module_version": "1.4.0",
      "model_name": "ProgressStyleModel",
      "state": {
       "description_width": ""
      }
     },
     "5c21e7ce14c94f5a831fae51b10dae21": {
      "model_module": "@jupyter-widgets/base",
      "model_module_version": "1.1.0",
      "model_name": "LayoutModel",
      "state": {}
     },
     "5c3595eaa3ab4c11aad13415c87da299": {
      "model_module": "@jupyter-widgets/controls",
      "model_module_version": "1.4.0",
      "model_name": "DescriptionStyleModel",
      "state": {
       "description_width": ""
      }
     },
     "5c47531d0c234e6e97b558cbc73f72ba": {
      "model_module": "@jupyter-widgets/base",
      "model_module_version": "1.1.0",
      "model_name": "LayoutModel",
      "state": {}
     },
     "5c53290a86824c1f994233d0666ddf73": {
      "model_module": "@jupyter-widgets/controls",
      "model_module_version": "1.4.0",
      "model_name": "ProgressStyleModel",
      "state": {
       "description_width": ""
      }
     },
     "5c61907789844500ab19ef9bdb20d4da": {
      "model_module": "@jupyter-widgets/controls",
      "model_module_version": "1.4.0",
      "model_name": "ProgressStyleModel",
      "state": {
       "description_width": ""
      }
     },
     "5ca904a8ad74463893992b02a90d82c9": {
      "model_module": "@jupyter-widgets/controls",
      "model_module_version": "1.4.0",
      "model_name": "ProgressStyleModel",
      "state": {
       "description_width": ""
      }
     },
     "5ca9dd426bef4d35b00fbfa36cd42448": {
      "model_module": "@jupyter-widgets/controls",
      "model_module_version": "1.4.0",
      "model_name": "ProgressStyleModel",
      "state": {
       "description_width": ""
      }
     },
     "5cc473d0f12046dcb51b0036c626d078": {
      "model_module": "@jupyter-widgets/controls",
      "model_module_version": "1.4.0",
      "model_name": "IntProgressModel",
      "state": {
       "layout": "IPY_MODEL_7606e3628b524a578909bfbf48249a8d",
       "max": 17,
       "style": "IPY_MODEL_2741c2224d894c9c838cc73d1b4c9443",
       "value": 17
      }
     },
     "5d41ad09f79d460d9c340fad2f04abe7": {
      "model_module": "@jupyter-widgets/base",
      "model_module_version": "1.1.0",
      "model_name": "LayoutModel",
      "state": {}
     },
     "5d606e9a455242938955ac4249e18283": {
      "model_module": "@jupyter-widgets/base",
      "model_module_version": "1.1.0",
      "model_name": "LayoutModel",
      "state": {}
     },
     "5dc649355d3e48c4aa057803a4f87d4c": {
      "model_module": "@jupyter-widgets/controls",
      "model_module_version": "1.4.0",
      "model_name": "ProgressStyleModel",
      "state": {
       "description_width": ""
      }
     },
     "5dcdc23d15f64f39bc7bce288e34bd17": {
      "model_module": "@jupyter-widgets/controls",
      "model_module_version": "1.4.0",
      "model_name": "HTMLModel",
      "state": {
       "layout": "IPY_MODEL_bd8a6005757248d8bcacd1d9ca0e54d2",
       "style": "IPY_MODEL_379626f59e2548e3a528cd77ce7a1595",
       "value": "100% 17/17 [00:07&lt;00:00,  2.40it/s]"
      }
     },
     "5dd1d08fb6cf45e7b04b471896edb90a": {
      "model_module": "@jupyter-widgets/base",
      "model_module_version": "1.1.0",
      "model_name": "LayoutModel",
      "state": {}
     },
     "5dd472f59bca472a88603a6caec9fa04": {
      "model_module": "@jupyter-widgets/controls",
      "model_module_version": "1.4.0",
      "model_name": "ProgressStyleModel",
      "state": {
       "description_width": ""
      }
     },
     "5df00fcdcb754fb69486665ba5c44a5d": {
      "model_module": "@jupyter-widgets/controls",
      "model_module_version": "1.4.0",
      "model_name": "DescriptionStyleModel",
      "state": {
       "description_width": ""
      }
     },
     "5dfb1dfafa6c40e18f6a7248d8f84a37": {
      "model_module": "@jupyter-widgets/controls",
      "model_module_version": "1.4.0",
      "model_name": "ProgressStyleModel",
      "state": {
       "description_width": ""
      }
     },
     "5e2f12b665dc4f7380c05ccc38c8fdb8": {
      "model_module": "@jupyter-widgets/controls",
      "model_module_version": "1.4.0",
      "model_name": "ProgressStyleModel",
      "state": {
       "description_width": ""
      }
     },
     "5e346c2d76464747a409a8bfa6bec09b": {
      "model_module": "@jupyter-widgets/controls",
      "model_module_version": "1.4.0",
      "model_name": "DescriptionStyleModel",
      "state": {
       "description_width": ""
      }
     },
     "5e3cab6b8ebb49fb9a7d15093c9b1af2": {
      "model_module": "@jupyter-widgets/base",
      "model_module_version": "1.1.0",
      "model_name": "LayoutModel",
      "state": {}
     },
     "5e596daf81e44645b48884fcc51c7207": {
      "model_module": "@jupyter-widgets/controls",
      "model_module_version": "1.4.0",
      "model_name": "IntProgressModel",
      "state": {
       "bar_style": "success",
       "layout": "IPY_MODEL_38bb1c4df206493c99e13c2f0285b291",
       "max": 551,
       "style": "IPY_MODEL_258a0a45f9514976b3b873bc3236f5f3",
       "value": 551
      }
     },
     "5e72780507f845fd8b9f07f896b62bab": {
      "model_module": "@jupyter-widgets/base",
      "model_module_version": "1.1.0",
      "model_name": "LayoutModel",
      "state": {}
     },
     "5e85398a6e8c48b49616c1d02c9c795c": {
      "model_module": "@jupyter-widgets/controls",
      "model_module_version": "1.4.0",
      "model_name": "ProgressStyleModel",
      "state": {
       "description_width": ""
      }
     },
     "5e8e7042fc2644f28be6a52ae3062d17": {
      "model_module": "@jupyter-widgets/controls",
      "model_module_version": "1.4.0",
      "model_name": "DescriptionStyleModel",
      "state": {
       "description_width": ""
      }
     },
     "5eb7c522a0bf4e40a53827e55dc5ae14": {
      "model_module": "@jupyter-widgets/base",
      "model_module_version": "1.1.0",
      "model_name": "LayoutModel",
      "state": {}
     },
     "5ec569dcca604d6ebaf87a6c259bb3d7": {
      "model_module": "@jupyter-widgets/controls",
      "model_module_version": "1.4.0",
      "model_name": "HTMLModel",
      "state": {
       "layout": "IPY_MODEL_644d63643dde482986baeb3710f4145f",
       "style": "IPY_MODEL_d71229b5e89748ae8c4e7531591edf14",
       "value": " 74% 58/78 [00:00&lt;00:00, 186.43it/s]"
      }
     },
     "5f07831e0c824692ae07d3ec72361353": {
      "model_module": "@jupyter-widgets/controls",
      "model_module_version": "1.4.0",
      "model_name": "ProgressStyleModel",
      "state": {
       "description_width": ""
      }
     },
     "5f0ffc16eb6c43e4a611b3010318c340": {
      "model_module": "@jupyter-widgets/controls",
      "model_module_version": "1.4.0",
      "model_name": "DescriptionStyleModel",
      "state": {
       "description_width": ""
      }
     },
     "5f42957b17094351b244661d961b8b39": {
      "model_module": "@jupyter-widgets/base",
      "model_module_version": "1.1.0",
      "model_name": "LayoutModel",
      "state": {}
     },
     "5f794bf040da48ecb62dca9bf1afbce3": {
      "model_module": "@jupyter-widgets/controls",
      "model_module_version": "1.4.0",
      "model_name": "DescriptionStyleModel",
      "state": {
       "description_width": ""
      }
     },
     "5f7e3f6a6ac4427fa6806108d4ee6800": {
      "model_module": "@jupyter-widgets/controls",
      "model_module_version": "1.4.0",
      "model_name": "ProgressStyleModel",
      "state": {
       "description_width": ""
      }
     },
     "5f850f1ca43c4befa1283491c5036a9a": {
      "model_module": "@jupyter-widgets/base",
      "model_module_version": "1.1.0",
      "model_name": "LayoutModel",
      "state": {}
     },
     "5f980e4ff3ff4c7f81de585c35bddee2": {
      "model_module": "@jupyter-widgets/base",
      "model_module_version": "1.1.0",
      "model_name": "LayoutModel",
      "state": {}
     },
     "5fa385d466744f56be616a3f3c2c6393": {
      "model_module": "@jupyter-widgets/base",
      "model_module_version": "1.1.0",
      "model_name": "LayoutModel",
      "state": {}
     },
     "5fa8ff09df63452eaf7983dc0ef5bafc": {
      "model_module": "@jupyter-widgets/controls",
      "model_module_version": "1.4.0",
      "model_name": "DescriptionStyleModel",
      "state": {
       "description_width": ""
      }
     },
     "5fb932af6927450fa428153bf57ed0fe": {
      "model_module": "@jupyter-widgets/base",
      "model_module_version": "1.1.0",
      "model_name": "LayoutModel",
      "state": {}
     },
     "5fff177c42494b16b7180aa9c4048063": {
      "model_module": "@jupyter-widgets/controls",
      "model_module_version": "1.4.0",
      "model_name": "IntProgressModel",
      "state": {
       "layout": "IPY_MODEL_9e387cfe1b39455e88b6b15fba8308f4",
       "max": 78,
       "style": "IPY_MODEL_e821da5bc5ed480fbd5a406277f35c50",
       "value": 77
      }
     },
     "601aafbc96e84008be144ee88b83d4a1": {
      "model_module": "@jupyter-widgets/controls",
      "model_module_version": "1.4.0",
      "model_name": "HTMLModel",
      "state": {
       "layout": "IPY_MODEL_e26e170ae57a4b4bb0134416246e5c7e",
       "style": "IPY_MODEL_9427713000024dafaa579f165b8b1da1",
       "value": "100% 551/551 [00:02&lt;00:00, 231.90it/s]"
      }
     },
     "6031562b47954b00b2355661b3ea036e": {
      "model_module": "@jupyter-widgets/base",
      "model_module_version": "1.1.0",
      "model_name": "LayoutModel",
      "state": {}
     },
     "605ad63a3743465d9affdd193496d192": {
      "model_module": "@jupyter-widgets/controls",
      "model_module_version": "1.4.0",
      "model_name": "ProgressStyleModel",
      "state": {
       "description_width": ""
      }
     },
     "606237a24f084528a4dcc79e0475937f": {
      "model_module": "@jupyter-widgets/controls",
      "model_module_version": "1.4.0",
      "model_name": "HTMLModel",
      "state": {
       "layout": "IPY_MODEL_f2815c8714ce4993b4e80578685a53ac",
       "style": "IPY_MODEL_91beddb8a5bc4435b0e9ac75a3ce28c4",
       "value": "100% 17/17 [00:09&lt;00:00,  1.72it/s]"
      }
     },
     "608f56b77acc4eccacc5e07508c419c3": {
      "model_module": "@jupyter-widgets/base",
      "model_module_version": "1.1.0",
      "model_name": "LayoutModel",
      "state": {}
     },
     "6108868c8a4e48eea8bb98f6ec709576": {
      "model_module": "@jupyter-widgets/base",
      "model_module_version": "1.1.0",
      "model_name": "LayoutModel",
      "state": {}
     },
     "611a9c0b7bf747ba9c35762a62b95d37": {
      "model_module": "@jupyter-widgets/controls",
      "model_module_version": "1.4.0",
      "model_name": "DescriptionStyleModel",
      "state": {
       "description_width": ""
      }
     },
     "612df4cf99d1418aa996c42170fe995a": {
      "model_module": "@jupyter-widgets/base",
      "model_module_version": "1.1.0",
      "model_name": "LayoutModel",
      "state": {}
     },
     "613430374720430380a0d650b63b0afe": {
      "model_module": "@jupyter-widgets/base",
      "model_module_version": "1.1.0",
      "model_name": "LayoutModel",
      "state": {}
     },
     "61598540162d4d9baa60d700be5307bc": {
      "model_module": "@jupyter-widgets/base",
      "model_module_version": "1.1.0",
      "model_name": "LayoutModel",
      "state": {}
     },
     "616229bfa85b4fee87207a29efcbcba9": {
      "model_module": "@jupyter-widgets/controls",
      "model_module_version": "1.4.0",
      "model_name": "HTMLModel",
      "state": {
       "layout": "IPY_MODEL_91dc7d6d3ec44434805cc838c8a0b38f",
       "style": "IPY_MODEL_6cfe8a7a81ce4b618af63d54539e7f20",
       "value": "100% 17/17 [00:11&lt;00:00,  1.48it/s]"
      }
     },
     "61ca1bee419b4068ab3d585a2268a68f": {
      "model_module": "@jupyter-widgets/base",
      "model_module_version": "1.1.0",
      "model_name": "LayoutModel",
      "state": {}
     },
     "61cb88f9fcbf46219faaa27f510f9239": {
      "model_module": "@jupyter-widgets/controls",
      "model_module_version": "1.4.0",
      "model_name": "DescriptionStyleModel",
      "state": {
       "description_width": ""
      }
     },
     "61d46ad1793a486999ba137a14edc803": {
      "model_module": "@jupyter-widgets/base",
      "model_module_version": "1.1.0",
      "model_name": "LayoutModel",
      "state": {}
     },
     "61e9bb962eba49bfb7c276c9f38070f4": {
      "model_module": "@jupyter-widgets/controls",
      "model_module_version": "1.4.0",
      "model_name": "DescriptionStyleModel",
      "state": {
       "description_width": ""
      }
     },
     "61fda38e627d4d518fa3a4f4b47720e0": {
      "model_module": "@jupyter-widgets/controls",
      "model_module_version": "1.4.0",
      "model_name": "IntProgressModel",
      "state": {
       "layout": "IPY_MODEL_89a783ab75cb4e8da7fefce1c859bb94",
       "max": 17,
       "style": "IPY_MODEL_11e676fbcca04608a2ac9e1ff4b6c8a9",
       "value": 17
      }
     },
     "6238ee5bda3a4874bcd3836acf0c6f04": {
      "model_module": "@jupyter-widgets/base",
      "model_module_version": "1.1.0",
      "model_name": "LayoutModel",
      "state": {}
     },
     "625fa6e18fcd4b42a191fce03730e5e8": {
      "model_module": "@jupyter-widgets/base",
      "model_module_version": "1.1.0",
      "model_name": "LayoutModel",
      "state": {}
     },
     "627850dbd8844e65aebd0955e73115e6": {
      "model_module": "@jupyter-widgets/base",
      "model_module_version": "1.1.0",
      "model_name": "LayoutModel",
      "state": {}
     },
     "6295c8e09a6c4900be79680c144a74cd": {
      "model_module": "@jupyter-widgets/base",
      "model_module_version": "1.1.0",
      "model_name": "LayoutModel",
      "state": {}
     },
     "62971fd2690a4a6da743a2bfb5b6492d": {
      "model_module": "@jupyter-widgets/base",
      "model_module_version": "1.1.0",
      "model_name": "LayoutModel",
      "state": {}
     },
     "62d0c2f4e0a14421a0219e37dfa18d84": {
      "model_module": "@jupyter-widgets/controls",
      "model_module_version": "1.4.0",
      "model_name": "ProgressStyleModel",
      "state": {
       "description_width": ""
      }
     },
     "62e8b1e77cc54f56a83991cae36d5860": {
      "model_module": "@jupyter-widgets/controls",
      "model_module_version": "1.4.0",
      "model_name": "ProgressStyleModel",
      "state": {
       "description_width": ""
      }
     },
     "6312bd9a25d64ec49f7bc52e5eaed7be": {
      "model_module": "@jupyter-widgets/controls",
      "model_module_version": "1.4.0",
      "model_name": "ProgressStyleModel",
      "state": {
       "description_width": ""
      }
     },
     "631365cf207b45cebe85ee8831cf4ee7": {
      "model_module": "@jupyter-widgets/base",
      "model_module_version": "1.1.0",
      "model_name": "LayoutModel",
      "state": {}
     },
     "632f35ef9b684230bbe53b91fd924c3d": {
      "model_module": "@jupyter-widgets/base",
      "model_module_version": "1.1.0",
      "model_name": "LayoutModel",
      "state": {}
     },
     "633b5ca6e08a49f5982a5a9fdfb7e76b": {
      "model_module": "@jupyter-widgets/controls",
      "model_module_version": "1.4.0",
      "model_name": "DescriptionStyleModel",
      "state": {
       "description_width": ""
      }
     },
     "6353ab59d674440dbd56131ba03b6105": {
      "model_module": "@jupyter-widgets/base",
      "model_module_version": "1.1.0",
      "model_name": "LayoutModel",
      "state": {}
     },
     "637861f1b4494f958947da05caf62524": {
      "model_module": "@jupyter-widgets/base",
      "model_module_version": "1.1.0",
      "model_name": "LayoutModel",
      "state": {}
     },
     "6385ae01fae6480aa6aad3088148b57e": {
      "model_module": "@jupyter-widgets/base",
      "model_module_version": "1.1.0",
      "model_name": "LayoutModel",
      "state": {}
     },
     "638c3513c0694ddba82275759030ed45": {
      "model_module": "@jupyter-widgets/controls",
      "model_module_version": "1.4.0",
      "model_name": "HTMLModel",
      "state": {
       "layout": "IPY_MODEL_d8b018f90dfe4eccb56140e05efa18fc",
       "style": "IPY_MODEL_8b10c2a102e04400aabd2ac1de3b4de8",
       "value": " 19% 15/78 [00:00&lt;00:00, 148.78it/s]"
      }
     },
     "639deaf4f356444c8a00d42ce6233a45": {
      "model_module": "@jupyter-widgets/controls",
      "model_module_version": "1.4.0",
      "model_name": "DescriptionStyleModel",
      "state": {
       "description_width": ""
      }
     },
     "63b1f135966d44b884c1002c68d7c800": {
      "model_module": "@jupyter-widgets/base",
      "model_module_version": "1.1.0",
      "model_name": "LayoutModel",
      "state": {}
     },
     "63b57189a3aa423cab2b5e38318a8650": {
      "model_module": "@jupyter-widgets/controls",
      "model_module_version": "1.4.0",
      "model_name": "ProgressStyleModel",
      "state": {
       "description_width": ""
      }
     },
     "63bae3199f26475382d066bd9bf0387b": {
      "model_module": "@jupyter-widgets/base",
      "model_module_version": "1.1.0",
      "model_name": "LayoutModel",
      "state": {}
     },
     "63c2927051f9479a937e6ce5a0b8142c": {
      "model_module": "@jupyter-widgets/controls",
      "model_module_version": "1.4.0",
      "model_name": "HTMLModel",
      "state": {
       "layout": "IPY_MODEL_74949ec197064bc5b6876c6e3ffcd3ec",
       "style": "IPY_MODEL_c01cc39a26af4c8586b09f87ce1a8a7f",
       "value": " 90% 70/78 [00:00&lt;00:00, 346.52it/s]"
      }
     },
     "63d3a69fcfec4f05a58edf76131d8eb1": {
      "model_module": "@jupyter-widgets/controls",
      "model_module_version": "1.4.0",
      "model_name": "DescriptionStyleModel",
      "state": {
       "description_width": ""
      }
     },
     "63f7a133f7844c018315f6df7ca7d771": {
      "model_module": "@jupyter-widgets/controls",
      "model_module_version": "1.4.0",
      "model_name": "DescriptionStyleModel",
      "state": {
       "description_width": ""
      }
     },
     "642c4187ef3049d38d7bcdbbbf3ee5bc": {
      "model_module": "@jupyter-widgets/controls",
      "model_module_version": "1.4.0",
      "model_name": "DescriptionStyleModel",
      "state": {
       "description_width": ""
      }
     },
     "64301b89a7af4e4b84193be107b64ab4": {
      "model_module": "@jupyter-widgets/base",
      "model_module_version": "1.1.0",
      "model_name": "LayoutModel",
      "state": {}
     },
     "64389003554b4586854fb2952443e48f": {
      "model_module": "@jupyter-widgets/controls",
      "model_module_version": "1.4.0",
      "model_name": "ProgressStyleModel",
      "state": {
       "description_width": ""
      }
     },
     "643b7a98ca66458689a3a8a111382889": {
      "model_module": "@jupyter-widgets/controls",
      "model_module_version": "1.4.0",
      "model_name": "ProgressStyleModel",
      "state": {
       "description_width": ""
      }
     },
     "644d63643dde482986baeb3710f4145f": {
      "model_module": "@jupyter-widgets/base",
      "model_module_version": "1.1.0",
      "model_name": "LayoutModel",
      "state": {}
     },
     "645b132daf65478b9c1ccf251174a81a": {
      "model_module": "@jupyter-widgets/controls",
      "model_module_version": "1.4.0",
      "model_name": "HTMLModel",
      "state": {
       "layout": "IPY_MODEL_229be6798f8d45a18ab2bb0d373d3abe",
       "style": "IPY_MODEL_87b49b1165e74845b8b99544da70ac28",
       "value": "100% 17/17 [00:05&lt;00:00,  3.12it/s]"
      }
     },
     "645b4ce647434f3fb3dedd5757aac243": {
      "model_module": "@jupyter-widgets/base",
      "model_module_version": "1.1.0",
      "model_name": "LayoutModel",
      "state": {}
     },
     "6477b386498e4e67951f252b5ba9f67f": {
      "model_module": "@jupyter-widgets/base",
      "model_module_version": "1.1.0",
      "model_name": "LayoutModel",
      "state": {}
     },
     "6478e1cd7ddf41db9f980f5956d117f4": {
      "model_module": "@jupyter-widgets/controls",
      "model_module_version": "1.4.0",
      "model_name": "IntProgressModel",
      "state": {
       "layout": "IPY_MODEL_fdf611cbedaf4582a27e39638edc2cba",
       "max": 17,
       "style": "IPY_MODEL_95f54f1501c14268bf7b0cf068ca2185",
       "value": 17
      }
     },
     "648d5336395641bea6582e53a4ad1a31": {
      "model_module": "@jupyter-widgets/controls",
      "model_module_version": "1.4.0",
      "model_name": "DescriptionStyleModel",
      "state": {
       "description_width": ""
      }
     },
     "64a88a170206483dab57d8f02bd92be1": {
      "model_module": "@jupyter-widgets/controls",
      "model_module_version": "1.4.0",
      "model_name": "IntProgressModel",
      "state": {
       "layout": "IPY_MODEL_defa22223db644cfafb2bd0d575d3cc9",
       "max": 17,
       "style": "IPY_MODEL_0d58fc6c0f6a43e3bee5e74f041947c4",
       "value": 17
      }
     },
     "65098b9dd40244dcb44aa93d6c57bb1c": {
      "model_module": "@jupyter-widgets/controls",
      "model_module_version": "1.4.0",
      "model_name": "DescriptionStyleModel",
      "state": {
       "description_width": ""
      }
     },
     "652dc89c5ebc4808984a013c1b35b519": {
      "model_module": "@jupyter-widgets/controls",
      "model_module_version": "1.4.0",
      "model_name": "ProgressStyleModel",
      "state": {
       "description_width": ""
      }
     },
     "6532944dc38f4c30b91d7ada224e80d3": {
      "model_module": "@jupyter-widgets/controls",
      "model_module_version": "1.4.0",
      "model_name": "DescriptionStyleModel",
      "state": {
       "description_width": ""
      }
     },
     "6548334cfd794e62b4e155be329e45ac": {
      "model_module": "@jupyter-widgets/base",
      "model_module_version": "1.1.0",
      "model_name": "LayoutModel",
      "state": {}
     },
     "65639dc2bb3247cc962356c3c6f7ec16": {
      "model_module": "@jupyter-widgets/base",
      "model_module_version": "1.1.0",
      "model_name": "LayoutModel",
      "state": {}
     },
     "6570821b5b4048479203589250433be4": {
      "model_module": "@jupyter-widgets/controls",
      "model_module_version": "1.4.0",
      "model_name": "DescriptionStyleModel",
      "state": {
       "description_width": ""
      }
     },
     "65b570939fae482081ede103f1dfd728": {
      "model_module": "@jupyter-widgets/base",
      "model_module_version": "1.1.0",
      "model_name": "LayoutModel",
      "state": {}
     },
     "65c17ef5cd104f5baf8939bd4ac6f30f": {
      "model_module": "@jupyter-widgets/controls",
      "model_module_version": "1.4.0",
      "model_name": "ProgressStyleModel",
      "state": {
       "description_width": ""
      }
     },
     "65c45508c34840c0b871d45837400701": {
      "model_module": "@jupyter-widgets/base",
      "model_module_version": "1.1.0",
      "model_name": "LayoutModel",
      "state": {}
     },
     "65e1bad609f049a88670a1a3d99590ce": {
      "model_module": "@jupyter-widgets/controls",
      "model_module_version": "1.4.0",
      "model_name": "IntProgressModel",
      "state": {
       "layout": "IPY_MODEL_3306b7533ff64fa6a5d7ac78080a361f",
       "max": 78,
       "style": "IPY_MODEL_1c96c092936847a6b4fc3843b0aea1d0",
       "value": 45
      }
     },
     "65e250c0a73d43d8812079196de70031": {
      "model_module": "@jupyter-widgets/controls",
      "model_module_version": "1.4.0",
      "model_name": "IntProgressModel",
      "state": {
       "layout": "IPY_MODEL_67348fd75a0b4c81aa961f15f7e2fe4e",
       "max": 78,
       "style": "IPY_MODEL_9d2663e65f1a4e32a487fe0df0f99ec3",
       "value": 32
      }
     },
     "65ebae44e5454f10af3a07ddb241137e": {
      "model_module": "@jupyter-widgets/controls",
      "model_module_version": "1.4.0",
      "model_name": "DescriptionStyleModel",
      "state": {
       "description_width": ""
      }
     },
     "663875a43c0d412eaa10a85c36650d8a": {
      "model_module": "@jupyter-widgets/base",
      "model_module_version": "1.1.0",
      "model_name": "LayoutModel",
      "state": {}
     },
     "663f8ca71a2240df9ecd1a1596537c40": {
      "model_module": "@jupyter-widgets/controls",
      "model_module_version": "1.4.0",
      "model_name": "IntProgressModel",
      "state": {
       "layout": "IPY_MODEL_5e72780507f845fd8b9f07f896b62bab",
       "max": 17,
       "style": "IPY_MODEL_2fb66458fc034250b8b99367e84d5485",
       "value": 17
      }
     },
     "664a0c47e455456dab906709d2931275": {
      "model_module": "@jupyter-widgets/base",
      "model_module_version": "1.1.0",
      "model_name": "LayoutModel",
      "state": {}
     },
     "665bf809c2f94cc182fb0f9a9685ab6c": {
      "model_module": "@jupyter-widgets/controls",
      "model_module_version": "1.4.0",
      "model_name": "DescriptionStyleModel",
      "state": {
       "description_width": ""
      }
     },
     "665fac64db62410983b58db50a11f8da": {
      "model_module": "@jupyter-widgets/controls",
      "model_module_version": "1.4.0",
      "model_name": "IntProgressModel",
      "state": {
       "layout": "IPY_MODEL_6031562b47954b00b2355661b3ea036e",
       "max": 17,
       "style": "IPY_MODEL_55986c71c6214f879e46863f5d5ffa3e",
       "value": 17
      }
     },
     "6675e6f71623478a84e1164f90137c6c": {
      "model_module": "@jupyter-widgets/base",
      "model_module_version": "1.1.0",
      "model_name": "LayoutModel",
      "state": {}
     },
     "6676d062ac36410eadb8f875f3467737": {
      "model_module": "@jupyter-widgets/base",
      "model_module_version": "1.1.0",
      "model_name": "LayoutModel",
      "state": {}
     },
     "66882d6e5b2c4dc08f501f27a0cff85e": {
      "model_module": "@jupyter-widgets/base",
      "model_module_version": "1.1.0",
      "model_name": "LayoutModel",
      "state": {}
     },
     "66a02af78471484b974a1f5c3ec9b8ba": {
      "model_module": "@jupyter-widgets/controls",
      "model_module_version": "1.4.0",
      "model_name": "IntProgressModel",
      "state": {
       "layout": "IPY_MODEL_96cf6a3afc8245ee894186f1abddb0a4",
       "max": 78,
       "style": "IPY_MODEL_8da4679bf7b34b4a9aaaf574f75b8912",
       "value": 13
      }
     },
     "66b891a6c8254597b29b4d223e2ed24f": {
      "model_module": "@jupyter-widgets/base",
      "model_module_version": "1.1.0",
      "model_name": "LayoutModel",
      "state": {}
     },
     "66bcb49bfe0749f1aaf8f56163d1d234": {
      "model_module": "@jupyter-widgets/base",
      "model_module_version": "1.1.0",
      "model_name": "LayoutModel",
      "state": {}
     },
     "66cde734b48a444dbb7ce5f35e837aae": {
      "model_module": "@jupyter-widgets/controls",
      "model_module_version": "1.4.0",
      "model_name": "ProgressStyleModel",
      "state": {
       "description_width": ""
      }
     },
     "66f4c5ae3b964438b97d8445830c4e4a": {
      "model_module": "@jupyter-widgets/controls",
      "model_module_version": "1.4.0",
      "model_name": "HTMLModel",
      "state": {
       "layout": "IPY_MODEL_4c36c9a07ede490fa7391e9c183ae2b3",
       "style": "IPY_MODEL_9ddc9c5eff1b4765bfde8ca0b7072a63",
       "value": "100% 17/17 [00:04&lt;00:00,  3.44it/s]"
      }
     },
     "66fb33bb133a49529a9c2b251c7b411c": {
      "model_module": "@jupyter-widgets/base",
      "model_module_version": "1.1.0",
      "model_name": "LayoutModel",
      "state": {}
     },
     "670078256ea548c4bcf01b8fc04c768c": {
      "model_module": "@jupyter-widgets/base",
      "model_module_version": "1.1.0",
      "model_name": "LayoutModel",
      "state": {}
     },
     "67348fd75a0b4c81aa961f15f7e2fe4e": {
      "model_module": "@jupyter-widgets/base",
      "model_module_version": "1.1.0",
      "model_name": "LayoutModel",
      "state": {}
     },
     "675f61bcaa34473991279140c646d478": {
      "model_module": "@jupyter-widgets/controls",
      "model_module_version": "1.4.0",
      "model_name": "HTMLModel",
      "state": {
       "layout": "IPY_MODEL_a5b06288b1db4ad0913fc2b864e7f301",
       "style": "IPY_MODEL_e0d4be54380a4bfe93f60dd6e710e144",
       "value": " 27% 21/78 [00:00&lt;00:00, 209.81it/s]"
      }
     },
     "67773cb62d804b83859de391b02744c5": {
      "model_module": "@jupyter-widgets/controls",
      "model_module_version": "1.4.0",
      "model_name": "ProgressStyleModel",
      "state": {
       "description_width": ""
      }
     },
     "678301a39b3d46a2adbcd32aaa8faaae": {
      "model_module": "@jupyter-widgets/controls",
      "model_module_version": "1.4.0",
      "model_name": "HTMLModel",
      "state": {
       "layout": "IPY_MODEL_ffc9cca463ff4d25a93dd3582b0d81b8",
       "style": "IPY_MODEL_8c4c49124cb64c60ac5c19cc20b5a311",
       "value": " 24% 19/78 [00:00&lt;00:00, 188.58it/s]"
      }
     },
     "678339d1c8104ef5b7d60dc6d00ee490": {
      "model_module": "@jupyter-widgets/controls",
      "model_module_version": "1.4.0",
      "model_name": "IntProgressModel",
      "state": {
       "layout": "IPY_MODEL_e43e605dfb9e4141846ad2f1bd0fbf84",
       "max": 17,
       "style": "IPY_MODEL_afeafeea13b34b13a2c0498d8ab5a409",
       "value": 17
      }
     },
     "67fd6d41032d48ada2d853df5e457580": {
      "model_module": "@jupyter-widgets/controls",
      "model_module_version": "1.4.0",
      "model_name": "DescriptionStyleModel",
      "state": {
       "description_width": ""
      }
     },
     "682b56a8babe40a1b62bccdbf8e7e7e0": {
      "model_module": "@jupyter-widgets/controls",
      "model_module_version": "1.4.0",
      "model_name": "IntProgressModel",
      "state": {
       "layout": "IPY_MODEL_77810451773e49538995efad934d2b73",
       "max": 17,
       "style": "IPY_MODEL_22b99811ef8d470997fa8e232c1c29af",
       "value": 17
      }
     },
     "682f5efbab234e31b5b32b1b88f68695": {
      "model_module": "@jupyter-widgets/base",
      "model_module_version": "1.1.0",
      "model_name": "LayoutModel",
      "state": {}
     },
     "685f23a7ec884940993cce6fbd198e78": {
      "model_module": "@jupyter-widgets/base",
      "model_module_version": "1.1.0",
      "model_name": "LayoutModel",
      "state": {}
     },
     "68923dd406f14a96a96f1aaee1e2dd27": {
      "model_module": "@jupyter-widgets/base",
      "model_module_version": "1.1.0",
      "model_name": "LayoutModel",
      "state": {}
     },
     "6896a81522884eb39374df21a10f448b": {
      "model_module": "@jupyter-widgets/base",
      "model_module_version": "1.1.0",
      "model_name": "LayoutModel",
      "state": {}
     },
     "68ca2fddfb96483ab53749c37ac91d7b": {
      "model_module": "@jupyter-widgets/base",
      "model_module_version": "1.1.0",
      "model_name": "LayoutModel",
      "state": {}
     },
     "68cf83f6797840b48a13218e0e475a4b": {
      "model_module": "@jupyter-widgets/controls",
      "model_module_version": "1.4.0",
      "model_name": "DescriptionStyleModel",
      "state": {
       "description_width": ""
      }
     },
     "68d6088538414c03a140efd11ca2acd6": {
      "model_module": "@jupyter-widgets/controls",
      "model_module_version": "1.4.0",
      "model_name": "IntProgressModel",
      "state": {
       "layout": "IPY_MODEL_c234e2754aae4458ad185d51460986a5",
       "max": 17,
       "style": "IPY_MODEL_f13cca84365e49d790a447c29afaaa94",
       "value": 17
      }
     },
     "68d8886e16354d00a30327e8147e83c9": {
      "model_module": "@jupyter-widgets/base",
      "model_module_version": "1.1.0",
      "model_name": "LayoutModel",
      "state": {}
     },
     "68e4835cecac43689f6298138391e825": {
      "model_module": "@jupyter-widgets/controls",
      "model_module_version": "1.4.0",
      "model_name": "IntProgressModel",
      "state": {
       "bar_style": "success",
       "layout": "IPY_MODEL_3571e5de33e9426eb819b150d0ee7483",
       "max": 551,
       "style": "IPY_MODEL_28f2f24f5ff346e3b3d8705fc5206077",
       "value": 551
      }
     },
     "68ee4aa1687842afa7175287e5ffd030": {
      "model_module": "@jupyter-widgets/controls",
      "model_module_version": "1.4.0",
      "model_name": "HTMLModel",
      "state": {
       "layout": "IPY_MODEL_3212569c0a594ab4a07f71ac8301a97c",
       "style": "IPY_MODEL_d634113479184bf89054492eaabd8cd2",
       "value": "100% 17/17 [00:05&lt;00:00,  2.88it/s]"
      }
     },
     "68f06bf504ef4988a71a7a95bf4ff01b": {
      "model_module": "@jupyter-widgets/controls",
      "model_module_version": "1.4.0",
      "model_name": "DescriptionStyleModel",
      "state": {
       "description_width": ""
      }
     },
     "6905653369db4ea0a4a4a928455cebe5": {
      "model_module": "@jupyter-widgets/controls",
      "model_module_version": "1.4.0",
      "model_name": "ProgressStyleModel",
      "state": {
       "description_width": ""
      }
     },
     "694a004a80b64a5a8ab687626604a4b9": {
      "model_module": "@jupyter-widgets/controls",
      "model_module_version": "1.4.0",
      "model_name": "IntProgressModel",
      "state": {
       "layout": "IPY_MODEL_042268b2734342e1b8290b7a9490b223",
       "max": 17,
       "style": "IPY_MODEL_7f0bfd0b874e46218a0e1c682f17b76e",
       "value": 17
      }
     },
     "695b20943afe4469aeae273a108590cc": {
      "model_module": "@jupyter-widgets/controls",
      "model_module_version": "1.4.0",
      "model_name": "DescriptionStyleModel",
      "state": {
       "description_width": ""
      }
     },
     "6982bbf7eaa2427a922bb7f7e10bbc5e": {
      "model_module": "@jupyter-widgets/controls",
      "model_module_version": "1.4.0",
      "model_name": "ProgressStyleModel",
      "state": {
       "description_width": ""
      }
     },
     "698497b8192f49aa87641ba632e8504b": {
      "model_module": "@jupyter-widgets/controls",
      "model_module_version": "1.4.0",
      "model_name": "IntProgressModel",
      "state": {
       "layout": "IPY_MODEL_369741fa58ed43e4b60cd46c6168f93b",
       "max": 17,
       "style": "IPY_MODEL_1ec5f574d42347f4924f1b7fcc77385c",
       "value": 17
      }
     },
     "698f3527dcb24f9b8e5c0a7b894af917": {
      "model_module": "@jupyter-widgets/base",
      "model_module_version": "1.1.0",
      "model_name": "LayoutModel",
      "state": {}
     },
     "69a157c7fee24c16bdf41883f266ce3e": {
      "model_module": "@jupyter-widgets/base",
      "model_module_version": "1.1.0",
      "model_name": "LayoutModel",
      "state": {}
     },
     "69d06be9dd7d4238bb021fcba237ffdc": {
      "model_module": "@jupyter-widgets/controls",
      "model_module_version": "1.4.0",
      "model_name": "ProgressStyleModel",
      "state": {
       "description_width": ""
      }
     },
     "69ddeb0dbebf4599a7a0f99a61b89e6a": {
      "model_module": "@jupyter-widgets/controls",
      "model_module_version": "1.4.0",
      "model_name": "DescriptionStyleModel",
      "state": {
       "description_width": ""
      }
     },
     "69f5ef1188dd4153b7d040b230ca3f9f": {
      "model_module": "@jupyter-widgets/controls",
      "model_module_version": "1.4.0",
      "model_name": "HTMLModel",
      "state": {
       "layout": "IPY_MODEL_fb341b0ad7c6448ba6a10397d80d672a",
       "style": "IPY_MODEL_5476d763e3084bf5b6f8b443b4ccd270",
       "value": "100% 78/78 [00:00&lt;00:00, 156.19it/s]"
      }
     },
     "6a119906910b40248e99c8e2957a2fff": {
      "model_module": "@jupyter-widgets/controls",
      "model_module_version": "1.4.0",
      "model_name": "IntProgressModel",
      "state": {
       "layout": "IPY_MODEL_528fb9beb35f4cb5801bfc38b868f4d6",
       "max": 17,
       "style": "IPY_MODEL_36d96faad0cc42e0afe987816ca456ef",
       "value": 17
      }
     },
     "6a1b5a3e71ce4bb680e4e2d61687949a": {
      "model_module": "@jupyter-widgets/controls",
      "model_module_version": "1.4.0",
      "model_name": "IntProgressModel",
      "state": {
       "layout": "IPY_MODEL_826bef69ab1a478eb2569529c31eeaf8",
       "max": 17,
       "style": "IPY_MODEL_d7100ad0b93c4f249216e8b565ccd494",
       "value": 17
      }
     },
     "6a31710c75c04ce49f594bf30f02eeda": {
      "model_module": "@jupyter-widgets/base",
      "model_module_version": "1.1.0",
      "model_name": "LayoutModel",
      "state": {}
     },
     "6a362d07e3f24f39a9d31af0b8ccfa15": {
      "model_module": "@jupyter-widgets/controls",
      "model_module_version": "1.4.0",
      "model_name": "HTMLModel",
      "state": {
       "layout": "IPY_MODEL_1053dc7684af44b0b65d295213b04b2c",
       "style": "IPY_MODEL_000e7052e4d54e5c9ccae20c3ce411f2",
       "value": "100% 17/17 [00:07&lt;00:00,  2.37it/s]"
      }
     },
     "6a3a68cde1564199ba3c77dbdce6d23d": {
      "model_module": "@jupyter-widgets/controls",
      "model_module_version": "1.4.0",
      "model_name": "HTMLModel",
      "state": {
       "layout": "IPY_MODEL_dbdb3799b8f24610896944cbcd79e30d",
       "style": "IPY_MODEL_70cd5ec134074447826c4a8072a267b2",
       "value": "100% 17/17 [00:10&lt;00:00,  1.60it/s]"
      }
     },
     "6a4c21ce463e49d5824499a5111a3357": {
      "model_module": "@jupyter-widgets/base",
      "model_module_version": "1.1.0",
      "model_name": "LayoutModel",
      "state": {}
     },
     "6a52c9f1fe88480e9f0d7520d1f1b8ab": {
      "model_module": "@jupyter-widgets/base",
      "model_module_version": "1.1.0",
      "model_name": "LayoutModel",
      "state": {}
     },
     "6a61d82a9d814178ad8bcf5464f5b2d2": {
      "model_module": "@jupyter-widgets/base",
      "model_module_version": "1.1.0",
      "model_name": "LayoutModel",
      "state": {}
     },
     "6a699f8c7c6944aa8e1f5aa7c409dbea": {
      "model_module": "@jupyter-widgets/controls",
      "model_module_version": "1.4.0",
      "model_name": "HTMLModel",
      "state": {
       "layout": "IPY_MODEL_d81868f4a63c428c874771e89763496a",
       "style": "IPY_MODEL_ca34beef526043c78b7845d22d6e0d7f",
       "value": "100% 17/17 [00:08&lt;00:00,  2.00it/s]"
      }
     },
     "6a91d5acc18f4a97bf6af87b29cd7187": {
      "model_module": "@jupyter-widgets/base",
      "model_module_version": "1.1.0",
      "model_name": "LayoutModel",
      "state": {}
     },
     "6ac57486e161481098733899cf4f07b3": {
      "model_module": "@jupyter-widgets/controls",
      "model_module_version": "1.4.0",
      "model_name": "IntProgressModel",
      "state": {
       "layout": "IPY_MODEL_7a5dbc0e2a89428199b13630a74e664f",
       "max": 17,
       "style": "IPY_MODEL_3d5494afb00a435f94d434f027ef2004",
       "value": 17
      }
     },
     "6ac5ec865f2949a1903db22d79ac23dd": {
      "model_module": "@jupyter-widgets/base",
      "model_module_version": "1.1.0",
      "model_name": "LayoutModel",
      "state": {}
     },
     "6ac860c69fbf4f10ace5eaeaded912ac": {
      "model_module": "@jupyter-widgets/base",
      "model_module_version": "1.1.0",
      "model_name": "LayoutModel",
      "state": {}
     },
     "6acb685cf5944660887106246148bf88": {
      "model_module": "@jupyter-widgets/controls",
      "model_module_version": "1.4.0",
      "model_name": "ProgressStyleModel",
      "state": {
       "description_width": ""
      }
     },
     "6b345407dd73482ebb123d2f70a1f0d7": {
      "model_module": "@jupyter-widgets/base",
      "model_module_version": "1.1.0",
      "model_name": "LayoutModel",
      "state": {}
     },
     "6b44eb54ea2f4d14891de1d21706ac06": {
      "model_module": "@jupyter-widgets/base",
      "model_module_version": "1.1.0",
      "model_name": "LayoutModel",
      "state": {}
     },
     "6b59ed77e5ce44b09ca91d00f463b3ba": {
      "model_module": "@jupyter-widgets/base",
      "model_module_version": "1.1.0",
      "model_name": "LayoutModel",
      "state": {}
     },
     "6b5ea9321ec049bfa7326fd2544e8666": {
      "model_module": "@jupyter-widgets/base",
      "model_module_version": "1.1.0",
      "model_name": "LayoutModel",
      "state": {}
     },
     "6ba88023d4d341cb8c2add7ae472f608": {
      "model_module": "@jupyter-widgets/controls",
      "model_module_version": "1.4.0",
      "model_name": "HTMLModel",
      "state": {
       "layout": "IPY_MODEL_300a4dc4bc2b4d228cc8e334c2bc4adb",
       "style": "IPY_MODEL_5e346c2d76464747a409a8bfa6bec09b",
       "value": " 40% 31/78 [00:00&lt;00:00, 281.08it/s]"
      }
     },
     "6bf754b39d8e413eb3a61db99dc25e16": {
      "model_module": "@jupyter-widgets/controls",
      "model_module_version": "1.4.0",
      "model_name": "DescriptionStyleModel",
      "state": {
       "description_width": ""
      }
     },
     "6bfe22d30b35425996f25c14a12032ed": {
      "model_module": "@jupyter-widgets/base",
      "model_module_version": "1.1.0",
      "model_name": "LayoutModel",
      "state": {}
     },
     "6c0401b028ae4d9bb5aa0517b41f06e5": {
      "model_module": "@jupyter-widgets/controls",
      "model_module_version": "1.4.0",
      "model_name": "ProgressStyleModel",
      "state": {
       "description_width": ""
      }
     },
     "6c0dad8aaeaf454cb6ee9259f230cec8": {
      "model_module": "@jupyter-widgets/controls",
      "model_module_version": "1.4.0",
      "model_name": "ProgressStyleModel",
      "state": {
       "description_width": ""
      }
     },
     "6c0e46648f664c83a52743c62f925e7a": {
      "model_module": "@jupyter-widgets/controls",
      "model_module_version": "1.4.0",
      "model_name": "ProgressStyleModel",
      "state": {
       "description_width": ""
      }
     },
     "6c132f965eea4d15a8066aafb9af3c3c": {
      "model_module": "@jupyter-widgets/base",
      "model_module_version": "1.1.0",
      "model_name": "LayoutModel",
      "state": {}
     },
     "6c3ad10b9bb94ff19dfbe8a60f65319b": {
      "model_module": "@jupyter-widgets/controls",
      "model_module_version": "1.4.0",
      "model_name": "DescriptionStyleModel",
      "state": {
       "description_width": ""
      }
     },
     "6c3e2733b3564d4e985ae452f441500c": {
      "model_module": "@jupyter-widgets/controls",
      "model_module_version": "1.4.0",
      "model_name": "IntProgressModel",
      "state": {
       "layout": "IPY_MODEL_06c35863739749e084ac225c06de0a4b",
       "max": 78,
       "style": "IPY_MODEL_0addcf627d654174a426abd3d17a94e7",
       "value": 77
      }
     },
     "6c3ff315ccc14acfb6b706b1689a6859": {
      "model_module": "@jupyter-widgets/controls",
      "model_module_version": "1.4.0",
      "model_name": "IntProgressModel",
      "state": {
       "layout": "IPY_MODEL_a500c4f9b3f94603b7aa015850146472",
       "max": 78,
       "style": "IPY_MODEL_ac13af03826944a9a41d0b27efcfbb91",
       "value": 26
      }
     },
     "6c77a06393bb49ffa5d0cdc58b1824d6": {
      "model_module": "@jupyter-widgets/controls",
      "model_module_version": "1.4.0",
      "model_name": "ProgressStyleModel",
      "state": {
       "description_width": ""
      }
     },
     "6c78d7512686411b8b11e21f58f10f05": {
      "model_module": "@jupyter-widgets/base",
      "model_module_version": "1.1.0",
      "model_name": "LayoutModel",
      "state": {}
     },
     "6c826679665443799f06e6df94ffde66": {
      "model_module": "@jupyter-widgets/controls",
      "model_module_version": "1.4.0",
      "model_name": "ProgressStyleModel",
      "state": {
       "description_width": ""
      }
     },
     "6c89b015341b41c9898fd314e4a161e7": {
      "model_module": "@jupyter-widgets/controls",
      "model_module_version": "1.4.0",
      "model_name": "ProgressStyleModel",
      "state": {
       "description_width": ""
      }
     },
     "6cdc1105e6df413bb2370245850e7ceb": {
      "model_module": "@jupyter-widgets/controls",
      "model_module_version": "1.4.0",
      "model_name": "HTMLModel",
      "state": {
       "layout": "IPY_MODEL_45b2e297e70d452db9eb3814713af45e",
       "style": "IPY_MODEL_a8982b83587843b99e347eb82df88d91",
       "value": "100% 17/17 [00:07&lt;00:00,  2.40it/s]"
      }
     },
     "6cfe8a7a81ce4b618af63d54539e7f20": {
      "model_module": "@jupyter-widgets/controls",
      "model_module_version": "1.4.0",
      "model_name": "DescriptionStyleModel",
      "state": {
       "description_width": ""
      }
     },
     "6d0fda76180243aab4d3eae6f3cbaa83": {
      "model_module": "@jupyter-widgets/base",
      "model_module_version": "1.1.0",
      "model_name": "LayoutModel",
      "state": {}
     },
     "6d5012de6abe4de8924abff83c037635": {
      "model_module": "@jupyter-widgets/controls",
      "model_module_version": "1.4.0",
      "model_name": "DescriptionStyleModel",
      "state": {
       "description_width": ""
      }
     },
     "6d67b6e97c11482ea79b1c1924c047dc": {
      "model_module": "@jupyter-widgets/base",
      "model_module_version": "1.1.0",
      "model_name": "LayoutModel",
      "state": {}
     },
     "6da2ebfedd3c417f9b2c97f650dd3fa5": {
      "model_module": "@jupyter-widgets/base",
      "model_module_version": "1.1.0",
      "model_name": "LayoutModel",
      "state": {}
     },
     "6dabf7b7b2564c98820fc5e6ac6ebef3": {
      "model_module": "@jupyter-widgets/controls",
      "model_module_version": "1.4.0",
      "model_name": "IntProgressModel",
      "state": {
       "layout": "IPY_MODEL_453adfd7214b47b2b4eff59a74ad858f",
       "max": 78,
       "style": "IPY_MODEL_e21d0a237578453b94c0ac889a1a6bd3",
       "value": 58
      }
     },
     "6e0805a1598b406aa67efa71d3b49712": {
      "model_module": "@jupyter-widgets/controls",
      "model_module_version": "1.4.0",
      "model_name": "HBoxModel",
      "state": {
       "children": [
        "IPY_MODEL_6f5db478c75a444ab741a6b8b679b0ed",
        "IPY_MODEL_dde7dd80aaf94b36878f57dbd721c8e4"
       ],
       "layout": "IPY_MODEL_77c6f457a1084b3eb84a96f60574822f"
      }
     },
     "6e2bd9866ab444e3a388f4dc40e49698": {
      "model_module": "@jupyter-widgets/controls",
      "model_module_version": "1.4.0",
      "model_name": "ProgressStyleModel",
      "state": {
       "description_width": ""
      }
     },
     "6e2fad8ff53b40a4a0321d3f4b35ef2a": {
      "model_module": "@jupyter-widgets/controls",
      "model_module_version": "1.4.0",
      "model_name": "IntProgressModel",
      "state": {
       "layout": "IPY_MODEL_33e5abb6a2a349d4945f81b78ffb72d1",
       "max": 17,
       "style": "IPY_MODEL_dd4cfa85755641019bcaeb132db71e3c",
       "value": 17
      }
     },
     "6e55a18c8dd142ad944f93b2a3a26629": {
      "model_module": "@jupyter-widgets/controls",
      "model_module_version": "1.4.0",
      "model_name": "IntProgressModel",
      "state": {
       "layout": "IPY_MODEL_729354e0ef7d4369a6e87a55c38990d0",
       "max": 17,
       "style": "IPY_MODEL_4c57342aa125423ab8cd7e640b5f5a5d",
       "value": 17
      }
     },
     "6e8ecf578aad4100b98aced3ec805af8": {
      "model_module": "@jupyter-widgets/controls",
      "model_module_version": "1.4.0",
      "model_name": "DescriptionStyleModel",
      "state": {
       "description_width": ""
      }
     },
     "6eab5f0d36094665a734cb79fa5aff1e": {
      "model_module": "@jupyter-widgets/controls",
      "model_module_version": "1.4.0",
      "model_name": "IntProgressModel",
      "state": {
       "layout": "IPY_MODEL_d36568dfc4064bb8a56344ad31ad80f2",
       "max": 17,
       "style": "IPY_MODEL_822ae7f711d3410d9ceeb34da402210d",
       "value": 17
      }
     },
     "6eb4bdfc53a345389620e53a51702271": {
      "model_module": "@jupyter-widgets/base",
      "model_module_version": "1.1.0",
      "model_name": "LayoutModel",
      "state": {}
     },
     "6eed490ae1c745d9ad90882b880022ac": {
      "model_module": "@jupyter-widgets/controls",
      "model_module_version": "1.4.0",
      "model_name": "HTMLModel",
      "state": {
       "layout": "IPY_MODEL_8e68fe5db9ba43ed9973191557c2a45e",
       "style": "IPY_MODEL_7727670a65384c48822ba780a6bfe6e9",
       "value": " 74% 58/78 [00:00&lt;00:00, 287.03it/s]"
      }
     },
     "6ef2e7b41de34d828e46ba62e189e820": {
      "model_module": "@jupyter-widgets/controls",
      "model_module_version": "1.4.0",
      "model_name": "HTMLModel",
      "state": {
       "layout": "IPY_MODEL_1f6089b01ba84575bf075b3b89cd9cef",
       "style": "IPY_MODEL_eb79d5bcdc0a4507a91c160345769e22",
       "value": "100% 17/17 [00:06&lt;00:00,  2.68it/s]"
      }
     },
     "6f5db478c75a444ab741a6b8b679b0ed": {
      "model_module": "@jupyter-widgets/controls",
      "model_module_version": "1.4.0",
      "model_name": "IntProgressModel",
      "state": {
       "bar_style": "success",
       "layout": "IPY_MODEL_b88ac596eb2d40aca9569f64b78c319e",
       "max": 50,
       "style": "IPY_MODEL_a0894ccda94b4415b3d6467bc35ce26c",
       "value": 50
      }
     },
     "6f6762b7d0b540c3a11e5d5b49f11c6d": {
      "model_module": "@jupyter-widgets/base",
      "model_module_version": "1.1.0",
      "model_name": "LayoutModel",
      "state": {}
     },
     "6f7281362cf7401b8baadc87ee5457e6": {
      "model_module": "@jupyter-widgets/base",
      "model_module_version": "1.1.0",
      "model_name": "LayoutModel",
      "state": {}
     },
     "6f7e72a27b7644c7873252d2de6cfb2b": {
      "model_module": "@jupyter-widgets/base",
      "model_module_version": "1.1.0",
      "model_name": "LayoutModel",
      "state": {}
     },
     "6f8030a543a74456ba65eb2b578407c1": {
      "model_module": "@jupyter-widgets/controls",
      "model_module_version": "1.4.0",
      "model_name": "DescriptionStyleModel",
      "state": {
       "description_width": ""
      }
     },
     "6f83b6daafd74087853745c12dc0c5a1": {
      "model_module": "@jupyter-widgets/controls",
      "model_module_version": "1.4.0",
      "model_name": "ProgressStyleModel",
      "state": {
       "description_width": ""
      }
     },
     "6f84521eac504c4a939efeb3b3700e7f": {
      "model_module": "@jupyter-widgets/controls",
      "model_module_version": "1.4.0",
      "model_name": "DescriptionStyleModel",
      "state": {
       "description_width": ""
      }
     },
     "6f9d44b960a64735bf721f2a1125663e": {
      "model_module": "@jupyter-widgets/controls",
      "model_module_version": "1.4.0",
      "model_name": "DescriptionStyleModel",
      "state": {
       "description_width": ""
      }
     },
     "6fad7bedf9d44e268502287070628f25": {
      "model_module": "@jupyter-widgets/base",
      "model_module_version": "1.1.0",
      "model_name": "LayoutModel",
      "state": {}
     },
     "6fb25524648e453297cecd8852a68894": {
      "model_module": "@jupyter-widgets/controls",
      "model_module_version": "1.4.0",
      "model_name": "IntProgressModel",
      "state": {
       "layout": "IPY_MODEL_d1526d9061fc49a7846f5a8c87d3e374",
       "max": 17,
       "style": "IPY_MODEL_23ef0ab1b1b643019e05c701a8aa3458",
       "value": 17
      }
     },
     "6fe8e519a4ba4d0b870103e7bb22a41d": {
      "model_module": "@jupyter-widgets/base",
      "model_module_version": "1.1.0",
      "model_name": "LayoutModel",
      "state": {}
     },
     "700955ea40394f478be1a89a7e3a858e": {
      "model_module": "@jupyter-widgets/controls",
      "model_module_version": "1.4.0",
      "model_name": "HTMLModel",
      "state": {
       "layout": "IPY_MODEL_a7b994bf0af94981830f52461dcb4618",
       "style": "IPY_MODEL_47bcd97fd41a4430a21c4827198cf0a9",
       "value": " 81% 63/78 [00:00&lt;00:00, 307.14it/s]"
      }
     },
     "701c126eed0d48bca740acbf188c8762": {
      "model_module": "@jupyter-widgets/base",
      "model_module_version": "1.1.0",
      "model_name": "LayoutModel",
      "state": {}
     },
     "7038ed53f44e487a8f12296eef686df2": {
      "model_module": "@jupyter-widgets/base",
      "model_module_version": "1.1.0",
      "model_name": "LayoutModel",
      "state": {}
     },
     "705a720067704247961af91bd060c06a": {
      "model_module": "@jupyter-widgets/controls",
      "model_module_version": "1.4.0",
      "model_name": "IntProgressModel",
      "state": {
       "layout": "IPY_MODEL_0a49d1505fa4485899ecf6ce1dd26758",
       "max": 78,
       "style": "IPY_MODEL_5c0a841f7ba14725a21a015d582ef31a",
       "value": 36
      }
     },
     "706233add8b54d1f9e54efa111ad9eeb": {
      "model_module": "@jupyter-widgets/base",
      "model_module_version": "1.1.0",
      "model_name": "LayoutModel",
      "state": {}
     },
     "706ac70a7f6248ada197c9832fd5deee": {
      "model_module": "@jupyter-widgets/controls",
      "model_module_version": "1.4.0",
      "model_name": "ProgressStyleModel",
      "state": {
       "description_width": ""
      }
     },
     "706eaa09be23483b8364f4b0b7a3e272": {
      "model_module": "@jupyter-widgets/base",
      "model_module_version": "1.1.0",
      "model_name": "LayoutModel",
      "state": {}
     },
     "7077e535abab45909240639ce8a2ee14": {
      "model_module": "@jupyter-widgets/controls",
      "model_module_version": "1.4.0",
      "model_name": "HTMLModel",
      "state": {
       "layout": "IPY_MODEL_49731b6f66b3462981cc20a90bfa3c79",
       "style": "IPY_MODEL_3e5ef60dbdc04f2bb87d6a7a3fde1b11",
       "value": " 91% 71/78 [00:00&lt;00:00, 353.13it/s]"
      }
     },
     "708f3ae27e4949238b8970392654c4e0": {
      "model_module": "@jupyter-widgets/base",
      "model_module_version": "1.1.0",
      "model_name": "LayoutModel",
      "state": {}
     },
     "709643f4e08c43c6b346e59024d880fd": {
      "model_module": "@jupyter-widgets/base",
      "model_module_version": "1.1.0",
      "model_name": "LayoutModel",
      "state": {}
     },
     "70a8419de8b143d2b00eb80a6083e12b": {
      "model_module": "@jupyter-widgets/base",
      "model_module_version": "1.1.0",
      "model_name": "LayoutModel",
      "state": {}
     },
     "70cd5ec134074447826c4a8072a267b2": {
      "model_module": "@jupyter-widgets/controls",
      "model_module_version": "1.4.0",
      "model_name": "DescriptionStyleModel",
      "state": {
       "description_width": ""
      }
     },
     "70fe799f221c4720b09774ed180764aa": {
      "model_module": "@jupyter-widgets/controls",
      "model_module_version": "1.4.0",
      "model_name": "HTMLModel",
      "state": {
       "layout": "IPY_MODEL_43c715a89eb4445ab64af363ef4346a7",
       "style": "IPY_MODEL_e330fdb06d834cb895018b60917a8693",
       "value": " 94% 73/78 [00:00&lt;00:00, 688.88it/s]"
      }
     },
     "7106ff0f1ee643e4a64e3b2b76090de4": {
      "model_module": "@jupyter-widgets/controls",
      "model_module_version": "1.4.0",
      "model_name": "DescriptionStyleModel",
      "state": {
       "description_width": ""
      }
     },
     "71093dfe5bff47d4936d1c88621c7c90": {
      "model_module": "@jupyter-widgets/base",
      "model_module_version": "1.1.0",
      "model_name": "LayoutModel",
      "state": {}
     },
     "710dc77320384763acb51ba6c4736878": {
      "model_module": "@jupyter-widgets/controls",
      "model_module_version": "1.4.0",
      "model_name": "DescriptionStyleModel",
      "state": {
       "description_width": ""
      }
     },
     "710f1dbbea654ab8b8a8980bb805c7ac": {
      "model_module": "@jupyter-widgets/base",
      "model_module_version": "1.1.0",
      "model_name": "LayoutModel",
      "state": {}
     },
     "7129fe57caec40038e96ddec8a6e4504": {
      "model_module": "@jupyter-widgets/controls",
      "model_module_version": "1.4.0",
      "model_name": "HTMLModel",
      "state": {
       "layout": "IPY_MODEL_1481fc262b38408cb862cbbfc36832be",
       "style": "IPY_MODEL_997c2c92b63940e99027bc02780ef27c",
       "value": " 12% 9/78 [00:00&lt;00:00, 86.02it/s]"
      }
     },
     "71493e2469444c1680c387310ed02a22": {
      "model_module": "@jupyter-widgets/controls",
      "model_module_version": "1.4.0",
      "model_name": "HTMLModel",
      "state": {
       "layout": "IPY_MODEL_a13bb5fd7c364b0aad9562eaf1d2cb0a",
       "style": "IPY_MODEL_b38a0e819e5e4b2a8dd1c3bee89b20e1",
       "value": "100% 17/17 [00:05&lt;00:00,  2.87it/s]"
      }
     },
     "715bbdaa9fd649d98ef2cad0300b87d3": {
      "model_module": "@jupyter-widgets/base",
      "model_module_version": "1.1.0",
      "model_name": "LayoutModel",
      "state": {}
     },
     "715c1b27f64d4c4e94c81a49001b9024": {
      "model_module": "@jupyter-widgets/base",
      "model_module_version": "1.1.0",
      "model_name": "LayoutModel",
      "state": {}
     },
     "716f08f3723f48c6832f978ed90b162e": {
      "model_module": "@jupyter-widgets/base",
      "model_module_version": "1.1.0",
      "model_name": "LayoutModel",
      "state": {}
     },
     "7173102e38d94eb0aa2d694fc0b1e4b4": {
      "model_module": "@jupyter-widgets/controls",
      "model_module_version": "1.4.0",
      "model_name": "HTMLModel",
      "state": {
       "layout": "IPY_MODEL_a8eb4f4030ec4a86af70138abf98fc6e",
       "style": "IPY_MODEL_4b48b2da22384d67896ac3d4ed77819a",
       "value": " 54% 42/78 [00:00&lt;00:00, 196.18it/s]"
      }
     },
     "7175c1c19fa744edae46c6b67f15da6a": {
      "model_module": "@jupyter-widgets/controls",
      "model_module_version": "1.4.0",
      "model_name": "ProgressStyleModel",
      "state": {
       "description_width": ""
      }
     },
     "7176b71861544258ab27216943e88731": {
      "model_module": "@jupyter-widgets/controls",
      "model_module_version": "1.4.0",
      "model_name": "DescriptionStyleModel",
      "state": {
       "description_width": ""
      }
     },
     "717b858d4f794e10a2d9b5955bd37af4": {
      "model_module": "@jupyter-widgets/controls",
      "model_module_version": "1.4.0",
      "model_name": "HTMLModel",
      "state": {
       "layout": "IPY_MODEL_38542e0a16cb41f399fed64df71b3424",
       "style": "IPY_MODEL_1a814330cff6414d8fab99ff40a4996c",
       "value": "100% 17/17 [00:05&lt;00:00,  2.96it/s]"
      }
     },
     "718cf6a7cd5d4179ae4a71ed992acdad": {
      "model_module": "@jupyter-widgets/controls",
      "model_module_version": "1.4.0",
      "model_name": "ProgressStyleModel",
      "state": {
       "description_width": ""
      }
     },
     "71a1ed0834e54af5a72e7207c8eef9bf": {
      "model_module": "@jupyter-widgets/controls",
      "model_module_version": "1.4.0",
      "model_name": "IntProgressModel",
      "state": {
       "layout": "IPY_MODEL_05dbd00f6d3e4a16acb48e5bad477fa4",
       "max": 17,
       "style": "IPY_MODEL_d01b7109d3434e5da2b54c90cd54014c",
       "value": 17
      }
     },
     "71c88af580a34b569bc1afd11edc82f6": {
      "model_module": "@jupyter-widgets/controls",
      "model_module_version": "1.4.0",
      "model_name": "ProgressStyleModel",
      "state": {
       "description_width": ""
      }
     },
     "71f9f96f6d6b4275b7261ac8cc937724": {
      "model_module": "@jupyter-widgets/base",
      "model_module_version": "1.1.0",
      "model_name": "LayoutModel",
      "state": {}
     },
     "71fafd16cd7842baaf8bd21038093025": {
      "model_module": "@jupyter-widgets/base",
      "model_module_version": "1.1.0",
      "model_name": "LayoutModel",
      "state": {}
     },
     "720ed2a7e858468baff2599b564c4e08": {
      "model_module": "@jupyter-widgets/controls",
      "model_module_version": "1.4.0",
      "model_name": "DescriptionStyleModel",
      "state": {
       "description_width": ""
      }
     },
     "721e5866f07e4f6e8ca3d0581378c2b7": {
      "model_module": "@jupyter-widgets/base",
      "model_module_version": "1.1.0",
      "model_name": "LayoutModel",
      "state": {}
     },
     "72400b7d3e4341549d9ede4bfcd65699": {
      "model_module": "@jupyter-widgets/controls",
      "model_module_version": "1.4.0",
      "model_name": "DescriptionStyleModel",
      "state": {
       "description_width": ""
      }
     },
     "7246a9c894ae4ac2ad40b0577bde6a6a": {
      "model_module": "@jupyter-widgets/controls",
      "model_module_version": "1.4.0",
      "model_name": "IntProgressModel",
      "state": {
       "layout": "IPY_MODEL_72794a9fe30b4624b624cabe3faea8d6",
       "max": 78,
       "style": "IPY_MODEL_fc1f7020f0634168a0c303c76a4083bb",
       "value": 18
      }
     },
     "72794a9fe30b4624b624cabe3faea8d6": {
      "model_module": "@jupyter-widgets/base",
      "model_module_version": "1.1.0",
      "model_name": "LayoutModel",
      "state": {}
     },
     "729354e0ef7d4369a6e87a55c38990d0": {
      "model_module": "@jupyter-widgets/base",
      "model_module_version": "1.1.0",
      "model_name": "LayoutModel",
      "state": {}
     },
     "72ea72715b4b43448002b4de6ea8cd22": {
      "model_module": "@jupyter-widgets/base",
      "model_module_version": "1.1.0",
      "model_name": "LayoutModel",
      "state": {}
     },
     "7307970cc6cc48ac8f7f85df3370ee75": {
      "model_module": "@jupyter-widgets/controls",
      "model_module_version": "1.4.0",
      "model_name": "DescriptionStyleModel",
      "state": {
       "description_width": ""
      }
     },
     "731becc8af3a4e8298b36ecd7a0efb4b": {
      "model_module": "@jupyter-widgets/base",
      "model_module_version": "1.1.0",
      "model_name": "LayoutModel",
      "state": {}
     },
     "732e48d5570644a495b0cd3ea37ef372": {
      "model_module": "@jupyter-widgets/controls",
      "model_module_version": "1.4.0",
      "model_name": "DescriptionStyleModel",
      "state": {
       "description_width": ""
      }
     },
     "734244c4369f496789ef38515f9a0606": {
      "model_module": "@jupyter-widgets/base",
      "model_module_version": "1.1.0",
      "model_name": "LayoutModel",
      "state": {}
     },
     "7346988b65d94edfab59fab5d3e807ff": {
      "model_module": "@jupyter-widgets/controls",
      "model_module_version": "1.4.0",
      "model_name": "IntProgressModel",
      "state": {
       "layout": "IPY_MODEL_22dcef63ba334dd48379d6c3ef006bcf",
       "max": 17,
       "style": "IPY_MODEL_91bbd10ce748459cbef7ddafc8a870a8",
       "value": 17
      }
     },
     "735bfafd3b2941788b7adc934afc2047": {
      "model_module": "@jupyter-widgets/controls",
      "model_module_version": "1.4.0",
      "model_name": "DescriptionStyleModel",
      "state": {
       "description_width": ""
      }
     },
     "7387ee0702e04f23a585548a8bc7d1c2": {
      "model_module": "@jupyter-widgets/base",
      "model_module_version": "1.1.0",
      "model_name": "LayoutModel",
      "state": {}
     },
     "73d35d9ee311428aa9b0929090f0df28": {
      "model_module": "@jupyter-widgets/base",
      "model_module_version": "1.1.0",
      "model_name": "LayoutModel",
      "state": {}
     },
     "73d413a8767c40e99f502d2154116531": {
      "model_module": "@jupyter-widgets/controls",
      "model_module_version": "1.4.0",
      "model_name": "IntProgressModel",
      "state": {
       "bar_style": "success",
       "layout": "IPY_MODEL_e3624ca7631546149bcd32118aa17e91",
       "max": 551,
       "style": "IPY_MODEL_fbed393eda024b5eb9d6bf6ab4c3efa2",
       "value": 551
      }
     },
     "73dc8768038c4f9fb990b28a28872507": {
      "model_module": "@jupyter-widgets/controls",
      "model_module_version": "1.4.0",
      "model_name": "IntProgressModel",
      "state": {
       "layout": "IPY_MODEL_37ace068b95647ce9d82602f1be7933f",
       "max": 17,
       "style": "IPY_MODEL_11a5ff8320b0483bbd777de4468a65a7",
       "value": 17
      }
     },
     "73ea230a0d4b4919a2b1b46e8ad72b3c": {
      "model_module": "@jupyter-widgets/controls",
      "model_module_version": "1.4.0",
      "model_name": "HTMLModel",
      "state": {
       "layout": "IPY_MODEL_685f23a7ec884940993cce6fbd198e78",
       "style": "IPY_MODEL_eab3f7ab8c5a4623973dd2b9c6aa96e9",
       "value": "100% 17/17 [00:06&lt;00:00,  2.52it/s]"
      }
     },
     "73fe314b06644b4dba42e7666301af05": {
      "model_module": "@jupyter-widgets/controls",
      "model_module_version": "1.4.0",
      "model_name": "HTMLModel",
      "state": {
       "layout": "IPY_MODEL_9b828cb62ee54e1c8787d3eea4ea376a",
       "style": "IPY_MODEL_4457cbc9993343ebbb06c4da8d4dc10c",
       "value": "100% 551/551 [00:07&lt;00:00, 73.38it/s]"
      }
     },
     "7403b294dc0a4efaa9d6c41c314ea6cf": {
      "model_module": "@jupyter-widgets/controls",
      "model_module_version": "1.4.0",
      "model_name": "HBoxModel",
      "state": {
       "children": [
        "IPY_MODEL_e97b65e0a82c472f9093bae15e1422a6",
        "IPY_MODEL_566880831c02442eb8875e710441b7d9"
       ],
       "layout": "IPY_MODEL_cc47bef1ecc54f9195df66e60cea9f3d"
      }
     },
     "74100933ba52471e84291b0bcfb53365": {
      "model_module": "@jupyter-widgets/base",
      "model_module_version": "1.1.0",
      "model_name": "LayoutModel",
      "state": {}
     },
     "7438aafdf23247f38833c7c7acc4731f": {
      "model_module": "@jupyter-widgets/base",
      "model_module_version": "1.1.0",
      "model_name": "LayoutModel",
      "state": {}
     },
     "744696d364f74210b0df9f538914a117": {
      "model_module": "@jupyter-widgets/base",
      "model_module_version": "1.1.0",
      "model_name": "LayoutModel",
      "state": {}
     },
     "7484a35ec57b412f8f8bced166e3af0b": {
      "model_module": "@jupyter-widgets/controls",
      "model_module_version": "1.4.0",
      "model_name": "HTMLModel",
      "state": {
       "layout": "IPY_MODEL_b5ec2081261c47c9877a6488e1d44041",
       "style": "IPY_MODEL_a7962b3f40564d97b15c934b40b6b277",
       "value": " 37% 29/78 [00:00&lt;00:00, 134.27it/s]"
      }
     },
     "74949ec197064bc5b6876c6e3ffcd3ec": {
      "model_module": "@jupyter-widgets/base",
      "model_module_version": "1.1.0",
      "model_name": "LayoutModel",
      "state": {}
     },
     "749716dfc2b040a891d4bf0ad79ea96e": {
      "model_module": "@jupyter-widgets/controls",
      "model_module_version": "1.4.0",
      "model_name": "DescriptionStyleModel",
      "state": {
       "description_width": ""
      }
     },
     "74a3f93c6b05422a9216e7ad416f7861": {
      "model_module": "@jupyter-widgets/controls",
      "model_module_version": "1.4.0",
      "model_name": "ProgressStyleModel",
      "state": {
       "description_width": ""
      }
     },
     "74d6bcf9da964714896e62547ad04faf": {
      "model_module": "@jupyter-widgets/controls",
      "model_module_version": "1.4.0",
      "model_name": "ProgressStyleModel",
      "state": {
       "description_width": ""
      }
     },
     "75161cdc8bb04d679dea84c8437e37c1": {
      "model_module": "@jupyter-widgets/controls",
      "model_module_version": "1.4.0",
      "model_name": "IntProgressModel",
      "state": {
       "layout": "IPY_MODEL_7fbd454f4cda45dba328638ab044fa04",
       "max": 17,
       "style": "IPY_MODEL_a5f714081d384dbfa1c2ed2a886272b0",
       "value": 17
      }
     },
     "752ebed246bc4ba19c6b90e9bbf070e2": {
      "model_module": "@jupyter-widgets/base",
      "model_module_version": "1.1.0",
      "model_name": "LayoutModel",
      "state": {}
     },
     "754144899bc446b2bac341c916cdebc9": {
      "model_module": "@jupyter-widgets/controls",
      "model_module_version": "1.4.0",
      "model_name": "IntProgressModel",
      "state": {
       "layout": "IPY_MODEL_3576c110fac4487a943e3e395423a2f1",
       "max": 78,
       "style": "IPY_MODEL_f305c8c31d5b49a698370b9592da713c",
       "value": 22
      }
     },
     "75771e0fc176469382761ed22c08d9e0": {
      "model_module": "@jupyter-widgets/base",
      "model_module_version": "1.1.0",
      "model_name": "LayoutModel",
      "state": {}
     },
     "75b6ba9e2c9b4d14a25b09fe1f9f7d0f": {
      "model_module": "@jupyter-widgets/controls",
      "model_module_version": "1.4.0",
      "model_name": "ProgressStyleModel",
      "state": {
       "description_width": ""
      }
     },
     "75bffe97775d4947854b6a00f827b18a": {
      "model_module": "@jupyter-widgets/base",
      "model_module_version": "1.1.0",
      "model_name": "LayoutModel",
      "state": {}
     },
     "75e0435c09c74efdaa25630aba0448e0": {
      "model_module": "@jupyter-widgets/controls",
      "model_module_version": "1.4.0",
      "model_name": "DescriptionStyleModel",
      "state": {
       "description_width": ""
      }
     },
     "75fd7b2af22243189485505eef937178": {
      "model_module": "@jupyter-widgets/base",
      "model_module_version": "1.1.0",
      "model_name": "LayoutModel",
      "state": {}
     },
     "7606e3628b524a578909bfbf48249a8d": {
      "model_module": "@jupyter-widgets/base",
      "model_module_version": "1.1.0",
      "model_name": "LayoutModel",
      "state": {}
     },
     "760d1aefda174b9fb7858a352134d2cf": {
      "model_module": "@jupyter-widgets/controls",
      "model_module_version": "1.4.0",
      "model_name": "HBoxModel",
      "state": {
       "children": [
        "IPY_MODEL_23c01d19229c4309a787ea56686f0990",
        "IPY_MODEL_ee878ee992684a739df6e4a01fb5e66c"
       ],
       "layout": "IPY_MODEL_1dda1b0014b049a4b18946dfc21c139e"
      }
     },
     "7621148f09704034bb3483123eb7b79b": {
      "model_module": "@jupyter-widgets/base",
      "model_module_version": "1.1.0",
      "model_name": "LayoutModel",
      "state": {}
     },
     "765a20f2b13d4214a594f907bcb98a0b": {
      "model_module": "@jupyter-widgets/controls",
      "model_module_version": "1.4.0",
      "model_name": "HTMLModel",
      "state": {
       "layout": "IPY_MODEL_95f83df6b7ca4fd680bfd75fd2c2ff94",
       "style": "IPY_MODEL_f1ca7f95549d46489fb78f6b61673746",
       "value": " 87% 68/78 [00:00&lt;00:00, 330.93it/s]"
      }
     },
     "767f5e7452b54b21b38f2c2e99a91968": {
      "model_module": "@jupyter-widgets/controls",
      "model_module_version": "1.4.0",
      "model_name": "HBoxModel",
      "state": {
       "children": [
        "IPY_MODEL_006c024c4932459082c6db273c1f8fe5",
        "IPY_MODEL_96da7ae78ecf401da35dc655fd8d81ae"
       ],
       "layout": "IPY_MODEL_dc2cd4494cb84007b16e3bf82179a6ab"
      }
     },
     "76baddf8229d46678d7e81ed0d5264c7": {
      "model_module": "@jupyter-widgets/controls",
      "model_module_version": "1.4.0",
      "model_name": "ProgressStyleModel",
      "state": {
       "description_width": ""
      }
     },
     "76c296efffe54245b68274cd7c83741e": {
      "model_module": "@jupyter-widgets/controls",
      "model_module_version": "1.4.0",
      "model_name": "HTMLModel",
      "state": {
       "layout": "IPY_MODEL_e6119423491d4f108beb0b06c352a20c",
       "style": "IPY_MODEL_1aa98ca42a2a4e8ab1ceff1ec274caea",
       "value": "100% 17/17 [00:04&lt;00:00,  3.47it/s]"
      }
     },
     "76d5bd5719e84893985f8c60fdcccce4": {
      "model_module": "@jupyter-widgets/controls",
      "model_module_version": "1.4.0",
      "model_name": "ProgressStyleModel",
      "state": {
       "description_width": ""
      }
     },
     "76f08a83d3c548ad8006c46757496d01": {
      "model_module": "@jupyter-widgets/base",
      "model_module_version": "1.1.0",
      "model_name": "LayoutModel",
      "state": {}
     },
     "7708bc5c455449829e4c0b28176f529d": {
      "model_module": "@jupyter-widgets/controls",
      "model_module_version": "1.4.0",
      "model_name": "DescriptionStyleModel",
      "state": {
       "description_width": ""
      }
     },
     "7727670a65384c48822ba780a6bfe6e9": {
      "model_module": "@jupyter-widgets/controls",
      "model_module_version": "1.4.0",
      "model_name": "DescriptionStyleModel",
      "state": {
       "description_width": ""
      }
     },
     "772974a48c9f4a76ae26bd226247c918": {
      "model_module": "@jupyter-widgets/base",
      "model_module_version": "1.1.0",
      "model_name": "LayoutModel",
      "state": {}
     },
     "7736bbfa7fd1450daec4d6319942a49b": {
      "model_module": "@jupyter-widgets/controls",
      "model_module_version": "1.4.0",
      "model_name": "IntProgressModel",
      "state": {
       "layout": "IPY_MODEL_06dfb38130604f099dd420d648f53ad7",
       "max": 78,
       "style": "IPY_MODEL_091f228ea40d4cc28420467c7a32be4f",
       "value": 10
      }
     },
     "77810451773e49538995efad934d2b73": {
      "model_module": "@jupyter-widgets/base",
      "model_module_version": "1.1.0",
      "model_name": "LayoutModel",
      "state": {}
     },
     "77a2a9155d3c4d178c86b928d11013f9": {
      "model_module": "@jupyter-widgets/controls",
      "model_module_version": "1.4.0",
      "model_name": "ProgressStyleModel",
      "state": {
       "description_width": ""
      }
     },
     "77a95f29de3e40a0bad11738f7efcff9": {
      "model_module": "@jupyter-widgets/controls",
      "model_module_version": "1.4.0",
      "model_name": "HTMLModel",
      "state": {
       "layout": "IPY_MODEL_96a75500c4fb45c893e7600f4f391725",
       "style": "IPY_MODEL_eac9a99b96c241db8c42d4f6fb65c78b",
       "value": "100% 17/17 [00:04&lt;00:00,  3.70it/s]"
      }
     },
     "77b195de4d0f47febf13b6294517ea6a": {
      "model_module": "@jupyter-widgets/controls",
      "model_module_version": "1.4.0",
      "model_name": "DescriptionStyleModel",
      "state": {
       "description_width": ""
      }
     },
     "77c6f457a1084b3eb84a96f60574822f": {
      "model_module": "@jupyter-widgets/base",
      "model_module_version": "1.1.0",
      "model_name": "LayoutModel",
      "state": {}
     },
     "77d63bdfa92a44719b3068d02e6f97da": {
      "model_module": "@jupyter-widgets/controls",
      "model_module_version": "1.4.0",
      "model_name": "DescriptionStyleModel",
      "state": {
       "description_width": ""
      }
     },
     "780d5bc3bdc642fbb9a7e93b7dac364e": {
      "model_module": "@jupyter-widgets/base",
      "model_module_version": "1.1.0",
      "model_name": "LayoutModel",
      "state": {}
     },
     "782be1b5bcbc45b49c27c3947e21c098": {
      "model_module": "@jupyter-widgets/base",
      "model_module_version": "1.1.0",
      "model_name": "LayoutModel",
      "state": {}
     },
     "784d9fa50aa14582a010db0cb08b1397": {
      "model_module": "@jupyter-widgets/controls",
      "model_module_version": "1.4.0",
      "model_name": "HBoxModel",
      "state": {
       "children": [
        "IPY_MODEL_093d4cd686e0459d8ed945f96ba4ba7f",
        "IPY_MODEL_eff7216218084ef3899f1fa1e7c9ff31"
       ],
       "layout": "IPY_MODEL_c8bb90b07985459e9e1754a57847ca31"
      }
     },
     "7899ef1165384c769ab4a796538cb2dd": {
      "model_module": "@jupyter-widgets/base",
      "model_module_version": "1.1.0",
      "model_name": "LayoutModel",
      "state": {}
     },
     "78cff2b4732f4dc291f591e4ea69833c": {
      "model_module": "@jupyter-widgets/base",
      "model_module_version": "1.1.0",
      "model_name": "LayoutModel",
      "state": {}
     },
     "78e5784775ac4677a3f5d854e85b2c2b": {
      "model_module": "@jupyter-widgets/controls",
      "model_module_version": "1.4.0",
      "model_name": "IntProgressModel",
      "state": {
       "layout": "IPY_MODEL_94b566aea4d84663952e4dfa0daf6184",
       "max": 78,
       "style": "IPY_MODEL_8c3346b1eeeb45668dcd214c8bb151d0",
       "value": 68
      }
     },
     "78f0cb145e7641f9af241fdaeaa90e07": {
      "model_module": "@jupyter-widgets/base",
      "model_module_version": "1.1.0",
      "model_name": "LayoutModel",
      "state": {}
     },
     "78fff0b836a341c8b83b93beb22f5b5b": {
      "model_module": "@jupyter-widgets/controls",
      "model_module_version": "1.4.0",
      "model_name": "ProgressStyleModel",
      "state": {
       "description_width": ""
      }
     },
     "790e145d77b44036aa92557ac1589ea3": {
      "model_module": "@jupyter-widgets/controls",
      "model_module_version": "1.4.0",
      "model_name": "IntProgressModel",
      "state": {
       "layout": "IPY_MODEL_966894a6280b4a0e9be54def2bc21ddf",
       "max": 17,
       "style": "IPY_MODEL_c9a0a799ea6e47c4a4d28f6f215f590f",
       "value": 17
      }
     },
     "79101c2f2ccc4ce48ad4d0889508fb6c": {
      "model_module": "@jupyter-widgets/controls",
      "model_module_version": "1.4.0",
      "model_name": "ProgressStyleModel",
      "state": {
       "description_width": ""
      }
     },
     "792618d051eb4bc7917cc4de8f7a8cbd": {
      "model_module": "@jupyter-widgets/base",
      "model_module_version": "1.1.0",
      "model_name": "LayoutModel",
      "state": {}
     },
     "792b121ec2e64c61ba85d80f4666adea": {
      "model_module": "@jupyter-widgets/base",
      "model_module_version": "1.1.0",
      "model_name": "LayoutModel",
      "state": {}
     },
     "794ad86bca7c4919aab4dc260c05cd50": {
      "model_module": "@jupyter-widgets/base",
      "model_module_version": "1.1.0",
      "model_name": "LayoutModel",
      "state": {}
     },
     "794d666abee84786a24d7f925dcee84c": {
      "model_module": "@jupyter-widgets/controls",
      "model_module_version": "1.4.0",
      "model_name": "DescriptionStyleModel",
      "state": {
       "description_width": ""
      }
     },
     "795081a3f6d34ec8acf400843d84a7a7": {
      "model_module": "@jupyter-widgets/base",
      "model_module_version": "1.1.0",
      "model_name": "LayoutModel",
      "state": {}
     },
     "797f8598dd1d4088bbc0e4318c863c5c": {
      "model_module": "@jupyter-widgets/base",
      "model_module_version": "1.1.0",
      "model_name": "LayoutModel",
      "state": {}
     },
     "799e723f434c4e3eaddad5dea9e8b6f7": {
      "model_module": "@jupyter-widgets/base",
      "model_module_version": "1.1.0",
      "model_name": "LayoutModel",
      "state": {}
     },
     "79bee19babe247df8d2610b0391cb6f1": {
      "model_module": "@jupyter-widgets/controls",
      "model_module_version": "1.4.0",
      "model_name": "DescriptionStyleModel",
      "state": {
       "description_width": ""
      }
     },
     "79e17bed4074439083b958ef181c6852": {
      "model_module": "@jupyter-widgets/base",
      "model_module_version": "1.1.0",
      "model_name": "LayoutModel",
      "state": {}
     },
     "7a03ba6b7d9d4e69a6f9ed47c91f38ab": {
      "model_module": "@jupyter-widgets/base",
      "model_module_version": "1.1.0",
      "model_name": "LayoutModel",
      "state": {}
     },
     "7a228aff764447cba29e8b3f6b3559e5": {
      "model_module": "@jupyter-widgets/base",
      "model_module_version": "1.1.0",
      "model_name": "LayoutModel",
      "state": {}
     },
     "7a34066bf166459f8a7f36618fab9ef9": {
      "model_module": "@jupyter-widgets/controls",
      "model_module_version": "1.4.0",
      "model_name": "ProgressStyleModel",
      "state": {
       "description_width": ""
      }
     },
     "7a5dbc0e2a89428199b13630a74e664f": {
      "model_module": "@jupyter-widgets/base",
      "model_module_version": "1.1.0",
      "model_name": "LayoutModel",
      "state": {}
     },
     "7a6ac2ef5b2d423bbe63041681930ffe": {
      "model_module": "@jupyter-widgets/base",
      "model_module_version": "1.1.0",
      "model_name": "LayoutModel",
      "state": {}
     },
     "7a709cb2332c4058b96a13b50044a697": {
      "model_module": "@jupyter-widgets/controls",
      "model_module_version": "1.4.0",
      "model_name": "HTMLModel",
      "state": {
       "layout": "IPY_MODEL_7bd966467b4946b48639df8fea70671f",
       "style": "IPY_MODEL_abec46272cc541788f087e6876698456",
       "value": "100% 17/17 [00:06&lt;00:00,  2.80it/s]"
      }
     },
     "7a71c7af54934ee190abff3af531b4c5": {
      "model_module": "@jupyter-widgets/controls",
      "model_module_version": "1.4.0",
      "model_name": "ProgressStyleModel",
      "state": {
       "description_width": ""
      }
     },
     "7ac73faa0e0740e2977999bdf3b8b1ea": {
      "model_module": "@jupyter-widgets/base",
      "model_module_version": "1.1.0",
      "model_name": "LayoutModel",
      "state": {}
     },
     "7b1c41570c76453484ef930585bb6714": {
      "model_module": "@jupyter-widgets/base",
      "model_module_version": "1.1.0",
      "model_name": "LayoutModel",
      "state": {}
     },
     "7b310db039714626817002391f80ae5d": {
      "model_module": "@jupyter-widgets/controls",
      "model_module_version": "1.4.0",
      "model_name": "IntProgressModel",
      "state": {
       "layout": "IPY_MODEL_0bbc592443ab4966bcab687fd3732582",
       "max": 17,
       "style": "IPY_MODEL_b199c87765f84826ba5d9b8736020078",
       "value": 17
      }
     },
     "7b33f78872ae44c5bc4969791b92a30f": {
      "model_module": "@jupyter-widgets/controls",
      "model_module_version": "1.4.0",
      "model_name": "DescriptionStyleModel",
      "state": {
       "description_width": ""
      }
     },
     "7b44e5649e46479292ea87f4a39e5ac6": {
      "model_module": "@jupyter-widgets/controls",
      "model_module_version": "1.4.0",
      "model_name": "ProgressStyleModel",
      "state": {
       "description_width": ""
      }
     },
     "7b5894bb244e41f28adebb616546e2a0": {
      "model_module": "@jupyter-widgets/controls",
      "model_module_version": "1.4.0",
      "model_name": "IntProgressModel",
      "state": {
       "layout": "IPY_MODEL_984902125a9e4f18b54ed1e0118cea37",
       "max": 78,
       "style": "IPY_MODEL_f4dee73582ee436d94c029de5205f84a",
       "value": 73
      }
     },
     "7b7bb06624294b98bd335efe55a26b10": {
      "model_module": "@jupyter-widgets/controls",
      "model_module_version": "1.4.0",
      "model_name": "DescriptionStyleModel",
      "state": {
       "description_width": ""
      }
     },
     "7bd966467b4946b48639df8fea70671f": {
      "model_module": "@jupyter-widgets/base",
      "model_module_version": "1.1.0",
      "model_name": "LayoutModel",
      "state": {}
     },
     "7bef9d8a4ee7407795ef118e849abc4d": {
      "model_module": "@jupyter-widgets/controls",
      "model_module_version": "1.4.0",
      "model_name": "DescriptionStyleModel",
      "state": {
       "description_width": ""
      }
     },
     "7bf20ac9c9bd4b18a42de473308dff73": {
      "model_module": "@jupyter-widgets/base",
      "model_module_version": "1.1.0",
      "model_name": "LayoutModel",
      "state": {}
     },
     "7bf2552b21264a55a2b79dabe69826d2": {
      "model_module": "@jupyter-widgets/controls",
      "model_module_version": "1.4.0",
      "model_name": "IntProgressModel",
      "state": {
       "layout": "IPY_MODEL_bbcb1358f2d0478db9b31dd86661fb2c",
       "max": 17,
       "style": "IPY_MODEL_236492695d0f4eb3ae7302e48d0095a6",
       "value": 17
      }
     },
     "7bf691dfa54f47cd874fd07085f9450a": {
      "model_module": "@jupyter-widgets/base",
      "model_module_version": "1.1.0",
      "model_name": "LayoutModel",
      "state": {}
     },
     "7bf85fca2d49411080208cff3f0b6299": {
      "model_module": "@jupyter-widgets/controls",
      "model_module_version": "1.4.0",
      "model_name": "IntProgressModel",
      "state": {
       "layout": "IPY_MODEL_39d46165d983424faf3ed92a75e16868",
       "max": 78,
       "style": "IPY_MODEL_6c0dad8aaeaf454cb6ee9259f230cec8",
       "value": 26
      }
     },
     "7c0e5c3a20844ce6b2cb744211f7d7e5": {
      "model_module": "@jupyter-widgets/base",
      "model_module_version": "1.1.0",
      "model_name": "LayoutModel",
      "state": {}
     },
     "7c18cbff4c814cffbb1eeeb3b1c02561": {
      "model_module": "@jupyter-widgets/controls",
      "model_module_version": "1.4.0",
      "model_name": "DescriptionStyleModel",
      "state": {
       "description_width": ""
      }
     },
     "7c3004122a9743259055d8fc85f3eeb0": {
      "model_module": "@jupyter-widgets/controls",
      "model_module_version": "1.4.0",
      "model_name": "DescriptionStyleModel",
      "state": {
       "description_width": ""
      }
     },
     "7ca5118b7b7846ea8f4ec4e3d50b28e7": {
      "model_module": "@jupyter-widgets/controls",
      "model_module_version": "1.4.0",
      "model_name": "IntProgressModel",
      "state": {
       "layout": "IPY_MODEL_576fc7d893464d49919c932a0bd99759",
       "max": 17,
       "style": "IPY_MODEL_7a71c7af54934ee190abff3af531b4c5",
       "value": 17
      }
     },
     "7ca63c45ab4646a89a422200e09f124b": {
      "model_module": "@jupyter-widgets/base",
      "model_module_version": "1.1.0",
      "model_name": "LayoutModel",
      "state": {}
     },
     "7ca78343c6b64288b9bd70897fbefa36": {
      "model_module": "@jupyter-widgets/controls",
      "model_module_version": "1.4.0",
      "model_name": "DescriptionStyleModel",
      "state": {
       "description_width": ""
      }
     },
     "7cb322a1b8694ac19315277fdd3cdbdf": {
      "model_module": "@jupyter-widgets/base",
      "model_module_version": "1.1.0",
      "model_name": "LayoutModel",
      "state": {}
     },
     "7cc7d0c497784ccdaf7e28559125d897": {
      "model_module": "@jupyter-widgets/base",
      "model_module_version": "1.1.0",
      "model_name": "LayoutModel",
      "state": {}
     },
     "7cceca8b494545009675b778a369d80b": {
      "model_module": "@jupyter-widgets/base",
      "model_module_version": "1.1.0",
      "model_name": "LayoutModel",
      "state": {}
     },
     "7cdfda7074ad4b1196b0dae7332fe290": {
      "model_module": "@jupyter-widgets/controls",
      "model_module_version": "1.4.0",
      "model_name": "HTMLModel",
      "state": {
       "layout": "IPY_MODEL_270b0dfc480e4b5d94683f4f342be64e",
       "style": "IPY_MODEL_23c235acb0ea41f19db9a3cad6e77629",
       "value": "100% 78/78 [00:00&lt;00:00, 534.51it/s]"
      }
     },
     "7cebb6b676ab45619ac712895a0e8072": {
      "model_module": "@jupyter-widgets/controls",
      "model_module_version": "1.4.0",
      "model_name": "DescriptionStyleModel",
      "state": {
       "description_width": ""
      }
     },
     "7d1228e9656048ffa3a585ff4263eb96": {
      "model_module": "@jupyter-widgets/controls",
      "model_module_version": "1.4.0",
      "model_name": "DescriptionStyleModel",
      "state": {
       "description_width": ""
      }
     },
     "7d2ccf58c6a743efb1f2b99b8569d3ef": {
      "model_module": "@jupyter-widgets/controls",
      "model_module_version": "1.4.0",
      "model_name": "HTMLModel",
      "state": {
       "layout": "IPY_MODEL_dea6312299bf483bbe340735c12d5951",
       "style": "IPY_MODEL_d0f6c51d33c84a0d949e5f8ddf8e2011",
       "value": "100% 17/17 [00:09&lt;00:00,  1.82it/s]"
      }
     },
     "7d4a14e851d14b9ebd12d9b879b1edff": {
      "model_module": "@jupyter-widgets/controls",
      "model_module_version": "1.4.0",
      "model_name": "IntProgressModel",
      "state": {
       "layout": "IPY_MODEL_1f13f6e61fbe4b83a9390a1d52f6a711",
       "max": 78,
       "style": "IPY_MODEL_67773cb62d804b83859de391b02744c5",
       "value": 28
      }
     },
     "7d61275de3644e80aab2a7a3842294b1": {
      "model_module": "@jupyter-widgets/controls",
      "model_module_version": "1.4.0",
      "model_name": "DescriptionStyleModel",
      "state": {
       "description_width": ""
      }
     },
     "7d6d40353d884cdf9738a1c645ae3cca": {
      "model_module": "@jupyter-widgets/base",
      "model_module_version": "1.1.0",
      "model_name": "LayoutModel",
      "state": {}
     },
     "7d81b23441be481dbfa6fe0c8a7f751b": {
      "model_module": "@jupyter-widgets/controls",
      "model_module_version": "1.4.0",
      "model_name": "HTMLModel",
      "state": {
       "layout": "IPY_MODEL_07884691361d413a93a0bdc290e71466",
       "style": "IPY_MODEL_bb0174a9fce24f78bb180aba023703c8",
       "value": " 32% 25/78 [00:00&lt;00:00, 249.27it/s]"
      }
     },
     "7d922b88c90249519a1034724cdd8ac5": {
      "model_module": "@jupyter-widgets/base",
      "model_module_version": "1.1.0",
      "model_name": "LayoutModel",
      "state": {}
     },
     "7d9dab5722eb48d0a9e02789c8dd4632": {
      "model_module": "@jupyter-widgets/base",
      "model_module_version": "1.1.0",
      "model_name": "LayoutModel",
      "state": {}
     },
     "7da219523b294ce6964ce7c0bffc4ce6": {
      "model_module": "@jupyter-widgets/base",
      "model_module_version": "1.1.0",
      "model_name": "LayoutModel",
      "state": {}
     },
     "7dd8ec369d8f4a629ad880d91773f9c8": {
      "model_module": "@jupyter-widgets/controls",
      "model_module_version": "1.4.0",
      "model_name": "DescriptionStyleModel",
      "state": {
       "description_width": ""
      }
     },
     "7e0ba7b8db3a49e1a23084382e60e9bd": {
      "model_module": "@jupyter-widgets/base",
      "model_module_version": "1.1.0",
      "model_name": "LayoutModel",
      "state": {}
     },
     "7e37fb695f2440299430c413d68fdb33": {
      "model_module": "@jupyter-widgets/base",
      "model_module_version": "1.1.0",
      "model_name": "LayoutModel",
      "state": {}
     },
     "7e55086a12ef4076b4e7d6fe91a851e6": {
      "model_module": "@jupyter-widgets/controls",
      "model_module_version": "1.4.0",
      "model_name": "IntProgressModel",
      "state": {
       "layout": "IPY_MODEL_e0a84060c25d49e582128699282d4404",
       "max": 17,
       "style": "IPY_MODEL_2ababc06fdf049d2ac16c9e9035a48be",
       "value": 17
      }
     },
     "7e612862cb424fecb82ba18a492314df": {
      "model_module": "@jupyter-widgets/controls",
      "model_module_version": "1.4.0",
      "model_name": "ProgressStyleModel",
      "state": {
       "description_width": ""
      }
     },
     "7e7876cbb5534593846ad05d4be272cb": {
      "model_module": "@jupyter-widgets/controls",
      "model_module_version": "1.4.0",
      "model_name": "IntProgressModel",
      "state": {
       "layout": "IPY_MODEL_b66a6cd593ff4ec7a43633ba8382c2e1",
       "max": 17,
       "style": "IPY_MODEL_2fd61b8abd3b4fe08a3acae915f892bc",
       "value": 17
      }
     },
     "7eb358ad0a224358a7708c26232a6e0a": {
      "model_module": "@jupyter-widgets/controls",
      "model_module_version": "1.4.0",
      "model_name": "HTMLModel",
      "state": {
       "layout": "IPY_MODEL_6c132f965eea4d15a8066aafb9af3c3c",
       "style": "IPY_MODEL_a03ec39ccfde4de681f3f955160d02a7",
       "value": "100% 17/17 [00:05&lt;00:00,  3.28it/s]"
      }
     },
     "7eb5c725fd4849aca207a3624fbd660e": {
      "model_module": "@jupyter-widgets/base",
      "model_module_version": "1.1.0",
      "model_name": "LayoutModel",
      "state": {}
     },
     "7eda2c7c5d6a4bb3a09908866dc9d4dc": {
      "model_module": "@jupyter-widgets/controls",
      "model_module_version": "1.4.0",
      "model_name": "DescriptionStyleModel",
      "state": {
       "description_width": ""
      }
     },
     "7efcba40aa6e4c88a8b2fafc84c6c84c": {
      "model_module": "@jupyter-widgets/controls",
      "model_module_version": "1.4.0",
      "model_name": "IntProgressModel",
      "state": {
       "layout": "IPY_MODEL_e7191d9778d44bc3bba3f803ad413be3",
       "max": 78,
       "style": "IPY_MODEL_6c89b015341b41c9898fd314e4a161e7",
       "value": 68
      }
     },
     "7f0bfd0b874e46218a0e1c682f17b76e": {
      "model_module": "@jupyter-widgets/controls",
      "model_module_version": "1.4.0",
      "model_name": "ProgressStyleModel",
      "state": {
       "description_width": ""
      }
     },
     "7f0c97c9e09547aca6ebd61bcba2c3e0": {
      "model_module": "@jupyter-widgets/controls",
      "model_module_version": "1.4.0",
      "model_name": "HTMLModel",
      "state": {
       "layout": "IPY_MODEL_c9203ebd435a4cd182f0dd90ab0dd163",
       "style": "IPY_MODEL_aa2d597e8aa8467db982db7201f505f8",
       "value": "100% 17/17 [00:07&lt;00:00,  2.31it/s]"
      }
     },
     "7f193bf60f9e45e58a54482db85698c4": {
      "model_module": "@jupyter-widgets/controls",
      "model_module_version": "1.4.0",
      "model_name": "IntProgressModel",
      "state": {
       "layout": "IPY_MODEL_15c09a2206e34a8eb2b3535e6fb29c82",
       "max": 17,
       "style": "IPY_MODEL_399c5828f89644029f0e42e7385c2753",
       "value": 17
      }
     },
     "7f1b0094b2c84efaaf1ca69f31e30fc0": {
      "model_module": "@jupyter-widgets/controls",
      "model_module_version": "1.4.0",
      "model_name": "DescriptionStyleModel",
      "state": {
       "description_width": ""
      }
     },
     "7f3c4e52284e40f0884fcb0e3b22f73e": {
      "model_module": "@jupyter-widgets/controls",
      "model_module_version": "1.4.0",
      "model_name": "IntProgressModel",
      "state": {
       "layout": "IPY_MODEL_5b551bcea5af4fd7bd962b3be52b7a8f",
       "max": 78,
       "style": "IPY_MODEL_1ed233e146a247abb2aa2af266971bd3",
       "value": 37
      }
     },
     "7f3f2461715f46369732432a02232458": {
      "model_module": "@jupyter-widgets/controls",
      "model_module_version": "1.4.0",
      "model_name": "IntProgressModel",
      "state": {
       "layout": "IPY_MODEL_377fa5875a614450b25fd18b00a98fe3",
       "max": 78,
       "style": "IPY_MODEL_f2f196324ff342c392315691fea618cc",
       "value": 61
      }
     },
     "7f41809d3bd4429f95eba5ae3921874c": {
      "model_module": "@jupyter-widgets/base",
      "model_module_version": "1.1.0",
      "model_name": "LayoutModel",
      "state": {}
     },
     "7f433cb1581e45869c2e84d8d33e4cdb": {
      "model_module": "@jupyter-widgets/controls",
      "model_module_version": "1.4.0",
      "model_name": "ProgressStyleModel",
      "state": {
       "description_width": ""
      }
     },
     "7f847047d0124f50a3eca2400c0d5a54": {
      "model_module": "@jupyter-widgets/base",
      "model_module_version": "1.1.0",
      "model_name": "LayoutModel",
      "state": {}
     },
     "7fbd454f4cda45dba328638ab044fa04": {
      "model_module": "@jupyter-widgets/base",
      "model_module_version": "1.1.0",
      "model_name": "LayoutModel",
      "state": {}
     },
     "7fdee7cbdc4c46eabfaa018e9802ccd0": {
      "model_module": "@jupyter-widgets/base",
      "model_module_version": "1.1.0",
      "model_name": "LayoutModel",
      "state": {}
     },
     "7fed67ce7c084c0cae87af28b56acc39": {
      "model_module": "@jupyter-widgets/base",
      "model_module_version": "1.1.0",
      "model_name": "LayoutModel",
      "state": {}
     },
     "7ff0f62bcf2546cf865f4081ba81490e": {
      "model_module": "@jupyter-widgets/base",
      "model_module_version": "1.1.0",
      "model_name": "LayoutModel",
      "state": {}
     },
     "7ff64b785acb47fcb366d2f841098281": {
      "model_module": "@jupyter-widgets/base",
      "model_module_version": "1.1.0",
      "model_name": "LayoutModel",
      "state": {}
     },
     "7ffe14f22b1642008e4765495b40aa25": {
      "model_module": "@jupyter-widgets/base",
      "model_module_version": "1.1.0",
      "model_name": "LayoutModel",
      "state": {}
     },
     "8008323f5fe94f64a7159025040a12d4": {
      "model_module": "@jupyter-widgets/controls",
      "model_module_version": "1.4.0",
      "model_name": "DescriptionStyleModel",
      "state": {
       "description_width": ""
      }
     },
     "801108d6e0f246dc84df15c0a34d1593": {
      "model_module": "@jupyter-widgets/base",
      "model_module_version": "1.1.0",
      "model_name": "LayoutModel",
      "state": {}
     },
     "802befce72cb4e739324123ba1fc4223": {
      "model_module": "@jupyter-widgets/controls",
      "model_module_version": "1.4.0",
      "model_name": "IntProgressModel",
      "state": {
       "layout": "IPY_MODEL_03ce4cc2905b4b1295f2da02dd4efba3",
       "max": 17,
       "style": "IPY_MODEL_10d16908e68a4fd28fd4d686984d0dd6",
       "value": 17
      }
     },
     "8032e5cdf6a746828f3e05aaed182108": {
      "model_module": "@jupyter-widgets/base",
      "model_module_version": "1.1.0",
      "model_name": "LayoutModel",
      "state": {}
     },
     "8038efa3f577460795b5aaf4875003fa": {
      "model_module": "@jupyter-widgets/base",
      "model_module_version": "1.1.0",
      "model_name": "LayoutModel",
      "state": {}
     },
     "80ac05183bb74e65a56aa6cabf819c5c": {
      "model_module": "@jupyter-widgets/base",
      "model_module_version": "1.1.0",
      "model_name": "LayoutModel",
      "state": {}
     },
     "80dbf82b3d344df5bb406cbb8601a221": {
      "model_module": "@jupyter-widgets/base",
      "model_module_version": "1.1.0",
      "model_name": "LayoutModel",
      "state": {}
     },
     "80f82b5c63e248b69aebb1afb93b4995": {
      "model_module": "@jupyter-widgets/base",
      "model_module_version": "1.1.0",
      "model_name": "LayoutModel",
      "state": {}
     },
     "816fca49279644eba3a9a638ca9b6dec": {
      "model_module": "@jupyter-widgets/base",
      "model_module_version": "1.1.0",
      "model_name": "LayoutModel",
      "state": {}
     },
     "81802406e5004e38abd9f312585ba07d": {
      "model_module": "@jupyter-widgets/controls",
      "model_module_version": "1.4.0",
      "model_name": "HTMLModel",
      "state": {
       "layout": "IPY_MODEL_b4b95510a3014212986c3e3a209d8c7b",
       "style": "IPY_MODEL_a730ea2b20e8452dbeb2fda6d278b967",
       "value": " 87% 68/78 [00:00&lt;00:00, 333.49it/s]"
      }
     },
     "81a1231987514eaba1cf4b325fed86f2": {
      "model_module": "@jupyter-widgets/base",
      "model_module_version": "1.1.0",
      "model_name": "LayoutModel",
      "state": {}
     },
     "81a7cedd268f4890afcd0541d12013b9": {
      "model_module": "@jupyter-widgets/controls",
      "model_module_version": "1.4.0",
      "model_name": "DescriptionStyleModel",
      "state": {
       "description_width": ""
      }
     },
     "81bb603760d3417bb9e0683253f361b6": {
      "model_module": "@jupyter-widgets/controls",
      "model_module_version": "1.4.0",
      "model_name": "ProgressStyleModel",
      "state": {
       "description_width": ""
      }
     },
     "81ced5a0563d4fcbb6dc3eacd340e420": {
      "model_module": "@jupyter-widgets/base",
      "model_module_version": "1.1.0",
      "model_name": "LayoutModel",
      "state": {}
     },
     "81da0996a4914b0ba2a61075db860766": {
      "model_module": "@jupyter-widgets/controls",
      "model_module_version": "1.4.0",
      "model_name": "IntProgressModel",
      "state": {
       "layout": "IPY_MODEL_9ab86addc617494fa0d5b32fdfd230e7",
       "max": 78,
       "style": "IPY_MODEL_4b86bee4778f4b07a76eeb1c734c89b8",
       "value": 74
      }
     },
     "81e01fe4574747d8b666a64d861ef25d": {
      "model_module": "@jupyter-widgets/controls",
      "model_module_version": "1.4.0",
      "model_name": "ProgressStyleModel",
      "state": {
       "description_width": ""
      }
     },
     "81f2275d2ca94183a15db251777338c8": {
      "model_module": "@jupyter-widgets/base",
      "model_module_version": "1.1.0",
      "model_name": "LayoutModel",
      "state": {}
     },
     "81f7a9c1d481447e92d21296c79571e7": {
      "model_module": "@jupyter-widgets/base",
      "model_module_version": "1.1.0",
      "model_name": "LayoutModel",
      "state": {}
     },
     "820a05997ebd41c488ce0dbb0ddebf13": {
      "model_module": "@jupyter-widgets/base",
      "model_module_version": "1.1.0",
      "model_name": "LayoutModel",
      "state": {}
     },
     "8213f36990e54308b2f49b2615c4ffc8": {
      "model_module": "@jupyter-widgets/base",
      "model_module_version": "1.1.0",
      "model_name": "LayoutModel",
      "state": {}
     },
     "822ae7f711d3410d9ceeb34da402210d": {
      "model_module": "@jupyter-widgets/controls",
      "model_module_version": "1.4.0",
      "model_name": "ProgressStyleModel",
      "state": {
       "description_width": ""
      }
     },
     "8233d0f4cc0d4568a5b182577ec2f2e6": {
      "model_module": "@jupyter-widgets/controls",
      "model_module_version": "1.4.0",
      "model_name": "HTMLModel",
      "state": {
       "layout": "IPY_MODEL_bbcdcdb6990f447e8376aaa7ba701183",
       "style": "IPY_MODEL_e605d9f26df4476784d2502696275999",
       "value": " 19% 15/78 [00:00&lt;00:00, 132.51it/s]"
      }
     },
     "826bef69ab1a478eb2569529c31eeaf8": {
      "model_module": "@jupyter-widgets/base",
      "model_module_version": "1.1.0",
      "model_name": "LayoutModel",
      "state": {}
     },
     "82e6cde450264322a15261e89f41d2d5": {
      "model_module": "@jupyter-widgets/base",
      "model_module_version": "1.1.0",
      "model_name": "LayoutModel",
      "state": {}
     },
     "82fdbb1180944b05a36ca30030764fa2": {
      "model_module": "@jupyter-widgets/controls",
      "model_module_version": "1.4.0",
      "model_name": "HTMLModel",
      "state": {
       "layout": "IPY_MODEL_ea5d70a91a0c4574b74d59e6db15de2b",
       "style": "IPY_MODEL_968af12bc6094b6792fa020beb6a1ed7",
       "value": "100% 50/50 [04:29&lt;00:00,  5.40s/it]"
      }
     },
     "830adeb07d4e40049a879b7e1a2ca1f4": {
      "model_module": "@jupyter-widgets/base",
      "model_module_version": "1.1.0",
      "model_name": "LayoutModel",
      "state": {}
     },
     "830bbc0ce9834cee84492d9f5d01c8f2": {
      "model_module": "@jupyter-widgets/controls",
      "model_module_version": "1.4.0",
      "model_name": "HTMLModel",
      "state": {
       "layout": "IPY_MODEL_aa3e8a3806714a09aa1a446ffb5ad232",
       "style": "IPY_MODEL_53ee377eebea4dbc871e82d3be3eed49",
       "value": "100% 17/17 [00:05&lt;00:00,  3.15it/s]"
      }
     },
     "8311a72ab8f3486ca4fc33b2dbc75387": {
      "model_module": "@jupyter-widgets/base",
      "model_module_version": "1.1.0",
      "model_name": "LayoutModel",
      "state": {}
     },
     "8384fff4e9c546eab803d5b4da45aeec": {
      "model_module": "@jupyter-widgets/base",
      "model_module_version": "1.1.0",
      "model_name": "LayoutModel",
      "state": {}
     },
     "839030373abf49d3b1db425c97718963": {
      "model_module": "@jupyter-widgets/base",
      "model_module_version": "1.1.0",
      "model_name": "LayoutModel",
      "state": {}
     },
     "83a2054410064abfb8ab54ba7cd0ecec": {
      "model_module": "@jupyter-widgets/controls",
      "model_module_version": "1.4.0",
      "model_name": "HTMLModel",
      "state": {
       "layout": "IPY_MODEL_2654a0a3172c49dd8b0ceafe54ec5a21",
       "style": "IPY_MODEL_0fc6c9b0aace47a08b85a62910fb615a",
       "value": "  8% 6/78 [00:00&lt;00:01, 59.33it/s]"
      }
     },
     "83c3aef3d0b44a42ad42301ecd634fe7": {
      "model_module": "@jupyter-widgets/controls",
      "model_module_version": "1.4.0",
      "model_name": "HTMLModel",
      "state": {
       "layout": "IPY_MODEL_2c1bdfcc3d3f49da8031c75015564c7b",
       "style": "IPY_MODEL_20bea5567e54420da1828f75524f6952",
       "value": " 45% 35/78 [00:00&lt;00:00, 348.43it/s]"
      }
     },
     "83d848d796bc44d4ab212af1d5d46fff": {
      "model_module": "@jupyter-widgets/base",
      "model_module_version": "1.1.0",
      "model_name": "LayoutModel",
      "state": {}
     },
     "8425269522174b94b9ae42c8223f1716": {
      "model_module": "@jupyter-widgets/controls",
      "model_module_version": "1.4.0",
      "model_name": "ProgressStyleModel",
      "state": {
       "description_width": ""
      }
     },
     "844eb1bf02204429b05c95db4a112ad9": {
      "model_module": "@jupyter-widgets/base",
      "model_module_version": "1.1.0",
      "model_name": "LayoutModel",
      "state": {}
     },
     "845afc3f0e2c49829ca920a10d375d78": {
      "model_module": "@jupyter-widgets/base",
      "model_module_version": "1.1.0",
      "model_name": "LayoutModel",
      "state": {}
     },
     "8474d56de4d64aaa9c609b0d34883189": {
      "model_module": "@jupyter-widgets/controls",
      "model_module_version": "1.4.0",
      "model_name": "HTMLModel",
      "state": {
       "layout": "IPY_MODEL_612df4cf99d1418aa996c42170fe995a",
       "style": "IPY_MODEL_90dee1815f3842dda8a5f1d3909ac9ce",
       "value": " 79% 62/78 [00:00&lt;00:00, 618.44it/s]"
      }
     },
     "84ad1f18eb734d37a31050dd0b029cd0": {
      "model_module": "@jupyter-widgets/base",
      "model_module_version": "1.1.0",
      "model_name": "LayoutModel",
      "state": {}
     },
     "84d0d6e375f5418383c3e16b47a61e12": {
      "model_module": "@jupyter-widgets/controls",
      "model_module_version": "1.4.0",
      "model_name": "DescriptionStyleModel",
      "state": {
       "description_width": ""
      }
     },
     "84d8aeccf78844818fcb674daabcfc21": {
      "model_module": "@jupyter-widgets/base",
      "model_module_version": "1.1.0",
      "model_name": "LayoutModel",
      "state": {}
     },
     "84e9380a2b7a464fbd9ba6c2c28e9b80": {
      "model_module": "@jupyter-widgets/controls",
      "model_module_version": "1.4.0",
      "model_name": "ProgressStyleModel",
      "state": {
       "description_width": ""
      }
     },
     "84fd32d4db1a45e981a55e522f0f6165": {
      "model_module": "@jupyter-widgets/controls",
      "model_module_version": "1.4.0",
      "model_name": "DescriptionStyleModel",
      "state": {
       "description_width": ""
      }
     },
     "8519f318512144d682eacf94442a8751": {
      "model_module": "@jupyter-widgets/controls",
      "model_module_version": "1.4.0",
      "model_name": "HBoxModel",
      "state": {
       "children": [
        "IPY_MODEL_3267237aaa5349e4be62daccce337361",
        "IPY_MODEL_7cdfda7074ad4b1196b0dae7332fe290"
       ],
       "layout": "IPY_MODEL_3b4236a87f174e66a31873fbbf3103b0"
      }
     },
     "8566c6e662854e53a29cb7a9ac9444ce": {
      "model_module": "@jupyter-widgets/controls",
      "model_module_version": "1.4.0",
      "model_name": "HTMLModel",
      "state": {
       "layout": "IPY_MODEL_f368abfdc38743c8bf009105c6c431af",
       "style": "IPY_MODEL_effe8da415604578a7d6dab466723e1b",
       "value": "100% 17/17 [00:08&lt;00:00,  2.08it/s]"
      }
     },
     "8566e45c2c5a45e6928b33bd6c2a871d": {
      "model_module": "@jupyter-widgets/controls",
      "model_module_version": "1.4.0",
      "model_name": "DescriptionStyleModel",
      "state": {
       "description_width": ""
      }
     },
     "8572c6fd07d645599d85718928fb784d": {
      "model_module": "@jupyter-widgets/controls",
      "model_module_version": "1.4.0",
      "model_name": "IntProgressModel",
      "state": {
       "layout": "IPY_MODEL_752ebed246bc4ba19c6b90e9bbf070e2",
       "max": 17,
       "style": "IPY_MODEL_ed60bd36cd4e416bae6631a5b8bd5e90",
       "value": 17
      }
     },
     "85cfef7978b54717bb3591479364353b": {
      "model_module": "@jupyter-widgets/controls",
      "model_module_version": "1.4.0",
      "model_name": "HTMLModel",
      "state": {
       "layout": "IPY_MODEL_3f4e0c70c1004ef297d9266c76c2141f",
       "style": "IPY_MODEL_47ee6d02b50c43e0adf8b3d0d429a7ed",
       "value": "100% 17/17 [00:05&lt;00:00,  3.20it/s]"
      }
     },
     "85dff14f74434bdd83b015709b0562cb": {
      "model_module": "@jupyter-widgets/base",
      "model_module_version": "1.1.0",
      "model_name": "LayoutModel",
      "state": {}
     },
     "861b54417cc74ed9b638444783b3b6d3": {
      "model_module": "@jupyter-widgets/base",
      "model_module_version": "1.1.0",
      "model_name": "LayoutModel",
      "state": {}
     },
     "862d374486964066a3bf186a227f8a8a": {
      "model_module": "@jupyter-widgets/base",
      "model_module_version": "1.1.0",
      "model_name": "LayoutModel",
      "state": {}
     },
     "863d7f06064a4e208b12726b64dd1cfe": {
      "model_module": "@jupyter-widgets/controls",
      "model_module_version": "1.4.0",
      "model_name": "IntProgressModel",
      "state": {
       "layout": "IPY_MODEL_15d58bd6c052411289203350cfbe9331",
       "max": 78,
       "style": "IPY_MODEL_3f2b9c991df74f569d6ffc10c7e94f00",
       "value": 14
      }
     },
     "864821b95c6f4e2b93b25b3a7526fb8a": {
      "model_module": "@jupyter-widgets/base",
      "model_module_version": "1.1.0",
      "model_name": "LayoutModel",
      "state": {}
     },
     "864f711310694b8696bce1f53642b853": {
      "model_module": "@jupyter-widgets/controls",
      "model_module_version": "1.4.0",
      "model_name": "IntProgressModel",
      "state": {
       "layout": "IPY_MODEL_d5b22cfa86b343a498306a1e4b4ca47c",
       "max": 17,
       "style": "IPY_MODEL_b322056ff68e4ffe97ea467001426e4b",
       "value": 17
      }
     },
     "86674049a6f8402e8e0fdbddf539c200": {
      "model_module": "@jupyter-widgets/controls",
      "model_module_version": "1.4.0",
      "model_name": "HTMLModel",
      "state": {
       "layout": "IPY_MODEL_9b0c227374384044bca291550ca212f8",
       "style": "IPY_MODEL_54bc500325a4422bbf166ab0e658f7db",
       "value": "100% 17/17 [00:06&lt;00:00,  2.72it/s]"
      }
     },
     "868de4a3d80547bdaf5e03afbc4aa8a7": {
      "model_module": "@jupyter-widgets/base",
      "model_module_version": "1.1.0",
      "model_name": "LayoutModel",
      "state": {}
     },
     "869184b5245f4bf3a838ee69c28cdcf5": {
      "model_module": "@jupyter-widgets/base",
      "model_module_version": "1.1.0",
      "model_name": "LayoutModel",
      "state": {}
     },
     "869a6249fced41fc89b92b687dfe13d1": {
      "model_module": "@jupyter-widgets/controls",
      "model_module_version": "1.4.0",
      "model_name": "ProgressStyleModel",
      "state": {
       "description_width": ""
      }
     },
     "86bc957b11834ebf96710524ca70f5b3": {
      "model_module": "@jupyter-widgets/controls",
      "model_module_version": "1.4.0",
      "model_name": "IntProgressModel",
      "state": {
       "layout": "IPY_MODEL_89d355d7762e4f76914c52303e614c6d",
       "max": 17,
       "style": "IPY_MODEL_2636d9b3bb2a4beb9edf7c5b24e68b08",
       "value": 17
      }
     },
     "86c0b6d716834122a15ea18a7ced42aa": {
      "model_module": "@jupyter-widgets/controls",
      "model_module_version": "1.4.0",
      "model_name": "ProgressStyleModel",
      "state": {
       "description_width": ""
      }
     },
     "86cf13740f3247ebb5ee5e272a940773": {
      "model_module": "@jupyter-widgets/controls",
      "model_module_version": "1.4.0",
      "model_name": "HTMLModel",
      "state": {
       "layout": "IPY_MODEL_941af54bff34459e88224b61690f6e97",
       "style": "IPY_MODEL_fa01a8f58d1244939dae0c9051bab7ee",
       "value": " 28% 22/78 [00:00&lt;00:00, 197.05it/s]"
      }
     },
     "86d109b9e2a04d1fbaebc5a5bc0e9923": {
      "model_module": "@jupyter-widgets/controls",
      "model_module_version": "1.4.0",
      "model_name": "IntProgressModel",
      "state": {
       "layout": "IPY_MODEL_caa73640b71845c78b800563d8377704",
       "max": 78,
       "style": "IPY_MODEL_fb37cf5e1e66439b9206d19326424ed2",
       "value": 63
      }
     },
     "86de60005a55442682ee43c6a0bf2a0e": {
      "model_module": "@jupyter-widgets/base",
      "model_module_version": "1.1.0",
      "model_name": "LayoutModel",
      "state": {}
     },
     "86de9bad1ce2412c849bea4be25d2e57": {
      "model_module": "@jupyter-widgets/base",
      "model_module_version": "1.1.0",
      "model_name": "LayoutModel",
      "state": {}
     },
     "86f2863654a448ed83f8078884a8a8be": {
      "model_module": "@jupyter-widgets/controls",
      "model_module_version": "1.4.0",
      "model_name": "IntProgressModel",
      "state": {
       "layout": "IPY_MODEL_4dc4c2b7cba84baa92b717f64a4b441c",
       "max": 17,
       "style": "IPY_MODEL_e4f475f7b68c40be8f8fbe1418a44172",
       "value": 17
      }
     },
     "8730556912b14e55bb958dbaa58ad3d6": {
      "model_module": "@jupyter-widgets/controls",
      "model_module_version": "1.4.0",
      "model_name": "ProgressStyleModel",
      "state": {
       "description_width": ""
      }
     },
     "873246fa70674782bdceff02858011fb": {
      "model_module": "@jupyter-widgets/base",
      "model_module_version": "1.1.0",
      "model_name": "LayoutModel",
      "state": {}
     },
     "8788ce922082468ea82a8f0c35b9549b": {
      "model_module": "@jupyter-widgets/base",
      "model_module_version": "1.1.0",
      "model_name": "LayoutModel",
      "state": {}
     },
     "87a93843f8ec4cbe8997788c90fe020c": {
      "model_module": "@jupyter-widgets/base",
      "model_module_version": "1.1.0",
      "model_name": "LayoutModel",
      "state": {}
     },
     "87b49b1165e74845b8b99544da70ac28": {
      "model_module": "@jupyter-widgets/controls",
      "model_module_version": "1.4.0",
      "model_name": "DescriptionStyleModel",
      "state": {
       "description_width": ""
      }
     },
     "87c300f5e44749c19c30f4677ecae8fa": {
      "model_module": "@jupyter-widgets/controls",
      "model_module_version": "1.4.0",
      "model_name": "HTMLModel",
      "state": {
       "layout": "IPY_MODEL_2160a5155864427eb2f17f6d549d924f",
       "style": "IPY_MODEL_0bf47a5c13734a46bc7d054e5c00114d",
       "value": " 13% 10/78 [00:00&lt;00:00, 96.21it/s]"
      }
     },
     "87d09d80e3ec4c15b15be986dae52675": {
      "model_module": "@jupyter-widgets/base",
      "model_module_version": "1.1.0",
      "model_name": "LayoutModel",
      "state": {}
     },
     "880d238efbac4d4a806438787d45971d": {
      "model_module": "@jupyter-widgets/base",
      "model_module_version": "1.1.0",
      "model_name": "LayoutModel",
      "state": {}
     },
     "8832c4e0e1c84c2d87334ce9e4792235": {
      "model_module": "@jupyter-widgets/base",
      "model_module_version": "1.1.0",
      "model_name": "LayoutModel",
      "state": {}
     },
     "88347563992e45e281fb15204d94faec": {
      "model_module": "@jupyter-widgets/controls",
      "model_module_version": "1.4.0",
      "model_name": "HTMLModel",
      "state": {
       "layout": "IPY_MODEL_2c546d4d9f344f53aada0bcb43a061c3",
       "style": "IPY_MODEL_14c0b5fd08fc4f57b9fa68082bb10a59",
       "value": "100% 551/551 [00:02&lt;00:00, 194.73it/s]"
      }
     },
     "885d328a0842409aabb4dc490b33597d": {
      "model_module": "@jupyter-widgets/base",
      "model_module_version": "1.1.0",
      "model_name": "LayoutModel",
      "state": {}
     },
     "8862b53b6cf64f13b5f350df64bd4fbe": {
      "model_module": "@jupyter-widgets/base",
      "model_module_version": "1.1.0",
      "model_name": "LayoutModel",
      "state": {}
     },
     "887603283c3c4ffe897b9810e6d7725b": {
      "model_module": "@jupyter-widgets/controls",
      "model_module_version": "1.4.0",
      "model_name": "DescriptionStyleModel",
      "state": {
       "description_width": ""
      }
     },
     "887910776ea04a779850d7caa18e675f": {
      "model_module": "@jupyter-widgets/controls",
      "model_module_version": "1.4.0",
      "model_name": "HTMLModel",
      "state": {
       "layout": "IPY_MODEL_eaa709c1de274b9cb3e2a8273113f774",
       "style": "IPY_MODEL_cb6ae56a2998482e8955c669f9f8ff69",
       "value": "100% 78/78 [00:00&lt;00:00, 179.32it/s]"
      }
     },
     "88916ca0b28445728bbb3a8115480b97": {
      "model_module": "@jupyter-widgets/controls",
      "model_module_version": "1.4.0",
      "model_name": "DescriptionStyleModel",
      "state": {
       "description_width": ""
      }
     },
     "8898e8c934bc48f79d4b9a33921d794f": {
      "model_module": "@jupyter-widgets/controls",
      "model_module_version": "1.4.0",
      "model_name": "IntProgressModel",
      "state": {
       "layout": "IPY_MODEL_d3563159fd1c4d708018b7b478dfd3f9",
       "max": 78,
       "style": "IPY_MODEL_2a0f14c3f36d418e9e944675de803b85",
       "value": 10
      }
     },
     "88a803f2b23b490dbcc272318d60bf86": {
      "model_module": "@jupyter-widgets/controls",
      "model_module_version": "1.4.0",
      "model_name": "IntProgressModel",
      "state": {
       "layout": "IPY_MODEL_65639dc2bb3247cc962356c3c6f7ec16",
       "max": 17,
       "style": "IPY_MODEL_ac32f76125614169abea6056ee9356ff",
       "value": 17
      }
     },
     "88e1236413584266a0437dbeb380eeeb": {
      "model_module": "@jupyter-widgets/controls",
      "model_module_version": "1.4.0",
      "model_name": "DescriptionStyleModel",
      "state": {
       "description_width": ""
      }
     },
     "8910bb3160174a4092057c2426a6c940": {
      "model_module": "@jupyter-widgets/controls",
      "model_module_version": "1.4.0",
      "model_name": "HTMLModel",
      "state": {
       "layout": "IPY_MODEL_2c955caa6ac2478982988debde02bccd",
       "style": "IPY_MODEL_3837bf68ee3f48d5a1d424ae807d3690",
       "value": "100% 20/20 [02:01&lt;00:00,  6.09s/it]"
      }
     },
     "8911e700b6d34c5d83feec76010eb2e5": {
      "model_module": "@jupyter-widgets/base",
      "model_module_version": "1.1.0",
      "model_name": "LayoutModel",
      "state": {}
     },
     "89234bf2e2484d4889da1cc27d99874f": {
      "model_module": "@jupyter-widgets/controls",
      "model_module_version": "1.4.0",
      "model_name": "ProgressStyleModel",
      "state": {
       "description_width": ""
      }
     },
     "89422f6a2bd649bc83bf298f4886a34f": {
      "model_module": "@jupyter-widgets/base",
      "model_module_version": "1.1.0",
      "model_name": "LayoutModel",
      "state": {}
     },
     "894528cf62a2429eb3bb92d33b169250": {
      "model_module": "@jupyter-widgets/base",
      "model_module_version": "1.1.0",
      "model_name": "LayoutModel",
      "state": {}
     },
     "895b9b7a233045baa67ee880a940063f": {
      "model_module": "@jupyter-widgets/controls",
      "model_module_version": "1.4.0",
      "model_name": "DescriptionStyleModel",
      "state": {
       "description_width": ""
      }
     },
     "898a51e0756743949ebf87e87ff6d695": {
      "model_module": "@jupyter-widgets/controls",
      "model_module_version": "1.4.0",
      "model_name": "HTMLModel",
      "state": {
       "layout": "IPY_MODEL_b5503e06fc2848fea6fcd5000fd6ccae",
       "style": "IPY_MODEL_d8b0b2d40a904ab0a9a9fc875b2d1195",
       "value": " 19% 15/78 [00:00&lt;00:00, 149.21it/s]"
      }
     },
     "89921b19c174494299e6556ed29da411": {
      "model_module": "@jupyter-widgets/controls",
      "model_module_version": "1.4.0",
      "model_name": "IntProgressModel",
      "state": {
       "layout": "IPY_MODEL_db4afcaf40ae41639c436d011b7cd0d8",
       "max": 78,
       "style": "IPY_MODEL_9e97c5936f2e4486923d6e74822729da",
       "value": 64
      }
     },
     "89a783ab75cb4e8da7fefce1c859bb94": {
      "model_module": "@jupyter-widgets/base",
      "model_module_version": "1.1.0",
      "model_name": "LayoutModel",
      "state": {}
     },
     "89d355d7762e4f76914c52303e614c6d": {
      "model_module": "@jupyter-widgets/base",
      "model_module_version": "1.1.0",
      "model_name": "LayoutModel",
      "state": {}
     },
     "89d6e4583c2a4d50a6c672cf22df2dde": {
      "model_module": "@jupyter-widgets/base",
      "model_module_version": "1.1.0",
      "model_name": "LayoutModel",
      "state": {}
     },
     "8a00371f49084d5c9053b7b0226de555": {
      "model_module": "@jupyter-widgets/base",
      "model_module_version": "1.1.0",
      "model_name": "LayoutModel",
      "state": {}
     },
     "8a1582d5c89749a58500522c7f560b2e": {
      "model_module": "@jupyter-widgets/controls",
      "model_module_version": "1.4.0",
      "model_name": "HTMLModel",
      "state": {
       "layout": "IPY_MODEL_19fc0938f7304a36b16227bd2d501ea1",
       "style": "IPY_MODEL_2885b79269674ec895d6fc0ef60c07d2",
       "value": "100% 17/17 [00:06&lt;00:00,  2.75it/s]"
      }
     },
     "8a21c3ad8ac844e6aa9ba7d589ad2664": {
      "model_module": "@jupyter-widgets/base",
      "model_module_version": "1.1.0",
      "model_name": "LayoutModel",
      "state": {}
     },
     "8a269ddb75264bd993afecc29a8c546b": {
      "model_module": "@jupyter-widgets/controls",
      "model_module_version": "1.4.0",
      "model_name": "IntProgressModel",
      "state": {
       "layout": "IPY_MODEL_e76fbb5728654b2cb63b49c25c9eb7f2",
       "max": 17,
       "style": "IPY_MODEL_2f32796a87df492aa7e9c49370b11e1f",
       "value": 17
      }
     },
     "8a34add7cf9c48dfb98fae34841d3080": {
      "model_module": "@jupyter-widgets/controls",
      "model_module_version": "1.4.0",
      "model_name": "IntProgressModel",
      "state": {
       "layout": "IPY_MODEL_e20d5531e5184222b7b8e3dfcb70345c",
       "max": 78,
       "style": "IPY_MODEL_dd17a27ded20444db1fe076d4dfb6b59",
       "value": 66
      }
     },
     "8a5086fe5eb44dc2a3ea2decc50418f8": {
      "model_module": "@jupyter-widgets/base",
      "model_module_version": "1.1.0",
      "model_name": "LayoutModel",
      "state": {}
     },
     "8a62c2e2497a412f91c7ac644736e93c": {
      "model_module": "@jupyter-widgets/controls",
      "model_module_version": "1.4.0",
      "model_name": "DescriptionStyleModel",
      "state": {
       "description_width": ""
      }
     },
     "8a65a55d33ce4599ab58f6f96ffeef83": {
      "model_module": "@jupyter-widgets/base",
      "model_module_version": "1.1.0",
      "model_name": "LayoutModel",
      "state": {}
     },
     "8a7353ffe4bf47cc8fcb1c82241f9f6e": {
      "model_module": "@jupyter-widgets/controls",
      "model_module_version": "1.4.0",
      "model_name": "HTMLModel",
      "state": {
       "layout": "IPY_MODEL_471c831d05c047d7af8407ca3f37ac6c",
       "style": "IPY_MODEL_c9b61be1552b4e6392d05a5151cefb23",
       "value": "100% 17/17 [00:05&lt;00:00,  3.39it/s]"
      }
     },
     "8a7d37dd9f2b456fa7525c6211ae6eed": {
      "model_module": "@jupyter-widgets/base",
      "model_module_version": "1.1.0",
      "model_name": "LayoutModel",
      "state": {}
     },
     "8a7e7ae5b00141488b6dfa9ee2566478": {
      "model_module": "@jupyter-widgets/controls",
      "model_module_version": "1.4.0",
      "model_name": "IntProgressModel",
      "state": {
       "layout": "IPY_MODEL_ecfc495772dd41fbae309ec483b7d0ac",
       "max": 78,
       "style": "IPY_MODEL_75b6ba9e2c9b4d14a25b09fe1f9f7d0f",
       "value": 24
      }
     },
     "8a80270d62af41a6bfb8c1a5791c2772": {
      "model_module": "@jupyter-widgets/base",
      "model_module_version": "1.1.0",
      "model_name": "LayoutModel",
      "state": {}
     },
     "8a89adfe4d084cbfbe1912b213132ddf": {
      "model_module": "@jupyter-widgets/base",
      "model_module_version": "1.1.0",
      "model_name": "LayoutModel",
      "state": {}
     },
     "8ab91cb04ca54dedbb8db7e75a84ec3b": {
      "model_module": "@jupyter-widgets/controls",
      "model_module_version": "1.4.0",
      "model_name": "IntProgressModel",
      "state": {
       "layout": "IPY_MODEL_7d922b88c90249519a1034724cdd8ac5",
       "max": 17,
       "style": "IPY_MODEL_86c0b6d716834122a15ea18a7ced42aa",
       "value": 17
      }
     },
     "8ae7eeb5bfd7486fbb716ded986d2b90": {
      "model_module": "@jupyter-widgets/base",
      "model_module_version": "1.1.0",
      "model_name": "LayoutModel",
      "state": {}
     },
     "8af625fbc80c4ba1a8be7a785f4a7f63": {
      "model_module": "@jupyter-widgets/controls",
      "model_module_version": "1.4.0",
      "model_name": "ProgressStyleModel",
      "state": {
       "description_width": ""
      }
     },
     "8b10c2a102e04400aabd2ac1de3b4de8": {
      "model_module": "@jupyter-widgets/controls",
      "model_module_version": "1.4.0",
      "model_name": "DescriptionStyleModel",
      "state": {
       "description_width": ""
      }
     },
     "8b2fea54c35a418590f3fef5cba3565e": {
      "model_module": "@jupyter-widgets/controls",
      "model_module_version": "1.4.0",
      "model_name": "IntProgressModel",
      "state": {
       "layout": "IPY_MODEL_8cca70b7f261491f8f25a4dc937eb811",
       "max": 17,
       "style": "IPY_MODEL_233e7726e52643b0aa6f15ac04471f7b",
       "value": 17
      }
     },
     "8b2fef6488f846e790dad4eda04697ae": {
      "model_module": "@jupyter-widgets/controls",
      "model_module_version": "1.4.0",
      "model_name": "IntProgressModel",
      "state": {
       "layout": "IPY_MODEL_910600ba7b934ea1aa0d2e3a7c626dac",
       "max": 17,
       "style": "IPY_MODEL_eeb94c9223be4088bfc3e6ac23a6dbe9",
       "value": 17
      }
     },
     "8b5fac578610462597689d60932dad9a": {
      "model_module": "@jupyter-widgets/base",
      "model_module_version": "1.1.0",
      "model_name": "LayoutModel",
      "state": {}
     },
     "8bd47de71202439890fed614fe987252": {
      "model_module": "@jupyter-widgets/base",
      "model_module_version": "1.1.0",
      "model_name": "LayoutModel",
      "state": {}
     },
     "8c08aeb62d984a06b76ead8de43fdcd5": {
      "model_module": "@jupyter-widgets/base",
      "model_module_version": "1.1.0",
      "model_name": "LayoutModel",
      "state": {}
     },
     "8c1e79f63b20448cb2eda51ce395004f": {
      "model_module": "@jupyter-widgets/controls",
      "model_module_version": "1.4.0",
      "model_name": "ProgressStyleModel",
      "state": {
       "description_width": ""
      }
     },
     "8c3346b1eeeb45668dcd214c8bb151d0": {
      "model_module": "@jupyter-widgets/controls",
      "model_module_version": "1.4.0",
      "model_name": "ProgressStyleModel",
      "state": {
       "description_width": ""
      }
     },
     "8c3dcd7b766b475b9457d31984a02721": {
      "model_module": "@jupyter-widgets/controls",
      "model_module_version": "1.4.0",
      "model_name": "IntProgressModel",
      "state": {
       "layout": "IPY_MODEL_e608a2a263074f1e92c261410e5d65b6",
       "max": 78,
       "style": "IPY_MODEL_49807ff90a2c4bd0b118bc8a1b4fc9ee",
       "value": 30
      }
     },
     "8c4c49124cb64c60ac5c19cc20b5a311": {
      "model_module": "@jupyter-widgets/controls",
      "model_module_version": "1.4.0",
      "model_name": "DescriptionStyleModel",
      "state": {
       "description_width": ""
      }
     },
     "8cc04f5e4dfd44df90c538918624c3e9": {
      "model_module": "@jupyter-widgets/base",
      "model_module_version": "1.1.0",
      "model_name": "LayoutModel",
      "state": {}
     },
     "8cca70b7f261491f8f25a4dc937eb811": {
      "model_module": "@jupyter-widgets/base",
      "model_module_version": "1.1.0",
      "model_name": "LayoutModel",
      "state": {}
     },
     "8ce745a2e4a4486782e2b7ae7df3e610": {
      "model_module": "@jupyter-widgets/controls",
      "model_module_version": "1.4.0",
      "model_name": "ProgressStyleModel",
      "state": {
       "description_width": ""
      }
     },
     "8cf13590f7a145c8bdcd6cd641b1b619": {
      "model_module": "@jupyter-widgets/controls",
      "model_module_version": "1.4.0",
      "model_name": "HTMLModel",
      "state": {
       "layout": "IPY_MODEL_7ffe14f22b1642008e4765495b40aa25",
       "style": "IPY_MODEL_d586564ce20345b2bba9498832cb5ae6",
       "value": " 62% 48/78 [00:00&lt;00:00, 238.12it/s]"
      }
     },
     "8d0c310c64044cc98628bed7520081fb": {
      "model_module": "@jupyter-widgets/controls",
      "model_module_version": "1.4.0",
      "model_name": "DescriptionStyleModel",
      "state": {
       "description_width": ""
      }
     },
     "8d123bb95d9640dc8e608eaf7fe0fd91": {
      "model_module": "@jupyter-widgets/controls",
      "model_module_version": "1.4.0",
      "model_name": "ProgressStyleModel",
      "state": {
       "description_width": ""
      }
     },
     "8d2bec3f7d3d42f1a5950de343592050": {
      "model_module": "@jupyter-widgets/controls",
      "model_module_version": "1.4.0",
      "model_name": "IntProgressModel",
      "state": {
       "layout": "IPY_MODEL_8911e700b6d34c5d83feec76010eb2e5",
       "max": 17,
       "style": "IPY_MODEL_d2167f6e36974e59aff3322fcf34cc25",
       "value": 17
      }
     },
     "8d468d4dface4246bc3279a9f97f8c36": {
      "model_module": "@jupyter-widgets/controls",
      "model_module_version": "1.4.0",
      "model_name": "IntProgressModel",
      "state": {
       "layout": "IPY_MODEL_53158126027242d38dbbfe1de6323141",
       "max": 78,
       "style": "IPY_MODEL_cbeb45921b0f460d8ebf858ca4de1d52"
      }
     },
     "8d62a10fd54f47b09e97919d158b18b0": {
      "model_module": "@jupyter-widgets/base",
      "model_module_version": "1.1.0",
      "model_name": "LayoutModel",
      "state": {}
     },
     "8d7971a09a864c268b99518f98fec119": {
      "model_module": "@jupyter-widgets/base",
      "model_module_version": "1.1.0",
      "model_name": "LayoutModel",
      "state": {}
     },
     "8d92ea20d67e48a9aba403f529a42ac7": {
      "model_module": "@jupyter-widgets/base",
      "model_module_version": "1.1.0",
      "model_name": "LayoutModel",
      "state": {}
     },
     "8da4679bf7b34b4a9aaaf574f75b8912": {
      "model_module": "@jupyter-widgets/controls",
      "model_module_version": "1.4.0",
      "model_name": "ProgressStyleModel",
      "state": {
       "description_width": ""
      }
     },
     "8dcc0c3d3af846278be42f608acda264": {
      "model_module": "@jupyter-widgets/base",
      "model_module_version": "1.1.0",
      "model_name": "LayoutModel",
      "state": {}
     },
     "8dd54603a5cc442e91f5a7be382e174b": {
      "model_module": "@jupyter-widgets/controls",
      "model_module_version": "1.4.0",
      "model_name": "ProgressStyleModel",
      "state": {
       "description_width": ""
      }
     },
     "8ddc87a5c98b4d7e8b2db7bd198d12a0": {
      "model_module": "@jupyter-widgets/controls",
      "model_module_version": "1.4.0",
      "model_name": "IntProgressModel",
      "state": {
       "layout": "IPY_MODEL_ac7badda8db04f818b7a9c540cdd1f2e",
       "max": 17,
       "style": "IPY_MODEL_46ccb46a3d7445dd8e5094f1d89be26b",
       "value": 17
      }
     },
     "8df52dabb8b846cc87ddb394b1481801": {
      "model_module": "@jupyter-widgets/base",
      "model_module_version": "1.1.0",
      "model_name": "LayoutModel",
      "state": {}
     },
     "8e128ff79b6946ebaeb8c2cbec8ac584": {
      "model_module": "@jupyter-widgets/base",
      "model_module_version": "1.1.0",
      "model_name": "LayoutModel",
      "state": {}
     },
     "8e4e43898a65451f8c5c35eff487c727": {
      "model_module": "@jupyter-widgets/controls",
      "model_module_version": "1.4.0",
      "model_name": "HBoxModel",
      "state": {
       "children": [
        "IPY_MODEL_d67fa19e07504ad5b2e6b0ea760e4647",
        "IPY_MODEL_73fe314b06644b4dba42e7666301af05"
       ],
       "layout": "IPY_MODEL_fdabac03d77b4e128435a8b7bb6856ba"
      }
     },
     "8e5716e67b884948823985b56b34cb11": {
      "model_module": "@jupyter-widgets/controls",
      "model_module_version": "1.4.0",
      "model_name": "ProgressStyleModel",
      "state": {
       "description_width": ""
      }
     },
     "8e5a131c74b2476bbaf37c38d109d1f2": {
      "model_module": "@jupyter-widgets/base",
      "model_module_version": "1.1.0",
      "model_name": "LayoutModel",
      "state": {}
     },
     "8e665e30f069405a9945a58702d5785a": {
      "model_module": "@jupyter-widgets/base",
      "model_module_version": "1.1.0",
      "model_name": "LayoutModel",
      "state": {}
     },
     "8e68fe5db9ba43ed9973191557c2a45e": {
      "model_module": "@jupyter-widgets/base",
      "model_module_version": "1.1.0",
      "model_name": "LayoutModel",
      "state": {}
     },
     "8e726d32a44c4ba7bcbecbd7e7a16239": {
      "model_module": "@jupyter-widgets/base",
      "model_module_version": "1.1.0",
      "model_name": "LayoutModel",
      "state": {}
     },
     "8e7e3c0d81b34ee0b3b0c9bc11de229f": {
      "model_module": "@jupyter-widgets/controls",
      "model_module_version": "1.4.0",
      "model_name": "ProgressStyleModel",
      "state": {
       "description_width": ""
      }
     },
     "8e89b81c2d7d4a86a433a79543d766b9": {
      "model_module": "@jupyter-widgets/controls",
      "model_module_version": "1.4.0",
      "model_name": "IntProgressModel",
      "state": {
       "layout": "IPY_MODEL_55661711b69d4a01a8c7d8f42c9e6c87",
       "max": 17,
       "style": "IPY_MODEL_acfa2bf11918431890a894808cc2bf16",
       "value": 17
      }
     },
     "8e8c9a8232b2447996ee25c9f2ba64e0": {
      "model_module": "@jupyter-widgets/controls",
      "model_module_version": "1.4.0",
      "model_name": "IntProgressModel",
      "state": {
       "layout": "IPY_MODEL_f6d2a5712447403ca61f86ed5a926f2c",
       "max": 17,
       "style": "IPY_MODEL_af630693dfff4b7d8adccad12c9054f2",
       "value": 17
      }
     },
     "8f3d8bf8d2d14d0e9e0837ab37592289": {
      "model_module": "@jupyter-widgets/controls",
      "model_module_version": "1.4.0",
      "model_name": "ProgressStyleModel",
      "state": {
       "description_width": ""
      }
     },
     "8f4d963d20da46aabc0274c4e66e86d5": {
      "model_module": "@jupyter-widgets/controls",
      "model_module_version": "1.4.0",
      "model_name": "HTMLModel",
      "state": {
       "layout": "IPY_MODEL_4465e50ab3b84067a3af52e542c82007",
       "style": "IPY_MODEL_f50c16e0531940319ef82754606ae2b4",
       "value": "100% 17/17 [00:07&lt;00:00,  2.42it/s]"
      }
     },
     "8f51c1720c9d4ae5b68b7bdea3b3571d": {
      "model_module": "@jupyter-widgets/controls",
      "model_module_version": "1.4.0",
      "model_name": "HBoxModel",
      "state": {
       "children": [
        "IPY_MODEL_ecbdff9846e944589fbe2bfd4d5a4f5d",
        "IPY_MODEL_0a21a7739c464ae3a0c81daa4a0d5602"
       ],
       "layout": "IPY_MODEL_ecf78a2be03446c6b2db3761b047da56"
      }
     },
     "8f7708b538064f53a192b1b00f7be948": {
      "model_module": "@jupyter-widgets/base",
      "model_module_version": "1.1.0",
      "model_name": "LayoutModel",
      "state": {}
     },
     "8fbeeeaef2f84f80987723c91f6dd0bf": {
      "model_module": "@jupyter-widgets/base",
      "model_module_version": "1.1.0",
      "model_name": "LayoutModel",
      "state": {}
     },
     "8fc8b071cc48413a8c70ca6e8f5badc6": {
      "model_module": "@jupyter-widgets/base",
      "model_module_version": "1.1.0",
      "model_name": "LayoutModel",
      "state": {}
     },
     "90005ff6c88548eea476fb2a09c290c8": {
      "model_module": "@jupyter-widgets/controls",
      "model_module_version": "1.4.0",
      "model_name": "DescriptionStyleModel",
      "state": {
       "description_width": ""
      }
     },
     "9010054ff7dd4511ba503064d98a9373": {
      "model_module": "@jupyter-widgets/base",
      "model_module_version": "1.1.0",
      "model_name": "LayoutModel",
      "state": {}
     },
     "903312b649424833a0b9e530c83de570": {
      "model_module": "@jupyter-widgets/base",
      "model_module_version": "1.1.0",
      "model_name": "LayoutModel",
      "state": {}
     },
     "90393370688942cd86e36a6781e4304d": {
      "model_module": "@jupyter-widgets/base",
      "model_module_version": "1.1.0",
      "model_name": "LayoutModel",
      "state": {}
     },
     "903e5f784fc9483888787f93b703facb": {
      "model_module": "@jupyter-widgets/controls",
      "model_module_version": "1.4.0",
      "model_name": "ProgressStyleModel",
      "state": {
       "description_width": ""
      }
     },
     "906b66f099fd45948645093ecc728403": {
      "model_module": "@jupyter-widgets/controls",
      "model_module_version": "1.4.0",
      "model_name": "DescriptionStyleModel",
      "state": {
       "description_width": ""
      }
     },
     "909fc6347af6432e8b2b4db4708cb7f2": {
      "model_module": "@jupyter-widgets/controls",
      "model_module_version": "1.4.0",
      "model_name": "DescriptionStyleModel",
      "state": {
       "description_width": ""
      }
     },
     "90b2d10ba5ec4730b658194d383575b1": {
      "model_module": "@jupyter-widgets/controls",
      "model_module_version": "1.4.0",
      "model_name": "DescriptionStyleModel",
      "state": {
       "description_width": ""
      }
     },
     "90d849277efc4a76be0208382da75e1e": {
      "model_module": "@jupyter-widgets/base",
      "model_module_version": "1.1.0",
      "model_name": "LayoutModel",
      "state": {}
     },
     "90dee1815f3842dda8a5f1d3909ac9ce": {
      "model_module": "@jupyter-widgets/controls",
      "model_module_version": "1.4.0",
      "model_name": "DescriptionStyleModel",
      "state": {
       "description_width": ""
      }
     },
     "910600ba7b934ea1aa0d2e3a7c626dac": {
      "model_module": "@jupyter-widgets/base",
      "model_module_version": "1.1.0",
      "model_name": "LayoutModel",
      "state": {}
     },
     "912d60be9c2f4d69bc468142c402eed1": {
      "model_module": "@jupyter-widgets/controls",
      "model_module_version": "1.4.0",
      "model_name": "DescriptionStyleModel",
      "state": {
       "description_width": ""
      }
     },
     "912d67dd74cd4f3b8deceda359a3fb71": {
      "model_module": "@jupyter-widgets/controls",
      "model_module_version": "1.4.0",
      "model_name": "IntProgressModel",
      "state": {
       "layout": "IPY_MODEL_dedf561cc0b14899b91b7ec8a66e1031",
       "max": 78,
       "style": "IPY_MODEL_62e8b1e77cc54f56a83991cae36d5860",
       "value": 31
      }
     },
     "9132a4c8c8aa457ab8a67a5166b25677": {
      "model_module": "@jupyter-widgets/controls",
      "model_module_version": "1.4.0",
      "model_name": "ProgressStyleModel",
      "state": {
       "description_width": ""
      }
     },
     "916cf5887045402a90c3ffa6b32a0f58": {
      "model_module": "@jupyter-widgets/controls",
      "model_module_version": "1.4.0",
      "model_name": "ProgressStyleModel",
      "state": {
       "description_width": ""
      }
     },
     "91a478dc73754460b2a9c66048fc0458": {
      "model_module": "@jupyter-widgets/base",
      "model_module_version": "1.1.0",
      "model_name": "LayoutModel",
      "state": {}
     },
     "91bb1ac54ab643309440c6fe65940e5e": {
      "model_module": "@jupyter-widgets/controls",
      "model_module_version": "1.4.0",
      "model_name": "ProgressStyleModel",
      "state": {
       "description_width": ""
      }
     },
     "91bbd10ce748459cbef7ddafc8a870a8": {
      "model_module": "@jupyter-widgets/controls",
      "model_module_version": "1.4.0",
      "model_name": "ProgressStyleModel",
      "state": {
       "description_width": ""
      }
     },
     "91beddb8a5bc4435b0e9ac75a3ce28c4": {
      "model_module": "@jupyter-widgets/controls",
      "model_module_version": "1.4.0",
      "model_name": "DescriptionStyleModel",
      "state": {
       "description_width": ""
      }
     },
     "91c403c1a42a48bcacb8e2ef35b2ccdf": {
      "model_module": "@jupyter-widgets/controls",
      "model_module_version": "1.4.0",
      "model_name": "IntProgressModel",
      "state": {
       "layout": "IPY_MODEL_da695d64912d4041aca3ac6aae0fa441",
       "max": 78,
       "style": "IPY_MODEL_0474abd141d0483aa061c666d4d7c322",
       "value": 23
      }
     },
     "91dc7d6d3ec44434805cc838c8a0b38f": {
      "model_module": "@jupyter-widgets/base",
      "model_module_version": "1.1.0",
      "model_name": "LayoutModel",
      "state": {}
     },
     "91f362d4ed67424c90c38eb4f8f0e852": {
      "model_module": "@jupyter-widgets/controls",
      "model_module_version": "1.4.0",
      "model_name": "IntProgressModel",
      "state": {
       "layout": "IPY_MODEL_38b4ae2bc73a4cb5825fb731cae9d6cd",
       "max": 78,
       "style": "IPY_MODEL_3ce88b9281094f22842306150d03931f",
       "value": 14
      }
     },
     "921f1fb58cbc466ebe7c8bf154a5c07f": {
      "model_module": "@jupyter-widgets/controls",
      "model_module_version": "1.4.0",
      "model_name": "HTMLModel",
      "state": {
       "layout": "IPY_MODEL_c758b2dd612847a38c0fdb5bb6942476",
       "style": "IPY_MODEL_9669a3b61446440ca627c66e9b972111",
       "value": " 33% 26/78 [00:00&lt;00:00, 256.86it/s]"
      }
     },
     "924d9f008be84465bd46cbd2b65295b9": {
      "model_module": "@jupyter-widgets/controls",
      "model_module_version": "1.4.0",
      "model_name": "IntProgressModel",
      "state": {
       "layout": "IPY_MODEL_a5fd812c0e4549c09eec5f921af10885",
       "max": 78,
       "style": "IPY_MODEL_a857bbc69a8a42ddae6d7ae461003c44"
      }
     },
     "926d63bb464949afafb2487c19505d31": {
      "model_module": "@jupyter-widgets/base",
      "model_module_version": "1.1.0",
      "model_name": "LayoutModel",
      "state": {}
     },
     "9271bbea7e6e478d9ab02664a18abbc6": {
      "model_module": "@jupyter-widgets/controls",
      "model_module_version": "1.4.0",
      "model_name": "DescriptionStyleModel",
      "state": {
       "description_width": ""
      }
     },
     "92795440f8d74c1998fc3f3e66acdcba": {
      "model_module": "@jupyter-widgets/base",
      "model_module_version": "1.1.0",
      "model_name": "LayoutModel",
      "state": {}
     },
     "927cad056cc94916bc6195fb4a935752": {
      "model_module": "@jupyter-widgets/controls",
      "model_module_version": "1.4.0",
      "model_name": "HTMLModel",
      "state": {
       "layout": "IPY_MODEL_21c05fea28e04f518d64b0d4f8c5253e",
       "style": "IPY_MODEL_568d08b977104823a10b23c78ba90104",
       "value": "100% 17/17 [00:06&lt;00:00,  2.72it/s]"
      }
     },
     "932164a10c5b4e27841bb3e4a024a125": {
      "model_module": "@jupyter-widgets/controls",
      "model_module_version": "1.4.0",
      "model_name": "IntProgressModel",
      "state": {
       "layout": "IPY_MODEL_abeed214a4844a5b8e26a00c993a0db0",
       "max": 78,
       "style": "IPY_MODEL_3f9f194020384f2e990a1a0f9dc35fdd",
       "value": 76
      }
     },
     "93439395bc334df3853b2e3fb64197df": {
      "model_module": "@jupyter-widgets/base",
      "model_module_version": "1.1.0",
      "model_name": "LayoutModel",
      "state": {}
     },
     "9361007f4903493da0ebb9fca6a46416": {
      "model_module": "@jupyter-widgets/controls",
      "model_module_version": "1.4.0",
      "model_name": "ProgressStyleModel",
      "state": {
       "description_width": ""
      }
     },
     "937cc81888da4c32add4fb56ccca3c58": {
      "model_module": "@jupyter-widgets/base",
      "model_module_version": "1.1.0",
      "model_name": "LayoutModel",
      "state": {}
     },
     "937e3d6db6da4999bcc1184db2713934": {
      "model_module": "@jupyter-widgets/controls",
      "model_module_version": "1.4.0",
      "model_name": "HTMLModel",
      "state": {
       "layout": "IPY_MODEL_709643f4e08c43c6b346e59024d880fd",
       "style": "IPY_MODEL_013552e5fa8146298acff923af909146",
       "value": " 35% 27/78 [00:00&lt;00:00, 268.08it/s]"
      }
     },
     "938cf34cb96444be97a77daa28fead90": {
      "model_module": "@jupyter-widgets/base",
      "model_module_version": "1.1.0",
      "model_name": "LayoutModel",
      "state": {}
     },
     "93d977b862b3428e94cedf82bfa95203": {
      "model_module": "@jupyter-widgets/controls",
      "model_module_version": "1.4.0",
      "model_name": "ProgressStyleModel",
      "state": {
       "description_width": ""
      }
     },
     "93e7ff0f5b81466f917442a9df79094b": {
      "model_module": "@jupyter-widgets/controls",
      "model_module_version": "1.4.0",
      "model_name": "ProgressStyleModel",
      "state": {
       "description_width": ""
      }
     },
     "93ff69b706b6465c85605c2d3354e3db": {
      "model_module": "@jupyter-widgets/base",
      "model_module_version": "1.1.0",
      "model_name": "LayoutModel",
      "state": {}
     },
     "941af54bff34459e88224b61690f6e97": {
      "model_module": "@jupyter-widgets/base",
      "model_module_version": "1.1.0",
      "model_name": "LayoutModel",
      "state": {}
     },
     "941e762fd1ee4140bdb98efdb3a8c125": {
      "model_module": "@jupyter-widgets/controls",
      "model_module_version": "1.4.0",
      "model_name": "DescriptionStyleModel",
      "state": {
       "description_width": ""
      }
     },
     "9427713000024dafaa579f165b8b1da1": {
      "model_module": "@jupyter-widgets/controls",
      "model_module_version": "1.4.0",
      "model_name": "DescriptionStyleModel",
      "state": {
       "description_width": ""
      }
     },
     "944e913da3784472b2b1d4d15ddbcf17": {
      "model_module": "@jupyter-widgets/controls",
      "model_module_version": "1.4.0",
      "model_name": "ProgressStyleModel",
      "state": {
       "description_width": ""
      }
     },
     "94995151f6074f2c827abd93ccb89420": {
      "model_module": "@jupyter-widgets/controls",
      "model_module_version": "1.4.0",
      "model_name": "HTMLModel",
      "state": {
       "layout": "IPY_MODEL_b3ce9196e3e240a499914ea51aeca75e",
       "style": "IPY_MODEL_51c45930751043c1915f83d7ebf021d2",
       "value": " 15% 12/78 [00:00&lt;00:00, 118.11it/s]"
      }
     },
     "94ab79de428b4788972306ea6a9bca85": {
      "model_module": "@jupyter-widgets/controls",
      "model_module_version": "1.4.0",
      "model_name": "HTMLModel",
      "state": {
       "layout": "IPY_MODEL_026a4857735848cca7e58a1d59725541",
       "style": "IPY_MODEL_912d60be9c2f4d69bc468142c402eed1",
       "value": "100% 17/17 [00:06&lt;00:00,  2.54it/s]"
      }
     },
     "94b566aea4d84663952e4dfa0daf6184": {
      "model_module": "@jupyter-widgets/base",
      "model_module_version": "1.1.0",
      "model_name": "LayoutModel",
      "state": {}
     },
     "94b5a18b628847249dbba76a7b3b0e68": {
      "model_module": "@jupyter-widgets/base",
      "model_module_version": "1.1.0",
      "model_name": "LayoutModel",
      "state": {}
     },
     "94b86513c9cb41ec9e9b48f149c2baf7": {
      "model_module": "@jupyter-widgets/base",
      "model_module_version": "1.1.0",
      "model_name": "LayoutModel",
      "state": {}
     },
     "94f59e2082634ec0bfa94182298a8df1": {
      "model_module": "@jupyter-widgets/base",
      "model_module_version": "1.1.0",
      "model_name": "LayoutModel",
      "state": {}
     },
     "950113e56e8248deaaccca90a8586b78": {
      "model_module": "@jupyter-widgets/controls",
      "model_module_version": "1.4.0",
      "model_name": "IntProgressModel",
      "state": {
       "layout": "IPY_MODEL_63bae3199f26475382d066bd9bf0387b",
       "max": 17,
       "style": "IPY_MODEL_81bb603760d3417bb9e0683253f361b6",
       "value": 17
      }
     },
     "950701a1d6424abc9607ea5746380f44": {
      "model_module": "@jupyter-widgets/controls",
      "model_module_version": "1.4.0",
      "model_name": "HTMLModel",
      "state": {
       "layout": "IPY_MODEL_2caa342fad18499dbdcc85fa1555de71",
       "style": "IPY_MODEL_0ef5cbb5c95745599cebd29dfd50db49",
       "value": "100% 17/17 [00:08&lt;00:00,  1.95it/s]"
      }
     },
     "9507fd193427466999541299c02a5f13": {
      "model_module": "@jupyter-widgets/controls",
      "model_module_version": "1.4.0",
      "model_name": "DescriptionStyleModel",
      "state": {
       "description_width": ""
      }
     },
     "951ac228bbcc40b1b46d3049807310e7": {
      "model_module": "@jupyter-widgets/controls",
      "model_module_version": "1.4.0",
      "model_name": "IntProgressModel",
      "state": {
       "layout": "IPY_MODEL_f57df83ad2714ea694ff6a314636d33f",
       "max": 17,
       "style": "IPY_MODEL_e61c537cb366482ba1466a9277f7afae",
       "value": 17
      }
     },
     "954371330f4b4097a6fca7f67e2fdafb": {
      "model_module": "@jupyter-widgets/controls",
      "model_module_version": "1.4.0",
      "model_name": "HTMLModel",
      "state": {
       "layout": "IPY_MODEL_3c7c3d1854114a1eb4adeac73c91edcc",
       "style": "IPY_MODEL_ebcd252cff134a2e93e92955c6d290fc",
       "value": "100% 17/17 [00:06&lt;00:00,  2.76it/s]"
      }
     },
     "95523526fd4f45609fe57403ea76b453": {
      "model_module": "@jupyter-widgets/controls",
      "model_module_version": "1.4.0",
      "model_name": "ProgressStyleModel",
      "state": {
       "description_width": ""
      }
     },
     "95c568596cec4fffaae24f0416ce37ef": {
      "model_module": "@jupyter-widgets/base",
      "model_module_version": "1.1.0",
      "model_name": "LayoutModel",
      "state": {}
     },
     "95cc974cc3b74feb94d0866a6f7d8956": {
      "model_module": "@jupyter-widgets/controls",
      "model_module_version": "1.4.0",
      "model_name": "ProgressStyleModel",
      "state": {
       "description_width": ""
      }
     },
     "95db2e0ff95b4f8ab3e1938a54612858": {
      "model_module": "@jupyter-widgets/controls",
      "model_module_version": "1.4.0",
      "model_name": "DescriptionStyleModel",
      "state": {
       "description_width": ""
      }
     },
     "95f54f1501c14268bf7b0cf068ca2185": {
      "model_module": "@jupyter-widgets/controls",
      "model_module_version": "1.4.0",
      "model_name": "ProgressStyleModel",
      "state": {
       "description_width": ""
      }
     },
     "95f83df6b7ca4fd680bfd75fd2c2ff94": {
      "model_module": "@jupyter-widgets/base",
      "model_module_version": "1.1.0",
      "model_name": "LayoutModel",
      "state": {}
     },
     "9643604850304f0fa6ad2390c18141e9": {
      "model_module": "@jupyter-widgets/base",
      "model_module_version": "1.1.0",
      "model_name": "LayoutModel",
      "state": {}
     },
     "96475ac1ebd54ab8850d3abb156412b2": {
      "model_module": "@jupyter-widgets/controls",
      "model_module_version": "1.4.0",
      "model_name": "IntProgressModel",
      "state": {
       "layout": "IPY_MODEL_bd1e0498a4464d4fb2bbc2d3d1789371",
       "max": 17,
       "style": "IPY_MODEL_74a3f93c6b05422a9216e7ad416f7861",
       "value": 17
      }
     },
     "964c5cc9dd93410e9fcddc4a3f975536": {
      "model_module": "@jupyter-widgets/controls",
      "model_module_version": "1.4.0",
      "model_name": "IntProgressModel",
      "state": {
       "layout": "IPY_MODEL_21876aea277a4337b90b74024cbb56e5",
       "max": 17,
       "style": "IPY_MODEL_9eee63e776bd41899fdb76fe7f622809",
       "value": 17
      }
     },
     "966894a6280b4a0e9be54def2bc21ddf": {
      "model_module": "@jupyter-widgets/base",
      "model_module_version": "1.1.0",
      "model_name": "LayoutModel",
      "state": {}
     },
     "9669a3b61446440ca627c66e9b972111": {
      "model_module": "@jupyter-widgets/controls",
      "model_module_version": "1.4.0",
      "model_name": "DescriptionStyleModel",
      "state": {
       "description_width": ""
      }
     },
     "968af12bc6094b6792fa020beb6a1ed7": {
      "model_module": "@jupyter-widgets/controls",
      "model_module_version": "1.4.0",
      "model_name": "DescriptionStyleModel",
      "state": {
       "description_width": ""
      }
     },
     "96a75500c4fb45c893e7600f4f391725": {
      "model_module": "@jupyter-widgets/base",
      "model_module_version": "1.1.0",
      "model_name": "LayoutModel",
      "state": {}
     },
     "96cf6a3afc8245ee894186f1abddb0a4": {
      "model_module": "@jupyter-widgets/base",
      "model_module_version": "1.1.0",
      "model_name": "LayoutModel",
      "state": {}
     },
     "96d0c42434ad495d9e70b66f4a3a1a7f": {
      "model_module": "@jupyter-widgets/controls",
      "model_module_version": "1.4.0",
      "model_name": "IntProgressModel",
      "state": {
       "layout": "IPY_MODEL_45f55b57cadd4ade94227bbd6b0c925b",
       "max": 17,
       "style": "IPY_MODEL_58a412261349465389e20ffd6bb4d077",
       "value": 17
      }
     },
     "96d8352d33a5459f82407aecd885ee63": {
      "model_module": "@jupyter-widgets/controls",
      "model_module_version": "1.4.0",
      "model_name": "DescriptionStyleModel",
      "state": {
       "description_width": ""
      }
     },
     "96da7ae78ecf401da35dc655fd8d81ae": {
      "model_module": "@jupyter-widgets/controls",
      "model_module_version": "1.4.0",
      "model_name": "HTMLModel",
      "state": {
       "layout": "IPY_MODEL_706eaa09be23483b8364f4b0b7a3e272",
       "style": "IPY_MODEL_cfef38c78c514c30b72e035dd114b1a4",
       "value": "100% 551/551 [00:04&lt;00:00, 122.94it/s]"
      }
     },
     "970696aebe5a4d349aef0a8b62343c7d": {
      "model_module": "@jupyter-widgets/base",
      "model_module_version": "1.1.0",
      "model_name": "LayoutModel",
      "state": {}
     },
     "971f538e10ba49eeb45af781e8b090b4": {
      "model_module": "@jupyter-widgets/controls",
      "model_module_version": "1.4.0",
      "model_name": "ProgressStyleModel",
      "state": {
       "description_width": ""
      }
     },
     "9753f42749f54b219b3be1ae02114543": {
      "model_module": "@jupyter-widgets/controls",
      "model_module_version": "1.4.0",
      "model_name": "DescriptionStyleModel",
      "state": {
       "description_width": ""
      }
     },
     "9767a11e48a64803a596fb547400260d": {
      "model_module": "@jupyter-widgets/base",
      "model_module_version": "1.1.0",
      "model_name": "LayoutModel",
      "state": {}
     },
     "979937afefcd498f92871be2ad7bdac9": {
      "model_module": "@jupyter-widgets/controls",
      "model_module_version": "1.4.0",
      "model_name": "HTMLModel",
      "state": {
       "layout": "IPY_MODEL_19123f2ff49045e09cffe7ff2bc34352",
       "style": "IPY_MODEL_fff817f55c4f470bbc45cfead69a78c1",
       "value": "100% 17/17 [00:05&lt;00:00,  3.21it/s]"
      }
     },
     "97aee9b6f7a74b9ca35ff2afd9762218": {
      "model_module": "@jupyter-widgets/controls",
      "model_module_version": "1.4.0",
      "model_name": "ProgressStyleModel",
      "state": {
       "description_width": ""
      }
     },
     "97b68db0205c4895967c7552bd247498": {
      "model_module": "@jupyter-widgets/base",
      "model_module_version": "1.1.0",
      "model_name": "LayoutModel",
      "state": {}
     },
     "97eaaa568d5a4c6abb7ea93f4f3551ff": {
      "model_module": "@jupyter-widgets/controls",
      "model_module_version": "1.4.0",
      "model_name": "HBoxModel",
      "state": {
       "children": [
        "IPY_MODEL_68e4835cecac43689f6298138391e825",
        "IPY_MODEL_4cdac0f10e8b4c0ca50f926011f798ef"
       ],
       "layout": "IPY_MODEL_5467924eabbf44fbbb8de6ebe06667d5"
      }
     },
     "97edb31c8ff649afb839bdc4b8ef48cb": {
      "model_module": "@jupyter-widgets/base",
      "model_module_version": "1.1.0",
      "model_name": "LayoutModel",
      "state": {}
     },
     "981f72ccbeb24bbf9f4a1ee8eb685b44": {
      "model_module": "@jupyter-widgets/base",
      "model_module_version": "1.1.0",
      "model_name": "LayoutModel",
      "state": {}
     },
     "982492caab47484fba7ff99afae8bc80": {
      "model_module": "@jupyter-widgets/base",
      "model_module_version": "1.1.0",
      "model_name": "LayoutModel",
      "state": {}
     },
     "984902125a9e4f18b54ed1e0118cea37": {
      "model_module": "@jupyter-widgets/base",
      "model_module_version": "1.1.0",
      "model_name": "LayoutModel",
      "state": {}
     },
     "986123fdab28454ca4d5ba4ba709a958": {
      "model_module": "@jupyter-widgets/base",
      "model_module_version": "1.1.0",
      "model_name": "LayoutModel",
      "state": {}
     },
     "98a73f9a99eb4bbbbde08dd9d8016606": {
      "model_module": "@jupyter-widgets/base",
      "model_module_version": "1.1.0",
      "model_name": "LayoutModel",
      "state": {}
     },
     "98d528e8a11049298eedc776b7d1ed7f": {
      "model_module": "@jupyter-widgets/controls",
      "model_module_version": "1.4.0",
      "model_name": "DescriptionStyleModel",
      "state": {
       "description_width": ""
      }
     },
     "98d72263de94421eaa6cecf245d597b2": {
      "model_module": "@jupyter-widgets/controls",
      "model_module_version": "1.4.0",
      "model_name": "IntProgressModel",
      "state": {
       "layout": "IPY_MODEL_13e5ba01a20140818ebf8530088539c8",
       "max": 17,
       "style": "IPY_MODEL_2cc60f3f22c04852a95c788e1e9868fd",
       "value": 17
      }
     },
     "9922555cc76046be8cbc491818454f4b": {
      "model_module": "@jupyter-widgets/base",
      "model_module_version": "1.1.0",
      "model_name": "LayoutModel",
      "state": {}
     },
     "992e6604c2254dc7bf4d436aa248d85d": {
      "model_module": "@jupyter-widgets/base",
      "model_module_version": "1.1.0",
      "model_name": "LayoutModel",
      "state": {}
     },
     "997c2c92b63940e99027bc02780ef27c": {
      "model_module": "@jupyter-widgets/controls",
      "model_module_version": "1.4.0",
      "model_name": "DescriptionStyleModel",
      "state": {
       "description_width": ""
      }
     },
     "999217ca9f7f4ab395ade54481661b30": {
      "model_module": "@jupyter-widgets/base",
      "model_module_version": "1.1.0",
      "model_name": "LayoutModel",
      "state": {}
     },
     "99a0172f343e4a34ad84b7e7c9ad7ef2": {
      "model_module": "@jupyter-widgets/controls",
      "model_module_version": "1.4.0",
      "model_name": "HBoxModel",
      "state": {
       "children": [
        "IPY_MODEL_b481cf37de244289833cb0ee73090a70",
        "IPY_MODEL_887910776ea04a779850d7caa18e675f"
       ],
       "layout": "IPY_MODEL_869184b5245f4bf3a838ee69c28cdcf5"
      }
     },
     "99c3bd18f1cd443f805c1bf0a75b043d": {
      "model_module": "@jupyter-widgets/base",
      "model_module_version": "1.1.0",
      "model_name": "LayoutModel",
      "state": {}
     },
     "99cda92f79a04c07a031c4514efc63db": {
      "model_module": "@jupyter-widgets/controls",
      "model_module_version": "1.4.0",
      "model_name": "IntProgressModel",
      "state": {
       "layout": "IPY_MODEL_26edd7885296404c89f6797af5ba9e55",
       "max": 78,
       "style": "IPY_MODEL_599abcd26c504ae987ee010a3f456583",
       "value": 32
      }
     },
     "99e70ecd14174a42aad70015486158d7": {
      "model_module": "@jupyter-widgets/controls",
      "model_module_version": "1.4.0",
      "model_name": "ProgressStyleModel",
      "state": {
       "description_width": ""
      }
     },
     "99e7f141a9ef4750930e22cc60c3757f": {
      "model_module": "@jupyter-widgets/controls",
      "model_module_version": "1.4.0",
      "model_name": "ProgressStyleModel",
      "state": {
       "description_width": ""
      }
     },
     "99fcb0ec59ef4da7bcfaf6ef34be688d": {
      "model_module": "@jupyter-widgets/base",
      "model_module_version": "1.1.0",
      "model_name": "LayoutModel",
      "state": {}
     },
     "9a1b779e7cc64e30bd604966f45d34d0": {
      "model_module": "@jupyter-widgets/base",
      "model_module_version": "1.1.0",
      "model_name": "LayoutModel",
      "state": {}
     },
     "9a242d1327fe47169fa632a72d59ec5f": {
      "model_module": "@jupyter-widgets/base",
      "model_module_version": "1.1.0",
      "model_name": "LayoutModel",
      "state": {}
     },
     "9a24ed20dc3d47159c5a6b01ac0fae46": {
      "model_module": "@jupyter-widgets/base",
      "model_module_version": "1.1.0",
      "model_name": "LayoutModel",
      "state": {}
     },
     "9a440ca9fccf4db0904a213fd20de8b1": {
      "model_module": "@jupyter-widgets/base",
      "model_module_version": "1.1.0",
      "model_name": "LayoutModel",
      "state": {}
     },
     "9a6b81dfd5254bba9f14d3d5233d8c14": {
      "model_module": "@jupyter-widgets/controls",
      "model_module_version": "1.4.0",
      "model_name": "IntProgressModel",
      "state": {
       "layout": "IPY_MODEL_97edb31c8ff649afb839bdc4b8ef48cb",
       "max": 78,
       "style": "IPY_MODEL_b4cf3911f34d450ba587edfa7d5cd5c8",
       "value": 18
      }
     },
     "9a82682d274844928b2e47102a4f3f5e": {
      "model_module": "@jupyter-widgets/base",
      "model_module_version": "1.1.0",
      "model_name": "LayoutModel",
      "state": {}
     },
     "9a857eb7df454466a292671a9f808674": {
      "model_module": "@jupyter-widgets/controls",
      "model_module_version": "1.4.0",
      "model_name": "ProgressStyleModel",
      "state": {
       "description_width": ""
      }
     },
     "9a8e495041f04d0e9b6a9e87d328fe30": {
      "model_module": "@jupyter-widgets/controls",
      "model_module_version": "1.4.0",
      "model_name": "HTMLModel",
      "state": {
       "layout": "IPY_MODEL_2eb6713e3fb84582ae8464a3ba3900b0",
       "style": "IPY_MODEL_fe2c95f11db94d77a8062d61ced520a8",
       "value": " 86% 67/78 [00:00&lt;00:00, 668.30it/s]"
      }
     },
     "9aa4d1dce9314d6c8d22a786be9926a2": {
      "model_module": "@jupyter-widgets/base",
      "model_module_version": "1.1.0",
      "model_name": "LayoutModel",
      "state": {}
     },
     "9ab86addc617494fa0d5b32fdfd230e7": {
      "model_module": "@jupyter-widgets/base",
      "model_module_version": "1.1.0",
      "model_name": "LayoutModel",
      "state": {}
     },
     "9aedc7fc026048e4ba5dc2d73b2cad64": {
      "model_module": "@jupyter-widgets/controls",
      "model_module_version": "1.4.0",
      "model_name": "DescriptionStyleModel",
      "state": {
       "description_width": ""
      }
     },
     "9b0c227374384044bca291550ca212f8": {
      "model_module": "@jupyter-widgets/base",
      "model_module_version": "1.1.0",
      "model_name": "LayoutModel",
      "state": {}
     },
     "9b415362dddb4b459ac6db19d971f0ec": {
      "model_module": "@jupyter-widgets/controls",
      "model_module_version": "1.4.0",
      "model_name": "ProgressStyleModel",
      "state": {
       "description_width": ""
      }
     },
     "9b6f736c2c09483a9a77afff28d95c6d": {
      "model_module": "@jupyter-widgets/base",
      "model_module_version": "1.1.0",
      "model_name": "LayoutModel",
      "state": {}
     },
     "9b828cb62ee54e1c8787d3eea4ea376a": {
      "model_module": "@jupyter-widgets/base",
      "model_module_version": "1.1.0",
      "model_name": "LayoutModel",
      "state": {}
     },
     "9b87f5c30b4c4aaaab77662c83674c78": {
      "model_module": "@jupyter-widgets/base",
      "model_module_version": "1.1.0",
      "model_name": "LayoutModel",
      "state": {}
     },
     "9b89fb2c4d7a42d1aba0294cfe39949b": {
      "model_module": "@jupyter-widgets/controls",
      "model_module_version": "1.4.0",
      "model_name": "ProgressStyleModel",
      "state": {
       "description_width": ""
      }
     },
     "9b9ffe5c20934e6fa29fd4fc48b39d31": {
      "model_module": "@jupyter-widgets/controls",
      "model_module_version": "1.4.0",
      "model_name": "DescriptionStyleModel",
      "state": {
       "description_width": ""
      }
     },
     "9ba17fa270c446b7b8ed2a38e369bdc7": {
      "model_module": "@jupyter-widgets/controls",
      "model_module_version": "1.4.0",
      "model_name": "IntProgressModel",
      "state": {
       "layout": "IPY_MODEL_90d849277efc4a76be0208382da75e1e",
       "max": 78,
       "style": "IPY_MODEL_2952416743294873be41a8a1de59efee",
       "value": 58
      }
     },
     "9baccb85f2d34f1ab2d70f29d0781a05": {
      "model_module": "@jupyter-widgets/base",
      "model_module_version": "1.1.0",
      "model_name": "LayoutModel",
      "state": {}
     },
     "9bc1f8e132ec44d3ada1abd54098b1be": {
      "model_module": "@jupyter-widgets/controls",
      "model_module_version": "1.4.0",
      "model_name": "IntProgressModel",
      "state": {
       "layout": "IPY_MODEL_a8a14c417e864d2880f2d1a380b413d6",
       "max": 78,
       "style": "IPY_MODEL_c862122b695b4a25985a6d219678b4d9",
       "value": 70
      }
     },
     "9bfe16f9cf734377bd8d44c6ed5fb16c": {
      "model_module": "@jupyter-widgets/controls",
      "model_module_version": "1.4.0",
      "model_name": "HTMLModel",
      "state": {
       "layout": "IPY_MODEL_9ff80c310dab4e5f904b68a98adb2c95",
       "style": "IPY_MODEL_3b8ee095f8494695925749ef79a87273",
       "value": "  0% 0/78 [00:00&lt;?, ?it/s]"
      }
     },
     "9c3d3244b3144678b0dd52cf78500ffa": {
      "model_module": "@jupyter-widgets/controls",
      "model_module_version": "1.4.0",
      "model_name": "HTMLModel",
      "state": {
       "layout": "IPY_MODEL_d5186537d10f4b5384b4694f579012b6",
       "style": "IPY_MODEL_9f53d211353f46dd8f4f9014906aa335",
       "value": "100% 17/17 [00:07&lt;00:00,  2.40it/s]"
      }
     },
     "9c692ab5e9024f858d48b79aefd75645": {
      "model_module": "@jupyter-widgets/controls",
      "model_module_version": "1.4.0",
      "model_name": "HTMLModel",
      "state": {
       "layout": "IPY_MODEL_61d46ad1793a486999ba137a14edc803",
       "style": "IPY_MODEL_0feca056078f4cc199550f67dc8d0ae7",
       "value": "100% 17/17 [00:06&lt;00:00,  2.78it/s]"
      }
     },
     "9c729218f2c645bda984beff794a8b24": {
      "model_module": "@jupyter-widgets/base",
      "model_module_version": "1.1.0",
      "model_name": "LayoutModel",
      "state": {}
     },
     "9c74d74069be4ce5b448cea015e11fd4": {
      "model_module": "@jupyter-widgets/base",
      "model_module_version": "1.1.0",
      "model_name": "LayoutModel",
      "state": {}
     },
     "9c83729356434f69a9f97d3d7a0e493a": {
      "model_module": "@jupyter-widgets/base",
      "model_module_version": "1.1.0",
      "model_name": "LayoutModel",
      "state": {}
     },
     "9cabb52a46114b5c9f952ae7fb8cf264": {
      "model_module": "@jupyter-widgets/controls",
      "model_module_version": "1.4.0",
      "model_name": "IntProgressModel",
      "state": {
       "layout": "IPY_MODEL_1ce00fe1483c4825ae7e091f5d3bec78",
       "max": 78,
       "style": "IPY_MODEL_b34a202851de4ad5af86c130312fe578"
      }
     },
     "9cbb31141aec4a8bb604347613b1dc7d": {
      "model_module": "@jupyter-widgets/base",
      "model_module_version": "1.1.0",
      "model_name": "LayoutModel",
      "state": {}
     },
     "9cf80367e5b14b288d57451c5f134693": {
      "model_module": "@jupyter-widgets/base",
      "model_module_version": "1.1.0",
      "model_name": "LayoutModel",
      "state": {}
     },
     "9d0af980b11b4197aef509551c27097f": {
      "model_module": "@jupyter-widgets/controls",
      "model_module_version": "1.4.0",
      "model_name": "ProgressStyleModel",
      "state": {
       "description_width": ""
      }
     },
     "9d151c3712a04faa8f48d17f5651f76c": {
      "model_module": "@jupyter-widgets/base",
      "model_module_version": "1.1.0",
      "model_name": "LayoutModel",
      "state": {}
     },
     "9d21ff8e9c6c462dac124163f4d666cc": {
      "model_module": "@jupyter-widgets/controls",
      "model_module_version": "1.4.0",
      "model_name": "IntProgressModel",
      "state": {
       "layout": "IPY_MODEL_514fc725950a448ca2fd3e62b6a587c1",
       "max": 17,
       "style": "IPY_MODEL_b50899d8667d496faff4a0ecb151f7e8",
       "value": 17
      }
     },
     "9d2663e65f1a4e32a487fe0df0f99ec3": {
      "model_module": "@jupyter-widgets/controls",
      "model_module_version": "1.4.0",
      "model_name": "ProgressStyleModel",
      "state": {
       "description_width": ""
      }
     },
     "9d270ea1e4ea4abfbb2c272c2fc372a6": {
      "model_module": "@jupyter-widgets/base",
      "model_module_version": "1.1.0",
      "model_name": "LayoutModel",
      "state": {}
     },
     "9d3b273294a042adaabdfa1ad77a4a42": {
      "model_module": "@jupyter-widgets/base",
      "model_module_version": "1.1.0",
      "model_name": "LayoutModel",
      "state": {}
     },
     "9d3c42adc9aa498eaa6cefd39e93c33f": {
      "model_module": "@jupyter-widgets/base",
      "model_module_version": "1.1.0",
      "model_name": "LayoutModel",
      "state": {}
     },
     "9d3d3fc5a742476ea90f6080235720a8": {
      "model_module": "@jupyter-widgets/base",
      "model_module_version": "1.1.0",
      "model_name": "LayoutModel",
      "state": {}
     },
     "9d4ac588270245a5af4dd4b1f20185de": {
      "model_module": "@jupyter-widgets/base",
      "model_module_version": "1.1.0",
      "model_name": "LayoutModel",
      "state": {}
     },
     "9d72dcdec9054f04959da366c6f4b527": {
      "model_module": "@jupyter-widgets/controls",
      "model_module_version": "1.4.0",
      "model_name": "HTMLModel",
      "state": {
       "layout": "IPY_MODEL_ec0f387174004f9695f6979879871123",
       "style": "IPY_MODEL_0d392484ff75468fa571f82213ae8b2c",
       "value": " 76% 59/78 [00:00&lt;00:00, 291.94it/s]"
      }
     },
     "9d83f58869e945dbb69a8c16f6407c82": {
      "model_module": "@jupyter-widgets/base",
      "model_module_version": "1.1.0",
      "model_name": "LayoutModel",
      "state": {}
     },
     "9d8d74ca99f545fba2427d6d318fcd28": {
      "model_module": "@jupyter-widgets/base",
      "model_module_version": "1.1.0",
      "model_name": "LayoutModel",
      "state": {}
     },
     "9daa1ff2f428487c85ff8fc975f6ca37": {
      "model_module": "@jupyter-widgets/base",
      "model_module_version": "1.1.0",
      "model_name": "LayoutModel",
      "state": {}
     },
     "9db22cbcf3dd43c19e8bec4000495365": {
      "model_module": "@jupyter-widgets/controls",
      "model_module_version": "1.4.0",
      "model_name": "IntProgressModel",
      "state": {
       "layout": "IPY_MODEL_903312b649424833a0b9e530c83de570",
       "max": 78,
       "style": "IPY_MODEL_f446f8340a3f4e4ea5acdb86fbde8c72",
       "value": 75
      }
     },
     "9db24c125a804f789b23b91aae707e11": {
      "model_module": "@jupyter-widgets/base",
      "model_module_version": "1.1.0",
      "model_name": "LayoutModel",
      "state": {}
     },
     "9dbb5452527b43639e71bc4620164fc2": {
      "model_module": "@jupyter-widgets/controls",
      "model_module_version": "1.4.0",
      "model_name": "DescriptionStyleModel",
      "state": {
       "description_width": ""
      }
     },
     "9ddc9c5eff1b4765bfde8ca0b7072a63": {
      "model_module": "@jupyter-widgets/controls",
      "model_module_version": "1.4.0",
      "model_name": "DescriptionStyleModel",
      "state": {
       "description_width": ""
      }
     },
     "9de2610d37744efebb2ea87574ba9fe9": {
      "model_module": "@jupyter-widgets/base",
      "model_module_version": "1.1.0",
      "model_name": "LayoutModel",
      "state": {}
     },
     "9e17f52475ca47969eaee9d9edff23b8": {
      "model_module": "@jupyter-widgets/base",
      "model_module_version": "1.1.0",
      "model_name": "LayoutModel",
      "state": {}
     },
     "9e387cfe1b39455e88b6b15fba8308f4": {
      "model_module": "@jupyter-widgets/base",
      "model_module_version": "1.1.0",
      "model_name": "LayoutModel",
      "state": {}
     },
     "9e47161c1ae04d4fb9bf98cdf970c2d2": {
      "model_module": "@jupyter-widgets/base",
      "model_module_version": "1.1.0",
      "model_name": "LayoutModel",
      "state": {}
     },
     "9e5e0bda1cc44e7895ed06a15e2f01b8": {
      "model_module": "@jupyter-widgets/controls",
      "model_module_version": "1.4.0",
      "model_name": "HTMLModel",
      "state": {
       "layout": "IPY_MODEL_fcafb9b6eb5542c49a4d8b12d77f2539",
       "style": "IPY_MODEL_1fdf32f16ce14aaea9fd8ecc24954e9d",
       "value": "100% 17/17 [00:06&lt;00:00,  2.47it/s]"
      }
     },
     "9e6d7528fd204b4487d0b9d8b9172d71": {
      "model_module": "@jupyter-widgets/base",
      "model_module_version": "1.1.0",
      "model_name": "LayoutModel",
      "state": {}
     },
     "9e97c5936f2e4486923d6e74822729da": {
      "model_module": "@jupyter-widgets/controls",
      "model_module_version": "1.4.0",
      "model_name": "ProgressStyleModel",
      "state": {
       "description_width": ""
      }
     },
     "9ec336972b28449e919c3351ae85fb12": {
      "model_module": "@jupyter-widgets/base",
      "model_module_version": "1.1.0",
      "model_name": "LayoutModel",
      "state": {}
     },
     "9eee63e776bd41899fdb76fe7f622809": {
      "model_module": "@jupyter-widgets/controls",
      "model_module_version": "1.4.0",
      "model_name": "ProgressStyleModel",
      "state": {
       "description_width": ""
      }
     },
     "9ef7f233fdc34dd5b11dca1fc0d2902a": {
      "model_module": "@jupyter-widgets/controls",
      "model_module_version": "1.4.0",
      "model_name": "HTMLModel",
      "state": {
       "layout": "IPY_MODEL_f5a080ec3ab643ecb857cbc5d7325cbd",
       "style": "IPY_MODEL_030ec6814cfa433cb492cdcd3c589d47",
       "value": "100% 17/17 [00:05&lt;00:00,  3.32it/s]"
      }
     },
     "9f042de8ee85417d91044d09501dbba6": {
      "model_module": "@jupyter-widgets/controls",
      "model_module_version": "1.4.0",
      "model_name": "ProgressStyleModel",
      "state": {
       "description_width": ""
      }
     },
     "9f2c2af5c35d48de8fc9c7c7947266da": {
      "model_module": "@jupyter-widgets/controls",
      "model_module_version": "1.4.0",
      "model_name": "HTMLModel",
      "state": {
       "layout": "IPY_MODEL_98a73f9a99eb4bbbbde08dd9d8016606",
       "style": "IPY_MODEL_13ba08e9c99d4130ac3a4b0410154805",
       "value": "100% 78/78 [00:00&lt;00:00, 776.64it/s]"
      }
     },
     "9f53d211353f46dd8f4f9014906aa335": {
      "model_module": "@jupyter-widgets/controls",
      "model_module_version": "1.4.0",
      "model_name": "DescriptionStyleModel",
      "state": {
       "description_width": ""
      }
     },
     "9f5893442583461b8d3244ceaffe5c2b": {
      "model_module": "@jupyter-widgets/controls",
      "model_module_version": "1.4.0",
      "model_name": "IntProgressModel",
      "state": {
       "layout": "IPY_MODEL_5b5ea1c162394db183134783ec3d9ac4",
       "max": 17,
       "style": "IPY_MODEL_ab186795a62e48bb972635ff7edc2e7e",
       "value": 17
      }
     },
     "9f7590ed197643d3853dc697a98852fb": {
      "model_module": "@jupyter-widgets/controls",
      "model_module_version": "1.4.0",
      "model_name": "IntProgressModel",
      "state": {
       "layout": "IPY_MODEL_221e0a86c1b145d2ac074d29f841b6b7",
       "max": 78,
       "style": "IPY_MODEL_fab7453b904c40b795d6be0261273216",
       "value": 18
      }
     },
     "9f95ffee84d24a67b6c706b3c5eee35c": {
      "model_module": "@jupyter-widgets/controls",
      "model_module_version": "1.4.0",
      "model_name": "HTMLModel",
      "state": {
       "layout": "IPY_MODEL_394445394e6142bdbee04541a3599d71",
       "style": "IPY_MODEL_7f1b0094b2c84efaaf1ca69f31e30fc0",
       "value": " 47% 37/78 [00:00&lt;00:00, 363.80it/s]"
      }
     },
     "9fa747e1d828407ba502768cf0559b59": {
      "model_module": "@jupyter-widgets/base",
      "model_module_version": "1.1.0",
      "model_name": "LayoutModel",
      "state": {}
     },
     "9faf268143844a2c912fafb18ccbdcb2": {
      "model_module": "@jupyter-widgets/controls",
      "model_module_version": "1.4.0",
      "model_name": "IntProgressModel",
      "state": {
       "bar_style": "success",
       "layout": "IPY_MODEL_b7f489a581ca4ea39bef78200c55badb",
       "max": 50,
       "style": "IPY_MODEL_dba5730e4b7c4ae6a2431aae227ab3de",
       "value": 50
      }
     },
     "9ff80c310dab4e5f904b68a98adb2c95": {
      "model_module": "@jupyter-widgets/base",
      "model_module_version": "1.1.0",
      "model_name": "LayoutModel",
      "state": {}
     },
     "a005e3aaa00e455eb91497d9d226cb4a": {
      "model_module": "@jupyter-widgets/base",
      "model_module_version": "1.1.0",
      "model_name": "LayoutModel",
      "state": {}
     },
     "a01a887420a84efb8c7eb874d88e72ac": {
      "model_module": "@jupyter-widgets/controls",
      "model_module_version": "1.4.0",
      "model_name": "ProgressStyleModel",
      "state": {
       "description_width": ""
      }
     },
     "a0333f822d454910ac67bc4d3275e7a3": {
      "model_module": "@jupyter-widgets/base",
      "model_module_version": "1.1.0",
      "model_name": "LayoutModel",
      "state": {}
     },
     "a03ec39ccfde4de681f3f955160d02a7": {
      "model_module": "@jupyter-widgets/controls",
      "model_module_version": "1.4.0",
      "model_name": "DescriptionStyleModel",
      "state": {
       "description_width": ""
      }
     },
     "a05a471c2c76477ca1b7c3daf7ce04b0": {
      "model_module": "@jupyter-widgets/controls",
      "model_module_version": "1.4.0",
      "model_name": "HTMLModel",
      "state": {
       "layout": "IPY_MODEL_d1d677f39a2245c4bd4e3e905bc0c578",
       "style": "IPY_MODEL_3b822839f77b4f44854f5ed07aa027db",
       "value": " 23% 18/78 [00:00&lt;00:00, 179.73it/s]"
      }
     },
     "a0894ccda94b4415b3d6467bc35ce26c": {
      "model_module": "@jupyter-widgets/controls",
      "model_module_version": "1.4.0",
      "model_name": "ProgressStyleModel",
      "state": {
       "description_width": ""
      }
     },
     "a08f58f1be1647c6ab5ccf7bdd5cfddc": {
      "model_module": "@jupyter-widgets/controls",
      "model_module_version": "1.4.0",
      "model_name": "DescriptionStyleModel",
      "state": {
       "description_width": ""
      }
     },
     "a0981c035e9d47629618c14079e4b54e": {
      "model_module": "@jupyter-widgets/base",
      "model_module_version": "1.1.0",
      "model_name": "LayoutModel",
      "state": {}
     },
     "a0bafabb81744fda8b5cc26ebe47bc05": {
      "model_module": "@jupyter-widgets/controls",
      "model_module_version": "1.4.0",
      "model_name": "DescriptionStyleModel",
      "state": {
       "description_width": ""
      }
     },
     "a0e007e17dea4ba49421aced8307f62d": {
      "model_module": "@jupyter-widgets/controls",
      "model_module_version": "1.4.0",
      "model_name": "HTMLModel",
      "state": {
       "layout": "IPY_MODEL_264166c8ffe3413195ae2779a895da37",
       "style": "IPY_MODEL_58c65ce616e7444bbecff9b9c1d8b2aa",
       "value": " 91% 71/78 [00:00&lt;00:00, 709.09it/s]"
      }
     },
     "a0fa2ecfad4f42829fd38f8fed0d1d9d": {
      "model_module": "@jupyter-widgets/base",
      "model_module_version": "1.1.0",
      "model_name": "LayoutModel",
      "state": {}
     },
     "a10f79bd855447459be6ee7c8befe898": {
      "model_module": "@jupyter-widgets/base",
      "model_module_version": "1.1.0",
      "model_name": "LayoutModel",
      "state": {}
     },
     "a111ac4ccb7d4d00a2653033107542e4": {
      "model_module": "@jupyter-widgets/controls",
      "model_module_version": "1.4.0",
      "model_name": "ProgressStyleModel",
      "state": {
       "description_width": ""
      }
     },
     "a1248d84406b435d8baf7d6527e317f0": {
      "model_module": "@jupyter-widgets/controls",
      "model_module_version": "1.4.0",
      "model_name": "ProgressStyleModel",
      "state": {
       "description_width": ""
      }
     },
     "a12e60f42cc94a73af0a4a766fc21c9d": {
      "model_module": "@jupyter-widgets/base",
      "model_module_version": "1.1.0",
      "model_name": "LayoutModel",
      "state": {}
     },
     "a13101ac979a4c6bafbd60221c1f8f82": {
      "model_module": "@jupyter-widgets/controls",
      "model_module_version": "1.4.0",
      "model_name": "ProgressStyleModel",
      "state": {
       "description_width": ""
      }
     },
     "a1364c4c392c41e28311b89459cd7ea5": {
      "model_module": "@jupyter-widgets/base",
      "model_module_version": "1.1.0",
      "model_name": "LayoutModel",
      "state": {}
     },
     "a13bb5fd7c364b0aad9562eaf1d2cb0a": {
      "model_module": "@jupyter-widgets/base",
      "model_module_version": "1.1.0",
      "model_name": "LayoutModel",
      "state": {}
     },
     "a142ad56c77a4d7f85bfcacfdac65023": {
      "model_module": "@jupyter-widgets/base",
      "model_module_version": "1.1.0",
      "model_name": "LayoutModel",
      "state": {}
     },
     "a1845f5b0c184a269fe8da7f980ab940": {
      "model_module": "@jupyter-widgets/base",
      "model_module_version": "1.1.0",
      "model_name": "LayoutModel",
      "state": {}
     },
     "a18b20e1a0cf412a831377c2d15bac99": {
      "model_module": "@jupyter-widgets/controls",
      "model_module_version": "1.4.0",
      "model_name": "HTMLModel",
      "state": {
       "layout": "IPY_MODEL_517e59b8c7bc4c108e88f67ede77b830",
       "style": "IPY_MODEL_51b15fcee1244a279731dab029a61602",
       "value": "100% 78/78 [00:00&lt;00:00, 593.72it/s]"
      }
     },
     "a1d24298429c4ee08a0ac509c88a0c61": {
      "model_module": "@jupyter-widgets/controls",
      "model_module_version": "1.4.0",
      "model_name": "HTMLModel",
      "state": {
       "layout": "IPY_MODEL_5891bc77b9064c4fb8641449aa6e6b93",
       "style": "IPY_MODEL_31bf8a4b45e34c198aea8d92d76fca38",
       "value": "  1% 1/78 [00:00&lt;00:09,  8.38it/s]"
      }
     },
     "a20244bbb7c345a1871fe91584d34e4d": {
      "model_module": "@jupyter-widgets/base",
      "model_module_version": "1.1.0",
      "model_name": "LayoutModel",
      "state": {}
     },
     "a21bc0e932734c87812d6bf51bc852ec": {
      "model_module": "@jupyter-widgets/base",
      "model_module_version": "1.1.0",
      "model_name": "LayoutModel",
      "state": {}
     },
     "a228be77740c4e3989b13b894f5d58be": {
      "model_module": "@jupyter-widgets/controls",
      "model_module_version": "1.4.0",
      "model_name": "DescriptionStyleModel",
      "state": {
       "description_width": ""
      }
     },
     "a23892c8a4cd4078ab8b56ac121e3874": {
      "model_module": "@jupyter-widgets/controls",
      "model_module_version": "1.4.0",
      "model_name": "IntProgressModel",
      "state": {
       "layout": "IPY_MODEL_3134de30ea9c4969946fbddf8b4b9424",
       "max": 78,
       "style": "IPY_MODEL_5dfb1dfafa6c40e18f6a7248d8f84a37",
       "value": 27
      }
     },
     "a2413ea170e542aabb62009e459f09be": {
      "model_module": "@jupyter-widgets/controls",
      "model_module_version": "1.4.0",
      "model_name": "HTMLModel",
      "state": {
       "layout": "IPY_MODEL_795081a3f6d34ec8acf400843d84a7a7",
       "style": "IPY_MODEL_295e7e971a2d49208ca32d689e798cd1",
       "value": "100% 17/17 [00:04&lt;00:00,  3.64it/s]"
      }
     },
     "a2450f6ae2a2439991dc817d602de424": {
      "model_module": "@jupyter-widgets/controls",
      "model_module_version": "1.4.0",
      "model_name": "DescriptionStyleModel",
      "state": {
       "description_width": ""
      }
     },
     "a28dea784924420cbd639f084a21c1bc": {
      "model_module": "@jupyter-widgets/base",
      "model_module_version": "1.1.0",
      "model_name": "LayoutModel",
      "state": {}
     },
     "a2d9bd7c2c2a4716b25f53b2b85d9cb8": {
      "model_module": "@jupyter-widgets/controls",
      "model_module_version": "1.4.0",
      "model_name": "DescriptionStyleModel",
      "state": {
       "description_width": ""
      }
     },
     "a2e8eafffcb84addb0e160173e63301e": {
      "model_module": "@jupyter-widgets/base",
      "model_module_version": "1.1.0",
      "model_name": "LayoutModel",
      "state": {}
     },
     "a32dc38c56d84f5a882db2ba0a3b24ee": {
      "model_module": "@jupyter-widgets/controls",
      "model_module_version": "1.4.0",
      "model_name": "DescriptionStyleModel",
      "state": {
       "description_width": ""
      }
     },
     "a3414c52fafa438791d2210cd1f5e6b3": {
      "model_module": "@jupyter-widgets/controls",
      "model_module_version": "1.4.0",
      "model_name": "ProgressStyleModel",
      "state": {
       "description_width": ""
      }
     },
     "a36cebb63b5b402aba854548985b5484": {
      "model_module": "@jupyter-widgets/controls",
      "model_module_version": "1.4.0",
      "model_name": "DescriptionStyleModel",
      "state": {
       "description_width": ""
      }
     },
     "a37115839ae641faa82fdd6b63b7b602": {
      "model_module": "@jupyter-widgets/base",
      "model_module_version": "1.1.0",
      "model_name": "LayoutModel",
      "state": {}
     },
     "a37e57985c5e434bbaf517e14114771c": {
      "model_module": "@jupyter-widgets/base",
      "model_module_version": "1.1.0",
      "model_name": "LayoutModel",
      "state": {}
     },
     "a3b5ccd006794bf8b35a36e142e3e726": {
      "model_module": "@jupyter-widgets/base",
      "model_module_version": "1.1.0",
      "model_name": "LayoutModel",
      "state": {}
     },
     "a3f527f9f61045ca9fc09f5fce504736": {
      "model_module": "@jupyter-widgets/controls",
      "model_module_version": "1.4.0",
      "model_name": "DescriptionStyleModel",
      "state": {
       "description_width": ""
      }
     },
     "a423a8fe2a764da6adbec04ff7b6c369": {
      "model_module": "@jupyter-widgets/controls",
      "model_module_version": "1.4.0",
      "model_name": "ProgressStyleModel",
      "state": {
       "description_width": ""
      }
     },
     "a42e588b8aea4538a0916b630e8b1cc5": {
      "model_module": "@jupyter-widgets/base",
      "model_module_version": "1.1.0",
      "model_name": "LayoutModel",
      "state": {}
     },
     "a4700733b8834009800003b88840605f": {
      "model_module": "@jupyter-widgets/base",
      "model_module_version": "1.1.0",
      "model_name": "LayoutModel",
      "state": {}
     },
     "a476978360dd4e4ab9251baad5ea0097": {
      "model_module": "@jupyter-widgets/controls",
      "model_module_version": "1.4.0",
      "model_name": "DescriptionStyleModel",
      "state": {
       "description_width": ""
      }
     },
     "a500c4f9b3f94603b7aa015850146472": {
      "model_module": "@jupyter-widgets/base",
      "model_module_version": "1.1.0",
      "model_name": "LayoutModel",
      "state": {}
     },
     "a557993f38dc4fce86979af7c54af61d": {
      "model_module": "@jupyter-widgets/base",
      "model_module_version": "1.1.0",
      "model_name": "LayoutModel",
      "state": {}
     },
     "a569fc408de34cf29a1e78bfee5be2d8": {
      "model_module": "@jupyter-widgets/base",
      "model_module_version": "1.1.0",
      "model_name": "LayoutModel",
      "state": {}
     },
     "a57a2bea18bc4d4fa29d021e167d26e7": {
      "model_module": "@jupyter-widgets/controls",
      "model_module_version": "1.4.0",
      "model_name": "IntProgressModel",
      "state": {
       "layout": "IPY_MODEL_c89444646584426daff95ff9ca7241b5",
       "max": 17,
       "style": "IPY_MODEL_163e40de43f54b38a0129e1677122395",
       "value": 17
      }
     },
     "a588c8550e8248b3b5316dce67f68fb6": {
      "model_module": "@jupyter-widgets/base",
      "model_module_version": "1.1.0",
      "model_name": "LayoutModel",
      "state": {}
     },
     "a59f431a322446d5b2629aab1e5b48be": {
      "model_module": "@jupyter-widgets/controls",
      "model_module_version": "1.4.0",
      "model_name": "DescriptionStyleModel",
      "state": {
       "description_width": ""
      }
     },
     "a5a07492aeaf4e78b7c1953ead4f4a14": {
      "model_module": "@jupyter-widgets/base",
      "model_module_version": "1.1.0",
      "model_name": "LayoutModel",
      "state": {}
     },
     "a5b06288b1db4ad0913fc2b864e7f301": {
      "model_module": "@jupyter-widgets/base",
      "model_module_version": "1.1.0",
      "model_name": "LayoutModel",
      "state": {}
     },
     "a5b2d609a2cd45eebac29327ef1c698f": {
      "model_module": "@jupyter-widgets/base",
      "model_module_version": "1.1.0",
      "model_name": "LayoutModel",
      "state": {}
     },
     "a5e0d39a2c6a49329b7fb99a1a0b1a93": {
      "model_module": "@jupyter-widgets/controls",
      "model_module_version": "1.4.0",
      "model_name": "HTMLModel",
      "state": {
       "layout": "IPY_MODEL_052cfcb81e2646529578847c1f787c82",
       "style": "IPY_MODEL_c5adbfe111d6485fba5fd7cb21b28d19",
       "value": " 77% 60/78 [00:00&lt;00:00, 282.66it/s]"
      }
     },
     "a5f20fdcf1bd4f5b82cd3b780a4bfa55": {
      "model_module": "@jupyter-widgets/base",
      "model_module_version": "1.1.0",
      "model_name": "LayoutModel",
      "state": {}
     },
     "a5f714081d384dbfa1c2ed2a886272b0": {
      "model_module": "@jupyter-widgets/controls",
      "model_module_version": "1.4.0",
      "model_name": "ProgressStyleModel",
      "state": {
       "description_width": ""
      }
     },
     "a5fd812c0e4549c09eec5f921af10885": {
      "model_module": "@jupyter-widgets/base",
      "model_module_version": "1.1.0",
      "model_name": "LayoutModel",
      "state": {}
     },
     "a613743252f2430591b0632246f95a40": {
      "model_module": "@jupyter-widgets/controls",
      "model_module_version": "1.4.0",
      "model_name": "IntProgressModel",
      "state": {
       "layout": "IPY_MODEL_8e128ff79b6946ebaeb8c2cbec8ac584",
       "max": 78,
       "style": "IPY_MODEL_0889c13baada4742806402853b681964",
       "value": 32
      }
     },
     "a62977c9770445bfa5af131b087ce2cf": {
      "model_module": "@jupyter-widgets/controls",
      "model_module_version": "1.4.0",
      "model_name": "IntProgressModel",
      "state": {
       "layout": "IPY_MODEL_19f8960812924fbaa9faa2c94edeeb23",
       "max": 78,
       "style": "IPY_MODEL_302a542efa2449f382b5024e59d6dd5e",
       "value": 10
      }
     },
     "a63d1aa879a6404484da32380ebb7d1c": {
      "model_module": "@jupyter-widgets/controls",
      "model_module_version": "1.4.0",
      "model_name": "HTMLModel",
      "state": {
       "layout": "IPY_MODEL_8d92ea20d67e48a9aba403f529a42ac7",
       "style": "IPY_MODEL_2267d9fd02fd41fda0e60bbebef519e6",
       "value": " 29% 23/78 [00:00&lt;00:00, 228.38it/s]"
      }
     },
     "a6584d87436744098a4c11c640d09e53": {
      "model_module": "@jupyter-widgets/base",
      "model_module_version": "1.1.0",
      "model_name": "LayoutModel",
      "state": {}
     },
     "a661d64de6bc45d3a5bcb6a7fdd3d7a0": {
      "model_module": "@jupyter-widgets/controls",
      "model_module_version": "1.4.0",
      "model_name": "ProgressStyleModel",
      "state": {
       "description_width": ""
      }
     },
     "a6684098f40e401487698c6282ff1576": {
      "model_module": "@jupyter-widgets/base",
      "model_module_version": "1.1.0",
      "model_name": "LayoutModel",
      "state": {}
     },
     "a673fae880764d55a73bc551a3776fe8": {
      "model_module": "@jupyter-widgets/controls",
      "model_module_version": "1.4.0",
      "model_name": "ProgressStyleModel",
      "state": {
       "description_width": ""
      }
     },
     "a691ea1bc5534cf488496b2c2814ad4b": {
      "model_module": "@jupyter-widgets/base",
      "model_module_version": "1.1.0",
      "model_name": "LayoutModel",
      "state": {}
     },
     "a6a15b95b995403ea4a49c0cb22e47b6": {
      "model_module": "@jupyter-widgets/controls",
      "model_module_version": "1.4.0",
      "model_name": "IntProgressModel",
      "state": {
       "layout": "IPY_MODEL_b2399ea3537c41c3b0e417b6a09672c3",
       "max": 78,
       "style": "IPY_MODEL_471a688a66e84632b384fdd37b7f26c3",
       "value": 68
      }
     },
     "a6a9d1ffda624ca5bb9f3049f6531380": {
      "model_module": "@jupyter-widgets/controls",
      "model_module_version": "1.4.0",
      "model_name": "ProgressStyleModel",
      "state": {
       "description_width": ""
      }
     },
     "a6be8fb905d64b4aa6c2f2d99b181c46": {
      "model_module": "@jupyter-widgets/base",
      "model_module_version": "1.1.0",
      "model_name": "LayoutModel",
      "state": {}
     },
     "a6c04e6ace234164aa222844a3210909": {
      "model_module": "@jupyter-widgets/base",
      "model_module_version": "1.1.0",
      "model_name": "LayoutModel",
      "state": {}
     },
     "a6c94bc145e94c24b9258bac43b23cb6": {
      "model_module": "@jupyter-widgets/controls",
      "model_module_version": "1.4.0",
      "model_name": "IntProgressModel",
      "state": {
       "layout": "IPY_MODEL_ff64416cd4a84be1995007493ab93899",
       "max": 17,
       "style": "IPY_MODEL_2d1050b639b2406699d0b56c2ac0c1a1",
       "value": 17
      }
     },
     "a70677de9327439ba893150725de3995": {
      "model_module": "@jupyter-widgets/controls",
      "model_module_version": "1.4.0",
      "model_name": "IntProgressModel",
      "state": {
       "layout": "IPY_MODEL_2a3e2b1e7396466b9dcb7d756e231f56",
       "max": 17,
       "style": "IPY_MODEL_d975c0d42b8d43b294222f6d095723df",
       "value": 17
      }
     },
     "a70c86f6553a4c62a7cc76b57fd3b2f1": {
      "model_module": "@jupyter-widgets/controls",
      "model_module_version": "1.4.0",
      "model_name": "HBoxModel",
      "state": {
       "children": [
        "IPY_MODEL_ef22a8bf5092475c99f4389c912154de",
        "IPY_MODEL_d3bd3ae044b44e898ee8e7fc31e8cbe8"
       ],
       "layout": "IPY_MODEL_22fb9578b9734d9ca56ec47e36d5223e"
      }
     },
     "a72fc6aefbce4d51bb1ca74d0cb02f65": {
      "model_module": "@jupyter-widgets/base",
      "model_module_version": "1.1.0",
      "model_name": "LayoutModel",
      "state": {}
     },
     "a730ea2b20e8452dbeb2fda6d278b967": {
      "model_module": "@jupyter-widgets/controls",
      "model_module_version": "1.4.0",
      "model_name": "DescriptionStyleModel",
      "state": {
       "description_width": ""
      }
     },
     "a743df0711bf47daaed8d98d95f419f5": {
      "model_module": "@jupyter-widgets/controls",
      "model_module_version": "1.4.0",
      "model_name": "DescriptionStyleModel",
      "state": {
       "description_width": ""
      }
     },
     "a7672860abff405ab0843e89c351b751": {
      "model_module": "@jupyter-widgets/base",
      "model_module_version": "1.1.0",
      "model_name": "LayoutModel",
      "state": {}
     },
     "a78aa644f4d44c62a7c749ccc89824d8": {
      "model_module": "@jupyter-widgets/controls",
      "model_module_version": "1.4.0",
      "model_name": "IntProgressModel",
      "state": {
       "layout": "IPY_MODEL_0a4015369d7846b098cd9507d50a0034",
       "max": 78,
       "style": "IPY_MODEL_56b2fa2840d841d6afe9328bf9f77905",
       "value": 21
      }
     },
     "a78cc7a4fb9c4a4eb5b390c6c9c53f34": {
      "model_module": "@jupyter-widgets/base",
      "model_module_version": "1.1.0",
      "model_name": "LayoutModel",
      "state": {}
     },
     "a7962b3f40564d97b15c934b40b6b277": {
      "model_module": "@jupyter-widgets/controls",
      "model_module_version": "1.4.0",
      "model_name": "DescriptionStyleModel",
      "state": {
       "description_width": ""
      }
     },
     "a7b9157dfc954a26b73364b2ef05be49": {
      "model_module": "@jupyter-widgets/controls",
      "model_module_version": "1.4.0",
      "model_name": "HTMLModel",
      "state": {
       "layout": "IPY_MODEL_8a65a55d33ce4599ab58f6f96ffeef83",
       "style": "IPY_MODEL_84d0d6e375f5418383c3e16b47a61e12",
       "value": " 21% 16/78 [00:00&lt;00:00, 158.81it/s]"
      }
     },
     "a7b994bf0af94981830f52461dcb4618": {
      "model_module": "@jupyter-widgets/base",
      "model_module_version": "1.1.0",
      "model_name": "LayoutModel",
      "state": {}
     },
     "a7c994014b5e4aeda8e4a313ded04475": {
      "model_module": "@jupyter-widgets/controls",
      "model_module_version": "1.4.0",
      "model_name": "ProgressStyleModel",
      "state": {
       "description_width": ""
      }
     },
     "a7def4987cba4b1cb520682f32b1e231": {
      "model_module": "@jupyter-widgets/controls",
      "model_module_version": "1.4.0",
      "model_name": "DescriptionStyleModel",
      "state": {
       "description_width": ""
      }
     },
     "a7e484e4063248629e6332c3f55502fa": {
      "model_module": "@jupyter-widgets/controls",
      "model_module_version": "1.4.0",
      "model_name": "IntProgressModel",
      "state": {
       "layout": "IPY_MODEL_e49956884edb488fb13e41bc0c154705",
       "max": 17,
       "style": "IPY_MODEL_9132a4c8c8aa457ab8a67a5166b25677",
       "value": 17
      }
     },
     "a7eb2d16b4854ba9995fce9aa868421d": {
      "model_module": "@jupyter-widgets/base",
      "model_module_version": "1.1.0",
      "model_name": "LayoutModel",
      "state": {}
     },
     "a7fab734b2ef456fadcd26137538085c": {
      "model_module": "@jupyter-widgets/controls",
      "model_module_version": "1.4.0",
      "model_name": "HTMLModel",
      "state": {
       "layout": "IPY_MODEL_85dff14f74434bdd83b015709b0562cb",
       "style": "IPY_MODEL_bedf829e86b743d4b8a8b1ddd138736b",
       "value": "100% 17/17 [00:08&lt;00:00,  1.95it/s]"
      }
     },
     "a857bbc69a8a42ddae6d7ae461003c44": {
      "model_module": "@jupyter-widgets/controls",
      "model_module_version": "1.4.0",
      "model_name": "ProgressStyleModel",
      "state": {
       "description_width": ""
      }
     },
     "a888e4e6d71346658076e2c4d5769822": {
      "model_module": "@jupyter-widgets/base",
      "model_module_version": "1.1.0",
      "model_name": "LayoutModel",
      "state": {}
     },
     "a889ed14e91c4d4aa3bab84572a916f6": {
      "model_module": "@jupyter-widgets/controls",
      "model_module_version": "1.4.0",
      "model_name": "IntProgressModel",
      "state": {
       "layout": "IPY_MODEL_682f5efbab234e31b5b32b1b88f68695",
       "max": 78,
       "style": "IPY_MODEL_e2a786f825444ff09ec127be32500cac"
      }
     },
     "a8982b83587843b99e347eb82df88d91": {
      "model_module": "@jupyter-widgets/controls",
      "model_module_version": "1.4.0",
      "model_name": "DescriptionStyleModel",
      "state": {
       "description_width": ""
      }
     },
     "a89c883b166044828b9dc426db7d9605": {
      "model_module": "@jupyter-widgets/controls",
      "model_module_version": "1.4.0",
      "model_name": "IntProgressModel",
      "state": {
       "layout": "IPY_MODEL_68923dd406f14a96a96f1aaee1e2dd27",
       "max": 78,
       "style": "IPY_MODEL_21d52d88f538439c816e4a8ed31529e9",
       "value": 75
      }
     },
     "a8a14c417e864d2880f2d1a380b413d6": {
      "model_module": "@jupyter-widgets/base",
      "model_module_version": "1.1.0",
      "model_name": "LayoutModel",
      "state": {}
     },
     "a8b4d772a27f49f48220c3b59945d471": {
      "model_module": "@jupyter-widgets/base",
      "model_module_version": "1.1.0",
      "model_name": "LayoutModel",
      "state": {}
     },
     "a8b6e25a1a574100a1c390f55aaf0d36": {
      "model_module": "@jupyter-widgets/controls",
      "model_module_version": "1.4.0",
      "model_name": "HTMLModel",
      "state": {
       "layout": "IPY_MODEL_7d6d40353d884cdf9738a1c645ae3cca",
       "style": "IPY_MODEL_63f7a133f7844c018315f6df7ca7d771",
       "value": " 91% 71/78 [00:00&lt;00:00, 309.07it/s]"
      }
     },
     "a8d97aa52af34ef397aa4d55f638eb95": {
      "model_module": "@jupyter-widgets/base",
      "model_module_version": "1.1.0",
      "model_name": "LayoutModel",
      "state": {}
     },
     "a8e423ffc41a4ba1b519a47558a9a8c3": {
      "model_module": "@jupyter-widgets/base",
      "model_module_version": "1.1.0",
      "model_name": "LayoutModel",
      "state": {}
     },
     "a8eb4f4030ec4a86af70138abf98fc6e": {
      "model_module": "@jupyter-widgets/base",
      "model_module_version": "1.1.0",
      "model_name": "LayoutModel",
      "state": {}
     },
     "a8fb016b11c74a2b96d94d0bda43555c": {
      "model_module": "@jupyter-widgets/controls",
      "model_module_version": "1.4.0",
      "model_name": "DescriptionStyleModel",
      "state": {
       "description_width": ""
      }
     },
     "a90c631bfb0e4affb1641c15872cc3b2": {
      "model_module": "@jupyter-widgets/controls",
      "model_module_version": "1.4.0",
      "model_name": "IntProgressModel",
      "state": {
       "layout": "IPY_MODEL_c283343772b44499a1fae8f08362b16c",
       "max": 17,
       "style": "IPY_MODEL_58749507e4a6498383c77a31aa1a3e26",
       "value": 17
      }
     },
     "a95869bd55c94328bd8e51aa0fce37f8": {
      "model_module": "@jupyter-widgets/base",
      "model_module_version": "1.1.0",
      "model_name": "LayoutModel",
      "state": {}
     },
     "a95f9969180b4721a4473086d62e26e4": {
      "model_module": "@jupyter-widgets/controls",
      "model_module_version": "1.4.0",
      "model_name": "HTMLModel",
      "state": {
       "layout": "IPY_MODEL_1a87b6252cca446ab4b8ddce5b45c759",
       "style": "IPY_MODEL_88e1236413584266a0437dbeb380eeeb",
       "value": "  0% 0/78 [00:00&lt;?, ?it/s]"
      }
     },
     "a95feb4f7ecd4404acf9b6badafdb992": {
      "model_module": "@jupyter-widgets/controls",
      "model_module_version": "1.4.0",
      "model_name": "ProgressStyleModel",
      "state": {
       "description_width": ""
      }
     },
     "a9612c6acbbc4a71ab5d98dd288fba2b": {
      "model_module": "@jupyter-widgets/controls",
      "model_module_version": "1.4.0",
      "model_name": "DescriptionStyleModel",
      "state": {
       "description_width": ""
      }
     },
     "a969a3f2d32d4bb0a7e1adfc55f5f880": {
      "model_module": "@jupyter-widgets/base",
      "model_module_version": "1.1.0",
      "model_name": "LayoutModel",
      "state": {}
     },
     "a9c4949502894a5e9f6275ed27dd3408": {
      "model_module": "@jupyter-widgets/base",
      "model_module_version": "1.1.0",
      "model_name": "LayoutModel",
      "state": {}
     },
     "a9ed64bb0a2242efab8d8ff21276426d": {
      "model_module": "@jupyter-widgets/controls",
      "model_module_version": "1.4.0",
      "model_name": "IntProgressModel",
      "state": {
       "layout": "IPY_MODEL_c43b0b0b30bf495ca3bfa0fe9fd98961",
       "max": 78,
       "style": "IPY_MODEL_d986f1da9e914afe96fca956d8393ab0",
       "value": 48
      }
     },
     "a9f26c1fba234c8fb263f49cf0af7f99": {
      "model_module": "@jupyter-widgets/base",
      "model_module_version": "1.1.0",
      "model_name": "LayoutModel",
      "state": {}
     },
     "aa28c9df0ec64565a4ce33ca3142c689": {
      "model_module": "@jupyter-widgets/controls",
      "model_module_version": "1.4.0",
      "model_name": "IntProgressModel",
      "state": {
       "layout": "IPY_MODEL_6238ee5bda3a4874bcd3836acf0c6f04",
       "max": 17,
       "style": "IPY_MODEL_dfe5989cf5dd40f09c050d954fc80763",
       "value": 17
      }
     },
     "aa2d597e8aa8467db982db7201f505f8": {
      "model_module": "@jupyter-widgets/controls",
      "model_module_version": "1.4.0",
      "model_name": "DescriptionStyleModel",
      "state": {
       "description_width": ""
      }
     },
     "aa3e8a3806714a09aa1a446ffb5ad232": {
      "model_module": "@jupyter-widgets/base",
      "model_module_version": "1.1.0",
      "model_name": "LayoutModel",
      "state": {}
     },
     "aa4367edef914e5e9c58b604f3b97096": {
      "model_module": "@jupyter-widgets/controls",
      "model_module_version": "1.4.0",
      "model_name": "DescriptionStyleModel",
      "state": {
       "description_width": ""
      }
     },
     "aa7583bdbb0f4c768d16b032d7f700e2": {
      "model_module": "@jupyter-widgets/controls",
      "model_module_version": "1.4.0",
      "model_name": "HTMLModel",
      "state": {
       "layout": "IPY_MODEL_3d0c2d7c235c466d93eedea1b4beb589",
       "style": "IPY_MODEL_54c3f4b78d5f4362957fea503e0801fe",
       "value": " 15% 12/78 [00:00&lt;00:00, 107.55it/s]"
      }
     },
     "aaad04086806410783650f07502e87c1": {
      "model_module": "@jupyter-widgets/base",
      "model_module_version": "1.1.0",
      "model_name": "LayoutModel",
      "state": {}
     },
     "aaad2a1ea04f4aef9caf5691fabeda5b": {
      "model_module": "@jupyter-widgets/controls",
      "model_module_version": "1.4.0",
      "model_name": "HTMLModel",
      "state": {
       "layout": "IPY_MODEL_8213f36990e54308b2f49b2615c4ffc8",
       "style": "IPY_MODEL_18fff6697276462588941058da21d0ea",
       "value": "100% 17/17 [00:04&lt;00:00,  3.75it/s]"
      }
     },
     "aae5858464a74446b5b88d9731ebb1ab": {
      "model_module": "@jupyter-widgets/controls",
      "model_module_version": "1.4.0",
      "model_name": "ProgressStyleModel",
      "state": {
       "description_width": ""
      }
     },
     "aaec3e7df9a84a9a991d5bf38b8c3cc7": {
      "model_module": "@jupyter-widgets/base",
      "model_module_version": "1.1.0",
      "model_name": "LayoutModel",
      "state": {}
     },
     "ab186795a62e48bb972635ff7edc2e7e": {
      "model_module": "@jupyter-widgets/controls",
      "model_module_version": "1.4.0",
      "model_name": "ProgressStyleModel",
      "state": {
       "description_width": ""
      }
     },
     "ab23b650c3a44f42920ccc5f08fc5768": {
      "model_module": "@jupyter-widgets/controls",
      "model_module_version": "1.4.0",
      "model_name": "IntProgressModel",
      "state": {
       "layout": "IPY_MODEL_625fa6e18fcd4b42a191fce03730e5e8",
       "max": 17,
       "style": "IPY_MODEL_c53c75e1155f49b3ac158d003da0f2cc",
       "value": 17
      }
     },
     "ab23d7fd5b14408dbdae9f490324381f": {
      "model_module": "@jupyter-widgets/controls",
      "model_module_version": "1.4.0",
      "model_name": "IntProgressModel",
      "state": {
       "layout": "IPY_MODEL_57681b7b1e3c4203add7c34188eead15",
       "max": 17,
       "style": "IPY_MODEL_5f07831e0c824692ae07d3ec72361353",
       "value": 17
      }
     },
     "ab98b5e656ed449b8a67b2ba36e742b4": {
      "model_module": "@jupyter-widgets/controls",
      "model_module_version": "1.4.0",
      "model_name": "DescriptionStyleModel",
      "state": {
       "description_width": ""
      }
     },
     "ab9e4946bf004b31ae6c4557c31b0427": {
      "model_module": "@jupyter-widgets/controls",
      "model_module_version": "1.4.0",
      "model_name": "HTMLModel",
      "state": {
       "layout": "IPY_MODEL_3991c32d4ae04035bc95e55ed9f975ba",
       "style": "IPY_MODEL_3c08113ad7324ce988f008e24266009d",
       "value": " 51% 40/78 [00:00&lt;00:00, 398.01it/s]"
      }
     },
     "aba5f18e650b4bb2bd01951382e2e8b8": {
      "model_module": "@jupyter-widgets/base",
      "model_module_version": "1.1.0",
      "model_name": "LayoutModel",
      "state": {}
     },
     "abb4776804294adb8c92dbef12f2bbec": {
      "model_module": "@jupyter-widgets/base",
      "model_module_version": "1.1.0",
      "model_name": "LayoutModel",
      "state": {}
     },
     "abc9b864ed974dbcab511ee7d2482895": {
      "model_module": "@jupyter-widgets/base",
      "model_module_version": "1.1.0",
      "model_name": "LayoutModel",
      "state": {}
     },
     "abec46272cc541788f087e6876698456": {
      "model_module": "@jupyter-widgets/controls",
      "model_module_version": "1.4.0",
      "model_name": "DescriptionStyleModel",
      "state": {
       "description_width": ""
      }
     },
     "abeed214a4844a5b8e26a00c993a0db0": {
      "model_module": "@jupyter-widgets/base",
      "model_module_version": "1.1.0",
      "model_name": "LayoutModel",
      "state": {}
     },
     "abf4a12f951b4db6bc26cba4b5849069": {
      "model_module": "@jupyter-widgets/base",
      "model_module_version": "1.1.0",
      "model_name": "LayoutModel",
      "state": {}
     },
     "abffe90a0e7742ee9ef4e52b2f6dc019": {
      "model_module": "@jupyter-widgets/base",
      "model_module_version": "1.1.0",
      "model_name": "LayoutModel",
      "state": {}
     },
     "ac13af03826944a9a41d0b27efcfbb91": {
      "model_module": "@jupyter-widgets/controls",
      "model_module_version": "1.4.0",
      "model_name": "ProgressStyleModel",
      "state": {
       "description_width": ""
      }
     },
     "ac32f76125614169abea6056ee9356ff": {
      "model_module": "@jupyter-widgets/controls",
      "model_module_version": "1.4.0",
      "model_name": "ProgressStyleModel",
      "state": {
       "description_width": ""
      }
     },
     "ac4caf22d8694268bb8356d8f3198236": {
      "model_module": "@jupyter-widgets/base",
      "model_module_version": "1.1.0",
      "model_name": "LayoutModel",
      "state": {}
     },
     "ac4e221cb8bb4f50add79e0cfdbaa3f8": {
      "model_module": "@jupyter-widgets/controls",
      "model_module_version": "1.4.0",
      "model_name": "DescriptionStyleModel",
      "state": {
       "description_width": ""
      }
     },
     "ac7badda8db04f818b7a9c540cdd1f2e": {
      "model_module": "@jupyter-widgets/base",
      "model_module_version": "1.1.0",
      "model_name": "LayoutModel",
      "state": {}
     },
     "ac89249e73a04355bed6c4da4b6a007a": {
      "model_module": "@jupyter-widgets/controls",
      "model_module_version": "1.4.0",
      "model_name": "DescriptionStyleModel",
      "state": {
       "description_width": ""
      }
     },
     "acfa2bf11918431890a894808cc2bf16": {
      "model_module": "@jupyter-widgets/controls",
      "model_module_version": "1.4.0",
      "model_name": "ProgressStyleModel",
      "state": {
       "description_width": ""
      }
     },
     "ad1f4ee2116b4a60af6ee837dd44b76e": {
      "model_module": "@jupyter-widgets/controls",
      "model_module_version": "1.4.0",
      "model_name": "DescriptionStyleModel",
      "state": {
       "description_width": ""
      }
     },
     "ad28416fed8d479ebf8fc997a5a2871b": {
      "model_module": "@jupyter-widgets/base",
      "model_module_version": "1.1.0",
      "model_name": "LayoutModel",
      "state": {}
     },
     "ad2f1149f1644a5e8bac96c1ebf8235a": {
      "model_module": "@jupyter-widgets/base",
      "model_module_version": "1.1.0",
      "model_name": "LayoutModel",
      "state": {}
     },
     "ad60983523384512bf0c9ec2f0a078c9": {
      "model_module": "@jupyter-widgets/base",
      "model_module_version": "1.1.0",
      "model_name": "LayoutModel",
      "state": {}
     },
     "ad6664d01c634563bb75df28b06e066c": {
      "model_module": "@jupyter-widgets/base",
      "model_module_version": "1.1.0",
      "model_name": "LayoutModel",
      "state": {}
     },
     "ad677fcd0fef4815822c3e98f9f53714": {
      "model_module": "@jupyter-widgets/controls",
      "model_module_version": "1.4.0",
      "model_name": "HTMLModel",
      "state": {
       "layout": "IPY_MODEL_32ca7f58c9a44a04ac709fcbde596f80",
       "style": "IPY_MODEL_887603283c3c4ffe897b9810e6d7725b",
       "value": "100% 17/17 [00:06&lt;00:00,  2.73it/s]"
      }
     },
     "ad6c603c11114082bbaf537a1f0a5916": {
      "model_module": "@jupyter-widgets/controls",
      "model_module_version": "1.4.0",
      "model_name": "IntProgressModel",
      "state": {
       "layout": "IPY_MODEL_b1e56ef180f94c47a52f73794a1816b4",
       "max": 78,
       "style": "IPY_MODEL_c5436407e5934e628e3875af4b9b3550",
       "value": 61
      }
     },
     "ad6c76f639e1450eaa1f16535a452ed9": {
      "model_module": "@jupyter-widgets/controls",
      "model_module_version": "1.4.0",
      "model_name": "DescriptionStyleModel",
      "state": {
       "description_width": ""
      }
     },
     "ad8f039277cb4be7858a031217e79964": {
      "model_module": "@jupyter-widgets/controls",
      "model_module_version": "1.4.0",
      "model_name": "HTMLModel",
      "state": {
       "layout": "IPY_MODEL_595324f8a42949f2bb37be07e3d88834",
       "style": "IPY_MODEL_09a4da78686644a7a8475a9d9051a89c",
       "value": " 18% 14/78 [00:00&lt;00:00, 137.44it/s]"
      }
     },
     "ad9fde3275534f8684c463346a23bfea": {
      "model_module": "@jupyter-widgets/controls",
      "model_module_version": "1.4.0",
      "model_name": "ProgressStyleModel",
      "state": {
       "description_width": ""
      }
     },
     "ada0a5445b53425ea59f40a53def5ee4": {
      "model_module": "@jupyter-widgets/base",
      "model_module_version": "1.1.0",
      "model_name": "LayoutModel",
      "state": {}
     },
     "adc54382b54e4f488af5bdd26ff14766": {
      "model_module": "@jupyter-widgets/base",
      "model_module_version": "1.1.0",
      "model_name": "LayoutModel",
      "state": {}
     },
     "ae1505bb21c44ba588240e0882eccde4": {
      "model_module": "@jupyter-widgets/controls",
      "model_module_version": "1.4.0",
      "model_name": "IntProgressModel",
      "state": {
       "layout": "IPY_MODEL_76f08a83d3c548ad8006c46757496d01",
       "max": 17,
       "style": "IPY_MODEL_e0eac325ebaf4942a8a921b509b17cad",
       "value": 17
      }
     },
     "ae2b0c860143466ab8dd14973a45bf25": {
      "model_module": "@jupyter-widgets/base",
      "model_module_version": "1.1.0",
      "model_name": "LayoutModel",
      "state": {}
     },
     "ae806b04f06e4bc9a11eff801a885281": {
      "model_module": "@jupyter-widgets/base",
      "model_module_version": "1.1.0",
      "model_name": "LayoutModel",
      "state": {}
     },
     "aee7487b316542daa6b6d8d8b47edbe6": {
      "model_module": "@jupyter-widgets/base",
      "model_module_version": "1.1.0",
      "model_name": "LayoutModel",
      "state": {}
     },
     "af12aad635ce477ebde9c85b3e2a4da9": {
      "model_module": "@jupyter-widgets/base",
      "model_module_version": "1.1.0",
      "model_name": "LayoutModel",
      "state": {}
     },
     "af394294f5604c0cba2d648639273c26": {
      "model_module": "@jupyter-widgets/base",
      "model_module_version": "1.1.0",
      "model_name": "LayoutModel",
      "state": {}
     },
     "af481875bf3c423caab7095fd86c4222": {
      "model_module": "@jupyter-widgets/base",
      "model_module_version": "1.1.0",
      "model_name": "LayoutModel",
      "state": {}
     },
     "af630693dfff4b7d8adccad12c9054f2": {
      "model_module": "@jupyter-widgets/controls",
      "model_module_version": "1.4.0",
      "model_name": "ProgressStyleModel",
      "state": {
       "description_width": ""
      }
     },
     "afa7e78c933f461394847bc3f1ff55e8": {
      "model_module": "@jupyter-widgets/controls",
      "model_module_version": "1.4.0",
      "model_name": "HTMLModel",
      "state": {
       "layout": "IPY_MODEL_abf4a12f951b4db6bc26cba4b5849069",
       "style": "IPY_MODEL_045c300b69424f4a853fbfae76eca0d0",
       "value": " 46% 36/78 [00:00&lt;00:00, 357.12it/s]"
      }
     },
     "afc03df5c1984921834656e543782a6d": {
      "model_module": "@jupyter-widgets/base",
      "model_module_version": "1.1.0",
      "model_name": "LayoutModel",
      "state": {}
     },
     "afd1796804b44a7cb118add9a14ff884": {
      "model_module": "@jupyter-widgets/base",
      "model_module_version": "1.1.0",
      "model_name": "LayoutModel",
      "state": {}
     },
     "afe33f4c1e26446785bfacff614a2606": {
      "model_module": "@jupyter-widgets/controls",
      "model_module_version": "1.4.0",
      "model_name": "IntProgressModel",
      "state": {
       "layout": "IPY_MODEL_a691ea1bc5534cf488496b2c2814ad4b",
       "max": 17,
       "style": "IPY_MODEL_f1e20b36fa294847a3ba761408d444a1",
       "value": 17
      }
     },
     "afe89344d06b4104994603e8ef938f5c": {
      "model_module": "@jupyter-widgets/base",
      "model_module_version": "1.1.0",
      "model_name": "LayoutModel",
      "state": {}
     },
     "afeafeea13b34b13a2c0498d8ab5a409": {
      "model_module": "@jupyter-widgets/controls",
      "model_module_version": "1.4.0",
      "model_name": "ProgressStyleModel",
      "state": {
       "description_width": ""
      }
     },
     "afec148b876a44169a2d1c1cbc845994": {
      "model_module": "@jupyter-widgets/controls",
      "model_module_version": "1.4.0",
      "model_name": "HTMLModel",
      "state": {
       "layout": "IPY_MODEL_7cceca8b494545009675b778a369d80b",
       "style": "IPY_MODEL_d25e352fa9b14d9b83d11e47a629c0ec",
       "value": "100% 17/17 [00:06&lt;00:00,  2.62it/s]"
      }
     },
     "aff6eee4ea5e4be68726ac3288122d85": {
      "model_module": "@jupyter-widgets/base",
      "model_module_version": "1.1.0",
      "model_name": "LayoutModel",
      "state": {}
     },
     "b02ff350598648d19f1d4b2de95f3c6c": {
      "model_module": "@jupyter-widgets/base",
      "model_module_version": "1.1.0",
      "model_name": "LayoutModel",
      "state": {}
     },
     "b05ed0cb1c0d4148be85a90ee497776e": {
      "model_module": "@jupyter-widgets/base",
      "model_module_version": "1.1.0",
      "model_name": "LayoutModel",
      "state": {}
     },
     "b08d155b22254079989d859dc296808c": {
      "model_module": "@jupyter-widgets/controls",
      "model_module_version": "1.4.0",
      "model_name": "IntProgressModel",
      "state": {
       "layout": "IPY_MODEL_6bfe22d30b35425996f25c14a12032ed",
       "max": 17,
       "style": "IPY_MODEL_a1248d84406b435d8baf7d6527e317f0",
       "value": 17
      }
     },
     "b08f6a1d823e4d1d8e08b35b06eb222b": {
      "model_module": "@jupyter-widgets/controls",
      "model_module_version": "1.4.0",
      "model_name": "IntProgressModel",
      "state": {
       "layout": "IPY_MODEL_d4377b27f3af435cab22babab60f0a1c",
       "max": 78,
       "style": "IPY_MODEL_a7c994014b5e4aeda8e4a313ded04475",
       "value": 71
      }
     },
     "b0fdeac933a540949ef0e9c8b2c8717a": {
      "model_module": "@jupyter-widgets/controls",
      "model_module_version": "1.4.0",
      "model_name": "IntProgressModel",
      "state": {
       "layout": "IPY_MODEL_6a31710c75c04ce49f594bf30f02eeda",
       "max": 17,
       "style": "IPY_MODEL_1608559b8a274ee5a7649cf7f7aa4158",
       "value": 17
      }
     },
     "b122905d6a81477596e5b45bfa05b8f5": {
      "model_module": "@jupyter-widgets/controls",
      "model_module_version": "1.4.0",
      "model_name": "DescriptionStyleModel",
      "state": {
       "description_width": ""
      }
     },
     "b12c0966ca6645f8b71c07ca935472c3": {
      "model_module": "@jupyter-widgets/base",
      "model_module_version": "1.1.0",
      "model_name": "LayoutModel",
      "state": {}
     },
     "b17b7a15e67f48ef86d17c84886fe9a1": {
      "model_module": "@jupyter-widgets/controls",
      "model_module_version": "1.4.0",
      "model_name": "HTMLModel",
      "state": {
       "layout": "IPY_MODEL_0ee74e0900fe41b99f53ec524a4b30ed",
       "style": "IPY_MODEL_ec223a7b061e45cc92924ed017b98fcf",
       "value": "100% 17/17 [00:06&lt;00:00,  2.56it/s]"
      }
     },
     "b199c87765f84826ba5d9b8736020078": {
      "model_module": "@jupyter-widgets/controls",
      "model_module_version": "1.4.0",
      "model_name": "ProgressStyleModel",
      "state": {
       "description_width": ""
      }
     },
     "b1a01d0f92ed4150927b29508ba2ff20": {
      "model_module": "@jupyter-widgets/base",
      "model_module_version": "1.1.0",
      "model_name": "LayoutModel",
      "state": {}
     },
     "b1a825ef3000425e9962b6fbb6d8d214": {
      "model_module": "@jupyter-widgets/controls",
      "model_module_version": "1.4.0",
      "model_name": "HBoxModel",
      "state": {
       "children": [
        "IPY_MODEL_73d413a8767c40e99f502d2154116531",
        "IPY_MODEL_e17169f9216c4a4e8260ccb54040a593"
       ],
       "layout": "IPY_MODEL_e6debe77439043aa88a9abd16b3e058d"
      }
     },
     "b1d4c427d723455394330f113ac0370c": {
      "model_module": "@jupyter-widgets/controls",
      "model_module_version": "1.4.0",
      "model_name": "IntProgressModel",
      "state": {
       "layout": "IPY_MODEL_b7122208efa141e091dae67e55dd9e01",
       "max": 78,
       "style": "IPY_MODEL_d460d8ff0dd948c590e8f50a098ddd22",
       "value": 23
      }
     },
     "b1e56ef180f94c47a52f73794a1816b4": {
      "model_module": "@jupyter-widgets/base",
      "model_module_version": "1.1.0",
      "model_name": "LayoutModel",
      "state": {}
     },
     "b1ec6e49d0794bba837307498fdbd34e": {
      "model_module": "@jupyter-widgets/controls",
      "model_module_version": "1.4.0",
      "model_name": "DescriptionStyleModel",
      "state": {
       "description_width": ""
      }
     },
     "b2399ea3537c41c3b0e417b6a09672c3": {
      "model_module": "@jupyter-widgets/base",
      "model_module_version": "1.1.0",
      "model_name": "LayoutModel",
      "state": {}
     },
     "b2688ebb327749babee8ecef59e3cde8": {
      "model_module": "@jupyter-widgets/controls",
      "model_module_version": "1.4.0",
      "model_name": "HTMLModel",
      "state": {
       "layout": "IPY_MODEL_defb6a824cce471d9916e28e247c9550",
       "style": "IPY_MODEL_7b7bb06624294b98bd335efe55a26b10",
       "value": "100% 17/17 [00:06&lt;00:00,  2.45it/s]"
      }
     },
     "b28ca532eb5e45d6afcb42878ef795de": {
      "model_module": "@jupyter-widgets/base",
      "model_module_version": "1.1.0",
      "model_name": "LayoutModel",
      "state": {}
     },
     "b28e6edf7c044d49ac5c7d282c8933a6": {
      "model_module": "@jupyter-widgets/controls",
      "model_module_version": "1.4.0",
      "model_name": "HTMLModel",
      "state": {
       "layout": "IPY_MODEL_8a5086fe5eb44dc2a3ea2decc50418f8",
       "style": "IPY_MODEL_9b9ffe5c20934e6fa29fd4fc48b39d31",
       "value": "100% 17/17 [00:05&lt;00:00,  3.01it/s]"
      }
     },
     "b322056ff68e4ffe97ea467001426e4b": {
      "model_module": "@jupyter-widgets/controls",
      "model_module_version": "1.4.0",
      "model_name": "ProgressStyleModel",
      "state": {
       "description_width": ""
      }
     },
     "b3235498e00643d39c50f05902d3e5f9": {
      "model_module": "@jupyter-widgets/controls",
      "model_module_version": "1.4.0",
      "model_name": "HTMLModel",
      "state": {
       "layout": "IPY_MODEL_19f9fe4eecf345cabbb72eea71f57baf",
       "style": "IPY_MODEL_d79fb64935094de0b6f208d46bf57497",
       "value": "100% 17/17 [00:05&lt;00:00,  3.37it/s]"
      }
     },
     "b34a202851de4ad5af86c130312fe578": {
      "model_module": "@jupyter-widgets/controls",
      "model_module_version": "1.4.0",
      "model_name": "ProgressStyleModel",
      "state": {
       "description_width": ""
      }
     },
     "b38a0e819e5e4b2a8dd1c3bee89b20e1": {
      "model_module": "@jupyter-widgets/controls",
      "model_module_version": "1.4.0",
      "model_name": "DescriptionStyleModel",
      "state": {
       "description_width": ""
      }
     },
     "b39b87ecc82e4320b35dfcc37a113f42": {
      "model_module": "@jupyter-widgets/base",
      "model_module_version": "1.1.0",
      "model_name": "LayoutModel",
      "state": {}
     },
     "b3ab956705864b09b14cd1245f8dbd27": {
      "model_module": "@jupyter-widgets/controls",
      "model_module_version": "1.4.0",
      "model_name": "HTMLModel",
      "state": {
       "layout": "IPY_MODEL_b8eeca4a162d4e68b78aeb3f6818c76c",
       "style": "IPY_MODEL_77d63bdfa92a44719b3068d02e6f97da",
       "value": "100% 17/17 [00:05&lt;00:00,  3.32it/s]"
      }
     },
     "b3ba7e3aa8864e8584725a507625cf9a": {
      "model_module": "@jupyter-widgets/controls",
      "model_module_version": "1.4.0",
      "model_name": "HTMLModel",
      "state": {
       "layout": "IPY_MODEL_9e47161c1ae04d4fb9bf98cdf970c2d2",
       "style": "IPY_MODEL_eec0232acb854775b7212384a45ab1a4",
       "value": "100% 17/17 [00:08&lt;00:00,  2.07it/s]"
      }
     },
     "b3bc944abd7b4838981d231ecdee8628": {
      "model_module": "@jupyter-widgets/controls",
      "model_module_version": "1.4.0",
      "model_name": "HTMLModel",
      "state": {
       "layout": "IPY_MODEL_4fcb4c115fc448a486f57e42181df6b5",
       "style": "IPY_MODEL_ac89249e73a04355bed6c4da4b6a007a",
       "value": "100% 17/17 [00:05&lt;00:00,  2.99it/s]"
      }
     },
     "b3ce9196e3e240a499914ea51aeca75e": {
      "model_module": "@jupyter-widgets/base",
      "model_module_version": "1.1.0",
      "model_name": "LayoutModel",
      "state": {}
     },
     "b3d0dfc1b0a74eee8664a14ff77d3c4f": {
      "model_module": "@jupyter-widgets/controls",
      "model_module_version": "1.4.0",
      "model_name": "IntProgressModel",
      "state": {
       "layout": "IPY_MODEL_6c78d7512686411b8b11e21f58f10f05",
       "max": 17,
       "style": "IPY_MODEL_a13101ac979a4c6bafbd60221c1f8f82",
       "value": 17
      }
     },
     "b3e6dfb2129340e9882e8bfb41304391": {
      "model_module": "@jupyter-widgets/base",
      "model_module_version": "1.1.0",
      "model_name": "LayoutModel",
      "state": {}
     },
     "b407a245674247219960fa08788b00d0": {
      "model_module": "@jupyter-widgets/controls",
      "model_module_version": "1.4.0",
      "model_name": "DescriptionStyleModel",
      "state": {
       "description_width": ""
      }
     },
     "b43f91138006457f8efb60513dbf37c0": {
      "model_module": "@jupyter-widgets/base",
      "model_module_version": "1.1.0",
      "model_name": "LayoutModel",
      "state": {}
     },
     "b445c77404da42b7b3f35fbcc891bd45": {
      "model_module": "@jupyter-widgets/base",
      "model_module_version": "1.1.0",
      "model_name": "LayoutModel",
      "state": {}
     },
     "b459d955927f454786ffec7e05402698": {
      "model_module": "@jupyter-widgets/controls",
      "model_module_version": "1.4.0",
      "model_name": "IntProgressModel",
      "state": {
       "layout": "IPY_MODEL_8cc04f5e4dfd44df90c538918624c3e9",
       "max": 17,
       "style": "IPY_MODEL_24025b02f68845b7b0569d85ff1ed497",
       "value": 17
      }
     },
     "b45ecf669b764e03a56941aa277fda59": {
      "model_module": "@jupyter-widgets/base",
      "model_module_version": "1.1.0",
      "model_name": "LayoutModel",
      "state": {}
     },
     "b481cf37de244289833cb0ee73090a70": {
      "model_module": "@jupyter-widgets/controls",
      "model_module_version": "1.4.0",
      "model_name": "IntProgressModel",
      "state": {
       "bar_style": "success",
       "layout": "IPY_MODEL_18d9ae5099814ff099fa256504d04219",
       "max": 78,
       "style": "IPY_MODEL_de0c66b6ac5e436bbceff8718050edb4",
       "value": 78
      }
     },
     "b487ad4d2a814117bd19f07c3c8b0096": {
      "model_module": "@jupyter-widgets/base",
      "model_module_version": "1.1.0",
      "model_name": "LayoutModel",
      "state": {}
     },
     "b4a8ad5aed1a4a1eb08cdbee485a0aee": {
      "model_module": "@jupyter-widgets/controls",
      "model_module_version": "1.4.0",
      "model_name": "IntProgressModel",
      "state": {
       "layout": "IPY_MODEL_7bf20ac9c9bd4b18a42de473308dff73",
       "max": 17,
       "style": "IPY_MODEL_77a2a9155d3c4d178c86b928d11013f9",
       "value": 17
      }
     },
     "b4b95510a3014212986c3e3a209d8c7b": {
      "model_module": "@jupyter-widgets/base",
      "model_module_version": "1.1.0",
      "model_name": "LayoutModel",
      "state": {}
     },
     "b4cf3911f34d450ba587edfa7d5cd5c8": {
      "model_module": "@jupyter-widgets/controls",
      "model_module_version": "1.4.0",
      "model_name": "ProgressStyleModel",
      "state": {
       "description_width": ""
      }
     },
     "b50899d8667d496faff4a0ecb151f7e8": {
      "model_module": "@jupyter-widgets/controls",
      "model_module_version": "1.4.0",
      "model_name": "ProgressStyleModel",
      "state": {
       "description_width": ""
      }
     },
     "b52baf0bf3da4d38bd3402939f0fdc35": {
      "model_module": "@jupyter-widgets/base",
      "model_module_version": "1.1.0",
      "model_name": "LayoutModel",
      "state": {}
     },
     "b5355abadc904b898b9f22dce304e4c9": {
      "model_module": "@jupyter-widgets/controls",
      "model_module_version": "1.4.0",
      "model_name": "IntProgressModel",
      "state": {
       "layout": "IPY_MODEL_c4629b8b7ca242abb4b68e5233d6f318",
       "max": 17,
       "style": "IPY_MODEL_024af5799f2547b1a9f8556649979d2d",
       "value": 17
      }
     },
     "b53583b5c6724ae1a44f08749dd668b8": {
      "model_module": "@jupyter-widgets/base",
      "model_module_version": "1.1.0",
      "model_name": "LayoutModel",
      "state": {}
     },
     "b53c5e84a32e41cd819080ef2503e38c": {
      "model_module": "@jupyter-widgets/controls",
      "model_module_version": "1.4.0",
      "model_name": "HTMLModel",
      "state": {
       "layout": "IPY_MODEL_5f850f1ca43c4befa1283491c5036a9a",
       "style": "IPY_MODEL_108df54bcd214e39ace1647b5c70f6d3",
       "value": "100% 17/17 [00:08&lt;00:00,  1.95it/s]"
      }
     },
     "b5486f6b140842a4866c651e8738a07b": {
      "model_module": "@jupyter-widgets/base",
      "model_module_version": "1.1.0",
      "model_name": "LayoutModel",
      "state": {}
     },
     "b5503e06fc2848fea6fcd5000fd6ccae": {
      "model_module": "@jupyter-widgets/base",
      "model_module_version": "1.1.0",
      "model_name": "LayoutModel",
      "state": {}
     },
     "b5558b5e2a714241b9ee3f690b175eab": {
      "model_module": "@jupyter-widgets/controls",
      "model_module_version": "1.4.0",
      "model_name": "HTMLModel",
      "state": {
       "layout": "IPY_MODEL_b39b87ecc82e4320b35dfcc37a113f42",
       "style": "IPY_MODEL_c0596236d616464199e7ea3febb5aad1",
       "value": "100% 17/17 [00:05&lt;00:00,  2.85it/s]"
      }
     },
     "b597ae1cf7fc455fb40cfabd5162aa41": {
      "model_module": "@jupyter-widgets/controls",
      "model_module_version": "1.4.0",
      "model_name": "HTMLModel",
      "state": {
       "layout": "IPY_MODEL_2b777b9fed4843f5a3068c5c3204cdce",
       "style": "IPY_MODEL_d60904fc69194747b71f0869cea69c1d",
       "value": " 90% 70/78 [00:00&lt;00:00, 334.27it/s]"
      }
     },
     "b5b986c007e84a6b84337c6c0cacd827": {
      "model_module": "@jupyter-widgets/controls",
      "model_module_version": "1.4.0",
      "model_name": "HTMLModel",
      "state": {
       "layout": "IPY_MODEL_6fad7bedf9d44e268502287070628f25",
       "style": "IPY_MODEL_5907ecbfea2242409559c6237c7c5d66",
       "value": " 63% 49/78 [00:00&lt;00:00, 232.74it/s]"
      }
     },
     "b5ec2081261c47c9877a6488e1d44041": {
      "model_module": "@jupyter-widgets/base",
      "model_module_version": "1.1.0",
      "model_name": "LayoutModel",
      "state": {}
     },
     "b5efc3da486149ae9b2e2da9c3321aa2": {
      "model_module": "@jupyter-widgets/controls",
      "model_module_version": "1.4.0",
      "model_name": "DescriptionStyleModel",
      "state": {
       "description_width": ""
      }
     },
     "b5fdd4eae2114c8c83bd3b86aa8aa643": {
      "model_module": "@jupyter-widgets/base",
      "model_module_version": "1.1.0",
      "model_name": "LayoutModel",
      "state": {}
     },
     "b624a137c1804b2c80478e7d1bd1e918": {
      "model_module": "@jupyter-widgets/base",
      "model_module_version": "1.1.0",
      "model_name": "LayoutModel",
      "state": {}
     },
     "b631b47728ac4b2caeab799ff4dfd448": {
      "model_module": "@jupyter-widgets/controls",
      "model_module_version": "1.4.0",
      "model_name": "HTMLModel",
      "state": {
       "layout": "IPY_MODEL_52cd18502ca944fd84dc5c42e88ecaa0",
       "style": "IPY_MODEL_98d528e8a11049298eedc776b7d1ed7f",
       "value": " 19% 15/78 [00:00&lt;00:00, 146.97it/s]"
      }
     },
     "b64e7f9641764a3480c1c7b013ab54c9": {
      "model_module": "@jupyter-widgets/base",
      "model_module_version": "1.1.0",
      "model_name": "LayoutModel",
      "state": {}
     },
     "b66a6cd593ff4ec7a43633ba8382c2e1": {
      "model_module": "@jupyter-widgets/base",
      "model_module_version": "1.1.0",
      "model_name": "LayoutModel",
      "state": {}
     },
     "b68ab1ac4ef1436095b377cbeb580950": {
      "model_module": "@jupyter-widgets/controls",
      "model_module_version": "1.4.0",
      "model_name": "IntProgressModel",
      "state": {
       "layout": "IPY_MODEL_fd34642904b642c590a2ab8237119d61",
       "max": 78,
       "style": "IPY_MODEL_e887c520cc55409d9874a9c2fca8c737",
       "value": 21
      }
     },
     "b6c4feee88bd4b5cbdae0bd333b4cc21": {
      "model_module": "@jupyter-widgets/base",
      "model_module_version": "1.1.0",
      "model_name": "LayoutModel",
      "state": {}
     },
     "b7015fb6cdf64b5fb7f3fa6b8ebc9445": {
      "model_module": "@jupyter-widgets/controls",
      "model_module_version": "1.4.0",
      "model_name": "IntProgressModel",
      "state": {
       "layout": "IPY_MODEL_32ec959e0d8542f5b17ab1e57294d6ce",
       "max": 17,
       "style": "IPY_MODEL_ad9fde3275534f8684c463346a23bfea",
       "value": 17
      }
     },
     "b7122208efa141e091dae67e55dd9e01": {
      "model_module": "@jupyter-widgets/base",
      "model_module_version": "1.1.0",
      "model_name": "LayoutModel",
      "state": {}
     },
     "b737de086f6e4c3a993aeffdcbf4309e": {
      "model_module": "@jupyter-widgets/controls",
      "model_module_version": "1.4.0",
      "model_name": "ProgressStyleModel",
      "state": {
       "description_width": ""
      }
     },
     "b75028d40a784a118d22b3bcd53fc42e": {
      "model_module": "@jupyter-widgets/base",
      "model_module_version": "1.1.0",
      "model_name": "LayoutModel",
      "state": {}
     },
     "b754a2a5a9f64983817c8a77e387878e": {
      "model_module": "@jupyter-widgets/base",
      "model_module_version": "1.1.0",
      "model_name": "LayoutModel",
      "state": {}
     },
     "b75a165782d844bda727f83af04e9323": {
      "model_module": "@jupyter-widgets/controls",
      "model_module_version": "1.4.0",
      "model_name": "DescriptionStyleModel",
      "state": {
       "description_width": ""
      }
     },
     "b766fd4f9e3e40f99908debf5a985960": {
      "model_module": "@jupyter-widgets/base",
      "model_module_version": "1.1.0",
      "model_name": "LayoutModel",
      "state": {}
     },
     "b777845dcc0140ae9ff1a1dbaa15cc26": {
      "model_module": "@jupyter-widgets/controls",
      "model_module_version": "1.4.0",
      "model_name": "IntProgressModel",
      "state": {
       "layout": "IPY_MODEL_87a93843f8ec4cbe8997788c90fe020c",
       "max": 78,
       "style": "IPY_MODEL_a661d64de6bc45d3a5bcb6a7fdd3d7a0",
       "value": 50
      }
     },
     "b77ecec9ab7f420d9131d69a6402e499": {
      "model_module": "@jupyter-widgets/controls",
      "model_module_version": "1.4.0",
      "model_name": "DescriptionStyleModel",
      "state": {
       "description_width": ""
      }
     },
     "b798dcfaa3db4822960cb55311c52cd5": {
      "model_module": "@jupyter-widgets/controls",
      "model_module_version": "1.4.0",
      "model_name": "ProgressStyleModel",
      "state": {
       "description_width": ""
      }
     },
     "b79b4ec263ec45cfb59fea5bb3c45b24": {
      "model_module": "@jupyter-widgets/base",
      "model_module_version": "1.1.0",
      "model_name": "LayoutModel",
      "state": {}
     },
     "b7a57ca72373456f9f53c4d950b2d65f": {
      "model_module": "@jupyter-widgets/controls",
      "model_module_version": "1.4.0",
      "model_name": "DescriptionStyleModel",
      "state": {
       "description_width": ""
      }
     },
     "b7e24c2dd65c4f3d8ede57a69f2ef313": {
      "model_module": "@jupyter-widgets/base",
      "model_module_version": "1.1.0",
      "model_name": "LayoutModel",
      "state": {}
     },
     "b7f489a581ca4ea39bef78200c55badb": {
      "model_module": "@jupyter-widgets/base",
      "model_module_version": "1.1.0",
      "model_name": "LayoutModel",
      "state": {}
     },
     "b83646f389c14c38a9b1c921a3316d0d": {
      "model_module": "@jupyter-widgets/base",
      "model_module_version": "1.1.0",
      "model_name": "LayoutModel",
      "state": {}
     },
     "b86a84157b88488fbd855df44e77781b": {
      "model_module": "@jupyter-widgets/base",
      "model_module_version": "1.1.0",
      "model_name": "LayoutModel",
      "state": {}
     },
     "b87f588d35fd471b9a633a79dae7ba26": {
      "model_module": "@jupyter-widgets/controls",
      "model_module_version": "1.4.0",
      "model_name": "IntProgressModel",
      "state": {
       "layout": "IPY_MODEL_4fa746fbf3a24195816cf78782496a5a",
       "max": 78,
       "style": "IPY_MODEL_36fb2398c28947fda951fb18df7ba4be",
       "value": 71
      }
     },
     "b88ac596eb2d40aca9569f64b78c319e": {
      "model_module": "@jupyter-widgets/base",
      "model_module_version": "1.1.0",
      "model_name": "LayoutModel",
      "state": {}
     },
     "b8bf53b8d43a4578b21b1c32836a9354": {
      "model_module": "@jupyter-widgets/base",
      "model_module_version": "1.1.0",
      "model_name": "LayoutModel",
      "state": {}
     },
     "b8c8a4c74302453398f18ebd70e91da3": {
      "model_module": "@jupyter-widgets/base",
      "model_module_version": "1.1.0",
      "model_name": "LayoutModel",
      "state": {}
     },
     "b8d39b494ed64df9bf20104953e5df42": {
      "model_module": "@jupyter-widgets/base",
      "model_module_version": "1.1.0",
      "model_name": "LayoutModel",
      "state": {}
     },
     "b8dd878247874129939c22a887ae8504": {
      "model_module": "@jupyter-widgets/controls",
      "model_module_version": "1.4.0",
      "model_name": "IntProgressModel",
      "state": {
       "layout": "IPY_MODEL_981f72ccbeb24bbf9f4a1ee8eb685b44",
       "max": 78,
       "style": "IPY_MODEL_bdc90ae3ab3f429db970d3d5d8993565",
       "value": 16
      }
     },
     "b8eeca4a162d4e68b78aeb3f6818c76c": {
      "model_module": "@jupyter-widgets/base",
      "model_module_version": "1.1.0",
      "model_name": "LayoutModel",
      "state": {}
     },
     "b90e7c4e39104d689dd89353c93ff19c": {
      "model_module": "@jupyter-widgets/base",
      "model_module_version": "1.1.0",
      "model_name": "LayoutModel",
      "state": {}
     },
     "b912a423d72045769333efb4c85bca99": {
      "model_module": "@jupyter-widgets/controls",
      "model_module_version": "1.4.0",
      "model_name": "ProgressStyleModel",
      "state": {
       "description_width": ""
      }
     },
     "b97931814e764c1ea7a6581a70fe8dc9": {
      "model_module": "@jupyter-widgets/base",
      "model_module_version": "1.1.0",
      "model_name": "LayoutModel",
      "state": {}
     },
     "b9995740c7214200a929fe3b88332011": {
      "model_module": "@jupyter-widgets/base",
      "model_module_version": "1.1.0",
      "model_name": "LayoutModel",
      "state": {}
     },
     "b9dfbcbe00d64912aec7c42899b2285a": {
      "model_module": "@jupyter-widgets/base",
      "model_module_version": "1.1.0",
      "model_name": "LayoutModel",
      "state": {}
     },
     "b9fc898e31464db5938eef8a7f10ed74": {
      "model_module": "@jupyter-widgets/controls",
      "model_module_version": "1.4.0",
      "model_name": "IntProgressModel",
      "state": {
       "layout": "IPY_MODEL_fad4305b8d0644c28db299012c4ba94a",
       "max": 78,
       "style": "IPY_MODEL_ead5271c711c43faa863f11842365e2c",
       "value": 18
      }
     },
     "ba2f26991c404dfd8329be13c4bca6de": {
      "model_module": "@jupyter-widgets/base",
      "model_module_version": "1.1.0",
      "model_name": "LayoutModel",
      "state": {}
     },
     "ba4937b3ac6f497787ba29438a08deaf": {
      "model_module": "@jupyter-widgets/base",
      "model_module_version": "1.1.0",
      "model_name": "LayoutModel",
      "state": {}
     },
     "ba60e35c59aa46bdae0fd1a0ff571905": {
      "model_module": "@jupyter-widgets/controls",
      "model_module_version": "1.4.0",
      "model_name": "HTMLModel",
      "state": {
       "layout": "IPY_MODEL_7ac73faa0e0740e2977999bdf3b8b1ea",
       "style": "IPY_MODEL_c1307ae1672b423fbb683ee6ee837472",
       "value": "100% 78/78 [00:00&lt;00:00, 377.26it/s]"
      }
     },
     "ba6d4ebcb32b4dc08ad2c7b2687cbeb3": {
      "model_module": "@jupyter-widgets/controls",
      "model_module_version": "1.4.0",
      "model_name": "HTMLModel",
      "state": {
       "layout": "IPY_MODEL_ac4caf22d8694268bb8356d8f3198236",
       "style": "IPY_MODEL_84fd32d4db1a45e981a55e522f0f6165",
       "value": " 15% 12/78 [00:00&lt;00:00, 113.30it/s]"
      }
     },
     "ba7a317b296048bea761bf4af0b596d8": {
      "model_module": "@jupyter-widgets/controls",
      "model_module_version": "1.4.0",
      "model_name": "HTMLModel",
      "state": {
       "layout": "IPY_MODEL_3202a5ba511c4cdd843c4bb1abb67e25",
       "style": "IPY_MODEL_63d3a69fcfec4f05a58edf76131d8eb1",
       "value": " 87% 68/78 [00:00&lt;00:00, 337.18it/s]"
      }
     },
     "ba8eb445203b4bfa87862252eca34142": {
      "model_module": "@jupyter-widgets/controls",
      "model_module_version": "1.4.0",
      "model_name": "ProgressStyleModel",
      "state": {
       "description_width": ""
      }
     },
     "ba9e3d3a79d04de0abf2321d6a276e58": {
      "model_module": "@jupyter-widgets/controls",
      "model_module_version": "1.4.0",
      "model_name": "ProgressStyleModel",
      "state": {
       "description_width": ""
      }
     },
     "bb0174a9fce24f78bb180aba023703c8": {
      "model_module": "@jupyter-widgets/controls",
      "model_module_version": "1.4.0",
      "model_name": "DescriptionStyleModel",
      "state": {
       "description_width": ""
      }
     },
     "bb287390506e4d44977664f3da6bb86c": {
      "model_module": "@jupyter-widgets/controls",
      "model_module_version": "1.4.0",
      "model_name": "DescriptionStyleModel",
      "state": {
       "description_width": ""
      }
     },
     "bb3a6f4bd20844b3b3ce33854f264244": {
      "model_module": "@jupyter-widgets/controls",
      "model_module_version": "1.4.0",
      "model_name": "IntProgressModel",
      "state": {
       "layout": "IPY_MODEL_86de9bad1ce2412c849bea4be25d2e57",
       "max": 78,
       "style": "IPY_MODEL_57a54d24a4634f868a184dfd03e140c6",
       "value": 23
      }
     },
     "bb4b9633ffdc45b4bd4615ce2885d95f": {
      "model_module": "@jupyter-widgets/base",
      "model_module_version": "1.1.0",
      "model_name": "LayoutModel",
      "state": {}
     },
     "bb4e85820d4140cfad26e6b5490f5641": {
      "model_module": "@jupyter-widgets/base",
      "model_module_version": "1.1.0",
      "model_name": "LayoutModel",
      "state": {}
     },
     "bb55b92ff14941b9a46e58c7b37469e8": {
      "model_module": "@jupyter-widgets/base",
      "model_module_version": "1.1.0",
      "model_name": "LayoutModel",
      "state": {}
     },
     "bb614557290644cb9dc3af6dee7bbe72": {
      "model_module": "@jupyter-widgets/base",
      "model_module_version": "1.1.0",
      "model_name": "LayoutModel",
      "state": {}
     },
     "bb73b195bd0d42f0b468b28ff9b15751": {
      "model_module": "@jupyter-widgets/base",
      "model_module_version": "1.1.0",
      "model_name": "LayoutModel",
      "state": {}
     },
     "bbbfea17f2ee4e2e861165d398634d5d": {
      "model_module": "@jupyter-widgets/controls",
      "model_module_version": "1.4.0",
      "model_name": "DescriptionStyleModel",
      "state": {
       "description_width": ""
      }
     },
     "bbcb1358f2d0478db9b31dd86661fb2c": {
      "model_module": "@jupyter-widgets/base",
      "model_module_version": "1.1.0",
      "model_name": "LayoutModel",
      "state": {}
     },
     "bbcdcdb6990f447e8376aaa7ba701183": {
      "model_module": "@jupyter-widgets/base",
      "model_module_version": "1.1.0",
      "model_name": "LayoutModel",
      "state": {}
     },
     "bc0cc0af3995469fa2b258868eeeada7": {
      "model_module": "@jupyter-widgets/base",
      "model_module_version": "1.1.0",
      "model_name": "LayoutModel",
      "state": {}
     },
     "bc20f1b36ccd47af8d5489d8eee6f13b": {
      "model_module": "@jupyter-widgets/base",
      "model_module_version": "1.1.0",
      "model_name": "LayoutModel",
      "state": {}
     },
     "bc322e9a08f444e0af2d1f343dd7ca03": {
      "model_module": "@jupyter-widgets/base",
      "model_module_version": "1.1.0",
      "model_name": "LayoutModel",
      "state": {}
     },
     "bc60272d345d42408c2a3ef8db7534eb": {
      "model_module": "@jupyter-widgets/base",
      "model_module_version": "1.1.0",
      "model_name": "LayoutModel",
      "state": {}
     },
     "bc8aafcf75c8488eb43de405bfaab89a": {
      "model_module": "@jupyter-widgets/controls",
      "model_module_version": "1.4.0",
      "model_name": "IntProgressModel",
      "state": {
       "layout": "IPY_MODEL_f38d37d1efa0417cbdbee22b67ca7435",
       "max": 78,
       "style": "IPY_MODEL_f91cfcef90554419ba723df54f32fb69",
       "value": 9
      }
     },
     "bc98107b92b54071812bb63b9dfbaccf": {
      "model_module": "@jupyter-widgets/controls",
      "model_module_version": "1.4.0",
      "model_name": "DescriptionStyleModel",
      "state": {
       "description_width": ""
      }
     },
     "bc9eb603c8984566ae8200f9cb847102": {
      "model_module": "@jupyter-widgets/base",
      "model_module_version": "1.1.0",
      "model_name": "LayoutModel",
      "state": {}
     },
     "bcabb2674b1749d094c632f47b9b198b": {
      "model_module": "@jupyter-widgets/controls",
      "model_module_version": "1.4.0",
      "model_name": "ProgressStyleModel",
      "state": {
       "description_width": ""
      }
     },
     "bcb515a6976a48f2bffb076321c6be82": {
      "model_module": "@jupyter-widgets/controls",
      "model_module_version": "1.4.0",
      "model_name": "ProgressStyleModel",
      "state": {
       "description_width": ""
      }
     },
     "bccbf3a92bd84bc893db591653427bce": {
      "model_module": "@jupyter-widgets/base",
      "model_module_version": "1.1.0",
      "model_name": "LayoutModel",
      "state": {}
     },
     "bcd317f89cb54d95ab82bc9213409613": {
      "model_module": "@jupyter-widgets/controls",
      "model_module_version": "1.4.0",
      "model_name": "ProgressStyleModel",
      "state": {
       "description_width": ""
      }
     },
     "bcd34b6d8dcd4b4c8315aef0c3a0d681": {
      "model_module": "@jupyter-widgets/base",
      "model_module_version": "1.1.0",
      "model_name": "LayoutModel",
      "state": {}
     },
     "bced9d34f9cb477283382156a30b83d1": {
      "model_module": "@jupyter-widgets/controls",
      "model_module_version": "1.4.0",
      "model_name": "HTMLModel",
      "state": {
       "layout": "IPY_MODEL_40fb3aaa6ee14b509c04eef19305cfb0",
       "style": "IPY_MODEL_f7875add115d4d8cb2b70276fca3360d",
       "value": " 38% 30/78 [00:00&lt;00:00, 297.01it/s]"
      }
     },
     "bd1e0498a4464d4fb2bbc2d3d1789371": {
      "model_module": "@jupyter-widgets/base",
      "model_module_version": "1.1.0",
      "model_name": "LayoutModel",
      "state": {}
     },
     "bd2c650e73f74146942d2c702bc060d4": {
      "model_module": "@jupyter-widgets/controls",
      "model_module_version": "1.4.0",
      "model_name": "HTMLModel",
      "state": {
       "layout": "IPY_MODEL_74100933ba52471e84291b0bcfb53365",
       "style": "IPY_MODEL_665bf809c2f94cc182fb0f9a9685ab6c",
       "value": " 12% 9/78 [00:00&lt;00:00, 76.11it/s]"
      }
     },
     "bd3d0d927ede4bceb86273bc33a1af46": {
      "model_module": "@jupyter-widgets/base",
      "model_module_version": "1.1.0",
      "model_name": "LayoutModel",
      "state": {}
     },
     "bd44441b2a8d480c87170846fec21446": {
      "model_module": "@jupyter-widgets/base",
      "model_module_version": "1.1.0",
      "model_name": "LayoutModel",
      "state": {}
     },
     "bd853922cb7d485ab00055fb1a3febbd": {
      "model_module": "@jupyter-widgets/controls",
      "model_module_version": "1.4.0",
      "model_name": "IntProgressModel",
      "state": {
       "layout": "IPY_MODEL_982492caab47484fba7ff99afae8bc80",
       "max": 78,
       "style": "IPY_MODEL_9b415362dddb4b459ac6db19d971f0ec",
       "value": 31
      }
     },
     "bd8a6005757248d8bcacd1d9ca0e54d2": {
      "model_module": "@jupyter-widgets/base",
      "model_module_version": "1.1.0",
      "model_name": "LayoutModel",
      "state": {}
     },
     "bda987c55b724ed685c38be75642ba9d": {
      "model_module": "@jupyter-widgets/controls",
      "model_module_version": "1.4.0",
      "model_name": "HTMLModel",
      "state": {
       "layout": "IPY_MODEL_ec943be832434d648d0d7a9ef1a430e7",
       "style": "IPY_MODEL_ad6c76f639e1450eaa1f16535a452ed9",
       "value": "100% 17/17 [00:06&lt;00:00,  2.49it/s]"
      }
     },
     "bdc90ae3ab3f429db970d3d5d8993565": {
      "model_module": "@jupyter-widgets/controls",
      "model_module_version": "1.4.0",
      "model_name": "ProgressStyleModel",
      "state": {
       "description_width": ""
      }
     },
     "bdec2a85138a4935a4cbc0b00b467de0": {
      "model_module": "@jupyter-widgets/base",
      "model_module_version": "1.1.0",
      "model_name": "LayoutModel",
      "state": {}
     },
     "be14413c93ae494aba12a19fc4adada2": {
      "model_module": "@jupyter-widgets/controls",
      "model_module_version": "1.4.0",
      "model_name": "HTMLModel",
      "state": {
       "layout": "IPY_MODEL_45e405520d394391833d7a1923addc32",
       "style": "IPY_MODEL_53998ea99e1c4d86a717498d04dfbdd5",
       "value": " 12% 9/78 [00:00&lt;00:00, 88.71it/s]"
      }
     },
     "be408cc89d8c49aea308a856594ca703": {
      "model_module": "@jupyter-widgets/controls",
      "model_module_version": "1.4.0",
      "model_name": "IntProgressModel",
      "state": {
       "layout": "IPY_MODEL_59265685be0c44ba8a016e67c697249f",
       "max": 78,
       "style": "IPY_MODEL_5e85398a6e8c48b49616c1d02c9c795c",
       "value": 49
      }
     },
     "be4de02a44a3484cb35b073019ed2812": {
      "model_module": "@jupyter-widgets/base",
      "model_module_version": "1.1.0",
      "model_name": "LayoutModel",
      "state": {}
     },
     "be5440e9f63748b784e8ce43bdca17b0": {
      "model_module": "@jupyter-widgets/controls",
      "model_module_version": "1.4.0",
      "model_name": "DescriptionStyleModel",
      "state": {
       "description_width": ""
      }
     },
     "be5d45cab1af499abf08efd1e40b589e": {
      "model_module": "@jupyter-widgets/base",
      "model_module_version": "1.1.0",
      "model_name": "LayoutModel",
      "state": {}
     },
     "be632f9efe8b46069bd737505cc95511": {
      "model_module": "@jupyter-widgets/controls",
      "model_module_version": "1.4.0",
      "model_name": "HTMLModel",
      "state": {
       "layout": "IPY_MODEL_e01c2f0bf6b5443586fe1f48069a1bda",
       "style": "IPY_MODEL_e2a334ab25c44b2cbb05d9dcdff9fe8d",
       "value": "  0% 0/78 [00:00&lt;?, ?it/s]"
      }
     },
     "be85019a703c4aee9dba4a4c3e3aae86": {
      "model_module": "@jupyter-widgets/base",
      "model_module_version": "1.1.0",
      "model_name": "LayoutModel",
      "state": {}
     },
     "be8c334f3fdd45e0b2fabe220bedfe7c": {
      "model_module": "@jupyter-widgets/controls",
      "model_module_version": "1.4.0",
      "model_name": "IntProgressModel",
      "state": {
       "layout": "IPY_MODEL_2dac475de93b4cd495b227f30600e3a9",
       "max": 78,
       "style": "IPY_MODEL_1ceb65cbf6804336b4687538f1e11274",
       "value": 33
      }
     },
     "beb43fb2f09149f884b814a8e73e0aa9": {
      "model_module": "@jupyter-widgets/base",
      "model_module_version": "1.1.0",
      "model_name": "LayoutModel",
      "state": {}
     },
     "beb8c8c195b7485eb3d544dba7b19cc1": {
      "model_module": "@jupyter-widgets/base",
      "model_module_version": "1.1.0",
      "model_name": "LayoutModel",
      "state": {}
     },
     "bedf829e86b743d4b8a8b1ddd138736b": {
      "model_module": "@jupyter-widgets/controls",
      "model_module_version": "1.4.0",
      "model_name": "DescriptionStyleModel",
      "state": {
       "description_width": ""
      }
     },
     "bee884085fac4c099d31ae3c92fffe9e": {
      "model_module": "@jupyter-widgets/base",
      "model_module_version": "1.1.0",
      "model_name": "LayoutModel",
      "state": {}
     },
     "bef19d18066049028a74906e80ba626b": {
      "model_module": "@jupyter-widgets/controls",
      "model_module_version": "1.4.0",
      "model_name": "ProgressStyleModel",
      "state": {
       "description_width": ""
      }
     },
     "bef55621d5b4491b866184618536e8d6": {
      "model_module": "@jupyter-widgets/base",
      "model_module_version": "1.1.0",
      "model_name": "LayoutModel",
      "state": {}
     },
     "bf00c0ea1cc74875b26bf60d8fe9e1da": {
      "model_module": "@jupyter-widgets/base",
      "model_module_version": "1.1.0",
      "model_name": "LayoutModel",
      "state": {}
     },
     "bf0d5487d537481fbba4fea14b24ea70": {
      "model_module": "@jupyter-widgets/controls",
      "model_module_version": "1.4.0",
      "model_name": "DescriptionStyleModel",
      "state": {
       "description_width": ""
      }
     },
     "bf1350bf670b42b3b44de7a14030f860": {
      "model_module": "@jupyter-widgets/base",
      "model_module_version": "1.1.0",
      "model_name": "LayoutModel",
      "state": {}
     },
     "bf2fbacea267423fba1444ed8829e802": {
      "model_module": "@jupyter-widgets/controls",
      "model_module_version": "1.4.0",
      "model_name": "HTMLModel",
      "state": {
       "layout": "IPY_MODEL_72ea72715b4b43448002b4de6ea8cd22",
       "style": "IPY_MODEL_7d1228e9656048ffa3a585ff4263eb96",
       "value": "100% 78/78 [00:00&lt;00:00, 463.96it/s]"
      }
     },
     "bf77acd60f804340afc7fa1f7774f34d": {
      "model_module": "@jupyter-widgets/controls",
      "model_module_version": "1.4.0",
      "model_name": "IntProgressModel",
      "state": {
       "layout": "IPY_MODEL_64301b89a7af4e4b84193be107b64ab4",
       "max": 78,
       "style": "IPY_MODEL_e7618503d84b4cbcaaf8cea3cd59e69e"
      }
     },
     "bf996128a45a4b099dfc2e05e9e15b32": {
      "model_module": "@jupyter-widgets/controls",
      "model_module_version": "1.4.0",
      "model_name": "IntProgressModel",
      "state": {
       "layout": "IPY_MODEL_1aa9b3e107384cbea78e49315230f7d3",
       "max": 78,
       "style": "IPY_MODEL_f13e524291134b1f83b3bb2fe707f177",
       "value": 15
      }
     },
     "bfab3c08465447699df540c8efb23836": {
      "model_module": "@jupyter-widgets/controls",
      "model_module_version": "1.4.0",
      "model_name": "DescriptionStyleModel",
      "state": {
       "description_width": ""
      }
     },
     "bfb43e6c795c4badb23a1be8eb83c5f6": {
      "model_module": "@jupyter-widgets/controls",
      "model_module_version": "1.4.0",
      "model_name": "DescriptionStyleModel",
      "state": {
       "description_width": ""
      }
     },
     "bfd672be4eb24f0592a7d21871ecfd78": {
      "model_module": "@jupyter-widgets/controls",
      "model_module_version": "1.4.0",
      "model_name": "DescriptionStyleModel",
      "state": {
       "description_width": ""
      }
     },
     "c00e70b60885460d901a5786ad35e889": {
      "model_module": "@jupyter-widgets/controls",
      "model_module_version": "1.4.0",
      "model_name": "HTMLModel",
      "state": {
       "layout": "IPY_MODEL_10b5aded8acb40dda83507c0c7563a49",
       "style": "IPY_MODEL_a32dc38c56d84f5a882db2ba0a3b24ee",
       "value": " 87% 68/78 [00:00&lt;00:00, 673.18it/s]"
      }
     },
     "c017ed3523ee4462b7e04bd406fa5655": {
      "model_module": "@jupyter-widgets/controls",
      "model_module_version": "1.4.0",
      "model_name": "ProgressStyleModel",
      "state": {
       "description_width": ""
      }
     },
     "c01cc39a26af4c8586b09f87ce1a8a7f": {
      "model_module": "@jupyter-widgets/controls",
      "model_module_version": "1.4.0",
      "model_name": "DescriptionStyleModel",
      "state": {
       "description_width": ""
      }
     },
     "c02fb472f64d4ffcb7f9b11703c03f7d": {
      "model_module": "@jupyter-widgets/base",
      "model_module_version": "1.1.0",
      "model_name": "LayoutModel",
      "state": {}
     },
     "c03f487438134ae6ae975d66ab3e5f66": {
      "model_module": "@jupyter-widgets/controls",
      "model_module_version": "1.4.0",
      "model_name": "IntProgressModel",
      "state": {
       "layout": "IPY_MODEL_6ac5ec865f2949a1903db22d79ac23dd",
       "max": 78,
       "style": "IPY_MODEL_652dc89c5ebc4808984a013c1b35b519",
       "value": 50
      }
     },
     "c0596236d616464199e7ea3febb5aad1": {
      "model_module": "@jupyter-widgets/controls",
      "model_module_version": "1.4.0",
      "model_name": "DescriptionStyleModel",
      "state": {
       "description_width": ""
      }
     },
     "c0bf8a6004634b569d66a247418ecea7": {
      "model_module": "@jupyter-widgets/base",
      "model_module_version": "1.1.0",
      "model_name": "LayoutModel",
      "state": {}
     },
     "c0e2a88794e8484982f0ab70cd2ece1d": {
      "model_module": "@jupyter-widgets/base",
      "model_module_version": "1.1.0",
      "model_name": "LayoutModel",
      "state": {}
     },
     "c0fa3e029a70417a9c70950f165c1198": {
      "model_module": "@jupyter-widgets/base",
      "model_module_version": "1.1.0",
      "model_name": "LayoutModel",
      "state": {}
     },
     "c1046365b01e457fb8b72c75bc2d4094": {
      "model_module": "@jupyter-widgets/controls",
      "model_module_version": "1.4.0",
      "model_name": "DescriptionStyleModel",
      "state": {
       "description_width": ""
      }
     },
     "c109f090f3f24f5fa05431650dd7d98c": {
      "model_module": "@jupyter-widgets/base",
      "model_module_version": "1.1.0",
      "model_name": "LayoutModel",
      "state": {}
     },
     "c1307ae1672b423fbb683ee6ee837472": {
      "model_module": "@jupyter-widgets/controls",
      "model_module_version": "1.4.0",
      "model_name": "DescriptionStyleModel",
      "state": {
       "description_width": ""
      }
     },
     "c1669bb896d24f85ac2f63a3079e1a9e": {
      "model_module": "@jupyter-widgets/base",
      "model_module_version": "1.1.0",
      "model_name": "LayoutModel",
      "state": {}
     },
     "c1d954c93c9e41ab845339fafccddfcc": {
      "model_module": "@jupyter-widgets/base",
      "model_module_version": "1.1.0",
      "model_name": "LayoutModel",
      "state": {}
     },
     "c1f5fa745de34496833ebd9937b82437": {
      "model_module": "@jupyter-widgets/base",
      "model_module_version": "1.1.0",
      "model_name": "LayoutModel",
      "state": {}
     },
     "c216f80d3ca841b09f914bfde8e539eb": {
      "model_module": "@jupyter-widgets/controls",
      "model_module_version": "1.4.0",
      "model_name": "ProgressStyleModel",
      "state": {
       "description_width": ""
      }
     },
     "c227188301b64285b36326c4afa8d17c": {
      "model_module": "@jupyter-widgets/controls",
      "model_module_version": "1.4.0",
      "model_name": "HTMLModel",
      "state": {
       "layout": "IPY_MODEL_452dbc27e949454e8084fa4b6d2ee403",
       "style": "IPY_MODEL_69ddeb0dbebf4599a7a0f99a61b89e6a",
       "value": " 29% 23/78 [00:00&lt;00:00, 227.65it/s]"
      }
     },
     "c22dd33dd7434bcaa3022a61773adb8a": {
      "model_module": "@jupyter-widgets/controls",
      "model_module_version": "1.4.0",
      "model_name": "IntProgressModel",
      "state": {
       "layout": "IPY_MODEL_2b8720accb5749cca4763151c4fcb3a6",
       "max": 78,
       "style": "IPY_MODEL_1d1ce86b1efa4757bd732ac548b85b9b",
       "value": 58
      }
     },
     "c234e2754aae4458ad185d51460986a5": {
      "model_module": "@jupyter-widgets/base",
      "model_module_version": "1.1.0",
      "model_name": "LayoutModel",
      "state": {}
     },
     "c2469a4564ce402cbef00c06c6aac280": {
      "model_module": "@jupyter-widgets/controls",
      "model_module_version": "1.4.0",
      "model_name": "DescriptionStyleModel",
      "state": {
       "description_width": ""
      }
     },
     "c276255e5ef6487988dd6e92b4c1d2b5": {
      "model_module": "@jupyter-widgets/base",
      "model_module_version": "1.1.0",
      "model_name": "LayoutModel",
      "state": {}
     },
     "c283343772b44499a1fae8f08362b16c": {
      "model_module": "@jupyter-widgets/base",
      "model_module_version": "1.1.0",
      "model_name": "LayoutModel",
      "state": {}
     },
     "c2888ef62d6248bdafb63869a1c41300": {
      "model_module": "@jupyter-widgets/base",
      "model_module_version": "1.1.0",
      "model_name": "LayoutModel",
      "state": {}
     },
     "c2b17ccac2484fbdb0e249189ee063ca": {
      "model_module": "@jupyter-widgets/base",
      "model_module_version": "1.1.0",
      "model_name": "LayoutModel",
      "state": {}
     },
     "c2fffbeeef7c49e390f7ab4f847b661b": {
      "model_module": "@jupyter-widgets/controls",
      "model_module_version": "1.4.0",
      "model_name": "DescriptionStyleModel",
      "state": {
       "description_width": ""
      }
     },
     "c331b4604acf436a8c59b6f62e720d6c": {
      "model_module": "@jupyter-widgets/base",
      "model_module_version": "1.1.0",
      "model_name": "LayoutModel",
      "state": {}
     },
     "c3387344df5d4f5eaaedf9382d48286a": {
      "model_module": "@jupyter-widgets/base",
      "model_module_version": "1.1.0",
      "model_name": "LayoutModel",
      "state": {}
     },
     "c38382ba49d34189a84077d4d781c49b": {
      "model_module": "@jupyter-widgets/controls",
      "model_module_version": "1.4.0",
      "model_name": "HTMLModel",
      "state": {
       "layout": "IPY_MODEL_4c42f124aec04e628d9ffca43a6330c1",
       "style": "IPY_MODEL_9dbb5452527b43639e71bc4620164fc2",
       "value": "100% 17/17 [00:05&lt;00:00,  3.21it/s]"
      }
     },
     "c3c21ffa388d4887a523d9eed4c57cb8": {
      "model_module": "@jupyter-widgets/base",
      "model_module_version": "1.1.0",
      "model_name": "LayoutModel",
      "state": {}
     },
     "c3da5f2c129f4e4d9d906af32bd4724b": {
      "model_module": "@jupyter-widgets/controls",
      "model_module_version": "1.4.0",
      "model_name": "HTMLModel",
      "state": {
       "layout": "IPY_MODEL_355d04947d94433dab2f5fa2e680c363",
       "style": "IPY_MODEL_88916ca0b28445728bbb3a8115480b97",
       "value": "100% 17/17 [00:06&lt;00:00,  2.70it/s]"
      }
     },
     "c3f3166033d441db8126dc735f8ed59a": {
      "model_module": "@jupyter-widgets/controls",
      "model_module_version": "1.4.0",
      "model_name": "DescriptionStyleModel",
      "state": {
       "description_width": ""
      }
     },
     "c4095ce83e6a44879eaddfd167fc4859": {
      "model_module": "@jupyter-widgets/controls",
      "model_module_version": "1.4.0",
      "model_name": "HTMLModel",
      "state": {
       "layout": "IPY_MODEL_992e6604c2254dc7bf4d436aa248d85d",
       "style": "IPY_MODEL_d7e1e0126d894038a91b71bc0625ed89",
       "value": " 90% 70/78 [00:00&lt;00:00, 347.42it/s]"
      }
     },
     "c40c43e5d6a34590910bf9280621fba8": {
      "model_module": "@jupyter-widgets/controls",
      "model_module_version": "1.4.0",
      "model_name": "HTMLModel",
      "state": {
       "layout": "IPY_MODEL_da8a5ec76f974ba78a9d5e0b58f569c5",
       "style": "IPY_MODEL_021d5cea6fd8455db5d9d357d0fca3e4",
       "value": "100% 17/17 [00:04&lt;00:00,  3.69it/s]"
      }
     },
     "c41abc364a3e4b83bdd7ebf09440741c": {
      "model_module": "@jupyter-widgets/controls",
      "model_module_version": "1.4.0",
      "model_name": "ProgressStyleModel",
      "state": {
       "description_width": ""
      }
     },
     "c41e5dbae9024063876af1703c2456cc": {
      "model_module": "@jupyter-widgets/controls",
      "model_module_version": "1.4.0",
      "model_name": "IntProgressModel",
      "state": {
       "layout": "IPY_MODEL_8e726d32a44c4ba7bcbecbd7e7a16239",
       "max": 17,
       "style": "IPY_MODEL_4a7c52c79cb7493095aad308caaf51e4",
       "value": 17
      }
     },
     "c429553c77554f22a328cd9ef37827e9": {
      "model_module": "@jupyter-widgets/base",
      "model_module_version": "1.1.0",
      "model_name": "LayoutModel",
      "state": {}
     },
     "c42cac66959846409a0992e5e2abcf53": {
      "model_module": "@jupyter-widgets/base",
      "model_module_version": "1.1.0",
      "model_name": "LayoutModel",
      "state": {}
     },
     "c43b0b0b30bf495ca3bfa0fe9fd98961": {
      "model_module": "@jupyter-widgets/base",
      "model_module_version": "1.1.0",
      "model_name": "LayoutModel",
      "state": {}
     },
     "c45eb3d6b94f49d3924862214a562725": {
      "model_module": "@jupyter-widgets/controls",
      "model_module_version": "1.4.0",
      "model_name": "HTMLModel",
      "state": {
       "layout": "IPY_MODEL_f26873182a6347728d498ffafcb2d807",
       "style": "IPY_MODEL_da585ca762e547a7b6a0a89df6ef9069",
       "value": " 95% 74/78 [00:00&lt;00:00, 364.55it/s]"
      }
     },
     "c4629b8b7ca242abb4b68e5233d6f318": {
      "model_module": "@jupyter-widgets/base",
      "model_module_version": "1.1.0",
      "model_name": "LayoutModel",
      "state": {}
     },
     "c477ae195edb47dfa3473b960aed3055": {
      "model_module": "@jupyter-widgets/base",
      "model_module_version": "1.1.0",
      "model_name": "LayoutModel",
      "state": {}
     },
     "c47dc72448ed41b08968071ca1d4e8f0": {
      "model_module": "@jupyter-widgets/base",
      "model_module_version": "1.1.0",
      "model_name": "LayoutModel",
      "state": {}
     },
     "c521c6e01aa24e6f8828e11099ac379c": {
      "model_module": "@jupyter-widgets/controls",
      "model_module_version": "1.4.0",
      "model_name": "HTMLModel",
      "state": {
       "layout": "IPY_MODEL_abc9b864ed974dbcab511ee7d2482895",
       "style": "IPY_MODEL_2a2c826827f74529adf064da9bd8a28d",
       "value": " 59% 46/78 [00:00&lt;00:00, 455.43it/s]"
      }
     },
     "c53148547a524da7a370703e4d903431": {
      "model_module": "@jupyter-widgets/controls",
      "model_module_version": "1.4.0",
      "model_name": "HTMLModel",
      "state": {
       "layout": "IPY_MODEL_3178c898b9ba48c28160073e25b1c49b",
       "style": "IPY_MODEL_bfab3c08465447699df540c8efb23836",
       "value": "100% 17/17 [00:05&lt;00:00,  3.34it/s]"
      }
     },
     "c53c75e1155f49b3ac158d003da0f2cc": {
      "model_module": "@jupyter-widgets/controls",
      "model_module_version": "1.4.0",
      "model_name": "ProgressStyleModel",
      "state": {
       "description_width": ""
      }
     },
     "c5436407e5934e628e3875af4b9b3550": {
      "model_module": "@jupyter-widgets/controls",
      "model_module_version": "1.4.0",
      "model_name": "ProgressStyleModel",
      "state": {
       "description_width": ""
      }
     },
     "c54574d47f134b5cb9329789fd025d43": {
      "model_module": "@jupyter-widgets/controls",
      "model_module_version": "1.4.0",
      "model_name": "DescriptionStyleModel",
      "state": {
       "description_width": ""
      }
     },
     "c573f6aed9174053bfea8964a28323a4": {
      "model_module": "@jupyter-widgets/base",
      "model_module_version": "1.1.0",
      "model_name": "LayoutModel",
      "state": {}
     },
     "c5928ec3e21147bb83ff536d5e2e1656": {
      "model_module": "@jupyter-widgets/controls",
      "model_module_version": "1.4.0",
      "model_name": "ProgressStyleModel",
      "state": {
       "description_width": ""
      }
     },
     "c59ccc86cf3f4587955e4c2bd1e83f2c": {
      "model_module": "@jupyter-widgets/base",
      "model_module_version": "1.1.0",
      "model_name": "LayoutModel",
      "state": {}
     },
     "c5adbfe111d6485fba5fd7cb21b28d19": {
      "model_module": "@jupyter-widgets/controls",
      "model_module_version": "1.4.0",
      "model_name": "DescriptionStyleModel",
      "state": {
       "description_width": ""
      }
     },
     "c5fb13d3ebc040c8b429343350aeb2ef": {
      "model_module": "@jupyter-widgets/base",
      "model_module_version": "1.1.0",
      "model_name": "LayoutModel",
      "state": {}
     },
     "c600fb11f0f4473f80777271f575f38f": {
      "model_module": "@jupyter-widgets/base",
      "model_module_version": "1.1.0",
      "model_name": "LayoutModel",
      "state": {}
     },
     "c61c07af3822408bbe06cac3bf753984": {
      "model_module": "@jupyter-widgets/controls",
      "model_module_version": "1.4.0",
      "model_name": "HTMLModel",
      "state": {
       "layout": "IPY_MODEL_07f100ac6a3f4452b39add4fd24fdf29",
       "style": "IPY_MODEL_79bee19babe247df8d2610b0391cb6f1",
       "value": " 72% 56/78 [00:00&lt;00:00, 277.59it/s]"
      }
     },
     "c64333bb70ef42bfbec5b9fe82b2936d": {
      "model_module": "@jupyter-widgets/base",
      "model_module_version": "1.1.0",
      "model_name": "LayoutModel",
      "state": {}
     },
     "c6592fe6adde4450a178e13363a12940": {
      "model_module": "@jupyter-widgets/controls",
      "model_module_version": "1.4.0",
      "model_name": "ProgressStyleModel",
      "state": {
       "description_width": ""
      }
     },
     "c664a2db70f0466fbd4764a5fb561d98": {
      "model_module": "@jupyter-widgets/controls",
      "model_module_version": "1.4.0",
      "model_name": "ProgressStyleModel",
      "state": {
       "description_width": ""
      }
     },
     "c66823688e734f0c844a9fe5dcdc3114": {
      "model_module": "@jupyter-widgets/controls",
      "model_module_version": "1.4.0",
      "model_name": "HTMLModel",
      "state": {
       "layout": "IPY_MODEL_c734b17f682745f2b906c8c30d60bf6b",
       "style": "IPY_MODEL_5e8e7042fc2644f28be6a52ae3062d17",
       "value": " 15% 12/78 [00:00&lt;00:00, 116.34it/s]"
      }
     },
     "c66cfd33d87548f999d522e4cd060f5a": {
      "model_module": "@jupyter-widgets/base",
      "model_module_version": "1.1.0",
      "model_name": "LayoutModel",
      "state": {}
     },
     "c6cce1635fbf4122b53d622e0d5c6730": {
      "model_module": "@jupyter-widgets/controls",
      "model_module_version": "1.4.0",
      "model_name": "DescriptionStyleModel",
      "state": {
       "description_width": ""
      }
     },
     "c6f1f51a152d42e58461a3b4f2aee3c2": {
      "model_module": "@jupyter-widgets/base",
      "model_module_version": "1.1.0",
      "model_name": "LayoutModel",
      "state": {}
     },
     "c72989eaeec444acb9a8b178cbb69bd2": {
      "model_module": "@jupyter-widgets/base",
      "model_module_version": "1.1.0",
      "model_name": "LayoutModel",
      "state": {}
     },
     "c734b17f682745f2b906c8c30d60bf6b": {
      "model_module": "@jupyter-widgets/base",
      "model_module_version": "1.1.0",
      "model_name": "LayoutModel",
      "state": {}
     },
     "c758b2dd612847a38c0fdb5bb6942476": {
      "model_module": "@jupyter-widgets/base",
      "model_module_version": "1.1.0",
      "model_name": "LayoutModel",
      "state": {}
     },
     "c76836f8b8164aafa8efd2338b8eba05": {
      "model_module": "@jupyter-widgets/controls",
      "model_module_version": "1.4.0",
      "model_name": "ProgressStyleModel",
      "state": {
       "description_width": ""
      }
     },
     "c7798b7b8ba94967b58b90cf94940775": {
      "model_module": "@jupyter-widgets/controls",
      "model_module_version": "1.4.0",
      "model_name": "ProgressStyleModel",
      "state": {
       "description_width": ""
      }
     },
     "c7bda465afa142f696570bc29a9b7659": {
      "model_module": "@jupyter-widgets/base",
      "model_module_version": "1.1.0",
      "model_name": "LayoutModel",
      "state": {}
     },
     "c7daccd3739841d5adcbc7491b8b1606": {
      "model_module": "@jupyter-widgets/controls",
      "model_module_version": "1.4.0",
      "model_name": "HTMLModel",
      "state": {
       "layout": "IPY_MODEL_a0333f822d454910ac67bc4d3275e7a3",
       "style": "IPY_MODEL_4daa36c6912a4964b60ab9e323a7d515",
       "value": "100% 17/17 [00:05&lt;00:00,  2.92it/s]"
      }
     },
     "c843231810a649869ed790560fd0cbe2": {
      "model_module": "@jupyter-widgets/controls",
      "model_module_version": "1.4.0",
      "model_name": "ProgressStyleModel",
      "state": {
       "description_width": ""
      }
     },
     "c862122b695b4a25985a6d219678b4d9": {
      "model_module": "@jupyter-widgets/controls",
      "model_module_version": "1.4.0",
      "model_name": "ProgressStyleModel",
      "state": {
       "description_width": ""
      }
     },
     "c89444646584426daff95ff9ca7241b5": {
      "model_module": "@jupyter-widgets/base",
      "model_module_version": "1.1.0",
      "model_name": "LayoutModel",
      "state": {}
     },
     "c8bb90b07985459e9e1754a57847ca31": {
      "model_module": "@jupyter-widgets/base",
      "model_module_version": "1.1.0",
      "model_name": "LayoutModel",
      "state": {}
     },
     "c8cf91776f6a4eca971a54a8f70fb944": {
      "model_module": "@jupyter-widgets/base",
      "model_module_version": "1.1.0",
      "model_name": "LayoutModel",
      "state": {}
     },
     "c8e8da8625b6487dbacdea34ab55df53": {
      "model_module": "@jupyter-widgets/base",
      "model_module_version": "1.1.0",
      "model_name": "LayoutModel",
      "state": {}
     },
     "c8fc4260d6f943bb837a9bbdfa99590c": {
      "model_module": "@jupyter-widgets/controls",
      "model_module_version": "1.4.0",
      "model_name": "ProgressStyleModel",
      "state": {
       "description_width": ""
      }
     },
     "c91bf0fd7dd1418e87ffb59426a9c797": {
      "model_module": "@jupyter-widgets/controls",
      "model_module_version": "1.4.0",
      "model_name": "IntProgressModel",
      "state": {
       "layout": "IPY_MODEL_f54cd4018f91472fa58167d0245dbacb",
       "max": 78,
       "style": "IPY_MODEL_76d5bd5719e84893985f8c60fdcccce4",
       "value": 62
      }
     },
     "c9203ebd435a4cd182f0dd90ab0dd163": {
      "model_module": "@jupyter-widgets/base",
      "model_module_version": "1.1.0",
      "model_name": "LayoutModel",
      "state": {}
     },
     "c9519dc22144490cb1b1c8e3bbf427b0": {
      "model_module": "@jupyter-widgets/base",
      "model_module_version": "1.1.0",
      "model_name": "LayoutModel",
      "state": {}
     },
     "c96a8494c7be4e02bafc1f1e38798db7": {
      "model_module": "@jupyter-widgets/base",
      "model_module_version": "1.1.0",
      "model_name": "LayoutModel",
      "state": {}
     },
     "c97326e5729c48d8a358c7f514a4610d": {
      "model_module": "@jupyter-widgets/base",
      "model_module_version": "1.1.0",
      "model_name": "LayoutModel",
      "state": {}
     },
     "c97d66acf292488087bb7f0a89039d32": {
      "model_module": "@jupyter-widgets/base",
      "model_module_version": "1.1.0",
      "model_name": "LayoutModel",
      "state": {}
     },
     "c9a0a799ea6e47c4a4d28f6f215f590f": {
      "model_module": "@jupyter-widgets/controls",
      "model_module_version": "1.4.0",
      "model_name": "ProgressStyleModel",
      "state": {
       "description_width": ""
      }
     },
     "c9af104bf1bb46f3b09e9c8bfce37091": {
      "model_module": "@jupyter-widgets/controls",
      "model_module_version": "1.4.0",
      "model_name": "IntProgressModel",
      "state": {
       "layout": "IPY_MODEL_597fec79186f4d5dbf609331232f5f23",
       "max": 17,
       "style": "IPY_MODEL_3d412db0a00f4dbc8f9f2def2e7d7129",
       "value": 17
      }
     },
     "c9b61be1552b4e6392d05a5151cefb23": {
      "model_module": "@jupyter-widgets/controls",
      "model_module_version": "1.4.0",
      "model_name": "DescriptionStyleModel",
      "state": {
       "description_width": ""
      }
     },
     "c9c19e584a6d4a808a65b72d14fae21c": {
      "model_module": "@jupyter-widgets/controls",
      "model_module_version": "1.4.0",
      "model_name": "IntProgressModel",
      "state": {
       "layout": "IPY_MODEL_4c693c27b85a4ea8a67cd18208bb4850",
       "max": 78,
       "style": "IPY_MODEL_56b07674038e4f10ba8a0dd718a2a8c5",
       "value": 59
      }
     },
     "c9ca88252df148a7bb6dd265dd90145f": {
      "model_module": "@jupyter-widgets/controls",
      "model_module_version": "1.4.0",
      "model_name": "IntProgressModel",
      "state": {
       "layout": "IPY_MODEL_608f56b77acc4eccacc5e07508c419c3",
       "max": 78,
       "style": "IPY_MODEL_9a857eb7df454466a292671a9f808674",
       "value": 74
      }
     },
     "c9e6ea8323be4a778a01620e3d76e424": {
      "model_module": "@jupyter-widgets/controls",
      "model_module_version": "1.4.0",
      "model_name": "HTMLModel",
      "state": {
       "layout": "IPY_MODEL_fa9296a708474fdaaddeed272f3dc3ca",
       "style": "IPY_MODEL_cf07e83222734366a62a9a4ae92241d7",
       "value": " 88% 69/78 [00:00&lt;00:00, 337.74it/s]"
      }
     },
     "c9f26fe4bd9742bd97fe2d76df5ede5d": {
      "model_module": "@jupyter-widgets/controls",
      "model_module_version": "1.4.0",
      "model_name": "HTMLModel",
      "state": {
       "layout": "IPY_MODEL_bb55b92ff14941b9a46e58c7b37469e8",
       "style": "IPY_MODEL_203112ace14741bfb320d679d7298b9f",
       "value": " 18% 14/78 [00:00&lt;00:00, 138.29it/s]"
      }
     },
     "ca1222f31b1d415fae34be06be0a6df0": {
      "model_module": "@jupyter-widgets/base",
      "model_module_version": "1.1.0",
      "model_name": "LayoutModel",
      "state": {}
     },
     "ca34beef526043c78b7845d22d6e0d7f": {
      "model_module": "@jupyter-widgets/controls",
      "model_module_version": "1.4.0",
      "model_name": "DescriptionStyleModel",
      "state": {
       "description_width": ""
      }
     },
     "ca4c222a0c484a1196a77502c24298c3": {
      "model_module": "@jupyter-widgets/base",
      "model_module_version": "1.1.0",
      "model_name": "LayoutModel",
      "state": {}
     },
     "ca70cd01bd5e435e88ea053be6ef6d4e": {
      "model_module": "@jupyter-widgets/base",
      "model_module_version": "1.1.0",
      "model_name": "LayoutModel",
      "state": {}
     },
     "ca7245830f3f4d6483360bb52ea0e461": {
      "model_module": "@jupyter-widgets/controls",
      "model_module_version": "1.4.0",
      "model_name": "IntProgressModel",
      "state": {
       "layout": "IPY_MODEL_05aac89b891c4e16a8a3148029c2ed50",
       "max": 78,
       "style": "IPY_MODEL_8e5716e67b884948823985b56b34cb11",
       "value": 12
      }
     },
     "ca79414a89324bfaa7d9d2c5819dd9d4": {
      "model_module": "@jupyter-widgets/controls",
      "model_module_version": "1.4.0",
      "model_name": "HTMLModel",
      "state": {
       "layout": "IPY_MODEL_4f7b92234e114b918f57e0c732e9b0d8",
       "style": "IPY_MODEL_5df00fcdcb754fb69486665ba5c44a5d",
       "value": "100% 17/17 [00:04&lt;00:00,  3.44it/s]"
      }
     },
     "ca996e43ab624a02af09f791a68cd442": {
      "model_module": "@jupyter-widgets/base",
      "model_module_version": "1.1.0",
      "model_name": "LayoutModel",
      "state": {}
     },
     "caa73640b71845c78b800563d8377704": {
      "model_module": "@jupyter-widgets/base",
      "model_module_version": "1.1.0",
      "model_name": "LayoutModel",
      "state": {}
     },
     "cad2db0d490c4b6e87c1e14a7c0a744f": {
      "model_module": "@jupyter-widgets/base",
      "model_module_version": "1.1.0",
      "model_name": "LayoutModel",
      "state": {}
     },
     "caf367b1454949d3854efc9bc0e2eda3": {
      "model_module": "@jupyter-widgets/base",
      "model_module_version": "1.1.0",
      "model_name": "LayoutModel",
      "state": {}
     },
     "cb23dc5648584fca80394c3ea2609f5f": {
      "model_module": "@jupyter-widgets/controls",
      "model_module_version": "1.4.0",
      "model_name": "IntProgressModel",
      "state": {
       "layout": "IPY_MODEL_dc21519ccf644f4981b4356162891142",
       "max": 17,
       "style": "IPY_MODEL_f768e0576d894f3cbacd4b9c40e1623c",
       "value": 17
      }
     },
     "cb6ae56a2998482e8955c669f9f8ff69": {
      "model_module": "@jupyter-widgets/controls",
      "model_module_version": "1.4.0",
      "model_name": "DescriptionStyleModel",
      "state": {
       "description_width": ""
      }
     },
     "cb7b14b522e34d3e88f91dd248d90a17": {
      "model_module": "@jupyter-widgets/controls",
      "model_module_version": "1.4.0",
      "model_name": "IntProgressModel",
      "state": {
       "bar_style": "success",
       "layout": "IPY_MODEL_715bbdaa9fd649d98ef2cad0300b87d3",
       "max": 78,
       "style": "IPY_MODEL_ff2c71a31932497898ad9393e176f862",
       "value": 78
      }
     },
     "cb8ba0b08636491b91f4233ab8076aab": {
      "model_module": "@jupyter-widgets/base",
      "model_module_version": "1.1.0",
      "model_name": "LayoutModel",
      "state": {}
     },
     "cb8d9475a32043a88002f1aa0877ce12": {
      "model_module": "@jupyter-widgets/controls",
      "model_module_version": "1.4.0",
      "model_name": "HTMLModel",
      "state": {
       "layout": "IPY_MODEL_3d0e37bd595c4f7897156837f2dfb2b1",
       "style": "IPY_MODEL_4c404b3301c244c28a934019faf56ce1",
       "value": " 12% 9/78 [00:00&lt;00:00, 89.06it/s]"
      }
     },
     "cbc6229ffb3f4f19afda260f294c6e9a": {
      "model_module": "@jupyter-widgets/controls",
      "model_module_version": "1.4.0",
      "model_name": "DescriptionStyleModel",
      "state": {
       "description_width": ""
      }
     },
     "cbd4a9d986a742808597c10f87c75039": {
      "model_module": "@jupyter-widgets/controls",
      "model_module_version": "1.4.0",
      "model_name": "IntProgressModel",
      "state": {
       "layout": "IPY_MODEL_c1d954c93c9e41ab845339fafccddfcc",
       "max": 17,
       "style": "IPY_MODEL_65c17ef5cd104f5baf8939bd4ac6f30f",
       "value": 17
      }
     },
     "cbe35afb99e34dbdbdb0b1454d8e6684": {
      "model_module": "@jupyter-widgets/base",
      "model_module_version": "1.1.0",
      "model_name": "LayoutModel",
      "state": {}
     },
     "cbeb45921b0f460d8ebf858ca4de1d52": {
      "model_module": "@jupyter-widgets/controls",
      "model_module_version": "1.4.0",
      "model_name": "ProgressStyleModel",
      "state": {
       "description_width": ""
      }
     },
     "cbf25851fd3b4fd8a8cb5701d1b6c7ac": {
      "model_module": "@jupyter-widgets/controls",
      "model_module_version": "1.4.0",
      "model_name": "ProgressStyleModel",
      "state": {
       "description_width": ""
      }
     },
     "cc0953eb93314ff18fd9da1797adc1c5": {
      "model_module": "@jupyter-widgets/base",
      "model_module_version": "1.1.0",
      "model_name": "LayoutModel",
      "state": {}
     },
     "cc0a976209544d10b3810ce211c7a732": {
      "model_module": "@jupyter-widgets/base",
      "model_module_version": "1.1.0",
      "model_name": "LayoutModel",
      "state": {}
     },
     "cc2009ccae494855a4ab610715b1a0d1": {
      "model_module": "@jupyter-widgets/controls",
      "model_module_version": "1.4.0",
      "model_name": "ProgressStyleModel",
      "state": {
       "description_width": ""
      }
     },
     "cc45842b5fb84f9eb2dc3ef21cc04438": {
      "model_module": "@jupyter-widgets/base",
      "model_module_version": "1.1.0",
      "model_name": "LayoutModel",
      "state": {}
     },
     "cc47bef1ecc54f9195df66e60cea9f3d": {
      "model_module": "@jupyter-widgets/base",
      "model_module_version": "1.1.0",
      "model_name": "LayoutModel",
      "state": {}
     },
     "cc5365f8444943d0ae7c43b00d4f77df": {
      "model_module": "@jupyter-widgets/controls",
      "model_module_version": "1.4.0",
      "model_name": "DescriptionStyleModel",
      "state": {
       "description_width": ""
      }
     },
     "cc5572cb51794cc281f98f6e5445c132": {
      "model_module": "@jupyter-widgets/controls",
      "model_module_version": "1.4.0",
      "model_name": "HTMLModel",
      "state": {
       "layout": "IPY_MODEL_663875a43c0d412eaa10a85c36650d8a",
       "style": "IPY_MODEL_a7def4987cba4b1cb520682f32b1e231",
       "value": " 64% 50/78 [00:00&lt;00:00, 493.93it/s]"
      }
     },
     "cc5c3484fcae48ee8576a4d08033f592": {
      "model_module": "@jupyter-widgets/controls",
      "model_module_version": "1.4.0",
      "model_name": "ProgressStyleModel",
      "state": {
       "description_width": ""
      }
     },
     "cc7af487274b455fa6122337a657e8cf": {
      "model_module": "@jupyter-widgets/controls",
      "model_module_version": "1.4.0",
      "model_name": "HTMLModel",
      "state": {
       "layout": "IPY_MODEL_61ca1bee419b4068ab3d585a2268a68f",
       "style": "IPY_MODEL_6c3ad10b9bb94ff19dfbe8a60f65319b",
       "value": "100% 17/17 [00:08&lt;00:00,  2.11it/s]"
      }
     },
     "cc8ca0e27288464b8177d10d60553700": {
      "model_module": "@jupyter-widgets/controls",
      "model_module_version": "1.4.0",
      "model_name": "HTMLModel",
      "state": {
       "layout": "IPY_MODEL_f850d49de25b49f385115b90b1d1782b",
       "style": "IPY_MODEL_642c4187ef3049d38d7bcdbbbf3ee5bc",
       "value": " 36% 28/78 [00:00&lt;00:00, 279.89it/s]"
      }
     },
     "cca5f78a8f244be3b28c56002116a0b9": {
      "model_module": "@jupyter-widgets/controls",
      "model_module_version": "1.4.0",
      "model_name": "ProgressStyleModel",
      "state": {
       "description_width": ""
      }
     },
     "ccfc0d50f2404ee8bc1bc01dd10cbcdb": {
      "model_module": "@jupyter-widgets/controls",
      "model_module_version": "1.4.0",
      "model_name": "DescriptionStyleModel",
      "state": {
       "description_width": ""
      }
     },
     "ccff57c66e474689a7b791da245163f1": {
      "model_module": "@jupyter-widgets/controls",
      "model_module_version": "1.4.0",
      "model_name": "IntProgressModel",
      "state": {
       "layout": "IPY_MODEL_2a6995928be94cffb94766c4b0f140b2",
       "max": 78,
       "style": "IPY_MODEL_3f4f25cbd1d5441cb17809fb0f2c215d",
       "value": 37
      }
     },
     "cd029b59b5a147c986e71b4413dbdb6e": {
      "model_module": "@jupyter-widgets/controls",
      "model_module_version": "1.4.0",
      "model_name": "IntProgressModel",
      "state": {
       "layout": "IPY_MODEL_ae2b0c860143466ab8dd14973a45bf25",
       "max": 17,
       "style": "IPY_MODEL_e4e2e8ad7b194006b2b60f78585cc2d7",
       "value": 17
      }
     },
     "cd0c5967b97c4d04b2faf9df00e0fd7d": {
      "model_module": "@jupyter-widgets/controls",
      "model_module_version": "1.4.0",
      "model_name": "ProgressStyleModel",
      "state": {
       "description_width": ""
      }
     },
     "cd0e86e706414074ba28c0bec34cddc8": {
      "model_module": "@jupyter-widgets/controls",
      "model_module_version": "1.4.0",
      "model_name": "IntProgressModel",
      "state": {
       "layout": "IPY_MODEL_0601a1540a4a483693f4715cbba646b5",
       "max": 78,
       "style": "IPY_MODEL_7f433cb1581e45869c2e84d8d33e4cdb",
       "value": 68
      }
     },
     "cd174d51a746478faba0805bdfe868a3": {
      "model_module": "@jupyter-widgets/controls",
      "model_module_version": "1.4.0",
      "model_name": "HTMLModel",
      "state": {
       "layout": "IPY_MODEL_4f689f2db75f42a48b09a1ad3729a488",
       "style": "IPY_MODEL_e2c534eae0cb47ffad331c89a8549ed8",
       "value": " 38% 30/78 [00:00&lt;00:00, 296.65it/s]"
      }
     },
     "cd5b9b95d74f4675959d2bc711f7b6db": {
      "model_module": "@jupyter-widgets/controls",
      "model_module_version": "1.4.0",
      "model_name": "HTMLModel",
      "state": {
       "layout": "IPY_MODEL_7fed67ce7c084c0cae87af28b56acc39",
       "style": "IPY_MODEL_6e8ecf578aad4100b98aced3ec805af8",
       "value": "100% 17/17 [00:06&lt;00:00,  2.81it/s]"
      }
     },
     "cd606fb9ecc643e98035f52fa0a7136b": {
      "model_module": "@jupyter-widgets/controls",
      "model_module_version": "1.4.0",
      "model_name": "HBoxModel",
      "state": {
       "children": [
        "IPY_MODEL_9faf268143844a2c912fafb18ccbdcb2",
        "IPY_MODEL_82fdbb1180944b05a36ca30030764fa2"
       ],
       "layout": "IPY_MODEL_ef742a0270584b03b0ebb3c83be25254"
      }
     },
     "cd7266823ac845ce9f50d9f8d40c9b6c": {
      "model_module": "@jupyter-widgets/controls",
      "model_module_version": "1.4.0",
      "model_name": "IntProgressModel",
      "state": {
       "layout": "IPY_MODEL_53864ddb9e434ed0b73fe0f02775d6e8",
       "max": 17,
       "style": "IPY_MODEL_c76836f8b8164aafa8efd2338b8eba05",
       "value": 17
      }
     },
     "cd8976ec8b554c8a922447d3126848a3": {
      "model_module": "@jupyter-widgets/base",
      "model_module_version": "1.1.0",
      "model_name": "LayoutModel",
      "state": {}
     },
     "cda54ce24d734f52bca353f56375a0b3": {
      "model_module": "@jupyter-widgets/base",
      "model_module_version": "1.1.0",
      "model_name": "LayoutModel",
      "state": {}
     },
     "cda5e01b8ec749b8b9b22df42eff9c1e": {
      "model_module": "@jupyter-widgets/controls",
      "model_module_version": "1.4.0",
      "model_name": "HTMLModel",
      "state": {
       "layout": "IPY_MODEL_7e0ba7b8db3a49e1a23084382e60e9bd",
       "style": "IPY_MODEL_bb287390506e4d44977664f3da6bb86c",
       "value": " 29% 23/78 [00:00&lt;00:00, 222.16it/s]"
      }
     },
     "cdba219002874218bb11dc39c538ed8f": {
      "model_module": "@jupyter-widgets/controls",
      "model_module_version": "1.4.0",
      "model_name": "ProgressStyleModel",
      "state": {
       "description_width": ""
      }
     },
     "cdc5c9a06d2f48f3885b262d54f3bef1": {
      "model_module": "@jupyter-widgets/controls",
      "model_module_version": "1.4.0",
      "model_name": "ProgressStyleModel",
      "state": {
       "description_width": ""
      }
     },
     "ce1a1501279a4df8b3a7c2597cbe26e6": {
      "model_module": "@jupyter-widgets/base",
      "model_module_version": "1.1.0",
      "model_name": "LayoutModel",
      "state": {}
     },
     "ce807822cbe24c5d93d8b2393f41d3e3": {
      "model_module": "@jupyter-widgets/controls",
      "model_module_version": "1.4.0",
      "model_name": "DescriptionStyleModel",
      "state": {
       "description_width": ""
      }
     },
     "cea86e7fa3a341cdb74b8493943243f1": {
      "model_module": "@jupyter-widgets/controls",
      "model_module_version": "1.4.0",
      "model_name": "ProgressStyleModel",
      "state": {
       "description_width": ""
      }
     },
     "cea9af1584c4496b880ce67581efee04": {
      "model_module": "@jupyter-widgets/controls",
      "model_module_version": "1.4.0",
      "model_name": "IntProgressModel",
      "state": {
       "layout": "IPY_MODEL_87d09d80e3ec4c15b15be986dae52675",
       "max": 17,
       "style": "IPY_MODEL_3fff53dbe96140309fcdf3a8c8170bcc",
       "value": 17
      }
     },
     "cef275412ec64e3a956b44f356206159": {
      "model_module": "@jupyter-widgets/controls",
      "model_module_version": "1.4.0",
      "model_name": "ProgressStyleModel",
      "state": {
       "description_width": ""
      }
     },
     "ceff477e72854bda89ec34c907b701bb": {
      "model_module": "@jupyter-widgets/base",
      "model_module_version": "1.1.0",
      "model_name": "LayoutModel",
      "state": {}
     },
     "cf07e83222734366a62a9a4ae92241d7": {
      "model_module": "@jupyter-widgets/controls",
      "model_module_version": "1.4.0",
      "model_name": "DescriptionStyleModel",
      "state": {
       "description_width": ""
      }
     },
     "cf132ce254f74e2ba36ece55604755e5": {
      "model_module": "@jupyter-widgets/controls",
      "model_module_version": "1.4.0",
      "model_name": "ProgressStyleModel",
      "state": {
       "description_width": ""
      }
     },
     "cf38a78a855546dd840b3fa679acd31c": {
      "model_module": "@jupyter-widgets/base",
      "model_module_version": "1.1.0",
      "model_name": "LayoutModel",
      "state": {}
     },
     "cf79bccc2e6a498d8802aa2f1228b61d": {
      "model_module": "@jupyter-widgets/controls",
      "model_module_version": "1.4.0",
      "model_name": "IntProgressModel",
      "state": {
       "layout": "IPY_MODEL_244960f1795f46d3aa2b93d7b5482bf1",
       "max": 17,
       "style": "IPY_MODEL_f831baac4caa4c2882688ed6fdb785f7",
       "value": 17
      }
     },
     "cfaa48a6339e4243ae818736fe38aa19": {
      "model_module": "@jupyter-widgets/base",
      "model_module_version": "1.1.0",
      "model_name": "LayoutModel",
      "state": {}
     },
     "cfb146ceaeaf437abf0f027c8fdff5fa": {
      "model_module": "@jupyter-widgets/base",
      "model_module_version": "1.1.0",
      "model_name": "LayoutModel",
      "state": {}
     },
     "cfb9ba3615944d2f9be84ae79a2903e2": {
      "model_module": "@jupyter-widgets/base",
      "model_module_version": "1.1.0",
      "model_name": "LayoutModel",
      "state": {}
     },
     "cfda6b5541d447c3a8eb37fcb47db0a3": {
      "model_module": "@jupyter-widgets/controls",
      "model_module_version": "1.4.0",
      "model_name": "HTMLModel",
      "state": {
       "layout": "IPY_MODEL_71093dfe5bff47d4936d1c88621c7c90",
       "style": "IPY_MODEL_58e092b84d744f5588b95a7f25048d47",
       "value": " 42% 33/78 [00:00&lt;00:00, 328.52it/s]"
      }
     },
     "cfdd3254fd3f4117b7c6d0b0014394c6": {
      "model_module": "@jupyter-widgets/controls",
      "model_module_version": "1.4.0",
      "model_name": "ProgressStyleModel",
      "state": {
       "description_width": ""
      }
     },
     "cfe90eaa37bd4ea1929ac617bc02d656": {
      "model_module": "@jupyter-widgets/controls",
      "model_module_version": "1.4.0",
      "model_name": "HTMLModel",
      "state": {
       "layout": "IPY_MODEL_839030373abf49d3b1db425c97718963",
       "style": "IPY_MODEL_906b66f099fd45948645093ecc728403",
       "value": "100% 17/17 [00:08&lt;00:00,  2.00it/s]"
      }
     },
     "cfecf82812394c5a9ef675912c95b71c": {
      "model_module": "@jupyter-widgets/controls",
      "model_module_version": "1.4.0",
      "model_name": "IntProgressModel",
      "state": {
       "layout": "IPY_MODEL_131cd5a0dd054f72b73d8674e18a215a",
       "max": 78,
       "style": "IPY_MODEL_133ddf3af689417ab990c90502244e95",
       "value": 14
      }
     },
     "cfee79959ade48198cadaee63299eadc": {
      "model_module": "@jupyter-widgets/controls",
      "model_module_version": "1.4.0",
      "model_name": "DescriptionStyleModel",
      "state": {
       "description_width": ""
      }
     },
     "cfef38c78c514c30b72e035dd114b1a4": {
      "model_module": "@jupyter-widgets/controls",
      "model_module_version": "1.4.0",
      "model_name": "DescriptionStyleModel",
      "state": {
       "description_width": ""
      }
     },
     "d01b7109d3434e5da2b54c90cd54014c": {
      "model_module": "@jupyter-widgets/controls",
      "model_module_version": "1.4.0",
      "model_name": "ProgressStyleModel",
      "state": {
       "description_width": ""
      }
     },
     "d02cb702c25d44e3bb76c5fb003a43de": {
      "model_module": "@jupyter-widgets/base",
      "model_module_version": "1.1.0",
      "model_name": "LayoutModel",
      "state": {}
     },
     "d05a1101e0d946b287a59ba9eab1d3d0": {
      "model_module": "@jupyter-widgets/controls",
      "model_module_version": "1.4.0",
      "model_name": "HTMLModel",
      "state": {
       "layout": "IPY_MODEL_a95869bd55c94328bd8e51aa0fce37f8",
       "style": "IPY_MODEL_c6cce1635fbf4122b53d622e0d5c6730",
       "value": "100% 17/17 [00:06&lt;00:00,  2.70it/s]"
      }
     },
     "d06d4d419bb6488497b099ab617f6a7c": {
      "model_module": "@jupyter-widgets/controls",
      "model_module_version": "1.4.0",
      "model_name": "HTMLModel",
      "state": {
       "layout": "IPY_MODEL_bb4b9633ffdc45b4bd4615ce2885d95f",
       "style": "IPY_MODEL_941e762fd1ee4140bdb98efdb3a8c125",
       "value": " 31% 24/78 [00:00&lt;00:00, 234.43it/s]"
      }
     },
     "d08926879c334a23971956ae960f0aac": {
      "model_module": "@jupyter-widgets/base",
      "model_module_version": "1.1.0",
      "model_name": "LayoutModel",
      "state": {}
     },
     "d0a5735955454dd88e9ec2d12c3120f3": {
      "model_module": "@jupyter-widgets/base",
      "model_module_version": "1.1.0",
      "model_name": "LayoutModel",
      "state": {}
     },
     "d0f6c51d33c84a0d949e5f8ddf8e2011": {
      "model_module": "@jupyter-widgets/controls",
      "model_module_version": "1.4.0",
      "model_name": "DescriptionStyleModel",
      "state": {
       "description_width": ""
      }
     },
     "d0fa13ac0bef482196aa8d7cade62abe": {
      "model_module": "@jupyter-widgets/controls",
      "model_module_version": "1.4.0",
      "model_name": "ProgressStyleModel",
      "state": {
       "description_width": ""
      }
     },
     "d106b354ad45437981bce69e5ae2db11": {
      "model_module": "@jupyter-widgets/controls",
      "model_module_version": "1.4.0",
      "model_name": "HTMLModel",
      "state": {
       "layout": "IPY_MODEL_0d203757ed9d4a9bb16aef9596cada2c",
       "style": "IPY_MODEL_fb39e8f69b1b47289284751982b06124",
       "value": "100% 17/17 [00:06&lt;00:00,  2.78it/s]"
      }
     },
     "d13c58e974074e7a8bd295908e54b0c2": {
      "model_module": "@jupyter-widgets/base",
      "model_module_version": "1.1.0",
      "model_name": "LayoutModel",
      "state": {}
     },
     "d145536a34494938b2ca00c3b680e0c7": {
      "model_module": "@jupyter-widgets/controls",
      "model_module_version": "1.4.0",
      "model_name": "HTMLModel",
      "state": {
       "layout": "IPY_MODEL_86de60005a55442682ee43c6a0bf2a0e",
       "style": "IPY_MODEL_95db2e0ff95b4f8ab3e1938a54612858",
       "value": "100% 17/17 [00:06&lt;00:00,  2.74it/s]"
      }
     },
     "d1526d9061fc49a7846f5a8c87d3e374": {
      "model_module": "@jupyter-widgets/base",
      "model_module_version": "1.1.0",
      "model_name": "LayoutModel",
      "state": {}
     },
     "d156b10a925840c3b76bc181f5f9db6a": {
      "model_module": "@jupyter-widgets/base",
      "model_module_version": "1.1.0",
      "model_name": "LayoutModel",
      "state": {}
     },
     "d18ed54f7ddb4485aa35f6f640c4d985": {
      "model_module": "@jupyter-widgets/controls",
      "model_module_version": "1.4.0",
      "model_name": "DescriptionStyleModel",
      "state": {
       "description_width": ""
      }
     },
     "d19bf88b165f46cead69982255fe6a68": {
      "model_module": "@jupyter-widgets/base",
      "model_module_version": "1.1.0",
      "model_name": "LayoutModel",
      "state": {}
     },
     "d1d677f39a2245c4bd4e3e905bc0c578": {
      "model_module": "@jupyter-widgets/base",
      "model_module_version": "1.1.0",
      "model_name": "LayoutModel",
      "state": {}
     },
     "d1dcdc667be74098a29483a9d5ed8e62": {
      "model_module": "@jupyter-widgets/controls",
      "model_module_version": "1.4.0",
      "model_name": "HTMLModel",
      "state": {
       "layout": "IPY_MODEL_9db24c125a804f789b23b91aae707e11",
       "style": "IPY_MODEL_111cd19fc308416fbc7e6e05556d9d92",
       "value": "100% 17/17 [00:07&lt;00:00,  2.39it/s]"
      }
     },
     "d20a430a38e34aa2b051030ab445f3ae": {
      "model_module": "@jupyter-widgets/controls",
      "model_module_version": "1.4.0",
      "model_name": "HTMLModel",
      "state": {
       "layout": "IPY_MODEL_880d238efbac4d4a806438787d45971d",
       "style": "IPY_MODEL_f140617fc1d74ade82afa659776b1de0",
       "value": " 58% 45/78 [00:00&lt;00:00, 213.24it/s]"
      }
     },
     "d2167f6e36974e59aff3322fcf34cc25": {
      "model_module": "@jupyter-widgets/controls",
      "model_module_version": "1.4.0",
      "model_name": "ProgressStyleModel",
      "state": {
       "description_width": ""
      }
     },
     "d22ab6cc796642ba92d45dfc833c7c2e": {
      "model_module": "@jupyter-widgets/controls",
      "model_module_version": "1.4.0",
      "model_name": "IntProgressModel",
      "state": {
       "layout": "IPY_MODEL_a7672860abff405ab0843e89c351b751",
       "max": 78,
       "style": "IPY_MODEL_5ca904a8ad74463893992b02a90d82c9",
       "value": 14
      }
     },
     "d24398f54c4a4344ac8fb51770264cbe": {
      "model_module": "@jupyter-widgets/base",
      "model_module_version": "1.1.0",
      "model_name": "LayoutModel",
      "state": {}
     },
     "d25b84a8745249c2863e058113509de6": {
      "model_module": "@jupyter-widgets/controls",
      "model_module_version": "1.4.0",
      "model_name": "IntProgressModel",
      "state": {
       "layout": "IPY_MODEL_0451f9830f3343c495ee7b3f90134149",
       "max": 17,
       "style": "IPY_MODEL_ebb2cc1a0dc54d388c98276467f5f7b6",
       "value": 17
      }
     },
     "d25e352fa9b14d9b83d11e47a629c0ec": {
      "model_module": "@jupyter-widgets/controls",
      "model_module_version": "1.4.0",
      "model_name": "DescriptionStyleModel",
      "state": {
       "description_width": ""
      }
     },
     "d29e4a1428fe405c90a20b661598a960": {
      "model_module": "@jupyter-widgets/base",
      "model_module_version": "1.1.0",
      "model_name": "LayoutModel",
      "state": {}
     },
     "d2a455f00c4641f49c9e6d4bc6a6efc5": {
      "model_module": "@jupyter-widgets/base",
      "model_module_version": "1.1.0",
      "model_name": "LayoutModel",
      "state": {}
     },
     "d2c8e5ac97b44fbd8a178c342b23ee95": {
      "model_module": "@jupyter-widgets/controls",
      "model_module_version": "1.4.0",
      "model_name": "DescriptionStyleModel",
      "state": {
       "description_width": ""
      }
     },
     "d2e7d9eb6a72426790c69d1ff7ae7c74": {
      "model_module": "@jupyter-widgets/base",
      "model_module_version": "1.1.0",
      "model_name": "LayoutModel",
      "state": {}
     },
     "d307797f738a4a4e8d783b6bde2b6086": {
      "model_module": "@jupyter-widgets/controls",
      "model_module_version": "1.4.0",
      "model_name": "HTMLModel",
      "state": {
       "layout": "IPY_MODEL_b02ff350598648d19f1d4b2de95f3c6c",
       "style": "IPY_MODEL_52042d9b878d47b18d130b9671d9d4d5",
       "value": " 97% 76/78 [00:00&lt;00:00, 759.56it/s]"
      }
     },
     "d317f4348d5a42308706c85eb3190909": {
      "model_module": "@jupyter-widgets/base",
      "model_module_version": "1.1.0",
      "model_name": "LayoutModel",
      "state": {}
     },
     "d324521be75144a29cce79979d56fb8f": {
      "model_module": "@jupyter-widgets/controls",
      "model_module_version": "1.4.0",
      "model_name": "HTMLModel",
      "state": {
       "layout": "IPY_MODEL_4f1f7f7296e84033a7b676fc06b35f37",
       "style": "IPY_MODEL_6d5012de6abe4de8924abff83c037635",
       "value": "100% 17/17 [00:09&lt;00:00,  1.78it/s]"
      }
     },
     "d3290fa08d9a48d2baeb4c990ad26354": {
      "model_module": "@jupyter-widgets/controls",
      "model_module_version": "1.4.0",
      "model_name": "DescriptionStyleModel",
      "state": {
       "description_width": ""
      }
     },
     "d34b021f0cc64f65a789e4f45c6fdd6a": {
      "model_module": "@jupyter-widgets/controls",
      "model_module_version": "1.4.0",
      "model_name": "HTMLModel",
      "state": {
       "layout": "IPY_MODEL_8832c4e0e1c84c2d87334ce9e4792235",
       "style": "IPY_MODEL_196e61b42f06461bb287662baac8726f",
       "value": "100% 17/17 [00:06&lt;00:00,  2.45it/s]"
      }
     },
     "d3563159fd1c4d708018b7b478dfd3f9": {
      "model_module": "@jupyter-widgets/base",
      "model_module_version": "1.1.0",
      "model_name": "LayoutModel",
      "state": {}
     },
     "d36568dfc4064bb8a56344ad31ad80f2": {
      "model_module": "@jupyter-widgets/base",
      "model_module_version": "1.1.0",
      "model_name": "LayoutModel",
      "state": {}
     },
     "d39b3f3e4ff744de8488431febbba11c": {
      "model_module": "@jupyter-widgets/base",
      "model_module_version": "1.1.0",
      "model_name": "LayoutModel",
      "state": {}
     },
     "d3abb63b704f4e36b2ee4667f55105b4": {
      "model_module": "@jupyter-widgets/base",
      "model_module_version": "1.1.0",
      "model_name": "LayoutModel",
      "state": {}
     },
     "d3bd3ae044b44e898ee8e7fc31e8cbe8": {
      "model_module": "@jupyter-widgets/controls",
      "model_module_version": "1.4.0",
      "model_name": "HTMLModel",
      "state": {
       "layout": "IPY_MODEL_b754a2a5a9f64983817c8a77e387878e",
       "style": "IPY_MODEL_794d666abee84786a24d7f925dcee84c",
       "value": "100% 78/78 [00:00&lt;00:00, 311.63it/s]"
      }
     },
     "d3dd2e919eec4405bff67d92348d74f2": {
      "model_module": "@jupyter-widgets/controls",
      "model_module_version": "1.4.0",
      "model_name": "HTMLModel",
      "state": {
       "layout": "IPY_MODEL_8ae7eeb5bfd7486fbb716ded986d2b90",
       "style": "IPY_MODEL_9753f42749f54b219b3be1ae02114543",
       "value": "100% 17/17 [00:06&lt;00:00,  2.46it/s]"
      }
     },
     "d3e30665a38d4e389e836660b4b8de72": {
      "model_module": "@jupyter-widgets/controls",
      "model_module_version": "1.4.0",
      "model_name": "IntProgressModel",
      "state": {
       "layout": "IPY_MODEL_bf00c0ea1cc74875b26bf60d8fe9e1da",
       "max": 78,
       "style": "IPY_MODEL_db1b4fb104a34f648f74af6bee40a9f6",
       "value": 50
      }
     },
     "d3f686ae78db484192fc153b5a18aa60": {
      "model_module": "@jupyter-widgets/controls",
      "model_module_version": "1.4.0",
      "model_name": "HTMLModel",
      "state": {
       "layout": "IPY_MODEL_fa6e28fa81484fb2b5576330815e2210",
       "style": "IPY_MODEL_3cdda760f9f74e1888b129b46beddb23",
       "value": "100% 17/17 [00:04&lt;00:00,  3.61it/s]"
      }
     },
     "d41bf819a8814376bd273cc66b300c25": {
      "model_module": "@jupyter-widgets/base",
      "model_module_version": "1.1.0",
      "model_name": "LayoutModel",
      "state": {}
     },
     "d41d830032be4ea2bccb177e88b5385c": {
      "model_module": "@jupyter-widgets/base",
      "model_module_version": "1.1.0",
      "model_name": "LayoutModel",
      "state": {}
     },
     "d4377b27f3af435cab22babab60f0a1c": {
      "model_module": "@jupyter-widgets/base",
      "model_module_version": "1.1.0",
      "model_name": "LayoutModel",
      "state": {}
     },
     "d44ad7a4d14849919824efff54d53010": {
      "model_module": "@jupyter-widgets/controls",
      "model_module_version": "1.4.0",
      "model_name": "IntProgressModel",
      "state": {
       "layout": "IPY_MODEL_c1f5fa745de34496833ebd9937b82437",
       "max": 78,
       "style": "IPY_MODEL_605ad63a3743465d9affdd193496d192",
       "value": 29
      }
     },
     "d454fe4464744ca6975053e972b3d8a6": {
      "model_module": "@jupyter-widgets/controls",
      "model_module_version": "1.4.0",
      "model_name": "ProgressStyleModel",
      "state": {
       "description_width": ""
      }
     },
     "d460d8ff0dd948c590e8f50a098ddd22": {
      "model_module": "@jupyter-widgets/controls",
      "model_module_version": "1.4.0",
      "model_name": "ProgressStyleModel",
      "state": {
       "description_width": ""
      }
     },
     "d4aa60f6d4264326971ea7f1e46d0567": {
      "model_module": "@jupyter-widgets/controls",
      "model_module_version": "1.4.0",
      "model_name": "ProgressStyleModel",
      "state": {
       "description_width": ""
      }
     },
     "d4b42884b2b94909b4c1e13ff6559d2a": {
      "model_module": "@jupyter-widgets/base",
      "model_module_version": "1.1.0",
      "model_name": "LayoutModel",
      "state": {}
     },
     "d4bff678280a4594a1a55ed62fd2b0a6": {
      "model_module": "@jupyter-widgets/base",
      "model_module_version": "1.1.0",
      "model_name": "LayoutModel",
      "state": {}
     },
     "d5186537d10f4b5384b4694f579012b6": {
      "model_module": "@jupyter-widgets/base",
      "model_module_version": "1.1.0",
      "model_name": "LayoutModel",
      "state": {}
     },
     "d53af6633b6946df857a819eab6d3408": {
      "model_module": "@jupyter-widgets/base",
      "model_module_version": "1.1.0",
      "model_name": "LayoutModel",
      "state": {}
     },
     "d5638a1237d74603937cc80763952e35": {
      "model_module": "@jupyter-widgets/base",
      "model_module_version": "1.1.0",
      "model_name": "LayoutModel",
      "state": {}
     },
     "d586564ce20345b2bba9498832cb5ae6": {
      "model_module": "@jupyter-widgets/controls",
      "model_module_version": "1.4.0",
      "model_name": "DescriptionStyleModel",
      "state": {
       "description_width": ""
      }
     },
     "d58b8a5aebe647e297f95e231a3dbe6d": {
      "model_module": "@jupyter-widgets/base",
      "model_module_version": "1.1.0",
      "model_name": "LayoutModel",
      "state": {}
     },
     "d5b22cfa86b343a498306a1e4b4ca47c": {
      "model_module": "@jupyter-widgets/base",
      "model_module_version": "1.1.0",
      "model_name": "LayoutModel",
      "state": {}
     },
     "d5cce30a2d4f4df2b01654b6fac754d1": {
      "model_module": "@jupyter-widgets/base",
      "model_module_version": "1.1.0",
      "model_name": "LayoutModel",
      "state": {}
     },
     "d601b6ee61e14a3fa29c44dec7bd71b2": {
      "model_module": "@jupyter-widgets/base",
      "model_module_version": "1.1.0",
      "model_name": "LayoutModel",
      "state": {}
     },
     "d607f6c4efcf4d5cb5f0c1bbd6032935": {
      "model_module": "@jupyter-widgets/controls",
      "model_module_version": "1.4.0",
      "model_name": "HTMLModel",
      "state": {
       "layout": "IPY_MODEL_7a228aff764447cba29e8b3f6b3559e5",
       "style": "IPY_MODEL_da0c1d05592c4cbdbf7fe80e9689f959",
       "value": "100% 17/17 [00:05&lt;00:00,  2.85it/s]"
      }
     },
     "d60904fc69194747b71f0869cea69c1d": {
      "model_module": "@jupyter-widgets/controls",
      "model_module_version": "1.4.0",
      "model_name": "DescriptionStyleModel",
      "state": {
       "description_width": ""
      }
     },
     "d61ded09c9164fd49ed8321778188574": {
      "model_module": "@jupyter-widgets/controls",
      "model_module_version": "1.4.0",
      "model_name": "HTMLModel",
      "state": {
       "layout": "IPY_MODEL_a005e3aaa00e455eb91497d9d226cb4a",
       "style": "IPY_MODEL_4670192da0ee4802a04a5c6b1cc4f0d3",
       "value": "100% 17/17 [00:04&lt;00:00,  4.14it/s]"
      }
     },
     "d62e665238324591ac3581e51198b8c5": {
      "model_module": "@jupyter-widgets/controls",
      "model_module_version": "1.4.0",
      "model_name": "IntProgressModel",
      "state": {
       "layout": "IPY_MODEL_1b655de6c48d41aaa8beea6b4cab623a",
       "max": 78,
       "style": "IPY_MODEL_bcabb2674b1749d094c632f47b9b198b",
       "value": 58
      }
     },
     "d634113479184bf89054492eaabd8cd2": {
      "model_module": "@jupyter-widgets/controls",
      "model_module_version": "1.4.0",
      "model_name": "DescriptionStyleModel",
      "state": {
       "description_width": ""
      }
     },
     "d63bb331450548458f35ea6dd472a9fe": {
      "model_module": "@jupyter-widgets/controls",
      "model_module_version": "1.4.0",
      "model_name": "HTMLModel",
      "state": {
       "layout": "IPY_MODEL_7f847047d0124f50a3eca2400c0d5a54",
       "style": "IPY_MODEL_749716dfc2b040a891d4bf0ad79ea96e",
       "value": "100% 17/17 [00:07&lt;00:00,  2.19it/s]"
      }
     },
     "d67fa19e07504ad5b2e6b0ea760e4647": {
      "model_module": "@jupyter-widgets/controls",
      "model_module_version": "1.4.0",
      "model_name": "IntProgressModel",
      "state": {
       "bar_style": "success",
       "layout": "IPY_MODEL_5fa385d466744f56be616a3f3c2c6393",
       "max": 551,
       "style": "IPY_MODEL_41366434a1004f5faedb228f4d44f0bb",
       "value": 551
      }
     },
     "d697c771d3664090bbf4e784f0b7d63d": {
      "model_module": "@jupyter-widgets/controls",
      "model_module_version": "1.4.0",
      "model_name": "DescriptionStyleModel",
      "state": {
       "description_width": ""
      }
     },
     "d6c68b4442e44e87ada5ac25f2f2bef8": {
      "model_module": "@jupyter-widgets/base",
      "model_module_version": "1.1.0",
      "model_name": "LayoutModel",
      "state": {}
     },
     "d7100ad0b93c4f249216e8b565ccd494": {
      "model_module": "@jupyter-widgets/controls",
      "model_module_version": "1.4.0",
      "model_name": "ProgressStyleModel",
      "state": {
       "description_width": ""
      }
     },
     "d71229b5e89748ae8c4e7531591edf14": {
      "model_module": "@jupyter-widgets/controls",
      "model_module_version": "1.4.0",
      "model_name": "DescriptionStyleModel",
      "state": {
       "description_width": ""
      }
     },
     "d740ff4b70f3461d862d34711d49b9bf": {
      "model_module": "@jupyter-widgets/base",
      "model_module_version": "1.1.0",
      "model_name": "LayoutModel",
      "state": {}
     },
     "d76869a439704fae84b3550d60a684eb": {
      "model_module": "@jupyter-widgets/controls",
      "model_module_version": "1.4.0",
      "model_name": "ProgressStyleModel",
      "state": {
       "description_width": ""
      }
     },
     "d77297d6a43e423794fed29f757e95a4": {
      "model_module": "@jupyter-widgets/base",
      "model_module_version": "1.1.0",
      "model_name": "LayoutModel",
      "state": {}
     },
     "d77d986dc30a41bdbf26888238815678": {
      "model_module": "@jupyter-widgets/base",
      "model_module_version": "1.1.0",
      "model_name": "LayoutModel",
      "state": {}
     },
     "d77e5572ef8a44878a81da385de4266f": {
      "model_module": "@jupyter-widgets/controls",
      "model_module_version": "1.4.0",
      "model_name": "HTMLModel",
      "state": {
       "layout": "IPY_MODEL_a37e57985c5e434bbaf517e14114771c",
       "style": "IPY_MODEL_4a3aeea475b34f25a7d13712b226fa94",
       "value": "100% 17/17 [00:06&lt;00:00,  2.80it/s]"
      }
     },
     "d7880703fcf445aab7788ebb56acb175": {
      "model_module": "@jupyter-widgets/base",
      "model_module_version": "1.1.0",
      "model_name": "LayoutModel",
      "state": {}
     },
     "d79e78b587854629892876d797a52c7e": {
      "model_module": "@jupyter-widgets/base",
      "model_module_version": "1.1.0",
      "model_name": "LayoutModel",
      "state": {}
     },
     "d79fb64935094de0b6f208d46bf57497": {
      "model_module": "@jupyter-widgets/controls",
      "model_module_version": "1.4.0",
      "model_name": "DescriptionStyleModel",
      "state": {
       "description_width": ""
      }
     },
     "d7a930419fd045e09aedce918091dbed": {
      "model_module": "@jupyter-widgets/controls",
      "model_module_version": "1.4.0",
      "model_name": "HTMLModel",
      "state": {
       "layout": "IPY_MODEL_f6d4e5b0a2d646739eea735d3e4cedfa",
       "style": "IPY_MODEL_cbc6229ffb3f4f19afda260f294c6e9a",
       "value": " 23% 18/78 [00:00&lt;00:00, 169.90it/s]"
      }
     },
     "d7b0a5270fad4f199666262eaea4e4cc": {
      "model_module": "@jupyter-widgets/controls",
      "model_module_version": "1.4.0",
      "model_name": "IntProgressModel",
      "state": {
       "layout": "IPY_MODEL_5a56df4d92f74ca8bb7c59f440aface8",
       "max": 17,
       "style": "IPY_MODEL_bcb515a6976a48f2bffb076321c6be82",
       "value": 17
      }
     },
     "d7b1d4bff2d0400e8be284e8a120b9ae": {
      "model_module": "@jupyter-widgets/controls",
      "model_module_version": "1.4.0",
      "model_name": "HTMLModel",
      "state": {
       "layout": "IPY_MODEL_3c98906248784b7f8e74266ac09096fb",
       "style": "IPY_MODEL_d18ed54f7ddb4485aa35f6f640c4d985",
       "value": " 18% 14/78 [00:00&lt;00:00, 120.35it/s]"
      }
     },
     "d7c0b0c1850d4501a211dfd54e024a0f": {
      "model_module": "@jupyter-widgets/controls",
      "model_module_version": "1.4.0",
      "model_name": "HTMLModel",
      "state": {
       "layout": "IPY_MODEL_6477b386498e4e67951f252b5ba9f67f",
       "style": "IPY_MODEL_26c4040649cb49ed845a20b7cbb03f3d",
       "value": "100% 17/17 [00:06&lt;00:00,  2.43it/s]"
      }
     },
     "d7e1e0126d894038a91b71bc0625ed89": {
      "model_module": "@jupyter-widgets/controls",
      "model_module_version": "1.4.0",
      "model_name": "DescriptionStyleModel",
      "state": {
       "description_width": ""
      }
     },
     "d81868f4a63c428c874771e89763496a": {
      "model_module": "@jupyter-widgets/base",
      "model_module_version": "1.1.0",
      "model_name": "LayoutModel",
      "state": {}
     },
     "d8574c1f9460477abf1954907a4d8ef9": {
      "model_module": "@jupyter-widgets/controls",
      "model_module_version": "1.4.0",
      "model_name": "HTMLModel",
      "state": {
       "layout": "IPY_MODEL_2b5e5e47c08743f296bdd037f83f24f8",
       "style": "IPY_MODEL_57ebf39787044271925102059d9546c4",
       "value": "  0% 0/78 [00:00&lt;?, ?it/s]"
      }
     },
     "d8684460e98d4c9dbfe9fae0dfd07ebb": {
      "model_module": "@jupyter-widgets/base",
      "model_module_version": "1.1.0",
      "model_name": "LayoutModel",
      "state": {}
     },
     "d8a4b8385a3b499aa827a92a6f916a81": {
      "model_module": "@jupyter-widgets/controls",
      "model_module_version": "1.4.0",
      "model_name": "HTMLModel",
      "state": {
       "layout": "IPY_MODEL_938cf34cb96444be97a77daa28fead90",
       "style": "IPY_MODEL_d2c8e5ac97b44fbd8a178c342b23ee95",
       "value": "100% 17/17 [00:07&lt;00:00,  2.29it/s]"
      }
     },
     "d8b018f90dfe4eccb56140e05efa18fc": {
      "model_module": "@jupyter-widgets/base",
      "model_module_version": "1.1.0",
      "model_name": "LayoutModel",
      "state": {}
     },
     "d8b0b2d40a904ab0a9a9fc875b2d1195": {
      "model_module": "@jupyter-widgets/controls",
      "model_module_version": "1.4.0",
      "model_name": "DescriptionStyleModel",
      "state": {
       "description_width": ""
      }
     },
     "d8c1eb7f18174c68a76a87f6980580d8": {
      "model_module": "@jupyter-widgets/controls",
      "model_module_version": "1.4.0",
      "model_name": "ProgressStyleModel",
      "state": {
       "description_width": ""
      }
     },
     "d8c77d05d28a4eaaaf5ca596fa0f2864": {
      "model_module": "@jupyter-widgets/controls",
      "model_module_version": "1.4.0",
      "model_name": "DescriptionStyleModel",
      "state": {
       "description_width": ""
      }
     },
     "d8d103880afd4bc18e496f2a1f4a5954": {
      "model_module": "@jupyter-widgets/controls",
      "model_module_version": "1.4.0",
      "model_name": "IntProgressModel",
      "state": {
       "layout": "IPY_MODEL_fc96987eaa3f46ba840e0c21fc816044",
       "max": 17,
       "style": "IPY_MODEL_f78083382f0d406dbdb7a29273456c63",
       "value": 17
      }
     },
     "d9170963d6794d36af414ff010c1eb67": {
      "model_module": "@jupyter-widgets/base",
      "model_module_version": "1.1.0",
      "model_name": "LayoutModel",
      "state": {}
     },
     "d975c0d42b8d43b294222f6d095723df": {
      "model_module": "@jupyter-widgets/controls",
      "model_module_version": "1.4.0",
      "model_name": "ProgressStyleModel",
      "state": {
       "description_width": ""
      }
     },
     "d986f1da9e914afe96fca956d8393ab0": {
      "model_module": "@jupyter-widgets/controls",
      "model_module_version": "1.4.0",
      "model_name": "ProgressStyleModel",
      "state": {
       "description_width": ""
      }
     },
     "d9ac9dbeef2345f9a5dd3eb34ffc843b": {
      "model_module": "@jupyter-widgets/base",
      "model_module_version": "1.1.0",
      "model_name": "LayoutModel",
      "state": {}
     },
     "d9b73666d74646fcacec0ba4869c00a7": {
      "model_module": "@jupyter-widgets/controls",
      "model_module_version": "1.4.0",
      "model_name": "HTMLModel",
      "state": {
       "layout": "IPY_MODEL_5a4acd079beb428a97ef88ffad23294a",
       "style": "IPY_MODEL_04b84e36f71a49b7bdee7d330b4fa667",
       "value": "100% 17/17 [00:05&lt;00:00,  3.29it/s]"
      }
     },
     "d9de98fa7ca44f76a42ccbbf7c0dbfff": {
      "model_module": "@jupyter-widgets/controls",
      "model_module_version": "1.4.0",
      "model_name": "IntProgressModel",
      "state": {
       "layout": "IPY_MODEL_bf1350bf670b42b3b44de7a14030f860",
       "max": 17,
       "style": "IPY_MODEL_93d977b862b3428e94cedf82bfa95203",
       "value": 17
      }
     },
     "da09c65318f64224bc1b9492ceecfebf": {
      "model_module": "@jupyter-widgets/controls",
      "model_module_version": "1.4.0",
      "model_name": "IntProgressModel",
      "state": {
       "layout": "IPY_MODEL_febeb695d65d421aa87ce9b2ece1d2ba",
       "max": 17,
       "style": "IPY_MODEL_6acb685cf5944660887106246148bf88",
       "value": 17
      }
     },
     "da0c1d05592c4cbdbf7fe80e9689f959": {
      "model_module": "@jupyter-widgets/controls",
      "model_module_version": "1.4.0",
      "model_name": "DescriptionStyleModel",
      "state": {
       "description_width": ""
      }
     },
     "da3a8af25b8b40dbbb242ebeb9444fc8": {
      "model_module": "@jupyter-widgets/controls",
      "model_module_version": "1.4.0",
      "model_name": "HTMLModel",
      "state": {
       "layout": "IPY_MODEL_0b5a24e6a00543c5a9db077e1f9f202c",
       "style": "IPY_MODEL_67fd6d41032d48ada2d853df5e457580",
       "value": " 18% 14/78 [00:00&lt;00:00, 126.90it/s]"
      }
     },
     "da3f8cf7e0904a18b4b255055a327b72": {
      "model_module": "@jupyter-widgets/base",
      "model_module_version": "1.1.0",
      "model_name": "LayoutModel",
      "state": {}
     },
     "da439b02fe9146c8bb23803202a90fc3": {
      "model_module": "@jupyter-widgets/controls",
      "model_module_version": "1.4.0",
      "model_name": "ProgressStyleModel",
      "state": {
       "description_width": ""
      }
     },
     "da4b35fa79aa4623bf9ebe696ec812c6": {
      "model_module": "@jupyter-widgets/controls",
      "model_module_version": "1.4.0",
      "model_name": "HTMLModel",
      "state": {
       "layout": "IPY_MODEL_a0fa2ecfad4f42829fd38f8fed0d1d9d",
       "style": "IPY_MODEL_504727e409b34450a6e4a89c165a8ad9",
       "value": "100% 17/17 [00:07&lt;00:00,  2.36it/s]"
      }
     },
     "da585ca762e547a7b6a0a89df6ef9069": {
      "model_module": "@jupyter-widgets/controls",
      "model_module_version": "1.4.0",
      "model_name": "DescriptionStyleModel",
      "state": {
       "description_width": ""
      }
     },
     "da695d64912d4041aca3ac6aae0fa441": {
      "model_module": "@jupyter-widgets/base",
      "model_module_version": "1.1.0",
      "model_name": "LayoutModel",
      "state": {}
     },
     "da8a5ec76f974ba78a9d5e0b58f569c5": {
      "model_module": "@jupyter-widgets/base",
      "model_module_version": "1.1.0",
      "model_name": "LayoutModel",
      "state": {}
     },
     "da8b17c04c15410f96ce723afef27311": {
      "model_module": "@jupyter-widgets/controls",
      "model_module_version": "1.4.0",
      "model_name": "HTMLModel",
      "state": {
       "layout": "IPY_MODEL_dcb164e228764ab094484da4c4060220",
       "style": "IPY_MODEL_6570821b5b4048479203589250433be4",
       "value": " 86% 67/78 [00:00&lt;00:00, 334.26it/s]"
      }
     },
     "da9e60d9c88a4ec99916cc8605e4b47f": {
      "model_module": "@jupyter-widgets/controls",
      "model_module_version": "1.4.0",
      "model_name": "IntProgressModel",
      "state": {
       "layout": "IPY_MODEL_ee5f5c603c9343b2a152577bac73ce7b",
       "max": 17,
       "style": "IPY_MODEL_e83f4ad290374663a010dee8925cb418",
       "value": 17
      }
     },
     "da9fcf01830847b1a60287bdf64e6980": {
      "model_module": "@jupyter-widgets/controls",
      "model_module_version": "1.4.0",
      "model_name": "ProgressStyleModel",
      "state": {
       "description_width": ""
      }
     },
     "daa8d70e24bd477c87126c482b915c8b": {
      "model_module": "@jupyter-widgets/base",
      "model_module_version": "1.1.0",
      "model_name": "LayoutModel",
      "state": {}
     },
     "dacc81370daa428194d4937c92fdba3c": {
      "model_module": "@jupyter-widgets/controls",
      "model_module_version": "1.4.0",
      "model_name": "IntProgressModel",
      "state": {
       "layout": "IPY_MODEL_344ab5fe0a2d4d0e94046d5595769855",
       "max": 17,
       "style": "IPY_MODEL_ba9e3d3a79d04de0abf2321d6a276e58",
       "value": 17
      }
     },
     "dacee67b2253403c9ccf59dc6da27b77": {
      "model_module": "@jupyter-widgets/base",
      "model_module_version": "1.1.0",
      "model_name": "LayoutModel",
      "state": {}
     },
     "daf1c05f17734dc2832795c0da68f14c": {
      "model_module": "@jupyter-widgets/base",
      "model_module_version": "1.1.0",
      "model_name": "LayoutModel",
      "state": {}
     },
     "db1b4fb104a34f648f74af6bee40a9f6": {
      "model_module": "@jupyter-widgets/controls",
      "model_module_version": "1.4.0",
      "model_name": "ProgressStyleModel",
      "state": {
       "description_width": ""
      }
     },
     "db257ea68e6f409d807a94208c91f508": {
      "model_module": "@jupyter-widgets/base",
      "model_module_version": "1.1.0",
      "model_name": "LayoutModel",
      "state": {}
     },
     "db4afcaf40ae41639c436d011b7cd0d8": {
      "model_module": "@jupyter-widgets/base",
      "model_module_version": "1.1.0",
      "model_name": "LayoutModel",
      "state": {}
     },
     "db4fc0460b0c4df1a715f03fafe0f358": {
      "model_module": "@jupyter-widgets/controls",
      "model_module_version": "1.4.0",
      "model_name": "ProgressStyleModel",
      "state": {
       "description_width": ""
      }
     },
     "db71edcf718c48cd8b982a236418337e": {
      "model_module": "@jupyter-widgets/controls",
      "model_module_version": "1.4.0",
      "model_name": "IntProgressModel",
      "state": {
       "layout": "IPY_MODEL_56c35abbfaf2439ebfd5c3188f6c9781",
       "max": 78,
       "style": "IPY_MODEL_6982bbf7eaa2427a922bb7f7e10bbc5e",
       "value": 56
      }
     },
     "db973131ad8141829c9a9b83566124ea": {
      "model_module": "@jupyter-widgets/controls",
      "model_module_version": "1.4.0",
      "model_name": "HTMLModel",
      "state": {
       "layout": "IPY_MODEL_d08926879c334a23971956ae960f0aac",
       "style": "IPY_MODEL_fe02f7347b0b40fbbf3fbb6bfa54adf6",
       "value": "100% 17/17 [00:04&lt;00:00,  3.84it/s]"
      }
     },
     "dba2b07103484e1ea8d3ab3f8ea25e27": {
      "model_module": "@jupyter-widgets/base",
      "model_module_version": "1.1.0",
      "model_name": "LayoutModel",
      "state": {}
     },
     "dba5730e4b7c4ae6a2431aae227ab3de": {
      "model_module": "@jupyter-widgets/controls",
      "model_module_version": "1.4.0",
      "model_name": "ProgressStyleModel",
      "state": {
       "description_width": ""
      }
     },
     "dbdb3799b8f24610896944cbcd79e30d": {
      "model_module": "@jupyter-widgets/base",
      "model_module_version": "1.1.0",
      "model_name": "LayoutModel",
      "state": {}
     },
     "dbdea77cea1f435a9a58716dadeb17dd": {
      "model_module": "@jupyter-widgets/controls",
      "model_module_version": "1.4.0",
      "model_name": "HTMLModel",
      "state": {
       "layout": "IPY_MODEL_c477ae195edb47dfa3473b960aed3055",
       "style": "IPY_MODEL_5b585050883d459695a08606c7de9d63",
       "value": "100% 17/17 [00:05&lt;00:00,  3.31it/s]"
      }
     },
     "dc152fcbafa2410cbaee8e9818a46420": {
      "model_module": "@jupyter-widgets/controls",
      "model_module_version": "1.4.0",
      "model_name": "IntProgressModel",
      "state": {
       "layout": "IPY_MODEL_28b87e228aa5428392c1e9f245fde928",
       "max": 17,
       "style": "IPY_MODEL_dc85600611304cd1a7e6880005a0c703",
       "value": 17
      }
     },
     "dc21519ccf644f4981b4356162891142": {
      "model_module": "@jupyter-widgets/base",
      "model_module_version": "1.1.0",
      "model_name": "LayoutModel",
      "state": {}
     },
     "dc2cd4494cb84007b16e3bf82179a6ab": {
      "model_module": "@jupyter-widgets/base",
      "model_module_version": "1.1.0",
      "model_name": "LayoutModel",
      "state": {}
     },
     "dc38b19f4fa74f7699679022cc2cf2d6": {
      "model_module": "@jupyter-widgets/controls",
      "model_module_version": "1.4.0",
      "model_name": "ProgressStyleModel",
      "state": {
       "description_width": ""
      }
     },
     "dc5235f8a2d54e099305b4dd3736fa3a": {
      "model_module": "@jupyter-widgets/controls",
      "model_module_version": "1.4.0",
      "model_name": "ProgressStyleModel",
      "state": {
       "description_width": ""
      }
     },
     "dc5711d70bb941499c3578ec698a07bc": {
      "model_module": "@jupyter-widgets/base",
      "model_module_version": "1.1.0",
      "model_name": "LayoutModel",
      "state": {}
     },
     "dc621267873a435885970c018ea5ff2d": {
      "model_module": "@jupyter-widgets/controls",
      "model_module_version": "1.4.0",
      "model_name": "IntProgressModel",
      "state": {
       "layout": "IPY_MODEL_cfb9ba3615944d2f9be84ae79a2903e2",
       "max": 17,
       "style": "IPY_MODEL_da9fcf01830847b1a60287bdf64e6980",
       "value": 17
      }
     },
     "dc729794e43f4eae827756ddd537a1e8": {
      "model_module": "@jupyter-widgets/controls",
      "model_module_version": "1.4.0",
      "model_name": "HTMLModel",
      "state": {
       "layout": "IPY_MODEL_204b5892a21f4c34868824e4bc1a8b14",
       "style": "IPY_MODEL_648d5336395641bea6582e53a4ad1a31",
       "value": "100% 17/17 [00:05&lt;00:00,  3.09it/s]"
      }
     },
     "dc85600611304cd1a7e6880005a0c703": {
      "model_module": "@jupyter-widgets/controls",
      "model_module_version": "1.4.0",
      "model_name": "ProgressStyleModel",
      "state": {
       "description_width": ""
      }
     },
     "dca05d36a6b14d7288d3490356f9833f": {
      "model_module": "@jupyter-widgets/controls",
      "model_module_version": "1.4.0",
      "model_name": "ProgressStyleModel",
      "state": {
       "description_width": ""
      }
     },
     "dcb164e228764ab094484da4c4060220": {
      "model_module": "@jupyter-widgets/base",
      "model_module_version": "1.1.0",
      "model_name": "LayoutModel",
      "state": {}
     },
     "dd17a27ded20444db1fe076d4dfb6b59": {
      "model_module": "@jupyter-widgets/controls",
      "model_module_version": "1.4.0",
      "model_name": "ProgressStyleModel",
      "state": {
       "description_width": ""
      }
     },
     "dd236a34bcbb4344975fb1aef2f6a868": {
      "model_module": "@jupyter-widgets/controls",
      "model_module_version": "1.4.0",
      "model_name": "HTMLModel",
      "state": {
       "layout": "IPY_MODEL_fdf446728a3b40cf91f7494a1231e2b0",
       "style": "IPY_MODEL_124a120e406b4465a7c1247b11f04390",
       "value": "100% 17/17 [00:05&lt;00:00,  3.37it/s]"
      }
     },
     "dd4cfa85755641019bcaeb132db71e3c": {
      "model_module": "@jupyter-widgets/controls",
      "model_module_version": "1.4.0",
      "model_name": "ProgressStyleModel",
      "state": {
       "description_width": ""
      }
     },
     "dda669046133418e9997a6b7da63dbb4": {
      "model_module": "@jupyter-widgets/base",
      "model_module_version": "1.1.0",
      "model_name": "LayoutModel",
      "state": {}
     },
     "ddabb6b9ffc74b1e895eef5a5793fdd9": {
      "model_module": "@jupyter-widgets/base",
      "model_module_version": "1.1.0",
      "model_name": "LayoutModel",
      "state": {}
     },
     "dde7dd80aaf94b36878f57dbd721c8e4": {
      "model_module": "@jupyter-widgets/controls",
      "model_module_version": "1.4.0",
      "model_name": "HTMLModel",
      "state": {
       "layout": "IPY_MODEL_a28dea784924420cbd639f084a21c1bc",
       "style": "IPY_MODEL_31c61badc2e941ed8d1b2462b201960c",
       "value": "100% 50/50 [05:49&lt;00:00,  6.98s/it]"
      }
     },
     "de0c66b6ac5e436bbceff8718050edb4": {
      "model_module": "@jupyter-widgets/controls",
      "model_module_version": "1.4.0",
      "model_name": "ProgressStyleModel",
      "state": {
       "description_width": ""
      }
     },
     "de18dd3eee074ea6831313e6a49c9024": {
      "model_module": "@jupyter-widgets/base",
      "model_module_version": "1.1.0",
      "model_name": "LayoutModel",
      "state": {}
     },
     "de5ba73f9d9747bb8d5c91b9e4a154ad": {
      "model_module": "@jupyter-widgets/controls",
      "model_module_version": "1.4.0",
      "model_name": "HTMLModel",
      "state": {
       "layout": "IPY_MODEL_36de3b0a291f4ce7bacb299c3208f301",
       "style": "IPY_MODEL_639deaf4f356444c8a00d42ce6233a45",
       "value": " 82% 64/78 [00:00&lt;00:00, 638.72it/s]"
      }
     },
     "dea6312299bf483bbe340735c12d5951": {
      "model_module": "@jupyter-widgets/base",
      "model_module_version": "1.1.0",
      "model_name": "LayoutModel",
      "state": {}
     },
     "dedf561cc0b14899b91b7ec8a66e1031": {
      "model_module": "@jupyter-widgets/base",
      "model_module_version": "1.1.0",
      "model_name": "LayoutModel",
      "state": {}
     },
     "dee45737d7674fb59781021324214187": {
      "model_module": "@jupyter-widgets/base",
      "model_module_version": "1.1.0",
      "model_name": "LayoutModel",
      "state": {}
     },
     "defa22223db644cfafb2bd0d575d3cc9": {
      "model_module": "@jupyter-widgets/base",
      "model_module_version": "1.1.0",
      "model_name": "LayoutModel",
      "state": {}
     },
     "defb6a824cce471d9916e28e247c9550": {
      "model_module": "@jupyter-widgets/base",
      "model_module_version": "1.1.0",
      "model_name": "LayoutModel",
      "state": {}
     },
     "df13153d60194c70960dae2831a75fbc": {
      "model_module": "@jupyter-widgets/base",
      "model_module_version": "1.1.0",
      "model_name": "LayoutModel",
      "state": {}
     },
     "df154f0a876d4c50ae2e812f3073e51a": {
      "model_module": "@jupyter-widgets/controls",
      "model_module_version": "1.4.0",
      "model_name": "IntProgressModel",
      "state": {
       "layout": "IPY_MODEL_6b59ed77e5ce44b09ca91d00f463b3ba",
       "max": 78,
       "style": "IPY_MODEL_99e7f141a9ef4750930e22cc60c3757f",
       "value": 30
      }
     },
     "df1c841bc20e4d9885b78cac6df6c139": {
      "model_module": "@jupyter-widgets/controls",
      "model_module_version": "1.4.0",
      "model_name": "HTMLModel",
      "state": {
       "layout": "IPY_MODEL_9643604850304f0fa6ad2390c18141e9",
       "style": "IPY_MODEL_a476978360dd4e4ab9251baad5ea0097",
       "value": " 97% 76/78 [00:00&lt;00:00, 373.57it/s]"
      }
     },
     "df297455cde043b3a293df23143a9ec7": {
      "model_module": "@jupyter-widgets/base",
      "model_module_version": "1.1.0",
      "model_name": "LayoutModel",
      "state": {}
     },
     "df6743077ad141c59357a0f5fa951019": {
      "model_module": "@jupyter-widgets/base",
      "model_module_version": "1.1.0",
      "model_name": "LayoutModel",
      "state": {}
     },
     "df903777abde43ae869a891c1396181e": {
      "model_module": "@jupyter-widgets/base",
      "model_module_version": "1.1.0",
      "model_name": "LayoutModel",
      "state": {}
     },
     "df94f61fb3634220b57c7c81bc9a5424": {
      "model_module": "@jupyter-widgets/controls",
      "model_module_version": "1.4.0",
      "model_name": "IntProgressModel",
      "state": {
       "layout": "IPY_MODEL_281a2dc18e02410897a46a4af25c5a85",
       "max": 78,
       "style": "IPY_MODEL_0b8ba63a1778421197762ca4c2aca37c",
       "value": 14
      }
     },
     "df9a905aa04a4019aef44f3cf09eb247": {
      "model_module": "@jupyter-widgets/base",
      "model_module_version": "1.1.0",
      "model_name": "LayoutModel",
      "state": {}
     },
     "df9b05a772b5470d9415448b05eb2355": {
      "model_module": "@jupyter-widgets/controls",
      "model_module_version": "1.4.0",
      "model_name": "IntProgressModel",
      "state": {
       "layout": "IPY_MODEL_b64e7f9641764a3480c1c7b013ab54c9",
       "max": 78,
       "style": "IPY_MODEL_3bf8554f27794c3ea94cf9fa9a6a3666",
       "value": 69
      }
     },
     "dfa5e0babbfa47e9ba12b13a1dbe46af": {
      "model_module": "@jupyter-widgets/controls",
      "model_module_version": "1.4.0",
      "model_name": "HTMLModel",
      "state": {
       "layout": "IPY_MODEL_b445c77404da42b7b3f35fbcc891bd45",
       "style": "IPY_MODEL_7ca78343c6b64288b9bd70897fbefa36",
       "value": "100% 17/17 [00:06&lt;00:00,  2.65it/s]"
      }
     },
     "dfb48d86f20048138a221b4fe3a4686a": {
      "model_module": "@jupyter-widgets/base",
      "model_module_version": "1.1.0",
      "model_name": "LayoutModel",
      "state": {}
     },
     "dfb73f58023249bcab6989d996d6d24f": {
      "model_module": "@jupyter-widgets/controls",
      "model_module_version": "1.4.0",
      "model_name": "IntProgressModel",
      "state": {
       "layout": "IPY_MODEL_2d5d8debccda4fd6831216263e04ffee",
       "max": 78,
       "style": "IPY_MODEL_66cde734b48a444dbb7ce5f35e837aae",
       "value": 71
      }
     },
     "dfd1722fb20c4a84aa33784b2553f076": {
      "model_module": "@jupyter-widgets/controls",
      "model_module_version": "1.4.0",
      "model_name": "HTMLModel",
      "state": {
       "layout": "IPY_MODEL_6da2ebfedd3c417f9b2c97f650dd3fa5",
       "style": "IPY_MODEL_7307970cc6cc48ac8f7f85df3370ee75",
       "value": " 81% 63/78 [00:00&lt;00:00, 310.22it/s]"
      }
     },
     "dfdd2dd2427e4ebf9de601b9e282cdd0": {
      "model_module": "@jupyter-widgets/base",
      "model_module_version": "1.1.0",
      "model_name": "LayoutModel",
      "state": {}
     },
     "dfe5989cf5dd40f09c050d954fc80763": {
      "model_module": "@jupyter-widgets/controls",
      "model_module_version": "1.4.0",
      "model_name": "ProgressStyleModel",
      "state": {
       "description_width": ""
      }
     },
     "dfe5e40fab4d4d95aacbea2892774c57": {
      "model_module": "@jupyter-widgets/base",
      "model_module_version": "1.1.0",
      "model_name": "LayoutModel",
      "state": {}
     },
     "e00865f9e49142518a932faf13129215": {
      "model_module": "@jupyter-widgets/base",
      "model_module_version": "1.1.0",
      "model_name": "LayoutModel",
      "state": {}
     },
     "e0132fa8c6d348f2b3076f804a1233d9": {
      "model_module": "@jupyter-widgets/base",
      "model_module_version": "1.1.0",
      "model_name": "LayoutModel",
      "state": {}
     },
     "e014f8e4a1f042749fb10af784e4d33d": {
      "model_module": "@jupyter-widgets/base",
      "model_module_version": "1.1.0",
      "model_name": "LayoutModel",
      "state": {}
     },
     "e01c2f0bf6b5443586fe1f48069a1bda": {
      "model_module": "@jupyter-widgets/base",
      "model_module_version": "1.1.0",
      "model_name": "LayoutModel",
      "state": {}
     },
     "e0248e10f4784994a91576fd129ee2f5": {
      "model_module": "@jupyter-widgets/controls",
      "model_module_version": "1.4.0",
      "model_name": "ProgressStyleModel",
      "state": {
       "description_width": ""
      }
     },
     "e0422671f445473ea760d8f8eb7cf266": {
      "model_module": "@jupyter-widgets/base",
      "model_module_version": "1.1.0",
      "model_name": "LayoutModel",
      "state": {}
     },
     "e05b0c27962e4ed39bfe6b5accecc0f6": {
      "model_module": "@jupyter-widgets/controls",
      "model_module_version": "1.4.0",
      "model_name": "HTMLModel",
      "state": {
       "layout": "IPY_MODEL_0b8a6fb36b1245fa8890c545182b0a08",
       "style": "IPY_MODEL_9aedc7fc026048e4ba5dc2d73b2cad64",
       "value": " 27% 21/78 [00:00&lt;00:00, 208.41it/s]"
      }
     },
     "e09550392d8042dd89f03935dc23bec4": {
      "model_module": "@jupyter-widgets/base",
      "model_module_version": "1.1.0",
      "model_name": "LayoutModel",
      "state": {}
     },
     "e0a2170149ad4cb1aa833389142fd4da": {
      "model_module": "@jupyter-widgets/controls",
      "model_module_version": "1.4.0",
      "model_name": "DescriptionStyleModel",
      "state": {
       "description_width": ""
      }
     },
     "e0a84060c25d49e582128699282d4404": {
      "model_module": "@jupyter-widgets/base",
      "model_module_version": "1.1.0",
      "model_name": "LayoutModel",
      "state": {}
     },
     "e0aa41bb1af34a67976d6442ab40cdd2": {
      "model_module": "@jupyter-widgets/base",
      "model_module_version": "1.1.0",
      "model_name": "LayoutModel",
      "state": {}
     },
     "e0c2141dce7248aebe822ac18c0b7406": {
      "model_module": "@jupyter-widgets/base",
      "model_module_version": "1.1.0",
      "model_name": "LayoutModel",
      "state": {}
     },
     "e0d4be54380a4bfe93f60dd6e710e144": {
      "model_module": "@jupyter-widgets/controls",
      "model_module_version": "1.4.0",
      "model_name": "DescriptionStyleModel",
      "state": {
       "description_width": ""
      }
     },
     "e0e588e241024ae2861171e892499cd5": {
      "model_module": "@jupyter-widgets/base",
      "model_module_version": "1.1.0",
      "model_name": "LayoutModel",
      "state": {}
     },
     "e0eac325ebaf4942a8a921b509b17cad": {
      "model_module": "@jupyter-widgets/controls",
      "model_module_version": "1.4.0",
      "model_name": "ProgressStyleModel",
      "state": {
       "description_width": ""
      }
     },
     "e0f464d989c343ab90c01fcb2ea24b6f": {
      "model_module": "@jupyter-widgets/base",
      "model_module_version": "1.1.0",
      "model_name": "LayoutModel",
      "state": {}
     },
     "e0f50a3e20654e92b9e3fb181e2d4ca7": {
      "model_module": "@jupyter-widgets/base",
      "model_module_version": "1.1.0",
      "model_name": "LayoutModel",
      "state": {}
     },
     "e1078862e8294d2093e88ce0cf9f1a50": {
      "model_module": "@jupyter-widgets/base",
      "model_module_version": "1.1.0",
      "model_name": "LayoutModel",
      "state": {}
     },
     "e110cd0109fd482ebfc1a18af2f5e3f5": {
      "model_module": "@jupyter-widgets/controls",
      "model_module_version": "1.4.0",
      "model_name": "HTMLModel",
      "state": {
       "layout": "IPY_MODEL_0f2ccca352214972af47500513f5a351",
       "style": "IPY_MODEL_085205821e1d4e509699fbff46e5a8a8",
       "value": "100% 17/17 [00:06&lt;00:00,  2.75it/s]"
      }
     },
     "e115b280904f4282b9d07a17d17cd8a0": {
      "model_module": "@jupyter-widgets/base",
      "model_module_version": "1.1.0",
      "model_name": "LayoutModel",
      "state": {}
     },
     "e123aaf630ca4c2da51476b27efd0a0c": {
      "model_module": "@jupyter-widgets/controls",
      "model_module_version": "1.4.0",
      "model_name": "ProgressStyleModel",
      "state": {
       "description_width": ""
      }
     },
     "e17169f9216c4a4e8260ccb54040a593": {
      "model_module": "@jupyter-widgets/controls",
      "model_module_version": "1.4.0",
      "model_name": "HTMLModel",
      "state": {
       "layout": "IPY_MODEL_63b1f135966d44b884c1002c68d7c800",
       "style": "IPY_MODEL_cfee79959ade48198cadaee63299eadc",
       "value": "100% 551/551 [00:05&lt;00:00, 105.47it/s]"
      }
     },
     "e1f24375c128478b9af0de4fdca7fb1c": {
      "model_module": "@jupyter-widgets/controls",
      "model_module_version": "1.4.0",
      "model_name": "IntProgressModel",
      "state": {
       "layout": "IPY_MODEL_92795440f8d74c1998fc3f3e66acdcba",
       "max": 78,
       "style": "IPY_MODEL_4542dcaa517b4d50bdb75c2c19687918"
      }
     },
     "e1fc8a4e5b134871bdd411965444bd27": {
      "model_module": "@jupyter-widgets/controls",
      "model_module_version": "1.4.0",
      "model_name": "IntProgressModel",
      "state": {
       "layout": "IPY_MODEL_daa8d70e24bd477c87126c482b915c8b",
       "max": 78,
       "style": "IPY_MODEL_22c81082dcb04e70825022d46f65831e",
       "value": 9
      }
     },
     "e20d5531e5184222b7b8e3dfcb70345c": {
      "model_module": "@jupyter-widgets/base",
      "model_module_version": "1.1.0",
      "model_name": "LayoutModel",
      "state": {}
     },
     "e21d0a237578453b94c0ac889a1a6bd3": {
      "model_module": "@jupyter-widgets/controls",
      "model_module_version": "1.4.0",
      "model_name": "ProgressStyleModel",
      "state": {
       "description_width": ""
      }
     },
     "e22af45d2a5f44768e954faffbf3f1ff": {
      "model_module": "@jupyter-widgets/controls",
      "model_module_version": "1.4.0",
      "model_name": "HTMLModel",
      "state": {
       "layout": "IPY_MODEL_84d8aeccf78844818fcb674daabcfc21",
       "style": "IPY_MODEL_f456563835d14b45a0b645758bf3c48d",
       "value": " 27% 21/78 [00:00&lt;00:00, 209.80it/s]"
      }
     },
     "e2584a81b7634d4e84220f1c06cb61bd": {
      "model_module": "@jupyter-widgets/controls",
      "model_module_version": "1.4.0",
      "model_name": "IntProgressModel",
      "state": {
       "layout": "IPY_MODEL_27d5781d8a52447e97181535d0ba3932",
       "max": 78,
       "style": "IPY_MODEL_ff713a0d336d4c8ea926fad6bae63e6f",
       "value": 41
      }
     },
     "e2648ec3c7cf485f92ac0f1e2313e4b7": {
      "model_module": "@jupyter-widgets/controls",
      "model_module_version": "1.4.0",
      "model_name": "HTMLModel",
      "state": {
       "layout": "IPY_MODEL_da3f8cf7e0904a18b4b255055a327b72",
       "style": "IPY_MODEL_56f418c299e6466ba7e9f0f256f5f711",
       "value": " 38% 30/78 [00:00&lt;00:00, 134.94it/s]"
      }
     },
     "e26e170ae57a4b4bb0134416246e5c7e": {
      "model_module": "@jupyter-widgets/base",
      "model_module_version": "1.1.0",
      "model_name": "LayoutModel",
      "state": {}
     },
     "e28771bd02ea4a72be3eab126279cafd": {
      "model_module": "@jupyter-widgets/controls",
      "model_module_version": "1.4.0",
      "model_name": "DescriptionStyleModel",
      "state": {
       "description_width": ""
      }
     },
     "e2a334ab25c44b2cbb05d9dcdff9fe8d": {
      "model_module": "@jupyter-widgets/controls",
      "model_module_version": "1.4.0",
      "model_name": "DescriptionStyleModel",
      "state": {
       "description_width": ""
      }
     },
     "e2a786f825444ff09ec127be32500cac": {
      "model_module": "@jupyter-widgets/controls",
      "model_module_version": "1.4.0",
      "model_name": "ProgressStyleModel",
      "state": {
       "description_width": ""
      }
     },
     "e2b78b38d29045c580144965c0d0424b": {
      "model_module": "@jupyter-widgets/controls",
      "model_module_version": "1.4.0",
      "model_name": "DescriptionStyleModel",
      "state": {
       "description_width": ""
      }
     },
     "e2c284a1c52b4a51a6bfb05e8ce48294": {
      "model_module": "@jupyter-widgets/controls",
      "model_module_version": "1.4.0",
      "model_name": "DescriptionStyleModel",
      "state": {
       "description_width": ""
      }
     },
     "e2c534eae0cb47ffad331c89a8549ed8": {
      "model_module": "@jupyter-widgets/controls",
      "model_module_version": "1.4.0",
      "model_name": "DescriptionStyleModel",
      "state": {
       "description_width": ""
      }
     },
     "e3110be555a249639dd477ebd8d01908": {
      "model_module": "@jupyter-widgets/controls",
      "model_module_version": "1.4.0",
      "model_name": "HBoxModel",
      "state": {
       "children": [
        "IPY_MODEL_eb78e04ccd754af1bf6511f07d5e9b4a",
        "IPY_MODEL_8910bb3160174a4092057c2426a6c940"
       ],
       "layout": "IPY_MODEL_bb4e85820d4140cfad26e6b5490f5641"
      }
     },
     "e33034b5c39446149f1e8cc980ce118c": {
      "model_module": "@jupyter-widgets/controls",
      "model_module_version": "1.4.0",
      "model_name": "IntProgressModel",
      "state": {
       "layout": "IPY_MODEL_7cc7d0c497784ccdaf7e28559125d897",
       "max": 17,
       "style": "IPY_MODEL_da439b02fe9146c8bb23803202a90fc3",
       "value": 17
      }
     },
     "e330fdb06d834cb895018b60917a8693": {
      "model_module": "@jupyter-widgets/controls",
      "model_module_version": "1.4.0",
      "model_name": "DescriptionStyleModel",
      "state": {
       "description_width": ""
      }
     },
     "e338375e7f574851947bd0541eeaf8cf": {
      "model_module": "@jupyter-widgets/controls",
      "model_module_version": "1.4.0",
      "model_name": "HTMLModel",
      "state": {
       "layout": "IPY_MODEL_f229bab8ddd94a6bb971a0218c371981",
       "style": "IPY_MODEL_f0541c0ebd3d43d4be332991b446dfd1",
       "value": "100% 17/17 [00:06&lt;00:00,  2.65it/s]"
      }
     },
     "e3624ca7631546149bcd32118aa17e91": {
      "model_module": "@jupyter-widgets/base",
      "model_module_version": "1.1.0",
      "model_name": "LayoutModel",
      "state": {}
     },
     "e3809ca1a7314c2fa362d89711f20a6f": {
      "model_module": "@jupyter-widgets/controls",
      "model_module_version": "1.4.0",
      "model_name": "HTMLModel",
      "state": {
       "layout": "IPY_MODEL_d156b10a925840c3b76bc181f5f9db6a",
       "style": "IPY_MODEL_7708bc5c455449829e4c0b28176f529d",
       "value": "100% 17/17 [00:05&lt;00:00,  3.16it/s]"
      }
     },
     "e389ba369a5c42eda7b844cca757f5dc": {
      "model_module": "@jupyter-widgets/base",
      "model_module_version": "1.1.0",
      "model_name": "LayoutModel",
      "state": {}
     },
     "e3b65c4096954c73bb7cef4238051730": {
      "model_module": "@jupyter-widgets/controls",
      "model_module_version": "1.4.0",
      "model_name": "IntProgressModel",
      "state": {
       "layout": "IPY_MODEL_a5f20fdcf1bd4f5b82cd3b780a4bfa55",
       "max": 17,
       "style": "IPY_MODEL_31ee7085ce4f410a9cd7a2e9b66da9c1",
       "value": 17
      }
     },
     "e3cf327dbe624e70b532ae5386bea179": {
      "model_module": "@jupyter-widgets/controls",
      "model_module_version": "1.4.0",
      "model_name": "HTMLModel",
      "state": {
       "layout": "IPY_MODEL_f4560ab62e9945ea89050069eabec086",
       "style": "IPY_MODEL_00eeada0b18f44abb85e09d77baca816",
       "value": " 18% 14/78 [00:00&lt;00:00, 124.37it/s]"
      }
     },
     "e429962991544045b2d33c6ede5f8c36": {
      "model_module": "@jupyter-widgets/controls",
      "model_module_version": "1.4.0",
      "model_name": "ProgressStyleModel",
      "state": {
       "description_width": ""
      }
     },
     "e43e605dfb9e4141846ad2f1bd0fbf84": {
      "model_module": "@jupyter-widgets/base",
      "model_module_version": "1.1.0",
      "model_name": "LayoutModel",
      "state": {}
     },
     "e46b280ade934ee4bc1d265dc62f336c": {
      "model_module": "@jupyter-widgets/base",
      "model_module_version": "1.1.0",
      "model_name": "LayoutModel",
      "state": {}
     },
     "e484dccd11c44b8390c16840056420f7": {
      "model_module": "@jupyter-widgets/controls",
      "model_module_version": "1.4.0",
      "model_name": "HTMLModel",
      "state": {
       "layout": "IPY_MODEL_8a21c3ad8ac844e6aa9ba7d589ad2664",
       "style": "IPY_MODEL_226cb03f13c34105a61a4c64ab5d8317",
       "value": "100% 17/17 [00:07&lt;00:00,  2.42it/s]"
      }
     },
     "e48b632a24424e9aa5c7d7eef451abd1": {
      "model_module": "@jupyter-widgets/controls",
      "model_module_version": "1.4.0",
      "model_name": "DescriptionStyleModel",
      "state": {
       "description_width": ""
      }
     },
     "e49956884edb488fb13e41bc0c154705": {
      "model_module": "@jupyter-widgets/base",
      "model_module_version": "1.1.0",
      "model_name": "LayoutModel",
      "state": {}
     },
     "e4c86e34113c4b218ae2e8130086be9e": {
      "model_module": "@jupyter-widgets/controls",
      "model_module_version": "1.4.0",
      "model_name": "ProgressStyleModel",
      "state": {
       "description_width": ""
      }
     },
     "e4e1871a2e944b75aba08ee8640085d8": {
      "model_module": "@jupyter-widgets/base",
      "model_module_version": "1.1.0",
      "model_name": "LayoutModel",
      "state": {}
     },
     "e4e2e8ad7b194006b2b60f78585cc2d7": {
      "model_module": "@jupyter-widgets/controls",
      "model_module_version": "1.4.0",
      "model_name": "ProgressStyleModel",
      "state": {
       "description_width": ""
      }
     },
     "e4f475f7b68c40be8f8fbe1418a44172": {
      "model_module": "@jupyter-widgets/controls",
      "model_module_version": "1.4.0",
      "model_name": "ProgressStyleModel",
      "state": {
       "description_width": ""
      }
     },
     "e52176dca4ac48fca17cd7812d794da4": {
      "model_module": "@jupyter-widgets/controls",
      "model_module_version": "1.4.0",
      "model_name": "DescriptionStyleModel",
      "state": {
       "description_width": ""
      }
     },
     "e53d8b4d7b7d40dbb31a18ff3e769e5f": {
      "model_module": "@jupyter-widgets/controls",
      "model_module_version": "1.4.0",
      "model_name": "HTMLModel",
      "state": {
       "layout": "IPY_MODEL_31565e67b2524efdb694f8681b219fee",
       "style": "IPY_MODEL_695b20943afe4469aeae273a108590cc",
       "value": "100% 17/17 [00:08&lt;00:00,  2.00it/s]"
      }
     },
     "e548db6748b34674b481de08da2fab90": {
      "model_module": "@jupyter-widgets/base",
      "model_module_version": "1.1.0",
      "model_name": "LayoutModel",
      "state": {}
     },
     "e5702d10a7b0465080dd55bdefd7b3ee": {
      "model_module": "@jupyter-widgets/controls",
      "model_module_version": "1.4.0",
      "model_name": "IntProgressModel",
      "state": {
       "layout": "IPY_MODEL_059e0d1954364f29b0defdc43e674c89",
       "max": 17,
       "style": "IPY_MODEL_e0248e10f4784994a91576fd129ee2f5",
       "value": 17
      }
     },
     "e57744af342c44a5b5aed33566299164": {
      "model_module": "@jupyter-widgets/base",
      "model_module_version": "1.1.0",
      "model_name": "LayoutModel",
      "state": {}
     },
     "e5aaba0e810b40c1b1090ecb396daba4": {
      "model_module": "@jupyter-widgets/controls",
      "model_module_version": "1.4.0",
      "model_name": "IntProgressModel",
      "state": {
       "layout": "IPY_MODEL_3f3a453dd9914017a05aa72aaf873ea5",
       "max": 17,
       "style": "IPY_MODEL_3ea0e86fd8fd4ba19e3b339ccc07ed36",
       "value": 17
      }
     },
     "e5b9e97dcb064738a63e06f8d011b07b": {
      "model_module": "@jupyter-widgets/base",
      "model_module_version": "1.1.0",
      "model_name": "LayoutModel",
      "state": {}
     },
     "e5e2307726dc49bb8702d5bbdbe529f7": {
      "model_module": "@jupyter-widgets/base",
      "model_module_version": "1.1.0",
      "model_name": "LayoutModel",
      "state": {}
     },
     "e6019e2c64c64ede81574e64ed469a27": {
      "model_module": "@jupyter-widgets/controls",
      "model_module_version": "1.4.0",
      "model_name": "ProgressStyleModel",
      "state": {
       "description_width": ""
      }
     },
     "e605d9f26df4476784d2502696275999": {
      "model_module": "@jupyter-widgets/controls",
      "model_module_version": "1.4.0",
      "model_name": "DescriptionStyleModel",
      "state": {
       "description_width": ""
      }
     },
     "e608a2a263074f1e92c261410e5d65b6": {
      "model_module": "@jupyter-widgets/base",
      "model_module_version": "1.1.0",
      "model_name": "LayoutModel",
      "state": {}
     },
     "e6119423491d4f108beb0b06c352a20c": {
      "model_module": "@jupyter-widgets/base",
      "model_module_version": "1.1.0",
      "model_name": "LayoutModel",
      "state": {}
     },
     "e61c537cb366482ba1466a9277f7afae": {
      "model_module": "@jupyter-widgets/controls",
      "model_module_version": "1.4.0",
      "model_name": "ProgressStyleModel",
      "state": {
       "description_width": ""
      }
     },
     "e6bd228a750b444285e855694fbd016f": {
      "model_module": "@jupyter-widgets/controls",
      "model_module_version": "1.4.0",
      "model_name": "HTMLModel",
      "state": {
       "layout": "IPY_MODEL_7fdee7cbdc4c46eabfaa018e9802ccd0",
       "style": "IPY_MODEL_a08f58f1be1647c6ab5ccf7bdd5cfddc",
       "value": " 51% 40/78 [00:00&lt;00:00, 397.85it/s]"
      }
     },
     "e6debe77439043aa88a9abd16b3e058d": {
      "model_module": "@jupyter-widgets/base",
      "model_module_version": "1.1.0",
      "model_name": "LayoutModel",
      "state": {}
     },
     "e6e9807aeb6d4d66bef87a502aba5c90": {
      "model_module": "@jupyter-widgets/controls",
      "model_module_version": "1.4.0",
      "model_name": "IntProgressModel",
      "state": {
       "layout": "IPY_MODEL_54844d0159b4469e92dc126000b4765b",
       "max": 78,
       "style": "IPY_MODEL_156033c451754f77a41d5ce119dccd8b",
       "value": 19
      }
     },
     "e6ebc5fb47704b1da2c987e0245ccd15": {
      "model_module": "@jupyter-widgets/controls",
      "model_module_version": "1.4.0",
      "model_name": "HTMLModel",
      "state": {
       "layout": "IPY_MODEL_b12c0966ca6645f8b71c07ca935472c3",
       "style": "IPY_MODEL_7bef9d8a4ee7407795ef118e849abc4d",
       "value": " 44% 34/78 [00:00&lt;00:00, 338.49it/s]"
      }
     },
     "e7191d9778d44bc3bba3f803ad413be3": {
      "model_module": "@jupyter-widgets/base",
      "model_module_version": "1.1.0",
      "model_name": "LayoutModel",
      "state": {}
     },
     "e7610dd8a1fa4329873124aec3b0b2e2": {
      "model_module": "@jupyter-widgets/base",
      "model_module_version": "1.1.0",
      "model_name": "LayoutModel",
      "state": {}
     },
     "e7618503d84b4cbcaaf8cea3cd59e69e": {
      "model_module": "@jupyter-widgets/controls",
      "model_module_version": "1.4.0",
      "model_name": "ProgressStyleModel",
      "state": {
       "description_width": ""
      }
     },
     "e76fbb5728654b2cb63b49c25c9eb7f2": {
      "model_module": "@jupyter-widgets/base",
      "model_module_version": "1.1.0",
      "model_name": "LayoutModel",
      "state": {}
     },
     "e7a2131d9b584bccb01a2ea7d3e259bb": {
      "model_module": "@jupyter-widgets/base",
      "model_module_version": "1.1.0",
      "model_name": "LayoutModel",
      "state": {}
     },
     "e7efe8020c82415ea486a8e0bc3dfb9c": {
      "model_module": "@jupyter-widgets/base",
      "model_module_version": "1.1.0",
      "model_name": "LayoutModel",
      "state": {}
     },
     "e821da5bc5ed480fbd5a406277f35c50": {
      "model_module": "@jupyter-widgets/controls",
      "model_module_version": "1.4.0",
      "model_name": "ProgressStyleModel",
      "state": {
       "description_width": ""
      }
     },
     "e82a2c9971644b499036e2b30444b2b0": {
      "model_module": "@jupyter-widgets/base",
      "model_module_version": "1.1.0",
      "model_name": "LayoutModel",
      "state": {}
     },
     "e82ca74cec6149158a8825e7477643a0": {
      "model_module": "@jupyter-widgets/base",
      "model_module_version": "1.1.0",
      "model_name": "LayoutModel",
      "state": {}
     },
     "e83f4ad290374663a010dee8925cb418": {
      "model_module": "@jupyter-widgets/controls",
      "model_module_version": "1.4.0",
      "model_name": "ProgressStyleModel",
      "state": {
       "description_width": ""
      }
     },
     "e858a762bcf14ded8627356b71aaece7": {
      "model_module": "@jupyter-widgets/controls",
      "model_module_version": "1.4.0",
      "model_name": "DescriptionStyleModel",
      "state": {
       "description_width": ""
      }
     },
     "e860401252724f37b64c5726dc78b2a6": {
      "model_module": "@jupyter-widgets/controls",
      "model_module_version": "1.4.0",
      "model_name": "IntProgressModel",
      "state": {
       "layout": "IPY_MODEL_7b1c41570c76453484ef930585bb6714",
       "max": 78,
       "style": "IPY_MODEL_9f042de8ee85417d91044d09501dbba6",
       "value": 15
      }
     },
     "e881d33cf5ff4bd7adf28c3a2cdb8949": {
      "model_module": "@jupyter-widgets/controls",
      "model_module_version": "1.4.0",
      "model_name": "ProgressStyleModel",
      "state": {
       "description_width": ""
      }
     },
     "e887c520cc55409d9874a9c2fca8c737": {
      "model_module": "@jupyter-widgets/controls",
      "model_module_version": "1.4.0",
      "model_name": "ProgressStyleModel",
      "state": {
       "description_width": ""
      }
     },
     "e8caf0e756f04463a0583356e43b0044": {
      "model_module": "@jupyter-widgets/controls",
      "model_module_version": "1.4.0",
      "model_name": "HTMLModel",
      "state": {
       "layout": "IPY_MODEL_93439395bc334df3853b2e3fb64197df",
       "style": "IPY_MODEL_ac4e221cb8bb4f50add79e0cfdbaa3f8",
       "value": " 81% 63/78 [00:00&lt;00:00, 305.31it/s]"
      }
     },
     "e8da6dea39cb4ed79a2d843d780c58b9": {
      "model_module": "@jupyter-widgets/controls",
      "model_module_version": "1.4.0",
      "model_name": "ProgressStyleModel",
      "state": {
       "description_width": ""
      }
     },
     "e8db61c2b852421081c3bdfce62ee8ab": {
      "model_module": "@jupyter-widgets/controls",
      "model_module_version": "1.4.0",
      "model_name": "HTMLModel",
      "state": {
       "layout": "IPY_MODEL_f7270707cb3248d1ba26be44c4dde56b",
       "style": "IPY_MODEL_227b5237e4824ec5be2d3885e5564f33",
       "value": "100% 17/17 [00:04&lt;00:00,  3.69it/s]"
      }
     },
     "e930c99be072434983d187e2323fbb75": {
      "model_module": "@jupyter-widgets/controls",
      "model_module_version": "1.4.0",
      "model_name": "DescriptionStyleModel",
      "state": {
       "description_width": ""
      }
     },
     "e96c0d5d8fa94faca989291e49e5f52a": {
      "model_module": "@jupyter-widgets/controls",
      "model_module_version": "1.4.0",
      "model_name": "HTMLModel",
      "state": {
       "layout": "IPY_MODEL_d6c68b4442e44e87ada5ac25f2f2bef8",
       "style": "IPY_MODEL_06c634ae1ffd4cff8bc767d6637e3cd5",
       "value": "100% 17/17 [00:05&lt;00:00,  2.92it/s]"
      }
     },
     "e9732e86bca64c0291fa28c95aa5a060": {
      "model_module": "@jupyter-widgets/base",
      "model_module_version": "1.1.0",
      "model_name": "LayoutModel",
      "state": {}
     },
     "e97b65e0a82c472f9093bae15e1422a6": {
      "model_module": "@jupyter-widgets/controls",
      "model_module_version": "1.4.0",
      "model_name": "IntProgressModel",
      "state": {
       "bar_style": "success",
       "layout": "IPY_MODEL_15906762cd774bd28d884cca247bb41f",
       "max": 551,
       "style": "IPY_MODEL_643b7a98ca66458689a3a8a111382889",
       "value": 551
      }
     },
     "e98122af495a44f5a7f9436661198291": {
      "model_module": "@jupyter-widgets/controls",
      "model_module_version": "1.4.0",
      "model_name": "HTMLModel",
      "state": {
       "layout": "IPY_MODEL_bcd34b6d8dcd4b4c8315aef0c3a0d681",
       "style": "IPY_MODEL_72400b7d3e4341549d9ede4bfcd65699",
       "value": "100% 17/17 [00:04&lt;00:00,  3.69it/s]"
      }
     },
     "e98c87c1f47b4e6c9c12d77831c122e4": {
      "model_module": "@jupyter-widgets/controls",
      "model_module_version": "1.4.0",
      "model_name": "HTMLModel",
      "state": {
       "layout": "IPY_MODEL_8a7d37dd9f2b456fa7525c6211ae6eed",
       "style": "IPY_MODEL_81a7cedd268f4890afcd0541d12013b9",
       "value": " 28% 22/78 [00:00&lt;00:00, 218.68it/s]"
      }
     },
     "e98ed7afa4824339af031471c59a750d": {
      "model_module": "@jupyter-widgets/controls",
      "model_module_version": "1.4.0",
      "model_name": "ProgressStyleModel",
      "state": {
       "description_width": ""
      }
     },
     "e999aa2fa8114a1385b94a66fc8feb28": {
      "model_module": "@jupyter-widgets/controls",
      "model_module_version": "1.4.0",
      "model_name": "DescriptionStyleModel",
      "state": {
       "description_width": ""
      }
     },
     "e9b3520534bd44deb65ec3ef73004f0b": {
      "model_module": "@jupyter-widgets/controls",
      "model_module_version": "1.4.0",
      "model_name": "DescriptionStyleModel",
      "state": {
       "description_width": ""
      }
     },
     "e9b7ec2f331d4933b58335892e07647a": {
      "model_module": "@jupyter-widgets/controls",
      "model_module_version": "1.4.0",
      "model_name": "HTMLModel",
      "state": {
       "layout": "IPY_MODEL_34d7df479a904101881b046e4acd1c5e",
       "style": "IPY_MODEL_4b464a5184c143c0a1baa38951011611",
       "value": "100% 17/17 [00:06&lt;00:00,  2.53it/s]"
      }
     },
     "e9f13025233840cab0e00c36bad81851": {
      "model_module": "@jupyter-widgets/controls",
      "model_module_version": "1.4.0",
      "model_name": "IntProgressModel",
      "state": {
       "layout": "IPY_MODEL_e00865f9e49142518a932faf13129215",
       "max": 17,
       "style": "IPY_MODEL_40716a25518746bd91ca96f7b000ae9b",
       "value": 17
      }
     },
     "e9f2824a0aa3467597a2f58e0017e468": {
      "model_module": "@jupyter-widgets/controls",
      "model_module_version": "1.4.0",
      "model_name": "DescriptionStyleModel",
      "state": {
       "description_width": ""
      }
     },
     "ea1061d8b8884ffb924b934eb950a468": {
      "model_module": "@jupyter-widgets/controls",
      "model_module_version": "1.4.0",
      "model_name": "HTMLModel",
      "state": {
       "layout": "IPY_MODEL_ceff477e72854bda89ec34c907b701bb",
       "style": "IPY_MODEL_5286afa1b9e947628eef1f67162cb676",
       "value": "100% 17/17 [00:06&lt;00:00,  2.71it/s]"
      }
     },
     "ea23205b90f04706bd462f9f899caf2a": {
      "model_module": "@jupyter-widgets/base",
      "model_module_version": "1.1.0",
      "model_name": "LayoutModel",
      "state": {}
     },
     "ea5d70a91a0c4574b74d59e6db15de2b": {
      "model_module": "@jupyter-widgets/base",
      "model_module_version": "1.1.0",
      "model_name": "LayoutModel",
      "state": {}
     },
     "ea7bed13245f42ebaf17bcf45dd2a7fd": {
      "model_module": "@jupyter-widgets/base",
      "model_module_version": "1.1.0",
      "model_name": "LayoutModel",
      "state": {}
     },
     "ea7d93e147f34052922f63546232b47f": {
      "model_module": "@jupyter-widgets/base",
      "model_module_version": "1.1.0",
      "model_name": "LayoutModel",
      "state": {}
     },
     "ea7fd8dedbdc4baf80288c87bb7e2cdd": {
      "model_module": "@jupyter-widgets/base",
      "model_module_version": "1.1.0",
      "model_name": "LayoutModel",
      "state": {}
     },
     "ea93f452ad4b4ba5acf7ed97ed93d493": {
      "model_module": "@jupyter-widgets/base",
      "model_module_version": "1.1.0",
      "model_name": "LayoutModel",
      "state": {}
     },
     "eaa709c1de274b9cb3e2a8273113f774": {
      "model_module": "@jupyter-widgets/base",
      "model_module_version": "1.1.0",
      "model_name": "LayoutModel",
      "state": {}
     },
     "eab3f7ab8c5a4623973dd2b9c6aa96e9": {
      "model_module": "@jupyter-widgets/controls",
      "model_module_version": "1.4.0",
      "model_name": "DescriptionStyleModel",
      "state": {
       "description_width": ""
      }
     },
     "eab79d0a96824be3879e7ef8e5550452": {
      "model_module": "@jupyter-widgets/controls",
      "model_module_version": "1.4.0",
      "model_name": "IntProgressModel",
      "state": {
       "layout": "IPY_MODEL_1be666865f754d16888aac1f9746de04",
       "max": 78,
       "style": "IPY_MODEL_cdc5c9a06d2f48f3885b262d54f3bef1",
       "value": 71
      }
     },
     "eac9a99b96c241db8c42d4f6fb65c78b": {
      "model_module": "@jupyter-widgets/controls",
      "model_module_version": "1.4.0",
      "model_name": "DescriptionStyleModel",
      "state": {
       "description_width": ""
      }
     },
     "ead5271c711c43faa863f11842365e2c": {
      "model_module": "@jupyter-widgets/controls",
      "model_module_version": "1.4.0",
      "model_name": "ProgressStyleModel",
      "state": {
       "description_width": ""
      }
     },
     "ead7b3e3459540d5b38b7f4e5bb31d12": {
      "model_module": "@jupyter-widgets/controls",
      "model_module_version": "1.4.0",
      "model_name": "HTMLModel",
      "state": {
       "layout": "IPY_MODEL_f1bbd13514bb453785cc61e94d461f1e",
       "style": "IPY_MODEL_38c46c0fbac9469d9a722df0c412847c",
       "value": " 18% 14/78 [00:00&lt;00:00, 138.65it/s]"
      }
     },
     "eb3183a0d9f9476687223786c532d646": {
      "model_module": "@jupyter-widgets/base",
      "model_module_version": "1.1.0",
      "model_name": "LayoutModel",
      "state": {}
     },
     "eb604621f4d24e63b71b8975824950aa": {
      "model_module": "@jupyter-widgets/base",
      "model_module_version": "1.1.0",
      "model_name": "LayoutModel",
      "state": {}
     },
     "eb78e04ccd754af1bf6511f07d5e9b4a": {
      "model_module": "@jupyter-widgets/controls",
      "model_module_version": "1.4.0",
      "model_name": "IntProgressModel",
      "state": {
       "bar_style": "success",
       "layout": "IPY_MODEL_6676d062ac36410eadb8f875f3467737",
       "max": 20,
       "style": "IPY_MODEL_f28b86fcfe184aaea35358fb6b61a5da",
       "value": 20
      }
     },
     "eb79d5bcdc0a4507a91c160345769e22": {
      "model_module": "@jupyter-widgets/controls",
      "model_module_version": "1.4.0",
      "model_name": "DescriptionStyleModel",
      "state": {
       "description_width": ""
      }
     },
     "eb951e477b3243e38cac77b00299c747": {
      "model_module": "@jupyter-widgets/base",
      "model_module_version": "1.1.0",
      "model_name": "LayoutModel",
      "state": {}
     },
     "ebb2cc1a0dc54d388c98276467f5f7b6": {
      "model_module": "@jupyter-widgets/controls",
      "model_module_version": "1.4.0",
      "model_name": "ProgressStyleModel",
      "state": {
       "description_width": ""
      }
     },
     "ebcd252cff134a2e93e92955c6d290fc": {
      "model_module": "@jupyter-widgets/controls",
      "model_module_version": "1.4.0",
      "model_name": "DescriptionStyleModel",
      "state": {
       "description_width": ""
      }
     },
     "ebf4cf8f49df4dfc8bb79582715af4dc": {
      "model_module": "@jupyter-widgets/controls",
      "model_module_version": "1.4.0",
      "model_name": "ProgressStyleModel",
      "state": {
       "description_width": ""
      }
     },
     "ec0f387174004f9695f6979879871123": {
      "model_module": "@jupyter-widgets/base",
      "model_module_version": "1.1.0",
      "model_name": "LayoutModel",
      "state": {}
     },
     "ec10f387a9434f82a0936fbdcdddc064": {
      "model_module": "@jupyter-widgets/base",
      "model_module_version": "1.1.0",
      "model_name": "LayoutModel",
      "state": {}
     },
     "ec223a7b061e45cc92924ed017b98fcf": {
      "model_module": "@jupyter-widgets/controls",
      "model_module_version": "1.4.0",
      "model_name": "DescriptionStyleModel",
      "state": {
       "description_width": ""
      }
     },
     "ec29412000ac4cc593fbfe47ad32eb1d": {
      "model_module": "@jupyter-widgets/base",
      "model_module_version": "1.1.0",
      "model_name": "LayoutModel",
      "state": {}
     },
     "ec4ce9cf6b654e178ffe3197446a7dec": {
      "model_module": "@jupyter-widgets/base",
      "model_module_version": "1.1.0",
      "model_name": "LayoutModel",
      "state": {}
     },
     "ec66316e2d4f4d82b685bc9e0c0f4674": {
      "model_module": "@jupyter-widgets/controls",
      "model_module_version": "1.4.0",
      "model_name": "DescriptionStyleModel",
      "state": {
       "description_width": ""
      }
     },
     "ec84136a5dad4e76926d484d192071d1": {
      "model_module": "@jupyter-widgets/base",
      "model_module_version": "1.1.0",
      "model_name": "LayoutModel",
      "state": {}
     },
     "ec943be832434d648d0d7a9ef1a430e7": {
      "model_module": "@jupyter-widgets/base",
      "model_module_version": "1.1.0",
      "model_name": "LayoutModel",
      "state": {}
     },
     "ecbdff9846e944589fbe2bfd4d5a4f5d": {
      "model_module": "@jupyter-widgets/controls",
      "model_module_version": "1.4.0",
      "model_name": "IntProgressModel",
      "state": {
       "bar_style": "success",
       "layout": "IPY_MODEL_53528b4baf57423598dbf2b4c50bb12a",
       "max": 551,
       "style": "IPY_MODEL_6312bd9a25d64ec49f7bc52e5eaed7be",
       "value": 551
      }
     },
     "ecf36634792b455d8819f5257359514d": {
      "model_module": "@jupyter-widgets/base",
      "model_module_version": "1.1.0",
      "model_name": "LayoutModel",
      "state": {}
     },
     "ecf78a2be03446c6b2db3761b047da56": {
      "model_module": "@jupyter-widgets/base",
      "model_module_version": "1.1.0",
      "model_name": "LayoutModel",
      "state": {}
     },
     "ecfc495772dd41fbae309ec483b7d0ac": {
      "model_module": "@jupyter-widgets/base",
      "model_module_version": "1.1.0",
      "model_name": "LayoutModel",
      "state": {}
     },
     "ed39f346c323412aa65f4a079a2a5e66": {
      "model_module": "@jupyter-widgets/controls",
      "model_module_version": "1.4.0",
      "model_name": "IntProgressModel",
      "state": {
       "layout": "IPY_MODEL_78f0cb145e7641f9af241fdaeaa90e07",
       "max": 17,
       "style": "IPY_MODEL_eda14dc2f5ae498aab900805200a141d",
       "value": 17
      }
     },
     "ed60bd36cd4e416bae6631a5b8bd5e90": {
      "model_module": "@jupyter-widgets/controls",
      "model_module_version": "1.4.0",
      "model_name": "ProgressStyleModel",
      "state": {
       "description_width": ""
      }
     },
     "ed65fba924774ac6a4a1add736e36825": {
      "model_module": "@jupyter-widgets/controls",
      "model_module_version": "1.4.0",
      "model_name": "HTMLModel",
      "state": {
       "layout": "IPY_MODEL_f7edcef1b77946b5bbcc6c0f6497c3c4",
       "style": "IPY_MODEL_735bfafd3b2941788b7adc934afc2047",
       "value": "100% 17/17 [00:05&lt;00:00,  3.10it/s]"
      }
     },
     "ed68e487a996472da0c982f6138ace34": {
      "model_module": "@jupyter-widgets/controls",
      "model_module_version": "1.4.0",
      "model_name": "HTMLModel",
      "state": {
       "layout": "IPY_MODEL_71f9f96f6d6b4275b7261ac8cc937724",
       "style": "IPY_MODEL_1d80642428b94bad8c98653d62baace2",
       "value": " 10% 8/78 [00:00&lt;00:00, 70.38it/s]"
      }
     },
     "eda14dc2f5ae498aab900805200a141d": {
      "model_module": "@jupyter-widgets/controls",
      "model_module_version": "1.4.0",
      "model_name": "ProgressStyleModel",
      "state": {
       "description_width": ""
      }
     },
     "ede79c7071f2405398a7e0039d415412": {
      "model_module": "@jupyter-widgets/controls",
      "model_module_version": "1.4.0",
      "model_name": "HTMLModel",
      "state": {
       "layout": "IPY_MODEL_631365cf207b45cebe85ee8831cf4ee7",
       "style": "IPY_MODEL_909fc6347af6432e8b2b4db4708cb7f2",
       "value": "100% 17/17 [00:06&lt;00:00,  2.71it/s]"
      }
     },
     "ee3bc98e6aa44b3caaab56b492bbdb68": {
      "model_module": "@jupyter-widgets/controls",
      "model_module_version": "1.4.0",
      "model_name": "DescriptionStyleModel",
      "state": {
       "description_width": ""
      }
     },
     "ee5f5c603c9343b2a152577bac73ce7b": {
      "model_module": "@jupyter-widgets/base",
      "model_module_version": "1.1.0",
      "model_name": "LayoutModel",
      "state": {}
     },
     "ee638e64086a4e39b54acedeb6138a7b": {
      "model_module": "@jupyter-widgets/controls",
      "model_module_version": "1.4.0",
      "model_name": "HTMLModel",
      "state": {
       "layout": "IPY_MODEL_25f8f9f49122436782f986f81b19e385",
       "style": "IPY_MODEL_2f033cf80fa8466eb0a65d00ad44ce57",
       "value": " 17% 13/78 [00:00&lt;00:00, 129.85it/s]"
      }
     },
     "ee6e5bc08f524ea4b6c1f215450ce62d": {
      "model_module": "@jupyter-widgets/controls",
      "model_module_version": "1.4.0",
      "model_name": "HTMLModel",
      "state": {
       "layout": "IPY_MODEL_a8e423ffc41a4ba1b519a47558a9a8c3",
       "style": "IPY_MODEL_042371ef237e42b2b479dbda310fe10a",
       "value": "100% 17/17 [00:05&lt;00:00,  2.94it/s]"
      }
     },
     "ee71adf0f80c4afd893e35f9a8cde678": {
      "model_module": "@jupyter-widgets/controls",
      "model_module_version": "1.4.0",
      "model_name": "ProgressStyleModel",
      "state": {
       "description_width": ""
      }
     },
     "ee878ee992684a739df6e4a01fb5e66c": {
      "model_module": "@jupyter-widgets/controls",
      "model_module_version": "1.4.0",
      "model_name": "HTMLModel",
      "state": {
       "layout": "IPY_MODEL_734244c4369f496789ef38515f9a0606",
       "style": "IPY_MODEL_a743df0711bf47daaed8d98d95f419f5",
       "value": "100% 50/50 [05:59&lt;00:00,  7.19s/it]"
      }
     },
     "eeafe991cc824dbd935abaaae0fe7798": {
      "model_module": "@jupyter-widgets/controls",
      "model_module_version": "1.4.0",
      "model_name": "DescriptionStyleModel",
      "state": {
       "description_width": ""
      }
     },
     "eeb94c9223be4088bfc3e6ac23a6dbe9": {
      "model_module": "@jupyter-widgets/controls",
      "model_module_version": "1.4.0",
      "model_name": "ProgressStyleModel",
      "state": {
       "description_width": ""
      }
     },
     "eec0232acb854775b7212384a45ab1a4": {
      "model_module": "@jupyter-widgets/controls",
      "model_module_version": "1.4.0",
      "model_name": "DescriptionStyleModel",
      "state": {
       "description_width": ""
      }
     },
     "ef22a8bf5092475c99f4389c912154de": {
      "model_module": "@jupyter-widgets/controls",
      "model_module_version": "1.4.0",
      "model_name": "IntProgressModel",
      "state": {
       "bar_style": "success",
       "layout": "IPY_MODEL_2512de0a64ca4a34892682858499c361",
       "max": 78,
       "style": "IPY_MODEL_971f538e10ba49eeb45af781e8b090b4",
       "value": 78
      }
     },
     "ef742a0270584b03b0ebb3c83be25254": {
      "model_module": "@jupyter-widgets/base",
      "model_module_version": "1.1.0",
      "model_name": "LayoutModel",
      "state": {}
     },
     "ef8ee5289b204c8f9e110cfc6637c692": {
      "model_module": "@jupyter-widgets/controls",
      "model_module_version": "1.4.0",
      "model_name": "ProgressStyleModel",
      "state": {
       "description_width": ""
      }
     },
     "efc050e2566f41f487dd4ab9143dae04": {
      "model_module": "@jupyter-widgets/base",
      "model_module_version": "1.1.0",
      "model_name": "LayoutModel",
      "state": {}
     },
     "efd5990ba75f4aeb9d6ae7561e7ea25b": {
      "model_module": "@jupyter-widgets/controls",
      "model_module_version": "1.4.0",
      "model_name": "HTMLModel",
      "state": {
       "layout": "IPY_MODEL_4612768bec244ec5a2f5b0e4541f6df2",
       "style": "IPY_MODEL_42a766d5a7984113bcdbc020efbc3310",
       "value": "100% 17/17 [00:05&lt;00:00,  2.84it/s]"
      }
     },
     "eff7216218084ef3899f1fa1e7c9ff31": {
      "model_module": "@jupyter-widgets/controls",
      "model_module_version": "1.4.0",
      "model_name": "HTMLModel",
      "state": {
       "layout": "IPY_MODEL_9d3d3fc5a742476ea90f6080235720a8",
       "style": "IPY_MODEL_0e6b495ca2674725b6ed268d71b9372b",
       "value": "100% 78/78 [00:00&lt;00:00, 204.14it/s]"
      }
     },
     "effe8da415604578a7d6dab466723e1b": {
      "model_module": "@jupyter-widgets/controls",
      "model_module_version": "1.4.0",
      "model_name": "DescriptionStyleModel",
      "state": {
       "description_width": ""
      }
     },
     "f0541c0ebd3d43d4be332991b446dfd1": {
      "model_module": "@jupyter-widgets/controls",
      "model_module_version": "1.4.0",
      "model_name": "DescriptionStyleModel",
      "state": {
       "description_width": ""
      }
     },
     "f08b9dbc20ab4142abf76c9995a478dc": {
      "model_module": "@jupyter-widgets/controls",
      "model_module_version": "1.4.0",
      "model_name": "HTMLModel",
      "state": {
       "layout": "IPY_MODEL_03e1350e27f54edab336cb07e1e117a9",
       "style": "IPY_MODEL_895b9b7a233045baa67ee880a940063f",
       "value": "100% 17/17 [00:04&lt;00:00,  3.73it/s]"
      }
     },
     "f0ca6ea031b341efb38b0997ecbe8a7d": {
      "model_module": "@jupyter-widgets/controls",
      "model_module_version": "1.4.0",
      "model_name": "HTMLModel",
      "state": {
       "layout": "IPY_MODEL_7899ef1165384c769ab4a796538cb2dd",
       "style": "IPY_MODEL_442eaf38644b4628b1473b0855a243c9",
       "value": "100% 17/17 [00:08&lt;00:00,  1.97it/s]"
      }
     },
     "f0d15914eaa04aeaa1b941fb39d28973": {
      "model_module": "@jupyter-widgets/controls",
      "model_module_version": "1.4.0",
      "model_name": "ProgressStyleModel",
      "state": {
       "description_width": ""
      }
     },
     "f0ed8b6a85bc4e13be4669dc80612c22": {
      "model_module": "@jupyter-widgets/base",
      "model_module_version": "1.1.0",
      "model_name": "LayoutModel",
      "state": {}
     },
     "f11647acc8a04302b0c547152d9bffb3": {
      "model_module": "@jupyter-widgets/base",
      "model_module_version": "1.1.0",
      "model_name": "LayoutModel",
      "state": {}
     },
     "f13cca84365e49d790a447c29afaaa94": {
      "model_module": "@jupyter-widgets/controls",
      "model_module_version": "1.4.0",
      "model_name": "ProgressStyleModel",
      "state": {
       "description_width": ""
      }
     },
     "f13e524291134b1f83b3bb2fe707f177": {
      "model_module": "@jupyter-widgets/controls",
      "model_module_version": "1.4.0",
      "model_name": "ProgressStyleModel",
      "state": {
       "description_width": ""
      }
     },
     "f140617fc1d74ade82afa659776b1de0": {
      "model_module": "@jupyter-widgets/controls",
      "model_module_version": "1.4.0",
      "model_name": "DescriptionStyleModel",
      "state": {
       "description_width": ""
      }
     },
     "f14776f2912c4039a6d347456cc93e3c": {
      "model_module": "@jupyter-widgets/controls",
      "model_module_version": "1.4.0",
      "model_name": "HTMLModel",
      "state": {
       "layout": "IPY_MODEL_627850dbd8844e65aebd0955e73115e6",
       "style": "IPY_MODEL_554fd3c772a7418e929a4fe4dd3ed34c",
       "value": " 27% 21/78 [00:00&lt;00:00, 196.63it/s]"
      }
     },
     "f19c16f98d094123804038ef94f8e07b": {
      "model_module": "@jupyter-widgets/controls",
      "model_module_version": "1.4.0",
      "model_name": "IntProgressModel",
      "state": {
       "layout": "IPY_MODEL_57b67c2766fb453497a0a56b6f9571fc",
       "max": 78,
       "style": "IPY_MODEL_2fa830c7a85a4b128a50e0ed650d0372",
       "value": 78
      }
     },
     "f19d886b53f64ca3a5241762e3a79f9f": {
      "model_module": "@jupyter-widgets/controls",
      "model_module_version": "1.4.0",
      "model_name": "DescriptionStyleModel",
      "state": {
       "description_width": ""
      }
     },
     "f1a44d9d8a0b4166a9de66ebf97584be": {
      "model_module": "@jupyter-widgets/base",
      "model_module_version": "1.1.0",
      "model_name": "LayoutModel",
      "state": {}
     },
     "f1bbd13514bb453785cc61e94d461f1e": {
      "model_module": "@jupyter-widgets/base",
      "model_module_version": "1.1.0",
      "model_name": "LayoutModel",
      "state": {}
     },
     "f1ca7f95549d46489fb78f6b61673746": {
      "model_module": "@jupyter-widgets/controls",
      "model_module_version": "1.4.0",
      "model_name": "DescriptionStyleModel",
      "state": {
       "description_width": ""
      }
     },
     "f1e20b36fa294847a3ba761408d444a1": {
      "model_module": "@jupyter-widgets/controls",
      "model_module_version": "1.4.0",
      "model_name": "ProgressStyleModel",
      "state": {
       "description_width": ""
      }
     },
     "f229bab8ddd94a6bb971a0218c371981": {
      "model_module": "@jupyter-widgets/base",
      "model_module_version": "1.1.0",
      "model_name": "LayoutModel",
      "state": {}
     },
     "f26873182a6347728d498ffafcb2d807": {
      "model_module": "@jupyter-widgets/base",
      "model_module_version": "1.1.0",
      "model_name": "LayoutModel",
      "state": {}
     },
     "f2735be2d52047b193d20eda723420c8": {
      "model_module": "@jupyter-widgets/controls",
      "model_module_version": "1.4.0",
      "model_name": "HTMLModel",
      "state": {
       "layout": "IPY_MODEL_02579921ee3b41cd89e9d13360439f4f",
       "style": "IPY_MODEL_32f48f62f72d4521abbbd7e51d7acd9d",
       "value": "  0% 0/78 [00:00&lt;?, ?it/s]"
      }
     },
     "f2815c8714ce4993b4e80578685a53ac": {
      "model_module": "@jupyter-widgets/base",
      "model_module_version": "1.1.0",
      "model_name": "LayoutModel",
      "state": {}
     },
     "f281fd33935748f18da0824822739289": {
      "model_module": "@jupyter-widgets/controls",
      "model_module_version": "1.4.0",
      "model_name": "HTMLModel",
      "state": {
       "layout": "IPY_MODEL_c72989eaeec444acb9a8b178cbb69bd2",
       "style": "IPY_MODEL_d8c77d05d28a4eaaaf5ca596fa0f2864",
       "value": "100% 17/17 [00:05&lt;00:00,  3.07it/s]"
      }
     },
     "f28b86fcfe184aaea35358fb6b61a5da": {
      "model_module": "@jupyter-widgets/controls",
      "model_module_version": "1.4.0",
      "model_name": "ProgressStyleModel",
      "state": {
       "description_width": ""
      }
     },
     "f2904716a750436fb64534c1d0b8e9f2": {
      "model_module": "@jupyter-widgets/base",
      "model_module_version": "1.1.0",
      "model_name": "LayoutModel",
      "state": {}
     },
     "f2e16287325c4b76ab8e127862e4379f": {
      "model_module": "@jupyter-widgets/controls",
      "model_module_version": "1.4.0",
      "model_name": "IntProgressModel",
      "state": {
       "layout": "IPY_MODEL_a569fc408de34cf29a1e78bfee5be2d8",
       "max": 78,
       "style": "IPY_MODEL_db4fc0460b0c4df1a715f03fafe0f358",
       "value": 63
      }
     },
     "f2f196324ff342c392315691fea618cc": {
      "model_module": "@jupyter-widgets/controls",
      "model_module_version": "1.4.0",
      "model_name": "ProgressStyleModel",
      "state": {
       "description_width": ""
      }
     },
     "f305c8c31d5b49a698370b9592da713c": {
      "model_module": "@jupyter-widgets/controls",
      "model_module_version": "1.4.0",
      "model_name": "ProgressStyleModel",
      "state": {
       "description_width": ""
      }
     },
     "f32a1dd51bd44c5db8756ee4b337cfbf": {
      "model_module": "@jupyter-widgets/controls",
      "model_module_version": "1.4.0",
      "model_name": "IntProgressModel",
      "state": {
       "layout": "IPY_MODEL_0d71f86a1d5f4f5690357692d2b70400",
       "max": 78,
       "style": "IPY_MODEL_231f145d286f4b4abbdb3a708ccf1986",
       "value": 63
      }
     },
     "f368abfdc38743c8bf009105c6c431af": {
      "model_module": "@jupyter-widgets/base",
      "model_module_version": "1.1.0",
      "model_name": "LayoutModel",
      "state": {}
     },
     "f3818af0c742442a869f8cb034d683f7": {
      "model_module": "@jupyter-widgets/controls",
      "model_module_version": "1.4.0",
      "model_name": "HTMLModel",
      "state": {
       "layout": "IPY_MODEL_4fb36ec1c1a346169ea4711dd221cd78",
       "style": "IPY_MODEL_428ccb937a384a8b99f3c4a55153eea9",
       "value": " 95% 74/78 [00:00&lt;00:00, 366.61it/s]"
      }
     },
     "f38a2f1df3fd4725bf38188f1c136b5f": {
      "model_module": "@jupyter-widgets/base",
      "model_module_version": "1.1.0",
      "model_name": "LayoutModel",
      "state": {}
     },
     "f38d37d1efa0417cbdbee22b67ca7435": {
      "model_module": "@jupyter-widgets/base",
      "model_module_version": "1.1.0",
      "model_name": "LayoutModel",
      "state": {}
     },
     "f3bb5e4370bb46188eac39a8ee1f6bd8": {
      "model_module": "@jupyter-widgets/base",
      "model_module_version": "1.1.0",
      "model_name": "LayoutModel",
      "state": {}
     },
     "f408040db48f4e23a83b6497d2fba7c3": {
      "model_module": "@jupyter-widgets/base",
      "model_module_version": "1.1.0",
      "model_name": "LayoutModel",
      "state": {}
     },
     "f425c48b6150416b88db6b8ed6aa92e3": {
      "model_module": "@jupyter-widgets/base",
      "model_module_version": "1.1.0",
      "model_name": "LayoutModel",
      "state": {}
     },
     "f42b7eb8623e436087c8bc2c18e4dc17": {
      "model_module": "@jupyter-widgets/base",
      "model_module_version": "1.1.0",
      "model_name": "LayoutModel",
      "state": {}
     },
     "f43f2ea18a7043a1a003a75a188dcc9f": {
      "model_module": "@jupyter-widgets/base",
      "model_module_version": "1.1.0",
      "model_name": "LayoutModel",
      "state": {}
     },
     "f446f8340a3f4e4ea5acdb86fbde8c72": {
      "model_module": "@jupyter-widgets/controls",
      "model_module_version": "1.4.0",
      "model_name": "ProgressStyleModel",
      "state": {
       "description_width": ""
      }
     },
     "f448b5da8c9246f49ef4508ccc66ce59": {
      "model_module": "@jupyter-widgets/controls",
      "model_module_version": "1.4.0",
      "model_name": "IntProgressModel",
      "state": {
       "layout": "IPY_MODEL_22ff96ed8ec24711b61fd50d1e593270",
       "max": 78,
       "style": "IPY_MODEL_bcd317f89cb54d95ab82bc9213409613",
       "value": 59
      }
     },
     "f4560ab62e9945ea89050069eabec086": {
      "model_module": "@jupyter-widgets/base",
      "model_module_version": "1.1.0",
      "model_name": "LayoutModel",
      "state": {}
     },
     "f456563835d14b45a0b645758bf3c48d": {
      "model_module": "@jupyter-widgets/controls",
      "model_module_version": "1.4.0",
      "model_name": "DescriptionStyleModel",
      "state": {
       "description_width": ""
      }
     },
     "f4732624db264c9fb50daeaa48c80a16": {
      "model_module": "@jupyter-widgets/controls",
      "model_module_version": "1.4.0",
      "model_name": "HTMLModel",
      "state": {
       "layout": "IPY_MODEL_6f7e72a27b7644c7873252d2de6cfb2b",
       "style": "IPY_MODEL_c3f3166033d441db8126dc735f8ed59a",
       "value": "100% 78/78 [00:00&lt;00:00, 174.34it/s]"
      }
     },
     "f4857de7f97548b8adb641847c48e4be": {
      "model_module": "@jupyter-widgets/controls",
      "model_module_version": "1.4.0",
      "model_name": "ProgressStyleModel",
      "state": {
       "description_width": ""
      }
     },
     "f4af103273fe449da8733779892d00c7": {
      "model_module": "@jupyter-widgets/controls",
      "model_module_version": "1.4.0",
      "model_name": "ProgressStyleModel",
      "state": {
       "description_width": ""
      }
     },
     "f4b20bada450455db41fdf339e3aad13": {
      "model_module": "@jupyter-widgets/controls",
      "model_module_version": "1.4.0",
      "model_name": "HTMLModel",
      "state": {
       "layout": "IPY_MODEL_613430374720430380a0d650b63b0afe",
       "style": "IPY_MODEL_90b2d10ba5ec4730b658194d383575b1",
       "value": "100% 17/17 [00:11&lt;00:00,  1.42it/s]"
      }
     },
     "f4b6c3c4db8b4747967b0ebcb0bfc13b": {
      "model_module": "@jupyter-widgets/controls",
      "model_module_version": "1.4.0",
      "model_name": "IntProgressModel",
      "state": {
       "layout": "IPY_MODEL_66882d6e5b2c4dc08f501f27a0cff85e",
       "max": 78,
       "style": "IPY_MODEL_93e7ff0f5b81466f917442a9df79094b",
       "value": 72
      }
     },
     "f4b774d2b33246309ed306f47a208da9": {
      "model_module": "@jupyter-widgets/controls",
      "model_module_version": "1.4.0",
      "model_name": "IntProgressModel",
      "state": {
       "layout": "IPY_MODEL_56b57e6a4c9946f2b2b6e86399675f03",
       "max": 78,
       "style": "IPY_MODEL_f4857de7f97548b8adb641847c48e4be",
       "value": 11
      }
     },
     "f4dee73582ee436d94c029de5205f84a": {
      "model_module": "@jupyter-widgets/controls",
      "model_module_version": "1.4.0",
      "model_name": "ProgressStyleModel",
      "state": {
       "description_width": ""
      }
     },
     "f4ee9135108a4f249b3fe636ac8e26bf": {
      "model_module": "@jupyter-widgets/controls",
      "model_module_version": "1.4.0",
      "model_name": "HTMLModel",
      "state": {
       "layout": "IPY_MODEL_1324b641c57f4d83851bc35ab7245e45",
       "style": "IPY_MODEL_68cf83f6797840b48a13218e0e475a4b",
       "value": "100% 17/17 [00:04&lt;00:00,  3.81it/s]"
      }
     },
     "f4f1c80c922d44a1b08d8a22f3ff34f2": {
      "model_module": "@jupyter-widgets/base",
      "model_module_version": "1.1.0",
      "model_name": "LayoutModel",
      "state": {}
     },
     "f50c16e0531940319ef82754606ae2b4": {
      "model_module": "@jupyter-widgets/controls",
      "model_module_version": "1.4.0",
      "model_name": "DescriptionStyleModel",
      "state": {
       "description_width": ""
      }
     },
     "f5249ad6539b45429639675eaf8e8f19": {
      "model_module": "@jupyter-widgets/controls",
      "model_module_version": "1.4.0",
      "model_name": "DescriptionStyleModel",
      "state": {
       "description_width": ""
      }
     },
     "f53612db2c42490986ff5ab3eef14637": {
      "model_module": "@jupyter-widgets/controls",
      "model_module_version": "1.4.0",
      "model_name": "HTMLModel",
      "state": {
       "layout": "IPY_MODEL_0c5c29794a774e6bb85ebf83197bda9e",
       "style": "IPY_MODEL_6f9d44b960a64735bf721f2a1125663e",
       "value": " 90% 70/78 [00:00&lt;00:00, 692.02it/s]"
      }
     },
     "f53bd6d6943d423f896c379ac28561f3": {
      "model_module": "@jupyter-widgets/base",
      "model_module_version": "1.1.0",
      "model_name": "LayoutModel",
      "state": {}
     },
     "f54cd4018f91472fa58167d0245dbacb": {
      "model_module": "@jupyter-widgets/base",
      "model_module_version": "1.1.0",
      "model_name": "LayoutModel",
      "state": {}
     },
     "f57df83ad2714ea694ff6a314636d33f": {
      "model_module": "@jupyter-widgets/base",
      "model_module_version": "1.1.0",
      "model_name": "LayoutModel",
      "state": {}
     },
     "f5a080ec3ab643ecb857cbc5d7325cbd": {
      "model_module": "@jupyter-widgets/base",
      "model_module_version": "1.1.0",
      "model_name": "LayoutModel",
      "state": {}
     },
     "f5df459ed51b457bb7a12f0a185f67c1": {
      "model_module": "@jupyter-widgets/controls",
      "model_module_version": "1.4.0",
      "model_name": "ProgressStyleModel",
      "state": {
       "description_width": ""
      }
     },
     "f5e4dad880b943cb90375bfa4d563f4f": {
      "model_module": "@jupyter-widgets/base",
      "model_module_version": "1.1.0",
      "model_name": "LayoutModel",
      "state": {}
     },
     "f6054b5e051946a08614fd2bd67522f9": {
      "model_module": "@jupyter-widgets/controls",
      "model_module_version": "1.4.0",
      "model_name": "HTMLModel",
      "state": {
       "layout": "IPY_MODEL_a2e8eafffcb84addb0e160173e63301e",
       "style": "IPY_MODEL_7c3004122a9743259055d8fc85f3eeb0",
       "value": " 47% 37/78 [00:00&lt;00:00, 183.92it/s]"
      }
     },
     "f63b10772c704a679e55669b15782914": {
      "model_module": "@jupyter-widgets/controls",
      "model_module_version": "1.4.0",
      "model_name": "IntProgressModel",
      "state": {
       "layout": "IPY_MODEL_dda669046133418e9997a6b7da63dbb4",
       "max": 17,
       "style": "IPY_MODEL_6f83b6daafd74087853745c12dc0c5a1",
       "value": 17
      }
     },
     "f6568dbfe38f4d058033ff121228eb84": {
      "model_module": "@jupyter-widgets/base",
      "model_module_version": "1.1.0",
      "model_name": "LayoutModel",
      "state": {}
     },
     "f661f7fc4a344103b0e272a0916deccd": {
      "model_module": "@jupyter-widgets/controls",
      "model_module_version": "1.4.0",
      "model_name": "DescriptionStyleModel",
      "state": {
       "description_width": ""
      }
     },
     "f6a689d1499e4613859dffc0a8a6e202": {
      "model_module": "@jupyter-widgets/base",
      "model_module_version": "1.1.0",
      "model_name": "LayoutModel",
      "state": {}
     },
     "f6c3c0725ed4490fab948b7ab0384972": {
      "model_module": "@jupyter-widgets/controls",
      "model_module_version": "1.4.0",
      "model_name": "IntProgressModel",
      "state": {
       "layout": "IPY_MODEL_1d6467cf7778455eafe2b7522bbb5450",
       "max": 17,
       "style": "IPY_MODEL_6905653369db4ea0a4a4a928455cebe5",
       "value": 17
      }
     },
     "f6d2a5712447403ca61f86ed5a926f2c": {
      "model_module": "@jupyter-widgets/base",
      "model_module_version": "1.1.0",
      "model_name": "LayoutModel",
      "state": {}
     },
     "f6d4e5b0a2d646739eea735d3e4cedfa": {
      "model_module": "@jupyter-widgets/base",
      "model_module_version": "1.1.0",
      "model_name": "LayoutModel",
      "state": {}
     },
     "f7270707cb3248d1ba26be44c4dde56b": {
      "model_module": "@jupyter-widgets/base",
      "model_module_version": "1.1.0",
      "model_name": "LayoutModel",
      "state": {}
     },
     "f7502e2bf0eb4dec9811669254f0e99c": {
      "model_module": "@jupyter-widgets/controls",
      "model_module_version": "1.4.0",
      "model_name": "HTMLModel",
      "state": {
       "layout": "IPY_MODEL_5dd1d08fb6cf45e7b04b471896edb90a",
       "style": "IPY_MODEL_fd0c68aa378e401ca8c768ae85a19b26",
       "value": "100% 17/17 [00:04&lt;00:00,  3.68it/s]"
      }
     },
     "f768e0576d894f3cbacd4b9c40e1623c": {
      "model_module": "@jupyter-widgets/controls",
      "model_module_version": "1.4.0",
      "model_name": "ProgressStyleModel",
      "state": {
       "description_width": ""
      }
     },
     "f76e4bb91ea5416081218d0da4d6e08c": {
      "model_module": "@jupyter-widgets/base",
      "model_module_version": "1.1.0",
      "model_name": "LayoutModel",
      "state": {}
     },
     "f77c573c5ed947bb9f06d142e26c0765": {
      "model_module": "@jupyter-widgets/base",
      "model_module_version": "1.1.0",
      "model_name": "LayoutModel",
      "state": {}
     },
     "f78083382f0d406dbdb7a29273456c63": {
      "model_module": "@jupyter-widgets/controls",
      "model_module_version": "1.4.0",
      "model_name": "ProgressStyleModel",
      "state": {
       "description_width": ""
      }
     },
     "f7810a09eafc454d93bb9f8cfe56d589": {
      "model_module": "@jupyter-widgets/controls",
      "model_module_version": "1.4.0",
      "model_name": "IntProgressModel",
      "state": {
       "layout": "IPY_MODEL_03db3650664e4b21ad7066091a4c4281",
       "max": 17,
       "style": "IPY_MODEL_06c07b9b15144c8597773dd0e6042e57",
       "value": 17
      }
     },
     "f783d32c13d24c2cbc8c25462467b653": {
      "model_module": "@jupyter-widgets/base",
      "model_module_version": "1.1.0",
      "model_name": "LayoutModel",
      "state": {}
     },
     "f7875add115d4d8cb2b70276fca3360d": {
      "model_module": "@jupyter-widgets/controls",
      "model_module_version": "1.4.0",
      "model_name": "DescriptionStyleModel",
      "state": {
       "description_width": ""
      }
     },
     "f789d34b3250431f932f71566bb9cfa0": {
      "model_module": "@jupyter-widgets/base",
      "model_module_version": "1.1.0",
      "model_name": "LayoutModel",
      "state": {}
     },
     "f7d9a4b872ec4b3a974184cba8c2b6cd": {
      "model_module": "@jupyter-widgets/controls",
      "model_module_version": "1.4.0",
      "model_name": "DescriptionStyleModel",
      "state": {
       "description_width": ""
      }
     },
     "f7edcef1b77946b5bbcc6c0f6497c3c4": {
      "model_module": "@jupyter-widgets/base",
      "model_module_version": "1.1.0",
      "model_name": "LayoutModel",
      "state": {}
     },
     "f831baac4caa4c2882688ed6fdb785f7": {
      "model_module": "@jupyter-widgets/controls",
      "model_module_version": "1.4.0",
      "model_name": "ProgressStyleModel",
      "state": {
       "description_width": ""
      }
     },
     "f832cbf8ac4a4b1582ce5037c49763c1": {
      "model_module": "@jupyter-widgets/controls",
      "model_module_version": "1.4.0",
      "model_name": "HTMLModel",
      "state": {
       "layout": "IPY_MODEL_f77c573c5ed947bb9f06d142e26c0765",
       "style": "IPY_MODEL_611a9c0b7bf747ba9c35762a62b95d37",
       "value": " 74% 58/78 [00:00&lt;00:00, 280.98it/s]"
      }
     },
     "f850d49de25b49f385115b90b1d1782b": {
      "model_module": "@jupyter-widgets/base",
      "model_module_version": "1.1.0",
      "model_name": "LayoutModel",
      "state": {}
     },
     "f88c8f9687fd4a879d4ce13a2011463c": {
      "model_module": "@jupyter-widgets/controls",
      "model_module_version": "1.4.0",
      "model_name": "ProgressStyleModel",
      "state": {
       "description_width": ""
      }
     },
     "f8bbf34e9228485db35d06635f5b44e2": {
      "model_module": "@jupyter-widgets/controls",
      "model_module_version": "1.4.0",
      "model_name": "IntProgressModel",
      "state": {
       "layout": "IPY_MODEL_b6c4feee88bd4b5cbdae0bd333b4cc21",
       "max": 78,
       "style": "IPY_MODEL_3a335e0c30a14922b1626231c91e5f03",
       "value": 73
      }
     },
     "f8ca0e9f4b0a4578bff945becc0c027c": {
      "model_module": "@jupyter-widgets/controls",
      "model_module_version": "1.4.0",
      "model_name": "ProgressStyleModel",
      "state": {
       "description_width": ""
      }
     },
     "f8ec83811fa2427cb13947d834e9661c": {
      "model_module": "@jupyter-widgets/base",
      "model_module_version": "1.1.0",
      "model_name": "LayoutModel",
      "state": {}
     },
     "f906c3a53f3c4f7ebd1f963d5c88fc2e": {
      "model_module": "@jupyter-widgets/controls",
      "model_module_version": "1.4.0",
      "model_name": "IntProgressModel",
      "state": {
       "layout": "IPY_MODEL_33d80392a06341ecacb5e9b0f476e164",
       "max": 17,
       "style": "IPY_MODEL_0e7ffd1191604ed3bf79f86c261f00f1",
       "value": 17
      }
     },
     "f91cfcef90554419ba723df54f32fb69": {
      "model_module": "@jupyter-widgets/controls",
      "model_module_version": "1.4.0",
      "model_name": "ProgressStyleModel",
      "state": {
       "description_width": ""
      }
     },
     "f9236d0dff064ecda9b3383d4a6cd97a": {
      "model_module": "@jupyter-widgets/controls",
      "model_module_version": "1.4.0",
      "model_name": "IntProgressModel",
      "state": {
       "layout": "IPY_MODEL_1ba0b64ea1b2408bbc2359f4f8a46acb",
       "max": 78,
       "style": "IPY_MODEL_d76869a439704fae84b3550d60a684eb",
       "value": 67
      }
     },
     "f94fb643eb184637a99166b8676ed2c0": {
      "model_module": "@jupyter-widgets/base",
      "model_module_version": "1.1.0",
      "model_name": "LayoutModel",
      "state": {}
     },
     "f95ff51f072846baa749e60895a95abd": {
      "model_module": "@jupyter-widgets/controls",
      "model_module_version": "1.4.0",
      "model_name": "ProgressStyleModel",
      "state": {
       "description_width": ""
      }
     },
     "f982ca1aaaf44aa58540d60699b0d980": {
      "model_module": "@jupyter-widgets/controls",
      "model_module_version": "1.4.0",
      "model_name": "HTMLModel",
      "state": {
       "layout": "IPY_MODEL_830adeb07d4e40049a879b7e1a2ca1f4",
       "style": "IPY_MODEL_aa4367edef914e5e9c58b604f3b97096",
       "value": " 85% 66/78 [00:00&lt;00:00, 323.43it/s]"
      }
     },
     "f987e8883d424b6c981675e1c36e83f7": {
      "model_module": "@jupyter-widgets/controls",
      "model_module_version": "1.4.0",
      "model_name": "IntProgressModel",
      "state": {
       "layout": "IPY_MODEL_79e17bed4074439083b958ef181c6852",
       "max": 78,
       "style": "IPY_MODEL_cc2009ccae494855a4ab610715b1a0d1",
       "value": 64
      }
     },
     "f98b11caa2604c2eb92e9fa592fd4d08": {
      "model_module": "@jupyter-widgets/controls",
      "model_module_version": "1.4.0",
      "model_name": "IntProgressModel",
      "state": {
       "layout": "IPY_MODEL_b53583b5c6724ae1a44f08749dd668b8",
       "max": 78,
       "style": "IPY_MODEL_41ada44adae64c2ba06d1bc6c42b89c2",
       "value": 27
      }
     },
     "f9faa2550ab8400baa3802d7d5ff173b": {
      "model_module": "@jupyter-widgets/base",
      "model_module_version": "1.1.0",
      "model_name": "LayoutModel",
      "state": {}
     },
     "fa01a8f58d1244939dae0c9051bab7ee": {
      "model_module": "@jupyter-widgets/controls",
      "model_module_version": "1.4.0",
      "model_name": "DescriptionStyleModel",
      "state": {
       "description_width": ""
      }
     },
     "fa562648d22f4c3f8ac4b269bc0c9fec": {
      "model_module": "@jupyter-widgets/base",
      "model_module_version": "1.1.0",
      "model_name": "LayoutModel",
      "state": {}
     },
     "fa6e28fa81484fb2b5576330815e2210": {
      "model_module": "@jupyter-widgets/base",
      "model_module_version": "1.1.0",
      "model_name": "LayoutModel",
      "state": {}
     },
     "fa86304e07774374a9dc31745bb02625": {
      "model_module": "@jupyter-widgets/base",
      "model_module_version": "1.1.0",
      "model_name": "LayoutModel",
      "state": {}
     },
     "fa9296a708474fdaaddeed272f3dc3ca": {
      "model_module": "@jupyter-widgets/base",
      "model_module_version": "1.1.0",
      "model_name": "LayoutModel",
      "state": {}
     },
     "fab7453b904c40b795d6be0261273216": {
      "model_module": "@jupyter-widgets/controls",
      "model_module_version": "1.4.0",
      "model_name": "ProgressStyleModel",
      "state": {
       "description_width": ""
      }
     },
     "fac6bc57a54f4c1795a899aa70550d8f": {
      "model_module": "@jupyter-widgets/controls",
      "model_module_version": "1.4.0",
      "model_name": "IntProgressModel",
      "state": {
       "layout": "IPY_MODEL_ffec1f90605444f5a85238f183b436e4",
       "max": 78,
       "style": "IPY_MODEL_8ce745a2e4a4486782e2b7ae7df3e610",
       "value": 9
      }
     },
     "fad4305b8d0644c28db299012c4ba94a": {
      "model_module": "@jupyter-widgets/base",
      "model_module_version": "1.1.0",
      "model_name": "LayoutModel",
      "state": {}
     },
     "fad58a921adf443e9a1b3f9d859a3548": {
      "model_module": "@jupyter-widgets/controls",
      "model_module_version": "1.4.0",
      "model_name": "HTMLModel",
      "state": {
       "layout": "IPY_MODEL_300151d2090c4f4080d765e43cbee382",
       "style": "IPY_MODEL_8008323f5fe94f64a7159025040a12d4",
       "value": "100% 17/17 [00:05&lt;00:00,  3.26it/s]"
      }
     },
     "fadca56c1fc8464bb4767df56d556e5f": {
      "model_module": "@jupyter-widgets/controls",
      "model_module_version": "1.4.0",
      "model_name": "IntProgressModel",
      "state": {
       "layout": "IPY_MODEL_a20244bbb7c345a1871fe91584d34e4d",
       "max": 78,
       "style": "IPY_MODEL_95523526fd4f45609fe57403ea76b453",
       "value": 46
      }
     },
     "fb341b0ad7c6448ba6a10397d80d672a": {
      "model_module": "@jupyter-widgets/base",
      "model_module_version": "1.1.0",
      "model_name": "LayoutModel",
      "state": {}
     },
     "fb37cf5e1e66439b9206d19326424ed2": {
      "model_module": "@jupyter-widgets/controls",
      "model_module_version": "1.4.0",
      "model_name": "ProgressStyleModel",
      "state": {
       "description_width": ""
      }
     },
     "fb39e8f69b1b47289284751982b06124": {
      "model_module": "@jupyter-widgets/controls",
      "model_module_version": "1.4.0",
      "model_name": "DescriptionStyleModel",
      "state": {
       "description_width": ""
      }
     },
     "fb72a68855084ac38a5ef7a4b1b9674b": {
      "model_module": "@jupyter-widgets/base",
      "model_module_version": "1.1.0",
      "model_name": "LayoutModel",
      "state": {}
     },
     "fbc895bdd9934228803e09b6839b337a": {
      "model_module": "@jupyter-widgets/controls",
      "model_module_version": "1.4.0",
      "model_name": "IntProgressModel",
      "state": {
       "layout": "IPY_MODEL_8bd47de71202439890fed614fe987252",
       "max": 78,
       "style": "IPY_MODEL_1a5bd2438c3b40cd800f4a637d2ddde0",
       "value": 14
      }
     },
     "fbe0275a74ef43cd97635d4ef379465f": {
      "model_module": "@jupyter-widgets/base",
      "model_module_version": "1.1.0",
      "model_name": "LayoutModel",
      "state": {}
     },
     "fbed393eda024b5eb9d6bf6ab4c3efa2": {
      "model_module": "@jupyter-widgets/controls",
      "model_module_version": "1.4.0",
      "model_name": "ProgressStyleModel",
      "state": {
       "description_width": ""
      }
     },
     "fbf138f35daa49b394b2ed4fb456c672": {
      "model_module": "@jupyter-widgets/base",
      "model_module_version": "1.1.0",
      "model_name": "LayoutModel",
      "state": {}
     },
     "fc0ff38ec737434b8e22df8b38c59abe": {
      "model_module": "@jupyter-widgets/controls",
      "model_module_version": "1.4.0",
      "model_name": "HTMLModel",
      "state": {
       "layout": "IPY_MODEL_e1078862e8294d2093e88ce0cf9f1a50",
       "style": "IPY_MODEL_b1ec6e49d0794bba837307498fdbd34e",
       "value": "100% 17/17 [00:04&lt;00:00,  3.62it/s]"
      }
     },
     "fc1f7020f0634168a0c303c76a4083bb": {
      "model_module": "@jupyter-widgets/controls",
      "model_module_version": "1.4.0",
      "model_name": "ProgressStyleModel",
      "state": {
       "description_width": ""
      }
     },
     "fc3e8833cd14404a9ded9c632a012a4d": {
      "model_module": "@jupyter-widgets/controls",
      "model_module_version": "1.4.0",
      "model_name": "IntProgressModel",
      "state": {
       "layout": "IPY_MODEL_bc9eb603c8984566ae8200f9cb847102",
       "max": 17,
       "style": "IPY_MODEL_fe88460e318f41a1a406ac6ea3f1530f",
       "value": 17
      }
     },
     "fc5065eee71e4a5393ed68340e8f791e": {
      "model_module": "@jupyter-widgets/base",
      "model_module_version": "1.1.0",
      "model_name": "LayoutModel",
      "state": {}
     },
     "fc81792cda3447b6aab388ad488d21ef": {
      "model_module": "@jupyter-widgets/controls",
      "model_module_version": "1.4.0",
      "model_name": "IntProgressModel",
      "state": {
       "layout": "IPY_MODEL_beb43fb2f09149f884b814a8e73e0aa9",
       "max": 17,
       "style": "IPY_MODEL_e4c86e34113c4b218ae2e8130086be9e",
       "value": 17
      }
     },
     "fc860439ec0046448aa7bf583ae9b305": {
      "model_module": "@jupyter-widgets/base",
      "model_module_version": "1.1.0",
      "model_name": "LayoutModel",
      "state": {}
     },
     "fc902d11fb7645219589d0f8d78c07a9": {
      "model_module": "@jupyter-widgets/base",
      "model_module_version": "1.1.0",
      "model_name": "LayoutModel",
      "state": {}
     },
     "fc96987eaa3f46ba840e0c21fc816044": {
      "model_module": "@jupyter-widgets/base",
      "model_module_version": "1.1.0",
      "model_name": "LayoutModel",
      "state": {}
     },
     "fcafb9b6eb5542c49a4d8b12d77f2539": {
      "model_module": "@jupyter-widgets/base",
      "model_module_version": "1.1.0",
      "model_name": "LayoutModel",
      "state": {}
     },
     "fcf244fa6ff647b990fc21092eee62c2": {
      "model_module": "@jupyter-widgets/base",
      "model_module_version": "1.1.0",
      "model_name": "LayoutModel",
      "state": {}
     },
     "fd0c68aa378e401ca8c768ae85a19b26": {
      "model_module": "@jupyter-widgets/controls",
      "model_module_version": "1.4.0",
      "model_name": "DescriptionStyleModel",
      "state": {
       "description_width": ""
      }
     },
     "fd0dc2f63cee439d952b72a5b2491a68": {
      "model_module": "@jupyter-widgets/controls",
      "model_module_version": "1.4.0",
      "model_name": "IntProgressModel",
      "state": {
       "layout": "IPY_MODEL_782be1b5bcbc45b49c27c3947e21c098",
       "max": 78,
       "style": "IPY_MODEL_84e9380a2b7a464fbd9ba6c2c28e9b80",
       "value": 22
      }
     },
     "fd12f55906624d8a9db2c3ca824d2b7e": {
      "model_module": "@jupyter-widgets/controls",
      "model_module_version": "1.4.0",
      "model_name": "DescriptionStyleModel",
      "state": {
       "description_width": ""
      }
     },
     "fd1f2fa247ca4a88acb2dd4c4a924b85": {
      "model_module": "@jupyter-widgets/controls",
      "model_module_version": "1.4.0",
      "model_name": "IntProgressModel",
      "state": {
       "layout": "IPY_MODEL_47c0c62f49b74d67a05fa158461b610c",
       "max": 17,
       "style": "IPY_MODEL_0a18990d4f9b498290bc65048289dbeb",
       "value": 17
      }
     },
     "fd2230aa9d9f462d9bf47ee509e9fe00": {
      "model_module": "@jupyter-widgets/controls",
      "model_module_version": "1.4.0",
      "model_name": "IntProgressModel",
      "state": {
       "layout": "IPY_MODEL_9b87f5c30b4c4aaaab77662c83674c78",
       "max": 17,
       "style": "IPY_MODEL_34b6e904211e4c40befc0f8cfce05e2b",
       "value": 17
      }
     },
     "fd34642904b642c590a2ab8237119d61": {
      "model_module": "@jupyter-widgets/base",
      "model_module_version": "1.1.0",
      "model_name": "LayoutModel",
      "state": {}
     },
     "fd9467c0a7b441dfafb5be4d2055f14a": {
      "model_module": "@jupyter-widgets/controls",
      "model_module_version": "1.4.0",
      "model_name": "IntProgressModel",
      "state": {
       "layout": "IPY_MODEL_3333e38c01b945f2be287f63571859ac",
       "max": 78,
       "style": "IPY_MODEL_45d00116185d4a5fb03625d05eadacac",
       "value": 70
      }
     },
     "fdabac03d77b4e128435a8b7bb6856ba": {
      "model_module": "@jupyter-widgets/base",
      "model_module_version": "1.1.0",
      "model_name": "LayoutModel",
      "state": {}
     },
     "fdb522583e49467fbc67db2897961314": {
      "model_module": "@jupyter-widgets/controls",
      "model_module_version": "1.4.0",
      "model_name": "HTMLModel",
      "state": {
       "layout": "IPY_MODEL_c573f6aed9174053bfea8964a28323a4",
       "style": "IPY_MODEL_7106ff0f1ee643e4a64e3b2b76090de4",
       "value": "100% 17/17 [00:07&lt;00:00,  2.36it/s]"
      }
     },
     "fdba67c1bdf94a4aa3c34c3b557d0aa6": {
      "model_module": "@jupyter-widgets/controls",
      "model_module_version": "1.4.0",
      "model_name": "HTMLModel",
      "state": {
       "layout": "IPY_MODEL_a6584d87436744098a4c11c640d09e53",
       "style": "IPY_MODEL_a228be77740c4e3989b13b894f5d58be",
       "value": "100% 17/17 [00:07&lt;00:00,  2.30it/s]"
      }
     },
     "fdbc78b6865f45c39511c524cc04d1a3": {
      "model_module": "@jupyter-widgets/base",
      "model_module_version": "1.1.0",
      "model_name": "LayoutModel",
      "state": {}
     },
     "fdc6a7b20d494fdeae0dbc895a5c5da2": {
      "model_module": "@jupyter-widgets/controls",
      "model_module_version": "1.4.0",
      "model_name": "HTMLModel",
      "state": {
       "layout": "IPY_MODEL_862d374486964066a3bf186a227f8a8a",
       "style": "IPY_MODEL_2b989f8bd1e0427bacbca5997722c3af",
       "value": " 88% 69/78 [00:00&lt;00:00, 687.27it/s]"
      }
     },
     "fdce7f89e3b94fc094105ee2c77c1ab9": {
      "model_module": "@jupyter-widgets/controls",
      "model_module_version": "1.4.0",
      "model_name": "HTMLModel",
      "state": {
       "layout": "IPY_MODEL_a588c8550e8248b3b5316dce67f68fb6",
       "style": "IPY_MODEL_bfb43e6c795c4badb23a1be8eb83c5f6",
       "value": "100% 17/17 [00:05&lt;00:00,  3.02it/s]"
      }
     },
     "fdf446728a3b40cf91f7494a1231e2b0": {
      "model_module": "@jupyter-widgets/base",
      "model_module_version": "1.1.0",
      "model_name": "LayoutModel",
      "state": {}
     },
     "fdf611cbedaf4582a27e39638edc2cba": {
      "model_module": "@jupyter-widgets/base",
      "model_module_version": "1.1.0",
      "model_name": "LayoutModel",
      "state": {}
     },
     "fe00a1a0ab4c464ab68584f60088da23": {
      "model_module": "@jupyter-widgets/controls",
      "model_module_version": "1.4.0",
      "model_name": "IntProgressModel",
      "state": {
       "layout": "IPY_MODEL_8032e5cdf6a746828f3e05aaed182108",
       "max": 17,
       "style": "IPY_MODEL_cea86e7fa3a341cdb74b8493943243f1",
       "value": 17
      }
     },
     "fe02f7347b0b40fbbf3fbb6bfa54adf6": {
      "model_module": "@jupyter-widgets/controls",
      "model_module_version": "1.4.0",
      "model_name": "DescriptionStyleModel",
      "state": {
       "description_width": ""
      }
     },
     "fe0ff54c01634bee8229640d9afad1c9": {
      "model_module": "@jupyter-widgets/base",
      "model_module_version": "1.1.0",
      "model_name": "LayoutModel",
      "state": {}
     },
     "fe2c95f11db94d77a8062d61ced520a8": {
      "model_module": "@jupyter-widgets/controls",
      "model_module_version": "1.4.0",
      "model_name": "DescriptionStyleModel",
      "state": {
       "description_width": ""
      }
     },
     "fe686b4c681a4b23988e7dc465216029": {
      "model_module": "@jupyter-widgets/controls",
      "model_module_version": "1.4.0",
      "model_name": "HTMLModel",
      "state": {
       "layout": "IPY_MODEL_ca4c222a0c484a1196a77502c24298c3",
       "style": "IPY_MODEL_08c1a1af4d2e41d78c6fc4bf4e2579ed",
       "value": " 13% 10/78 [00:00&lt;00:00, 95.67it/s]"
      }
     },
     "fe81de2b7bc84aa08ac0a7ef29c80bfb": {
      "model_module": "@jupyter-widgets/base",
      "model_module_version": "1.1.0",
      "model_name": "LayoutModel",
      "state": {}
     },
     "fe88460e318f41a1a406ac6ea3f1530f": {
      "model_module": "@jupyter-widgets/controls",
      "model_module_version": "1.4.0",
      "model_name": "ProgressStyleModel",
      "state": {
       "description_width": ""
      }
     },
     "febb325c06af43d2a6baf3ef3f844bd1": {
      "model_module": "@jupyter-widgets/controls",
      "model_module_version": "1.4.0",
      "model_name": "DescriptionStyleModel",
      "state": {
       "description_width": ""
      }
     },
     "febeb695d65d421aa87ce9b2ece1d2ba": {
      "model_module": "@jupyter-widgets/base",
      "model_module_version": "1.1.0",
      "model_name": "LayoutModel",
      "state": {}
     },
     "fee0123de9764783b18122aa143c92df": {
      "model_module": "@jupyter-widgets/controls",
      "model_module_version": "1.4.0",
      "model_name": "HTMLModel",
      "state": {
       "layout": "IPY_MODEL_d77297d6a43e423794fed29f757e95a4",
       "style": "IPY_MODEL_bf0d5487d537481fbba4fea14b24ea70",
       "value": " 64% 50/78 [00:00&lt;00:00, 496.73it/s]"
      }
     },
     "fee698c10c064af38bb6f6c6117c2672": {
      "model_module": "@jupyter-widgets/base",
      "model_module_version": "1.1.0",
      "model_name": "LayoutModel",
      "state": {}
     },
     "feec1169c81248ab9df2b17f7690bd70": {
      "model_module": "@jupyter-widgets/base",
      "model_module_version": "1.1.0",
      "model_name": "LayoutModel",
      "state": {}
     },
     "fefedb792b974576b747a3fb6ae7435e": {
      "model_module": "@jupyter-widgets/controls",
      "model_module_version": "1.4.0",
      "model_name": "HTMLModel",
      "state": {
       "layout": "IPY_MODEL_5d41ad09f79d460d9c340fad2f04abe7",
       "style": "IPY_MODEL_6f84521eac504c4a939efeb3b3700e7f",
       "value": " 73% 57/78 [00:00&lt;00:00, 278.27it/s]"
      }
     },
     "ff1ecb1a1397417398384cf24fd88852": {
      "model_module": "@jupyter-widgets/controls",
      "model_module_version": "1.4.0",
      "model_name": "ProgressStyleModel",
      "state": {
       "description_width": ""
      }
     },
     "ff2c71a31932497898ad9393e176f862": {
      "model_module": "@jupyter-widgets/controls",
      "model_module_version": "1.4.0",
      "model_name": "ProgressStyleModel",
      "state": {
       "description_width": ""
      }
     },
     "ff64416cd4a84be1995007493ab93899": {
      "model_module": "@jupyter-widgets/base",
      "model_module_version": "1.1.0",
      "model_name": "LayoutModel",
      "state": {}
     },
     "ff713a0d336d4c8ea926fad6bae63e6f": {
      "model_module": "@jupyter-widgets/controls",
      "model_module_version": "1.4.0",
      "model_name": "ProgressStyleModel",
      "state": {
       "description_width": ""
      }
     },
     "ff8e8bc8250b4f2a82a3fcc45de19d18": {
      "model_module": "@jupyter-widgets/base",
      "model_module_version": "1.1.0",
      "model_name": "LayoutModel",
      "state": {}
     },
     "ff9703f747e347138d81f11a2d71f721": {
      "model_module": "@jupyter-widgets/base",
      "model_module_version": "1.1.0",
      "model_name": "LayoutModel",
      "state": {}
     },
     "ffb2660d2fee49509e44eb561d70ac37": {
      "model_module": "@jupyter-widgets/controls",
      "model_module_version": "1.4.0",
      "model_name": "DescriptionStyleModel",
      "state": {
       "description_width": ""
      }
     },
     "ffc9cca463ff4d25a93dd3582b0d81b8": {
      "model_module": "@jupyter-widgets/base",
      "model_module_version": "1.1.0",
      "model_name": "LayoutModel",
      "state": {}
     },
     "ffec1f90605444f5a85238f183b436e4": {
      "model_module": "@jupyter-widgets/base",
      "model_module_version": "1.1.0",
      "model_name": "LayoutModel",
      "state": {}
     },
     "fff817f55c4f470bbc45cfead69a78c1": {
      "model_module": "@jupyter-widgets/controls",
      "model_module_version": "1.4.0",
      "model_name": "DescriptionStyleModel",
      "state": {
       "description_width": ""
      }
     },
     "fff828319eeb4e4a9f0b89f085d44947": {
      "model_module": "@jupyter-widgets/controls",
      "model_module_version": "1.4.0",
      "model_name": "DescriptionStyleModel",
      "state": {
       "description_width": ""
      }
     }
    },
    "version_major": 2,
    "version_minor": 0
   }
  }
 },
 "nbformat": 4,
 "nbformat_minor": 2
}
