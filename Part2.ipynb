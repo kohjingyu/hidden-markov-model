{
 "cells": [
  {
   "cell_type": "markdown",
   "metadata": {},
   "source": [
    "# Part 2\n",
    "In this section, we write some dank functions for the HMM"
   ]
  },
  {
   "cell_type": "code",
   "execution_count": 1,
   "metadata": {},
   "outputs": [],
   "source": [
    "import numpy as np\n",
    "from tqdm import tqdm_notebook"
   ]
  },
  {
   "cell_type": "code",
   "execution_count": 2,
   "metadata": {},
   "outputs": [],
   "source": [
    "def learn_emissions(train_filename):\n",
    "    ''' Learns emissions parameters from data and returns them as a nested dictionary '''\n",
    "    with open(train_filename, \"r\") as f:\n",
    "        lines = f.readlines()\n",
    "\n",
    "#     # Keep set of all unique states and observations\n",
    "#     states = set()\n",
    "    observations = set()\n",
    "\n",
    "    # Track emission counts\n",
    "    emissions = {} # Where key is y, and value is a dictionary of emissions x from y with their frequency\n",
    "\n",
    "    # Learn from data\n",
    "    for line in lines:\n",
    "        data_split = line.strip().rsplit(' ')\n",
    "\n",
    "        # Only process valid lines\n",
    "        if len(data_split) == 2:\n",
    "            obs, state = data_split[0], data_split[1]\n",
    "\n",
    "#             states.add(state)\n",
    "            observations.add(obs)\n",
    "\n",
    "            # Track this emission\n",
    "            current_emissions = {}\n",
    "            if state in emissions:\n",
    "                current_emissions = emissions[state]\n",
    "\n",
    "            # If it exists, increment it, if not set it to 1\n",
    "            if obs in current_emissions:\n",
    "                current_emissions[obs] += 1\n",
    "            else:\n",
    "                current_emissions[obs] = 1\n",
    "\n",
    "            emissions[state] = current_emissions # Update\n",
    "    \n",
    "    emission_counts = {k: sum(emissions[k].values()) for k in emissions}\n",
    "    \n",
    "    return emissions, emission_counts, observations"
   ]
  },
  {
   "cell_type": "markdown",
   "metadata": {},
   "source": [
    "## Estimating Emission Parameters\n",
    "We make use of MLE to estimate the emission parameters based on the training data."
   ]
  },
  {
   "cell_type": "code",
   "execution_count": 3,
   "metadata": {},
   "outputs": [],
   "source": [
    "def get_emission_parameters(emissions, x, y):\n",
    "    ''' Returns the MLE of the emission parameters based on the emissions dictionary '''\n",
    "    state_data = emissions[y]\n",
    "    count_y_x = state_data[x] # Numerator\n",
    "    count_y = sum(state_data.values()) # Denominator\n",
    "    \n",
    "    e = count_y_x / count_y\n",
    "    return e"
   ]
  },
  {
   "cell_type": "markdown",
   "metadata": {},
   "source": [
    "## Estimating with Smoothing"
   ]
  },
  {
   "cell_type": "code",
   "execution_count": 4,
   "metadata": {},
   "outputs": [],
   "source": [
    "def get_emission_parameters(emissions, emission_counts, x, y, k=1):\n",
    "    ''' Returns the MLE of the emission parameters based on the emissions dictionary '''\n",
    "    state_data = emissions[y]\n",
    "    count_y = emission_counts[y] #sum(state_data.values()) # Denominator\n",
    "    \n",
    "    # If x == \"#UNK#\", it will return the following\n",
    "    count_y_x = k\n",
    "    \n",
    "    # If x exists in training, return its MLE instead\n",
    "    if x != \"#UNK#\":\n",
    "        count_y_x = state_data[x] # Numerator\n",
    "    \n",
    "    e = count_y_x / (count_y + k)\n",
    "    return e"
   ]
  },
  {
   "cell_type": "code",
   "execution_count": 5,
   "metadata": {},
   "outputs": [],
   "source": [
    "def label_sequence(sentence, emissions, emission_counts):\n",
    "    ''' Takes a list `sentence` that contains words of a sentence as strings '''\n",
    "    tags = []\n",
    "    \n",
    "    for word in sentence:\n",
    "        predicted_label = \"\"\n",
    "        max_prob = -1\n",
    "        \n",
    "        # Find y with maximum probability\n",
    "        for y in emissions:\n",
    "            \n",
    "            if word not in observations:\n",
    "                word = \"#UNK#\"\n",
    "            \n",
    "            if (word in emissions[y]) or (word == \"#UNK#\"):\n",
    "                prob = get_emission_parameters(emissions, emission_counts, word, y)\n",
    "            \n",
    "                # If this is higher than the previous highest, use this\n",
    "                if prob > max_prob:\n",
    "                    predicted_label = y\n",
    "                    max_prob = prob\n",
    "\n",
    "        # Add prediction to list\n",
    "        tags.append(predicted_label)\n",
    "    \n",
    "    return tags\n",
    "    \n",
    "# label_sequence([\"I'm\", \"a\", \"kumquat\"], emissions)"
   ]
  },
  {
   "cell_type": "markdown",
   "metadata": {},
   "source": [
    "# Training and Validation"
   ]
  },
  {
   "cell_type": "code",
   "execution_count": 6,
   "metadata": {
    "scrolled": true
   },
   "outputs": [],
   "source": [
    "# label_sequence([\"I'm\", \"a\", \"kumquat\"], emissions, emission_counts)"
   ]
  },
  {
   "cell_type": "code",
   "execution_count": 18,
   "metadata": {},
   "outputs": [],
   "source": [
    "dataset = \"FR\" # {SG, CN, EN, FR}\n",
    "train_filename = f\"data/{dataset}/train\"\n",
    "validation_filename = f\"data/{dataset}/dev.in\"\n",
    "\n",
    "# Train\n",
    "emissions, emission_counts, observations = learn_emissions(train_filename)"
   ]
  },
  {
   "cell_type": "code",
   "execution_count": 19,
   "metadata": {},
   "outputs": [
    {
     "data": {
      "application/vnd.jupyter.widget-view+json": {
       "model_id": "68c91d86d12f4753b0be26953dfd57e4",
       "version_major": 2,
       "version_minor": 0
      },
      "text/plain": [
       "HBox(children=(IntProgress(value=0, max=3700), HTML(value='')))"
      ]
     },
     "metadata": {},
     "output_type": "display_data"
    },
    {
     "name": "stdout",
     "output_type": "stream",
     "text": [
      "\n"
     ]
    }
   ],
   "source": [
    "# Test on validation set\n",
    "with open(validation_filename, \"r\") as f:\n",
    "    lines = f.readlines()\n",
    "    sentence = []\n",
    "\n",
    "result = []\n",
    "\n",
    "for word in tqdm_notebook(lines):\n",
    "    # If it's a newline, it's the end of a sentence. Predict!\n",
    "    if word == \"\\n\":\n",
    "        preds = label_sequence(sentence, emissions, emission_counts)\n",
    "        \n",
    "        # Add predictions to overall results\n",
    "        result += preds\n",
    "        result += [\"\\n\"]\n",
    "        \n",
    "        # Reset sentence list\n",
    "        sentence = []\n",
    "    else: # Sentence has not ended\n",
    "        # Add word to sentence\n",
    "        sentence.append(word.strip())"
   ]
  },
  {
   "cell_type": "code",
   "execution_count": 20,
   "metadata": {},
   "outputs": [],
   "source": [
    "# Write predictions to file\n",
    "with open(validation_filename.replace(\".in\", \".p2.out\"), \"w\") as f:\n",
    "    for i in range(len(lines)):\n",
    "        word = lines[i].strip()\n",
    "        \n",
    "        # Only write if it's not a newline\n",
    "        if word:\n",
    "            pred = result[i]\n",
    "            f.write(word + \" \" + pred)\n",
    "        \n",
    "        f.write(\"\\n\")"
   ]
  },
  {
   "cell_type": "markdown",
   "metadata": {},
   "source": [
    "# Evaluation Metrics\n",
    "Calculate precision, recall, and F score.\n",
    "\n",
    "Use `evalResult.py` to evaluate."
   ]
  },
  {
   "cell_type": "code",
   "execution_count": 10,
   "metadata": {},
   "outputs": [
    {
     "data": {
      "text/plain": [
       "dict_keys(['O', 'B-positive', 'I-positive', 'B-negative', 'I-negative', 'B-neutral', 'I-neutral'])"
      ]
     },
     "execution_count": 10,
     "metadata": {},
     "output_type": "execute_result"
    }
   ],
   "source": [
    "emissions.keys()"
   ]
  },
  {
   "cell_type": "code",
   "execution_count": 11,
   "metadata": {},
   "outputs": [
    {
     "data": {
      "text/plain": [
       "[1, 10]"
      ]
     },
     "execution_count": 11,
     "metadata": {},
     "output_type": "execute_result"
    }
   ],
   "source": [
    "[emissions[k][\"FaceTime\"] for k in emissions if \"FaceTime\" in emissions[k]]"
   ]
  },
  {
   "cell_type": "code",
   "execution_count": null,
   "metadata": {},
   "outputs": [],
   "source": []
  }
 ],
 "metadata": {
  "kernelspec": {
   "display_name": "Python 3",
   "language": "python",
   "name": "python3"
  },
  "language_info": {
   "codemirror_mode": {
    "name": "ipython",
    "version": 3
   },
   "file_extension": ".py",
   "mimetype": "text/x-python",
   "name": "python",
   "nbconvert_exporter": "python",
   "pygments_lexer": "ipython3",
   "version": "3.6.6"
  }
 },
 "nbformat": 4,
 "nbformat_minor": 2
}
