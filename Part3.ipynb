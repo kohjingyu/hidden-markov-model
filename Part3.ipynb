{
 "cells": [
  {
   "cell_type": "code",
   "execution_count": 1,
   "metadata": {},
   "outputs": [],
   "source": [
    "import numpy as np\n",
    "import pandas as pd\n",
    "from collections import defaultdict\n",
    "from tqdm import tqdm_notebook as tqdm, tnrange as trange"
   ]
  },
  {
   "cell_type": "markdown",
   "metadata": {},
   "source": [
    "## Emissions (with smoothing)"
   ]
  },
  {
   "cell_type": "code",
   "execution_count": 2,
   "metadata": {},
   "outputs": [],
   "source": [
    "def learn_emissions(train_filename):\n",
    "    ''' Learns emissions parameters from data and returns them as a nested dictionary '''\n",
    "    with open(train_filename, \"r\") as f:\n",
    "        lines = f.readlines()\n",
    "\n",
    "#     # Keep set of all unique states and observations\n",
    "#     states = set()\n",
    "    observations = set()\n",
    "\n",
    "    # Track emission counts\n",
    "    emissions = {} # Where key is y, and value is a dictionary of emissions x from y with their frequency\n",
    "\n",
    "    # Learn from data\n",
    "    for line in tqdm(lines, desc='Emissions'):\n",
    "        data_split = line.strip().split(\" \")\n",
    "\n",
    "        # Only process valid lines\n",
    "        if len(data_split) == 2:\n",
    "            obs, state = data_split[0], data_split[1]\n",
    "\n",
    "#             states.add(state)\n",
    "            observations.add(obs)\n",
    "\n",
    "            # Track this emission\n",
    "            current_emissions = {}\n",
    "            if state in emissions:\n",
    "                current_emissions = emissions[state]\n",
    "\n",
    "            # If it exists, increment it, if not set it to 1\n",
    "            if obs in current_emissions:\n",
    "                current_emissions[obs] += 1\n",
    "            else:\n",
    "                current_emissions[obs] = 1\n",
    "\n",
    "            emissions[state] = current_emissions # Update\n",
    "    \n",
    "    emission_counts = {k: sum(emissions[k].values()) for k in emissions}\n",
    "    \n",
    "    return emissions, emission_counts, observations\n",
    "\n",
    "\n",
    "def get_emission_parameters(emissions, emission_counts, x, y, k=1):\n",
    "    ''' Returns the MLE of the emission parameters based on the emissions dictionary '''\n",
    "    if y not in emissions:  # edge case: no records of emission from this state\n",
    "        return 0\n",
    "\n",
    "    state_data = emissions[y]\n",
    "    count_y = emission_counts[y] #sum(state_data.values()) # Denominator\n",
    "    \n",
    "    # If x == \"#UNK#\", it will return the following\n",
    "    count_y_x = k\n",
    "    \n",
    "    # If x exists in training, return its MLE instead\n",
    "    if x != \"#UNK#\":\n",
    "        if x not in state_data:  # edge case: no record of this emission from this state\n",
    "            return 0\n",
    "        count_y_x = state_data[x] # Numerator\n",
    "    \n",
    "    e = count_y_x / (count_y + k)\n",
    "    return e"
   ]
  },
  {
   "cell_type": "markdown",
   "metadata": {},
   "source": [
    "## Transitions"
   ]
  },
  {
   "cell_type": "code",
   "execution_count": 3,
   "metadata": {},
   "outputs": [],
   "source": [
    "def learn_transitions(train_filename):\n",
    "    \"\"\"\n",
    "    Returns a dictionary containing (key, value) where\n",
    "        key: (u, v)\n",
    "        value: Count(u, v)\n",
    "    \"\"\"\n",
    "    with open(train_filename, 'r') as f:\n",
    "        lines = f.readlines()\n",
    "        \n",
    "    transitions = defaultdict(int)\n",
    "    prev_state = 'START'\n",
    "    # avoid excessive indentations\n",
    "    for line in tqdm(lines, desc='Transitions'):\n",
    "        data_split = line.strip().rsplit(' ', 1)\n",
    "        \n",
    "        # line breaks -> new sequence\n",
    "        if len(data_split) < 2:\n",
    "            transitions[(prev_state, 'STOP')] += 1\n",
    "            prev_state = 'START'\n",
    "            continue\n",
    "\n",
    "        obs, curr_state = data_split\n",
    "        transitions[(prev_state, curr_state)] += 1\n",
    "        prev_state = curr_state\n",
    "        \n",
    "    # count number of 'from' states\n",
    "    transition_counts = defaultdict(int)\n",
    "    for (u, v), counts in transitions.items():\n",
    "        transition_counts[u] += counts\n",
    "\n",
    "    # get all unique states\n",
    "    u, v = zip(*transitions)\n",
    "    states = set(u) | set(v)\n",
    "    return transitions, transition_counts, states\n",
    "\n",
    "def get_transition_parameters(transitions, transition_counts, u, v):\n",
    "    if transition_counts[u] == 0:  # edge case: no records of transitions starting from u\n",
    "        return 0\n",
    "    return transitions[(u, v)] / transition_counts[u]"
   ]
  },
  {
   "cell_type": "markdown",
   "metadata": {},
   "source": [
    "## Training"
   ]
  },
  {
   "cell_type": "code",
   "execution_count": 4,
   "metadata": {
    "scrolled": true
   },
   "outputs": [
    {
     "data": {
      "application/vnd.jupyter.widget-view+json": {
       "model_id": "f98b183473774ecfb500cb653c4b55d6",
       "version_major": 2,
       "version_minor": 0
      },
      "text/plain": [
       "HBox(children=(IntProgress(value=0, description='Emissions', max=311777), HTML(value='')))"
      ]
     },
     "metadata": {},
     "output_type": "display_data"
    },
    {
     "name": "stdout",
     "output_type": "stream",
     "text": [
      "\n"
     ]
    },
    {
     "data": {
      "application/vnd.jupyter.widget-view+json": {
       "model_id": "b9efebd0e60f4d68944b426e5934c490",
       "version_major": 2,
       "version_minor": 0
      },
      "text/plain": [
       "HBox(children=(IntProgress(value=0, description='Transitions', max=311777), HTML(value='')))"
      ]
     },
     "metadata": {},
     "output_type": "display_data"
    },
    {
     "name": "stdout",
     "output_type": "stream",
     "text": [
      "\n"
     ]
    }
   ],
   "source": [
    "datasets = ['SG', 'CN', 'EN', 'FR']\n",
    "dataset = datasets[0]\n",
    "train_filename = f'data/{dataset}/train'\n",
    "validation_filename = f'data/{dataset}/dev.in'\n",
    "\n",
    "# Train\n",
    "emissions, emission_counts, observations = learn_emissions(train_filename)\n",
    "transitions, transition_counts, states = learn_transitions(train_filename)"
   ]
  },
  {
   "cell_type": "markdown",
   "metadata": {},
   "source": [
    "## Viterbi"
   ]
  },
  {
   "cell_type": "code",
   "execution_count": 5,
   "metadata": {},
   "outputs": [
    {
     "data": {
      "text/html": [
       "<div>\n",
       "<style scoped>\n",
       "    .dataframe tbody tr th:only-of-type {\n",
       "        vertical-align: middle;\n",
       "    }\n",
       "\n",
       "    .dataframe tbody tr th {\n",
       "        vertical-align: top;\n",
       "    }\n",
       "\n",
       "    .dataframe thead th {\n",
       "        text-align: right;\n",
       "    }\n",
       "</style>\n",
       "<table border=\"1\" class=\"dataframe\">\n",
       "  <thead>\n",
       "    <tr style=\"text-align: right;\">\n",
       "      <th></th>\n",
       "      <th>0</th>\n",
       "      <th>1</th>\n",
       "      <th>2</th>\n",
       "      <th>3</th>\n",
       "    </tr>\n",
       "  </thead>\n",
       "  <tbody>\n",
       "    <tr>\n",
       "      <th>B-neutral</th>\n",
       "      <td>0</td>\n",
       "      <td>0.000000</td>\n",
       "      <td>6.591126e-09</td>\n",
       "      <td>0.000000e+00</td>\n",
       "    </tr>\n",
       "    <tr>\n",
       "      <th>START</th>\n",
       "      <td>1</td>\n",
       "      <td>0.000000</td>\n",
       "      <td>0.000000e+00</td>\n",
       "      <td>0.000000e+00</td>\n",
       "    </tr>\n",
       "    <tr>\n",
       "      <th>B-positive</th>\n",
       "      <td>0</td>\n",
       "      <td>0.000000</td>\n",
       "      <td>4.508593e-10</td>\n",
       "      <td>0.000000e+00</td>\n",
       "    </tr>\n",
       "    <tr>\n",
       "      <th>O</th>\n",
       "      <td>0</td>\n",
       "      <td>0.000064</td>\n",
       "      <td>6.297116e-07</td>\n",
       "      <td>0.000000e+00</td>\n",
       "    </tr>\n",
       "    <tr>\n",
       "      <th>B-negative</th>\n",
       "      <td>0</td>\n",
       "      <td>0.000000</td>\n",
       "      <td>4.495536e-10</td>\n",
       "      <td>0.000000e+00</td>\n",
       "    </tr>\n",
       "    <tr>\n",
       "      <th>STOP</th>\n",
       "      <td>0</td>\n",
       "      <td>0.000000</td>\n",
       "      <td>0.000000e+00</td>\n",
       "      <td>0.000000e+00</td>\n",
       "    </tr>\n",
       "    <tr>\n",
       "      <th>I-neutral</th>\n",
       "      <td>0</td>\n",
       "      <td>0.000000</td>\n",
       "      <td>0.000000e+00</td>\n",
       "      <td>0.000000e+00</td>\n",
       "    </tr>\n",
       "    <tr>\n",
       "      <th>I-negative</th>\n",
       "      <td>0</td>\n",
       "      <td>0.000000</td>\n",
       "      <td>0.000000e+00</td>\n",
       "      <td>0.000000e+00</td>\n",
       "    </tr>\n",
       "    <tr>\n",
       "      <th>I-positive</th>\n",
       "      <td>0</td>\n",
       "      <td>0.000000</td>\n",
       "      <td>0.000000e+00</td>\n",
       "      <td>4.646540e-08</td>\n",
       "    </tr>\n",
       "  </tbody>\n",
       "</table>\n",
       "</div>"
      ],
      "text/plain": [
       "            0         1             2             3\n",
       "B-neutral   0  0.000000  6.591126e-09  0.000000e+00\n",
       "START       1  0.000000  0.000000e+00  0.000000e+00\n",
       "B-positive  0  0.000000  4.508593e-10  0.000000e+00\n",
       "O           0  0.000064  6.297116e-07  0.000000e+00\n",
       "B-negative  0  0.000000  4.495536e-10  0.000000e+00\n",
       "STOP        0  0.000000  0.000000e+00  0.000000e+00\n",
       "I-neutral   0  0.000000  0.000000e+00  0.000000e+00\n",
       "I-negative  0  0.000000  0.000000e+00  0.000000e+00\n",
       "I-positive  0  0.000000  0.000000e+00  4.646540e-08"
      ]
     },
     "execution_count": 5,
     "metadata": {},
     "output_type": "execute_result"
    }
   ],
   "source": [
    "def viterbi(transitions, transition_counts, states, emissions, emission_counts, obs_seq):\n",
    "    a = lambda prev, curr: get_transition_parameters(transitions, transition_counts, prev, curr)\n",
    "    b = lambda state, out: get_emission_parameters(emissions, emission_counts, x=out, y=state)\n",
    "\n",
    "    # create empty tables\n",
    "    n = len(obs_seq) + 2  # START + |obs_seq| + STOP\n",
    "    P = pd.DataFrame(index=states, columns=range(n)).fillna(0)  # probability table\n",
    "    B = pd.DataFrame(index=states, columns=range(n))  # backpointer table\n",
    "    \n",
    "    # initialization\n",
    "    P.loc['START', 0] = 1\n",
    "    \n",
    "    # recursion\n",
    "    for j in range(1, n-1):\n",
    "        x = obs_seq[j-1]  # obs_seq starts from 0, j starts from 1\n",
    "        for v in states:  # curr state\n",
    "            for u in states:  # prev state\n",
    "                p = P.loc[u, j-1] * a(u, v) * b(v, x)\n",
    "                if p > P.loc[v, j]:\n",
    "                    P.loc[v, j] = p  # update probability\n",
    "                    B.loc[v, j] = u  # update backpointer\n",
    "                    \n",
    "    # termination\n",
    "    j = n - 1\n",
    "    for u in states:\n",
    "        p = P.loc[u, j-1] * a(u, 'STOP')\n",
    "        if p > P.loc[v, j]:\n",
    "            P.loc[v, j] = p  # probability\n",
    "            B.loc[v, j] = u  # backpointer\n",
    "            \n",
    "    # backtrace\n",
    "    state_seq = ['STOP']\n",
    "    for i in range(n-1, 0, -1):\n",
    "        curr_state = state_seq[-1]\n",
    "        prev_state = B.loc[curr_state, i]\n",
    "        if pd.isnull(prev_state):  # edge case: no possible transition to STOP\n",
    "            state_seq = []\n",
    "            break\n",
    "        state_seq.append(prev_state)\n",
    "    state_seq = state_seq[::-1]\n",
    "    return P, B, state_seq\n",
    "\n",
    "P, B, state_seq = viterbi(transitions, transition_counts, states, emissions, emission_counts, ['Omg', \"I'm\"])\n",
    "P"
   ]
  },
  {
   "cell_type": "code",
   "execution_count": 6,
   "metadata": {},
   "outputs": [
    {
     "data": {
      "text/html": [
       "<div>\n",
       "<style scoped>\n",
       "    .dataframe tbody tr th:only-of-type {\n",
       "        vertical-align: middle;\n",
       "    }\n",
       "\n",
       "    .dataframe tbody tr th {\n",
       "        vertical-align: top;\n",
       "    }\n",
       "\n",
       "    .dataframe thead th {\n",
       "        text-align: right;\n",
       "    }\n",
       "</style>\n",
       "<table border=\"1\" class=\"dataframe\">\n",
       "  <thead>\n",
       "    <tr style=\"text-align: right;\">\n",
       "      <th></th>\n",
       "      <th>0</th>\n",
       "      <th>1</th>\n",
       "      <th>2</th>\n",
       "      <th>3</th>\n",
       "    </tr>\n",
       "  </thead>\n",
       "  <tbody>\n",
       "    <tr>\n",
       "      <th>B-neutral</th>\n",
       "      <td>NaN</td>\n",
       "      <td>NaN</td>\n",
       "      <td>O</td>\n",
       "      <td>NaN</td>\n",
       "    </tr>\n",
       "    <tr>\n",
       "      <th>START</th>\n",
       "      <td>NaN</td>\n",
       "      <td>NaN</td>\n",
       "      <td>NaN</td>\n",
       "      <td>NaN</td>\n",
       "    </tr>\n",
       "    <tr>\n",
       "      <th>B-positive</th>\n",
       "      <td>NaN</td>\n",
       "      <td>NaN</td>\n",
       "      <td>O</td>\n",
       "      <td>NaN</td>\n",
       "    </tr>\n",
       "    <tr>\n",
       "      <th>O</th>\n",
       "      <td>NaN</td>\n",
       "      <td>START</td>\n",
       "      <td>O</td>\n",
       "      <td>NaN</td>\n",
       "    </tr>\n",
       "    <tr>\n",
       "      <th>B-negative</th>\n",
       "      <td>NaN</td>\n",
       "      <td>NaN</td>\n",
       "      <td>O</td>\n",
       "      <td>NaN</td>\n",
       "    </tr>\n",
       "    <tr>\n",
       "      <th>STOP</th>\n",
       "      <td>NaN</td>\n",
       "      <td>NaN</td>\n",
       "      <td>NaN</td>\n",
       "      <td>NaN</td>\n",
       "    </tr>\n",
       "    <tr>\n",
       "      <th>I-neutral</th>\n",
       "      <td>NaN</td>\n",
       "      <td>NaN</td>\n",
       "      <td>NaN</td>\n",
       "      <td>NaN</td>\n",
       "    </tr>\n",
       "    <tr>\n",
       "      <th>I-negative</th>\n",
       "      <td>NaN</td>\n",
       "      <td>NaN</td>\n",
       "      <td>NaN</td>\n",
       "      <td>NaN</td>\n",
       "    </tr>\n",
       "    <tr>\n",
       "      <th>I-positive</th>\n",
       "      <td>NaN</td>\n",
       "      <td>NaN</td>\n",
       "      <td>NaN</td>\n",
       "      <td>O</td>\n",
       "    </tr>\n",
       "  </tbody>\n",
       "</table>\n",
       "</div>"
      ],
      "text/plain": [
       "              0      1    2    3\n",
       "B-neutral   NaN    NaN    O  NaN\n",
       "START       NaN    NaN  NaN  NaN\n",
       "B-positive  NaN    NaN    O  NaN\n",
       "O           NaN  START    O  NaN\n",
       "B-negative  NaN    NaN    O  NaN\n",
       "STOP        NaN    NaN  NaN  NaN\n",
       "I-neutral   NaN    NaN  NaN  NaN\n",
       "I-negative  NaN    NaN  NaN  NaN\n",
       "I-positive  NaN    NaN  NaN    O"
      ]
     },
     "execution_count": 6,
     "metadata": {},
     "output_type": "execute_result"
    }
   ],
   "source": [
    "B"
   ]
  },
  {
   "cell_type": "code",
   "execution_count": 7,
   "metadata": {},
   "outputs": [
    {
     "data": {
      "text/plain": [
       "[]"
      ]
     },
     "execution_count": 7,
     "metadata": {},
     "output_type": "execute_result"
    }
   ],
   "source": [
    "state_seq"
   ]
  }
 ],
 "metadata": {
  "kernelspec": {
   "display_name": "Python 3",
   "language": "python",
   "name": "python3"
  },
  "language_info": {
   "codemirror_mode": {
    "name": "ipython",
    "version": 3
   },
   "file_extension": ".py",
   "mimetype": "text/x-python",
   "name": "python",
   "nbconvert_exporter": "python",
   "pygments_lexer": "ipython3",
   "version": "3.6.6"
  },
  "widgets": {
   "application/vnd.jupyter.widget-state+json": {
    "state": {
     "004ae6b40d1a4a3dbfe97a20723e8a35": {
      "model_module": "@jupyter-widgets/controls",
      "model_module_version": "1.2.0",
      "model_name": "HTMLModel",
      "state": {
       "layout": "IPY_MODEL_a7c57d9b4d874dd7b4036e615ef7c8a2",
       "style": "IPY_MODEL_c275ae1b12a14fb7ac4b1ef2dd2023cb",
       "value": "  0% 0/311777 [00:00&lt;?, ?it/s]"
      }
     },
     "06995e2df2d34ca4921a8c9f9a31fdaa": {
      "model_module": "@jupyter-widgets/controls",
      "model_module_version": "1.2.0",
      "model_name": "HTMLModel",
      "state": {
       "layout": "IPY_MODEL_e87abb7cc376476aadee68010c95a1f5",
       "style": "IPY_MODEL_1c0d5d6b39034b9280268e22b4788f5f",
       "value": "100% 311777/311777 [00:00&lt;00:00, 1633980.32it/s]"
      }
     },
     "11fc0264db584d498e1e9c1c27eff1ef": {
      "model_module": "@jupyter-widgets/controls",
      "model_module_version": "1.2.0",
      "model_name": "DescriptionStyleModel",
      "state": {
       "description_width": ""
      }
     },
     "1517545cdeff4e12a38da4728e0f9e90": {
      "model_module": "@jupyter-widgets/base",
      "model_module_version": "1.0.0",
      "model_name": "LayoutModel",
      "state": {}
     },
     "16e1960a6bbd4246a33f731ead598e8f": {
      "model_module": "@jupyter-widgets/base",
      "model_module_version": "1.0.0",
      "model_name": "LayoutModel",
      "state": {}
     },
     "1a24a7cd34b14415865abe33bcefa81b": {
      "model_module": "@jupyter-widgets/controls",
      "model_module_version": "1.2.0",
      "model_name": "HBoxModel",
      "state": {
       "children": [
        "IPY_MODEL_ac2879999b2e4da1b89dd701bb67287a",
        "IPY_MODEL_85673c5efcc74b0b9b2812a91a630096"
       ],
       "layout": "IPY_MODEL_93a54c6fecf047389fe0cf393f06d472"
      }
     },
     "1be4f90508b942d29bc34437bc1e8627": {
      "model_module": "@jupyter-widgets/base",
      "model_module_version": "1.0.0",
      "model_name": "LayoutModel",
      "state": {}
     },
     "1c0d5d6b39034b9280268e22b4788f5f": {
      "model_module": "@jupyter-widgets/controls",
      "model_module_version": "1.2.0",
      "model_name": "DescriptionStyleModel",
      "state": {
       "description_width": ""
      }
     },
     "23179d53e6844c2baef47c835294fe24": {
      "model_module": "@jupyter-widgets/controls",
      "model_module_version": "1.2.0",
      "model_name": "ProgressStyleModel",
      "state": {
       "description_width": ""
      }
     },
     "28731899cf0b46a3b05e1412b204f885": {
      "model_module": "@jupyter-widgets/controls",
      "model_module_version": "1.2.0",
      "model_name": "ProgressStyleModel",
      "state": {
       "description_width": ""
      }
     },
     "32c565bab94247178014d4435b88f388": {
      "model_module": "@jupyter-widgets/controls",
      "model_module_version": "1.2.0",
      "model_name": "ProgressStyleModel",
      "state": {
       "description_width": ""
      }
     },
     "36fc3f27c1f34121bfc3712c893d4b2b": {
      "model_module": "@jupyter-widgets/controls",
      "model_module_version": "1.2.0",
      "model_name": "HTMLModel",
      "state": {
       "layout": "IPY_MODEL_9c9126cde76f470aa9c40bfaaa9f6a43",
       "style": "IPY_MODEL_647a5247948042e6ab55d4f68dffd822",
       "value": "  0% 0/311777 [00:00&lt;?, ?it/s]"
      }
     },
     "389f936c76794942baad4e7a22793eb3": {
      "model_module": "@jupyter-widgets/base",
      "model_module_version": "1.0.0",
      "model_name": "LayoutModel",
      "state": {}
     },
     "3a26d82cedc4440e9ce3ca2672047806": {
      "model_module": "@jupyter-widgets/base",
      "model_module_version": "1.0.0",
      "model_name": "LayoutModel",
      "state": {}
     },
     "45d9478db5ec443591bd0a3e2456f849": {
      "model_module": "@jupyter-widgets/base",
      "model_module_version": "1.0.0",
      "model_name": "LayoutModel",
      "state": {}
     },
     "4b352dd9c6f244afad78cd9810799370": {
      "model_module": "@jupyter-widgets/controls",
      "model_module_version": "1.2.0",
      "model_name": "HTMLModel",
      "state": {
       "layout": "IPY_MODEL_59bd2b4dc56a4624a1709a387e664a01",
       "style": "IPY_MODEL_b5d775eb5df1455994b7fc5af154405e",
       "value": "  0% 0/311777 [00:00&lt;?, ?it/s]"
      }
     },
     "4fb8380fcbd24ac0b44d55cfdeaa3013": {
      "model_module": "@jupyter-widgets/base",
      "model_module_version": "1.0.0",
      "model_name": "LayoutModel",
      "state": {}
     },
     "53005dfe985c4570acd80f06246c84e2": {
      "model_module": "@jupyter-widgets/controls",
      "model_module_version": "1.2.0",
      "model_name": "HTMLModel",
      "state": {
       "layout": "IPY_MODEL_16e1960a6bbd4246a33f731ead598e8f",
       "style": "IPY_MODEL_96ec1dac7fe24ad4a7ade658c2fbcbfa",
       "value": "  0% 0/311777 [00:00&lt;?, ?it/s]"
      }
     },
     "53f3a8af9f5f456e915495a389235b05": {
      "model_module": "@jupyter-widgets/base",
      "model_module_version": "1.0.0",
      "model_name": "LayoutModel",
      "state": {}
     },
     "59bd2b4dc56a4624a1709a387e664a01": {
      "model_module": "@jupyter-widgets/base",
      "model_module_version": "1.0.0",
      "model_name": "LayoutModel",
      "state": {}
     },
     "6072dde4b9fc4f2292c7ded36bd0d4a3": {
      "model_module": "@jupyter-widgets/controls",
      "model_module_version": "1.2.0",
      "model_name": "HBoxModel",
      "state": {
       "children": [
        "IPY_MODEL_d9a175a5fccf43509ac4df6695cfbbd0",
        "IPY_MODEL_36fc3f27c1f34121bfc3712c893d4b2b"
       ],
       "layout": "IPY_MODEL_9ba90240654f4a92a131fd0275f261ed"
      }
     },
     "647a5247948042e6ab55d4f68dffd822": {
      "model_module": "@jupyter-widgets/controls",
      "model_module_version": "1.2.0",
      "model_name": "DescriptionStyleModel",
      "state": {
       "description_width": ""
      }
     },
     "65dafbef5e0c44f1a8f19351ab213e05": {
      "model_module": "@jupyter-widgets/controls",
      "model_module_version": "1.2.0",
      "model_name": "DescriptionStyleModel",
      "state": {
       "description_width": ""
      }
     },
     "6bb0858521034d2bac00ada79e1ce5a2": {
      "model_module": "@jupyter-widgets/controls",
      "model_module_version": "1.2.0",
      "model_name": "ProgressStyleModel",
      "state": {
       "description_width": ""
      }
     },
     "7e35638c3664432f86ad718350f1fe7c": {
      "model_module": "@jupyter-widgets/controls",
      "model_module_version": "1.2.0",
      "model_name": "IntProgressModel",
      "state": {
       "bar_style": "success",
       "layout": "IPY_MODEL_9ef3f84b513a4d308489f7b29654644b",
       "max": 311777,
       "style": "IPY_MODEL_32c565bab94247178014d4435b88f388",
       "value": 311777
      }
     },
     "8545650ffe7e447dbe138a94359a32c7": {
      "model_module": "@jupyter-widgets/controls",
      "model_module_version": "1.2.0",
      "model_name": "IntProgressModel",
      "state": {
       "bar_style": "danger",
       "layout": "IPY_MODEL_4fb8380fcbd24ac0b44d55cfdeaa3013",
       "max": 311777,
       "style": "IPY_MODEL_9e732a1201bd403c9ff21b599f79b197"
      }
     },
     "85673c5efcc74b0b9b2812a91a630096": {
      "model_module": "@jupyter-widgets/controls",
      "model_module_version": "1.2.0",
      "model_name": "HTMLModel",
      "state": {
       "layout": "IPY_MODEL_1517545cdeff4e12a38da4728e0f9e90",
       "style": "IPY_MODEL_11fc0264db584d498e1e9c1c27eff1ef",
       "value": "100% 311777/311777 [00:00&lt;00:00, 1285053.86it/s]"
      }
     },
     "8fcfebb662c14b0a98e6f94eac371f88": {
      "model_module": "@jupyter-widgets/controls",
      "model_module_version": "1.2.0",
      "model_name": "HBoxModel",
      "state": {
       "children": [
        "IPY_MODEL_f9c2b56bffc74d4588c385c722184b53",
        "IPY_MODEL_06995e2df2d34ca4921a8c9f9a31fdaa"
       ],
       "layout": "IPY_MODEL_389f936c76794942baad4e7a22793eb3"
      }
     },
     "93a54c6fecf047389fe0cf393f06d472": {
      "model_module": "@jupyter-widgets/base",
      "model_module_version": "1.0.0",
      "model_name": "LayoutModel",
      "state": {}
     },
     "96ec1dac7fe24ad4a7ade658c2fbcbfa": {
      "model_module": "@jupyter-widgets/controls",
      "model_module_version": "1.2.0",
      "model_name": "DescriptionStyleModel",
      "state": {
       "description_width": ""
      }
     },
     "9b14f429d6ce4db69646565fc4a13f44": {
      "model_module": "@jupyter-widgets/base",
      "model_module_version": "1.0.0",
      "model_name": "LayoutModel",
      "state": {}
     },
     "9ba90240654f4a92a131fd0275f261ed": {
      "model_module": "@jupyter-widgets/base",
      "model_module_version": "1.0.0",
      "model_name": "LayoutModel",
      "state": {}
     },
     "9c9126cde76f470aa9c40bfaaa9f6a43": {
      "model_module": "@jupyter-widgets/base",
      "model_module_version": "1.0.0",
      "model_name": "LayoutModel",
      "state": {}
     },
     "9e037068e0c54ce4863ef4c28b69d0df": {
      "model_module": "@jupyter-widgets/base",
      "model_module_version": "1.0.0",
      "model_name": "LayoutModel",
      "state": {}
     },
     "9e732a1201bd403c9ff21b599f79b197": {
      "model_module": "@jupyter-widgets/controls",
      "model_module_version": "1.2.0",
      "model_name": "ProgressStyleModel",
      "state": {
       "description_width": ""
      }
     },
     "9ef3f84b513a4d308489f7b29654644b": {
      "model_module": "@jupyter-widgets/base",
      "model_module_version": "1.0.0",
      "model_name": "LayoutModel",
      "state": {}
     },
     "a057143385fe4bb48d6d75163b677a16": {
      "model_module": "@jupyter-widgets/base",
      "model_module_version": "1.0.0",
      "model_name": "LayoutModel",
      "state": {}
     },
     "a7c57d9b4d874dd7b4036e615ef7c8a2": {
      "model_module": "@jupyter-widgets/base",
      "model_module_version": "1.0.0",
      "model_name": "LayoutModel",
      "state": {}
     },
     "ac2879999b2e4da1b89dd701bb67287a": {
      "model_module": "@jupyter-widgets/controls",
      "model_module_version": "1.2.0",
      "model_name": "IntProgressModel",
      "state": {
       "bar_style": "success",
       "layout": "IPY_MODEL_1be4f90508b942d29bc34437bc1e8627",
       "max": 311777,
       "style": "IPY_MODEL_d1107436852a4f79a15dcb3c5adaa9be",
       "value": 311777
      }
     },
     "b4566feb44fc42858031122b7b0fbc25": {
      "model_module": "@jupyter-widgets/controls",
      "model_module_version": "1.2.0",
      "model_name": "ProgressStyleModel",
      "state": {
       "description_width": ""
      }
     },
     "b5d775eb5df1455994b7fc5af154405e": {
      "model_module": "@jupyter-widgets/controls",
      "model_module_version": "1.2.0",
      "model_name": "DescriptionStyleModel",
      "state": {
       "description_width": ""
      }
     },
     "b736bcf9a50a41098fee8a84fc171695": {
      "model_module": "@jupyter-widgets/base",
      "model_module_version": "1.0.0",
      "model_name": "LayoutModel",
      "state": {}
     },
     "b799ce56e6b84b6f9edb7f613e65ede0": {
      "model_module": "@jupyter-widgets/controls",
      "model_module_version": "1.2.0",
      "model_name": "DescriptionStyleModel",
      "state": {
       "description_width": ""
      }
     },
     "ba5f14b519034af580996f19042a81fe": {
      "model_module": "@jupyter-widgets/controls",
      "model_module_version": "1.2.0",
      "model_name": "HBoxModel",
      "state": {
       "children": [
        "IPY_MODEL_bfb3eb061e4c4c918e36998cb8118847",
        "IPY_MODEL_ee9f63c37a424d48807e4002e2e0159d"
       ],
       "layout": "IPY_MODEL_b736bcf9a50a41098fee8a84fc171695"
      }
     },
     "bd7203b31595439897c87957d6363b3c": {
      "model_module": "@jupyter-widgets/controls",
      "model_module_version": "1.2.0",
      "model_name": "ProgressStyleModel",
      "state": {
       "description_width": ""
      }
     },
     "bfb3eb061e4c4c918e36998cb8118847": {
      "model_module": "@jupyter-widgets/controls",
      "model_module_version": "1.2.0",
      "model_name": "IntProgressModel",
      "state": {
       "bar_style": "danger",
       "layout": "IPY_MODEL_9b14f429d6ce4db69646565fc4a13f44",
       "max": 311777,
       "style": "IPY_MODEL_6bb0858521034d2bac00ada79e1ce5a2"
      }
     },
     "c275ae1b12a14fb7ac4b1ef2dd2023cb": {
      "model_module": "@jupyter-widgets/controls",
      "model_module_version": "1.2.0",
      "model_name": "DescriptionStyleModel",
      "state": {
       "description_width": ""
      }
     },
     "c85ac899918b4839b465ea6c9e8345b7": {
      "model_module": "@jupyter-widgets/controls",
      "model_module_version": "1.2.0",
      "model_name": "HBoxModel",
      "state": {
       "children": [
        "IPY_MODEL_e8f2e98d1099493c8cbdc3d3018a143a",
        "IPY_MODEL_4b352dd9c6f244afad78cd9810799370"
       ],
       "layout": "IPY_MODEL_53f3a8af9f5f456e915495a389235b05"
      }
     },
     "d1107436852a4f79a15dcb3c5adaa9be": {
      "model_module": "@jupyter-widgets/controls",
      "model_module_version": "1.2.0",
      "model_name": "ProgressStyleModel",
      "state": {
       "description_width": ""
      }
     },
     "d45aa90b39ea40f98606e56823f92b0e": {
      "model_module": "@jupyter-widgets/base",
      "model_module_version": "1.0.0",
      "model_name": "LayoutModel",
      "state": {}
     },
     "d5fbd771ea8d49d78ff82cae2ec1a736": {
      "model_module": "@jupyter-widgets/controls",
      "model_module_version": "1.2.0",
      "model_name": "IntProgressModel",
      "state": {
       "bar_style": "danger",
       "layout": "IPY_MODEL_a057143385fe4bb48d6d75163b677a16",
       "max": 311777,
       "style": "IPY_MODEL_23179d53e6844c2baef47c835294fe24"
      }
     },
     "d9a175a5fccf43509ac4df6695cfbbd0": {
      "model_module": "@jupyter-widgets/controls",
      "model_module_version": "1.2.0",
      "model_name": "IntProgressModel",
      "state": {
       "bar_style": "danger",
       "layout": "IPY_MODEL_9e037068e0c54ce4863ef4c28b69d0df",
       "max": 311777,
       "style": "IPY_MODEL_bd7203b31595439897c87957d6363b3c"
      }
     },
     "dc29f50edf49413fb6ddf7cc44a8a3fb": {
      "model_module": "@jupyter-widgets/base",
      "model_module_version": "1.0.0",
      "model_name": "LayoutModel",
      "state": {}
     },
     "e4644e024a964f309e39c565e5aa8456": {
      "model_module": "@jupyter-widgets/controls",
      "model_module_version": "1.2.0",
      "model_name": "HTMLModel",
      "state": {
       "layout": "IPY_MODEL_3a26d82cedc4440e9ce3ca2672047806",
       "style": "IPY_MODEL_b799ce56e6b84b6f9edb7f613e65ede0",
       "value": "100% 311777/311777 [00:00&lt;00:00, 1145407.35it/s]"
      }
     },
     "e87abb7cc376476aadee68010c95a1f5": {
      "model_module": "@jupyter-widgets/base",
      "model_module_version": "1.0.0",
      "model_name": "LayoutModel",
      "state": {}
     },
     "e88dafc10da84c738dedfaeb31cddaea": {
      "model_module": "@jupyter-widgets/controls",
      "model_module_version": "1.2.0",
      "model_name": "HBoxModel",
      "state": {
       "children": [
        "IPY_MODEL_8545650ffe7e447dbe138a94359a32c7",
        "IPY_MODEL_004ae6b40d1a4a3dbfe97a20723e8a35"
       ],
       "layout": "IPY_MODEL_faf24cffe94e40af89df5a89dd026124"
      }
     },
     "e8f2e98d1099493c8cbdc3d3018a143a": {
      "model_module": "@jupyter-widgets/controls",
      "model_module_version": "1.2.0",
      "model_name": "IntProgressModel",
      "state": {
       "bar_style": "danger",
       "layout": "IPY_MODEL_dc29f50edf49413fb6ddf7cc44a8a3fb",
       "max": 311777,
       "style": "IPY_MODEL_28731899cf0b46a3b05e1412b204f885"
      }
     },
     "eb12ead7866d4cec9ad12000eac8cf66": {
      "model_module": "@jupyter-widgets/controls",
      "model_module_version": "1.2.0",
      "model_name": "HBoxModel",
      "state": {
       "children": [
        "IPY_MODEL_d5fbd771ea8d49d78ff82cae2ec1a736",
        "IPY_MODEL_53005dfe985c4570acd80f06246c84e2"
       ],
       "layout": "IPY_MODEL_45d9478db5ec443591bd0a3e2456f849"
      }
     },
     "ebac11939be448c0b286c37324329cf6": {
      "model_module": "@jupyter-widgets/base",
      "model_module_version": "1.0.0",
      "model_name": "LayoutModel",
      "state": {}
     },
     "edf4272dca9e4e7ab61c7524ce0232f8": {
      "model_module": "@jupyter-widgets/base",
      "model_module_version": "1.0.0",
      "model_name": "LayoutModel",
      "state": {}
     },
     "ee9f63c37a424d48807e4002e2e0159d": {
      "model_module": "@jupyter-widgets/controls",
      "model_module_version": "1.2.0",
      "model_name": "HTMLModel",
      "state": {
       "layout": "IPY_MODEL_ebac11939be448c0b286c37324329cf6",
       "style": "IPY_MODEL_65dafbef5e0c44f1a8f19351ab213e05",
       "value": "  0% 0/311777 [00:00&lt;?, ?it/s]"
      }
     },
     "f4b25a6f87f64050ab46ad4ad2ac647f": {
      "model_module": "@jupyter-widgets/controls",
      "model_module_version": "1.2.0",
      "model_name": "HBoxModel",
      "state": {
       "children": [
        "IPY_MODEL_7e35638c3664432f86ad718350f1fe7c",
        "IPY_MODEL_e4644e024a964f309e39c565e5aa8456"
       ],
       "layout": "IPY_MODEL_edf4272dca9e4e7ab61c7524ce0232f8"
      }
     },
     "f9c2b56bffc74d4588c385c722184b53": {
      "model_module": "@jupyter-widgets/controls",
      "model_module_version": "1.2.0",
      "model_name": "IntProgressModel",
      "state": {
       "bar_style": "success",
       "layout": "IPY_MODEL_d45aa90b39ea40f98606e56823f92b0e",
       "max": 311777,
       "style": "IPY_MODEL_b4566feb44fc42858031122b7b0fbc25",
       "value": 311777
      }
     },
     "faf24cffe94e40af89df5a89dd026124": {
      "model_module": "@jupyter-widgets/base",
      "model_module_version": "1.0.0",
      "model_name": "LayoutModel",
      "state": {}
     }
    },
    "version_major": 2,
    "version_minor": 0
   }
  }
 },
 "nbformat": 4,
 "nbformat_minor": 2
}
