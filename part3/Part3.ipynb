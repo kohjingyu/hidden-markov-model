{
 "cells": [
  {
   "cell_type": "code",
   "execution_count": 1,
   "metadata": {},
   "outputs": [],
   "source": [
    "import os\n",
    "import numpy as np\n",
    "import pandas as pd\n",
    "from collections import defaultdict\n",
    "from tqdm import tqdm, trange\n",
    "# from tqdm import tqdm_notebook as tqdm, tnrange as trange\n",
    "from IPython.display import display"
   ]
  },
  {
   "cell_type": "markdown",
   "metadata": {},
   "source": [
    "## Emissions (with smoothing)"
   ]
  },
  {
   "cell_type": "code",
   "execution_count": 2,
   "metadata": {},
   "outputs": [],
   "source": [
    "def learn_emissions(train_filename):\n",
    "    ''' Learns emissions parameters from data and returns them as a nested dictionary '''\n",
    "    with open(train_filename, \"r\") as f:\n",
    "        lines = f.readlines()\n",
    "\n",
    "    observations = set()\n",
    "    # Track emission counts\n",
    "    emissions = {} # Where key is y, and value is a dictionary of emissions x from y with their frequency\n",
    "\n",
    "    # Learn from data\n",
    "    for line in tqdm(lines, desc='Emissions'):\n",
    "        data_split = line.strip().rsplit(' ', 1)\n",
    "\n",
    "        # Only process valid lines\n",
    "        if len(data_split) == 2:\n",
    "            obs, state = data_split\n",
    "            observations.add(obs)\n",
    "\n",
    "            # Track this emission\n",
    "            if state in emissions:\n",
    "                current_emissions = emissions[state]\n",
    "            else:\n",
    "                current_emissions = defaultdict(int)\n",
    "                \n",
    "            current_emissions[obs] += 1\n",
    "            emissions[state] = current_emissions # Update\n",
    "    \n",
    "    emission_counts = {k: sum(emissions[k].values()) for k in emissions}\n",
    "    return emissions, emission_counts, observations\n",
    "\n",
    "\n",
    "def get_emission_parameters(emissions, emission_counts, observations, x, y, k=1):\n",
    "    ''' Returns the MLE of the emission parameters based on the emissions dictionary '''\n",
    "    if y not in emissions:  # edge case: no records of emission from this state\n",
    "        return 0\n",
    "    state_data = emissions[y]\n",
    "    count_y = emission_counts[y] #sum(state_data.values()) # Denominator\n",
    "    \n",
    "    if x not in observations:  # edge case: no records of emission of this word\n",
    "        count_y_x = k\n",
    "    else:\n",
    "        count_y_x = state_data[x]\n",
    "    \n",
    "    e = count_y_x / (count_y + k)\n",
    "    return e"
   ]
  },
  {
   "cell_type": "markdown",
   "metadata": {},
   "source": [
    "## Transitions"
   ]
  },
  {
   "cell_type": "code",
   "execution_count": 3,
   "metadata": {},
   "outputs": [],
   "source": [
    "def learn_transitions(train_filename):\n",
    "    \"\"\"\n",
    "    Returns a dictionary containing (key, value) where\n",
    "        key: (u, v)\n",
    "        value: Count(u, v)\n",
    "    \"\"\"\n",
    "    with open(train_filename, 'r') as f:\n",
    "        lines = f.readlines()\n",
    "        \n",
    "    transitions = defaultdict(int)\n",
    "    prev_state = 'START'\n",
    "    # avoid excessive indentations\n",
    "    for line in tqdm(lines, desc='Transitions'):\n",
    "        data_split = line.strip().rsplit(' ', 1)\n",
    "        \n",
    "        # line breaks -> new sequence\n",
    "        if len(data_split) < 2:\n",
    "            transitions[(prev_state, 'STOP')] += 1\n",
    "            prev_state = 'START'\n",
    "            continue\n",
    "\n",
    "        obs, curr_state = data_split\n",
    "        transitions[(prev_state, curr_state)] += 1\n",
    "        prev_state = curr_state\n",
    "        \n",
    "    # count number of 'from' states\n",
    "    transition_counts = defaultdict(int)\n",
    "    for (u, v), counts in transitions.items():\n",
    "        transition_counts[u] += counts\n",
    "\n",
    "    # get all unique states\n",
    "    u, v = zip(*transitions)\n",
    "    states = set(u) | set(v)\n",
    "    return transitions, transition_counts, states\n",
    "\n",
    "def get_transition_parameters(transitions, transition_counts, u, v):\n",
    "    if transition_counts[u] == 0:  # edge case: no records of transitions starting from u\n",
    "        return 0\n",
    "    return transitions[(u, v)] / transition_counts[u]"
   ]
  },
  {
   "cell_type": "markdown",
   "metadata": {},
   "source": [
    "## Viterbi"
   ]
  },
  {
   "cell_type": "code",
   "execution_count": 4,
   "metadata": {},
   "outputs": [],
   "source": [
    "def viterbi(transitions, transition_counts, states, emissions, emission_counts, observations, obs_seq):\n",
    "    a = lambda prev, curr: get_transition_parameters(transitions, transition_counts, prev, curr)\n",
    "    b = lambda state, out: get_emission_parameters(emissions, emission_counts, observations, x=out, y=state)\n",
    "\n",
    "    # create empty tables\n",
    "    n = len(obs_seq) + 2  # START + |obs_seq| + STOP\n",
    "    P = pd.DataFrame(index=states, columns=range(n)).fillna(0)  # probability table\n",
    "    B = pd.DataFrame(index=states, columns=range(n))  # backpointer table\n",
    "    \n",
    "    # initialization\n",
    "    P.loc['START', 0] = 1\n",
    "    \n",
    "    # recursion\n",
    "    for j in range(1, n-1):\n",
    "        x = obs_seq[j-1]  # obs_seq starts from 0, j starts from 1\n",
    "        for v in states:  # curr state\n",
    "            for u in states:  # prev state\n",
    "                p = P.loc[u, j-1] * a(u, v) * b(v, x)\n",
    "                if p > P.loc[v, j]:\n",
    "                    P.loc[v, j] = p  # update probability\n",
    "                    B.loc[v, j] = u  # update backpointer\n",
    "                    \n",
    "    # termination\n",
    "    j = n - 1\n",
    "    v = 'STOP'\n",
    "    for u in states:\n",
    "        p = P.loc[u, j-1] * a(u, v)\n",
    "        if p > P.loc[v, j]:\n",
    "            P.loc[v, j] = p  # probability\n",
    "            B.loc[v, j] = u  # backpointer\n",
    "            \n",
    "    # backtrace\n",
    "    state_seq = ['STOP']\n",
    "    for i in range(n-1, 0, -1):\n",
    "        curr_state = state_seq[-1]\n",
    "        prev_state = B.loc[curr_state, i]\n",
    "        if pd.isnull(prev_state):  # edge case: no possible transition to STOP\n",
    "            state_seq = ['O'] * n\n",
    "            break\n",
    "        state_seq.append(prev_state)\n",
    "    state_seq = state_seq[::-1][1:-1]  # reverse and drop START, STOP\n",
    "    return P, B, state_seq"
   ]
  },
  {
   "cell_type": "markdown",
   "metadata": {},
   "source": [
    "## Training & validation"
   ]
  },
  {
   "cell_type": "code",
   "execution_count": 5,
   "metadata": {},
   "outputs": [],
   "source": [
    "def train(dataset):\n",
    "    \"\"\"\n",
    "    Takes in dataset name, obtains transition and emission parameters.\n",
    "    \"\"\"\n",
    "    train_filename = f'data/{dataset}/train'\n",
    "    # train\n",
    "    t = learn_transitions(train_filename)\n",
    "    e = learn_emissions(train_filename)\n",
    "    return t, e\n",
    "\n",
    "\n",
    "def validate(dataset, t, e):\n",
    "    \"\"\"\n",
    "    Takes in dataset name, and HMM parameters.\n",
    "    Use HMM parameters to estimate state sequence.\n",
    "    Write state sequence to file alongside input observation sequence.\n",
    "    \"\"\"\n",
    "    val_filename = f'data/{dataset}/dev.in'\n",
    "    out_filename = f'data/{dataset}/dev.p3.out'\n",
    "\n",
    "    # validate with train parameters\n",
    "    label_sequence = lambda sentence: viterbi(*t, *e, sentence)\n",
    "    \n",
    "    # read validation file for sequence\n",
    "    with open(val_filename, 'r') as f:\n",
    "        lines = f.readlines()\n",
    "\n",
    "    sentence = []\n",
    "    result = []\n",
    "    for word in tqdm(lines, desc=dataset):\n",
    "        if word == '\\n':\n",
    "            _, _, s = label_sequence(sentence)  # ignore tables\n",
    "            result.extend(s)\n",
    "            result.append('\\n')\n",
    "            sentence = []\n",
    "        else:\n",
    "            sentence.append(word.strip())\n",
    "            \n",
    "    # write sequence to out file\n",
    "    with open(out_filename, 'w') as f:\n",
    "        for i in range(len(lines)):\n",
    "            word = lines[i].strip()\n",
    "            if word:\n",
    "                pred = result[i]\n",
    "                f.write(word + ' ' + pred)\n",
    "            f.write('\\n')"
   ]
  },
  {
   "cell_type": "code",
   "execution_count": 6,
   "metadata": {
    "scrolled": true
   },
   "outputs": [
    {
     "name": "stderr",
     "output_type": "stream",
     "text": [
      "Transitions: 100%|██████████| 311777/311777 [00:00<00:00, 1729640.15it/s]\n",
      "Emissions: 100%|██████████| 311777/311777 [00:00<00:00, 1359171.58it/s]\n",
      "SG: 100%|██████████| 44106/44106 [02:27<00:00, 298.41it/s]\n",
      "Transitions: 100%|██████████| 147875/147875 [00:00<00:00, 1640202.42it/s]\n",
      "Emissions: 100%|██████████| 147875/147875 [00:00<00:00, 1328818.55it/s]\n",
      "CN: 100%|██████████| 21413/21413 [00:56<00:00, 377.67it/s]\n",
      "Transitions: 100%|██████████| 11236/11236 [00:00<00:00, 1462442.20it/s]\n",
      "Emissions: 100%|██████████| 11236/11236 [00:00<00:00, 1186993.42it/s]\n",
      "EN: 100%|██████████| 1520/1520 [00:13<00:00, 105.29it/s]\n",
      "Transitions: 100%|██████████| 28199/28199 [00:00<00:00, 1440991.95it/s]\n",
      "Emissions: 100%|██████████| 28199/28199 [00:00<00:00, 1339697.33it/s]\n",
      "FR: 100%|██████████| 3700/3700 [00:09<00:00, 410.32it/s]\n"
     ]
    }
   ],
   "source": [
    "datasets = ['SG', 'CN', 'EN', 'FR']\n",
    "for dataset in datasets:\n",
    "    t, e = train(dataset)\n",
    "    validate(dataset, t, e)"
   ]
  },
  {
   "cell_type": "code",
   "execution_count": null,
   "metadata": {},
   "outputs": [],
   "source": []
  }
 ],
 "metadata": {
  "kernelspec": {
   "display_name": "Python 3",
   "language": "python",
   "name": "python3"
  },
  "language_info": {
   "codemirror_mode": {
    "name": "ipython",
    "version": 3
   },
   "file_extension": ".py",
   "mimetype": "text/x-python",
   "name": "python",
   "nbconvert_exporter": "python",
   "pygments_lexer": "ipython3",
   "version": "3.6.7"
  },
  "widgets": {
   "application/vnd.jupyter.widget-state+json": {
    "state": {
     "000f1c8b84c147bca71e9079d444db40": {
      "model_module": "@jupyter-widgets/controls",
      "model_module_version": "1.2.0",
      "model_name": "DescriptionStyleModel",
      "state": {
       "description_width": ""
      }
     },
     "004ae6b40d1a4a3dbfe97a20723e8a35": {
      "model_module": "@jupyter-widgets/controls",
      "model_module_version": "1.2.0",
      "model_name": "HTMLModel",
      "state": {
       "layout": "IPY_MODEL_a7c57d9b4d874dd7b4036e615ef7c8a2",
       "style": "IPY_MODEL_c275ae1b12a14fb7ac4b1ef2dd2023cb",
       "value": "  0% 0/311777 [00:00&lt;?, ?it/s]"
      }
     },
     "02b26d46a3f240d4a7bc554ec1b783a6": {
      "model_module": "@jupyter-widgets/base",
      "model_module_version": "1.0.0",
      "model_name": "LayoutModel",
      "state": {}
     },
     "04e20d7d4ffd47af883c6241deae4647": {
      "model_module": "@jupyter-widgets/controls",
      "model_module_version": "1.2.0",
      "model_name": "HBoxModel",
      "state": {
       "children": [
        "IPY_MODEL_6432f576ea69459a8908ecec01aa04aa",
        "IPY_MODEL_5a7f82d8fab14537a2e13a405812c042"
       ],
       "layout": "IPY_MODEL_088d6ce254024a148cdf65da73432330"
      }
     },
     "06995e2df2d34ca4921a8c9f9a31fdaa": {
      "model_module": "@jupyter-widgets/controls",
      "model_module_version": "1.2.0",
      "model_name": "HTMLModel",
      "state": {
       "layout": "IPY_MODEL_e87abb7cc376476aadee68010c95a1f5",
       "style": "IPY_MODEL_1c0d5d6b39034b9280268e22b4788f5f",
       "value": "100% 311777/311777 [00:00&lt;00:00, 1633980.32it/s]"
      }
     },
     "078ed5b3c91e479bbdfd0a277eb27275": {
      "model_module": "@jupyter-widgets/base",
      "model_module_version": "1.0.0",
      "model_name": "LayoutModel",
      "state": {}
     },
     "088d6ce254024a148cdf65da73432330": {
      "model_module": "@jupyter-widgets/base",
      "model_module_version": "1.0.0",
      "model_name": "LayoutModel",
      "state": {}
     },
     "08ca7eae462e40c382b29efd422de154": {
      "model_module": "@jupyter-widgets/controls",
      "model_module_version": "1.2.0",
      "model_name": "DescriptionStyleModel",
      "state": {
       "description_width": ""
      }
     },
     "09e6d364adf24c21bb0fb032e343993f": {
      "model_module": "@jupyter-widgets/base",
      "model_module_version": "1.0.0",
      "model_name": "LayoutModel",
      "state": {}
     },
     "0ab6f6abaf3249629325e921a56f9b05": {
      "model_module": "@jupyter-widgets/controls",
      "model_module_version": "1.2.0",
      "model_name": "ProgressStyleModel",
      "state": {
       "description_width": ""
      }
     },
     "0ae61151e3fe4d969c6ee75c09438977": {
      "model_module": "@jupyter-widgets/controls",
      "model_module_version": "1.2.0",
      "model_name": "IntProgressModel",
      "state": {
       "bar_style": "danger",
       "layout": "IPY_MODEL_1bf0683367df4f68a2af0a26dae84476",
       "max": 44106,
       "style": "IPY_MODEL_864612e64c364ea4a862b336e85cf07b"
      }
     },
     "0fb782ad23d648afac2820d8838ce0bc": {
      "model_module": "@jupyter-widgets/base",
      "model_module_version": "1.0.0",
      "model_name": "LayoutModel",
      "state": {}
     },
     "11258b90f388494aa89b517a55cc1285": {
      "model_module": "@jupyter-widgets/controls",
      "model_module_version": "1.2.0",
      "model_name": "IntProgressModel",
      "state": {
       "bar_style": "danger",
       "layout": "IPY_MODEL_77fe8749d2bb417795eb3f42d73f4a13",
       "max": 44106,
       "style": "IPY_MODEL_7f5a3e6f75d845f0ae0e593e2e56c4c3"
      }
     },
     "11fc0264db584d498e1e9c1c27eff1ef": {
      "model_module": "@jupyter-widgets/controls",
      "model_module_version": "1.2.0",
      "model_name": "DescriptionStyleModel",
      "state": {
       "description_width": ""
      }
     },
     "14e49a5626194871a77e8c243cd99ea7": {
      "model_module": "@jupyter-widgets/base",
      "model_module_version": "1.0.0",
      "model_name": "LayoutModel",
      "state": {}
     },
     "1517545cdeff4e12a38da4728e0f9e90": {
      "model_module": "@jupyter-widgets/base",
      "model_module_version": "1.0.0",
      "model_name": "LayoutModel",
      "state": {}
     },
     "16e1960a6bbd4246a33f731ead598e8f": {
      "model_module": "@jupyter-widgets/base",
      "model_module_version": "1.0.0",
      "model_name": "LayoutModel",
      "state": {}
     },
     "170ba1c006aa4e9592963036550daa2c": {
      "model_module": "@jupyter-widgets/controls",
      "model_module_version": "1.2.0",
      "model_name": "HTMLModel",
      "state": {
       "layout": "IPY_MODEL_0fb782ad23d648afac2820d8838ce0bc",
       "style": "IPY_MODEL_6c609569cb254693be239d3145d53bd9",
       "value": "100% 311777/311777 [00:00&lt;00:00, 908687.42it/s]"
      }
     },
     "171f1d273d2246358f3fbc9f09e8e486": {
      "model_module": "@jupyter-widgets/controls",
      "model_module_version": "1.2.0",
      "model_name": "ProgressStyleModel",
      "state": {
       "description_width": ""
      }
     },
     "174760e3daa247e487c2820798a870a9": {
      "model_module": "@jupyter-widgets/controls",
      "model_module_version": "1.2.0",
      "model_name": "ProgressStyleModel",
      "state": {
       "description_width": ""
      }
     },
     "188899c07736487fa2a9563c7a07c803": {
      "model_module": "@jupyter-widgets/controls",
      "model_module_version": "1.2.0",
      "model_name": "IntProgressModel",
      "state": {
       "bar_style": "danger",
       "layout": "IPY_MODEL_e5abc90b5d1943e3a4bfce0bbdd4d04b",
       "max": 44106,
       "style": "IPY_MODEL_b3f189e0842f470190ee379a278f7702"
      }
     },
     "1a24a7cd34b14415865abe33bcefa81b": {
      "model_module": "@jupyter-widgets/controls",
      "model_module_version": "1.2.0",
      "model_name": "HBoxModel",
      "state": {
       "children": [
        "IPY_MODEL_ac2879999b2e4da1b89dd701bb67287a",
        "IPY_MODEL_85673c5efcc74b0b9b2812a91a630096"
       ],
       "layout": "IPY_MODEL_93a54c6fecf047389fe0cf393f06d472"
      }
     },
     "1be4f90508b942d29bc34437bc1e8627": {
      "model_module": "@jupyter-widgets/base",
      "model_module_version": "1.0.0",
      "model_name": "LayoutModel",
      "state": {}
     },
     "1bf0683367df4f68a2af0a26dae84476": {
      "model_module": "@jupyter-widgets/base",
      "model_module_version": "1.0.0",
      "model_name": "LayoutModel",
      "state": {}
     },
     "1c0d5d6b39034b9280268e22b4788f5f": {
      "model_module": "@jupyter-widgets/controls",
      "model_module_version": "1.2.0",
      "model_name": "DescriptionStyleModel",
      "state": {
       "description_width": ""
      }
     },
     "1dbcbca6728e47c9ae31391a5f7cceee": {
      "model_module": "@jupyter-widgets/controls",
      "model_module_version": "1.2.0",
      "model_name": "HTMLModel",
      "state": {
       "layout": "IPY_MODEL_25c8beb8d65347138e90c64f2b5201d7",
       "style": "IPY_MODEL_3d94f260f94b4a69ae5c22f7f00f3f6f",
       "value": "100% 311777/311777 [00:00&lt;00:00, 916000.30it/s]"
      }
     },
     "1ddeb9017b6c47b8af0861971686c7b0": {
      "model_module": "@jupyter-widgets/controls",
      "model_module_version": "1.2.0",
      "model_name": "ProgressStyleModel",
      "state": {
       "description_width": ""
      }
     },
     "23179d53e6844c2baef47c835294fe24": {
      "model_module": "@jupyter-widgets/controls",
      "model_module_version": "1.2.0",
      "model_name": "ProgressStyleModel",
      "state": {
       "description_width": ""
      }
     },
     "240f8ea3496e430c93de38c0412ddd1b": {
      "model_module": "@jupyter-widgets/controls",
      "model_module_version": "1.2.0",
      "model_name": "DescriptionStyleModel",
      "state": {
       "description_width": ""
      }
     },
     "255dd08841ff459b869e91c55bd42c0c": {
      "model_module": "@jupyter-widgets/controls",
      "model_module_version": "1.2.0",
      "model_name": "ProgressStyleModel",
      "state": {
       "description_width": ""
      }
     },
     "25c8beb8d65347138e90c64f2b5201d7": {
      "model_module": "@jupyter-widgets/base",
      "model_module_version": "1.0.0",
      "model_name": "LayoutModel",
      "state": {}
     },
     "25f2341849904da7bec665081f84ca2a": {
      "model_module": "@jupyter-widgets/controls",
      "model_module_version": "1.2.0",
      "model_name": "ProgressStyleModel",
      "state": {
       "description_width": ""
      }
     },
     "26039b78f0134c2a8863cf570ae18438": {
      "model_module": "@jupyter-widgets/base",
      "model_module_version": "1.0.0",
      "model_name": "LayoutModel",
      "state": {}
     },
     "2611e65d064848fa94714b1bac023046": {
      "model_module": "@jupyter-widgets/controls",
      "model_module_version": "1.2.0",
      "model_name": "DescriptionStyleModel",
      "state": {
       "description_width": ""
      }
     },
     "26fbb3160fd349bbbdc85a74f9a61cb8": {
      "model_module": "@jupyter-widgets/controls",
      "model_module_version": "1.2.0",
      "model_name": "HBoxModel",
      "state": {
       "children": [
        "IPY_MODEL_4a94fb79623b4fb68ef74ebebb162655",
        "IPY_MODEL_2725c91381084c9484d005529647ba0d"
       ],
       "layout": "IPY_MODEL_b8d3b8b8af1a4fe8af647d876866cf31"
      }
     },
     "2725c91381084c9484d005529647ba0d": {
      "model_module": "@jupyter-widgets/controls",
      "model_module_version": "1.2.0",
      "model_name": "HTMLModel",
      "state": {
       "layout": "IPY_MODEL_b80be63c30734303a6f5f7fc17462f73",
       "style": "IPY_MODEL_2611e65d064848fa94714b1bac023046",
       "value": "  0% 0/44106 [00:00&lt;?, ?it/s]"
      }
     },
     "27eb52dd7c9b4c7db3230dfd55f47fd6": {
      "model_module": "@jupyter-widgets/controls",
      "model_module_version": "1.2.0",
      "model_name": "HBoxModel",
      "state": {
       "children": [
        "IPY_MODEL_7becbdf9b8fc4c719997a1eeeea4ef6d",
        "IPY_MODEL_c67b71205d594677be3fada258928b3f"
       ],
       "layout": "IPY_MODEL_5593ac9144f64c058840b7f8a66b0e42"
      }
     },
     "282ea57d69b240e09199c747c134b87d": {
      "model_module": "@jupyter-widgets/controls",
      "model_module_version": "1.2.0",
      "model_name": "IntProgressModel",
      "state": {
       "bar_style": "success",
       "description": "Transitions",
       "layout": "IPY_MODEL_f7be9fb76a43405682b3037c4c4e32af",
       "max": 311777,
       "style": "IPY_MODEL_973b0c22aa3f470cae80955d0ca1f4d5",
       "value": 311777
      }
     },
     "28731899cf0b46a3b05e1412b204f885": {
      "model_module": "@jupyter-widgets/controls",
      "model_module_version": "1.2.0",
      "model_name": "ProgressStyleModel",
      "state": {
       "description_width": ""
      }
     },
     "2b6f6ca21a854892b710531be6cc70c3": {
      "model_module": "@jupyter-widgets/controls",
      "model_module_version": "1.2.0",
      "model_name": "DescriptionStyleModel",
      "state": {
       "description_width": ""
      }
     },
     "2f99380300344493a97021338079d546": {
      "model_module": "@jupyter-widgets/controls",
      "model_module_version": "1.2.0",
      "model_name": "HTMLModel",
      "state": {
       "layout": "IPY_MODEL_43183151684d47c889850ad655bbd186",
       "style": "IPY_MODEL_96a2b96758594e7c9fa6575d2db7c18c",
       "value": "  0% 0/44106 [00:00&lt;?, ?it/s]"
      }
     },
     "2fb697bb14ef4d40bbb51b506851e48b": {
      "model_module": "@jupyter-widgets/base",
      "model_module_version": "1.0.0",
      "model_name": "LayoutModel",
      "state": {}
     },
     "30eeb8984d164e1190dd8e25e3a36ff9": {
      "model_module": "@jupyter-widgets/controls",
      "model_module_version": "1.2.0",
      "model_name": "DescriptionStyleModel",
      "state": {
       "description_width": ""
      }
     },
     "32c565bab94247178014d4435b88f388": {
      "model_module": "@jupyter-widgets/controls",
      "model_module_version": "1.2.0",
      "model_name": "ProgressStyleModel",
      "state": {
       "description_width": ""
      }
     },
     "335ca3f8b55f415f96244b5dfbf53359": {
      "model_module": "@jupyter-widgets/controls",
      "model_module_version": "1.2.0",
      "model_name": "DescriptionStyleModel",
      "state": {
       "description_width": ""
      }
     },
     "3382d55322754c3d9a2fa02699ac1aff": {
      "model_module": "@jupyter-widgets/controls",
      "model_module_version": "1.2.0",
      "model_name": "HBoxModel",
      "state": {
       "children": [
        "IPY_MODEL_e775aa4a7f9d428da0ba8b3f468ca04a",
        "IPY_MODEL_6ab6640aa2c8481e87da5eb83618e046"
       ],
       "layout": "IPY_MODEL_e679f4eabedc4740bc2894806bd6ad4d"
      }
     },
     "36bad8313dad4adaa461944f50d6d545": {
      "model_module": "@jupyter-widgets/controls",
      "model_module_version": "1.2.0",
      "model_name": "IntProgressModel",
      "state": {
       "bar_style": "success",
       "description": "Emissions",
       "layout": "IPY_MODEL_828735babc864a77a06c9d30ff12c52c",
       "max": 311777,
       "style": "IPY_MODEL_baf244cd58bb49ac8e19507828e71983",
       "value": 311777
      }
     },
     "36fc3f27c1f34121bfc3712c893d4b2b": {
      "model_module": "@jupyter-widgets/controls",
      "model_module_version": "1.2.0",
      "model_name": "HTMLModel",
      "state": {
       "layout": "IPY_MODEL_9c9126cde76f470aa9c40bfaaa9f6a43",
       "style": "IPY_MODEL_647a5247948042e6ab55d4f68dffd822",
       "value": "  0% 0/311777 [00:00&lt;?, ?it/s]"
      }
     },
     "38893b1218e044ad977fb8426b318497": {
      "model_module": "@jupyter-widgets/controls",
      "model_module_version": "1.2.0",
      "model_name": "DescriptionStyleModel",
      "state": {
       "description_width": ""
      }
     },
     "389f936c76794942baad4e7a22793eb3": {
      "model_module": "@jupyter-widgets/base",
      "model_module_version": "1.0.0",
      "model_name": "LayoutModel",
      "state": {}
     },
     "39640162e557478095dc54247186fbc9": {
      "model_module": "@jupyter-widgets/controls",
      "model_module_version": "1.2.0",
      "model_name": "HTMLModel",
      "state": {
       "layout": "IPY_MODEL_078ed5b3c91e479bbdfd0a277eb27275",
       "style": "IPY_MODEL_08ca7eae462e40c382b29efd422de154",
       "value": "100% 311777/311777 [00:00&lt;00:00, 1296043.86it/s]"
      }
     },
     "3a26d82cedc4440e9ce3ca2672047806": {
      "model_module": "@jupyter-widgets/base",
      "model_module_version": "1.0.0",
      "model_name": "LayoutModel",
      "state": {}
     },
     "3acf7ef2c0634a4092580c003333f882": {
      "model_module": "@jupyter-widgets/controls",
      "model_module_version": "1.2.0",
      "model_name": "HBoxModel",
      "state": {
       "children": [
        "IPY_MODEL_4ff5d1b460294ab788b8ae997cb63683",
        "IPY_MODEL_d79e01e13b734d76960d6f086b46c299"
       ],
       "layout": "IPY_MODEL_c0bd43cff75845ba8295a4f3fe8732f4"
      }
     },
     "3d94f260f94b4a69ae5c22f7f00f3f6f": {
      "model_module": "@jupyter-widgets/controls",
      "model_module_version": "1.2.0",
      "model_name": "DescriptionStyleModel",
      "state": {
       "description_width": ""
      }
     },
     "3dff69d6f6f24875b208a6c5cf3bc153": {
      "model_module": "@jupyter-widgets/controls",
      "model_module_version": "1.2.0",
      "model_name": "IntProgressModel",
      "state": {
       "bar_style": "success",
       "description": "Transitions",
       "layout": "IPY_MODEL_45349e24fb6c4576bcf3e8d22d912c56",
       "max": 311777,
       "style": "IPY_MODEL_551285ca71d140beb1fae77110b17e77",
       "value": 311777
      }
     },
     "3f9f6d795cdf49bea456e6c62196dce6": {
      "model_module": "@jupyter-widgets/controls",
      "model_module_version": "1.2.0",
      "model_name": "IntProgressModel",
      "state": {
       "bar_style": "danger",
       "layout": "IPY_MODEL_14e49a5626194871a77e8c243cd99ea7",
       "max": 44106,
       "style": "IPY_MODEL_f137233411cd4387a0aff3045aaa4dee"
      }
     },
     "4010c9af5eab43019305f079c61361d4": {
      "model_module": "@jupyter-widgets/controls",
      "model_module_version": "1.2.0",
      "model_name": "HTMLModel",
      "state": {
       "layout": "IPY_MODEL_c34cabca216648538221f3d7ec53deb2",
       "style": "IPY_MODEL_a174382832b4475ebd286f68c06670a4",
       "value": "  0% 0/44106 [00:00&lt;?, ?it/s]"
      }
     },
     "43183151684d47c889850ad655bbd186": {
      "model_module": "@jupyter-widgets/base",
      "model_module_version": "1.0.0",
      "model_name": "LayoutModel",
      "state": {}
     },
     "45349e24fb6c4576bcf3e8d22d912c56": {
      "model_module": "@jupyter-widgets/base",
      "model_module_version": "1.0.0",
      "model_name": "LayoutModel",
      "state": {}
     },
     "45d9478db5ec443591bd0a3e2456f849": {
      "model_module": "@jupyter-widgets/base",
      "model_module_version": "1.0.0",
      "model_name": "LayoutModel",
      "state": {}
     },
     "47aa4ebe213949df9a896de151925b11": {
      "model_module": "@jupyter-widgets/base",
      "model_module_version": "1.0.0",
      "model_name": "LayoutModel",
      "state": {}
     },
     "4a94fb79623b4fb68ef74ebebb162655": {
      "model_module": "@jupyter-widgets/controls",
      "model_module_version": "1.2.0",
      "model_name": "IntProgressModel",
      "state": {
       "bar_style": "danger",
       "layout": "IPY_MODEL_550767c8dc8747a28a8a4109c1a0940f",
       "max": 44106,
       "style": "IPY_MODEL_b5ff872548704eb08c074da517ecbf32"
      }
     },
     "4b352dd9c6f244afad78cd9810799370": {
      "model_module": "@jupyter-widgets/controls",
      "model_module_version": "1.2.0",
      "model_name": "HTMLModel",
      "state": {
       "layout": "IPY_MODEL_59bd2b4dc56a4624a1709a387e664a01",
       "style": "IPY_MODEL_b5d775eb5df1455994b7fc5af154405e",
       "value": "  0% 0/311777 [00:00&lt;?, ?it/s]"
      }
     },
     "4b9af9409cef42b7bca84b94e6a562b9": {
      "model_module": "@jupyter-widgets/controls",
      "model_module_version": "1.2.0",
      "model_name": "IntProgressModel",
      "state": {
       "bar_style": "danger",
       "layout": "IPY_MODEL_85ce836056b94abd8e395b8879826e96",
       "max": 44106,
       "style": "IPY_MODEL_255dd08841ff459b869e91c55bd42c0c"
      }
     },
     "4fb8380fcbd24ac0b44d55cfdeaa3013": {
      "model_module": "@jupyter-widgets/base",
      "model_module_version": "1.0.0",
      "model_name": "LayoutModel",
      "state": {}
     },
     "4ff5d1b460294ab788b8ae997cb63683": {
      "model_module": "@jupyter-widgets/controls",
      "model_module_version": "1.2.0",
      "model_name": "IntProgressModel",
      "state": {
       "bar_style": "danger",
       "layout": "IPY_MODEL_aa423ff3c09244fb829f5c46cbeb727c",
       "max": 44106,
       "style": "IPY_MODEL_174760e3daa247e487c2820798a870a9"
      }
     },
     "5078f622683e41ee97a5c5663390c013": {
      "model_module": "@jupyter-widgets/controls",
      "model_module_version": "1.2.0",
      "model_name": "HBoxModel",
      "state": {
       "children": [
        "IPY_MODEL_3f9f6d795cdf49bea456e6c62196dce6",
        "IPY_MODEL_7135097801b04638a9e2e3e0524a33bb"
       ],
       "layout": "IPY_MODEL_a483ca68dc87429a8031c16e4e6cfbbd"
      }
     },
     "5275c6cce46f42b682bef8e83d5f0bc9": {
      "model_module": "@jupyter-widgets/controls",
      "model_module_version": "1.2.0",
      "model_name": "IntProgressModel",
      "state": {
       "bar_style": "success",
       "description": "Transitions",
       "layout": "IPY_MODEL_2fb697bb14ef4d40bbb51b506851e48b",
       "max": 311777,
       "style": "IPY_MODEL_f4f13192a7464f6dba1fd2bf4263b113",
       "value": 311777
      }
     },
     "53005dfe985c4570acd80f06246c84e2": {
      "model_module": "@jupyter-widgets/controls",
      "model_module_version": "1.2.0",
      "model_name": "HTMLModel",
      "state": {
       "layout": "IPY_MODEL_16e1960a6bbd4246a33f731ead598e8f",
       "style": "IPY_MODEL_96ec1dac7fe24ad4a7ade658c2fbcbfa",
       "value": "  0% 0/311777 [00:00&lt;?, ?it/s]"
      }
     },
     "53d6b62ff93e41adb786a41a11b92da2": {
      "model_module": "@jupyter-widgets/controls",
      "model_module_version": "1.2.0",
      "model_name": "HBoxModel",
      "state": {
       "children": [
        "IPY_MODEL_11258b90f388494aa89b517a55cc1285",
        "IPY_MODEL_4010c9af5eab43019305f079c61361d4"
       ],
       "layout": "IPY_MODEL_d8ce472e3fa749d5ad94175d34ff410a"
      }
     },
     "53f3a8af9f5f456e915495a389235b05": {
      "model_module": "@jupyter-widgets/base",
      "model_module_version": "1.0.0",
      "model_name": "LayoutModel",
      "state": {}
     },
     "550767c8dc8747a28a8a4109c1a0940f": {
      "model_module": "@jupyter-widgets/base",
      "model_module_version": "1.0.0",
      "model_name": "LayoutModel",
      "state": {}
     },
     "551285ca71d140beb1fae77110b17e77": {
      "model_module": "@jupyter-widgets/controls",
      "model_module_version": "1.2.0",
      "model_name": "ProgressStyleModel",
      "state": {
       "description_width": ""
      }
     },
     "5593ac9144f64c058840b7f8a66b0e42": {
      "model_module": "@jupyter-widgets/base",
      "model_module_version": "1.0.0",
      "model_name": "LayoutModel",
      "state": {}
     },
     "59bd2b4dc56a4624a1709a387e664a01": {
      "model_module": "@jupyter-widgets/base",
      "model_module_version": "1.0.0",
      "model_name": "LayoutModel",
      "state": {}
     },
     "5a7f82d8fab14537a2e13a405812c042": {
      "model_module": "@jupyter-widgets/controls",
      "model_module_version": "1.2.0",
      "model_name": "HTMLModel",
      "state": {
       "layout": "IPY_MODEL_6bb4f171b6cd48ed95f1daea69c813fa",
       "style": "IPY_MODEL_a7a4b92de8274b779232a126b8293129",
       "value": "100% 311777/311777 [00:00&lt;00:00, 954404.97it/s]"
      }
     },
     "6072dde4b9fc4f2292c7ded36bd0d4a3": {
      "model_module": "@jupyter-widgets/controls",
      "model_module_version": "1.2.0",
      "model_name": "HBoxModel",
      "state": {
       "children": [
        "IPY_MODEL_d9a175a5fccf43509ac4df6695cfbbd0",
        "IPY_MODEL_36fc3f27c1f34121bfc3712c893d4b2b"
       ],
       "layout": "IPY_MODEL_9ba90240654f4a92a131fd0275f261ed"
      }
     },
     "639ff2dd7e3a4582a5a334a9f19252b8": {
      "model_module": "@jupyter-widgets/controls",
      "model_module_version": "1.2.0",
      "model_name": "HBoxModel",
      "state": {
       "children": [
        "IPY_MODEL_4b9af9409cef42b7bca84b94e6a562b9",
        "IPY_MODEL_2f99380300344493a97021338079d546"
       ],
       "layout": "IPY_MODEL_c34eef3be1704de2947adc6d17acc345"
      }
     },
     "6432f576ea69459a8908ecec01aa04aa": {
      "model_module": "@jupyter-widgets/controls",
      "model_module_version": "1.2.0",
      "model_name": "IntProgressModel",
      "state": {
       "bar_style": "success",
       "description": "Emissions",
       "layout": "IPY_MODEL_ec92840df0e94fd6b3a20284a29c8353",
       "max": 311777,
       "style": "IPY_MODEL_25f2341849904da7bec665081f84ca2a",
       "value": 311777
      }
     },
     "647a5247948042e6ab55d4f68dffd822": {
      "model_module": "@jupyter-widgets/controls",
      "model_module_version": "1.2.0",
      "model_name": "DescriptionStyleModel",
      "state": {
       "description_width": ""
      }
     },
     "65dafbef5e0c44f1a8f19351ab213e05": {
      "model_module": "@jupyter-widgets/controls",
      "model_module_version": "1.2.0",
      "model_name": "DescriptionStyleModel",
      "state": {
       "description_width": ""
      }
     },
     "693cdb4244614f1aa77a9ac672eb5146": {
      "model_module": "@jupyter-widgets/base",
      "model_module_version": "1.0.0",
      "model_name": "LayoutModel",
      "state": {}
     },
     "6ab6640aa2c8481e87da5eb83618e046": {
      "model_module": "@jupyter-widgets/controls",
      "model_module_version": "1.2.0",
      "model_name": "HTMLModel",
      "state": {
       "layout": "IPY_MODEL_95d781fe32e84d3095829b34e3c33095",
       "style": "IPY_MODEL_000f1c8b84c147bca71e9079d444db40",
       "value": "100% 311777/311777 [00:00&lt;00:00, 1246127.57it/s]"
      }
     },
     "6b5374c9206748c5812a9000889326e2": {
      "model_module": "@jupyter-widgets/base",
      "model_module_version": "1.0.0",
      "model_name": "LayoutModel",
      "state": {}
     },
     "6b8aeea4726947df81cb71bf64408d8d": {
      "model_module": "@jupyter-widgets/base",
      "model_module_version": "1.0.0",
      "model_name": "LayoutModel",
      "state": {}
     },
     "6bb0858521034d2bac00ada79e1ce5a2": {
      "model_module": "@jupyter-widgets/controls",
      "model_module_version": "1.2.0",
      "model_name": "ProgressStyleModel",
      "state": {
       "description_width": ""
      }
     },
     "6bb4f171b6cd48ed95f1daea69c813fa": {
      "model_module": "@jupyter-widgets/base",
      "model_module_version": "1.0.0",
      "model_name": "LayoutModel",
      "state": {}
     },
     "6c609569cb254693be239d3145d53bd9": {
      "model_module": "@jupyter-widgets/controls",
      "model_module_version": "1.2.0",
      "model_name": "DescriptionStyleModel",
      "state": {
       "description_width": ""
      }
     },
     "6dc7351732994a7796935991cfbfc6c7": {
      "model_module": "@jupyter-widgets/base",
      "model_module_version": "1.0.0",
      "model_name": "LayoutModel",
      "state": {}
     },
     "6ed2a00957c8429bb606b78e80fe8299": {
      "model_module": "@jupyter-widgets/controls",
      "model_module_version": "1.2.0",
      "model_name": "DescriptionStyleModel",
      "state": {
       "description_width": ""
      }
     },
     "7135097801b04638a9e2e3e0524a33bb": {
      "model_module": "@jupyter-widgets/controls",
      "model_module_version": "1.2.0",
      "model_name": "HTMLModel",
      "state": {
       "layout": "IPY_MODEL_da5c74c2ec48433aab71bf4499456608",
       "style": "IPY_MODEL_30eeb8984d164e1190dd8e25e3a36ff9",
       "value": "  0% 0/44106 [00:00&lt;?, ?it/s]"
      }
     },
     "714a48e68ee846278e30b5c5aad95588": {
      "model_module": "@jupyter-widgets/controls",
      "model_module_version": "1.2.0",
      "model_name": "HBoxModel",
      "state": {
       "children": [
        "IPY_MODEL_d365e5018cb14f4db3b8bea7b0dee437",
        "IPY_MODEL_170ba1c006aa4e9592963036550daa2c"
       ],
       "layout": "IPY_MODEL_9534f86de45c46c39763dda656a68351"
      }
     },
     "72d31214094340958ca122ca03b99cbe": {
      "model_module": "@jupyter-widgets/controls",
      "model_module_version": "1.2.0",
      "model_name": "HTMLModel",
      "state": {
       "layout": "IPY_MODEL_9243ed2090cf4acc95d9f9f787d116b6",
       "style": "IPY_MODEL_38893b1218e044ad977fb8426b318497",
       "value": "100% 311777/311777 [00:00&lt;00:00, 1218803.81it/s]"
      }
     },
     "73f40046b90b4a88af9b1ed472440d25": {
      "model_module": "@jupyter-widgets/controls",
      "model_module_version": "1.2.0",
      "model_name": "HTMLModel",
      "state": {
       "layout": "IPY_MODEL_b433f23880a04055954d73b183656a2d",
       "style": "IPY_MODEL_240f8ea3496e430c93de38c0412ddd1b",
       "value": "  0% 0/44106 [00:00&lt;?, ?it/s]"
      }
     },
     "757ed54fc2834ae59738bad97edacf42": {
      "model_module": "@jupyter-widgets/controls",
      "model_module_version": "1.2.0",
      "model_name": "HTMLModel",
      "state": {
       "layout": "IPY_MODEL_8d36747fae6043e5855505b41f48c9ca",
       "style": "IPY_MODEL_2b6f6ca21a854892b710531be6cc70c3",
       "value": "100% 311777/311777 [00:00&lt;00:00, 963890.80it/s]"
      }
     },
     "76eba9149fa841fca06a07bbf0314f7f": {
      "model_module": "@jupyter-widgets/controls",
      "model_module_version": "1.2.0",
      "model_name": "ProgressStyleModel",
      "state": {
       "description_width": ""
      }
     },
     "77fe8749d2bb417795eb3f42d73f4a13": {
      "model_module": "@jupyter-widgets/base",
      "model_module_version": "1.0.0",
      "model_name": "LayoutModel",
      "state": {}
     },
     "7becbdf9b8fc4c719997a1eeeea4ef6d": {
      "model_module": "@jupyter-widgets/controls",
      "model_module_version": "1.2.0",
      "model_name": "IntProgressModel",
      "state": {
       "bar_style": "success",
       "description": "Emissions",
       "layout": "IPY_MODEL_7cb77f497cc44d9498c1745ae22097b8",
       "max": 311777,
       "style": "IPY_MODEL_171f1d273d2246358f3fbc9f09e8e486",
       "value": 311777
      }
     },
     "7c11ac46c36b4cbeb2a521946f550c45": {
      "model_module": "@jupyter-widgets/controls",
      "model_module_version": "1.2.0",
      "model_name": "HBoxModel",
      "state": {
       "children": [
        "IPY_MODEL_5275c6cce46f42b682bef8e83d5f0bc9",
        "IPY_MODEL_39640162e557478095dc54247186fbc9"
       ],
       "layout": "IPY_MODEL_9bd15c9e874440dfa29ff79aa8548266"
      }
     },
     "7c845549d1a640639a69bb8bb9373ec6": {
      "model_module": "@jupyter-widgets/controls",
      "model_module_version": "1.2.0",
      "model_name": "HTMLModel",
      "state": {
       "layout": "IPY_MODEL_c42341d48a5549c489dae43f21bc64f2",
       "style": "IPY_MODEL_c03936e21ea84c30a2f1194d18ef90a2",
       "value": "100% 311777/311777 [00:00&lt;00:00, 1236202.85it/s]"
      }
     },
     "7cb77f497cc44d9498c1745ae22097b8": {
      "model_module": "@jupyter-widgets/base",
      "model_module_version": "1.0.0",
      "model_name": "LayoutModel",
      "state": {}
     },
     "7e35638c3664432f86ad718350f1fe7c": {
      "model_module": "@jupyter-widgets/controls",
      "model_module_version": "1.2.0",
      "model_name": "IntProgressModel",
      "state": {
       "bar_style": "success",
       "layout": "IPY_MODEL_9ef3f84b513a4d308489f7b29654644b",
       "max": 311777,
       "style": "IPY_MODEL_32c565bab94247178014d4435b88f388",
       "value": 311777
      }
     },
     "7f5a3e6f75d845f0ae0e593e2e56c4c3": {
      "model_module": "@jupyter-widgets/controls",
      "model_module_version": "1.2.0",
      "model_name": "ProgressStyleModel",
      "state": {
       "description_width": ""
      }
     },
     "7f81f8c449cb4ff78e15b9b6950bec77": {
      "model_module": "@jupyter-widgets/controls",
      "model_module_version": "1.2.0",
      "model_name": "IntProgressModel",
      "state": {
       "bar_style": "danger",
       "layout": "IPY_MODEL_02b26d46a3f240d4a7bc554ec1b783a6",
       "max": 44106,
       "style": "IPY_MODEL_e8f0475470a14c8eaac2ed67702770dd"
      }
     },
     "8070ea6ee2f04ce8a78f70a46ebb7891": {
      "model_module": "@jupyter-widgets/base",
      "model_module_version": "1.0.0",
      "model_name": "LayoutModel",
      "state": {}
     },
     "82686439789a441ea4505a828ee2d932": {
      "model_module": "@jupyter-widgets/controls",
      "model_module_version": "1.2.0",
      "model_name": "ProgressStyleModel",
      "state": {
       "description_width": ""
      }
     },
     "828735babc864a77a06c9d30ff12c52c": {
      "model_module": "@jupyter-widgets/base",
      "model_module_version": "1.0.0",
      "model_name": "LayoutModel",
      "state": {}
     },
     "8392adaf6bd04e6aa918fa6ee44d236c": {
      "model_module": "@jupyter-widgets/controls",
      "model_module_version": "1.2.0",
      "model_name": "HTMLModel",
      "state": {
       "layout": "IPY_MODEL_a8a1979e801442dc90b2b968ccb0a1e9",
       "style": "IPY_MODEL_b2d72352e7ec4e52b295b8775a7dae13",
       "value": "100% 311777/311777 [00:00&lt;00:00, 1240110.19it/s]"
      }
     },
     "84d7fe30ec184b34acd5fea1545d939f": {
      "model_module": "@jupyter-widgets/controls",
      "model_module_version": "1.2.0",
      "model_name": "HBoxModel",
      "state": {
       "children": [
        "IPY_MODEL_ad179af4b54c497a8c4ad7963326372b",
        "IPY_MODEL_757ed54fc2834ae59738bad97edacf42"
       ],
       "layout": "IPY_MODEL_6dc7351732994a7796935991cfbfc6c7"
      }
     },
     "8545650ffe7e447dbe138a94359a32c7": {
      "model_module": "@jupyter-widgets/controls",
      "model_module_version": "1.2.0",
      "model_name": "IntProgressModel",
      "state": {
       "bar_style": "danger",
       "layout": "IPY_MODEL_4fb8380fcbd24ac0b44d55cfdeaa3013",
       "max": 311777,
       "style": "IPY_MODEL_9e732a1201bd403c9ff21b599f79b197"
      }
     },
     "85673c5efcc74b0b9b2812a91a630096": {
      "model_module": "@jupyter-widgets/controls",
      "model_module_version": "1.2.0",
      "model_name": "HTMLModel",
      "state": {
       "layout": "IPY_MODEL_1517545cdeff4e12a38da4728e0f9e90",
       "style": "IPY_MODEL_11fc0264db584d498e1e9c1c27eff1ef",
       "value": "100% 311777/311777 [00:00&lt;00:00, 1285053.86it/s]"
      }
     },
     "85ce836056b94abd8e395b8879826e96": {
      "model_module": "@jupyter-widgets/base",
      "model_module_version": "1.0.0",
      "model_name": "LayoutModel",
      "state": {}
     },
     "864612e64c364ea4a862b336e85cf07b": {
      "model_module": "@jupyter-widgets/controls",
      "model_module_version": "1.2.0",
      "model_name": "ProgressStyleModel",
      "state": {
       "description_width": ""
      }
     },
     "8792239a6bd6446ba4670ad898e9116a": {
      "model_module": "@jupyter-widgets/controls",
      "model_module_version": "1.2.0",
      "model_name": "DescriptionStyleModel",
      "state": {
       "description_width": ""
      }
     },
     "88800c181906492f87d8320c6421c870": {
      "model_module": "@jupyter-widgets/controls",
      "model_module_version": "1.2.0",
      "model_name": "HBoxModel",
      "state": {
       "children": [
        "IPY_MODEL_cc2ae1d673394443a5c4911438601005",
        "IPY_MODEL_8392adaf6bd04e6aa918fa6ee44d236c"
       ],
       "layout": "IPY_MODEL_b12f0cd0253e4b1c9ab67507ff818ba4"
      }
     },
     "8940ce84250f447ba48bfd62cd1593d6": {
      "model_module": "@jupyter-widgets/controls",
      "model_module_version": "1.2.0",
      "model_name": "HTMLModel",
      "state": {
       "layout": "IPY_MODEL_6b8aeea4726947df81cb71bf64408d8d",
       "style": "IPY_MODEL_6ed2a00957c8429bb606b78e80fe8299",
       "value": "  0% 0/44106 [00:00&lt;?, ?it/s]"
      }
     },
     "8d36747fae6043e5855505b41f48c9ca": {
      "model_module": "@jupyter-widgets/base",
      "model_module_version": "1.0.0",
      "model_name": "LayoutModel",
      "state": {}
     },
     "8fcfebb662c14b0a98e6f94eac371f88": {
      "model_module": "@jupyter-widgets/controls",
      "model_module_version": "1.2.0",
      "model_name": "HBoxModel",
      "state": {
       "children": [
        "IPY_MODEL_f9c2b56bffc74d4588c385c722184b53",
        "IPY_MODEL_06995e2df2d34ca4921a8c9f9a31fdaa"
       ],
       "layout": "IPY_MODEL_389f936c76794942baad4e7a22793eb3"
      }
     },
     "92170bdc3cda4bf38503a1e326499794": {
      "model_module": "@jupyter-widgets/base",
      "model_module_version": "1.0.0",
      "model_name": "LayoutModel",
      "state": {}
     },
     "9243ed2090cf4acc95d9f9f787d116b6": {
      "model_module": "@jupyter-widgets/base",
      "model_module_version": "1.0.0",
      "model_name": "LayoutModel",
      "state": {}
     },
     "93a54c6fecf047389fe0cf393f06d472": {
      "model_module": "@jupyter-widgets/base",
      "model_module_version": "1.0.0",
      "model_name": "LayoutModel",
      "state": {}
     },
     "94913e2d434f4e2fa7a58901ef37a0d0": {
      "model_module": "@jupyter-widgets/controls",
      "model_module_version": "1.2.0",
      "model_name": "HTMLModel",
      "state": {
       "layout": "IPY_MODEL_09e6d364adf24c21bb0fb032e343993f",
       "style": "IPY_MODEL_d03d3ad4f084446da23e6b97098e379a",
       "value": "100% 311777/311777 [00:00&lt;00:00, 874815.62it/s]"
      }
     },
     "9534f86de45c46c39763dda656a68351": {
      "model_module": "@jupyter-widgets/base",
      "model_module_version": "1.0.0",
      "model_name": "LayoutModel",
      "state": {}
     },
     "95d781fe32e84d3095829b34e3c33095": {
      "model_module": "@jupyter-widgets/base",
      "model_module_version": "1.0.0",
      "model_name": "LayoutModel",
      "state": {}
     },
     "96a2b96758594e7c9fa6575d2db7c18c": {
      "model_module": "@jupyter-widgets/controls",
      "model_module_version": "1.2.0",
      "model_name": "DescriptionStyleModel",
      "state": {
       "description_width": ""
      }
     },
     "96ec1dac7fe24ad4a7ade658c2fbcbfa": {
      "model_module": "@jupyter-widgets/controls",
      "model_module_version": "1.2.0",
      "model_name": "DescriptionStyleModel",
      "state": {
       "description_width": ""
      }
     },
     "973b0c22aa3f470cae80955d0ca1f4d5": {
      "model_module": "@jupyter-widgets/controls",
      "model_module_version": "1.2.0",
      "model_name": "ProgressStyleModel",
      "state": {
       "description_width": ""
      }
     },
     "9b14f429d6ce4db69646565fc4a13f44": {
      "model_module": "@jupyter-widgets/base",
      "model_module_version": "1.0.0",
      "model_name": "LayoutModel",
      "state": {}
     },
     "9ba90240654f4a92a131fd0275f261ed": {
      "model_module": "@jupyter-widgets/base",
      "model_module_version": "1.0.0",
      "model_name": "LayoutModel",
      "state": {}
     },
     "9bd15c9e874440dfa29ff79aa8548266": {
      "model_module": "@jupyter-widgets/base",
      "model_module_version": "1.0.0",
      "model_name": "LayoutModel",
      "state": {}
     },
     "9c9126cde76f470aa9c40bfaaa9f6a43": {
      "model_module": "@jupyter-widgets/base",
      "model_module_version": "1.0.0",
      "model_name": "LayoutModel",
      "state": {}
     },
     "9e037068e0c54ce4863ef4c28b69d0df": {
      "model_module": "@jupyter-widgets/base",
      "model_module_version": "1.0.0",
      "model_name": "LayoutModel",
      "state": {}
     },
     "9e732a1201bd403c9ff21b599f79b197": {
      "model_module": "@jupyter-widgets/controls",
      "model_module_version": "1.2.0",
      "model_name": "ProgressStyleModel",
      "state": {
       "description_width": ""
      }
     },
     "9ef3f84b513a4d308489f7b29654644b": {
      "model_module": "@jupyter-widgets/base",
      "model_module_version": "1.0.0",
      "model_name": "LayoutModel",
      "state": {}
     },
     "a057143385fe4bb48d6d75163b677a16": {
      "model_module": "@jupyter-widgets/base",
      "model_module_version": "1.0.0",
      "model_name": "LayoutModel",
      "state": {}
     },
     "a174382832b4475ebd286f68c06670a4": {
      "model_module": "@jupyter-widgets/controls",
      "model_module_version": "1.2.0",
      "model_name": "DescriptionStyleModel",
      "state": {
       "description_width": ""
      }
     },
     "a483ca68dc87429a8031c16e4e6cfbbd": {
      "model_module": "@jupyter-widgets/base",
      "model_module_version": "1.0.0",
      "model_name": "LayoutModel",
      "state": {}
     },
     "a512c35954904bc59715a6f730df0a21": {
      "model_module": "@jupyter-widgets/base",
      "model_module_version": "1.0.0",
      "model_name": "LayoutModel",
      "state": {}
     },
     "a552c74bf6d84b79ab8b1ff22ea64470": {
      "model_module": "@jupyter-widgets/base",
      "model_module_version": "1.0.0",
      "model_name": "LayoutModel",
      "state": {}
     },
     "a72faed13879455a92fff27775570be4": {
      "model_module": "@jupyter-widgets/base",
      "model_module_version": "1.0.0",
      "model_name": "LayoutModel",
      "state": {}
     },
     "a7a4b92de8274b779232a126b8293129": {
      "model_module": "@jupyter-widgets/controls",
      "model_module_version": "1.2.0",
      "model_name": "DescriptionStyleModel",
      "state": {
       "description_width": ""
      }
     },
     "a7c57d9b4d874dd7b4036e615ef7c8a2": {
      "model_module": "@jupyter-widgets/base",
      "model_module_version": "1.0.0",
      "model_name": "LayoutModel",
      "state": {}
     },
     "a8a1979e801442dc90b2b968ccb0a1e9": {
      "model_module": "@jupyter-widgets/base",
      "model_module_version": "1.0.0",
      "model_name": "LayoutModel",
      "state": {}
     },
     "a9b726ca68e1411fb18de74db068cb26": {
      "model_module": "@jupyter-widgets/controls",
      "model_module_version": "1.2.0",
      "model_name": "HTMLModel",
      "state": {
       "layout": "IPY_MODEL_693cdb4244614f1aa77a9ac672eb5146",
       "style": "IPY_MODEL_e3da0279c37c4c3e93de951cd467d39d",
       "value": "  0% 0/44106 [00:00&lt;?, ?it/s]"
      }
     },
     "aa423ff3c09244fb829f5c46cbeb727c": {
      "model_module": "@jupyter-widgets/base",
      "model_module_version": "1.0.0",
      "model_name": "LayoutModel",
      "state": {}
     },
     "ab7720b57ce248c196c8d0550ac2e31a": {
      "model_module": "@jupyter-widgets/base",
      "model_module_version": "1.0.0",
      "model_name": "LayoutModel",
      "state": {}
     },
     "ac2879999b2e4da1b89dd701bb67287a": {
      "model_module": "@jupyter-widgets/controls",
      "model_module_version": "1.2.0",
      "model_name": "IntProgressModel",
      "state": {
       "bar_style": "success",
       "layout": "IPY_MODEL_1be4f90508b942d29bc34437bc1e8627",
       "max": 311777,
       "style": "IPY_MODEL_d1107436852a4f79a15dcb3c5adaa9be",
       "value": 311777
      }
     },
     "ad179af4b54c497a8c4ad7963326372b": {
      "model_module": "@jupyter-widgets/controls",
      "model_module_version": "1.2.0",
      "model_name": "IntProgressModel",
      "state": {
       "bar_style": "success",
       "description": "Emissions",
       "layout": "IPY_MODEL_a552c74bf6d84b79ab8b1ff22ea64470",
       "max": 311777,
       "style": "IPY_MODEL_0ab6f6abaf3249629325e921a56f9b05",
       "value": 311777
      }
     },
     "ae316bb121724af481aa5b9067929c16": {
      "model_module": "@jupyter-widgets/controls",
      "model_module_version": "1.2.0",
      "model_name": "HBoxModel",
      "state": {
       "children": [
        "IPY_MODEL_3dff69d6f6f24875b208a6c5cf3bc153",
        "IPY_MODEL_72d31214094340958ca122ca03b99cbe"
       ],
       "layout": "IPY_MODEL_e2e40261f53648c48ad427247ae44a59"
      }
     },
     "af6bbddcae94478ea9402f9aca583bdc": {
      "model_module": "@jupyter-widgets/controls",
      "model_module_version": "1.2.0",
      "model_name": "IntProgressModel",
      "state": {
       "bar_style": "success",
       "description": "Transitions",
       "layout": "IPY_MODEL_8070ea6ee2f04ce8a78f70a46ebb7891",
       "max": 311777,
       "style": "IPY_MODEL_1ddeb9017b6c47b8af0861971686c7b0",
       "value": 311777
      }
     },
     "b12f0cd0253e4b1c9ab67507ff818ba4": {
      "model_module": "@jupyter-widgets/base",
      "model_module_version": "1.0.0",
      "model_name": "LayoutModel",
      "state": {}
     },
     "b2d72352e7ec4e52b295b8775a7dae13": {
      "model_module": "@jupyter-widgets/controls",
      "model_module_version": "1.2.0",
      "model_name": "DescriptionStyleModel",
      "state": {
       "description_width": ""
      }
     },
     "b3f189e0842f470190ee379a278f7702": {
      "model_module": "@jupyter-widgets/controls",
      "model_module_version": "1.2.0",
      "model_name": "ProgressStyleModel",
      "state": {
       "description_width": ""
      }
     },
     "b433f23880a04055954d73b183656a2d": {
      "model_module": "@jupyter-widgets/base",
      "model_module_version": "1.0.0",
      "model_name": "LayoutModel",
      "state": {}
     },
     "b4566feb44fc42858031122b7b0fbc25": {
      "model_module": "@jupyter-widgets/controls",
      "model_module_version": "1.2.0",
      "model_name": "ProgressStyleModel",
      "state": {
       "description_width": ""
      }
     },
     "b5d775eb5df1455994b7fc5af154405e": {
      "model_module": "@jupyter-widgets/controls",
      "model_module_version": "1.2.0",
      "model_name": "DescriptionStyleModel",
      "state": {
       "description_width": ""
      }
     },
     "b5ff872548704eb08c074da517ecbf32": {
      "model_module": "@jupyter-widgets/controls",
      "model_module_version": "1.2.0",
      "model_name": "ProgressStyleModel",
      "state": {
       "description_width": ""
      }
     },
     "b70e9a138e0242f19334eaf82084fd89": {
      "model_module": "@jupyter-widgets/controls",
      "model_module_version": "1.2.0",
      "model_name": "HBoxModel",
      "state": {
       "children": [
        "IPY_MODEL_36bad8313dad4adaa461944f50d6d545",
        "IPY_MODEL_1dbcbca6728e47c9ae31391a5f7cceee"
       ],
       "layout": "IPY_MODEL_c89004f22b164191b46c526e2a207450"
      }
     },
     "b736bcf9a50a41098fee8a84fc171695": {
      "model_module": "@jupyter-widgets/base",
      "model_module_version": "1.0.0",
      "model_name": "LayoutModel",
      "state": {}
     },
     "b7921cdef60d4a3ab2918255317bc5cb": {
      "model_module": "@jupyter-widgets/controls",
      "model_module_version": "1.2.0",
      "model_name": "HBoxModel",
      "state": {
       "children": [
        "IPY_MODEL_282ea57d69b240e09199c747c134b87d",
        "IPY_MODEL_7c845549d1a640639a69bb8bb9373ec6"
       ],
       "layout": "IPY_MODEL_d5570865b5db4c6fa3edef3b1d8562e1"
      }
     },
     "b799ce56e6b84b6f9edb7f613e65ede0": {
      "model_module": "@jupyter-widgets/controls",
      "model_module_version": "1.2.0",
      "model_name": "DescriptionStyleModel",
      "state": {
       "description_width": ""
      }
     },
     "b7b30b5a48ed4f00b581935043d8646d": {
      "model_module": "@jupyter-widgets/controls",
      "model_module_version": "1.2.0",
      "model_name": "IntProgressModel",
      "state": {
       "bar_style": "success",
       "description": "Emissions",
       "layout": "IPY_MODEL_e9eca69ba60548bf8591b2bb9ee5df7e",
       "max": 311777,
       "style": "IPY_MODEL_76eba9149fa841fca06a07bbf0314f7f",
       "value": 311777
      }
     },
     "b80be63c30734303a6f5f7fc17462f73": {
      "model_module": "@jupyter-widgets/base",
      "model_module_version": "1.0.0",
      "model_name": "LayoutModel",
      "state": {}
     },
     "b8d3b8b8af1a4fe8af647d876866cf31": {
      "model_module": "@jupyter-widgets/base",
      "model_module_version": "1.0.0",
      "model_name": "LayoutModel",
      "state": {}
     },
     "ba5f14b519034af580996f19042a81fe": {
      "model_module": "@jupyter-widgets/controls",
      "model_module_version": "1.2.0",
      "model_name": "HBoxModel",
      "state": {
       "children": [
        "IPY_MODEL_bfb3eb061e4c4c918e36998cb8118847",
        "IPY_MODEL_ee9f63c37a424d48807e4002e2e0159d"
       ],
       "layout": "IPY_MODEL_b736bcf9a50a41098fee8a84fc171695"
      }
     },
     "baf244cd58bb49ac8e19507828e71983": {
      "model_module": "@jupyter-widgets/controls",
      "model_module_version": "1.2.0",
      "model_name": "ProgressStyleModel",
      "state": {
       "description_width": ""
      }
     },
     "bd7203b31595439897c87957d6363b3c": {
      "model_module": "@jupyter-widgets/controls",
      "model_module_version": "1.2.0",
      "model_name": "ProgressStyleModel",
      "state": {
       "description_width": ""
      }
     },
     "bdc2e3db699d490ba53eeb6c61b56f2e": {
      "model_module": "@jupyter-widgets/controls",
      "model_module_version": "1.2.0",
      "model_name": "HBoxModel",
      "state": {
       "children": [
        "IPY_MODEL_188899c07736487fa2a9563c7a07c803",
        "IPY_MODEL_a9b726ca68e1411fb18de74db068cb26"
       ],
       "layout": "IPY_MODEL_de431851626e42449e71a9196d0fdfb6"
      }
     },
     "be7b05a214924708994fd61c68c75fa1": {
      "model_module": "@jupyter-widgets/controls",
      "model_module_version": "1.2.0",
      "model_name": "DescriptionStyleModel",
      "state": {
       "description_width": ""
      }
     },
     "bfb3eb061e4c4c918e36998cb8118847": {
      "model_module": "@jupyter-widgets/controls",
      "model_module_version": "1.2.0",
      "model_name": "IntProgressModel",
      "state": {
       "bar_style": "danger",
       "layout": "IPY_MODEL_9b14f429d6ce4db69646565fc4a13f44",
       "max": 311777,
       "style": "IPY_MODEL_6bb0858521034d2bac00ada79e1ce5a2"
      }
     },
     "c03936e21ea84c30a2f1194d18ef90a2": {
      "model_module": "@jupyter-widgets/controls",
      "model_module_version": "1.2.0",
      "model_name": "DescriptionStyleModel",
      "state": {
       "description_width": ""
      }
     },
     "c0bd43cff75845ba8295a4f3fe8732f4": {
      "model_module": "@jupyter-widgets/base",
      "model_module_version": "1.0.0",
      "model_name": "LayoutModel",
      "state": {}
     },
     "c24a0cfaae97455bb96816e44df4c009": {
      "model_module": "@jupyter-widgets/controls",
      "model_module_version": "1.2.0",
      "model_name": "ProgressStyleModel",
      "state": {
       "description_width": ""
      }
     },
     "c275ae1b12a14fb7ac4b1ef2dd2023cb": {
      "model_module": "@jupyter-widgets/controls",
      "model_module_version": "1.2.0",
      "model_name": "DescriptionStyleModel",
      "state": {
       "description_width": ""
      }
     },
     "c34cabca216648538221f3d7ec53deb2": {
      "model_module": "@jupyter-widgets/base",
      "model_module_version": "1.0.0",
      "model_name": "LayoutModel",
      "state": {}
     },
     "c34eef3be1704de2947adc6d17acc345": {
      "model_module": "@jupyter-widgets/base",
      "model_module_version": "1.0.0",
      "model_name": "LayoutModel",
      "state": {}
     },
     "c42341d48a5549c489dae43f21bc64f2": {
      "model_module": "@jupyter-widgets/base",
      "model_module_version": "1.0.0",
      "model_name": "LayoutModel",
      "state": {}
     },
     "c66dff56eb604ebd8587b2ec88f8711c": {
      "model_module": "@jupyter-widgets/base",
      "model_module_version": "1.0.0",
      "model_name": "LayoutModel",
      "state": {}
     },
     "c67b71205d594677be3fada258928b3f": {
      "model_module": "@jupyter-widgets/controls",
      "model_module_version": "1.2.0",
      "model_name": "HTMLModel",
      "state": {
       "layout": "IPY_MODEL_c66dff56eb604ebd8587b2ec88f8711c",
       "style": "IPY_MODEL_be7b05a214924708994fd61c68c75fa1",
       "value": "100% 311777/311777 [00:00&lt;00:00, 960839.74it/s]"
      }
     },
     "c85ac899918b4839b465ea6c9e8345b7": {
      "model_module": "@jupyter-widgets/controls",
      "model_module_version": "1.2.0",
      "model_name": "HBoxModel",
      "state": {
       "children": [
        "IPY_MODEL_e8f2e98d1099493c8cbdc3d3018a143a",
        "IPY_MODEL_4b352dd9c6f244afad78cd9810799370"
       ],
       "layout": "IPY_MODEL_53f3a8af9f5f456e915495a389235b05"
      }
     },
     "c89004f22b164191b46c526e2a207450": {
      "model_module": "@jupyter-widgets/base",
      "model_module_version": "1.0.0",
      "model_name": "LayoutModel",
      "state": {}
     },
     "cc2ae1d673394443a5c4911438601005": {
      "model_module": "@jupyter-widgets/controls",
      "model_module_version": "1.2.0",
      "model_name": "IntProgressModel",
      "state": {
       "bar_style": "success",
       "description": "Transitions",
       "layout": "IPY_MODEL_6b5374c9206748c5812a9000889326e2",
       "max": 311777,
       "style": "IPY_MODEL_c24a0cfaae97455bb96816e44df4c009",
       "value": 311777
      }
     },
     "cc2b292b5de042fba8a2941b00db2c14": {
      "model_module": "@jupyter-widgets/base",
      "model_module_version": "1.0.0",
      "model_name": "LayoutModel",
      "state": {}
     },
     "d03d3ad4f084446da23e6b97098e379a": {
      "model_module": "@jupyter-widgets/controls",
      "model_module_version": "1.2.0",
      "model_name": "DescriptionStyleModel",
      "state": {
       "description_width": ""
      }
     },
     "d1107436852a4f79a15dcb3c5adaa9be": {
      "model_module": "@jupyter-widgets/controls",
      "model_module_version": "1.2.0",
      "model_name": "ProgressStyleModel",
      "state": {
       "description_width": ""
      }
     },
     "d365e5018cb14f4db3b8bea7b0dee437": {
      "model_module": "@jupyter-widgets/controls",
      "model_module_version": "1.2.0",
      "model_name": "IntProgressModel",
      "state": {
       "bar_style": "success",
       "description": "Emissions",
       "layout": "IPY_MODEL_a512c35954904bc59715a6f730df0a21",
       "max": 311777,
       "style": "IPY_MODEL_e298a73afbe54be1873d73f5122cda12",
       "value": 311777
      }
     },
     "d45aa90b39ea40f98606e56823f92b0e": {
      "model_module": "@jupyter-widgets/base",
      "model_module_version": "1.0.0",
      "model_name": "LayoutModel",
      "state": {}
     },
     "d49270b2389246838ba1ff688ebdbe9f": {
      "model_module": "@jupyter-widgets/controls",
      "model_module_version": "1.2.0",
      "model_name": "HBoxModel",
      "state": {
       "children": [
        "IPY_MODEL_b7b30b5a48ed4f00b581935043d8646d",
        "IPY_MODEL_94913e2d434f4e2fa7a58901ef37a0d0"
       ],
       "layout": "IPY_MODEL_a72faed13879455a92fff27775570be4"
      }
     },
     "d5570865b5db4c6fa3edef3b1d8562e1": {
      "model_module": "@jupyter-widgets/base",
      "model_module_version": "1.0.0",
      "model_name": "LayoutModel",
      "state": {}
     },
     "d5fbd771ea8d49d78ff82cae2ec1a736": {
      "model_module": "@jupyter-widgets/controls",
      "model_module_version": "1.2.0",
      "model_name": "IntProgressModel",
      "state": {
       "bar_style": "danger",
       "layout": "IPY_MODEL_a057143385fe4bb48d6d75163b677a16",
       "max": 311777,
       "style": "IPY_MODEL_23179d53e6844c2baef47c835294fe24"
      }
     },
     "d79e01e13b734d76960d6f086b46c299": {
      "model_module": "@jupyter-widgets/controls",
      "model_module_version": "1.2.0",
      "model_name": "HTMLModel",
      "state": {
       "layout": "IPY_MODEL_26039b78f0134c2a8863cf570ae18438",
       "style": "IPY_MODEL_335ca3f8b55f415f96244b5dfbf53359",
       "value": "  0% 0/44106 [00:00&lt;?, ?it/s]"
      }
     },
     "d8ce472e3fa749d5ad94175d34ff410a": {
      "model_module": "@jupyter-widgets/base",
      "model_module_version": "1.0.0",
      "model_name": "LayoutModel",
      "state": {}
     },
     "d9a175a5fccf43509ac4df6695cfbbd0": {
      "model_module": "@jupyter-widgets/controls",
      "model_module_version": "1.2.0",
      "model_name": "IntProgressModel",
      "state": {
       "bar_style": "danger",
       "layout": "IPY_MODEL_9e037068e0c54ce4863ef4c28b69d0df",
       "max": 311777,
       "style": "IPY_MODEL_bd7203b31595439897c87957d6363b3c"
      }
     },
     "da5c74c2ec48433aab71bf4499456608": {
      "model_module": "@jupyter-widgets/base",
      "model_module_version": "1.0.0",
      "model_name": "LayoutModel",
      "state": {}
     },
     "da67d0da9f794c3c84deee2ce7ac314d": {
      "model_module": "@jupyter-widgets/base",
      "model_module_version": "1.0.0",
      "model_name": "LayoutModel",
      "state": {}
     },
     "dc29f50edf49413fb6ddf7cc44a8a3fb": {
      "model_module": "@jupyter-widgets/base",
      "model_module_version": "1.0.0",
      "model_name": "LayoutModel",
      "state": {}
     },
     "de431851626e42449e71a9196d0fdfb6": {
      "model_module": "@jupyter-widgets/base",
      "model_module_version": "1.0.0",
      "model_name": "LayoutModel",
      "state": {}
     },
     "e298a73afbe54be1873d73f5122cda12": {
      "model_module": "@jupyter-widgets/controls",
      "model_module_version": "1.2.0",
      "model_name": "ProgressStyleModel",
      "state": {
       "description_width": ""
      }
     },
     "e2e40261f53648c48ad427247ae44a59": {
      "model_module": "@jupyter-widgets/base",
      "model_module_version": "1.0.0",
      "model_name": "LayoutModel",
      "state": {}
     },
     "e3da0279c37c4c3e93de951cd467d39d": {
      "model_module": "@jupyter-widgets/controls",
      "model_module_version": "1.2.0",
      "model_name": "DescriptionStyleModel",
      "state": {
       "description_width": ""
      }
     },
     "e4644e024a964f309e39c565e5aa8456": {
      "model_module": "@jupyter-widgets/controls",
      "model_module_version": "1.2.0",
      "model_name": "HTMLModel",
      "state": {
       "layout": "IPY_MODEL_3a26d82cedc4440e9ce3ca2672047806",
       "style": "IPY_MODEL_b799ce56e6b84b6f9edb7f613e65ede0",
       "value": "100% 311777/311777 [00:00&lt;00:00, 1145407.35it/s]"
      }
     },
     "e5abc90b5d1943e3a4bfce0bbdd4d04b": {
      "model_module": "@jupyter-widgets/base",
      "model_module_version": "1.0.0",
      "model_name": "LayoutModel",
      "state": {}
     },
     "e679f4eabedc4740bc2894806bd6ad4d": {
      "model_module": "@jupyter-widgets/base",
      "model_module_version": "1.0.0",
      "model_name": "LayoutModel",
      "state": {}
     },
     "e775aa4a7f9d428da0ba8b3f468ca04a": {
      "model_module": "@jupyter-widgets/controls",
      "model_module_version": "1.2.0",
      "model_name": "IntProgressModel",
      "state": {
       "bar_style": "success",
       "description": "Transitions",
       "layout": "IPY_MODEL_92170bdc3cda4bf38503a1e326499794",
       "max": 311777,
       "style": "IPY_MODEL_82686439789a441ea4505a828ee2d932",
       "value": 311777
      }
     },
     "e87abb7cc376476aadee68010c95a1f5": {
      "model_module": "@jupyter-widgets/base",
      "model_module_version": "1.0.0",
      "model_name": "LayoutModel",
      "state": {}
     },
     "e88dafc10da84c738dedfaeb31cddaea": {
      "model_module": "@jupyter-widgets/controls",
      "model_module_version": "1.2.0",
      "model_name": "HBoxModel",
      "state": {
       "children": [
        "IPY_MODEL_8545650ffe7e447dbe138a94359a32c7",
        "IPY_MODEL_004ae6b40d1a4a3dbfe97a20723e8a35"
       ],
       "layout": "IPY_MODEL_faf24cffe94e40af89df5a89dd026124"
      }
     },
     "e8f0475470a14c8eaac2ed67702770dd": {
      "model_module": "@jupyter-widgets/controls",
      "model_module_version": "1.2.0",
      "model_name": "ProgressStyleModel",
      "state": {
       "description_width": ""
      }
     },
     "e8f2e98d1099493c8cbdc3d3018a143a": {
      "model_module": "@jupyter-widgets/controls",
      "model_module_version": "1.2.0",
      "model_name": "IntProgressModel",
      "state": {
       "bar_style": "danger",
       "layout": "IPY_MODEL_dc29f50edf49413fb6ddf7cc44a8a3fb",
       "max": 311777,
       "style": "IPY_MODEL_28731899cf0b46a3b05e1412b204f885"
      }
     },
     "e9eca69ba60548bf8591b2bb9ee5df7e": {
      "model_module": "@jupyter-widgets/base",
      "model_module_version": "1.0.0",
      "model_name": "LayoutModel",
      "state": {}
     },
     "eb12ead7866d4cec9ad12000eac8cf66": {
      "model_module": "@jupyter-widgets/controls",
      "model_module_version": "1.2.0",
      "model_name": "HBoxModel",
      "state": {
       "children": [
        "IPY_MODEL_d5fbd771ea8d49d78ff82cae2ec1a736",
        "IPY_MODEL_53005dfe985c4570acd80f06246c84e2"
       ],
       "layout": "IPY_MODEL_45d9478db5ec443591bd0a3e2456f849"
      }
     },
     "eb40fdf461bc41ee903b6e1e6e300381": {
      "model_module": "@jupyter-widgets/controls",
      "model_module_version": "1.2.0",
      "model_name": "HBoxModel",
      "state": {
       "children": [
        "IPY_MODEL_af6bbddcae94478ea9402f9aca583bdc",
        "IPY_MODEL_f73a2246a3e04d49abefba653410411d"
       ],
       "layout": "IPY_MODEL_ab7720b57ce248c196c8d0550ac2e31a"
      }
     },
     "ebac11939be448c0b286c37324329cf6": {
      "model_module": "@jupyter-widgets/base",
      "model_module_version": "1.0.0",
      "model_name": "LayoutModel",
      "state": {}
     },
     "ec92840df0e94fd6b3a20284a29c8353": {
      "model_module": "@jupyter-widgets/base",
      "model_module_version": "1.0.0",
      "model_name": "LayoutModel",
      "state": {}
     },
     "edf4272dca9e4e7ab61c7524ce0232f8": {
      "model_module": "@jupyter-widgets/base",
      "model_module_version": "1.0.0",
      "model_name": "LayoutModel",
      "state": {}
     },
     "ee9f63c37a424d48807e4002e2e0159d": {
      "model_module": "@jupyter-widgets/controls",
      "model_module_version": "1.2.0",
      "model_name": "HTMLModel",
      "state": {
       "layout": "IPY_MODEL_ebac11939be448c0b286c37324329cf6",
       "style": "IPY_MODEL_65dafbef5e0c44f1a8f19351ab213e05",
       "value": "  0% 0/311777 [00:00&lt;?, ?it/s]"
      }
     },
     "f137233411cd4387a0aff3045aaa4dee": {
      "model_module": "@jupyter-widgets/controls",
      "model_module_version": "1.2.0",
      "model_name": "ProgressStyleModel",
      "state": {
       "description_width": ""
      }
     },
     "f4b25a6f87f64050ab46ad4ad2ac647f": {
      "model_module": "@jupyter-widgets/controls",
      "model_module_version": "1.2.0",
      "model_name": "HBoxModel",
      "state": {
       "children": [
        "IPY_MODEL_7e35638c3664432f86ad718350f1fe7c",
        "IPY_MODEL_e4644e024a964f309e39c565e5aa8456"
       ],
       "layout": "IPY_MODEL_edf4272dca9e4e7ab61c7524ce0232f8"
      }
     },
     "f4f13192a7464f6dba1fd2bf4263b113": {
      "model_module": "@jupyter-widgets/controls",
      "model_module_version": "1.2.0",
      "model_name": "ProgressStyleModel",
      "state": {
       "description_width": ""
      }
     },
     "f73a2246a3e04d49abefba653410411d": {
      "model_module": "@jupyter-widgets/controls",
      "model_module_version": "1.2.0",
      "model_name": "HTMLModel",
      "state": {
       "layout": "IPY_MODEL_da67d0da9f794c3c84deee2ce7ac314d",
       "style": "IPY_MODEL_8792239a6bd6446ba4670ad898e9116a",
       "value": "100% 311777/311777 [00:00&lt;00:00, 1032675.66it/s]"
      }
     },
     "f7be9fb76a43405682b3037c4c4e32af": {
      "model_module": "@jupyter-widgets/base",
      "model_module_version": "1.0.0",
      "model_name": "LayoutModel",
      "state": {}
     },
     "f9c2b56bffc74d4588c385c722184b53": {
      "model_module": "@jupyter-widgets/controls",
      "model_module_version": "1.2.0",
      "model_name": "IntProgressModel",
      "state": {
       "bar_style": "success",
       "layout": "IPY_MODEL_d45aa90b39ea40f98606e56823f92b0e",
       "max": 311777,
       "style": "IPY_MODEL_b4566feb44fc42858031122b7b0fbc25",
       "value": 311777
      }
     },
     "faf24cffe94e40af89df5a89dd026124": {
      "model_module": "@jupyter-widgets/base",
      "model_module_version": "1.0.0",
      "model_name": "LayoutModel",
      "state": {}
     },
     "ff805d7a13944a39adb7dd5ae3a8face": {
      "model_module": "@jupyter-widgets/controls",
      "model_module_version": "1.2.0",
      "model_name": "HBoxModel",
      "state": {
       "children": [
        "IPY_MODEL_7f81f8c449cb4ff78e15b9b6950bec77",
        "IPY_MODEL_73f40046b90b4a88af9b1ed472440d25"
       ],
       "layout": "IPY_MODEL_cc2b292b5de042fba8a2941b00db2c14"
      }
     },
     "ffe85d914e454942b3fd582730d5e0bf": {
      "model_module": "@jupyter-widgets/controls",
      "model_module_version": "1.2.0",
      "model_name": "HBoxModel",
      "state": {
       "children": [
        "IPY_MODEL_0ae61151e3fe4d969c6ee75c09438977",
        "IPY_MODEL_8940ce84250f447ba48bfd62cd1593d6"
       ],
       "layout": "IPY_MODEL_47aa4ebe213949df9a896de151925b11"
      }
     }
    },
    "version_major": 2,
    "version_minor": 0
   }
  }
 },
 "nbformat": 4,
 "nbformat_minor": 2
}
