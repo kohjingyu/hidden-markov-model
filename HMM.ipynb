{
 "cells": [
  {
   "cell_type": "markdown",
   "metadata": {},
   "source": [
    "# Part 2\n",
    "In this section, we write some dank functions for the HMM"
   ]
  },
  {
   "cell_type": "code",
   "execution_count": 69,
   "metadata": {},
   "outputs": [],
   "source": [
    "import numpy as np\n",
    "from tqdm import tqdm_notebook"
   ]
  },
  {
   "cell_type": "code",
   "execution_count": 52,
   "metadata": {},
   "outputs": [],
   "source": [
    "def learn_emissions(train_filename):\n",
    "    ''' Learns emissions parameters from data and returns them as a nested dictionary '''\n",
    "    with open(train_filename, \"r\") as f:\n",
    "        lines = f.readlines()\n",
    "\n",
    "    # Keep set of all unique states and observations\n",
    "    states = set()\n",
    "    observations = set()\n",
    "\n",
    "    # Track emission counts\n",
    "    emissions = {} # Where key is y, and value is a dictionary of emissions x from y with their frequency\n",
    "\n",
    "    # Learn from data\n",
    "    for line in lines:\n",
    "        data_split = line.strip().split(\" \")\n",
    "\n",
    "        # Only process valid lines\n",
    "        if len(data_split) == 2:\n",
    "            obs, state = data_split[0], data_split[1]\n",
    "\n",
    "            states.add(state)\n",
    "            observations.add(obs)\n",
    "\n",
    "            # Track this emission\n",
    "            current_emissions = {}\n",
    "            if state in emissions:\n",
    "                current_emissions = emissions[state]\n",
    "\n",
    "            # If it exists, increment it, if not set it to 1\n",
    "            if obs in current_emissions:\n",
    "                current_emissions[obs] += 1\n",
    "            else:\n",
    "                current_emissions[obs] = 1\n",
    "\n",
    "            emissions[state] = current_emissions # Update\n",
    "    \n",
    "    return emissions"
   ]
  },
  {
   "cell_type": "code",
   "execution_count": 24,
   "metadata": {},
   "outputs": [
    {
     "data": {
      "text/plain": [
       "(7, 48925)"
      ]
     },
     "execution_count": 24,
     "metadata": {},
     "output_type": "execute_result"
    }
   ],
   "source": [
    "len(states), len(observations)"
   ]
  },
  {
   "cell_type": "markdown",
   "metadata": {},
   "source": [
    "## Estimating Emission Parameters\n",
    "We make use of MLE to estimate the emission parameters based on the training data."
   ]
  },
  {
   "cell_type": "code",
   "execution_count": 38,
   "metadata": {},
   "outputs": [],
   "source": [
    "def get_emission_parameters(emissions, x, y):\n",
    "    ''' Returns the MLE of the emission parameters based on the emissions dictionary '''\n",
    "    state_data = emissions[y]\n",
    "    count_y_x = state_data[x] # Numerator\n",
    "    count_y = sum(state_data.values()) # Denominator\n",
    "    \n",
    "    e = count_y_x / count_y\n",
    "    return e"
   ]
  },
  {
   "cell_type": "markdown",
   "metadata": {},
   "source": [
    "## Estimating with Smoothing"
   ]
  },
  {
   "cell_type": "code",
   "execution_count": 48,
   "metadata": {},
   "outputs": [],
   "source": [
    "def get_emission_parameters(emissions, x, y, k=1):\n",
    "    ''' Returns the MLE of the emission parameters based on the emissions dictionary '''\n",
    "    state_data = emissions[y]\n",
    "    count_y = sum(state_data.values()) # Denominator\n",
    "    \n",
    "    # If x == \"#UNK#\", it will return the following\n",
    "    count_y_x = k\n",
    "    \n",
    "    # If x exists in training, return its MLE instead\n",
    "    if (x != \"#UNK#\") and (x in state_data):\n",
    "        count_y_x = state_data[x] # Numerator\n",
    "    \n",
    "    e = count_y_x / count_y\n",
    "    return e"
   ]
  },
  {
   "cell_type": "code",
   "execution_count": 65,
   "metadata": {},
   "outputs": [],
   "source": [
    "def label_sequence(sentence, emissions):\n",
    "    ''' Takes a list `sentence` that contains words of a sentence as strings '''\n",
    "    tags = []\n",
    "    \n",
    "    for word in sentence:\n",
    "        predicted_label = \"\"\n",
    "        max_prob = 0\n",
    "        \n",
    "        # Find y with maximum probability\n",
    "        for y in emissions:\n",
    "            prob = get_emission_parameters(emissions, word, y)\n",
    "            \n",
    "            # If this is higher than the previous highest, use this\n",
    "            if prob > max_prob:\n",
    "                predicted_label = y\n",
    "                max_prob = prob\n",
    "    \n",
    "        # Add prediction to list\n",
    "        tags.append(predicted_label)\n",
    "    \n",
    "    return tags\n",
    "    \n",
    "# label_sequence([\"I'm\", \"a\", \"kumquat\"], emissions)"
   ]
  },
  {
   "cell_type": "markdown",
   "metadata": {},
   "source": [
    "# Training and Validation"
   ]
  },
  {
   "cell_type": "code",
   "execution_count": 66,
   "metadata": {},
   "outputs": [],
   "source": [
    "dataset = \"SG\" # {SG, CN, EN, FR}\n",
    "train_filename = f\"data/{dataset}/train\"\n",
    "validation_filename = f\"data/{dataset}/dev.in\"\n",
    "\n",
    "# Train\n",
    "emissions = learn_emissions(train_filename)"
   ]
  },
  {
   "cell_type": "code",
   "execution_count": 87,
   "metadata": {},
   "outputs": [
    {
     "data": {
      "application/vnd.jupyter.widget-view+json": {
       "model_id": "7e7d59ff2cea47a18493c472bbeb6149",
       "version_major": 2,
       "version_minor": 0
      },
      "text/plain": [
       "HBox(children=(IntProgress(value=0, max=44106), HTML(value='')))"
      ]
     },
     "metadata": {},
     "output_type": "display_data"
    },
    {
     "name": "stdout",
     "output_type": "stream",
     "text": [
      "\n"
     ]
    }
   ],
   "source": [
    "# Test on validation set\n",
    "with open(validation_filename, \"r\") as f:\n",
    "    lines = f.readlines()\n",
    "    sentence = []\n",
    "\n",
    "result = []\n",
    "\n",
    "for word in tqdm_notebook(lines):\n",
    "    # If it's a newline, it's the end of a sentence. Predict!\n",
    "    if word == \"\\n\":\n",
    "        preds = label_sequence(sentence, emissions)\n",
    "        \n",
    "        # Add predictions to overall results\n",
    "        result += preds\n",
    "        result += [\"\\n\"]\n",
    "        \n",
    "        # Reset sentence list\n",
    "        sentence = []\n",
    "    else: # Sentence has not ended\n",
    "        # Add word to sentence\n",
    "        sentence.append(word.strip())"
   ]
  },
  {
   "cell_type": "code",
   "execution_count": 88,
   "metadata": {},
   "outputs": [],
   "source": [
    "# Write predictions to file\n",
    "with open(validation_filename.replace(\".in\", \".p2.out\"), \"w\") as f:\n",
    "    for i in range(len(lines)):\n",
    "        word = lines[i].strip()\n",
    "        \n",
    "        # Only write if it's not a newline\n",
    "        if word:\n",
    "            pred = result[i]\n",
    "            f.write(word + \" \" + pred)\n",
    "        \n",
    "        f.write(\"\\n\")"
   ]
  },
  {
   "cell_type": "markdown",
   "metadata": {},
   "source": [
    "# Evaluation Metrics\n",
    "Calculate precision, recall, and F score.\n",
    "\n",
    "Use `evalResult.py` to evaluate."
   ]
  },
  {
   "cell_type": "code",
   "execution_count": 90,
   "metadata": {},
   "outputs": [],
   "source": [
    "# # Load gold standard for dev set\n",
    "# with open(validation_filename.replace(\".in\", \".out\"), \"r\") as f:\n",
    "#     lines = f.readlines()\n",
    "\n",
    "# # Iterate through each line and calculate scores\n",
    "# for i in range(len(lines)):\n",
    "#     line = lines[i]\n",
    "#     data_split = line.strip().split(\" \")\n",
    "    \n",
    "#     # If this not a newline, process it\n",
    "#     if len(data_split) == 2:\n",
    "#         word, label = data_split[0], data_split[1]\n",
    "#         pred = result[i]"
   ]
  },
  {
   "cell_type": "code",
   "execution_count": null,
   "metadata": {},
   "outputs": [],
   "source": []
  }
 ],
 "metadata": {
  "kernelspec": {
   "display_name": "ml_class",
   "language": "python",
   "name": "ml_class"
  },
  "language_info": {
   "codemirror_mode": {
    "name": "ipython",
    "version": 3
   },
   "file_extension": ".py",
   "mimetype": "text/x-python",
   "name": "python",
   "nbconvert_exporter": "python",
   "pygments_lexer": "ipython3",
   "version": "3.6.2"
  }
 },
 "nbformat": 4,
 "nbformat_minor": 2
}
