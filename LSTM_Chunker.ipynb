{
 "cells": [
  {
   "cell_type": "code",
   "execution_count": 44,
   "metadata": {},
   "outputs": [],
   "source": [
    "import numpy as np\n",
    "from tqdm import tqdm_notebook\n",
    "\n",
    "import torch\n",
    "from torch import nn, optim\n",
    "import torch.nn.functional as F"
   ]
  },
  {
   "cell_type": "code",
   "execution_count": 98,
   "metadata": {},
   "outputs": [],
   "source": [
    "def prepare_sequence(seq, to_ix):\n",
    "    idxs = []\n",
    "    \n",
    "    for w in seq:\n",
    "        if w in to_ix:\n",
    "            idxs.append(to_ix[w])\n",
    "        else:\n",
    "            idxs.append(len(to_ix))\n",
    "    \n",
    "    return torch.tensor(idxs, dtype=torch.long)\n",
    "\n",
    "def produce_tags(seq, to_tag):\n",
    "    tags = [to_tag[x] for x in seq]\n",
    "    return tags"
   ]
  },
  {
   "cell_type": "code",
   "execution_count": 94,
   "metadata": {},
   "outputs": [],
   "source": [
    "dataset = \"EN\" # {SG, CN, EN, FR}\n",
    "train_filename = f\"data/{dataset}/train\"\n",
    "validation_filename = f\"data/{dataset}/dev.out\""
   ]
  },
  {
   "cell_type": "code",
   "execution_count": 88,
   "metadata": {},
   "outputs": [],
   "source": [
    "# Prepare training data\n",
    "with open(train_filename, \"r\") as f:\n",
    "    lines = f.readlines()\n",
    "\n",
    "train_data = []\n",
    "sentence = []\n",
    "tags = []\n",
    "\n",
    "word_to_ix = {}\n",
    "tag_to_ix = {}\n",
    "\n",
    "for line in lines:\n",
    "    line_split = line.strip().split(\" \")\n",
    "    \n",
    "    if len(line_split) == 1:\n",
    "        # New sentence\n",
    "        train_data.append([sentence, tags])\n",
    "        sentence = []\n",
    "        tags = []\n",
    "    else:\n",
    "        word, tag = line_split[0], line_split[1]\n",
    "        \n",
    "        if word not in word_to_ix:\n",
    "            word_to_ix[word] = len(word_to_ix)\n",
    "        if tag not in tag_to_ix:\n",
    "            tag_to_ix[tag] = len(tag_to_ix)\n",
    "\n",
    "        sentence.append(word)\n",
    "        tags.append(tag)\n",
    "        \n",
    "idx_to_tags = {v: k for k, v in tag_to_ix.items()}"
   ]
  },
  {
   "cell_type": "code",
   "execution_count": 21,
   "metadata": {},
   "outputs": [
    {
     "name": "stdout",
     "output_type": "stream",
     "text": [
      "39\n"
     ]
    }
   ],
   "source": [
    "max_sentence_length = max(data, key=len)\n",
    "print(len(max_sentence_length))"
   ]
  },
  {
   "cell_type": "code",
   "execution_count": 33,
   "metadata": {},
   "outputs": [],
   "source": [
    "# TODO: Make this b i g g e r\n",
    "EMBEDDING_DIM = 6\n",
    "HIDDEN_DIM = 6\n",
    "\n",
    "class LSTMTagger(nn.Module):\n",
    "    def __init__(self, embedding_dim, hidden_dim, vocab_size, tagset_size):\n",
    "        super(LSTMTagger, self).__init__()\n",
    "        self.hidden_dim = hidden_dim\n",
    "\n",
    "        self.word_embeddings = nn.Embedding(vocab_size, embedding_dim)\n",
    "\n",
    "        # The LSTM takes word embeddings as inputs, and outputs hidden states\n",
    "        # with dimensionality hidden_dim.\n",
    "        self.lstm = nn.LSTM(embedding_dim, hidden_dim)\n",
    "\n",
    "        # The linear layer that maps from hidden state space to tag space\n",
    "        self.hidden2tag = nn.Linear(hidden_dim, tagset_size)\n",
    "        self.hidden = self.init_hidden()\n",
    "\n",
    "    def init_hidden(self):\n",
    "        # Before we've done anything, we dont have any hidden state.\n",
    "        # Refer to the Pytorch documentation to see exactly\n",
    "        # why they have this dimensionality.\n",
    "        # The axes semantics are (num_layers, minibatch_size, hidden_dim)\n",
    "        return (torch.zeros(1, 1, self.hidden_dim),\n",
    "                torch.zeros(1, 1, self.hidden_dim))\n",
    "\n",
    "    def forward(self, sentence):\n",
    "        embeds = self.word_embeddings(sentence)\n",
    "        lstm_out, self.hidden = self.lstm(\n",
    "            embeds.view(len(sentence), 1, -1), self.hidden)\n",
    "        tag_space = self.hidden2tag(lstm_out.view(len(sentence), -1))\n",
    "        tag_scores = F.log_softmax(tag_space, dim=1)\n",
    "        return tag_scores"
   ]
  },
  {
   "cell_type": "code",
   "execution_count": 102,
   "metadata": {},
   "outputs": [
    {
     "data": {
      "application/vnd.jupyter.widget-view+json": {
       "model_id": "2deff410caf741aca425d7bcfaede8e3",
       "version_major": 2,
       "version_minor": 0
      },
      "text/plain": [
       "HBox(children=(IntProgress(value=0, max=10), HTML(value='')))"
      ]
     },
     "metadata": {},
     "output_type": "display_data"
    },
    {
     "name": "stdout",
     "output_type": "stream",
     "text": [
      "Average loss: 2.156482021951416\n",
      "Average loss: 1.9685045199472113\n",
      "Average loss: 1.8808772772712845\n",
      "Average loss: 1.8131939323108555\n",
      "Average loss: 1.7660102441825798\n",
      "Average loss: 1.726295224335146\n",
      "Average loss: 1.6878789453454546\n",
      "Average loss: 1.650927442820665\n",
      "Average loss: 1.615967040702349\n",
      "Average loss: 1.5832934842568345\n",
      "\n"
     ]
    }
   ],
   "source": [
    "model = LSTMTagger(EMBEDDING_DIM, HIDDEN_DIM, len(word_to_ix)+1, len(tag_to_ix)) # +1 for unknown words\n",
    "loss_function = nn.NLLLoss()\n",
    "optimizer = optim.SGD(model.parameters(), lr=0.1)\n",
    "\n",
    "for epoch in tqdm_notebook(range(10)):  # again, normally you would NOT do 300 epochs, it is toy data\n",
    "    total_loss = 0\n",
    "    num_batches = len(train_data)\n",
    "    for sentence, tags in train_data:\n",
    "        model.zero_grad()\n",
    "        model.hidden = model.init_hidden()\n",
    "\n",
    "        sentence_in = prepare_sequence(sentence, word_to_ix)\n",
    "        targets = prepare_sequence(tags, tag_to_ix)\n",
    "        \n",
    "        preds = model(sentence_in)\n",
    "\n",
    "        loss = loss_function(preds, targets)\n",
    "        loss.backward()\n",
    "        optimizer.step()\n",
    "        \n",
    "        total_loss += loss.item()\n",
    "        \n",
    "    print(\"Average loss: {}\".format(total_loss / num_batches))"
   ]
  },
  {
   "cell_type": "code",
   "execution_count": 105,
   "metadata": {},
   "outputs": [],
   "source": [
    "# Prepare validation data\n",
    "with open(validation_filename, \"r\") as f:\n",
    "    lines = f.readlines()\n",
    "\n",
    "val_data = []\n",
    "sentence = []\n",
    "tags = []\n",
    "\n",
    "for line in lines:\n",
    "    line_split = line.strip().split(\" \")\n",
    "    \n",
    "    if len(line_split) == 1:\n",
    "        # New sentence\n",
    "        val_data.append([sentence, tags])\n",
    "        sentence = []\n",
    "        tags = []\n",
    "    else:\n",
    "        word, tag = line_split[0], line_split[1]\n",
    "        \n",
    "        sentence.append(word)\n",
    "        tags.append(tag)"
   ]
  },
  {
   "cell_type": "code",
   "execution_count": 107,
   "metadata": {},
   "outputs": [],
   "source": [
    "val_preds = []\n",
    "\n",
    "# See what the scores are after training\n",
    "with torch.no_grad():\n",
    "    for i in range(len(val_data)):\n",
    "        sentence = val_data[i][0]\n",
    "        inputs = prepare_sequence(sentence, word_to_ix)\n",
    "        preds = model(inputs)\n",
    "        tags = preds.argmax(dim=1).data.numpy()\n",
    "\n",
    "        val_preds.append(produce_tags(tags, idx_to_tags))"
   ]
  },
  {
   "cell_type": "code",
   "execution_count": 108,
   "metadata": {},
   "outputs": [
    {
     "data": {
      "text/plain": [
       "78"
      ]
     },
     "execution_count": 108,
     "metadata": {},
     "output_type": "execute_result"
    }
   ],
   "source": [
    "len(val_preds)"
   ]
  },
  {
   "cell_type": "code",
   "execution_count": 116,
   "metadata": {},
   "outputs": [],
   "source": [
    "with open(validation_filename.replace(\".out\", \"_lstm.pred\"), \"w\") as f:\n",
    "    for i in range(len(val_data)):\n",
    "        sentence = val_data[i][0]\n",
    "        pred = val_preds[i]\n",
    "        assert(len(sentence) == len(pred))\n",
    "        \n",
    "        for j in range(len(sentence)):\n",
    "            f.write(sentence[j] + \" \" + pred[j] + \"\\n\")\n",
    "        \n",
    "        f.write(\"\\n\")"
   ]
  },
  {
   "cell_type": "code",
   "execution_count": null,
   "metadata": {},
   "outputs": [],
   "source": []
  }
 ],
 "metadata": {
  "kernelspec": {
   "display_name": "ml_class",
   "language": "python",
   "name": "ml_class"
  },
  "language_info": {
   "codemirror_mode": {
    "name": "ipython",
    "version": 3
   },
   "file_extension": ".py",
   "mimetype": "text/x-python",
   "name": "python",
   "nbconvert_exporter": "python",
   "pygments_lexer": "ipython3",
   "version": "3.6.2"
  }
 },
 "nbformat": 4,
 "nbformat_minor": 2
}
