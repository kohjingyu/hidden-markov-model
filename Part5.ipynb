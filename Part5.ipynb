{
 "cells": [
  {
   "cell_type": "code",
   "execution_count": 1,
   "metadata": {},
   "outputs": [],
   "source": [
    "%matplotlib inline\n",
    "import numpy as np\n",
    "import matplotlib.pyplot as plt\n",
    "import os\n",
    "import re\n",
    "import itertools\n",
    "from collections import defaultdict, OrderedDict\n",
    "from random import shuffle\n",
    "from tqdm import tqdm_notebook as tqdm, tnrange as trange\n",
    "from sklearn.metrics import confusion_matrix\n",
    "\n",
    "from evalResult import get_predicted, get_observed\n",
    "plt.style.use('seaborn')"
   ]
  },
  {
   "cell_type": "code",
   "execution_count": 2,
   "metadata": {},
   "outputs": [],
   "source": [
    "dataset = 'EN'"
   ]
  },
  {
   "cell_type": "markdown",
   "metadata": {},
   "source": [
    "## Hyperparameters\n",
    "Here for easy tuning."
   ]
  },
  {
   "cell_type": "code",
   "execution_count": 3,
   "metadata": {},
   "outputs": [],
   "source": [
    "# optimal 1e-4\n",
    "lr = 1e-4\n",
    "n_epochs = 20"
   ]
  },
  {
   "cell_type": "markdown",
   "metadata": {},
   "source": [
    "## Data"
   ]
  },
  {
   "cell_type": "markdown",
   "metadata": {},
   "source": [
    "### Cleaning\n",
    "Prepare words for cleaning. Specifically, find\n",
    "1. ~~stopwords~~\n",
    "1. punctuation\n",
    "1. hashtags\n",
    "1. @ mentions\n",
    "1. numbers\n",
    "1. URLs"
   ]
  },
  {
   "cell_type": "code",
   "execution_count": 4,
   "metadata": {},
   "outputs": [],
   "source": [
    "re_punc = r'^[^a-zA-Z0-9]+$'\n",
    "re_hash = r'^#'\n",
    "re_at = r'^@'\n",
    "re_num = r'\\d'  # just remove all words with numbers\n",
    "re_url = r'(^http:|\\.com$)'"
   ]
  },
  {
   "cell_type": "code",
   "execution_count": 5,
   "metadata": {},
   "outputs": [],
   "source": [
    "def clean_word(w):\n",
    "    w = w.strip()\n",
    "    if re.match(re_punc, w):\n",
    "        return '#PUNC#'\n",
    "    if re.match(re_hash, w):\n",
    "        return '#HASH#'\n",
    "    if re.match(re_at, w):\n",
    "        return '#AT#'\n",
    "    if re.match(re_num, w):\n",
    "        return '#NUM#'\n",
    "    if re.match(re_url, w):\n",
    "        return '#URL#'\n",
    "    return w.lower()"
   ]
  },
  {
   "cell_type": "markdown",
   "metadata": {},
   "source": [
    "### I/O"
   ]
  },
  {
   "cell_type": "code",
   "execution_count": 6,
   "metadata": {},
   "outputs": [],
   "source": [
    "def parse(train_filename):\n",
    "    with open(train_filename, 'r') as f:\n",
    "        lines = f.readlines()\n",
    "\n",
    "    observations, states = defaultdict(int), defaultdict(int)\n",
    "    for line in lines:\n",
    "        data_split = line.strip().rsplit(' ', 1)\n",
    "        if len(data_split) == 2:\n",
    "            obs, state = data_split\n",
    "            observations[clean_word(obs)] += 1\n",
    "            states[state] += 1\n",
    "    return observations, states"
   ]
  },
  {
   "cell_type": "code",
   "execution_count": 7,
   "metadata": {},
   "outputs": [],
   "source": [
    "def read_file(filename, clean=True):\n",
    "    with open(filename, 'r') as f:\n",
    "        lines = f.readlines()\n",
    "        \n",
    "    sentence, label = [], []\n",
    "    sentences, labels = [], []\n",
    "    for line in lines:\n",
    "        data_split = line.strip().rsplit(' ', 1)\n",
    "        if len(data_split) == 2:\n",
    "            word, state = data_split\n",
    "            if clean:\n",
    "                word = clean_word(word)\n",
    "            sentence.append(word)\n",
    "            label.append(state)\n",
    "        else:\n",
    "            sentences.append(sentence)\n",
    "            labels.append(label)\n",
    "            sentence = []\n",
    "            label = []\n",
    "    return sentences, labels"
   ]
  },
  {
   "cell_type": "markdown",
   "metadata": {},
   "source": [
    "### Train data"
   ]
  },
  {
   "cell_type": "code",
   "execution_count": 8,
   "metadata": {},
   "outputs": [],
   "source": [
    "train_filename = f'data/{dataset}/train'\n",
    "\n",
    "observations, states = parse(train_filename)"
   ]
  },
  {
   "cell_type": "code",
   "execution_count": 9,
   "metadata": {
    "scrolled": true
   },
   "outputs": [
    {
     "data": {
      "text/plain": [
       "(['rt', '#AT#', '#PUNC#', 'encore', '#PUNC#'], ['O', 'O', 'O', 'B-INTJ', 'O'])"
      ]
     },
     "execution_count": 9,
     "metadata": {},
     "output_type": "execute_result"
    }
   ],
   "source": [
    "train_sentences, train_labels = read_file(train_filename)\n",
    "train_sentences[0][:5], train_labels[0][:5]"
   ]
  },
  {
   "cell_type": "markdown",
   "metadata": {},
   "source": [
    "### Validation data"
   ]
  },
  {
   "cell_type": "code",
   "execution_count": 10,
   "metadata": {
    "scrolled": true
   },
   "outputs": [
    {
     "data": {
      "text/plain": [
       "(['no', 'saints', 'r', '#PUNC#', 'buch'],\n",
       " ['B-NP', 'I-NP', 'I-NP', 'O', 'B-NP'])"
      ]
     },
     "execution_count": 10,
     "metadata": {},
     "output_type": "execute_result"
    }
   ],
   "source": [
    "val_filename = f'data/{dataset}/dev.out'\n",
    "val_sentences, val_labels = read_file(val_filename)\n",
    "val_sentences[0][:5], val_labels[0][:5]"
   ]
  },
  {
   "cell_type": "code",
   "execution_count": 11,
   "metadata": {},
   "outputs": [],
   "source": [
    "out_filename = f'data/{dataset}/dev.p5.out'"
   ]
  },
  {
   "cell_type": "markdown",
   "metadata": {},
   "source": [
    "## Encoding"
   ]
  },
  {
   "cell_type": "code",
   "execution_count": 12,
   "metadata": {},
   "outputs": [],
   "source": [
    "def one_hot_encode(n, depth):\n",
    "    a = np.zeros([depth, 1])\n",
    "    a[n, 0] = 1\n",
    "    return a"
   ]
  },
  {
   "cell_type": "markdown",
   "metadata": {},
   "source": [
    "### Encode words\n",
    "Create a vocabulary out of words that appear more than `1` time(s) in training. Each word now maps to an _integer_. Other words will be treated as `#UNK#`."
   ]
  },
  {
   "cell_type": "code",
   "execution_count": 13,
   "metadata": {},
   "outputs": [],
   "source": [
    "def tokenize(token_mapping, sentence):\n",
    "    \"\"\"\n",
    "    Function to convert each word into its corresponding integer\n",
    "    If word is not found, return the value for '#UNK'\n",
    "    \"\"\"\n",
    "    return [token_mapping.get(w, token_mapping['#UNK#']) for w in sentence]\n",
    "\n",
    "def prepare_inputs(token_mapping, sentences):\n",
    "    \"\"\"\n",
    "    Converts a 2-D list of sentences (list of list of words)\n",
    "    to one-hot encoded tokens of shape [n_sentences, n_words, len(token_mapping), 1].\n",
    "    \"\"\"\n",
    "    tokens = [tokenize(token_mapping, sentence) for sentence in sentences] \n",
    "    \n",
    "    depth = len(token_mapping)\n",
    "    one_hot_tokens = []\n",
    "    for sentence in tokens:\n",
    "        one_hot_sentence = []\n",
    "        for i, token in enumerate(sentence):\n",
    "            if token != token_mapping['#UNK#']:\n",
    "                one_hot_sentence.append(one_hot_encode(token, depth))\n",
    "            else:\n",
    "                if i == 0:\n",
    "                    one_hot_sentence.append((one_hot_encode(sentence[i+1], depth) + one_hot_encode(sentence[i+2], depth))/2)\n",
    "                elif i == 1:\n",
    "                    one_hot_sentence.append((one_hot_encode(sentence[i-1], depth) + one_hot_encode(sentence[i+1], depth) + one_hot_encode(sentence[i+2], depth))/3)\n",
    "                elif i == (len(sentence)-1):\n",
    "                    one_hot_sentence.append((one_hot_encode(sentence[i-2], depth) + one_hot_encode(sentence[i-1], depth))/2)\n",
    "                elif i == (len(sentence)-2):\n",
    "                    one_hot_sentence.append((one_hot_encode(sentence[i-2], depth) + one_hot_encode(sentence[i-1], depth) + one_hot_encode(sentence[i+1], depth))/3)\n",
    "                else:\n",
    "                    one_hot_sentence.append((one_hot_encode(sentence[i-2], depth) + one_hot_encode(sentence[i-1], depth) + one_hot_encode(sentence[i+1], depth) + one_hot_encode(sentence[i+2], depth))/4)\n",
    "        one_hot_tokens.append(one_hot_sentence)\n",
    "    # one_hot_tokens = [[one_hot_encode(token, depth) for token in sentence] for sentence in tokens]\n",
    "    one_hot_tokens = [np.asarray(ls) for ls in one_hot_tokens]  # list of [n_words, len(token_mapping), 1]\n",
    "    return one_hot_tokens"
   ]
  },
  {
   "cell_type": "code",
   "execution_count": 14,
   "metadata": {},
   "outputs": [
    {
     "data": {
      "text/plain": [
       "2504"
      ]
     },
     "execution_count": 14,
     "metadata": {},
     "output_type": "execute_result"
    }
   ],
   "source": [
    "min_freq = 0\n",
    "\n",
    "token_mapping = {}\n",
    "for word in observations:\n",
    "    if observations[word] > min_freq:  # appears more than once in training\n",
    "        token_mapping[word] = len(token_mapping)\n",
    "token_mapping['#UNK#'] = len(token_mapping)\n",
    "len(token_mapping)"
   ]
  },
  {
   "cell_type": "code",
   "execution_count": 15,
   "metadata": {
    "scrolled": false
   },
   "outputs": [
    {
     "data": {
      "text/plain": [
       "(551, (25, 2504, 1))"
      ]
     },
     "execution_count": 15,
     "metadata": {},
     "output_type": "execute_result"
    }
   ],
   "source": [
    "X_train = prepare_inputs(token_mapping, train_sentences)\n",
    "len(X_train), X_train[0].shape"
   ]
  },
  {
   "cell_type": "markdown",
   "metadata": {},
   "source": [
    "### Encode labels\n",
    "Perform a similar encoding for the states:\n",
    "1. Map to integer\n",
    "1. Convert from integer to one-hot-encoding"
   ]
  },
  {
   "cell_type": "code",
   "execution_count": 16,
   "metadata": {},
   "outputs": [],
   "source": [
    "def prepare_labels(state_mapping, sequences):\n",
    "    \"\"\"\n",
    "    Convert each state from str to its corresponding int value.\n",
    "    Convert the int to a one-hot vector.\n",
    "    \"\"\"\n",
    "    encoded_labels = [[state_mapping[state] for state in label] for label in sequences]\n",
    "    \n",
    "    depth = len(state_mapping)\n",
    "    one_hot_labels = [[one_hot_encode(label, depth) for label in sequence] for sequence in encoded_labels]\n",
    "    one_hot_labels = [np.asarray(ls) for ls in one_hot_labels]\n",
    "    return one_hot_labels"
   ]
  },
  {
   "cell_type": "code",
   "execution_count": 17,
   "metadata": {},
   "outputs": [
    {
     "data": {
      "text/plain": [
       "{'O': 0,\n",
       " 'B-INTJ': 1,\n",
       " 'B-PP': 2,\n",
       " 'B-NP': 3,\n",
       " 'I-NP': 4,\n",
       " 'B-VP': 5,\n",
       " 'B-PRT': 6,\n",
       " 'I-VP': 7,\n",
       " 'B-ADJP': 8,\n",
       " 'B-SBAR': 9,\n",
       " 'B-ADVP': 10,\n",
       " 'I-INTJ': 11,\n",
       " 'B-CONJP': 12,\n",
       " 'I-CONJP': 13,\n",
       " 'I-ADVP': 14,\n",
       " 'I-ADJP': 15,\n",
       " 'I-SBAR': 16,\n",
       " 'I-PP': 17}"
      ]
     },
     "execution_count": 17,
     "metadata": {},
     "output_type": "execute_result"
    }
   ],
   "source": [
    "state_mapping = {state: i for i, state in enumerate(states)}\n",
    "state_mapping"
   ]
  },
  {
   "cell_type": "code",
   "execution_count": 18,
   "metadata": {},
   "outputs": [
    {
     "data": {
      "text/plain": [
       "(551, (25, 18, 1))"
      ]
     },
     "execution_count": 18,
     "metadata": {},
     "output_type": "execute_result"
    }
   ],
   "source": [
    "y_train = prepare_labels(state_mapping, train_labels)\n",
    "len(y_train), y_train[0].shape"
   ]
  },
  {
   "cell_type": "markdown",
   "metadata": {},
   "source": [
    "### Validation\n",
    "Perform a similar encoding for validation data, based on the states and tokens of the training data."
   ]
  },
  {
   "cell_type": "code",
   "execution_count": 19,
   "metadata": {},
   "outputs": [],
   "source": [
    "X_val = prepare_inputs(token_mapping, val_sentences)\n",
    "y_val = prepare_labels(state_mapping, val_labels)"
   ]
  },
  {
   "cell_type": "markdown",
   "metadata": {},
   "source": [
    "## RNN\n",
    "$$\n",
    "    a^{(t)} = b + Wh^{(t-1)} + Ux^{(t)} \\\\\n",
    "    h^{(t)} = \\text{tanh}(a^{(t)}) \\\\\n",
    "    \\\\\n",
    "    o^{(t)} = c + Vh^{(t)} \\\\\n",
    "    \\hat{y}^{(t)} = \\text{softmax}(o^{(t)})\n",
    "$$"
   ]
  },
  {
   "cell_type": "code",
   "execution_count": 20,
   "metadata": {},
   "outputs": [],
   "source": [
    "def softmax(x):\n",
    "    e_x = np.exp(x - np.max(x))\n",
    "    return e_x / e_x.sum(axis=0)"
   ]
  },
  {
   "cell_type": "markdown",
   "metadata": {},
   "source": [
    "### Initialization"
   ]
  },
  {
   "cell_type": "code",
   "execution_count": 21,
   "metadata": {},
   "outputs": [],
   "source": [
    "np.random.seed(0)\n",
    "\n",
    "rnn_size = 128\n",
    "# input\n",
    "U = np.random.normal(0, 0.1, size=[rnn_size, len(token_mapping)])\n",
    "# hidden layer\n",
    "W = np.random.normal(0, 0.1, size=[rnn_size, rnn_size])\n",
    "b = np.ones(shape=[rnn_size, 1]) * 0.1\n",
    "# output\n",
    "V = np.random.normal(0, 0.1, size=[len(state_mapping), rnn_size])\n",
    "c = np.ones(shape=[len(state_mapping), 1]) * 0.1"
   ]
  },
  {
   "cell_type": "code",
   "execution_count": 22,
   "metadata": {},
   "outputs": [],
   "source": [
    "model = (U, W, b, V, c)  # time for some unpacking magic"
   ]
  },
  {
   "cell_type": "markdown",
   "metadata": {},
   "source": [
    "### Forward"
   ]
  },
  {
   "cell_type": "code",
   "execution_count": 23,
   "metadata": {},
   "outputs": [
    {
     "data": {
      "text/plain": [
       "(25, 18, 1)"
      ]
     },
     "execution_count": 23,
     "metadata": {},
     "output_type": "execute_result"
    }
   ],
   "source": [
    "def forward(U, W, b, V, c, x):\n",
    "    \"\"\"\n",
    "    Compute the outputs at each time step.\n",
    "    Note that in the forward function, we only store y_ at each time step.\n",
    "    \"\"\"\n",
    "    y_ = []\n",
    "    # initialize h_1\n",
    "    h = np.tanh(b + U.dot(x[0]))\n",
    "    o = c + V.dot(h)\n",
    "    y_.append(softmax(o))\n",
    "    # iterate for [h_t, .., h_n]\n",
    "    for i in range(1, len(x)):\n",
    "        h = np.tanh(b + W.dot(h) + U.dot(x[i]))\n",
    "        o = c + V.dot(h)\n",
    "        y_.append(softmax(o))\n",
    "    return np.array(y_)\n",
    "\n",
    "y_ = forward(*model, x=X_train[0])\n",
    "y_.shape"
   ]
  },
  {
   "cell_type": "code",
   "execution_count": 24,
   "metadata": {},
   "outputs": [
    {
     "data": {
      "text/plain": [
       "array([17,  6,  6,  9, 11,  8,  7,  5, 14, 15,  6, 11, 17,  1,  6, 11,  8,\n",
       "        6,  8, 11, 11,  9, 15, 11, 14])"
      ]
     },
     "execution_count": 24,
     "metadata": {},
     "output_type": "execute_result"
    }
   ],
   "source": [
    "np.argmax(y_, axis=1).flatten()"
   ]
  },
  {
   "cell_type": "markdown",
   "metadata": {},
   "source": [
    "### Evaluation"
   ]
  },
  {
   "cell_type": "code",
   "execution_count": 25,
   "metadata": {},
   "outputs": [],
   "source": [
    "def predict(logits):\n",
    "    states = list(state_mapping)\n",
    "    probs = softmax(logits)\n",
    "    indices = np.argmax(probs, axis=1)  # take argmax of the probs\n",
    "    return [states[int(i)] for i in indices]  # map indices back to states"
   ]
  },
  {
   "cell_type": "code",
   "execution_count": 26,
   "metadata": {},
   "outputs": [],
   "source": [
    "def write_predictions(*args, X):\n",
    "    # get and store predictions\n",
    "    result = []\n",
    "    for i in trange(len(X_val), leave=False):\n",
    "        y_pred = predict(forward(*args, x=X_val[i]))\n",
    "        result.append(y_pred)\n",
    "    # write predictions to file\n",
    "    with open(out_filename, 'w') as f:\n",
    "        for i in range(len(val_sentences)):\n",
    "            for j in range(len(val_sentences[i])):\n",
    "                word = val_sentences[i][j]\n",
    "                pred = result[i][j]\n",
    "                f.write(word + ' ' + pred + '\\n')\n",
    "            f.write('\\n')"
   ]
  },
  {
   "cell_type": "code",
   "execution_count": 27,
   "metadata": {},
   "outputs": [
    {
     "data": {
      "application/vnd.jupyter.widget-view+json": {
       "model_id": "",
       "version_major": 2,
       "version_minor": 0
      },
      "text/plain": [
       "HBox(children=(IntProgress(value=0, max=78), HTML(value='')))"
      ]
     },
     "metadata": {},
     "output_type": "display_data"
    },
    {
     "name": "stdout",
     "output_type": "stream",
     "text": [
      "\r"
     ]
    },
    {
     "data": {
      "text/plain": [
       "((0.37949101796407186, 0.6321695760598504, 0.47427502338634236),\n",
       " (0.04640718562874251, 0.0773067331670823, 0.05799812909260992))"
      ]
     },
     "execution_count": 27,
     "metadata": {},
     "output_type": "execute_result"
    }
   ],
   "source": [
    "def compare(observed, predicted):\n",
    "    correct_sentiment = 0\n",
    "    correct_entity = 0\n",
    "\n",
    "    total_observed = 0.0\n",
    "    total_predicted = 0.0\n",
    "\n",
    "    #For each Instance Index example (example = 0,1,2,3.....)\n",
    "    for example in observed:\n",
    "        observed_instance = observed[example]\n",
    "        predicted_instance = predicted[example]\n",
    "\n",
    "        #Count number of entities in gold data\n",
    "        total_observed += len(observed_instance)\n",
    "        #Count number of entities in prediction data\n",
    "        total_predicted += len(predicted_instance)\n",
    "\n",
    "        #For each entity in prediction\n",
    "        for span in predicted_instance:\n",
    "            span_begin = span[1]\n",
    "            span_length = len(span) - 1\n",
    "            span_ne = (span_begin, span_length)\n",
    "            span_sent = span[0]\n",
    "\n",
    "            #For each entity in gold data\n",
    "            for observed_span in observed_instance:\n",
    "                begin = observed_span[1]\n",
    "                length = len(observed_span) - 1\n",
    "                ne = (begin, length)\n",
    "                sent = observed_span[0]\n",
    "\n",
    "                #Entity matched\n",
    "                if span_ne == ne:\n",
    "                    correct_entity += 1\n",
    "                    #Entity & Sentiment both are matched\n",
    "                    if span_sent == sent:\n",
    "                        correct_sentiment += 1\n",
    "\n",
    "    prec = correct_entity/total_predicted\n",
    "    rec = correct_entity/total_observed\n",
    "    if abs(prec + rec) < 1e-6:\n",
    "        f = 0\n",
    "    else:\n",
    "        f = 2 * prec * rec / (prec + rec)\n",
    "    entity_scores = (prec, rec, f)\n",
    "\n",
    "    prec = correct_sentiment/total_predicted\n",
    "    rec = correct_sentiment/total_observed\n",
    "    if abs(prec + rec) < 1e-6:\n",
    "        f = 0\n",
    "    else:\n",
    "        f = 2 * prec * rec / (prec + rec)\n",
    "    type_scores = (prec, rec, f)\n",
    "    return entity_scores, type_scores\n",
    "\n",
    "def get_scores(*args, X):\n",
    "    write_predictions(*args, X=X_val)\n",
    "    observed = get_observed(open(val_filename, 'r'))\n",
    "    predicted = get_predicted(open(out_filename, 'r'))\n",
    "    return compare(observed, predicted)\n",
    "\n",
    "get_scores(*model, X=X_val)"
   ]
  },
  {
   "cell_type": "markdown",
   "metadata": {},
   "source": [
    "### Backward\n",
    "`<insert derived backpropagation equations here>`"
   ]
  },
  {
   "cell_type": "markdown",
   "metadata": {},
   "source": [
    "#### Weighting\n",
    "We create two sets of weights for mis-classifying each class:\n",
    "* `count_weights`: based on frequency of occurrences of each class\n",
    "* `label_weights`: based on importance of correctly predicting certain classes"
   ]
  },
  {
   "cell_type": "code",
   "execution_count": 28,
   "metadata": {
    "scrolled": true
   },
   "outputs": [
    {
     "data": {
      "text/plain": [
       "array([[0.2       ],\n",
       "       [0.2       ],\n",
       "       [0.2       ],\n",
       "       [0.2       ],\n",
       "       [0.2       ],\n",
       "       [0.2       ],\n",
       "       [0.2       ],\n",
       "       [0.2       ],\n",
       "       [0.2       ],\n",
       "       [0.2       ],\n",
       "       [0.2       ],\n",
       "       [0.2       ],\n",
       "       [1.        ],\n",
       "       [1.        ],\n",
       "       [0.2       ],\n",
       "       [0.2       ],\n",
       "       [0.5       ],\n",
       "       [0.33333333]])"
      ]
     },
     "execution_count": 28,
     "metadata": {},
     "output_type": "execute_result"
    }
   ],
   "source": [
    "count_weights = np.asarray(list(states.values()))\n",
    "count_weights = 1 / count_weights\n",
    "count_weights /= np.max(count_weights)\n",
    "count_weights = np.maximum(0.2, count_weights)\n",
    "count_weights = count_weights.reshape(-1, 1)\n",
    "count_weights"
   ]
  },
  {
   "cell_type": "code",
   "execution_count": 29,
   "metadata": {},
   "outputs": [],
   "source": [
    "label_weights = OrderedDict()\n",
    "for k in states:\n",
    "    if k == 'O':\n",
    "        label_weights[k] = 1\n",
    "    elif k.startswith('B'):\n",
    "        label_weights[k] = 1\n",
    "    elif k.startswith('I'):\n",
    "        label_weights[k] = 1\n",
    "    else:\n",
    "        label_weights[k] = 1\n",
    "label_weights = np.asarray(list(label_weights.values())).reshape(-1, 1)"
   ]
  },
  {
   "cell_type": "code",
   "execution_count": 30,
   "metadata": {},
   "outputs": [],
   "source": [
    "weights = label_weights * count_weights\n",
    "assert weights.shape == (len(states), 1)"
   ]
  },
  {
   "cell_type": "markdown",
   "metadata": {},
   "source": [
    "#### Gradients"
   ]
  },
  {
   "cell_type": "code",
   "execution_count": 31,
   "metadata": {
    "scrolled": true
   },
   "outputs": [],
   "source": [
    "def jacobian(h):\n",
    "    \"\"\"\n",
    "    Returns the Jacobian of tanh(h).\n",
    "    \"\"\"\n",
    "    diag_elems = (1 - h**2).flatten()\n",
    "    return np.diag(diag_elems)\n",
    "    \n",
    "\n",
    "def backward(U, W, b, V, c, x, y):\n",
    "    assert len(x) == len(y)\n",
    "    n = len(x)\n",
    "    if n <= 1:\n",
    "        return np.nan, (0, 0, 0, 0, 0)\n",
    "    \n",
    "    # feedforward\n",
    "    h_1 = np.tanh(b + U.dot(x[0]))\n",
    "    h = [h_1]\n",
    "    for i in range(1, n):\n",
    "        h_t = np.tanh(b + W.dot(h[-1]) + U.dot(x[i]))\n",
    "        h.append(h_t)\n",
    "\n",
    "    o = [c + V.dot(h_t) for h_t in h]\n",
    "    \n",
    "    # backprop\n",
    "    do = [softmax(o[i]) - y[i] for i in range(n)]\n",
    "    \n",
    "    dh_n = V.T.dot(do[-1])  # h_n has no (t+1) gradient\n",
    "    dh = [dh_n]\n",
    "    for i in range(n-2, -1, -1):\n",
    "        dh_t = W.T.dot(jacobian(h[i+1])).dot(dh[0]) + V.T.dot(do[i])\n",
    "        dh.insert(0, dh_t)\n",
    "        \n",
    "    dc = np.sum(do, axis=0)\n",
    "    dV = np.sum([do[i].dot(dh[i].T) for i in range(n)], axis=0)\n",
    "    \n",
    "    delta_h = [jacobian(h[i]).dot(dh[i]) for i in range(n)]  # propagated error term of h\n",
    "    db = np.sum(delta_h, axis=0)\n",
    "    dW = np.sum([delta_h[i].dot(h[i-1].T) for i in range(1, n)], axis=0)  # t=1 has no prev\n",
    "    dU = np.sum([delta_h[i].dot(x[i].T) for i in range(n)], axis=0)\n",
    "    \n",
    "    assert dc.shape == c.shape\n",
    "    assert dV.shape == V.shape\n",
    "    assert db.shape == b.shape\n",
    "    assert dW.shape == W.shape\n",
    "    assert dU.shape == U.shape\n",
    "\n",
    "    grad = (dU, dW, db, dV, dc)\n",
    "    \n",
    "    # compute loss\n",
    "    y_ = [softmax(o_t) for o_t in o]\n",
    "    xent = [-np.log(y_[i] + 1e-8) * y[i] for i in range(n)]\n",
    "    loss = np.mean(np.sum(xent, axis=1))  # sum softmax CE for each word, then take mean across all words\n",
    "    return loss, grad\n",
    "        \n",
    "# for i in trange(len(X_train)):\n",
    "#     backward(*model, x=X_train[i], y=y_train[i])"
   ]
  },
  {
   "cell_type": "markdown",
   "metadata": {},
   "source": [
    "## Training"
   ]
  },
  {
   "cell_type": "raw",
   "metadata": {},
   "source": [
    "# overfitting check\n",
    "losses = []\n",
    "n_iters = 1000\n",
    "for i in trange(n_iters):\n",
    "    x, y = X_train[0], y_train[0]\n",
    "    loss, grad = backward(*model, x=x, y=y)\n",
    "    \n",
    "    losses.append(loss)\n",
    "    for error, weight in zip(grad, model):\n",
    "        weight -= lr * error\n",
    "\n",
    "plt.plot(np.arange(n_iters), losses);\n",
    "\n",
    "y_pred = predict(forward(*model, x=X_train[0]))\n",
    "y_true = train_labels[0]\n",
    "np.mean(np.array(y_pred) == np.array(y_true))"
   ]
  },
  {
   "cell_type": "code",
   "execution_count": 32,
   "metadata": {},
   "outputs": [
    {
     "data": {
      "application/vnd.jupyter.widget-view+json": {
       "model_id": "128c8cb0e8b64825add33218e37fbc7d",
       "version_major": 2,
       "version_minor": 0
      },
      "text/plain": [
       "HBox(children=(IntProgress(value=0, max=20), HTML(value='')))"
      ]
     },
     "metadata": {},
     "output_type": "display_data"
    },
    {
     "data": {
      "application/vnd.jupyter.widget-view+json": {
       "model_id": "",
       "version_major": 2,
       "version_minor": 0
      },
      "text/plain": [
       "HBox(children=(IntProgress(value=0, max=551), HTML(value='')))"
      ]
     },
     "metadata": {},
     "output_type": "display_data"
    },
    {
     "data": {
      "application/vnd.jupyter.widget-view+json": {
       "model_id": "",
       "version_major": 2,
       "version_minor": 0
      },
      "text/plain": [
       "HBox(children=(IntProgress(value=0, max=78), HTML(value='')))"
      ]
     },
     "metadata": {},
     "output_type": "display_data"
    },
    {
     "data": {
      "application/vnd.jupyter.widget-view+json": {
       "model_id": "",
       "version_major": 2,
       "version_minor": 0
      },
      "text/plain": [
       "HBox(children=(IntProgress(value=0, max=551), HTML(value='')))"
      ]
     },
     "metadata": {},
     "output_type": "display_data"
    },
    {
     "data": {
      "application/vnd.jupyter.widget-view+json": {
       "model_id": "",
       "version_major": 2,
       "version_minor": 0
      },
      "text/plain": [
       "HBox(children=(IntProgress(value=0, max=78), HTML(value='')))"
      ]
     },
     "metadata": {},
     "output_type": "display_data"
    },
    {
     "data": {
      "application/vnd.jupyter.widget-view+json": {
       "model_id": "",
       "version_major": 2,
       "version_minor": 0
      },
      "text/plain": [
       "HBox(children=(IntProgress(value=0, max=551), HTML(value='')))"
      ]
     },
     "metadata": {},
     "output_type": "display_data"
    },
    {
     "data": {
      "application/vnd.jupyter.widget-view+json": {
       "model_id": "",
       "version_major": 2,
       "version_minor": 0
      },
      "text/plain": [
       "HBox(children=(IntProgress(value=0, max=78), HTML(value='')))"
      ]
     },
     "metadata": {},
     "output_type": "display_data"
    },
    {
     "data": {
      "application/vnd.jupyter.widget-view+json": {
       "model_id": "",
       "version_major": 2,
       "version_minor": 0
      },
      "text/plain": [
       "HBox(children=(IntProgress(value=0, max=551), HTML(value='')))"
      ]
     },
     "metadata": {},
     "output_type": "display_data"
    },
    {
     "data": {
      "application/vnd.jupyter.widget-view+json": {
       "model_id": "",
       "version_major": 2,
       "version_minor": 0
      },
      "text/plain": [
       "HBox(children=(IntProgress(value=0, max=78), HTML(value='')))"
      ]
     },
     "metadata": {},
     "output_type": "display_data"
    },
    {
     "data": {
      "application/vnd.jupyter.widget-view+json": {
       "model_id": "",
       "version_major": 2,
       "version_minor": 0
      },
      "text/plain": [
       "HBox(children=(IntProgress(value=0, max=551), HTML(value='')))"
      ]
     },
     "metadata": {},
     "output_type": "display_data"
    },
    {
     "data": {
      "application/vnd.jupyter.widget-view+json": {
       "model_id": "",
       "version_major": 2,
       "version_minor": 0
      },
      "text/plain": [
       "HBox(children=(IntProgress(value=0, max=78), HTML(value='')))"
      ]
     },
     "metadata": {},
     "output_type": "display_data"
    },
    {
     "data": {
      "application/vnd.jupyter.widget-view+json": {
       "model_id": "",
       "version_major": 2,
       "version_minor": 0
      },
      "text/plain": [
       "HBox(children=(IntProgress(value=0, max=551), HTML(value='')))"
      ]
     },
     "metadata": {},
     "output_type": "display_data"
    },
    {
     "data": {
      "application/vnd.jupyter.widget-view+json": {
       "model_id": "",
       "version_major": 2,
       "version_minor": 0
      },
      "text/plain": [
       "HBox(children=(IntProgress(value=0, max=78), HTML(value='')))"
      ]
     },
     "metadata": {},
     "output_type": "display_data"
    },
    {
     "data": {
      "application/vnd.jupyter.widget-view+json": {
       "model_id": "",
       "version_major": 2,
       "version_minor": 0
      },
      "text/plain": [
       "HBox(children=(IntProgress(value=0, max=551), HTML(value='')))"
      ]
     },
     "metadata": {},
     "output_type": "display_data"
    },
    {
     "data": {
      "application/vnd.jupyter.widget-view+json": {
       "model_id": "",
       "version_major": 2,
       "version_minor": 0
      },
      "text/plain": [
       "HBox(children=(IntProgress(value=0, max=78), HTML(value='')))"
      ]
     },
     "metadata": {},
     "output_type": "display_data"
    },
    {
     "data": {
      "application/vnd.jupyter.widget-view+json": {
       "model_id": "",
       "version_major": 2,
       "version_minor": 0
      },
      "text/plain": [
       "HBox(children=(IntProgress(value=0, max=551), HTML(value='')))"
      ]
     },
     "metadata": {},
     "output_type": "display_data"
    },
    {
     "data": {
      "application/vnd.jupyter.widget-view+json": {
       "model_id": "",
       "version_major": 2,
       "version_minor": 0
      },
      "text/plain": [
       "HBox(children=(IntProgress(value=0, max=78), HTML(value='')))"
      ]
     },
     "metadata": {},
     "output_type": "display_data"
    },
    {
     "data": {
      "application/vnd.jupyter.widget-view+json": {
       "model_id": "",
       "version_major": 2,
       "version_minor": 0
      },
      "text/plain": [
       "HBox(children=(IntProgress(value=0, max=551), HTML(value='')))"
      ]
     },
     "metadata": {},
     "output_type": "display_data"
    },
    {
     "data": {
      "application/vnd.jupyter.widget-view+json": {
       "model_id": "",
       "version_major": 2,
       "version_minor": 0
      },
      "text/plain": [
       "HBox(children=(IntProgress(value=0, max=78), HTML(value='')))"
      ]
     },
     "metadata": {},
     "output_type": "display_data"
    },
    {
     "data": {
      "application/vnd.jupyter.widget-view+json": {
       "model_id": "",
       "version_major": 2,
       "version_minor": 0
      },
      "text/plain": [
       "HBox(children=(IntProgress(value=0, max=551), HTML(value='')))"
      ]
     },
     "metadata": {},
     "output_type": "display_data"
    },
    {
     "data": {
      "application/vnd.jupyter.widget-view+json": {
       "model_id": "",
       "version_major": 2,
       "version_minor": 0
      },
      "text/plain": [
       "HBox(children=(IntProgress(value=0, max=78), HTML(value='')))"
      ]
     },
     "metadata": {},
     "output_type": "display_data"
    },
    {
     "data": {
      "application/vnd.jupyter.widget-view+json": {
       "model_id": "",
       "version_major": 2,
       "version_minor": 0
      },
      "text/plain": [
       "HBox(children=(IntProgress(value=0, max=551), HTML(value='')))"
      ]
     },
     "metadata": {},
     "output_type": "display_data"
    },
    {
     "data": {
      "application/vnd.jupyter.widget-view+json": {
       "model_id": "",
       "version_major": 2,
       "version_minor": 0
      },
      "text/plain": [
       "HBox(children=(IntProgress(value=0, max=78), HTML(value='')))"
      ]
     },
     "metadata": {},
     "output_type": "display_data"
    },
    {
     "data": {
      "application/vnd.jupyter.widget-view+json": {
       "model_id": "",
       "version_major": 2,
       "version_minor": 0
      },
      "text/plain": [
       "HBox(children=(IntProgress(value=0, max=551), HTML(value='')))"
      ]
     },
     "metadata": {},
     "output_type": "display_data"
    },
    {
     "data": {
      "application/vnd.jupyter.widget-view+json": {
       "model_id": "",
       "version_major": 2,
       "version_minor": 0
      },
      "text/plain": [
       "HBox(children=(IntProgress(value=0, max=78), HTML(value='')))"
      ]
     },
     "metadata": {},
     "output_type": "display_data"
    },
    {
     "data": {
      "application/vnd.jupyter.widget-view+json": {
       "model_id": "",
       "version_major": 2,
       "version_minor": 0
      },
      "text/plain": [
       "HBox(children=(IntProgress(value=0, max=551), HTML(value='')))"
      ]
     },
     "metadata": {},
     "output_type": "display_data"
    },
    {
     "data": {
      "application/vnd.jupyter.widget-view+json": {
       "model_id": "",
       "version_major": 2,
       "version_minor": 0
      },
      "text/plain": [
       "HBox(children=(IntProgress(value=0, max=78), HTML(value='')))"
      ]
     },
     "metadata": {},
     "output_type": "display_data"
    },
    {
     "data": {
      "application/vnd.jupyter.widget-view+json": {
       "model_id": "",
       "version_major": 2,
       "version_minor": 0
      },
      "text/plain": [
       "HBox(children=(IntProgress(value=0, max=551), HTML(value='')))"
      ]
     },
     "metadata": {},
     "output_type": "display_data"
    },
    {
     "data": {
      "application/vnd.jupyter.widget-view+json": {
       "model_id": "",
       "version_major": 2,
       "version_minor": 0
      },
      "text/plain": [
       "HBox(children=(IntProgress(value=0, max=78), HTML(value='')))"
      ]
     },
     "metadata": {},
     "output_type": "display_data"
    },
    {
     "data": {
      "application/vnd.jupyter.widget-view+json": {
       "model_id": "",
       "version_major": 2,
       "version_minor": 0
      },
      "text/plain": [
       "HBox(children=(IntProgress(value=0, max=551), HTML(value='')))"
      ]
     },
     "metadata": {},
     "output_type": "display_data"
    },
    {
     "data": {
      "application/vnd.jupyter.widget-view+json": {
       "model_id": "",
       "version_major": 2,
       "version_minor": 0
      },
      "text/plain": [
       "HBox(children=(IntProgress(value=0, max=78), HTML(value='')))"
      ]
     },
     "metadata": {},
     "output_type": "display_data"
    },
    {
     "data": {
      "application/vnd.jupyter.widget-view+json": {
       "model_id": "",
       "version_major": 2,
       "version_minor": 0
      },
      "text/plain": [
       "HBox(children=(IntProgress(value=0, max=551), HTML(value='')))"
      ]
     },
     "metadata": {},
     "output_type": "display_data"
    },
    {
     "data": {
      "application/vnd.jupyter.widget-view+json": {
       "model_id": "",
       "version_major": 2,
       "version_minor": 0
      },
      "text/plain": [
       "HBox(children=(IntProgress(value=0, max=78), HTML(value='')))"
      ]
     },
     "metadata": {},
     "output_type": "display_data"
    },
    {
     "data": {
      "application/vnd.jupyter.widget-view+json": {
       "model_id": "",
       "version_major": 2,
       "version_minor": 0
      },
      "text/plain": [
       "HBox(children=(IntProgress(value=0, max=551), HTML(value='')))"
      ]
     },
     "metadata": {},
     "output_type": "display_data"
    },
    {
     "data": {
      "application/vnd.jupyter.widget-view+json": {
       "model_id": "",
       "version_major": 2,
       "version_minor": 0
      },
      "text/plain": [
       "HBox(children=(IntProgress(value=0, max=78), HTML(value='')))"
      ]
     },
     "metadata": {},
     "output_type": "display_data"
    },
    {
     "data": {
      "application/vnd.jupyter.widget-view+json": {
       "model_id": "",
       "version_major": 2,
       "version_minor": 0
      },
      "text/plain": [
       "HBox(children=(IntProgress(value=0, max=551), HTML(value='')))"
      ]
     },
     "metadata": {},
     "output_type": "display_data"
    },
    {
     "data": {
      "application/vnd.jupyter.widget-view+json": {
       "model_id": "",
       "version_major": 2,
       "version_minor": 0
      },
      "text/plain": [
       "HBox(children=(IntProgress(value=0, max=78), HTML(value='')))"
      ]
     },
     "metadata": {},
     "output_type": "display_data"
    },
    {
     "data": {
      "application/vnd.jupyter.widget-view+json": {
       "model_id": "",
       "version_major": 2,
       "version_minor": 0
      },
      "text/plain": [
       "HBox(children=(IntProgress(value=0, max=551), HTML(value='')))"
      ]
     },
     "metadata": {},
     "output_type": "display_data"
    },
    {
     "data": {
      "application/vnd.jupyter.widget-view+json": {
       "model_id": "",
       "version_major": 2,
       "version_minor": 0
      },
      "text/plain": [
       "HBox(children=(IntProgress(value=0, max=78), HTML(value='')))"
      ]
     },
     "metadata": {},
     "output_type": "display_data"
    },
    {
     "data": {
      "application/vnd.jupyter.widget-view+json": {
       "model_id": "",
       "version_major": 2,
       "version_minor": 0
      },
      "text/plain": [
       "HBox(children=(IntProgress(value=0, max=551), HTML(value='')))"
      ]
     },
     "metadata": {},
     "output_type": "display_data"
    },
    {
     "data": {
      "application/vnd.jupyter.widget-view+json": {
       "model_id": "",
       "version_major": 2,
       "version_minor": 0
      },
      "text/plain": [
       "HBox(children=(IntProgress(value=0, max=78), HTML(value='')))"
      ]
     },
     "metadata": {},
     "output_type": "display_data"
    },
    {
     "name": "stdout",
     "output_type": "stream",
     "text": [
      "\n"
     ]
    }
   ],
   "source": [
    "checkpoints = []  # save model weights after every epoch\n",
    "training_indices = []  # track each sentence for loss checking\n",
    "losses  = []\n",
    "scores = []\n",
    "for i in trange(n_epochs):\n",
    "    indices = list(range(len(X_train)))\n",
    "    shuffle(indices)\n",
    "    training_indices.extend(indices)  # since they are shuffled, remember them\n",
    "    for j in tqdm(indices, leave=False):\n",
    "        x, y = X_train[j], y_train[j]\n",
    "        loss, grad = backward(*model, x=x, y=y)\n",
    "        \n",
    "        losses.append(loss)\n",
    "        for error, weight in zip(grad, model):\n",
    "            weight -= lr * error\n",
    "    \n",
    "    scores.append(get_scores(*model, X=X_val))\n",
    "    checkpoints.append(tuple(weights.copy() for weights in model))"
   ]
  },
  {
   "cell_type": "code",
   "execution_count": 33,
   "metadata": {
    "scrolled": false
   },
   "outputs": [
    {
     "data": {
      "image/png": "[encoded data removed]",
      "text/plain": [
       "<Figure size 1440x720 with 1 Axes>"
      ]
     },
     "metadata": {},
     "output_type": "display_data"
    }
   ],
   "source": [
    "plt.figure(figsize=(20, 10))\n",
    "plt.plot(np.arange(len(losses)), losses, linewidth=0.5)  # overall training loss\n",
    "\n",
    "training_indices = np.asarray(training_indices)\n",
    "losses = np.asarray(losses)\n",
    "for i in range(4):\n",
    "    x = np.linspace(0, len(losses), n_epochs)\n",
    "    y = losses[np.where(training_indices == i)]\n",
    "    plt.plot(x, y, linewidth=5.0)"
   ]
  },
  {
   "cell_type": "code",
   "execution_count": 34,
   "metadata": {},
   "outputs": [
    {
     "data": {
      "image/png": "[encoded data removed]",
      "text/plain": [
       "<Figure size 1440x720 with 1 Axes>"
      ]
     },
     "metadata": {},
     "output_type": "display_data"
    }
   ],
   "source": [
    "f_entity = [tup[0][-1] for tup in scores]\n",
    "f_type = [tup[1][-1] for tup in scores]\n",
    "\n",
    "x = [np.argmax(f_entity), np.argmax(f_type)]\n",
    "y = [np.max(f_entity), np.max(f_type)]\n",
    "\n",
    "\n",
    "plt.figure(figsize=(20, 10))\n",
    "plt.plot(np.arange(n_epochs), f_entity, label='Entity')\n",
    "plt.plot(np.arange(n_epochs), f_type, label='Entity type')\n",
    "\n",
    "plt.scatter(x, y)\n",
    "plt.annotate(f'Entity: ({x[0]}, {np.round(y[0], 3)})', (x[0], y[0]))\n",
    "plt.annotate(f'Entity type: ({x[1]}, {np.round(y[1], 3)})', (x[1], y[1]))\n",
    "\n",
    "plt.legend();"
   ]
  },
  {
   "cell_type": "markdown",
   "metadata": {},
   "source": [
    "## Prediction"
   ]
  },
  {
   "cell_type": "code",
   "execution_count": 35,
   "metadata": {},
   "outputs": [
    {
     "name": "stdout",
     "output_type": "stream",
     "text": [
      "I-PP\tB-NP\n",
      "B-PRT\tI-NP\n",
      "B-INTJ\tI-NP\n",
      "I-VP\tO\n",
      "B-VP\tB-NP\n",
      "B-PP\tB-VP\n",
      "B-VP\tI-VP\n",
      "B-NP\tB-ADVP\n",
      "B-NP\tO\n",
      "B-NP\tB-VP\n",
      "B-NP\tB-PP\n",
      "B-NP\tB-NP\n",
      "B-NP\tB-PP\n",
      "B-NP\tB-NP\n",
      "B-NP\tO\n"
     ]
    }
   ],
   "source": [
    "y_pred = predict(forward(*model, x=X_val[0]))\n",
    "y_true = val_labels[0]\n",
    "for _pred, _true in zip(y_pred, y_true):\n",
    "    print(_pred, _true, sep='\\t')"
   ]
  },
  {
   "cell_type": "markdown",
   "metadata": {},
   "source": [
    "Check for class imbalance."
   ]
  },
  {
   "cell_type": "code",
   "execution_count": 36,
   "metadata": {
    "scrolled": true
   },
   "outputs": [
    {
     "data": {
      "application/vnd.jupyter.widget-view+json": {
       "model_id": "5d8240189f224947a4a81e696d763863",
       "version_major": 2,
       "version_minor": 0
      },
      "text/plain": [
       "HBox(children=(IntProgress(value=0, max=78), HTML(value='')))"
      ]
     },
     "metadata": {},
     "output_type": "display_data"
    },
    {
     "name": "stdout",
     "output_type": "stream",
     "text": [
      "\n"
     ]
    }
   ],
   "source": [
    "all_pred, all_true = [], []\n",
    "for i in trange(len(X_val)):\n",
    "    y_pred = np.argmax(softmax(forward(*model, x=X_val[i])), axis=1).flatten()\n",
    "    y_true = np.argmax(y_val[i], axis=1).flatten()\n",
    "    all_pred.extend(y_pred)\n",
    "    all_true.extend(y_true)\n",
    "all_pred = np.asarray(all_pred)\n",
    "all_true = np.asarray(all_true)"
   ]
  },
  {
   "cell_type": "code",
   "execution_count": 37,
   "metadata": {
    "scrolled": false
   },
   "outputs": [
    {
     "name": "stdout",
     "output_type": "stream",
     "text": [
      "Confusion matrix, without normalization\n"
     ]
    },
    {
     "data": {
      "image/png": "[encoded data removed]",
      "text/plain": [
       "<Figure size 720x720 with 2 Axes>"
      ]
     },
     "metadata": {},
     "output_type": "display_data"
    }
   ],
   "source": [
    "def plot_confusion_matrix(cm, classes,\n",
    "                          normalize=False,\n",
    "                          title='Confusion matrix',\n",
    "                          cmap=plt.cm.Blues):\n",
    "    \"\"\"\n",
    "    This function prints and plots the confusion matrix.\n",
    "    Normalization can be applied by setting `normalize=True`.\n",
    "    \"\"\"\n",
    "    if normalize:\n",
    "        cm = cm.astype('float') / cm.sum(axis=1)[:, np.newaxis]\n",
    "        print(\"Normalized confusion matrix\")\n",
    "    else:\n",
    "        print('Confusion matrix, without normalization')\n",
    "\n",
    "    plt.imshow(cm, interpolation='nearest', cmap=cmap)\n",
    "    plt.title(title)\n",
    "    plt.colorbar()\n",
    "    tick_marks = np.arange(len(classes))\n",
    "    plt.xticks(tick_marks, classes, rotation=45)\n",
    "    plt.yticks(tick_marks, classes)\n",
    "\n",
    "    fmt = '.2f' if normalize else 'd'\n",
    "    thresh = cm.max() / 2.\n",
    "    for i, j in itertools.product(range(cm.shape[0]), range(cm.shape[1])):\n",
    "        plt.text(j, i, format(cm[i, j], fmt),\n",
    "                 horizontalalignment=\"center\",\n",
    "                 color=\"white\" if cm[i, j] > thresh else \"black\")\n",
    "\n",
    "    plt.ylabel('True label')\n",
    "    plt.xlabel('Predicted label')\n",
    "    plt.tight_layout()\n",
    "\n",
    "    \n",
    "cm = confusion_matrix(all_true, all_pred)\n",
    "classes = list(state_mapping)\n",
    "\n",
    "plt.figure(figsize=(10, 10))\n",
    "plt.grid(False)\n",
    "plot_confusion_matrix(cm, classes=classes)"
   ]
  },
  {
   "cell_type": "markdown",
   "metadata": {},
   "source": [
    "## Save model"
   ]
  },
  {
   "cell_type": "raw",
   "metadata": {},
   "source": [
    "def save_model(U, W, b, V, c, path, name):\n",
    "    if not os.path.isdir(path):\n",
    "        os.makedirs(path)\n",
    "    np.save(f'{path}/{name}_U', U)\n",
    "    np.save(f'{path}/{name}_W', W)\n",
    "    np.save(f'{path}/{name}_b', b)\n",
    "    np.save(f'{path}/{name}_V', V)\n",
    "    np.save(f'{path}/{name}_c', c)\n",
    "    return True\n",
    "\n",
    "save_model(*model, path='weights/EN', name=f'epochs{n_epochs}_lr{lr}')"
   ]
  }
 ],
 "metadata": {
  "kernelspec": {
   "display_name": "Python 3",
   "language": "python",
   "name": "python3"
  },
  "language_info": {
   "codemirror_mode": {
    "name": "ipython",
    "version": 3
   },
   "file_extension": ".py",
   "mimetype": "text/x-python",
   "name": "python",
   "nbconvert_exporter": "python",
   "pygments_lexer": "ipython3",
   "version": "3.6.5"
  }
 },
 "nbformat": 4,
 "nbformat_minor": 2
}
