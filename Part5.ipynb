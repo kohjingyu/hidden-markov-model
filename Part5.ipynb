{
 "cells": [
  {
   "cell_type": "code",
   "execution_count": 1,
   "metadata": {},
   "outputs": [],
   "source": [
    "%matplotlib inline\n",
    "import numpy as np\n",
    "import matplotlib.pyplot as plt\n",
    "import os\n",
    "from collections import defaultdict, OrderedDict\n",
    "from tqdm import tqdm_notebook as tqdm, tnrange as trange\n",
    "\n",
    "plt.style.use('seaborn')"
   ]
  },
  {
   "cell_type": "markdown",
   "metadata": {},
   "source": [
    "## Data"
   ]
  },
  {
   "cell_type": "code",
   "execution_count": 2,
   "metadata": {},
   "outputs": [],
   "source": [
    "def parse(train_filename):\n",
    "    with open(train_filename, 'r') as f:\n",
    "        lines = f.readlines()\n",
    "\n",
    "    observations, states = defaultdict(int), defaultdict(int)\n",
    "    for line in lines:\n",
    "        data_split = line.strip().rsplit(' ', 1)\n",
    "        if len(data_split) == 2:\n",
    "            obs, state = data_split\n",
    "            observations[obs.lower()] += 1\n",
    "            states[state] += 1\n",
    "    return observations, states"
   ]
  },
  {
   "cell_type": "code",
   "execution_count": 3,
   "metadata": {},
   "outputs": [],
   "source": [
    "def read_train_file(train_filename):\n",
    "    with open(train_filename, 'r') as f:\n",
    "        lines = f.readlines()\n",
    "        \n",
    "    sentence, label = [], []\n",
    "    sentences, labels = [], []\n",
    "    for line in lines:\n",
    "        data_split = line.strip().rsplit(' ', 1)\n",
    "        if len(data_split) == 2:\n",
    "            word, state = data_split\n",
    "            sentence.append(word)\n",
    "            label.append(state)\n",
    "        else:\n",
    "            sentences.append(sentence)\n",
    "            labels.append(label)\n",
    "            sentence = []\n",
    "            label = []\n",
    "    return sentences, labels\n",
    "\n",
    "\n",
    "def read_val_file(val_filename):\n",
    "    with open(val_filename, 'r') as f:\n",
    "        lines = f.readlines()\n",
    "        \n",
    "    sentence = []\n",
    "    sentences = []\n",
    "    for word in lines:\n",
    "        if word == '\\n':\n",
    "            sentences.append(sentence)\n",
    "            sentence = []\n",
    "        else:\n",
    "            sentence.append(word.strip().lower())\n",
    "    return sentences"
   ]
  },
  {
   "cell_type": "markdown",
   "metadata": {},
   "source": [
    "### Train data"
   ]
  },
  {
   "cell_type": "code",
   "execution_count": 4,
   "metadata": {},
   "outputs": [],
   "source": [
    "dataset = 'EN'\n",
    "train_filename = f'data/{dataset}/train'\n",
    "\n",
    "observations, states = parse(train_filename)"
   ]
  },
  {
   "cell_type": "code",
   "execution_count": 5,
   "metadata": {
    "scrolled": true
   },
   "outputs": [
    {
     "data": {
      "text/plain": [
       "(['RT', '@shaunproulx', ':', 'Encore', '!'], ['O', 'O', 'O', 'B-INTJ', 'O'])"
      ]
     },
     "execution_count": 5,
     "metadata": {},
     "output_type": "execute_result"
    }
   ],
   "source": [
    "train_sentences, train_labels = read_train_file(train_filename)\n",
    "train_sentences[0][:5], train_labels[0][:5]"
   ]
  },
  {
   "cell_type": "markdown",
   "metadata": {},
   "source": [
    "### Validation data"
   ]
  },
  {
   "cell_type": "code",
   "execution_count": 6,
   "metadata": {
    "scrolled": true
   },
   "outputs": [
    {
     "data": {
      "text/plain": [
       "['no', 'saints', 'r', '.', 'buch']"
      ]
     },
     "execution_count": 6,
     "metadata": {},
     "output_type": "execute_result"
    }
   ],
   "source": [
    "val_filename = f'data/{dataset}/dev.in'\n",
    "val_sentences = read_val_file(val_filename)\n",
    "val_sentences[0][:5]"
   ]
  },
  {
   "cell_type": "markdown",
   "metadata": {},
   "source": [
    "## Encoding"
   ]
  },
  {
   "cell_type": "code",
   "execution_count": 7,
   "metadata": {},
   "outputs": [],
   "source": [
    "def one_hot_encode(n, depth):\n",
    "    a = np.zeros([depth, 1])\n",
    "    a[n, 0] = 1\n",
    "    return a"
   ]
  },
  {
   "cell_type": "markdown",
   "metadata": {},
   "source": [
    "### Encode words\n",
    "Create a vocabulary out of words that appear more than `1` time(s) in training. Each word now maps to an _integer_. Other words will be treated as `#UNK#`."
   ]
  },
  {
   "cell_type": "code",
   "execution_count": 8,
   "metadata": {},
   "outputs": [
    {
     "data": {
      "text/plain": [
       "878"
      ]
     },
     "execution_count": 8,
     "metadata": {},
     "output_type": "execute_result"
    }
   ],
   "source": [
    "token_mapping = {}\n",
    "for word in observations:\n",
    "    if observations[word] > 1:  # appears more than once in training\n",
    "        token_mapping[word] = len(token_mapping)\n",
    "token_mapping['#UNK#'] = len(token_mapping)\n",
    "len(token_mapping)"
   ]
  },
  {
   "cell_type": "code",
   "execution_count": 9,
   "metadata": {},
   "outputs": [
    {
     "data": {
      "text/plain": [
       "[877, 877, 1, 877, 2]"
      ]
     },
     "execution_count": 9,
     "metadata": {},
     "output_type": "execute_result"
    }
   ],
   "source": [
    "def tokenize(token_mapping, sentence):\n",
    "    \"\"\"\n",
    "    Function to convert each word into its corresponding integer\n",
    "    If word is not found, return the value for '#UNK'\n",
    "    \"\"\"\n",
    "    return [token_mapping.get(w, token_mapping['#UNK#']) for w in sentence]\n",
    "\n",
    "tokens = [tokenize(token_mapping, sentence) for sentence in train_sentences]\n",
    "tokens[0][:5]"
   ]
  },
  {
   "cell_type": "markdown",
   "metadata": {},
   "source": [
    "Tokenize then one-hot-encode each sentence."
   ]
  },
  {
   "cell_type": "code",
   "execution_count": 10,
   "metadata": {},
   "outputs": [
    {
     "data": {
      "text/plain": [
       "(551, (25, 878, 1))"
      ]
     },
     "execution_count": 10,
     "metadata": {},
     "output_type": "execute_result"
    }
   ],
   "source": [
    "inputs = [[one_hot_encode(token, len(token_mapping)) for token in sentence] for sentence in tokens]\n",
    "inputs = [np.asarray(ls) for ls in inputs]\n",
    "len(inputs), inputs[0].shape"
   ]
  },
  {
   "cell_type": "markdown",
   "metadata": {},
   "source": [
    "### Encode labels\n",
    "Perform a similar encoding for the states:\n",
    "1. Map to integer\n",
    "1. Convert from integer to one-hot-encoding"
   ]
  },
  {
   "cell_type": "code",
   "execution_count": 11,
   "metadata": {},
   "outputs": [
    {
     "data": {
      "text/plain": [
       "{'O': 0,\n",
       " 'B-INTJ': 1,\n",
       " 'B-PP': 2,\n",
       " 'B-NP': 3,\n",
       " 'I-NP': 4,\n",
       " 'B-VP': 5,\n",
       " 'B-PRT': 6,\n",
       " 'I-VP': 7,\n",
       " 'B-ADJP': 8,\n",
       " 'B-SBAR': 9,\n",
       " 'B-ADVP': 10,\n",
       " 'I-INTJ': 11,\n",
       " 'B-CONJP': 12,\n",
       " 'I-CONJP': 13,\n",
       " 'I-ADVP': 14,\n",
       " 'I-ADJP': 15,\n",
       " 'I-SBAR': 16,\n",
       " 'I-PP': 17}"
      ]
     },
     "execution_count": 11,
     "metadata": {},
     "output_type": "execute_result"
    }
   ],
   "source": [
    "state_mapping = {state: i for i, state in enumerate(states)}\n",
    "state_mapping"
   ]
  },
  {
   "cell_type": "code",
   "execution_count": 12,
   "metadata": {
    "scrolled": true
   },
   "outputs": [
    {
     "data": {
      "text/plain": [
       "[0, 0, 0, 1, 0]"
      ]
     },
     "execution_count": 12,
     "metadata": {},
     "output_type": "execute_result"
    }
   ],
   "source": [
    "encoded_labels = [[state_mapping[state] for state in label] for label in train_labels]\n",
    "encoded_labels[0][:5]"
   ]
  },
  {
   "cell_type": "code",
   "execution_count": 13,
   "metadata": {},
   "outputs": [
    {
     "data": {
      "text/plain": [
       "(551, (25, 18, 1))"
      ]
     },
     "execution_count": 13,
     "metadata": {},
     "output_type": "execute_result"
    }
   ],
   "source": [
    "labels = [[one_hot_encode(label, len(state_mapping)) for label in sentence] for sentence in encoded_labels]\n",
    "labels = [np.asarray(ls) for ls in labels]\n",
    "len(labels), labels[0].shape"
   ]
  },
  {
   "cell_type": "markdown",
   "metadata": {},
   "source": [
    "## Perceptron"
   ]
  },
  {
   "cell_type": "code",
   "execution_count": 14,
   "metadata": {},
   "outputs": [],
   "source": [
    "def softmax(x):\n",
    "    e_x = np.exp(x - np.max(x))\n",
    "    return e_x / e_x.sum(axis=0)"
   ]
  },
  {
   "cell_type": "markdown",
   "metadata": {},
   "source": [
    "### Initialization"
   ]
  },
  {
   "cell_type": "code",
   "execution_count": 15,
   "metadata": {},
   "outputs": [],
   "source": [
    "np.random.seed(0)\n",
    "model = OrderedDict({\n",
    "    'W1': np.random.normal(scale=0.1, size=[128, len(token_mapping)]),\n",
    "    'W2': np.random.normal(scale=0.1, size=[128, 128]),\n",
    "    'W3': np.random.normal(scale=0.1, size=[len(state_mapping), 128]),\n",
    "})"
   ]
  },
  {
   "cell_type": "code",
   "execution_count": 16,
   "metadata": {},
   "outputs": [
    {
     "data": {
      "text/plain": [
       "((878, 1), (18, 1))"
      ]
     },
     "execution_count": 16,
     "metadata": {},
     "output_type": "execute_result"
    }
   ],
   "source": [
    "x = inputs[0][0]\n",
    "y = labels[0][0]\n",
    "x.shape, y.shape"
   ]
  },
  {
   "cell_type": "code",
   "execution_count": 17,
   "metadata": {},
   "outputs": [
    {
     "data": {
      "text/plain": [
       "array([2191,  257,  716, 2768, 1904, 1327,   85,  607,  159,   71,  386,\n",
       "         88,    2,    2,   51,   61,    4,    6])"
      ]
     },
     "execution_count": 17,
     "metadata": {},
     "output_type": "execute_result"
    }
   ],
   "source": [
    "a = np.array(list(states.values()))\n",
    "a"
   ]
  },
  {
   "cell_type": "markdown",
   "metadata": {},
   "source": [
    "### Forward"
   ]
  },
  {
   "cell_type": "code",
   "execution_count": 18,
   "metadata": {},
   "outputs": [
    {
     "data": {
      "text/plain": [
       "2.956598269877938"
      ]
     },
     "execution_count": 18,
     "metadata": {},
     "output_type": "execute_result"
    }
   ],
   "source": [
    "def forward(model, x):\n",
    "    a1 = model['W1'].dot(x)\n",
    "    h1 = np.maximum(a1, 0)\n",
    "    \n",
    "    a2 = model['W2'].dot(h1)\n",
    "    h2 = np.maximum(a2, 0)\n",
    "    \n",
    "    a3 = model['W3'].dot(h2)\n",
    "    y_ = softmax(a3)\n",
    "    return y_\n",
    "\n",
    "\n",
    "def compute_loss(model, x, y):\n",
    "    y_ = forward(model, x)\n",
    "    xent = -np.log(y_ + 1e-8) * y\n",
    "    return np.sum(xent)\n",
    "\n",
    "\n",
    "compute_loss(model, x, y)"
   ]
  },
  {
   "cell_type": "markdown",
   "metadata": {},
   "source": [
    "## Backward\n",
    "`<insert derived backpropagation equations here>`"
   ]
  },
  {
   "cell_type": "code",
   "execution_count": 19,
   "metadata": {
    "scrolled": true
   },
   "outputs": [
    {
     "name": "stdout",
     "output_type": "stream",
     "text": [
      "W1\t(128, 878)\n",
      "W2\t(128, 128)\n",
      "W3\t(18, 128)\n"
     ]
    }
   ],
   "source": [
    "def compute_grad(model, x, y):\n",
    "    # forward\n",
    "    a1 = model['W1'].dot(x)\n",
    "    h1 = np.maximum(a1, 0)\n",
    "    \n",
    "    a2 = model['W2'].dot(h1)\n",
    "    h2 = np.maximum(a2, 0)\n",
    "    \n",
    "    a3 = model['W3'].dot(h2)\n",
    "    y_ = softmax(a3)\n",
    "    \n",
    "    # backward\n",
    "    d3 = y_ - y\n",
    "    d2 = model['W3'].T.dot(d3) * (a2 * (a2 >= 0))\n",
    "    d1 = model['W2'].T.dot(d2) * (a1 * (a1 >= 0))\n",
    "\n",
    "    grad_W1 = d1.dot(x.T)\n",
    "    grad_W2 = d2.dot(h1.T)\n",
    "    grad_W3 = d3.dot(h2.T)\n",
    "    \n",
    "    assert grad_W1.shape == model['W1'].shape\n",
    "    assert grad_W2.shape == model['W2'].shape\n",
    "    assert grad_W3.shape == model['W3'].shape\n",
    "    \n",
    "    grad = OrderedDict({\n",
    "        'W1': grad_W1,\n",
    "        'W2': grad_W2,\n",
    "        'W3': grad_W3,\n",
    "    })\n",
    "    return grad\n",
    "\n",
    "grad = compute_grad(model, x, y)\n",
    "for k in grad:\n",
    "    print(k, grad[k].shape, sep='\\t')"
   ]
  },
  {
   "cell_type": "markdown",
   "metadata": {},
   "source": [
    "## Training"
   ]
  },
  {
   "cell_type": "code",
   "execution_count": 20,
   "metadata": {},
   "outputs": [],
   "source": [
    "lr = 0.01\n",
    "n_epochs = 20"
   ]
  },
  {
   "cell_type": "code",
   "execution_count": 21,
   "metadata": {},
   "outputs": [],
   "source": [
    "%%script false\n",
    "# test loss function by overfitting\n",
    "losses = []\n",
    "for i in trange(n_iters):\n",
    "    loss = compute_loss(W, b, x, y)\n",
    "    grad_W = compute_grad_W(W, b, x, y)\n",
    "    grad_b = compute_grad_b(W, b, x, y)\n",
    "    \n",
    "    W -= lr * grad_W\n",
    "    b -= lr * grad_b\n",
    "    losses.append(loss)"
   ]
  },
  {
   "cell_type": "code",
   "execution_count": 22,
   "metadata": {},
   "outputs": [
    {
     "data": {
      "application/vnd.jupyter.widget-view+json": {
       "model_id": "614c9cc6d0f3449789358bc9ae741777",
       "version_major": 2,
       "version_minor": 0
      },
      "text/plain": [
       "HBox(children=(IntProgress(value=0, max=20), HTML(value='')))"
      ]
     },
     "metadata": {},
     "output_type": "display_data"
    },
    {
     "data": {
      "application/vnd.jupyter.widget-view+json": {
       "model_id": "",
       "version_major": 2,
       "version_minor": 0
      },
      "text/plain": [
       "HBox(children=(IntProgress(value=0, max=551), HTML(value='')))"
      ]
     },
     "metadata": {},
     "output_type": "display_data"
    },
    {
     "data": {
      "application/vnd.jupyter.widget-view+json": {
       "model_id": "",
       "version_major": 2,
       "version_minor": 0
      },
      "text/plain": [
       "HBox(children=(IntProgress(value=0, max=551), HTML(value='')))"
      ]
     },
     "metadata": {},
     "output_type": "display_data"
    },
    {
     "data": {
      "application/vnd.jupyter.widget-view+json": {
       "model_id": "",
       "version_major": 2,
       "version_minor": 0
      },
      "text/plain": [
       "HBox(children=(IntProgress(value=0, max=551), HTML(value='')))"
      ]
     },
     "metadata": {},
     "output_type": "display_data"
    },
    {
     "data": {
      "application/vnd.jupyter.widget-view+json": {
       "model_id": "",
       "version_major": 2,
       "version_minor": 0
      },
      "text/plain": [
       "HBox(children=(IntProgress(value=0, max=551), HTML(value='')))"
      ]
     },
     "metadata": {},
     "output_type": "display_data"
    },
    {
     "data": {
      "application/vnd.jupyter.widget-view+json": {
       "model_id": "",
       "version_major": 2,
       "version_minor": 0
      },
      "text/plain": [
       "HBox(children=(IntProgress(value=0, max=551), HTML(value='')))"
      ]
     },
     "metadata": {},
     "output_type": "display_data"
    },
    {
     "data": {
      "application/vnd.jupyter.widget-view+json": {
       "model_id": "",
       "version_major": 2,
       "version_minor": 0
      },
      "text/plain": [
       "HBox(children=(IntProgress(value=0, max=551), HTML(value='')))"
      ]
     },
     "metadata": {},
     "output_type": "display_data"
    },
    {
     "data": {
      "application/vnd.jupyter.widget-view+json": {
       "model_id": "",
       "version_major": 2,
       "version_minor": 0
      },
      "text/plain": [
       "HBox(children=(IntProgress(value=0, max=551), HTML(value='')))"
      ]
     },
     "metadata": {},
     "output_type": "display_data"
    },
    {
     "data": {
      "application/vnd.jupyter.widget-view+json": {
       "model_id": "",
       "version_major": 2,
       "version_minor": 0
      },
      "text/plain": [
       "HBox(children=(IntProgress(value=0, max=551), HTML(value='')))"
      ]
     },
     "metadata": {},
     "output_type": "display_data"
    },
    {
     "data": {
      "application/vnd.jupyter.widget-view+json": {
       "model_id": "",
       "version_major": 2,
       "version_minor": 0
      },
      "text/plain": [
       "HBox(children=(IntProgress(value=0, max=551), HTML(value='')))"
      ]
     },
     "metadata": {},
     "output_type": "display_data"
    },
    {
     "data": {
      "application/vnd.jupyter.widget-view+json": {
       "model_id": "",
       "version_major": 2,
       "version_minor": 0
      },
      "text/plain": [
       "HBox(children=(IntProgress(value=0, max=551), HTML(value='')))"
      ]
     },
     "metadata": {},
     "output_type": "display_data"
    },
    {
     "data": {
      "application/vnd.jupyter.widget-view+json": {
       "model_id": "",
       "version_major": 2,
       "version_minor": 0
      },
      "text/plain": [
       "HBox(children=(IntProgress(value=0, max=551), HTML(value='')))"
      ]
     },
     "metadata": {},
     "output_type": "display_data"
    },
    {
     "data": {
      "application/vnd.jupyter.widget-view+json": {
       "model_id": "",
       "version_major": 2,
       "version_minor": 0
      },
      "text/plain": [
       "HBox(children=(IntProgress(value=0, max=551), HTML(value='')))"
      ]
     },
     "metadata": {},
     "output_type": "display_data"
    },
    {
     "data": {
      "application/vnd.jupyter.widget-view+json": {
       "model_id": "",
       "version_major": 2,
       "version_minor": 0
      },
      "text/plain": [
       "HBox(children=(IntProgress(value=0, max=551), HTML(value='')))"
      ]
     },
     "metadata": {},
     "output_type": "display_data"
    },
    {
     "data": {
      "application/vnd.jupyter.widget-view+json": {
       "model_id": "",
       "version_major": 2,
       "version_minor": 0
      },
      "text/plain": [
       "HBox(children=(IntProgress(value=0, max=551), HTML(value='')))"
      ]
     },
     "metadata": {},
     "output_type": "display_data"
    },
    {
     "data": {
      "application/vnd.jupyter.widget-view+json": {
       "model_id": "",
       "version_major": 2,
       "version_minor": 0
      },
      "text/plain": [
       "HBox(children=(IntProgress(value=0, max=551), HTML(value='')))"
      ]
     },
     "metadata": {},
     "output_type": "display_data"
    },
    {
     "data": {
      "application/vnd.jupyter.widget-view+json": {
       "model_id": "",
       "version_major": 2,
       "version_minor": 0
      },
      "text/plain": [
       "HBox(children=(IntProgress(value=0, max=551), HTML(value='')))"
      ]
     },
     "metadata": {},
     "output_type": "display_data"
    },
    {
     "data": {
      "application/vnd.jupyter.widget-view+json": {
       "model_id": "",
       "version_major": 2,
       "version_minor": 0
      },
      "text/plain": [
       "HBox(children=(IntProgress(value=0, max=551), HTML(value='')))"
      ]
     },
     "metadata": {},
     "output_type": "display_data"
    },
    {
     "data": {
      "application/vnd.jupyter.widget-view+json": {
       "model_id": "",
       "version_major": 2,
       "version_minor": 0
      },
      "text/plain": [
       "HBox(children=(IntProgress(value=0, max=551), HTML(value='')))"
      ]
     },
     "metadata": {},
     "output_type": "display_data"
    },
    {
     "data": {
      "application/vnd.jupyter.widget-view+json": {
       "model_id": "",
       "version_major": 2,
       "version_minor": 0
      },
      "text/plain": [
       "HBox(children=(IntProgress(value=0, max=551), HTML(value='')))"
      ]
     },
     "metadata": {},
     "output_type": "display_data"
    },
    {
     "data": {
      "application/vnd.jupyter.widget-view+json": {
       "model_id": "",
       "version_major": 2,
       "version_minor": 0
      },
      "text/plain": [
       "HBox(children=(IntProgress(value=0, max=551), HTML(value='')))"
      ]
     },
     "metadata": {},
     "output_type": "display_data"
    },
    {
     "name": "stdout",
     "output_type": "stream",
     "text": [
      "\n"
     ]
    }
   ],
   "source": [
    "losses = []\n",
    "\n",
    "for i in trange(n_epochs):\n",
    "    for i in trange(len(inputs), leave=False):  # for each sentence\n",
    "        loss = []  # average across each sentence\n",
    "        grads = {'W1': [], 'W2': [], 'W3': []}\n",
    "        for j in range(len(inputs[i])):  # for each word\n",
    "            x = inputs[i][j]\n",
    "            y = labels[i][j]\n",
    "            \n",
    "            loss.append(compute_loss(model, x, y))\n",
    "            grad = compute_grad(model, x, y)\n",
    "            for k in grad:\n",
    "                grads[k].append(grad[k])\n",
    "        \n",
    "        for k in grads:\n",
    "            model[k] -= lr * np.mean(grads[k], axis=0)\n",
    "        losses.append(np.mean(loss))\n",
    "    lr *= 0.9"
   ]
  },
  {
   "cell_type": "code",
   "execution_count": 28,
   "metadata": {
    "scrolled": false
   },
   "outputs": [
    {
     "data": {
      "image/png": "[encoded data removed]",
      "text/plain": [
       "<Figure size 1440x720 with 1 Axes>"
      ]
     },
     "metadata": {},
     "output_type": "display_data"
    }
   ],
   "source": [
    "plt.figure(figsize=(20, 10))\n",
    "plt.plot(np.arange(len(losses)), losses)  # overall training loss\n",
    "\n",
    "interval = len(inputs)\n",
    "plt.plot(np.arange(len(losses))[::interval], losses[::interval]);  # loss of one sentence over each epoch"
   ]
  },
  {
   "cell_type": "code",
   "execution_count": 24,
   "metadata": {},
   "outputs": [],
   "source": [
    "# np.save('W_epochs20_lr0.1', W)\n",
    "# np.save('b_epochs20_lr0.1', b)"
   ]
  },
  {
   "cell_type": "markdown",
   "metadata": {},
   "source": [
    "## Prediction"
   ]
  },
  {
   "cell_type": "code",
   "execution_count": 25,
   "metadata": {},
   "outputs": [],
   "source": [
    "out_filename = f'data/{dataset}/dev.p5.out'"
   ]
  },
  {
   "cell_type": "code",
   "execution_count": 26,
   "metadata": {},
   "outputs": [
    {
     "data": {
      "text/plain": [
       "['B-NP',\n",
       " 'B-NP',\n",
       " 'B-NP',\n",
       " 'O',\n",
       " 'B-NP',\n",
       " 'B-NP',\n",
       " 'B-NP',\n",
       " 'B-NP',\n",
       " 'B-NP',\n",
       " 'B-NP',\n",
       " 'B-NP',\n",
       " 'B-NP',\n",
       " 'B-NP',\n",
       " 'B-NP',\n",
       " 'B-NP']"
      ]
     },
     "execution_count": 26,
     "metadata": {},
     "output_type": "execute_result"
    }
   ],
   "source": [
    "def predict(model, sequence):\n",
    "    states = list(state_mapping)\n",
    "    \n",
    "    result = []\n",
    "    tokens = tokenize(token_mapping, sequence)\n",
    "    for token in tokens:\n",
    "        x = one_hot_encode(token, len(token_mapping))\n",
    "        y_ = forward(model, x)\n",
    "        pred = states[np.argmax(y_)]\n",
    "        result.append(pred)\n",
    "    return result\n",
    "        \n",
    "predict(model, val_sentences[0])"
   ]
  },
  {
   "cell_type": "code",
   "execution_count": 27,
   "metadata": {
    "scrolled": true
   },
   "outputs": [],
   "source": [
    "with open(out_filename, 'w') as f:\n",
    "    for sentence in val_sentences:\n",
    "        result = predict(model, sentence)\n",
    "        \n",
    "        for i in range(len(sentence)):\n",
    "            word = sentence[i].strip()\n",
    "            if word:\n",
    "                f.write(word + ' ' + result[i])\n",
    "            f.write('\\n')"
   ]
  },
  {
   "cell_type": "markdown",
   "metadata": {},
   "source": [
    "## RNN\n",
    "$$\n",
    "    a^{(t)} = b + Wh^{(t-1)} + Ux^{(t)} \\\\\n",
    "    h^{(t)} = \\text{tanh}(a^{(t)}) \\\\\n",
    "    \\\\\n",
    "    o^{(t)} = c + Vh^{(t)} \\\\\n",
    "    \\hat{y}^{(t)} = \\text{softmax}(o^{(t)})\n",
    "$$"
   ]
  },
  {
   "cell_type": "code",
   "execution_count": null,
   "metadata": {},
   "outputs": [],
   "source": []
  }
 ],
 "metadata": {
  "kernelspec": {
   "display_name": "Python 3",
   "language": "python",
   "name": "python3"
  },
  "language_info": {
   "codemirror_mode": {
    "name": "ipython",
    "version": 3
   },
   "file_extension": ".py",
   "mimetype": "text/x-python",
   "name": "python",
   "nbconvert_exporter": "python",
   "pygments_lexer": "ipython3",
   "version": "3.6.7"
  }
 },
 "nbformat": 4,
 "nbformat_minor": 2
}
