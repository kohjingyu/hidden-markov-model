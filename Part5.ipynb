{
 "cells": [
  {
   "cell_type": "code",
   "execution_count": 1,
   "metadata": {},
   "outputs": [],
   "source": [
    "%matplotlib inline\n",
    "import numpy as np\n",
    "import matplotlib.pyplot as plt\n",
    "import os\n",
    "import re\n",
    "import itertools\n",
    "from collections import defaultdict, OrderedDict\n",
    "from random import shuffle\n",
    "from tqdm import tqdm_notebook as tqdm, tnrange as trange\n",
    "from sklearn.metrics import confusion_matrix\n",
    "\n",
    "from evalResult import get_predicted, get_observed\n",
    "plt.style.use('seaborn')"
   ]
  },
  {
   "cell_type": "code",
   "execution_count": 2,
   "metadata": {},
   "outputs": [],
   "source": [
    "dataset = 'EN'"
   ]
  },
  {
   "cell_type": "markdown",
   "metadata": {},
   "source": [
    "## Hyperparameters\n",
    "Here for easy tuning."
   ]
  },
  {
   "cell_type": "code",
   "execution_count": 3,
   "metadata": {},
   "outputs": [],
   "source": [
    "# optimal 1e-4\n",
    "lr = 1e-4\n",
    "batch_size = 16\n",
    "n_epochs = 20\n",
    "ld = 1e-3"
   ]
  },
  {
   "cell_type": "markdown",
   "metadata": {},
   "source": [
    "## Data"
   ]
  },
  {
   "cell_type": "markdown",
   "metadata": {},
   "source": [
    "### Cleaning\n",
    "Prepare words for cleaning. Specifically, find\n",
    "1. ~~stopwords~~\n",
    "1. punctuation\n",
    "1. hashtags\n",
    "1. @ mentions\n",
    "1. numbers\n",
    "1. URLs"
   ]
  },
  {
   "cell_type": "code",
   "execution_count": 4,
   "metadata": {},
   "outputs": [],
   "source": [
    "re_punc = r'^[^a-zA-Z0-9]+$'\n",
    "re_hash = r'^#'\n",
    "re_at = r'^@'\n",
    "re_num = r'\\d'  # just remove all words with numbers\n",
    "re_url = r'(^http:|\\.com$)'"
   ]
  },
  {
   "cell_type": "code",
   "execution_count": 5,
   "metadata": {},
   "outputs": [],
   "source": [
    "def clean_word(w):\n",
    "    w = w.strip()\n",
    "    if re.match(re_punc, w):\n",
    "        return '#PUNC#'\n",
    "    if re.match(re_hash, w):\n",
    "        return '#HASH#'\n",
    "    if re.match(re_at, w):\n",
    "        return '#AT#'\n",
    "    if re.match(re_num, w):\n",
    "        return '#NUM#'\n",
    "    if re.match(re_url, w):\n",
    "        return '#URL#'\n",
    "    return w.lower()"
   ]
  },
  {
   "cell_type": "markdown",
   "metadata": {},
   "source": [
    "### I/O"
   ]
  },
  {
   "cell_type": "code",
   "execution_count": 6,
   "metadata": {},
   "outputs": [],
   "source": [
    "def parse(train_filename):\n",
    "    with open(train_filename, 'r') as f:\n",
    "        lines = f.readlines()\n",
    "\n",
    "    observations, states = defaultdict(int), defaultdict(int)\n",
    "    for line in lines:\n",
    "        data_split = line.strip().rsplit(' ', 1)\n",
    "        if len(data_split) == 2:\n",
    "            obs, state = data_split\n",
    "            observations[clean_word(obs)] += 1\n",
    "            states[state] += 1\n",
    "    return observations, states"
   ]
  },
  {
   "cell_type": "code",
   "execution_count": 7,
   "metadata": {},
   "outputs": [],
   "source": [
    "def read_file(filename, clean=True):\n",
    "    with open(filename, 'r') as f:\n",
    "        lines = f.readlines()\n",
    "        \n",
    "    sentence, label = [], []\n",
    "    sentences, labels = [], []\n",
    "    for line in lines:\n",
    "        data_split = line.strip().rsplit(' ', 1)\n",
    "        if len(data_split) == 2:\n",
    "            word, state = data_split\n",
    "            if clean:\n",
    "                word = clean_word(word)\n",
    "            sentence.append(word)\n",
    "            label.append(state)\n",
    "        else:\n",
    "            sentences.append(sentence)\n",
    "            labels.append(label)\n",
    "            sentence = []\n",
    "            label = []\n",
    "    return sentences, labels"
   ]
  },
  {
   "cell_type": "markdown",
   "metadata": {},
   "source": [
    "### Train data"
   ]
  },
  {
   "cell_type": "code",
   "execution_count": 8,
   "metadata": {},
   "outputs": [],
   "source": [
    "train_filename = f'data/{dataset}/train'\n",
    "\n",
    "observations, states = parse(train_filename)"
   ]
  },
  {
   "cell_type": "code",
   "execution_count": 9,
   "metadata": {
    "scrolled": true
   },
   "outputs": [
    {
     "data": {
      "text/plain": [
       "(['rt', '#AT#', '#PUNC#', 'encore', '#PUNC#'], ['O', 'O', 'O', 'B-INTJ', 'O'])"
      ]
     },
     "execution_count": 9,
     "metadata": {},
     "output_type": "execute_result"
    }
   ],
   "source": [
    "train_sentences, train_labels = read_file(train_filename)\n",
    "train_sentences[0][:5], train_labels[0][:5]"
   ]
  },
  {
   "cell_type": "markdown",
   "metadata": {},
   "source": [
    "### Validation data"
   ]
  },
  {
   "cell_type": "code",
   "execution_count": 10,
   "metadata": {
    "scrolled": true
   },
   "outputs": [
    {
     "data": {
      "text/plain": [
       "(['no', 'saints', 'r', '#PUNC#', 'buch'],\n",
       " ['B-NP', 'I-NP', 'I-NP', 'O', 'B-NP'])"
      ]
     },
     "execution_count": 10,
     "metadata": {},
     "output_type": "execute_result"
    }
   ],
   "source": [
    "val_filename = f'data/{dataset}/dev.out'\n",
    "val_sentences, val_labels = read_file(val_filename)\n",
    "val_sentences[0][:5], val_labels[0][:5]"
   ]
  },
  {
   "cell_type": "code",
   "execution_count": 11,
   "metadata": {},
   "outputs": [],
   "source": [
    "out_filename = f'data/{dataset}/dev.p5.out'"
   ]
  },
  {
   "cell_type": "markdown",
   "metadata": {},
   "source": [
    "## Split classes"
   ]
  },
  {
   "cell_type": "code",
   "execution_count": 12,
   "metadata": {},
   "outputs": [
    {
     "data": {
      "text/plain": [
       "defaultdict(int,\n",
       "            {'O': 2191,\n",
       "             'B-INTJ': 257,\n",
       "             'B-PP': 716,\n",
       "             'B-NP': 2768,\n",
       "             'I-NP': 1904,\n",
       "             'B-VP': 1327,\n",
       "             'B-PRT': 85,\n",
       "             'I-VP': 607,\n",
       "             'B-ADJP': 159,\n",
       "             'B-SBAR': 71,\n",
       "             'B-ADVP': 386,\n",
       "             'I-INTJ': 88,\n",
       "             'B-CONJP': 2,\n",
       "             'I-CONJP': 2,\n",
       "             'I-ADVP': 51,\n",
       "             'I-ADJP': 61,\n",
       "             'I-SBAR': 4,\n",
       "             'I-PP': 6})"
      ]
     },
     "execution_count": 12,
     "metadata": {},
     "output_type": "execute_result"
    }
   ],
   "source": [
    "states"
   ]
  },
  {
   "cell_type": "code",
   "execution_count": 13,
   "metadata": {},
   "outputs": [],
   "source": [
    "def convert_state(state):\n",
    "    if state == 'O':\n",
    "        return (state, state)\n",
    "    return state.split('-')\n",
    "\n",
    "\n",
    "entities = defaultdict(int)\n",
    "entity_types = defaultdict(int)\n",
    "\n",
    "for state, counts in states.items():\n",
    "    e, e_type = convert_state(state)\n",
    "    entities[e] += counts\n",
    "    entity_types[e_type] += counts"
   ]
  },
  {
   "cell_type": "code",
   "execution_count": 14,
   "metadata": {},
   "outputs": [
    {
     "data": {
      "image/png": "[encoded data removed]",
      "text/plain": [
       "<Figure size 1440x360 with 2 Axes>"
      ]
     },
     "metadata": {
      "needs_background": "light"
     },
     "output_type": "display_data"
    }
   ],
   "source": [
    "x1, y1 = zip(*entities.items())\n",
    "x2, y2 = zip(*entity_types.items())\n",
    "\n",
    "plt.figure(figsize=(20, 5))\n",
    "\n",
    "plt.subplot(1, 2, 1)\n",
    "plt.title('Entity')\n",
    "bar1 = plt.bar(x1, y1)\n",
    "for rect in bar1:\n",
    "    height = rect.get_height()\n",
    "    plt.text(rect.get_x()+rect.get_width()/2, height, str(height), ha='center', va='bottom')\n",
    "\n",
    "plt.subplot(1, 2, 2)\n",
    "plt.title('Entity type')\n",
    "bar2 = plt.bar(x2, y2)\n",
    "for rect in bar2:\n",
    "    height = rect.get_height()\n",
    "    plt.text(rect.get_x()+rect.get_width()/2, height, str(height), ha='center', va='bottom')"
   ]
  },
  {
   "cell_type": "markdown",
   "metadata": {},
   "source": [
    "## Encoding"
   ]
  },
  {
   "cell_type": "code",
   "execution_count": 15,
   "metadata": {},
   "outputs": [],
   "source": [
    "def one_hot_encode(n, depth):\n",
    "    a = np.zeros([depth, 1])\n",
    "    a[n, 0] = 1\n",
    "    return a"
   ]
  },
  {
   "cell_type": "markdown",
   "metadata": {},
   "source": [
    "### Encode words\n",
    "Create a vocabulary out of words that appear more than `1` time(s) in training. Each word now maps to an _integer_. Other words will be treated as `#UNK#`."
   ]
  },
  {
   "cell_type": "code",
   "execution_count": 16,
   "metadata": {},
   "outputs": [],
   "source": [
    "def tokenize(token_mapping, sentence):\n",
    "    \"\"\"\n",
    "    Function to convert each word into its corresponding integer\n",
    "    If word is not found, return the value for '#UNK'\n",
    "    \"\"\"\n",
    "    return [token_mapping.get(w, token_mapping['#UNK#']) for w in sentence]\n",
    "\n",
    "def prepare_inputs(token_mapping, sentences):\n",
    "    \"\"\"\n",
    "    Converts a 2-D list of sentences (list of list of words)\n",
    "    to one-hot encoded tokens of shape [n_sentences, n_words, len(token_mapping), 1].\n",
    "    \"\"\"\n",
    "    tokens = [tokenize(token_mapping, sentence) for sentence in sentences] \n",
    "    \n",
    "    depth = len(token_mapping)\n",
    "    one_hot_tokens = [[one_hot_encode(token, depth) for token in sentence] for sentence in tokens]\n",
    "    one_hot_tokens = [np.asarray(ls) for ls in one_hot_tokens]  # list of [n_words, len(token_mapping), 1]\n",
    "    return one_hot_tokens"
   ]
  },
  {
   "cell_type": "code",
   "execution_count": 17,
   "metadata": {},
   "outputs": [
    {
     "data": {
      "text/plain": [
       "2504"
      ]
     },
     "execution_count": 17,
     "metadata": {},
     "output_type": "execute_result"
    }
   ],
   "source": [
    "min_freq = 0\n",
    "\n",
    "token_mapping = {}\n",
    "for word in observations:\n",
    "    if observations[word] > min_freq:  # appears more than once in training\n",
    "        token_mapping[word] = len(token_mapping)\n",
    "token_mapping['#UNK#'] = len(token_mapping)\n",
    "len(token_mapping)"
   ]
  },
  {
   "cell_type": "code",
   "execution_count": 18,
   "metadata": {
    "scrolled": false
   },
   "outputs": [
    {
     "data": {
      "text/plain": [
       "(551, (25, 2504, 1))"
      ]
     },
     "execution_count": 18,
     "metadata": {},
     "output_type": "execute_result"
    }
   ],
   "source": [
    "X_train = prepare_inputs(token_mapping, train_sentences)\n",
    "len(X_train), X_train[0].shape"
   ]
  },
  {
   "cell_type": "markdown",
   "metadata": {},
   "source": [
    "### Encode labels\n",
    "Perform a similar encoding for the states:\n",
    "1. Map to integer\n",
    "1. Convert from integer to one-hot-encoding"
   ]
  },
  {
   "cell_type": "code",
   "execution_count": 19,
   "metadata": {},
   "outputs": [],
   "source": [
    "def prepare_labels(entity_mapping, entity_type_mapping, sequences):\n",
    "    \"\"\"\n",
    "    Convert each state from str to its corresponding int value.\n",
    "    Convert the int to a one-hot vector.\n",
    "    \"\"\"\n",
    "    # code simplicity over code efficiency\n",
    "    encoded_entities = [[entity_mapping[convert_state(state)[0]] for state in label] for label in sequences]\n",
    "    encoded_e_types = [[entity_type_mapping[convert_state(state)[1]] for state in label] for label in sequences]\n",
    "    \n",
    "    depth = len(entity_mapping)\n",
    "    one_hot_entities = [[one_hot_encode(label, depth) for label in sequence] for sequence in encoded_entities]\n",
    "    one_hot_entities = [np.asarray(ls) for ls in one_hot_entities]\n",
    "    \n",
    "    depth = len(entity_type_mapping)\n",
    "    one_hot_e_types = [[one_hot_encode(label, depth) for label in sequence] for sequence in encoded_e_types]\n",
    "    one_hot_e_types = [np.asarray(ls) for ls in one_hot_e_types]\n",
    "    return one_hot_entities, one_hot_e_types"
   ]
  },
  {
   "cell_type": "code",
   "execution_count": 20,
   "metadata": {},
   "outputs": [],
   "source": [
    "entity_mapping = {entity: i for i, entity in enumerate(entities)}\n",
    "entity_type_mapping = {e_type: i for i, e_type in enumerate(entity_types)}"
   ]
  },
  {
   "cell_type": "code",
   "execution_count": 21,
   "metadata": {},
   "outputs": [
    {
     "data": {
      "text/plain": [
       "(551, (25, 3, 1), 551, (25, 10, 1))"
      ]
     },
     "execution_count": 21,
     "metadata": {},
     "output_type": "execute_result"
    }
   ],
   "source": [
    "y1_train, y2_train = prepare_labels(entity_mapping, entity_type_mapping, train_labels)\n",
    "len(y1_train), y1_train[0].shape, len(y2_train), y2_train[0].shape"
   ]
  },
  {
   "cell_type": "markdown",
   "metadata": {},
   "source": [
    "### Validation\n",
    "Perform a similar encoding for validation data, based on the states and tokens of the training data."
   ]
  },
  {
   "cell_type": "code",
   "execution_count": 22,
   "metadata": {},
   "outputs": [],
   "source": [
    "X_val = prepare_inputs(token_mapping, val_sentences)\n",
    "y1_val, y2_val = prepare_labels(entity_mapping, entity_type_mapping, val_labels)"
   ]
  },
  {
   "cell_type": "markdown",
   "metadata": {},
   "source": [
    "## RNN\n",
    "$$\n",
    "    a^{(t)} = b + Wh^{(t-1)} + Ux^{(t)} \\\\\n",
    "    h^{(t)} = \\text{tanh}(a^{(t)}) \\\\\n",
    "    \\\\\n",
    "    o^{(t)} = c + Vh^{(t)} \\\\\n",
    "    \\hat{y}^{(t)} = \\text{softmax}(o^{(t)})\n",
    "$$"
   ]
  },
  {
   "cell_type": "code",
   "execution_count": 23,
   "metadata": {},
   "outputs": [],
   "source": [
    "def softmax(x):\n",
    "    e_x = np.exp(x - np.max(x))\n",
    "    return e_x / e_x.sum(axis=0)"
   ]
  },
  {
   "cell_type": "markdown",
   "metadata": {},
   "source": [
    "### Initialization"
   ]
  },
  {
   "cell_type": "code",
   "execution_count": 24,
   "metadata": {
    "scrolled": true
   },
   "outputs": [],
   "source": [
    "np.random.seed(0)\n",
    "\n",
    "rnn_size = 128\n",
    "# input\n",
    "U = np.random.normal(0, 0.1, size=[rnn_size, len(token_mapping)])\n",
    "# hidden layer\n",
    "W = np.random.normal(0, 0.1, size=[rnn_size, rnn_size])\n",
    "b = np.ones(shape=[rnn_size, 1]) * 0.1\n",
    "# output - entity\n",
    "V1 = np.random.normal(0, 0.1, size=[len(entity_mapping), rnn_size])\n",
    "c1 = np.ones(shape=[len(entity_mapping), 1]) * 0.1\n",
    "# output - entity type\n",
    "V2 = np.random.normal(0, 0.1, size=[len(entity_type_mapping), rnn_size])\n",
    "c2 = np.ones(shape=[len(entity_type_mapping), 1]) * 0.1"
   ]
  },
  {
   "cell_type": "code",
   "execution_count": 25,
   "metadata": {},
   "outputs": [],
   "source": [
    "model = (U, W, b, V1, c1, V2, c2)  # time for some unpacking magic"
   ]
  },
  {
   "cell_type": "markdown",
   "metadata": {},
   "source": [
    "### Forward"
   ]
  },
  {
   "cell_type": "code",
   "execution_count": 26,
   "metadata": {},
   "outputs": [
    {
     "data": {
      "text/plain": [
       "((25, 3, 1), (25, 10, 1))"
      ]
     },
     "execution_count": 26,
     "metadata": {},
     "output_type": "execute_result"
    }
   ],
   "source": [
    "def forward(U, W, b, V1, c1, V2, c2, x):\n",
    "    \"\"\"\n",
    "    Compute the outputs at each time step.\n",
    "    Note that in the forward function, we only store y_ at each time step.\n",
    "    \"\"\"\n",
    "    y1_, y2_ = [], []\n",
    "    # initialize h_1\n",
    "    h = np.tanh(b + U.dot(x[0]))\n",
    "    o1 = c1 + V1.dot(h)\n",
    "    o2 = c2 + V2.dot(h)\n",
    "    y1_.append(softmax(o1))\n",
    "    y2_.append(softmax(o2))\n",
    "    # iterate for [h_t, .., h_n]\n",
    "    for i in range(1, len(x)):\n",
    "        h = np.tanh(b + W.dot(h) + U.dot(x[i]))\n",
    "        o1 = c1 + V1.dot(h)\n",
    "        o2 = c2 + V2.dot(h)\n",
    "        y1_.append(softmax(o1))\n",
    "        y2_.append(softmax(o2))\n",
    "    return np.array(y1_), np.array(y2_)\n",
    "\n",
    "y1_, y2_ = forward(*model, x=X_train[0])\n",
    "y1_.shape, y2_.shape"
   ]
  },
  {
   "cell_type": "code",
   "execution_count": 27,
   "metadata": {},
   "outputs": [
    {
     "data": {
      "text/plain": [
       "array([1, 1, 2, 1, 1, 2, 2, 0, 2, 2, 2, 0, 2, 1, 2, 0, 2, 1, 2, 2, 2, 1,\n",
       "       0, 2, 2])"
      ]
     },
     "execution_count": 27,
     "metadata": {},
     "output_type": "execute_result"
    }
   ],
   "source": [
    "np.argmax(y1_, axis=1).flatten()"
   ]
  },
  {
   "cell_type": "code",
   "execution_count": 28,
   "metadata": {},
   "outputs": [
    {
     "data": {
      "text/plain": [
       "array([5, 3, 3, 6, 8, 5, 4, 2, 9, 2, 3, 8, 8, 8, 3, 8, 5, 3, 5, 8, 8, 6,\n",
       "       3, 8, 8])"
      ]
     },
     "execution_count": 28,
     "metadata": {},
     "output_type": "execute_result"
    }
   ],
   "source": [
    "np.argmax(y2_, axis=1).flatten()"
   ]
  },
  {
   "cell_type": "markdown",
   "metadata": {},
   "source": [
    "### Evaluation"
   ]
  },
  {
   "cell_type": "code",
   "execution_count": 29,
   "metadata": {},
   "outputs": [],
   "source": [
    "def predict(entity_mapping, entity_type_mapping, y1, y2):\n",
    "    idx1 = np.argmax(y1, axis=1)\n",
    "    idx2 = np.argmax(y2, axis=1)\n",
    "    \n",
    "    e_mapping = list(entity_mapping)\n",
    "    e = [e_mapping[int(i)] for i in idx1]\n",
    "    \n",
    "    e_t_mapping = list(entity_type_mapping)\n",
    "    e_t = [e_t_mapping[int(i)] for i in idx2]\n",
    "    \n",
    "    output = []\n",
    "    for entity, entity_type in zip(e, e_t):\n",
    "        if entity == 'O':\n",
    "            output.append('O')\n",
    "        else:\n",
    "            output.append(f'{entity}-{entity_type}')\n",
    "    return output"
   ]
  },
  {
   "cell_type": "code",
   "execution_count": 30,
   "metadata": {},
   "outputs": [],
   "source": [
    "def write_predictions(*args, entity_mapping, entity_type_mapping, X):\n",
    "    # get and store predictions\n",
    "    result = []\n",
    "    for i in trange(len(X_val), leave=False):\n",
    "        y1, y2 = forward(*args, x=X_val[i])\n",
    "        y_pred = predict(entity_mapping, entity_type_mapping, y1, y2)\n",
    "        result.append(y_pred)\n",
    "    # write predictions to file\n",
    "    with open(out_filename, 'w') as f:\n",
    "        for i in range(len(val_sentences)):\n",
    "            for j in range(len(val_sentences[i])):\n",
    "                word = val_sentences[i][j]\n",
    "                pred = result[i][j]\n",
    "                f.write(word + ' ' + pred + '\\n')\n",
    "            f.write('\\n')"
   ]
  },
  {
   "cell_type": "code",
   "execution_count": 31,
   "metadata": {},
   "outputs": [
    {
     "data": {
      "application/vnd.jupyter.widget-view+json": {
       "model_id": "",
       "version_major": 2,
       "version_minor": 0
      },
      "text/plain": [
       "HBox(children=(IntProgress(value=0, max=78), HTML(value='')))"
      ]
     },
     "metadata": {},
     "output_type": "display_data"
    },
    {
     "name": "stdout",
     "output_type": "stream",
     "text": [
      "\r"
     ]
    },
    {
     "data": {
      "text/plain": [
       "((0.36237623762376237, 0.456359102244389, 0.4039735099337748),\n",
       " (0.07623762376237624, 0.09600997506234414, 0.08498896247240618))"
      ]
     },
     "execution_count": 31,
     "metadata": {},
     "output_type": "execute_result"
    }
   ],
   "source": [
    "def compare(observed, predicted):\n",
    "    correct_sentiment = 0\n",
    "    correct_entity = 0\n",
    "\n",
    "    total_observed = 0.0\n",
    "    total_predicted = 0.0\n",
    "\n",
    "    #For each Instance Index example (example = 0,1,2,3.....)\n",
    "    for example in observed:\n",
    "        observed_instance = observed[example]\n",
    "        predicted_instance = predicted[example]\n",
    "\n",
    "        #Count number of entities in gold data\n",
    "        total_observed += len(observed_instance)\n",
    "        #Count number of entities in prediction data\n",
    "        total_predicted += len(predicted_instance)\n",
    "\n",
    "        #For each entity in prediction\n",
    "        for span in predicted_instance:\n",
    "            span_begin = span[1]\n",
    "            span_length = len(span) - 1\n",
    "            span_ne = (span_begin, span_length)\n",
    "            span_sent = span[0]\n",
    "\n",
    "            #For each entity in gold data\n",
    "            for observed_span in observed_instance:\n",
    "                begin = observed_span[1]\n",
    "                length = len(observed_span) - 1\n",
    "                ne = (begin, length)\n",
    "                sent = observed_span[0]\n",
    "\n",
    "                #Entity matched\n",
    "                if span_ne == ne:\n",
    "                    correct_entity += 1\n",
    "                    #Entity & Sentiment both are matched\n",
    "                    if span_sent == sent:\n",
    "                        correct_sentiment += 1\n",
    "\n",
    "    prec = correct_entity/total_predicted\n",
    "    rec = correct_entity/total_observed\n",
    "    if abs(prec + rec) < 1e-6:\n",
    "        f = 0\n",
    "    else:\n",
    "        f = 2 * prec * rec / (prec + rec)\n",
    "    entity_scores = (prec, rec, f)\n",
    "\n",
    "    prec = correct_sentiment/total_predicted\n",
    "    rec = correct_sentiment/total_observed\n",
    "    if abs(prec + rec) < 1e-6:\n",
    "        f = 0\n",
    "    else:\n",
    "        f = 2 * prec * rec / (prec + rec)\n",
    "    type_scores = (prec, rec, f)\n",
    "    return entity_scores, type_scores\n",
    "\n",
    "def get_scores(*args, entity_mapping, entity_type_mapping, X):\n",
    "    write_predictions(*args, entity_mapping=entity_mapping, entity_type_mapping=entity_type_mapping, X=X_val)\n",
    "    observed = get_observed(open(val_filename, 'r'))\n",
    "    predicted = get_predicted(open(out_filename, 'r'))\n",
    "    return compare(observed, predicted)\n",
    "\n",
    "get_scores(*model, entity_mapping=entity_mapping, entity_type_mapping=entity_type_mapping, X=X_val)"
   ]
  },
  {
   "cell_type": "markdown",
   "metadata": {},
   "source": [
    "### Backward\n",
    "`<insert derived backpropagation equations here>`"
   ]
  },
  {
   "cell_type": "markdown",
   "metadata": {},
   "source": [
    "#### Weighting\n",
    "We create two sets of weights for mis-classifying each class:\n",
    "* `count_weights`: based on frequency of occurrences of each class\n",
    "* `label_weights`: based on importance of correctly predicting certain classes"
   ]
  },
  {
   "cell_type": "code",
   "execution_count": 32,
   "metadata": {},
   "outputs": [
    {
     "data": {
      "text/plain": [
       "array([[1.        ],\n",
       "       [0.37965691],\n",
       "       [0.80462725]])"
      ]
     },
     "execution_count": 32,
     "metadata": {},
     "output_type": "execute_result"
    }
   ],
   "source": [
    "def make_weights(counts, min_weight=0):\n",
    "    weights = np.asarray(counts)\n",
    "    weights = 1 / weights\n",
    "    weights /= np.max(weights)\n",
    "    weights = np.maximum(min_weight, weights)\n",
    "    weights = weights.reshape(-1, 1)\n",
    "    return weights\n",
    "\n",
    "w1 = make_weights(list(entities.values()))\n",
    "w1"
   ]
  },
  {
   "cell_type": "code",
   "execution_count": 33,
   "metadata": {},
   "outputs": [
    {
     "data": {
      "text/plain": [
       "array([[1.82565039e-03],\n",
       "       [1.15942029e-02],\n",
       "       [5.54016620e-03],\n",
       "       [8.56164384e-04],\n",
       "       [2.06825233e-03],\n",
       "       [4.70588235e-02],\n",
       "       [1.81818182e-02],\n",
       "       [5.33333333e-02],\n",
       "       [9.15331808e-03],\n",
       "       [1.00000000e+00]])"
      ]
     },
     "execution_count": 33,
     "metadata": {},
     "output_type": "execute_result"
    }
   ],
   "source": [
    "w2 = make_weights(list(entity_types.values()))\n",
    "w2"
   ]
  },
  {
   "cell_type": "markdown",
   "metadata": {},
   "source": [
    "#### Gradients"
   ]
  },
  {
   "cell_type": "code",
   "execution_count": 34,
   "metadata": {
    "scrolled": true
   },
   "outputs": [],
   "source": [
    "def jacobian(h):\n",
    "    \"\"\"\n",
    "    Returns the Jacobian of tanh(h).\n",
    "    \"\"\"\n",
    "    diag_elems = (1 - h**2).flatten()\n",
    "    return np.diag(diag_elems)\n",
    "    \n",
    "\n",
    "def backward(U, W, b, V1, c1, V2, c2, x, y1, y2):\n",
    "    assert len(x) == len(y1) == len(y2)\n",
    "    n = len(x)\n",
    "    if n <= 1:\n",
    "        return np.nan, np.nan, np.nan, (0, 0, 0, 0, 0)\n",
    "    \n",
    "    # feedforward\n",
    "    h_1 = np.tanh(b + U.dot(x[0]))\n",
    "    h = [h_1]\n",
    "    for i in range(1, n):\n",
    "        h_t = np.tanh(b + W.dot(h[-1]) + U.dot(x[i]))\n",
    "        h.append(h_t)\n",
    "\n",
    "    o1 = [c1 + V1.dot(h_t) for h_t in h]\n",
    "    o2 = [c2 + V2.dot(h_t) for h_t in h]\n",
    "    \n",
    "    # backprop\n",
    "    do1 = [softmax(o1[i]) - y1[i] for i in range(n)]\n",
    "    do2 = [softmax(o2[i]) - y2[i] for i in range(n)]\n",
    "    \n",
    "    dh_n = 0.5 * (V1.T.dot(do1[-1]) + V2.T.dot(do2[-1]))  # h_n has no (t+1) gradient\n",
    "    dh = [dh_n]\n",
    "    for i in range(n-2, -1, -1):\n",
    "        dh_t = W.T.dot(jacobian(h[i+1])).dot(dh[0]) + 0.5 * (V1.T.dot(do1[i]) + V2.T.dot(do2[i]))\n",
    "        dh.insert(0, dh_t)\n",
    "        \n",
    "    dc1 = np.sum(do1, axis=0)\n",
    "    dV1 = np.sum([do1[i].dot(dh[i].T) for i in range(n)], axis=0)  # TODO: dubious\n",
    "    \n",
    "    dc2 = np.sum(do2, axis=0)\n",
    "    dV2 = np.sum([do2[i].dot(dh[i].T) for i in range(n)], axis=0)  # TODO: dubious\n",
    "    \n",
    "    delta_h = [jacobian(h[i]).dot(dh[i]) for i in range(n)]  # propagated error term of h\n",
    "    db = np.sum(delta_h, axis=0)\n",
    "    dW = np.sum([delta_h[i].dot(h[i-1].T) for i in range(1, n)], axis=0)  # t=1 has no prev\n",
    "    dU = np.sum([delta_h[i].dot(x[i].T) for i in range(n)], axis=0)\n",
    "    \n",
    "    dV1 += ld * np.abs(V1)\n",
    "    dV2 += ld * np.abs(V2)\n",
    "    dW += ld * np.abs(W)\n",
    "    dU += ld * np.abs(U)\n",
    "    \n",
    "    assert dc1.shape == c1.shape\n",
    "    assert dV1.shape == V1.shape\n",
    "    assert dc2.shape == c2.shape\n",
    "    assert dV2.shape == V2.shape\n",
    "    assert db.shape == b.shape\n",
    "    assert dW.shape == W.shape\n",
    "    assert dU.shape == U.shape\n",
    "\n",
    "    grad = (dU, dW, db, dV1, dc1, dV2, dc2)\n",
    "    \n",
    "    # compute loss\n",
    "    y1_ = [softmax(o1_t) for o1_t in o1]\n",
    "    xent1 = [-np.log(y1_[i] + 1e-8) * y1[i] for i in range(n)]\n",
    "    loss1 = np.mean(np.sum(xent1, axis=1))  # sum softmax CE for each word, then take mean across all words\n",
    "    \n",
    "    y2_ = [softmax(o2_t) for o2_t in o2]\n",
    "    xent2 = [-np.log(y2_[i] + 1e-8) * y2[i] for i in range(n)]\n",
    "    loss2 = np.mean(np.sum(xent2, axis=1))  # sum softmax CE for each word, then take mean across all words\n",
    "    return loss1, loss2, loss1 + loss2, grad\n",
    "\n",
    "# for i in trange(len(X_train)):\n",
    "#     backward(*model, x=X_train[i], y1=y1_train[i], y2=y2_train[i])"
   ]
  },
  {
   "cell_type": "markdown",
   "metadata": {},
   "source": [
    "## Training"
   ]
  },
  {
   "cell_type": "code",
   "execution_count": 35,
   "metadata": {},
   "outputs": [],
   "source": [
    "%%script true\n",
    "# overfitting check\n",
    "losses_1, losses_2, total_losses = [], [], []\n",
    "n_iters = 1000\n",
    "for i in trange(n_iters):\n",
    "    x, y1, y2 = X_train[0], y1_train[0], y2_train[0]\n",
    "    loss1, loss2, total_loss, grad = backward(*model, x=x, y1=y1, y2=y2)\n",
    "    \n",
    "    losses_1.append(loss1)\n",
    "    losses_2.append(loss2)\n",
    "    total_losses.append(total_loss)\n",
    "    for error, weight in zip(grad, model):\n",
    "        weight -= lr * error\n",
    "\n",
    "plt.plot(np.arange(n_iters), losses_1, label='1')\n",
    "plt.plot(np.arange(n_iters), losses_2, label='2')\n",
    "plt.plot(np.arange(n_iters), total_losses, label='sum')\n",
    "plt.legend()\n",
    "\n",
    "y1, y2 = forward(*model, x=X_train[0])\n",
    "y_pred = predict(entity_mapping, entity_type_mapping, y1, y2)\n",
    "y_true = train_labels[0]\n",
    "\n",
    "for a, b in zip(y_pred, y_true):\n",
    "    print(a, b)\n",
    "\n",
    "np.mean(np.array(y_pred) == np.array(y_true))"
   ]
  },
  {
   "cell_type": "code",
   "execution_count": 36,
   "metadata": {},
   "outputs": [
    {
     "data": {
      "application/vnd.jupyter.widget-view+json": {
       "model_id": "4e9fc86a74a241e495970415f88c0f6d",
       "version_major": 2,
       "version_minor": 0
      },
      "text/plain": [
       "HBox(children=(IntProgress(value=0, max=20), HTML(value='')))"
      ]
     },
     "metadata": {},
     "output_type": "display_data"
    },
    {
     "data": {
      "application/vnd.jupyter.widget-view+json": {
       "model_id": "",
       "version_major": 2,
       "version_minor": 0
      },
      "text/plain": [
       "HBox(children=(IntProgress(value=0, max=34), HTML(value='')))"
      ]
     },
     "metadata": {},
     "output_type": "display_data"
    },
    {
     "data": {
      "application/vnd.jupyter.widget-view+json": {
       "model_id": "",
       "version_major": 2,
       "version_minor": 0
      },
      "text/plain": [
       "HBox(children=(IntProgress(value=0, max=78), HTML(value='')))"
      ]
     },
     "metadata": {},
     "output_type": "display_data"
    },
    {
     "data": {
      "application/vnd.jupyter.widget-view+json": {
       "model_id": "",
       "version_major": 2,
       "version_minor": 0
      },
      "text/plain": [
       "HBox(children=(IntProgress(value=0, max=34), HTML(value='')))"
      ]
     },
     "metadata": {},
     "output_type": "display_data"
    },
    {
     "data": {
      "application/vnd.jupyter.widget-view+json": {
       "model_id": "",
       "version_major": 2,
       "version_minor": 0
      },
      "text/plain": [
       "HBox(children=(IntProgress(value=0, max=78), HTML(value='')))"
      ]
     },
     "metadata": {},
     "output_type": "display_data"
    },
    {
     "data": {
      "application/vnd.jupyter.widget-view+json": {
       "model_id": "",
       "version_major": 2,
       "version_minor": 0
      },
      "text/plain": [
       "HBox(children=(IntProgress(value=0, max=34), HTML(value='')))"
      ]
     },
     "metadata": {},
     "output_type": "display_data"
    },
    {
     "data": {
      "application/vnd.jupyter.widget-view+json": {
       "model_id": "",
       "version_major": 2,
       "version_minor": 0
      },
      "text/plain": [
       "HBox(children=(IntProgress(value=0, max=78), HTML(value='')))"
      ]
     },
     "metadata": {},
     "output_type": "display_data"
    },
    {
     "data": {
      "application/vnd.jupyter.widget-view+json": {
       "model_id": "",
       "version_major": 2,
       "version_minor": 0
      },
      "text/plain": [
       "HBox(children=(IntProgress(value=0, max=34), HTML(value='')))"
      ]
     },
     "metadata": {},
     "output_type": "display_data"
    },
    {
     "data": {
      "application/vnd.jupyter.widget-view+json": {
       "model_id": "",
       "version_major": 2,
       "version_minor": 0
      },
      "text/plain": [
       "HBox(children=(IntProgress(value=0, max=78), HTML(value='')))"
      ]
     },
     "metadata": {},
     "output_type": "display_data"
    },
    {
     "data": {
      "application/vnd.jupyter.widget-view+json": {
       "model_id": "",
       "version_major": 2,
       "version_minor": 0
      },
      "text/plain": [
       "HBox(children=(IntProgress(value=0, max=34), HTML(value='')))"
      ]
     },
     "metadata": {},
     "output_type": "display_data"
    },
    {
     "data": {
      "application/vnd.jupyter.widget-view+json": {
       "model_id": "",
       "version_major": 2,
       "version_minor": 0
      },
      "text/plain": [
       "HBox(children=(IntProgress(value=0, max=78), HTML(value='')))"
      ]
     },
     "metadata": {},
     "output_type": "display_data"
    },
    {
     "data": {
      "application/vnd.jupyter.widget-view+json": {
       "model_id": "",
       "version_major": 2,
       "version_minor": 0
      },
      "text/plain": [
       "HBox(children=(IntProgress(value=0, max=34), HTML(value='')))"
      ]
     },
     "metadata": {},
     "output_type": "display_data"
    },
    {
     "data": {
      "application/vnd.jupyter.widget-view+json": {
       "model_id": "",
       "version_major": 2,
       "version_minor": 0
      },
      "text/plain": [
       "HBox(children=(IntProgress(value=0, max=78), HTML(value='')))"
      ]
     },
     "metadata": {},
     "output_type": "display_data"
    },
    {
     "data": {
      "application/vnd.jupyter.widget-view+json": {
       "model_id": "",
       "version_major": 2,
       "version_minor": 0
      },
      "text/plain": [
       "HBox(children=(IntProgress(value=0, max=34), HTML(value='')))"
      ]
     },
     "metadata": {},
     "output_type": "display_data"
    },
    {
     "data": {
      "application/vnd.jupyter.widget-view+json": {
       "model_id": "",
       "version_major": 2,
       "version_minor": 0
      },
      "text/plain": [
       "HBox(children=(IntProgress(value=0, max=78), HTML(value='')))"
      ]
     },
     "metadata": {},
     "output_type": "display_data"
    },
    {
     "data": {
      "application/vnd.jupyter.widget-view+json": {
       "model_id": "",
       "version_major": 2,
       "version_minor": 0
      },
      "text/plain": [
       "HBox(children=(IntProgress(value=0, max=34), HTML(value='')))"
      ]
     },
     "metadata": {},
     "output_type": "display_data"
    },
    {
     "data": {
      "application/vnd.jupyter.widget-view+json": {
       "model_id": "",
       "version_major": 2,
       "version_minor": 0
      },
      "text/plain": [
       "HBox(children=(IntProgress(value=0, max=78), HTML(value='')))"
      ]
     },
     "metadata": {},
     "output_type": "display_data"
    },
    {
     "data": {
      "application/vnd.jupyter.widget-view+json": {
       "model_id": "",
       "version_major": 2,
       "version_minor": 0
      },
      "text/plain": [
       "HBox(children=(IntProgress(value=0, max=34), HTML(value='')))"
      ]
     },
     "metadata": {},
     "output_type": "display_data"
    },
    {
     "data": {
      "application/vnd.jupyter.widget-view+json": {
       "model_id": "",
       "version_major": 2,
       "version_minor": 0
      },
      "text/plain": [
       "HBox(children=(IntProgress(value=0, max=78), HTML(value='')))"
      ]
     },
     "metadata": {},
     "output_type": "display_data"
    },
    {
     "data": {
      "application/vnd.jupyter.widget-view+json": {
       "model_id": "",
       "version_major": 2,
       "version_minor": 0
      },
      "text/plain": [
       "HBox(children=(IntProgress(value=0, max=34), HTML(value='')))"
      ]
     },
     "metadata": {},
     "output_type": "display_data"
    },
    {
     "data": {
      "application/vnd.jupyter.widget-view+json": {
       "model_id": "",
       "version_major": 2,
       "version_minor": 0
      },
      "text/plain": [
       "HBox(children=(IntProgress(value=0, max=78), HTML(value='')))"
      ]
     },
     "metadata": {},
     "output_type": "display_data"
    },
    {
     "data": {
      "application/vnd.jupyter.widget-view+json": {
       "model_id": "",
       "version_major": 2,
       "version_minor": 0
      },
      "text/plain": [
       "HBox(children=(IntProgress(value=0, max=34), HTML(value='')))"
      ]
     },
     "metadata": {},
     "output_type": "display_data"
    },
    {
     "data": {
      "application/vnd.jupyter.widget-view+json": {
       "model_id": "",
       "version_major": 2,
       "version_minor": 0
      },
      "text/plain": [
       "HBox(children=(IntProgress(value=0, max=78), HTML(value='')))"
      ]
     },
     "metadata": {},
     "output_type": "display_data"
    },
    {
     "data": {
      "application/vnd.jupyter.widget-view+json": {
       "model_id": "",
       "version_major": 2,
       "version_minor": 0
      },
      "text/plain": [
       "HBox(children=(IntProgress(value=0, max=34), HTML(value='')))"
      ]
     },
     "metadata": {},
     "output_type": "display_data"
    },
    {
     "data": {
      "application/vnd.jupyter.widget-view+json": {
       "model_id": "",
       "version_major": 2,
       "version_minor": 0
      },
      "text/plain": [
       "HBox(children=(IntProgress(value=0, max=78), HTML(value='')))"
      ]
     },
     "metadata": {},
     "output_type": "display_data"
    },
    {
     "data": {
      "application/vnd.jupyter.widget-view+json": {
       "model_id": "",
       "version_major": 2,
       "version_minor": 0
      },
      "text/plain": [
       "HBox(children=(IntProgress(value=0, max=34), HTML(value='')))"
      ]
     },
     "metadata": {},
     "output_type": "display_data"
    },
    {
     "data": {
      "application/vnd.jupyter.widget-view+json": {
       "model_id": "",
       "version_major": 2,
       "version_minor": 0
      },
      "text/plain": [
       "HBox(children=(IntProgress(value=0, max=78), HTML(value='')))"
      ]
     },
     "metadata": {},
     "output_type": "display_data"
    },
    {
     "data": {
      "application/vnd.jupyter.widget-view+json": {
       "model_id": "",
       "version_major": 2,
       "version_minor": 0
      },
      "text/plain": [
       "HBox(children=(IntProgress(value=0, max=34), HTML(value='')))"
      ]
     },
     "metadata": {},
     "output_type": "display_data"
    },
    {
     "data": {
      "application/vnd.jupyter.widget-view+json": {
       "model_id": "",
       "version_major": 2,
       "version_minor": 0
      },
      "text/plain": [
       "HBox(children=(IntProgress(value=0, max=78), HTML(value='')))"
      ]
     },
     "metadata": {},
     "output_type": "display_data"
    },
    {
     "data": {
      "application/vnd.jupyter.widget-view+json": {
       "model_id": "",
       "version_major": 2,
       "version_minor": 0
      },
      "text/plain": [
       "HBox(children=(IntProgress(value=0, max=34), HTML(value='')))"
      ]
     },
     "metadata": {},
     "output_type": "display_data"
    },
    {
     "data": {
      "application/vnd.jupyter.widget-view+json": {
       "model_id": "",
       "version_major": 2,
       "version_minor": 0
      },
      "text/plain": [
       "HBox(children=(IntProgress(value=0, max=78), HTML(value='')))"
      ]
     },
     "metadata": {},
     "output_type": "display_data"
    },
    {
     "data": {
      "application/vnd.jupyter.widget-view+json": {
       "model_id": "",
       "version_major": 2,
       "version_minor": 0
      },
      "text/plain": [
       "HBox(children=(IntProgress(value=0, max=34), HTML(value='')))"
      ]
     },
     "metadata": {},
     "output_type": "display_data"
    },
    {
     "data": {
      "application/vnd.jupyter.widget-view+json": {
       "model_id": "",
       "version_major": 2,
       "version_minor": 0
      },
      "text/plain": [
       "HBox(children=(IntProgress(value=0, max=78), HTML(value='')))"
      ]
     },
     "metadata": {},
     "output_type": "display_data"
    },
    {
     "data": {
      "application/vnd.jupyter.widget-view+json": {
       "model_id": "",
       "version_major": 2,
       "version_minor": 0
      },
      "text/plain": [
       "HBox(children=(IntProgress(value=0, max=34), HTML(value='')))"
      ]
     },
     "metadata": {},
     "output_type": "display_data"
    },
    {
     "data": {
      "application/vnd.jupyter.widget-view+json": {
       "model_id": "",
       "version_major": 2,
       "version_minor": 0
      },
      "text/plain": [
       "HBox(children=(IntProgress(value=0, max=78), HTML(value='')))"
      ]
     },
     "metadata": {},
     "output_type": "display_data"
    },
    {
     "data": {
      "application/vnd.jupyter.widget-view+json": {
       "model_id": "",
       "version_major": 2,
       "version_minor": 0
      },
      "text/plain": [
       "HBox(children=(IntProgress(value=0, max=34), HTML(value='')))"
      ]
     },
     "metadata": {},
     "output_type": "display_data"
    },
    {
     "data": {
      "application/vnd.jupyter.widget-view+json": {
       "model_id": "",
       "version_major": 2,
       "version_minor": 0
      },
      "text/plain": [
       "HBox(children=(IntProgress(value=0, max=78), HTML(value='')))"
      ]
     },
     "metadata": {},
     "output_type": "display_data"
    },
    {
     "data": {
      "application/vnd.jupyter.widget-view+json": {
       "model_id": "",
       "version_major": 2,
       "version_minor": 0
      },
      "text/plain": [
       "HBox(children=(IntProgress(value=0, max=34), HTML(value='')))"
      ]
     },
     "metadata": {},
     "output_type": "display_data"
    },
    {
     "data": {
      "application/vnd.jupyter.widget-view+json": {
       "model_id": "",
       "version_major": 2,
       "version_minor": 0
      },
      "text/plain": [
       "HBox(children=(IntProgress(value=0, max=78), HTML(value='')))"
      ]
     },
     "metadata": {},
     "output_type": "display_data"
    },
    {
     "data": {
      "application/vnd.jupyter.widget-view+json": {
       "model_id": "",
       "version_major": 2,
       "version_minor": 0
      },
      "text/plain": [
       "HBox(children=(IntProgress(value=0, max=34), HTML(value='')))"
      ]
     },
     "metadata": {},
     "output_type": "display_data"
    },
    {
     "data": {
      "application/vnd.jupyter.widget-view+json": {
       "model_id": "",
       "version_major": 2,
       "version_minor": 0
      },
      "text/plain": [
       "HBox(children=(IntProgress(value=0, max=78), HTML(value='')))"
      ]
     },
     "metadata": {},
     "output_type": "display_data"
    },
    {
     "name": "stdout",
     "output_type": "stream",
     "text": [
      "\n"
     ]
    }
   ],
   "source": [
    "checkpoints = []  # save model weights after every epoch\n",
    "losses = []\n",
    "scores = []\n",
    "\n",
    "n_iters = len(X_train) // batch_size\n",
    "for i in trange(n_epochs):\n",
    "    for j in trange(n_iters, leave=False):\n",
    "        batch_indices = np.random.choice(np.arange(len(X_train)), size=batch_size)\n",
    "        batch_losses = []\n",
    "        batch_grads = tuple(np.zeros_like(weight) for weight in model)\n",
    "        \n",
    "        for k in batch_indices:\n",
    "            x, y1, y2 = X_train[k], y1_train[k], y2_train[k]\n",
    "            _, _, loss, grad = backward(*model, x=x, y1=y1, y2=y2)\n",
    "            \n",
    "            batch_losses.append(loss)\n",
    "            for error, batch_error in zip(grad, batch_grads):\n",
    "                batch_error += error  # accumulate all grads in batch\n",
    "        # average loss and gradients\n",
    "        losses.append(np.mean(batch_losses))\n",
    "        for errors, weight in zip(batch_grads, model):\n",
    "            weight -= lr * errors / batch_size\n",
    "    \n",
    "    scores.append(get_scores(*model, entity_mapping=entity_mapping, entity_type_mapping=entity_type_mapping, X=X_val))\n",
    "    checkpoints.append(tuple(weights.copy() for weights in model))"
   ]
  },
  {
   "cell_type": "code",
   "execution_count": 37,
   "metadata": {
    "scrolled": false
   },
   "outputs": [
    {
     "data": {
      "image/png": "[encoded data removed]",
      "text/plain": [
       "<Figure size 1440x720 with 1 Axes>"
      ]
     },
     "metadata": {
      "needs_background": "light"
     },
     "output_type": "display_data"
    }
   ],
   "source": [
    "plt.figure(figsize=(20, 10))\n",
    "plt.plot(np.arange(len(losses)), losses, linewidth=0.5);  # overall training loss"
   ]
  },
  {
   "cell_type": "code",
   "execution_count": 38,
   "metadata": {},
   "outputs": [
    {
     "data": {
      "image/png": "[encoded data removed]",
      "text/plain": [
       "<Figure size 1440x720 with 1 Axes>"
      ]
     },
     "metadata": {
      "needs_background": "light"
     },
     "output_type": "display_data"
    }
   ],
   "source": [
    "f_entity = [tup[0][-1] for tup in scores]\n",
    "f_type = [tup[1][-1] for tup in scores]\n",
    "\n",
    "x = [np.argmax(f_entity), np.argmax(f_type)]\n",
    "y = [np.max(f_entity), np.max(f_type)]\n",
    "\n",
    "\n",
    "plt.figure(figsize=(20, 10))\n",
    "plt.plot(np.arange(n_epochs), f_entity, label='Entity')\n",
    "plt.plot(np.arange(n_epochs), f_type, label='Entity type')\n",
    "\n",
    "plt.scatter(x, y)\n",
    "plt.annotate(f'Entity: ({x[0]}, {np.round(y[0], 3)})', (x[0], y[0]))\n",
    "plt.annotate(f'Entity type: ({x[1]}, {np.round(y[1], 3)})', (x[1], y[1]))\n",
    "\n",
    "plt.legend();"
   ]
  },
  {
   "cell_type": "markdown",
   "metadata": {},
   "source": [
    "## Prediction"
   ]
  },
  {
   "cell_type": "code",
   "execution_count": 39,
   "metadata": {},
   "outputs": [
    {
     "name": "stdout",
     "output_type": "stream",
     "text": [
      "B-NP\tB-NP\n",
      "B-NP\tI-NP\n",
      "B-NP\tI-NP\n",
      "B-NP\tO\n",
      "B-NP\tB-NP\n",
      "B-NP\tB-VP\n",
      "B-NP\tI-VP\n",
      "B-NP\tB-ADVP\n",
      "B-NP\tO\n",
      "B-NP\tB-VP\n",
      "B-NP\tB-PP\n",
      "B-NP\tB-NP\n",
      "B-NP\tB-PP\n",
      "B-NP\tB-NP\n",
      "B-NP\tO\n"
     ]
    }
   ],
   "source": [
    "y1, y2 = forward(*model, x=X_val[0])\n",
    "y_pred = predict(entity_mapping, entity_type_mapping, y1, y2)\n",
    "y_true = val_labels[0]\n",
    "for _pred, _true in zip(y_pred, y_true):\n",
    "    print(_pred, _true, sep='\\t')"
   ]
  },
  {
   "cell_type": "markdown",
   "metadata": {},
   "source": [
    "Check for class imbalance."
   ]
  },
  {
   "cell_type": "code",
   "execution_count": 40,
   "metadata": {
    "scrolled": true
   },
   "outputs": [
    {
     "data": {
      "application/vnd.jupyter.widget-view+json": {
       "model_id": "2db8c8d4a9ea4548aeeecf39c4523035",
       "version_major": 2,
       "version_minor": 0
      },
      "text/plain": [
       "HBox(children=(IntProgress(value=0, max=78), HTML(value='')))"
      ]
     },
     "metadata": {},
     "output_type": "display_data"
    },
    {
     "name": "stdout",
     "output_type": "stream",
     "text": [
      "\n"
     ]
    },
    {
     "data": {
      "image/png": "[encoded data removed]",
      "text/plain": [
       "<Figure size 1440x360 with 2 Axes>"
      ]
     },
     "metadata": {
      "needs_background": "light"
     },
     "output_type": "display_data"
    }
   ],
   "source": [
    "all_y1, all_y2 = [], []\n",
    "for i in trange(len(X_val)):\n",
    "    y1, y2 = forward(*model, x=X_val[i])\n",
    "    all_y1.extend(np.argmax(y1, axis=1).flatten())\n",
    "    all_y2.extend(np.argmax(y2, axis=1).flatten())\n",
    "\n",
    "\n",
    "plt.figure(figsize=(20, 5))\n",
    "plt.subplot(1, 2, 1)\n",
    "plt.hist(all_y1)\n",
    "plt.subplot(1, 2, 2)\n",
    "plt.hist(all_y2);"
   ]
  }
 ],
 "metadata": {
  "kernelspec": {
   "display_name": "Python 3",
   "language": "python",
   "name": "python3"
  },
  "language_info": {
   "codemirror_mode": {
    "name": "ipython",
    "version": 3
   },
   "file_extension": ".py",
   "mimetype": "text/x-python",
   "name": "python",
   "nbconvert_exporter": "python",
   "pygments_lexer": "ipython3",
   "version": "3.6.7"
  },
  "widgets": {
   "application/vnd.jupyter.widget-state+json": {
    "state": {
     "00383f0b5d18482aa3330c2397bf1041": {
      "model_module": "@jupyter-widgets/controls",
      "model_module_version": "1.4.0",
      "model_name": "IntProgressModel",
      "state": {
       "layout": "IPY_MODEL_ff55e3bdbf9f40ca82f84e3807ba026e",
       "max": 17,
       "style": "IPY_MODEL_a73eb47ff07e4342ba83980035090e58",
       "value": 17
      }
     },
     "004a93348bd64a9fbc37b2620a6fd057": {
      "model_module": "@jupyter-widgets/base",
      "model_module_version": "1.1.0",
      "model_name": "LayoutModel",
      "state": {}
     },
     "009fa421611b4f859cb427b4cee6d4f6": {
      "model_module": "@jupyter-widgets/base",
      "model_module_version": "1.1.0",
      "model_name": "LayoutModel",
      "state": {}
     },
     "00fc035929094069bb5f86eb1b60a7ed": {
      "model_module": "@jupyter-widgets/controls",
      "model_module_version": "1.4.0",
      "model_name": "ProgressStyleModel",
      "state": {
       "description_width": ""
      }
     },
     "013f34fafab54318a379462bbd993f8b": {
      "model_module": "@jupyter-widgets/base",
      "model_module_version": "1.1.0",
      "model_name": "LayoutModel",
      "state": {}
     },
     "0160f23cc8c0447295d6d54132639b49": {
      "model_module": "@jupyter-widgets/controls",
      "model_module_version": "1.4.0",
      "model_name": "HTMLModel",
      "state": {
       "layout": "IPY_MODEL_30a33aaf1fc14e328ad1ce1957bfcd4c",
       "style": "IPY_MODEL_385297fa70e143b3a129b7f76bf2c7d3",
       "value": " 69% 54/78 [00:00&lt;00:00, 265.90it/s]"
      }
     },
     "01792c3999054d659c72f90e4a5db6b6": {
      "model_module": "@jupyter-widgets/base",
      "model_module_version": "1.1.0",
      "model_name": "LayoutModel",
      "state": {}
     },
     "01a32932b65a4f2e8ec5a8e8ee838837": {
      "model_module": "@jupyter-widgets/controls",
      "model_module_version": "1.4.0",
      "model_name": "HTMLModel",
      "state": {
       "layout": "IPY_MODEL_2a28014d6a244aa6ac0ec11af6a370b6",
       "style": "IPY_MODEL_c80465f324c04b878b72e75443c2c704",
       "value": "100% 17/17 [00:09&lt;00:00,  1.89it/s]"
      }
     },
     "01afaa779e224c05a10d41eaff0b3099": {
      "model_module": "@jupyter-widgets/controls",
      "model_module_version": "1.4.0",
      "model_name": "IntProgressModel",
      "state": {
       "layout": "IPY_MODEL_c3bbfd048bc54d0593f72853c4be2cc8",
       "max": 78,
       "style": "IPY_MODEL_00fc035929094069bb5f86eb1b60a7ed",
       "value": 77
      }
     },
     "01c6976ad3f24daeafa8bf07e71217f4": {
      "model_module": "@jupyter-widgets/controls",
      "model_module_version": "1.4.0",
      "model_name": "HTMLModel",
      "state": {
       "layout": "IPY_MODEL_531fe4612b8f44d7b5ff74e5f50301bb",
       "style": "IPY_MODEL_8e68f37199af47718508bf215e71f336",
       "value": "100% 17/17 [00:09&lt;00:00,  1.82it/s]"
      }
     },
     "01fdf0b36e0041d8b075c10df72873a2": {
      "model_module": "@jupyter-widgets/base",
      "model_module_version": "1.1.0",
      "model_name": "LayoutModel",
      "state": {}
     },
     "021639a29c854b77b5a1af03fc138ca6": {
      "model_module": "@jupyter-widgets/base",
      "model_module_version": "1.1.0",
      "model_name": "LayoutModel",
      "state": {}
     },
     "023c84653c51479ba9afb834f1d9958e": {
      "model_module": "@jupyter-widgets/controls",
      "model_module_version": "1.4.0",
      "model_name": "HTMLModel",
      "state": {
       "layout": "IPY_MODEL_4c02a042aaea45c18fa0d3b72cb127d3",
       "style": "IPY_MODEL_98a7a6b564fa4822ad1ba764c2f69eeb",
       "value": "100% 17/17 [00:09&lt;00:00,  1.75it/s]"
      }
     },
     "029d1f256e1645229e876c1d33aea551": {
      "model_module": "@jupyter-widgets/controls",
      "model_module_version": "1.4.0",
      "model_name": "IntProgressModel",
      "state": {
       "layout": "IPY_MODEL_46e79334e3df401b909555e3a5440e4c",
       "max": 17,
       "style": "IPY_MODEL_0fc3f1fb413641e185c558787d2cd68a",
       "value": 17
      }
     },
     "02eed6ecfcbd4bc7bb54908155ee5dba": {
      "model_module": "@jupyter-widgets/controls",
      "model_module_version": "1.4.0",
      "model_name": "DescriptionStyleModel",
      "state": {
       "description_width": ""
      }
     },
     "03037d92e62247aab24de4858376e1da": {
      "model_module": "@jupyter-widgets/controls",
      "model_module_version": "1.4.0",
      "model_name": "DescriptionStyleModel",
      "state": {
       "description_width": ""
      }
     },
     "03170bc74c4643678553444dba15edb5": {
      "model_module": "@jupyter-widgets/controls",
      "model_module_version": "1.4.0",
      "model_name": "DescriptionStyleModel",
      "state": {
       "description_width": ""
      }
     },
     "034493c6a3a74b9d8a88cc64f66d143d": {
      "model_module": "@jupyter-widgets/base",
      "model_module_version": "1.1.0",
      "model_name": "LayoutModel",
      "state": {}
     },
     "0382cf3b3131465bb09445c7e3729410": {
      "model_module": "@jupyter-widgets/controls",
      "model_module_version": "1.4.0",
      "model_name": "ProgressStyleModel",
      "state": {
       "description_width": ""
      }
     },
     "03a505f14e3541c1ae28b73237fa7f40": {
      "model_module": "@jupyter-widgets/controls",
      "model_module_version": "1.4.0",
      "model_name": "ProgressStyleModel",
      "state": {
       "description_width": ""
      }
     },
     "03be1e2e3eea4c86a204b939e52f169c": {
      "model_module": "@jupyter-widgets/base",
      "model_module_version": "1.1.0",
      "model_name": "LayoutModel",
      "state": {}
     },
     "03c5bc2193fa485ead890cde605733d4": {
      "model_module": "@jupyter-widgets/controls",
      "model_module_version": "1.4.0",
      "model_name": "IntProgressModel",
      "state": {
       "layout": "IPY_MODEL_e9a9d1ded81b41159428fbc9d07c31c9",
       "max": 17,
       "style": "IPY_MODEL_df04c278a4fe481d9fcaacfb45cf81c4",
       "value": 17
      }
     },
     "03d43746cf874973b488ae53e0528e1b": {
      "model_module": "@jupyter-widgets/controls",
      "model_module_version": "1.4.0",
      "model_name": "HTMLModel",
      "state": {
       "layout": "IPY_MODEL_3a476804f6144c6e8c91773c075c364a",
       "style": "IPY_MODEL_03170bc74c4643678553444dba15edb5",
       "value": " 60% 47/78 [00:00&lt;00:00, 232.49it/s]"
      }
     },
     "042b41f1d64b416b830600deb7334010": {
      "model_module": "@jupyter-widgets/controls",
      "model_module_version": "1.4.0",
      "model_name": "HTMLModel",
      "state": {
       "layout": "IPY_MODEL_919078daea174b9f9bf0eb8be0534ebb",
       "style": "IPY_MODEL_6a43e853838f4ed5ab6862779677bd0d",
       "value": " 49% 38/78 [00:00&lt;00:00, 188.04it/s]"
      }
     },
     "0463f02756394b19906a70e8d07da66d": {
      "model_module": "@jupyter-widgets/base",
      "model_module_version": "1.1.0",
      "model_name": "LayoutModel",
      "state": {}
     },
     "049e42aa2de94fe6b55f4b04ddae3317": {
      "model_module": "@jupyter-widgets/controls",
      "model_module_version": "1.4.0",
      "model_name": "IntProgressModel",
      "state": {
       "layout": "IPY_MODEL_577703ac64984f59a467efa6994c4f43",
       "max": 78,
       "style": "IPY_MODEL_9e1da7dd88004bc5b92b2ac7810a873b",
       "value": 57
      }
     },
     "04a339b7ccdf4cac806efecdc76674f2": {
      "model_module": "@jupyter-widgets/base",
      "model_module_version": "1.1.0",
      "model_name": "LayoutModel",
      "state": {}
     },
     "04b731bca7694d26a01cbb0ad2041af3": {
      "model_module": "@jupyter-widgets/base",
      "model_module_version": "1.1.0",
      "model_name": "LayoutModel",
      "state": {}
     },
     "05251ae5d9b041d6a915e532dbd41051": {
      "model_module": "@jupyter-widgets/base",
      "model_module_version": "1.1.0",
      "model_name": "LayoutModel",
      "state": {}
     },
     "055383d0aa4f4921a282754336c3da73": {
      "model_module": "@jupyter-widgets/controls",
      "model_module_version": "1.4.0",
      "model_name": "DescriptionStyleModel",
      "state": {
       "description_width": ""
      }
     },
     "0578288db3e54ea5b5ce7dcd14098a6a": {
      "model_module": "@jupyter-widgets/controls",
      "model_module_version": "1.4.0",
      "model_name": "ProgressStyleModel",
      "state": {
       "description_width": ""
      }
     },
     "05afb50db2f74989afceec2e8bfae836": {
      "model_module": "@jupyter-widgets/base",
      "model_module_version": "1.1.0",
      "model_name": "LayoutModel",
      "state": {}
     },
     "061d6d2e61ed48ba90e7b186cf03d5c0": {
      "model_module": "@jupyter-widgets/controls",
      "model_module_version": "1.4.0",
      "model_name": "DescriptionStyleModel",
      "state": {
       "description_width": ""
      }
     },
     "067394e6a09844f0a646014e467433b4": {
      "model_module": "@jupyter-widgets/base",
      "model_module_version": "1.1.0",
      "model_name": "LayoutModel",
      "state": {}
     },
     "06bbfebfe44a49b6bbdfd2bb1d664746": {
      "model_module": "@jupyter-widgets/controls",
      "model_module_version": "1.4.0",
      "model_name": "ProgressStyleModel",
      "state": {
       "description_width": ""
      }
     },
     "0765a62d5b934217ab1c9858464054c3": {
      "model_module": "@jupyter-widgets/controls",
      "model_module_version": "1.4.0",
      "model_name": "IntProgressModel",
      "state": {
       "layout": "IPY_MODEL_a7e2695d810f4ebd83f57ef5df05540b",
       "max": 78,
       "style": "IPY_MODEL_f699f700309e47aebb853c4980a03b73",
       "value": 66
      }
     },
     "07a7b322dba04213945db421885e7322": {
      "model_module": "@jupyter-widgets/controls",
      "model_module_version": "1.4.0",
      "model_name": "ProgressStyleModel",
      "state": {
       "description_width": ""
      }
     },
     "07f6ab70a6324cdea8bc940bc478ae96": {
      "model_module": "@jupyter-widgets/base",
      "model_module_version": "1.1.0",
      "model_name": "LayoutModel",
      "state": {}
     },
     "0836958eb8274fcea8e957b4790fa688": {
      "model_module": "@jupyter-widgets/controls",
      "model_module_version": "1.4.0",
      "model_name": "DescriptionStyleModel",
      "state": {
       "description_width": ""
      }
     },
     "084958c8543543c78aefde278f48b1cc": {
      "model_module": "@jupyter-widgets/base",
      "model_module_version": "1.1.0",
      "model_name": "LayoutModel",
      "state": {}
     },
     "085f4684b64d4c20bcb388855e4b55fc": {
      "model_module": "@jupyter-widgets/base",
      "model_module_version": "1.1.0",
      "model_name": "LayoutModel",
      "state": {}
     },
     "0864e6782b064d0ebadbe6149b498623": {
      "model_module": "@jupyter-widgets/controls",
      "model_module_version": "1.4.0",
      "model_name": "HTMLModel",
      "state": {
       "layout": "IPY_MODEL_491313488d4e4e28bef28817f9df59b9",
       "style": "IPY_MODEL_778af00dee7d4f35badf1f2955d43c23",
       "value": " 72% 56/78 [00:00&lt;00:00, 261.90it/s]"
      }
     },
     "0867dfa0b9284fc787befe5b06c3b9b0": {
      "model_module": "@jupyter-widgets/controls",
      "model_module_version": "1.4.0",
      "model_name": "IntProgressModel",
      "state": {
       "layout": "IPY_MODEL_70e8fafa90034236851b6f3da713c672",
       "max": 78,
       "style": "IPY_MODEL_351fc837c31d45228c15802e75a77c52",
       "value": 71
      }
     },
     "08b1a277adca453dae97a6d06726d5d3": {
      "model_module": "@jupyter-widgets/controls",
      "model_module_version": "1.4.0",
      "model_name": "ProgressStyleModel",
      "state": {
       "description_width": ""
      }
     },
     "08bc14251e95487ab49694cd4a1179d8": {
      "model_module": "@jupyter-widgets/controls",
      "model_module_version": "1.4.0",
      "model_name": "IntProgressModel",
      "state": {
       "layout": "IPY_MODEL_25b5b3f5b19c4464880ef09ad7f98b67",
       "max": 17,
       "style": "IPY_MODEL_a6cc9e2df24a422bb70f4188a12212bc",
       "value": 17
      }
     },
     "092397595fac46e5851dc023eced5b33": {
      "model_module": "@jupyter-widgets/controls",
      "model_module_version": "1.4.0",
      "model_name": "ProgressStyleModel",
      "state": {
       "description_width": ""
      }
     },
     "0951531e07aa48fb81882f985ef099a6": {
      "model_module": "@jupyter-widgets/controls",
      "model_module_version": "1.4.0",
      "model_name": "DescriptionStyleModel",
      "state": {
       "description_width": ""
      }
     },
     "097776c8531140beb41f88dc459077b5": {
      "model_module": "@jupyter-widgets/base",
      "model_module_version": "1.1.0",
      "model_name": "LayoutModel",
      "state": {}
     },
     "098da3617f534df0bbfb899e4b5aa6c5": {
      "model_module": "@jupyter-widgets/controls",
      "model_module_version": "1.4.0",
      "model_name": "HTMLModel",
      "state": {
       "layout": "IPY_MODEL_ba02d9255a8545208576c439a73764db",
       "style": "IPY_MODEL_ac80017f6f02430587e9c504845bdc67",
       "value": " 79% 62/78 [00:00&lt;00:00, 193.31it/s]"
      }
     },
     "09afe3e71efd41d5aa24ca62201c90e5": {
      "model_module": "@jupyter-widgets/base",
      "model_module_version": "1.1.0",
      "model_name": "LayoutModel",
      "state": {}
     },
     "09ff0e04f8b340d29016729ddc0014c0": {
      "model_module": "@jupyter-widgets/controls",
      "model_module_version": "1.4.0",
      "model_name": "HTMLModel",
      "state": {
       "layout": "IPY_MODEL_7cc12960eb9445c5a20a4b5fb0bd4aeb",
       "style": "IPY_MODEL_de0d703465274b6ebec38894703ca1a6",
       "value": " 47% 37/78 [00:00&lt;00:00, 368.64it/s]"
      }
     },
     "0a02d6a3695b4a6ba1b4f460ad3cf576": {
      "model_module": "@jupyter-widgets/base",
      "model_module_version": "1.1.0",
      "model_name": "LayoutModel",
      "state": {}
     },
     "0a281ebdeea043fc84ba6384fb19a549": {
      "model_module": "@jupyter-widgets/controls",
      "model_module_version": "1.4.0",
      "model_name": "HTMLModel",
      "state": {
       "layout": "IPY_MODEL_04b731bca7694d26a01cbb0ad2041af3",
       "style": "IPY_MODEL_1478cc4f25fd4954a34fb41d61b8aa72",
       "value": "100% 17/17 [00:09&lt;00:00,  1.88it/s]"
      }
     },
     "0a2a05d887894fb5a1fa07f7faf81a67": {
      "model_module": "@jupyter-widgets/controls",
      "model_module_version": "1.4.0",
      "model_name": "IntProgressModel",
      "state": {
       "layout": "IPY_MODEL_097776c8531140beb41f88dc459077b5",
       "max": 17,
       "style": "IPY_MODEL_17280655264f40c9aa7bf0795254212d",
       "value": 17
      }
     },
     "0a9bafedb54541309aa82de34091fa41": {
      "model_module": "@jupyter-widgets/base",
      "model_module_version": "1.1.0",
      "model_name": "LayoutModel",
      "state": {}
     },
     "0af30a274e3e41f8a57234b883d08d2f": {
      "model_module": "@jupyter-widgets/controls",
      "model_module_version": "1.4.0",
      "model_name": "IntProgressModel",
      "state": {
       "layout": "IPY_MODEL_d1025ba6cbbe4dc3ba75c88dcccbbaa7",
       "max": 17,
       "style": "IPY_MODEL_243280e5b537469e98d546d2d0644b92",
       "value": 17
      }
     },
     "0b6886584c714f948f795834df8fbcf8": {
      "model_module": "@jupyter-widgets/controls",
      "model_module_version": "1.4.0",
      "model_name": "IntProgressModel",
      "state": {
       "layout": "IPY_MODEL_8e91c2659640475993e93bd8c990f162",
       "max": 78,
       "style": "IPY_MODEL_d3ba377a21c44efc845a26d74f587493",
       "value": 78
      }
     },
     "0c05bb03377e42bd8b99473de42bf96b": {
      "model_module": "@jupyter-widgets/controls",
      "model_module_version": "1.4.0",
      "model_name": "HTMLModel",
      "state": {
       "layout": "IPY_MODEL_e9fbedbd0f9645d19ac72d9361a9f306",
       "style": "IPY_MODEL_dd25e145488742cdbaf8c0fca903e97b",
       "value": "100% 17/17 [00:09&lt;00:00,  1.78it/s]"
      }
     },
     "0c5e2b115d534390903026ffe2d3402c": {
      "model_module": "@jupyter-widgets/controls",
      "model_module_version": "1.4.0",
      "model_name": "DescriptionStyleModel",
      "state": {
       "description_width": ""
      }
     },
     "0c62df8adf4d411ea3ecc9ea77d60f1b": {
      "model_module": "@jupyter-widgets/controls",
      "model_module_version": "1.4.0",
      "model_name": "ProgressStyleModel",
      "state": {
       "description_width": ""
      }
     },
     "0c8c85575c504eb195a4f79bf8a97744": {
      "model_module": "@jupyter-widgets/controls",
      "model_module_version": "1.4.0",
      "model_name": "IntProgressModel",
      "state": {
       "layout": "IPY_MODEL_3ae2e9c8f5cd4167b3a98271a4f2d134",
       "max": 78,
       "style": "IPY_MODEL_4f1af889966e4222afe513fe3ea708b3",
       "value": 63
      }
     },
     "0cc5a42f464443f3b231cabe6404f116": {
      "model_module": "@jupyter-widgets/base",
      "model_module_version": "1.1.0",
      "model_name": "LayoutModel",
      "state": {}
     },
     "0ce2bd86756e45ab821761a5615f780f": {
      "model_module": "@jupyter-widgets/controls",
      "model_module_version": "1.4.0",
      "model_name": "HTMLModel",
      "state": {
       "layout": "IPY_MODEL_16ff3db0177c42ad870efdbfaf95f51e",
       "style": "IPY_MODEL_6efd1eeb8b1b43eb926e43cf5bac66c5",
       "value": " 95% 74/78 [00:00&lt;00:00, 358.38it/s]"
      }
     },
     "0d34b92a4de44d75bf304a93645e8565": {
      "model_module": "@jupyter-widgets/controls",
      "model_module_version": "1.4.0",
      "model_name": "ProgressStyleModel",
      "state": {
       "description_width": ""
      }
     },
     "0d5b4b7842e646d9bddf193f0616e706": {
      "model_module": "@jupyter-widgets/controls",
      "model_module_version": "1.4.0",
      "model_name": "HTMLModel",
      "state": {
       "layout": "IPY_MODEL_e09314b3d4a440ed946594ef5e51e7d6",
       "style": "IPY_MODEL_cd483a44632f4538984efc12b73a7416",
       "value": " 27% 21/78 [00:00&lt;00:00, 209.01it/s]"
      }
     },
     "0d76f560435543d59cf2331a80becda5": {
      "model_module": "@jupyter-widgets/controls",
      "model_module_version": "1.4.0",
      "model_name": "HTMLModel",
      "state": {
       "layout": "IPY_MODEL_c5565fc74dff44e5beab03530339d015",
       "style": "IPY_MODEL_725db071581e43fe81dd54ed5b027ede",
       "value": " 85% 66/78 [00:00&lt;00:00, 325.92it/s]"
      }
     },
     "0dc5b99238a24644a894463868c7978a": {
      "model_module": "@jupyter-widgets/controls",
      "model_module_version": "1.4.0",
      "model_name": "ProgressStyleModel",
      "state": {
       "description_width": ""
      }
     },
     "0dfcfed04ff648c6b1537b14f4159a9d": {
      "model_module": "@jupyter-widgets/controls",
      "model_module_version": "1.4.0",
      "model_name": "ProgressStyleModel",
      "state": {
       "description_width": ""
      }
     },
     "0e12433d44a6416494932e34d346a5ad": {
      "model_module": "@jupyter-widgets/base",
      "model_module_version": "1.1.0",
      "model_name": "LayoutModel",
      "state": {}
     },
     "0e4464c25deb4f43b45a78c319992ae6": {
      "model_module": "@jupyter-widgets/base",
      "model_module_version": "1.1.0",
      "model_name": "LayoutModel",
      "state": {}
     },
     "0e4af8a1d22f439695e6b48fb7d68105": {
      "model_module": "@jupyter-widgets/controls",
      "model_module_version": "1.4.0",
      "model_name": "HTMLModel",
      "state": {
       "layout": "IPY_MODEL_1329589163234f0cbb11a084c9bd68ae",
       "style": "IPY_MODEL_556abc9567574ba09ea8691288aab6c4",
       "value": " 26% 20/78 [00:00&lt;00:00, 198.60it/s]"
      }
     },
     "0e5fc49f53ac477fb43ef55914d2e67b": {
      "model_module": "@jupyter-widgets/base",
      "model_module_version": "1.1.0",
      "model_name": "LayoutModel",
      "state": {}
     },
     "0f073b0b3ebd47108919fd59170feb1a": {
      "model_module": "@jupyter-widgets/controls",
      "model_module_version": "1.4.0",
      "model_name": "DescriptionStyleModel",
      "state": {
       "description_width": ""
      }
     },
     "0f1a17bb391848729a689e0bf0673a78": {
      "model_module": "@jupyter-widgets/controls",
      "model_module_version": "1.4.0",
      "model_name": "IntProgressModel",
      "state": {
       "layout": "IPY_MODEL_be803de84e0c416ca4b042431790709f",
       "max": 34,
       "style": "IPY_MODEL_9cfb3d9c1a6a4eada08bc71aed673ef3",
       "value": 34
      }
     },
     "0f28f53e191d4cf485d03e7837f126b1": {
      "model_module": "@jupyter-widgets/controls",
      "model_module_version": "1.4.0",
      "model_name": "DescriptionStyleModel",
      "state": {
       "description_width": ""
      }
     },
     "0f431648a9874fbeb3a9c170f9694004": {
      "model_module": "@jupyter-widgets/controls",
      "model_module_version": "1.4.0",
      "model_name": "ProgressStyleModel",
      "state": {
       "description_width": ""
      }
     },
     "0fc3f1fb413641e185c558787d2cd68a": {
      "model_module": "@jupyter-widgets/controls",
      "model_module_version": "1.4.0",
      "model_name": "ProgressStyleModel",
      "state": {
       "description_width": ""
      }
     },
     "0ff07cc2b29744b5977d6035abb82aa4": {
      "model_module": "@jupyter-widgets/controls",
      "model_module_version": "1.4.0",
      "model_name": "HTMLModel",
      "state": {
       "layout": "IPY_MODEL_eda817103fc642a49b367f1aa2c7d0fc",
       "style": "IPY_MODEL_96ad1396dd9c4c979a14016bb93613ae",
       "value": "100% 78/78 [00:00&lt;00:00, 255.22it/s]"
      }
     },
     "102fa46b2d6b441aad692649785210fe": {
      "model_module": "@jupyter-widgets/controls",
      "model_module_version": "1.4.0",
      "model_name": "ProgressStyleModel",
      "state": {
       "description_width": ""
      }
     },
     "10ad69253fcf46bc9b1fdfff807959b3": {
      "model_module": "@jupyter-widgets/controls",
      "model_module_version": "1.4.0",
      "model_name": "DescriptionStyleModel",
      "state": {
       "description_width": ""
      }
     },
     "10ffefdf493c4695b9fc1ba8d598172c": {
      "model_module": "@jupyter-widgets/base",
      "model_module_version": "1.1.0",
      "model_name": "LayoutModel",
      "state": {}
     },
     "119c65e6acf6453883002fb94ad321e3": {
      "model_module": "@jupyter-widgets/base",
      "model_module_version": "1.1.0",
      "model_name": "LayoutModel",
      "state": {}
     },
     "11ce42f3cc664a8699f4f2801a50867d": {
      "model_module": "@jupyter-widgets/base",
      "model_module_version": "1.1.0",
      "model_name": "LayoutModel",
      "state": {}
     },
     "120c0af584ef4b99a47523c67ca02f3f": {
      "model_module": "@jupyter-widgets/controls",
      "model_module_version": "1.4.0",
      "model_name": "IntProgressModel",
      "state": {
       "layout": "IPY_MODEL_56f4992d41a64750bc7b69ca3f351176",
       "max": 78,
       "style": "IPY_MODEL_b08fa572f8fe43fe8dfdf4890fb7b288",
       "value": 51
      }
     },
     "126af760e4684f37a225d046432ed902": {
      "model_module": "@jupyter-widgets/controls",
      "model_module_version": "1.4.0",
      "model_name": "DescriptionStyleModel",
      "state": {
       "description_width": ""
      }
     },
     "1274a99a60fc4c3c940fe22edcc94ca8": {
      "model_module": "@jupyter-widgets/controls",
      "model_module_version": "1.4.0",
      "model_name": "DescriptionStyleModel",
      "state": {
       "description_width": ""
      }
     },
     "128e37365b6440da8bda063eceb147f4": {
      "model_module": "@jupyter-widgets/controls",
      "model_module_version": "1.4.0",
      "model_name": "IntProgressModel",
      "state": {
       "layout": "IPY_MODEL_01fdf0b36e0041d8b075c10df72873a2",
       "max": 78,
       "style": "IPY_MODEL_a67db469bba54705907f5a4f5d3a5a3c",
       "value": 56
      }
     },
     "1290ca782bc644258da4d1a1f33977de": {
      "model_module": "@jupyter-widgets/base",
      "model_module_version": "1.1.0",
      "model_name": "LayoutModel",
      "state": {}
     },
     "12a33ec91dce47bbbddc819829d49d2a": {
      "model_module": "@jupyter-widgets/controls",
      "model_module_version": "1.4.0",
      "model_name": "HTMLModel",
      "state": {
       "layout": "IPY_MODEL_721cd8eccfe94a52964426c7246dd3b2",
       "style": "IPY_MODEL_dd2ec7fa0199487aba84d05685ea05ae",
       "value": " 26% 20/78 [00:00&lt;00:00, 189.08it/s]"
      }
     },
     "12cc58a8797645fa8dbd9f4567836d0d": {
      "model_module": "@jupyter-widgets/controls",
      "model_module_version": "1.4.0",
      "model_name": "DescriptionStyleModel",
      "state": {
       "description_width": ""
      }
     },
     "12ce51bf1f0f48f18143e68abbd14be7": {
      "model_module": "@jupyter-widgets/base",
      "model_module_version": "1.1.0",
      "model_name": "LayoutModel",
      "state": {}
     },
     "1329589163234f0cbb11a084c9bd68ae": {
      "model_module": "@jupyter-widgets/base",
      "model_module_version": "1.1.0",
      "model_name": "LayoutModel",
      "state": {}
     },
     "133dde82955e47a58b11ce2fb1aa2877": {
      "model_module": "@jupyter-widgets/base",
      "model_module_version": "1.1.0",
      "model_name": "LayoutModel",
      "state": {}
     },
     "13976b367a19426e9ca299bd2f3ad509": {
      "model_module": "@jupyter-widgets/base",
      "model_module_version": "1.1.0",
      "model_name": "LayoutModel",
      "state": {}
     },
     "13cc03fdce4d4210ae5edfec86cbbd81": {
      "model_module": "@jupyter-widgets/base",
      "model_module_version": "1.1.0",
      "model_name": "LayoutModel",
      "state": {}
     },
     "13d90c10c5014c45a88085abe66b342a": {
      "model_module": "@jupyter-widgets/controls",
      "model_module_version": "1.4.0",
      "model_name": "ProgressStyleModel",
      "state": {
       "description_width": ""
      }
     },
     "141bd8a7e4684d9b9c3d3885dc676d39": {
      "model_module": "@jupyter-widgets/controls",
      "model_module_version": "1.4.0",
      "model_name": "DescriptionStyleModel",
      "state": {
       "description_width": ""
      }
     },
     "1434d722c9034618998100d722112ce0": {
      "model_module": "@jupyter-widgets/controls",
      "model_module_version": "1.4.0",
      "model_name": "IntProgressModel",
      "state": {
       "layout": "IPY_MODEL_c745603da009410a912f5072d6bd5bd4",
       "max": 78,
       "style": "IPY_MODEL_ecf888e6eb0e43978192f750887bb817",
       "value": 69
      }
     },
     "1478cc4f25fd4954a34fb41d61b8aa72": {
      "model_module": "@jupyter-widgets/controls",
      "model_module_version": "1.4.0",
      "model_name": "DescriptionStyleModel",
      "state": {
       "description_width": ""
      }
     },
     "14965f07574f4d05819caa8f45567eb7": {
      "model_module": "@jupyter-widgets/base",
      "model_module_version": "1.1.0",
      "model_name": "LayoutModel",
      "state": {}
     },
     "14d5b858b2ae4804958244da1af30282": {
      "model_module": "@jupyter-widgets/controls",
      "model_module_version": "1.4.0",
      "model_name": "ProgressStyleModel",
      "state": {
       "description_width": ""
      }
     },
     "155be334e01d4a8384aa559b48812778": {
      "model_module": "@jupyter-widgets/controls",
      "model_module_version": "1.4.0",
      "model_name": "IntProgressModel",
      "state": {
       "layout": "IPY_MODEL_177a7ea285b84f38ab47f33b76b5f8f3",
       "max": 78,
       "style": "IPY_MODEL_3be9da321d834466b21e69e92c30906a",
       "value": 52
      }
     },
     "1635f4088dc84bb5b285e80c556b10c4": {
      "model_module": "@jupyter-widgets/controls",
      "model_module_version": "1.4.0",
      "model_name": "HTMLModel",
      "state": {
       "layout": "IPY_MODEL_5b0b942c1a37469788470c76a5a9ec40",
       "style": "IPY_MODEL_9c22c323fa8a4b638e56f05385c937c1",
       "value": "100% 17/17 [00:10&lt;00:00,  1.69it/s]"
      }
     },
     "1645db06e0a94771a6ed6ca7b8d96c06": {
      "model_module": "@jupyter-widgets/controls",
      "model_module_version": "1.4.0",
      "model_name": "HTMLModel",
      "state": {
       "layout": "IPY_MODEL_cd4b3b0c703847ab89d192f93ee17b5c",
       "style": "IPY_MODEL_055383d0aa4f4921a282754336c3da73",
       "value": "100% 34/34 [00:28&lt;00:00,  1.20it/s]"
      }
     },
     "165df7b904d74cc2828004743a61238c": {
      "model_module": "@jupyter-widgets/controls",
      "model_module_version": "1.4.0",
      "model_name": "IntProgressModel",
      "state": {
       "layout": "IPY_MODEL_6862f045caff48ebbfcb1ba7988b9467",
       "max": 17,
       "style": "IPY_MODEL_9756af9104814a0fbe3719543a080d94",
       "value": 17
      }
     },
     "1667383644674d48853a4a4548c3e339": {
      "model_module": "@jupyter-widgets/controls",
      "model_module_version": "1.4.0",
      "model_name": "HTMLModel",
      "state": {
       "layout": "IPY_MODEL_01792c3999054d659c72f90e4a5db6b6",
       "style": "IPY_MODEL_883c66891f38450196d8ff409de57ae6",
       "value": "100% 17/17 [00:09&lt;00:00,  1.82it/s]"
      }
     },
     "16f535934ed3426886252c4059acb774": {
      "model_module": "@jupyter-widgets/controls",
      "model_module_version": "1.4.0",
      "model_name": "IntProgressModel",
      "state": {
       "layout": "IPY_MODEL_9f6adf35b21a40ffaef17238d67cf1d5",
       "max": 78,
       "style": "IPY_MODEL_dce2345e3161457db980517ab6309b12",
       "value": 14
      }
     },
     "16ff3db0177c42ad870efdbfaf95f51e": {
      "model_module": "@jupyter-widgets/base",
      "model_module_version": "1.1.0",
      "model_name": "LayoutModel",
      "state": {}
     },
     "1717e56d139b41aaaa46a0893a9ea154": {
      "model_module": "@jupyter-widgets/controls",
      "model_module_version": "1.4.0",
      "model_name": "HTMLModel",
      "state": {
       "layout": "IPY_MODEL_7c29a8f350044fa7a03460a8cf883665",
       "style": "IPY_MODEL_a605c7f6db3f4df98632176d00d0407d",
       "value": " 68% 53/78 [00:00&lt;00:00, 249.04it/s]"
      }
     },
     "17280655264f40c9aa7bf0795254212d": {
      "model_module": "@jupyter-widgets/controls",
      "model_module_version": "1.4.0",
      "model_name": "ProgressStyleModel",
      "state": {
       "description_width": ""
      }
     },
     "1763fc2f2a494802996ed7ce8ce61b80": {
      "model_module": "@jupyter-widgets/controls",
      "model_module_version": "1.4.0",
      "model_name": "DescriptionStyleModel",
      "state": {
       "description_width": ""
      }
     },
     "177a7ea285b84f38ab47f33b76b5f8f3": {
      "model_module": "@jupyter-widgets/base",
      "model_module_version": "1.1.0",
      "model_name": "LayoutModel",
      "state": {}
     },
     "17f9bb16af4a480990a58033159f9749": {
      "model_module": "@jupyter-widgets/base",
      "model_module_version": "1.1.0",
      "model_name": "LayoutModel",
      "state": {}
     },
     "1837eb9b99454564939dfd161ecddc03": {
      "model_module": "@jupyter-widgets/controls",
      "model_module_version": "1.4.0",
      "model_name": "ProgressStyleModel",
      "state": {
       "description_width": ""
      }
     },
     "1865c71953214211a4dcfe9c77efd3c5": {
      "model_module": "@jupyter-widgets/controls",
      "model_module_version": "1.4.0",
      "model_name": "IntProgressModel",
      "state": {
       "layout": "IPY_MODEL_4b797ede49dc4f2190d2f626ff7b8b3b",
       "max": 78,
       "style": "IPY_MODEL_67065a68301b40e483edb9e9baab3ecf",
       "value": 70
      }
     },
     "18aa737d92af438d9e8c068bbf727f99": {
      "model_module": "@jupyter-widgets/base",
      "model_module_version": "1.1.0",
      "model_name": "LayoutModel",
      "state": {}
     },
     "18c007070bd94b56bd8d11727c2f5e00": {
      "model_module": "@jupyter-widgets/base",
      "model_module_version": "1.1.0",
      "model_name": "LayoutModel",
      "state": {}
     },
     "18c82b87faa54945aa4e026590198afb": {
      "model_module": "@jupyter-widgets/base",
      "model_module_version": "1.1.0",
      "model_name": "LayoutModel",
      "state": {}
     },
     "18e2ee3023cc4101bd3a77501a570381": {
      "model_module": "@jupyter-widgets/controls",
      "model_module_version": "1.4.0",
      "model_name": "HTMLModel",
      "state": {
       "layout": "IPY_MODEL_ec6e010a31b84e2caaf89a24bdd98cd4",
       "style": "IPY_MODEL_f1b3a7c39b034d208d5b80385ca76d31",
       "value": "100% 34/34 [00:27&lt;00:00,  1.26it/s]"
      }
     },
     "195a8b290cc745659b6fba890fb4c9b4": {
      "model_module": "@jupyter-widgets/controls",
      "model_module_version": "1.4.0",
      "model_name": "HTMLModel",
      "state": {
       "layout": "IPY_MODEL_791f03a0aa96471cb9a6e2e45d86da76",
       "style": "IPY_MODEL_96e8b3f949494bfc84eeae9f834deca2",
       "value": " 99% 77/78 [00:00&lt;00:00, 253.35it/s]"
      }
     },
     "19662bc187ee498086b1bc2f554d3411": {
      "model_module": "@jupyter-widgets/base",
      "model_module_version": "1.1.0",
      "model_name": "LayoutModel",
      "state": {}
     },
     "199a0fae227640eba67669d42e803ddf": {
      "model_module": "@jupyter-widgets/controls",
      "model_module_version": "1.4.0",
      "model_name": "ProgressStyleModel",
      "state": {
       "description_width": ""
      }
     },
     "199b22ce0e5f422fb327cf7d63936bba": {
      "model_module": "@jupyter-widgets/controls",
      "model_module_version": "1.4.0",
      "model_name": "ProgressStyleModel",
      "state": {
       "description_width": ""
      }
     },
     "19b055cafc3542feb4bf8c0e2b966d59": {
      "model_module": "@jupyter-widgets/base",
      "model_module_version": "1.1.0",
      "model_name": "LayoutModel",
      "state": {}
     },
     "19e1950192d64d8595e6dfbc87b61d7f": {
      "model_module": "@jupyter-widgets/base",
      "model_module_version": "1.1.0",
      "model_name": "LayoutModel",
      "state": {}
     },
     "19e71bde23824351ad9d18c4cc080843": {
      "model_module": "@jupyter-widgets/controls",
      "model_module_version": "1.4.0",
      "model_name": "ProgressStyleModel",
      "state": {
       "description_width": ""
      }
     },
     "1a57d181316a4f17b2f599db605f27b8": {
      "model_module": "@jupyter-widgets/base",
      "model_module_version": "1.1.0",
      "model_name": "LayoutModel",
      "state": {}
     },
     "1a65a6a1b13941ea9b0f7f7bb7aa02c1": {
      "model_module": "@jupyter-widgets/controls",
      "model_module_version": "1.4.0",
      "model_name": "ProgressStyleModel",
      "state": {
       "description_width": ""
      }
     },
     "1a68f029538d4b9dba814d37877bc8c5": {
      "model_module": "@jupyter-widgets/base",
      "model_module_version": "1.1.0",
      "model_name": "LayoutModel",
      "state": {}
     },
     "1a982495a88947a38659f1da59270137": {
      "model_module": "@jupyter-widgets/controls",
      "model_module_version": "1.4.0",
      "model_name": "IntProgressModel",
      "state": {
       "layout": "IPY_MODEL_f4c6654278174acb9e7bbf872d63ce7f",
       "max": 78,
       "style": "IPY_MODEL_99a65dcfbdce43f2b7c4d332335cf099",
       "value": 30
      }
     },
     "1b069037f4e246148b55f35319a80d53": {
      "model_module": "@jupyter-widgets/controls",
      "model_module_version": "1.4.0",
      "model_name": "IntProgressModel",
      "state": {
       "layout": "IPY_MODEL_d73ccc6a450945ea85e0f58168113cb6",
       "max": 17,
       "style": "IPY_MODEL_1837eb9b99454564939dfd161ecddc03",
       "value": 17
      }
     },
     "1b6a7ebaf95444c6a64b631628adfa6b": {
      "model_module": "@jupyter-widgets/base",
      "model_module_version": "1.1.0",
      "model_name": "LayoutModel",
      "state": {}
     },
     "1b7d7152afa04aa6a302439c08d89bfb": {
      "model_module": "@jupyter-widgets/controls",
      "model_module_version": "1.4.0",
      "model_name": "IntProgressModel",
      "state": {
       "layout": "IPY_MODEL_87844ec698154336a9c478d0a16d0a47",
       "max": 34,
       "style": "IPY_MODEL_03a505f14e3541c1ae28b73237fa7f40",
       "value": 34
      }
     },
     "1bce6e5a0dfc47d6b46c93dbde3f14ff": {
      "model_module": "@jupyter-widgets/base",
      "model_module_version": "1.1.0",
      "model_name": "LayoutModel",
      "state": {}
     },
     "1c286d9e88c84c6182da6a848fdcd841": {
      "model_module": "@jupyter-widgets/base",
      "model_module_version": "1.1.0",
      "model_name": "LayoutModel",
      "state": {}
     },
     "1c2b5a8136e148c5b9b4321eb66da479": {
      "model_module": "@jupyter-widgets/controls",
      "model_module_version": "1.4.0",
      "model_name": "DescriptionStyleModel",
      "state": {
       "description_width": ""
      }
     },
     "1c54779ed27340ddacd972f82acb13c1": {
      "model_module": "@jupyter-widgets/base",
      "model_module_version": "1.1.0",
      "model_name": "LayoutModel",
      "state": {}
     },
     "1ce6983e4fc0423290c49afd133f34f6": {
      "model_module": "@jupyter-widgets/controls",
      "model_module_version": "1.4.0",
      "model_name": "HTMLModel",
      "state": {
       "layout": "IPY_MODEL_9a170f6a5b3140b99a081ab6ba7a7f7a",
       "style": "IPY_MODEL_57deb271b2b4447f9b418d8862a6ed75",
       "value": "100% 17/17 [00:09&lt;00:00,  1.81it/s]"
      }
     },
     "1cf41a224eee4e43b31365dc82ab2033": {
      "model_module": "@jupyter-widgets/base",
      "model_module_version": "1.1.0",
      "model_name": "LayoutModel",
      "state": {}
     },
     "1d0b920b735647089dac034ad2fe7fe5": {
      "model_module": "@jupyter-widgets/base",
      "model_module_version": "1.1.0",
      "model_name": "LayoutModel",
      "state": {}
     },
     "1d10643f46ee41eaa906c33a7a49ac79": {
      "model_module": "@jupyter-widgets/base",
      "model_module_version": "1.1.0",
      "model_name": "LayoutModel",
      "state": {}
     },
     "1d484f8134d642f099c86f9ca84aa230": {
      "model_module": "@jupyter-widgets/controls",
      "model_module_version": "1.4.0",
      "model_name": "IntProgressModel",
      "state": {
       "layout": "IPY_MODEL_14965f07574f4d05819caa8f45567eb7",
       "max": 78,
       "style": "IPY_MODEL_d38ebfc6ba5b4a298ccc6123f487c2c5",
       "value": 77
      }
     },
     "1d4b4657e72a48b78f50b0f8425baed5": {
      "model_module": "@jupyter-widgets/base",
      "model_module_version": "1.1.0",
      "model_name": "LayoutModel",
      "state": {}
     },
     "1d67276301bf484cbda74d222d8454e3": {
      "model_module": "@jupyter-widgets/controls",
      "model_module_version": "1.4.0",
      "model_name": "ProgressStyleModel",
      "state": {
       "description_width": ""
      }
     },
     "1dd0e02acea6436986ab44094053e813": {
      "model_module": "@jupyter-widgets/base",
      "model_module_version": "1.1.0",
      "model_name": "LayoutModel",
      "state": {}
     },
     "1e8cebb615414694820adf0c693c2668": {
      "model_module": "@jupyter-widgets/controls",
      "model_module_version": "1.4.0",
      "model_name": "IntProgressModel",
      "state": {
       "layout": "IPY_MODEL_5a5ec8e860b347ae94887c9bd3b60ce4",
       "max": 78,
       "style": "IPY_MODEL_293f6ffcad1749b4921e1061d480fd26",
       "value": 68
      }
     },
     "1ed2dcc387d54cea87f1aa9c18f8749b": {
      "model_module": "@jupyter-widgets/base",
      "model_module_version": "1.1.0",
      "model_name": "LayoutModel",
      "state": {}
     },
     "1ee8c7e2996549e7b48376d73f45b9da": {
      "model_module": "@jupyter-widgets/controls",
      "model_module_version": "1.4.0",
      "model_name": "HTMLModel",
      "state": {
       "layout": "IPY_MODEL_592313f1884e40e599280a5f1eb6e07e",
       "style": "IPY_MODEL_3d2197cc92b9454a9124f2c78be02569",
       "value": " 71% 55/78 [00:00&lt;00:00, 260.09it/s]"
      }
     },
     "1f218c6a09164c3fb981a0fff0e39680": {
      "model_module": "@jupyter-widgets/controls",
      "model_module_version": "1.4.0",
      "model_name": "DescriptionStyleModel",
      "state": {
       "description_width": ""
      }
     },
     "1f6c347f6add4ce684eefdaf88f373b1": {
      "model_module": "@jupyter-widgets/controls",
      "model_module_version": "1.4.0",
      "model_name": "HTMLModel",
      "state": {
       "layout": "IPY_MODEL_b11ee401649046b18369bc3a9095a525",
       "style": "IPY_MODEL_78d54f3f5dbb4243986f785e59f7b6d5",
       "value": " 35% 27/78 [00:00&lt;00:00, 268.74it/s]"
      }
     },
     "1fb98d91333347db98805a017b1cb75a": {
      "model_module": "@jupyter-widgets/controls",
      "model_module_version": "1.4.0",
      "model_name": "ProgressStyleModel",
      "state": {
       "description_width": ""
      }
     },
     "1ff49c4fb13b4c93a60e1b224a81734a": {
      "model_module": "@jupyter-widgets/base",
      "model_module_version": "1.1.0",
      "model_name": "LayoutModel",
      "state": {}
     },
     "201b820e2bc74996b7db9ed8efcb11fe": {
      "model_module": "@jupyter-widgets/controls",
      "model_module_version": "1.4.0",
      "model_name": "HTMLModel",
      "state": {
       "layout": "IPY_MODEL_8271bafc357f4b51a3b979fbc0236902",
       "style": "IPY_MODEL_f65ef79fcc9d4a888670e616e7e14044",
       "value": "100% 78/78 [00:00&lt;00:00, 227.13it/s]"
      }
     },
     "2023706d7cf24daaa64ac27ae15b2319": {
      "model_module": "@jupyter-widgets/controls",
      "model_module_version": "1.4.0",
      "model_name": "IntProgressModel",
      "state": {
       "layout": "IPY_MODEL_b0a9239d8f4442b2ba0545a665f88976",
       "max": 34,
       "style": "IPY_MODEL_092397595fac46e5851dc023eced5b33",
       "value": 34
      }
     },
     "2028d8a26f5a4e429d680a691818f9bd": {
      "model_module": "@jupyter-widgets/controls",
      "model_module_version": "1.4.0",
      "model_name": "HTMLModel",
      "state": {
       "layout": "IPY_MODEL_ee34393cc0a647ddaf756f2f16588e0c",
       "style": "IPY_MODEL_2f5c4c4aec664fce83457be3d5095208",
       "value": "100% 17/17 [00:09&lt;00:00,  1.77it/s]"
      }
     },
     "20396eea5a6d42188a450f3ccc5d3fdd": {
      "model_module": "@jupyter-widgets/controls",
      "model_module_version": "1.4.0",
      "model_name": "DescriptionStyleModel",
      "state": {
       "description_width": ""
      }
     },
     "208850563ba14fccb90db5d3196befb3": {
      "model_module": "@jupyter-widgets/base",
      "model_module_version": "1.1.0",
      "model_name": "LayoutModel",
      "state": {}
     },
     "209c3a8200dd472ead535c939d59eb9d": {
      "model_module": "@jupyter-widgets/controls",
      "model_module_version": "1.4.0",
      "model_name": "DescriptionStyleModel",
      "state": {
       "description_width": ""
      }
     },
     "20c0e2c2580e49c4861f36c8b2271c1c": {
      "model_module": "@jupyter-widgets/base",
      "model_module_version": "1.1.0",
      "model_name": "LayoutModel",
      "state": {}
     },
     "21046d22d59a44e396a70fe77ecac3a6": {
      "model_module": "@jupyter-widgets/controls",
      "model_module_version": "1.4.0",
      "model_name": "ProgressStyleModel",
      "state": {
       "description_width": ""
      }
     },
     "210ca060cf7445b69aba014ded073a00": {
      "model_module": "@jupyter-widgets/base",
      "model_module_version": "1.1.0",
      "model_name": "LayoutModel",
      "state": {}
     },
     "21bf4ac2790a4ed1a24a235ca20aaa68": {
      "model_module": "@jupyter-widgets/base",
      "model_module_version": "1.1.0",
      "model_name": "LayoutModel",
      "state": {}
     },
     "21d157f17ef8459789dddb89ea05e774": {
      "model_module": "@jupyter-widgets/base",
      "model_module_version": "1.1.0",
      "model_name": "LayoutModel",
      "state": {}
     },
     "22a5bfd0b6bb4c7fa0db83e6dc18d144": {
      "model_module": "@jupyter-widgets/base",
      "model_module_version": "1.1.0",
      "model_name": "LayoutModel",
      "state": {}
     },
     "22a829fb6a3341ae8de7eafd11e3b9c2": {
      "model_module": "@jupyter-widgets/base",
      "model_module_version": "1.1.0",
      "model_name": "LayoutModel",
      "state": {}
     },
     "2376ee7c126b4ffa845e81348f9549eb": {
      "model_module": "@jupyter-widgets/base",
      "model_module_version": "1.1.0",
      "model_name": "LayoutModel",
      "state": {}
     },
     "2385291f9a844d2a87aa626a3f201425": {
      "model_module": "@jupyter-widgets/controls",
      "model_module_version": "1.4.0",
      "model_name": "ProgressStyleModel",
      "state": {
       "description_width": ""
      }
     },
     "23966d6fa5f947d98b02cf736c2bbd3f": {
      "model_module": "@jupyter-widgets/controls",
      "model_module_version": "1.4.0",
      "model_name": "HTMLModel",
      "state": {
       "layout": "IPY_MODEL_a12fe4b15c754914b8f6cebfc0848d7a",
       "style": "IPY_MODEL_12cc58a8797645fa8dbd9f4567836d0d",
       "value": " 47% 37/78 [00:00&lt;00:00, 181.15it/s]"
      }
     },
     "239f6bbcc64449b9a088c1c0b4b4cb67": {
      "model_module": "@jupyter-widgets/controls",
      "model_module_version": "1.4.0",
      "model_name": "IntProgressModel",
      "state": {
       "layout": "IPY_MODEL_5dcce0a50fe54054ae63a9eb295a999d",
       "max": 78,
       "style": "IPY_MODEL_533d5a9e109b42e6af3215835ae32c80",
       "value": 75
      }
     },
     "23b90eb852504a4484f594cb41e4f234": {
      "model_module": "@jupyter-widgets/controls",
      "model_module_version": "1.4.0",
      "model_name": "DescriptionStyleModel",
      "state": {
       "description_width": ""
      }
     },
     "23e419fb95874da0961d80bc424c0d93": {
      "model_module": "@jupyter-widgets/base",
      "model_module_version": "1.1.0",
      "model_name": "LayoutModel",
      "state": {}
     },
     "24135b16aa664b4098df6397b9682f85": {
      "model_module": "@jupyter-widgets/controls",
      "model_module_version": "1.4.0",
      "model_name": "HTMLModel",
      "state": {
       "layout": "IPY_MODEL_c8dac5ac091949e394e16ec51d7c22d2",
       "style": "IPY_MODEL_38dcae8808a74027847a446506fd6455",
       "value": " 45% 35/78 [00:00&lt;00:00, 339.59it/s]"
      }
     },
     "241983dcbc4a47268d9d156607335cca": {
      "model_module": "@jupyter-widgets/controls",
      "model_module_version": "1.4.0",
      "model_name": "DescriptionStyleModel",
      "state": {
       "description_width": ""
      }
     },
     "242c7cb509554ea6aa806fec67af0022": {
      "model_module": "@jupyter-widgets/base",
      "model_module_version": "1.1.0",
      "model_name": "LayoutModel",
      "state": {}
     },
     "243280e5b537469e98d546d2d0644b92": {
      "model_module": "@jupyter-widgets/controls",
      "model_module_version": "1.4.0",
      "model_name": "ProgressStyleModel",
      "state": {
       "description_width": ""
      }
     },
     "2445ea83a67249d19acb45b7fd9e3ac8": {
      "model_module": "@jupyter-widgets/controls",
      "model_module_version": "1.4.0",
      "model_name": "ProgressStyleModel",
      "state": {
       "description_width": ""
      }
     },
     "2497355dd87046228a7bd497f6e00a09": {
      "model_module": "@jupyter-widgets/controls",
      "model_module_version": "1.4.0",
      "model_name": "DescriptionStyleModel",
      "state": {
       "description_width": ""
      }
     },
     "24c801daeba34878b77be7000538a405": {
      "model_module": "@jupyter-widgets/base",
      "model_module_version": "1.1.0",
      "model_name": "LayoutModel",
      "state": {}
     },
     "24c8e692fc4b477aabe98990de694f5a": {
      "model_module": "@jupyter-widgets/controls",
      "model_module_version": "1.4.0",
      "model_name": "DescriptionStyleModel",
      "state": {
       "description_width": ""
      }
     },
     "250ca01826ac46fba28a8784441f5e56": {
      "model_module": "@jupyter-widgets/controls",
      "model_module_version": "1.4.0",
      "model_name": "ProgressStyleModel",
      "state": {
       "description_width": ""
      }
     },
     "255558140459450cbca93b2b238e49be": {
      "model_module": "@jupyter-widgets/base",
      "model_module_version": "1.1.0",
      "model_name": "LayoutModel",
      "state": {}
     },
     "256670be1f754cdb8171b8b832904133": {
      "model_module": "@jupyter-widgets/controls",
      "model_module_version": "1.4.0",
      "model_name": "HTMLModel",
      "state": {
       "layout": "IPY_MODEL_fcad4e26622b448bbd06d51d74f87061",
       "style": "IPY_MODEL_55d7c241e95b431d8f831a7b03ffc43e",
       "value": " 63% 49/78 [00:00&lt;00:00, 236.94it/s]"
      }
     },
     "25b5b3f5b19c4464880ef09ad7f98b67": {
      "model_module": "@jupyter-widgets/base",
      "model_module_version": "1.1.0",
      "model_name": "LayoutModel",
      "state": {}
     },
     "25c402da32b14da7afe77359256d814f": {
      "model_module": "@jupyter-widgets/base",
      "model_module_version": "1.1.0",
      "model_name": "LayoutModel",
      "state": {}
     },
     "25c8ab80dc3f4ba2aeadfcdd05836927": {
      "model_module": "@jupyter-widgets/base",
      "model_module_version": "1.1.0",
      "model_name": "LayoutModel",
      "state": {}
     },
     "25f0c1c767264500869aa5ad9590a3d7": {
      "model_module": "@jupyter-widgets/controls",
      "model_module_version": "1.4.0",
      "model_name": "HTMLModel",
      "state": {
       "layout": "IPY_MODEL_7049502c5e8044a38c53a37d03fb525c",
       "style": "IPY_MODEL_4916642caeeb44d3be9e456ca1a293c3",
       "value": "100% 34/34 [00:26&lt;00:00,  1.26it/s]"
      }
     },
     "25f4ae7716ec4064a098ce43ed9dc07b": {
      "model_module": "@jupyter-widgets/base",
      "model_module_version": "1.1.0",
      "model_name": "LayoutModel",
      "state": {}
     },
     "261bb2ff026f43b6b4f216849e30ee77": {
      "model_module": "@jupyter-widgets/base",
      "model_module_version": "1.1.0",
      "model_name": "LayoutModel",
      "state": {}
     },
     "26215f822fd1438abf1aaa3116d48698": {
      "model_module": "@jupyter-widgets/controls",
      "model_module_version": "1.4.0",
      "model_name": "ProgressStyleModel",
      "state": {
       "description_width": ""
      }
     },
     "2655072f30cc4d64a7cc5f9a14919382": {
      "model_module": "@jupyter-widgets/controls",
      "model_module_version": "1.4.0",
      "model_name": "IntProgressModel",
      "state": {
       "layout": "IPY_MODEL_5925a232c9414c60aa7bc2a41d685667",
       "max": 78,
       "style": "IPY_MODEL_4be113d77ec547229a3aedfeedd11674",
       "value": 65
      }
     },
     "26836fccd6394b339d52ed7670014c10": {
      "model_module": "@jupyter-widgets/base",
      "model_module_version": "1.1.0",
      "model_name": "LayoutModel",
      "state": {}
     },
     "269b268e1c9c42699d9c745e09ee6670": {
      "model_module": "@jupyter-widgets/controls",
      "model_module_version": "1.4.0",
      "model_name": "DescriptionStyleModel",
      "state": {
       "description_width": ""
      }
     },
     "26b6919900004e2d9a9309df243ce562": {
      "model_module": "@jupyter-widgets/base",
      "model_module_version": "1.1.0",
      "model_name": "LayoutModel",
      "state": {}
     },
     "26cadbc831e645b2812e67ddff296a08": {
      "model_module": "@jupyter-widgets/controls",
      "model_module_version": "1.4.0",
      "model_name": "HTMLModel",
      "state": {
       "layout": "IPY_MODEL_4df683708663407181a21f301098b2c7",
       "style": "IPY_MODEL_b3294872eab24e02963ef18fcf26bfc8",
       "value": "100% 17/17 [00:08&lt;00:00,  1.94it/s]"
      }
     },
     "2706a03445bc4a49bb6b9c5d3573d8fa": {
      "model_module": "@jupyter-widgets/controls",
      "model_module_version": "1.4.0",
      "model_name": "HTMLModel",
      "state": {
       "layout": "IPY_MODEL_d9cdbcf4c3a74d3eb84d32339ed0a823",
       "style": "IPY_MODEL_67940bd44e264e19aa12ee158af86767",
       "value": "100% 17/17 [00:09&lt;00:00,  1.70it/s]"
      }
     },
     "271dcae31e7a4079a1862264b5cd4295": {
      "model_module": "@jupyter-widgets/controls",
      "model_module_version": "1.4.0",
      "model_name": "HTMLModel",
      "state": {
       "layout": "IPY_MODEL_64a71e71f5cd4f3f9e97d142c72da199",
       "style": "IPY_MODEL_10ad69253fcf46bc9b1fdfff807959b3",
       "value": " 88% 69/78 [00:00&lt;00:00, 208.04it/s]"
      }
     },
     "2738dc493572473ebfa841d2d3e03f8b": {
      "model_module": "@jupyter-widgets/controls",
      "model_module_version": "1.4.0",
      "model_name": "ProgressStyleModel",
      "state": {
       "description_width": ""
      }
     },
     "2802b1f1dadb43988f7bf71b9462bc6f": {
      "model_module": "@jupyter-widgets/controls",
      "model_module_version": "1.4.0",
      "model_name": "HTMLModel",
      "state": {
       "layout": "IPY_MODEL_de408e7e0c0d4d09b2b73a09de918042",
       "style": "IPY_MODEL_eccf72257f6b49538a63aa863bd593f3",
       "value": " 88% 69/78 [00:00&lt;00:00, 113.60it/s]"
      }
     },
     "2807c62f0fe54f7fa0ddc634e9d35b8a": {
      "model_module": "@jupyter-widgets/controls",
      "model_module_version": "1.4.0",
      "model_name": "IntProgressModel",
      "state": {
       "layout": "IPY_MODEL_dc86bcfae0d8421a97b795a8cb1fada7",
       "max": 78,
       "style": "IPY_MODEL_a9a9c940e7af416680902dd6a03b9ecc",
       "value": 56
      }
     },
     "2814c87857d24633ac54e271a6f8781e": {
      "model_module": "@jupyter-widgets/controls",
      "model_module_version": "1.4.0",
      "model_name": "IntProgressModel",
      "state": {
       "layout": "IPY_MODEL_9955e622de804278b7070ebdedf6d2f9",
       "max": 17,
       "style": "IPY_MODEL_2aebefd8bdce4a8faf4fbdd027a52b02",
       "value": 17
      }
     },
     "2830f3a436f842c8b56da48d63be1b72": {
      "model_module": "@jupyter-widgets/controls",
      "model_module_version": "1.4.0",
      "model_name": "ProgressStyleModel",
      "state": {
       "description_width": ""
      }
     },
     "2894ba6d76174b21ad5bd712bed43e8f": {
      "model_module": "@jupyter-widgets/controls",
      "model_module_version": "1.4.0",
      "model_name": "HTMLModel",
      "state": {
       "layout": "IPY_MODEL_9b4f144363774122a4a71e317dc1f3f1",
       "style": "IPY_MODEL_c3a95a6966da4bb192a169a4b3497999",
       "value": " 62% 48/78 [00:00&lt;00:00, 230.97it/s]"
      }
     },
     "29172d3133544d46a34de540ec0c7cd1": {
      "model_module": "@jupyter-widgets/base",
      "model_module_version": "1.1.0",
      "model_name": "LayoutModel",
      "state": {}
     },
     "291af035a165426c98c0391294bc245f": {
      "model_module": "@jupyter-widgets/base",
      "model_module_version": "1.1.0",
      "model_name": "LayoutModel",
      "state": {}
     },
     "292479f7642048918bb7957ce25fc984": {
      "model_module": "@jupyter-widgets/controls",
      "model_module_version": "1.4.0",
      "model_name": "DescriptionStyleModel",
      "state": {
       "description_width": ""
      }
     },
     "2930a1c13c774393a355f85a2c57cf3e": {
      "model_module": "@jupyter-widgets/base",
      "model_module_version": "1.1.0",
      "model_name": "LayoutModel",
      "state": {}
     },
     "293f6ffcad1749b4921e1061d480fd26": {
      "model_module": "@jupyter-widgets/controls",
      "model_module_version": "1.4.0",
      "model_name": "ProgressStyleModel",
      "state": {
       "description_width": ""
      }
     },
     "296f7abebfbb42f8be13f84dad12cd07": {
      "model_module": "@jupyter-widgets/base",
      "model_module_version": "1.1.0",
      "model_name": "LayoutModel",
      "state": {}
     },
     "29da58ead1d54ccf95389dd3a33832c4": {
      "model_module": "@jupyter-widgets/controls",
      "model_module_version": "1.4.0",
      "model_name": "ProgressStyleModel",
      "state": {
       "description_width": ""
      }
     },
     "2a28014d6a244aa6ac0ec11af6a370b6": {
      "model_module": "@jupyter-widgets/base",
      "model_module_version": "1.1.0",
      "model_name": "LayoutModel",
      "state": {}
     },
     "2a3cc59f6e894392a74fe6359a409755": {
      "model_module": "@jupyter-widgets/controls",
      "model_module_version": "1.4.0",
      "model_name": "DescriptionStyleModel",
      "state": {
       "description_width": ""
      }
     },
     "2a5789d084764113ba5dc3a3f4650f5a": {
      "model_module": "@jupyter-widgets/base",
      "model_module_version": "1.1.0",
      "model_name": "LayoutModel",
      "state": {}
     },
     "2a69a8f9540f4551ba2f484604e4dfe6": {
      "model_module": "@jupyter-widgets/controls",
      "model_module_version": "1.4.0",
      "model_name": "ProgressStyleModel",
      "state": {
       "description_width": ""
      }
     },
     "2a6d39fb10114be3bccfca4f924c33e7": {
      "model_module": "@jupyter-widgets/base",
      "model_module_version": "1.1.0",
      "model_name": "LayoutModel",
      "state": {}
     },
     "2a8dd3a226e241ef8cd1802c7a9bd0ad": {
      "model_module": "@jupyter-widgets/controls",
      "model_module_version": "1.4.0",
      "model_name": "DescriptionStyleModel",
      "state": {
       "description_width": ""
      }
     },
     "2ab802144ad84304a53a08a2145629f9": {
      "model_module": "@jupyter-widgets/base",
      "model_module_version": "1.1.0",
      "model_name": "LayoutModel",
      "state": {}
     },
     "2aebefd8bdce4a8faf4fbdd027a52b02": {
      "model_module": "@jupyter-widgets/controls",
      "model_module_version": "1.4.0",
      "model_name": "ProgressStyleModel",
      "state": {
       "description_width": ""
      }
     },
     "2b419020736b48c5ab1eb6bb73f661ad": {
      "model_module": "@jupyter-widgets/base",
      "model_module_version": "1.1.0",
      "model_name": "LayoutModel",
      "state": {}
     },
     "2b6d714fb44640aea7684f80efe5eebf": {
      "model_module": "@jupyter-widgets/controls",
      "model_module_version": "1.4.0",
      "model_name": "DescriptionStyleModel",
      "state": {
       "description_width": ""
      }
     },
     "2b9daa246cbb46df9a66d27ed92ecb16": {
      "model_module": "@jupyter-widgets/controls",
      "model_module_version": "1.4.0",
      "model_name": "DescriptionStyleModel",
      "state": {
       "description_width": ""
      }
     },
     "2bb1da8ff3b146578ea46817f70fc51a": {
      "model_module": "@jupyter-widgets/base",
      "model_module_version": "1.1.0",
      "model_name": "LayoutModel",
      "state": {}
     },
     "2bf1cfc9ac7945fab87869d9c0e08d42": {
      "model_module": "@jupyter-widgets/controls",
      "model_module_version": "1.4.0",
      "model_name": "DescriptionStyleModel",
      "state": {
       "description_width": ""
      }
     },
     "2bf737a6fdb84ea586fe0c210388edf4": {
      "model_module": "@jupyter-widgets/base",
      "model_module_version": "1.1.0",
      "model_name": "LayoutModel",
      "state": {}
     },
     "2c0c91be8b474123b9913c91df21c1bf": {
      "model_module": "@jupyter-widgets/base",
      "model_module_version": "1.1.0",
      "model_name": "LayoutModel",
      "state": {}
     },
     "2c1f8bcaa93640aea7fcbc7b79e7f731": {
      "model_module": "@jupyter-widgets/controls",
      "model_module_version": "1.4.0",
      "model_name": "HTMLModel",
      "state": {
       "layout": "IPY_MODEL_54d540d86c064d1d8fef5bc9f7f2d1a8",
       "style": "IPY_MODEL_4cd4eb5a9a00469c8b3202dd69bb3ebe",
       "value": " 23% 18/78 [00:00&lt;00:00, 177.15it/s]"
      }
     },
     "2c764c03e20b4f699ea7205e7395fa3d": {
      "model_module": "@jupyter-widgets/controls",
      "model_module_version": "1.4.0",
      "model_name": "IntProgressModel",
      "state": {
       "layout": "IPY_MODEL_6d83e13720b14bcf9b3cae85307779db",
       "max": 78,
       "style": "IPY_MODEL_fc51297a16ef4bbba906697039a095d4",
       "value": 37
      }
     },
     "2c904d5202164b0cba5120ba8b0a2484": {
      "model_module": "@jupyter-widgets/controls",
      "model_module_version": "1.4.0",
      "model_name": "IntProgressModel",
      "state": {
       "layout": "IPY_MODEL_f12ed51f0300453b9a466436517b3fb8",
       "max": 34,
       "style": "IPY_MODEL_4d1917d15c5a4583957e81d32e84496d",
       "value": 34
      }
     },
     "2cc152fa15a04b869cbf084493fe1654": {
      "model_module": "@jupyter-widgets/base",
      "model_module_version": "1.1.0",
      "model_name": "LayoutModel",
      "state": {}
     },
     "2cc8abe3e5b2464d8d8754595e17e61e": {
      "model_module": "@jupyter-widgets/base",
      "model_module_version": "1.1.0",
      "model_name": "LayoutModel",
      "state": {}
     },
     "2db8c8d4a9ea4548aeeecf39c4523035": {
      "model_module": "@jupyter-widgets/controls",
      "model_module_version": "1.4.0",
      "model_name": "HBoxModel",
      "state": {
       "children": [
        "IPY_MODEL_d040a89a154a46c9a5e634b86f521919",
        "IPY_MODEL_faa63443f8384eb0b8273aa68d22f394"
       ],
       "layout": "IPY_MODEL_f99b9d36b44749ea8face8d32dbb8564"
      }
     },
     "2dce98ae5a1f4183bd295df665a13198": {
      "model_module": "@jupyter-widgets/controls",
      "model_module_version": "1.4.0",
      "model_name": "DescriptionStyleModel",
      "state": {
       "description_width": ""
      }
     },
     "2e1940cf8de64b2687bbb97cbf098338": {
      "model_module": "@jupyter-widgets/base",
      "model_module_version": "1.1.0",
      "model_name": "LayoutModel",
      "state": {}
     },
     "2e2fd5f223e44eca925b2fd9ccb6800c": {
      "model_module": "@jupyter-widgets/controls",
      "model_module_version": "1.4.0",
      "model_name": "DescriptionStyleModel",
      "state": {
       "description_width": ""
      }
     },
     "2e3cbcd5fc9e439ca285599dd7b404dc": {
      "model_module": "@jupyter-widgets/controls",
      "model_module_version": "1.4.0",
      "model_name": "DescriptionStyleModel",
      "state": {
       "description_width": ""
      }
     },
     "2effc3850a4e451caa7ca905e1971bdb": {
      "model_module": "@jupyter-widgets/controls",
      "model_module_version": "1.4.0",
      "model_name": "DescriptionStyleModel",
      "state": {
       "description_width": ""
      }
     },
     "2f023ae019684225b1f628eae6c9c098": {
      "model_module": "@jupyter-widgets/controls",
      "model_module_version": "1.4.0",
      "model_name": "DescriptionStyleModel",
      "state": {
       "description_width": ""
      }
     },
     "2f202ac6f70742d4ab6cc3fdf37c8807": {
      "model_module": "@jupyter-widgets/base",
      "model_module_version": "1.1.0",
      "model_name": "LayoutModel",
      "state": {}
     },
     "2f5c4c4aec664fce83457be3d5095208": {
      "model_module": "@jupyter-widgets/controls",
      "model_module_version": "1.4.0",
      "model_name": "DescriptionStyleModel",
      "state": {
       "description_width": ""
      }
     },
     "2f9be355a7934c7cbbe0a982bd016fb8": {
      "model_module": "@jupyter-widgets/controls",
      "model_module_version": "1.4.0",
      "model_name": "ProgressStyleModel",
      "state": {
       "description_width": ""
      }
     },
     "2faaaf8d3a8d403ea0135f4a2e47c7af": {
      "model_module": "@jupyter-widgets/base",
      "model_module_version": "1.1.0",
      "model_name": "LayoutModel",
      "state": {}
     },
     "2fc73f630b9a4b269deb52948bd2e1b3": {
      "model_module": "@jupyter-widgets/controls",
      "model_module_version": "1.4.0",
      "model_name": "ProgressStyleModel",
      "state": {
       "description_width": ""
      }
     },
     "2fda25a5c0b04851b9a57f34315a3ccb": {
      "model_module": "@jupyter-widgets/controls",
      "model_module_version": "1.4.0",
      "model_name": "HTMLModel",
      "state": {
       "layout": "IPY_MODEL_6f130a8fa77d422d8db95a2259c994cc",
       "style": "IPY_MODEL_c2daa0f329ed4634b1e5a111e706eec9",
       "value": "100% 17/17 [00:09&lt;00:00,  1.84it/s]"
      }
     },
     "2ff05e1e0bf14cd78f2b8a558159c1bd": {
      "model_module": "@jupyter-widgets/controls",
      "model_module_version": "1.4.0",
      "model_name": "DescriptionStyleModel",
      "state": {
       "description_width": ""
      }
     },
     "30755a4cb3044030a601b75e7160c282": {
      "model_module": "@jupyter-widgets/controls",
      "model_module_version": "1.4.0",
      "model_name": "IntProgressModel",
      "state": {
       "layout": "IPY_MODEL_b279e987fac446d18e6b4e54402e277f",
       "max": 78,
       "style": "IPY_MODEL_bfba7b00920d418e9a00ee955ec74f57",
       "value": 66
      }
     },
     "30a33aaf1fc14e328ad1ce1957bfcd4c": {
      "model_module": "@jupyter-widgets/base",
      "model_module_version": "1.1.0",
      "model_name": "LayoutModel",
      "state": {}
     },
     "30c70046f8c2444ea1257c3417d8d540": {
      "model_module": "@jupyter-widgets/controls",
      "model_module_version": "1.4.0",
      "model_name": "ProgressStyleModel",
      "state": {
       "description_width": ""
      }
     },
     "30e8bd5c026440948470b9b824792ff5": {
      "model_module": "@jupyter-widgets/controls",
      "model_module_version": "1.4.0",
      "model_name": "HTMLModel",
      "state": {
       "layout": "IPY_MODEL_aa8a88a7a29547aa98cb08c3629f6dab",
       "style": "IPY_MODEL_8704340815cc4792a93215494711f91b",
       "value": " 91% 71/78 [00:00&lt;00:00, 228.83it/s]"
      }
     },
     "310cbc19669e4afdb839d8e27bdf94d7": {
      "model_module": "@jupyter-widgets/base",
      "model_module_version": "1.1.0",
      "model_name": "LayoutModel",
      "state": {}
     },
     "310e5b138c88456285e57283d754fa99": {
      "model_module": "@jupyter-widgets/controls",
      "model_module_version": "1.4.0",
      "model_name": "ProgressStyleModel",
      "state": {
       "description_width": ""
      }
     },
     "3131675dd1744e9aa3dc3b1458cc6e86": {
      "model_module": "@jupyter-widgets/controls",
      "model_module_version": "1.4.0",
      "model_name": "IntProgressModel",
      "state": {
       "layout": "IPY_MODEL_2b419020736b48c5ab1eb6bb73f661ad",
       "max": 34,
       "style": "IPY_MODEL_db223fbe538b4338b0981a2e5492bb46",
       "value": 34
      }
     },
     "315f05c4a4aa4e1ea99713ae06c60b09": {
      "model_module": "@jupyter-widgets/controls",
      "model_module_version": "1.4.0",
      "model_name": "IntProgressModel",
      "state": {
       "layout": "IPY_MODEL_a44d561f16274c8294c31c2f0e2c92f5",
       "max": 17,
       "style": "IPY_MODEL_1a65a6a1b13941ea9b0f7f7bb7aa02c1",
       "value": 17
      }
     },
     "318c932217fd461186556916f61bfb76": {
      "model_module": "@jupyter-widgets/base",
      "model_module_version": "1.1.0",
      "model_name": "LayoutModel",
      "state": {}
     },
     "31d15e54d19e4c6581b9fac5cd1ba2f3": {
      "model_module": "@jupyter-widgets/base",
      "model_module_version": "1.1.0",
      "model_name": "LayoutModel",
      "state": {}
     },
     "31d9f91745164504b2cba2cd99e6f3d9": {
      "model_module": "@jupyter-widgets/base",
      "model_module_version": "1.1.0",
      "model_name": "LayoutModel",
      "state": {}
     },
     "31f2eb23db7f4a36ae05b3ec10df8f4e": {
      "model_module": "@jupyter-widgets/controls",
      "model_module_version": "1.4.0",
      "model_name": "IntProgressModel",
      "state": {
       "layout": "IPY_MODEL_3dc33993baa5467f9f204bc266544f3f",
       "max": 78,
       "style": "IPY_MODEL_199b22ce0e5f422fb327cf7d63936bba",
       "value": 53
      }
     },
     "31f30dc04820415ea71c65ff7b1d733e": {
      "model_module": "@jupyter-widgets/base",
      "model_module_version": "1.1.0",
      "model_name": "LayoutModel",
      "state": {}
     },
     "3267aa80195e4c2bb1795a33238aa2db": {
      "model_module": "@jupyter-widgets/controls",
      "model_module_version": "1.4.0",
      "model_name": "IntProgressModel",
      "state": {
       "layout": "IPY_MODEL_9a5d7d898cf144278e75e6956145b073",
       "max": 78,
       "style": "IPY_MODEL_99ed5c07d4004d0cb03c6cc92fd88328",
       "value": 75
      }
     },
     "32684bd5bb374dffa9f15f0039bd2610": {
      "model_module": "@jupyter-widgets/controls",
      "model_module_version": "1.4.0",
      "model_name": "HTMLModel",
      "state": {
       "layout": "IPY_MODEL_a64132b73ade4e3791739b6762422657",
       "style": "IPY_MODEL_9d18c2e557c745fcbc0762bcba6d6c54",
       "value": " 62% 48/78 [00:00&lt;00:00, 151.67it/s]"
      }
     },
     "326bb5067bda4499856f8f7852ae592f": {
      "model_module": "@jupyter-widgets/controls",
      "model_module_version": "1.4.0",
      "model_name": "DescriptionStyleModel",
      "state": {
       "description_width": ""
      }
     },
     "328052dc060044d68b1cca7c2adcba52": {
      "model_module": "@jupyter-widgets/base",
      "model_module_version": "1.1.0",
      "model_name": "LayoutModel",
      "state": {}
     },
     "32d30f51cb6c4014871959dbf9fef86a": {
      "model_module": "@jupyter-widgets/controls",
      "model_module_version": "1.4.0",
      "model_name": "ProgressStyleModel",
      "state": {
       "description_width": ""
      }
     },
     "32ffb2b9c6e54f68a03ecba81079d60a": {
      "model_module": "@jupyter-widgets/controls",
      "model_module_version": "1.4.0",
      "model_name": "HTMLModel",
      "state": {
       "layout": "IPY_MODEL_0a9bafedb54541309aa82de34091fa41",
       "style": "IPY_MODEL_fbf80aabdb4842d187db5ec2ace2f8db",
       "value": " 99% 77/78 [00:00&lt;00:00, 252.42it/s]"
      }
     },
     "3335f6a47f7d47589900e177f9ac1be0": {
      "model_module": "@jupyter-widgets/base",
      "model_module_version": "1.1.0",
      "model_name": "LayoutModel",
      "state": {}
     },
     "33cb44466142464cb4e650affdcc5230": {
      "model_module": "@jupyter-widgets/controls",
      "model_module_version": "1.4.0",
      "model_name": "DescriptionStyleModel",
      "state": {
       "description_width": ""
      }
     },
     "33cda33274d5470397b339ec0afaab98": {
      "model_module": "@jupyter-widgets/controls",
      "model_module_version": "1.4.0",
      "model_name": "ProgressStyleModel",
      "state": {
       "description_width": ""
      }
     },
     "33eff876c7b841e2a2d018de69895038": {
      "model_module": "@jupyter-widgets/base",
      "model_module_version": "1.1.0",
      "model_name": "LayoutModel",
      "state": {}
     },
     "33f1fd14be864fff86f09d3ab4ffb4a0": {
      "model_module": "@jupyter-widgets/base",
      "model_module_version": "1.1.0",
      "model_name": "LayoutModel",
      "state": {}
     },
     "341fe0f2ccf042bd8e2da0835e3ef476": {
      "model_module": "@jupyter-widgets/base",
      "model_module_version": "1.1.0",
      "model_name": "LayoutModel",
      "state": {}
     },
     "34344f56f08c4b70bc511d60a2cb8c56": {
      "model_module": "@jupyter-widgets/base",
      "model_module_version": "1.1.0",
      "model_name": "LayoutModel",
      "state": {}
     },
     "344df04ab0c345a2be93183eef26e639": {
      "model_module": "@jupyter-widgets/controls",
      "model_module_version": "1.4.0",
      "model_name": "ProgressStyleModel",
      "state": {
       "description_width": ""
      }
     },
     "347e680425b4437fbd23a9062eb5fddd": {
      "model_module": "@jupyter-widgets/controls",
      "model_module_version": "1.4.0",
      "model_name": "HTMLModel",
      "state": {
       "layout": "IPY_MODEL_6d17a8c7a1004bd4a4f2fc5d9a39971e",
       "style": "IPY_MODEL_3cdde361d38d4dc9b5c5a7373c4c43cc",
       "value": " 85% 66/78 [00:00&lt;00:00, 190.03it/s]"
      }
     },
     "35060e7ba21640b8b504ea64e9c6ca4b": {
      "model_module": "@jupyter-widgets/controls",
      "model_module_version": "1.4.0",
      "model_name": "IntProgressModel",
      "state": {
       "layout": "IPY_MODEL_d2651da9bf0c4b4f86a2193c50da4e2c",
       "max": 78,
       "style": "IPY_MODEL_41564808e6014c129842709cc7e20fdc",
       "value": 53
      }
     },
     "350958cba9cd4acf82334d9aa99c19f3": {
      "model_module": "@jupyter-widgets/controls",
      "model_module_version": "1.4.0",
      "model_name": "IntProgressModel",
      "state": {
       "layout": "IPY_MODEL_9cb914dd591d47e28527abb0b8b1ac76",
       "max": 78,
       "style": "IPY_MODEL_3f85c843ee3949baba5d4f178d983623",
       "value": 69
      }
     },
     "351fc837c31d45228c15802e75a77c52": {
      "model_module": "@jupyter-widgets/controls",
      "model_module_version": "1.4.0",
      "model_name": "ProgressStyleModel",
      "state": {
       "description_width": ""
      }
     },
     "36658cb278d243dba5cd45713b9830c2": {
      "model_module": "@jupyter-widgets/base",
      "model_module_version": "1.1.0",
      "model_name": "LayoutModel",
      "state": {}
     },
     "37807cbc7c3a4a1bb2fb991d1f2ee162": {
      "model_module": "@jupyter-widgets/base",
      "model_module_version": "1.1.0",
      "model_name": "LayoutModel",
      "state": {}
     },
     "37b5e0ca879c43a3b492ba431f2664b4": {
      "model_module": "@jupyter-widgets/controls",
      "model_module_version": "1.4.0",
      "model_name": "ProgressStyleModel",
      "state": {
       "description_width": ""
      }
     },
     "37dd4ae1448b430a98a820f31ac5fb32": {
      "model_module": "@jupyter-widgets/base",
      "model_module_version": "1.1.0",
      "model_name": "LayoutModel",
      "state": {}
     },
     "37e35d09474548458c10adba6f1f1d1c": {
      "model_module": "@jupyter-widgets/controls",
      "model_module_version": "1.4.0",
      "model_name": "IntProgressModel",
      "state": {
       "layout": "IPY_MODEL_9a210613438542a5adf4c8f5ea68d8e1",
       "max": 17,
       "style": "IPY_MODEL_8486277339e34065b8e7e2ed8201b837",
       "value": 17
      }
     },
     "3834af83160f438fa830ec31b79c4283": {
      "model_module": "@jupyter-widgets/controls",
      "model_module_version": "1.4.0",
      "model_name": "ProgressStyleModel",
      "state": {
       "description_width": ""
      }
     },
     "385297fa70e143b3a129b7f76bf2c7d3": {
      "model_module": "@jupyter-widgets/controls",
      "model_module_version": "1.4.0",
      "model_name": "DescriptionStyleModel",
      "state": {
       "description_width": ""
      }
     },
     "3854de5b745c4dd3ac9fd44a49459441": {
      "model_module": "@jupyter-widgets/controls",
      "model_module_version": "1.4.0",
      "model_name": "IntProgressModel",
      "state": {
       "layout": "IPY_MODEL_a0610c935d0c4488adff45558d3e6dde",
       "max": 34,
       "style": "IPY_MODEL_e6654569abfc46ae9a6b9989b78dadcd",
       "value": 34
      }
     },
     "385f78735f1146f2ad093d25052aa6f5": {
      "model_module": "@jupyter-widgets/controls",
      "model_module_version": "1.4.0",
      "model_name": "ProgressStyleModel",
      "state": {
       "description_width": ""
      }
     },
     "3861f8be4f4f4cd484406a2e905294ee": {
      "model_module": "@jupyter-widgets/controls",
      "model_module_version": "1.4.0",
      "model_name": "IntProgressModel",
      "state": {
       "layout": "IPY_MODEL_59f981bbae7048389c97e4900ad682f5",
       "max": 78,
       "style": "IPY_MODEL_b85bad0a947f46c7ac5bf34bcd785ff9",
       "value": 60
      }
     },
     "387446231b2746e485b06c26c809ea17": {
      "model_module": "@jupyter-widgets/base",
      "model_module_version": "1.1.0",
      "model_name": "LayoutModel",
      "state": {}
     },
     "38dbf7cda41142ccb7c0adbae129ec31": {
      "model_module": "@jupyter-widgets/base",
      "model_module_version": "1.1.0",
      "model_name": "LayoutModel",
      "state": {}
     },
     "38dcae8808a74027847a446506fd6455": {
      "model_module": "@jupyter-widgets/controls",
      "model_module_version": "1.4.0",
      "model_name": "DescriptionStyleModel",
      "state": {
       "description_width": ""
      }
     },
     "38df975212b345bc8207976a49792c9f": {
      "model_module": "@jupyter-widgets/controls",
      "model_module_version": "1.4.0",
      "model_name": "DescriptionStyleModel",
      "state": {
       "description_width": ""
      }
     },
     "38e246c2f21d493eb858d5d3d4a96aba": {
      "model_module": "@jupyter-widgets/controls",
      "model_module_version": "1.4.0",
      "model_name": "DescriptionStyleModel",
      "state": {
       "description_width": ""
      }
     },
     "39aa3bc50617469d8b6c3ac5bd15e42f": {
      "model_module": "@jupyter-widgets/base",
      "model_module_version": "1.1.0",
      "model_name": "LayoutModel",
      "state": {}
     },
     "39af3261b31e43b1ad4d4c8df3c8f862": {
      "model_module": "@jupyter-widgets/controls",
      "model_module_version": "1.4.0",
      "model_name": "ProgressStyleModel",
      "state": {
       "description_width": ""
      }
     },
     "39b39cf1d8e341d3aadaad3bbe0dd55a": {
      "model_module": "@jupyter-widgets/base",
      "model_module_version": "1.1.0",
      "model_name": "LayoutModel",
      "state": {}
     },
     "39cec04b33c5465994a728422c5f8b17": {
      "model_module": "@jupyter-widgets/controls",
      "model_module_version": "1.4.0",
      "model_name": "ProgressStyleModel",
      "state": {
       "description_width": ""
      }
     },
     "39d6e255f19147f8a0c929e0c43bd669": {
      "model_module": "@jupyter-widgets/base",
      "model_module_version": "1.1.0",
      "model_name": "LayoutModel",
      "state": {}
     },
     "3a0e4c67972745b7b29e105808629410": {
      "model_module": "@jupyter-widgets/base",
      "model_module_version": "1.1.0",
      "model_name": "LayoutModel",
      "state": {}
     },
     "3a386f440531488ab29ebfe9426bb3dd": {
      "model_module": "@jupyter-widgets/controls",
      "model_module_version": "1.4.0",
      "model_name": "HTMLModel",
      "state": {
       "layout": "IPY_MODEL_52c3f5542946472e9012e6f7a2ac2e47",
       "style": "IPY_MODEL_d467ca74ddda45f4b2a01c9da40ec821",
       "value": "100% 17/17 [00:09&lt;00:00,  1.77it/s]"
      }
     },
     "3a476804f6144c6e8c91773c075c364a": {
      "model_module": "@jupyter-widgets/base",
      "model_module_version": "1.1.0",
      "model_name": "LayoutModel",
      "state": {}
     },
     "3a4c817876704af5b774bc9da18a59d3": {
      "model_module": "@jupyter-widgets/controls",
      "model_module_version": "1.4.0",
      "model_name": "ProgressStyleModel",
      "state": {
       "description_width": ""
      }
     },
     "3ae2e9c8f5cd4167b3a98271a4f2d134": {
      "model_module": "@jupyter-widgets/base",
      "model_module_version": "1.1.0",
      "model_name": "LayoutModel",
      "state": {}
     },
     "3b3d790597874e59a90a3292de899b7d": {
      "model_module": "@jupyter-widgets/controls",
      "model_module_version": "1.4.0",
      "model_name": "DescriptionStyleModel",
      "state": {
       "description_width": ""
      }
     },
     "3b4980f228dd4aeca5be769df423ecad": {
      "model_module": "@jupyter-widgets/base",
      "model_module_version": "1.1.0",
      "model_name": "LayoutModel",
      "state": {}
     },
     "3b572e4977964fbd9fb4b54f8ac1b61f": {
      "model_module": "@jupyter-widgets/controls",
      "model_module_version": "1.4.0",
      "model_name": "HTMLModel",
      "state": {
       "layout": "IPY_MODEL_5892d03060494d69918dddd8beaf99b2",
       "style": "IPY_MODEL_269b268e1c9c42699d9c745e09ee6670",
       "value": " 68% 53/78 [00:00&lt;00:00, 251.68it/s]"
      }
     },
     "3b5a3952bada480f892a52ff31ee0cfd": {
      "model_module": "@jupyter-widgets/controls",
      "model_module_version": "1.4.0",
      "model_name": "DescriptionStyleModel",
      "state": {
       "description_width": ""
      }
     },
     "3bd71989849c4937abfa576a99fba1dd": {
      "model_module": "@jupyter-widgets/base",
      "model_module_version": "1.1.0",
      "model_name": "LayoutModel",
      "state": {}
     },
     "3be9da321d834466b21e69e92c30906a": {
      "model_module": "@jupyter-widgets/controls",
      "model_module_version": "1.4.0",
      "model_name": "ProgressStyleModel",
      "state": {
       "description_width": ""
      }
     },
     "3c0c5f10765040bcbf07791ff3505772": {
      "model_module": "@jupyter-widgets/controls",
      "model_module_version": "1.4.0",
      "model_name": "ProgressStyleModel",
      "state": {
       "description_width": ""
      }
     },
     "3c23249ad67140adbdb78805028c1087": {
      "model_module": "@jupyter-widgets/controls",
      "model_module_version": "1.4.0",
      "model_name": "DescriptionStyleModel",
      "state": {
       "description_width": ""
      }
     },
     "3c94f6c01e1e46959ba4c79a6e4a82e5": {
      "model_module": "@jupyter-widgets/controls",
      "model_module_version": "1.4.0",
      "model_name": "HTMLModel",
      "state": {
       "layout": "IPY_MODEL_691d894a04c941ab9d32821c4450a1d5",
       "style": "IPY_MODEL_3b3d790597874e59a90a3292de899b7d",
       "value": " 64% 50/78 [00:00&lt;00:00, 245.03it/s]"
      }
     },
     "3cdde361d38d4dc9b5c5a7373c4c43cc": {
      "model_module": "@jupyter-widgets/controls",
      "model_module_version": "1.4.0",
      "model_name": "DescriptionStyleModel",
      "state": {
       "description_width": ""
      }
     },
     "3d0738f6590c4ab88e235932a6b8f151": {
      "model_module": "@jupyter-widgets/controls",
      "model_module_version": "1.4.0",
      "model_name": "DescriptionStyleModel",
      "state": {
       "description_width": ""
      }
     },
     "3d2197cc92b9454a9124f2c78be02569": {
      "model_module": "@jupyter-widgets/controls",
      "model_module_version": "1.4.0",
      "model_name": "DescriptionStyleModel",
      "state": {
       "description_width": ""
      }
     },
     "3d3eb9ed010f4c128495e3b7f12a9e9c": {
      "model_module": "@jupyter-widgets/base",
      "model_module_version": "1.1.0",
      "model_name": "LayoutModel",
      "state": {}
     },
     "3daea88c45294b62a279d77e88273bf7": {
      "model_module": "@jupyter-widgets/base",
      "model_module_version": "1.1.0",
      "model_name": "LayoutModel",
      "state": {}
     },
     "3dc33993baa5467f9f204bc266544f3f": {
      "model_module": "@jupyter-widgets/base",
      "model_module_version": "1.1.0",
      "model_name": "LayoutModel",
      "state": {}
     },
     "3dcaf1255ade43f38a285e03930af4ef": {
      "model_module": "@jupyter-widgets/controls",
      "model_module_version": "1.4.0",
      "model_name": "IntProgressModel",
      "state": {
       "layout": "IPY_MODEL_f9b131005ea84b33a3986701c875ab10",
       "max": 17,
       "style": "IPY_MODEL_b5f07aef87984849a2ed26d5c79c1657",
       "value": 17
      }
     },
     "3e08ba558d164c428847df1214ef93e2": {
      "model_module": "@jupyter-widgets/controls",
      "model_module_version": "1.4.0",
      "model_name": "ProgressStyleModel",
      "state": {
       "description_width": ""
      }
     },
     "3e175da7b96945e2876dbd6beff6b77d": {
      "model_module": "@jupyter-widgets/controls",
      "model_module_version": "1.4.0",
      "model_name": "IntProgressModel",
      "state": {
       "layout": "IPY_MODEL_e4d2a89e2702441a82f98169b081853b",
       "max": 78,
       "style": "IPY_MODEL_ced05fce02fb40ed89eb148a9173b7a3",
       "value": 47
      }
     },
     "3e28e54a3470475fa59de4a772c15605": {
      "model_module": "@jupyter-widgets/controls",
      "model_module_version": "1.4.0",
      "model_name": "DescriptionStyleModel",
      "state": {
       "description_width": ""
      }
     },
     "3e5d9b5065aa429a89bca89811778a5c": {
      "model_module": "@jupyter-widgets/base",
      "model_module_version": "1.1.0",
      "model_name": "LayoutModel",
      "state": {}
     },
     "3e862d58f08345fda5f9310926b2221f": {
      "model_module": "@jupyter-widgets/base",
      "model_module_version": "1.1.0",
      "model_name": "LayoutModel",
      "state": {}
     },
     "3eab403e13634b02840259faa55450e4": {
      "model_module": "@jupyter-widgets/base",
      "model_module_version": "1.1.0",
      "model_name": "LayoutModel",
      "state": {}
     },
     "3eefa1bce7b644beb2d6528bd55f14d6": {
      "model_module": "@jupyter-widgets/controls",
      "model_module_version": "1.4.0",
      "model_name": "DescriptionStyleModel",
      "state": {
       "description_width": ""
      }
     },
     "3efdf26e5a8241f4965be638e08d2d92": {
      "model_module": "@jupyter-widgets/controls",
      "model_module_version": "1.4.0",
      "model_name": "ProgressStyleModel",
      "state": {
       "description_width": ""
      }
     },
     "3f0abd78285c455ebac7615baa93b884": {
      "model_module": "@jupyter-widgets/base",
      "model_module_version": "1.1.0",
      "model_name": "LayoutModel",
      "state": {}
     },
     "3f85c843ee3949baba5d4f178d983623": {
      "model_module": "@jupyter-widgets/controls",
      "model_module_version": "1.4.0",
      "model_name": "ProgressStyleModel",
      "state": {
       "description_width": ""
      }
     },
     "3fcd0c3a24a242e79711944a8c8bac31": {
      "model_module": "@jupyter-widgets/controls",
      "model_module_version": "1.4.0",
      "model_name": "ProgressStyleModel",
      "state": {
       "description_width": ""
      }
     },
     "3ffd854b40924accba6f1446e3e0c8b4": {
      "model_module": "@jupyter-widgets/base",
      "model_module_version": "1.1.0",
      "model_name": "LayoutModel",
      "state": {}
     },
     "406335a568404dea8822b634db545b07": {
      "model_module": "@jupyter-widgets/base",
      "model_module_version": "1.1.0",
      "model_name": "LayoutModel",
      "state": {}
     },
     "40aca802e0e846e896af33dd6ad46c68": {
      "model_module": "@jupyter-widgets/controls",
      "model_module_version": "1.4.0",
      "model_name": "IntProgressModel",
      "state": {
       "layout": "IPY_MODEL_119c65e6acf6453883002fb94ad321e3",
       "max": 78,
       "style": "IPY_MODEL_f6a8a9e3160945f2b345a7fbf99a713e",
       "value": 46
      }
     },
     "410d3128387d4ea69f2fc2269eff4281": {
      "model_module": "@jupyter-widgets/base",
      "model_module_version": "1.1.0",
      "model_name": "LayoutModel",
      "state": {}
     },
     "413700dc65224548847e9bad452bb9a6": {
      "model_module": "@jupyter-widgets/controls",
      "model_module_version": "1.4.0",
      "model_name": "HTMLModel",
      "state": {
       "layout": "IPY_MODEL_fc19695ed3084898ade9619d6670c5a0",
       "style": "IPY_MODEL_e065c6376e3a463e98cd764a3d5feda0",
       "value": "100% 34/34 [00:22&lt;00:00,  1.50it/s]"
      }
     },
     "41564808e6014c129842709cc7e20fdc": {
      "model_module": "@jupyter-widgets/controls",
      "model_module_version": "1.4.0",
      "model_name": "ProgressStyleModel",
      "state": {
       "description_width": ""
      }
     },
     "415e6fe2091c47eb8eea45b77d99734e": {
      "model_module": "@jupyter-widgets/base",
      "model_module_version": "1.1.0",
      "model_name": "LayoutModel",
      "state": {}
     },
     "4163ad5f0e804857b286548bdd05cad6": {
      "model_module": "@jupyter-widgets/controls",
      "model_module_version": "1.4.0",
      "model_name": "DescriptionStyleModel",
      "state": {
       "description_width": ""
      }
     },
     "41e78784a50d4a22a023146868f3b81e": {
      "model_module": "@jupyter-widgets/base",
      "model_module_version": "1.1.0",
      "model_name": "LayoutModel",
      "state": {}
     },
     "420b75dc7d8a4b248da79e1117ca03d1": {
      "model_module": "@jupyter-widgets/controls",
      "model_module_version": "1.4.0",
      "model_name": "HTMLModel",
      "state": {
       "layout": "IPY_MODEL_ef5629f0a31e49f8a19618855403f43f",
       "style": "IPY_MODEL_1f218c6a09164c3fb981a0fff0e39680",
       "value": " 78% 61/78 [00:00&lt;00:00, 304.23it/s]"
      }
     },
     "425c07fed1d94ee399a820d0fffd7e8c": {
      "model_module": "@jupyter-widgets/base",
      "model_module_version": "1.1.0",
      "model_name": "LayoutModel",
      "state": {}
     },
     "42a18a05807249a6bed8933aea775630": {
      "model_module": "@jupyter-widgets/base",
      "model_module_version": "1.1.0",
      "model_name": "LayoutModel",
      "state": {}
     },
     "42f2e62be03d46e2836f1ef122f523f4": {
      "model_module": "@jupyter-widgets/base",
      "model_module_version": "1.1.0",
      "model_name": "LayoutModel",
      "state": {}
     },
     "430b73a412ae47b9a0c93df024f74c9c": {
      "model_module": "@jupyter-widgets/controls",
      "model_module_version": "1.4.0",
      "model_name": "HTMLModel",
      "state": {
       "layout": "IPY_MODEL_8f7b6f8870bc49cd93a3dc6b58dece67",
       "style": "IPY_MODEL_dd3b82f71c9443c39a4d7b75656d9c6c",
       "value": "100% 17/17 [00:10&lt;00:00,  1.67it/s]"
      }
     },
     "436ee61c8b8e448a997c9c9ebce55381": {
      "model_module": "@jupyter-widgets/base",
      "model_module_version": "1.1.0",
      "model_name": "LayoutModel",
      "state": {}
     },
     "437fe01c5a20441cbc129b0b832e2527": {
      "model_module": "@jupyter-widgets/controls",
      "model_module_version": "1.4.0",
      "model_name": "HTMLModel",
      "state": {
       "layout": "IPY_MODEL_af27a329d3c94f53a7adde60dbf8a776",
       "style": "IPY_MODEL_deb755d9550845e1ab3539a048a4ada1",
       "value": "100% 17/17 [00:09&lt;00:00,  1.75it/s]"
      }
     },
     "438bb9fbc01a4ee0ab6eb3b1856f945a": {
      "model_module": "@jupyter-widgets/controls",
      "model_module_version": "1.4.0",
      "model_name": "ProgressStyleModel",
      "state": {
       "description_width": ""
      }
     },
     "43a032ab61034c038c1d28a6fc922a5a": {
      "model_module": "@jupyter-widgets/base",
      "model_module_version": "1.1.0",
      "model_name": "LayoutModel",
      "state": {}
     },
     "43bdf86b282d4dc59afc9a353259cc04": {
      "model_module": "@jupyter-widgets/base",
      "model_module_version": "1.1.0",
      "model_name": "LayoutModel",
      "state": {}
     },
     "43d796ade2134b5e84dff75b95967744": {
      "model_module": "@jupyter-widgets/base",
      "model_module_version": "1.1.0",
      "model_name": "LayoutModel",
      "state": {}
     },
     "43e781a7cb9c4589b3019d308207a636": {
      "model_module": "@jupyter-widgets/controls",
      "model_module_version": "1.4.0",
      "model_name": "ProgressStyleModel",
      "state": {
       "description_width": ""
      }
     },
     "43ef4cf350484ea99bb33c486f6020e0": {
      "model_module": "@jupyter-widgets/controls",
      "model_module_version": "1.4.0",
      "model_name": "IntProgressModel",
      "state": {
       "layout": "IPY_MODEL_aeadd6b0c7b84572893be8f59a5c8794",
       "max": 78,
       "style": "IPY_MODEL_917aa7ebfe154ee5a7e2224a56fcf666",
       "value": 74
      }
     },
     "444ff8e714e247f1bfabcee2121611de": {
      "model_module": "@jupyter-widgets/base",
      "model_module_version": "1.1.0",
      "model_name": "LayoutModel",
      "state": {}
     },
     "44e905c8b6f34b5fb9e9fb018835eddc": {
      "model_module": "@jupyter-widgets/base",
      "model_module_version": "1.1.0",
      "model_name": "LayoutModel",
      "state": {}
     },
     "4516a116fd764f0e9f1508c9f52bd8f9": {
      "model_module": "@jupyter-widgets/controls",
      "model_module_version": "1.4.0",
      "model_name": "IntProgressModel",
      "state": {
       "layout": "IPY_MODEL_39b39cf1d8e341d3aadaad3bbe0dd55a",
       "max": 78,
       "style": "IPY_MODEL_0f431648a9874fbeb3a9c170f9694004",
       "value": 78
      }
     },
     "4516dd4a876744f68070e0ae843b08cd": {
      "model_module": "@jupyter-widgets/controls",
      "model_module_version": "1.4.0",
      "model_name": "HTMLModel",
      "state": {
       "layout": "IPY_MODEL_24c801daeba34878b77be7000538a405",
       "style": "IPY_MODEL_73a5d094bef546348b0be889bb81c0f8",
       "value": "100% 17/17 [00:09&lt;00:00,  1.87it/s]"
      }
     },
     "455102eee2364c45bbcbe5d77c060d15": {
      "model_module": "@jupyter-widgets/controls",
      "model_module_version": "1.4.0",
      "model_name": "IntProgressModel",
      "state": {
       "layout": "IPY_MODEL_db02d684005d42d1b7db1e92861b6e77",
       "max": 34,
       "style": "IPY_MODEL_f3d2e54313644b5593a176036380ab8f",
       "value": 34
      }
     },
     "45c06aca572d4a028e05994d9b825ee4": {
      "model_module": "@jupyter-widgets/controls",
      "model_module_version": "1.4.0",
      "model_name": "IntProgressModel",
      "state": {
       "layout": "IPY_MODEL_12ce51bf1f0f48f18143e68abbd14be7",
       "max": 17,
       "style": "IPY_MODEL_da204a7eb3c54d559d3ab7ae9eee72a5",
       "value": 17
      }
     },
     "45d7f39f513b4627a0d860d8488a82d6": {
      "model_module": "@jupyter-widgets/base",
      "model_module_version": "1.1.0",
      "model_name": "LayoutModel",
      "state": {}
     },
     "460c7df2b1214dd4ba8bdc2f0a18dfb3": {
      "model_module": "@jupyter-widgets/controls",
      "model_module_version": "1.4.0",
      "model_name": "ProgressStyleModel",
      "state": {
       "description_width": ""
      }
     },
     "4615133accc94805ab9f5af2c8d95804": {
      "model_module": "@jupyter-widgets/controls",
      "model_module_version": "1.4.0",
      "model_name": "IntProgressModel",
      "state": {
       "layout": "IPY_MODEL_bc9d9ea5a10e42898e464175ec5527ad",
       "max": 78,
       "style": "IPY_MODEL_ae033c0e9b3245479ae4f47d71390910",
       "value": 47
      }
     },
     "462ff9e34adf43fab176c907c5b348b3": {
      "model_module": "@jupyter-widgets/controls",
      "model_module_version": "1.4.0",
      "model_name": "DescriptionStyleModel",
      "state": {
       "description_width": ""
      }
     },
     "463e5ea7b8e54a96a1c29f64b26b9b43": {
      "model_module": "@jupyter-widgets/base",
      "model_module_version": "1.1.0",
      "model_name": "LayoutModel",
      "state": {}
     },
     "463ea8053bc74dafaadd4d5b25e51ad9": {
      "model_module": "@jupyter-widgets/controls",
      "model_module_version": "1.4.0",
      "model_name": "ProgressStyleModel",
      "state": {
       "description_width": ""
      }
     },
     "466668de4e1146e2966338dc275e2501": {
      "model_module": "@jupyter-widgets/controls",
      "model_module_version": "1.4.0",
      "model_name": "DescriptionStyleModel",
      "state": {
       "description_width": ""
      }
     },
     "467ad5875537481bacf5fe2fb966b47d": {
      "model_module": "@jupyter-widgets/controls",
      "model_module_version": "1.4.0",
      "model_name": "HTMLModel",
      "state": {
       "layout": "IPY_MODEL_42f2e62be03d46e2836f1ef122f523f4",
       "style": "IPY_MODEL_d2bc1cb4681a4d05937df9042f592a15",
       "value": " 62% 48/78 [00:00&lt;00:00, 228.36it/s]"
      }
     },
     "4696211e81bb4a0d854a83f94848d5a2": {
      "model_module": "@jupyter-widgets/base",
      "model_module_version": "1.1.0",
      "model_name": "LayoutModel",
      "state": {}
     },
     "46bdde8d27424b4088bcdb492861317f": {
      "model_module": "@jupyter-widgets/base",
      "model_module_version": "1.1.0",
      "model_name": "LayoutModel",
      "state": {}
     },
     "46cb03c18dd5404ba5fc338596de3013": {
      "model_module": "@jupyter-widgets/base",
      "model_module_version": "1.1.0",
      "model_name": "LayoutModel",
      "state": {}
     },
     "46e79334e3df401b909555e3a5440e4c": {
      "model_module": "@jupyter-widgets/base",
      "model_module_version": "1.1.0",
      "model_name": "LayoutModel",
      "state": {}
     },
     "46fab80bb6834537983b432ce85c99bf": {
      "model_module": "@jupyter-widgets/base",
      "model_module_version": "1.1.0",
      "model_name": "LayoutModel",
      "state": {}
     },
     "470885ea567f40eaa8dccd30c403eb5b": {
      "model_module": "@jupyter-widgets/base",
      "model_module_version": "1.1.0",
      "model_name": "LayoutModel",
      "state": {}
     },
     "474c990043a74060b0d865ecade85714": {
      "model_module": "@jupyter-widgets/controls",
      "model_module_version": "1.4.0",
      "model_name": "IntProgressModel",
      "state": {
       "layout": "IPY_MODEL_31d15e54d19e4c6581b9fac5cd1ba2f3",
       "max": 78,
       "style": "IPY_MODEL_199a0fae227640eba67669d42e803ddf",
       "value": 48
      }
     },
     "4754782ff8d542378263557f8712a01f": {
      "model_module": "@jupyter-widgets/base",
      "model_module_version": "1.1.0",
      "model_name": "LayoutModel",
      "state": {}
     },
     "47776f428374469e805778ff64d8391b": {
      "model_module": "@jupyter-widgets/controls",
      "model_module_version": "1.4.0",
      "model_name": "ProgressStyleModel",
      "state": {
       "description_width": ""
      }
     },
     "47b3da9a0e3e4964a35dbc0975fba4cc": {
      "model_module": "@jupyter-widgets/controls",
      "model_module_version": "1.4.0",
      "model_name": "DescriptionStyleModel",
      "state": {
       "description_width": ""
      }
     },
     "47e68e5c19e7439fb7c2edeb39dc172e": {
      "model_module": "@jupyter-widgets/base",
      "model_module_version": "1.1.0",
      "model_name": "LayoutModel",
      "state": {}
     },
     "481114528ed0485c8d14f40ced779a03": {
      "model_module": "@jupyter-widgets/controls",
      "model_module_version": "1.4.0",
      "model_name": "ProgressStyleModel",
      "state": {
       "description_width": ""
      }
     },
     "4874fc85275c40a4b4e6e45b89d6ee6e": {
      "model_module": "@jupyter-widgets/controls",
      "model_module_version": "1.4.0",
      "model_name": "ProgressStyleModel",
      "state": {
       "description_width": ""
      }
     },
     "48cfd94297294f3ca0c7af4f7cdf3be5": {
      "model_module": "@jupyter-widgets/base",
      "model_module_version": "1.1.0",
      "model_name": "LayoutModel",
      "state": {}
     },
     "491313488d4e4e28bef28817f9df59b9": {
      "model_module": "@jupyter-widgets/base",
      "model_module_version": "1.1.0",
      "model_name": "LayoutModel",
      "state": {}
     },
     "491329f71d89481bbc9a53761324d2ea": {
      "model_module": "@jupyter-widgets/controls",
      "model_module_version": "1.4.0",
      "model_name": "IntProgressModel",
      "state": {
       "layout": "IPY_MODEL_10ffefdf493c4695b9fc1ba8d598172c",
       "max": 17,
       "style": "IPY_MODEL_f5efef4e99db4290882f5c1c21d53e67",
       "value": 17
      }
     },
     "4916642caeeb44d3be9e456ca1a293c3": {
      "model_module": "@jupyter-widgets/controls",
      "model_module_version": "1.4.0",
      "model_name": "DescriptionStyleModel",
      "state": {
       "description_width": ""
      }
     },
     "492af817d27245fda77ab519440161d8": {
      "model_module": "@jupyter-widgets/base",
      "model_module_version": "1.1.0",
      "model_name": "LayoutModel",
      "state": {}
     },
     "499c705ac918413c97861eb9e0420e56": {
      "model_module": "@jupyter-widgets/controls",
      "model_module_version": "1.4.0",
      "model_name": "HTMLModel",
      "state": {
       "layout": "IPY_MODEL_f6ef109863c043dc9a0c23fdf29aa84e",
       "style": "IPY_MODEL_8a8db86dff1a48eea4e329ededb0c4da",
       "value": "100% 34/34 [00:34&lt;00:00,  1.02s/it]"
      }
     },
     "4a411d82b22c4dd990e25567a1c6d3e1": {
      "model_module": "@jupyter-widgets/controls",
      "model_module_version": "1.4.0",
      "model_name": "HTMLModel",
      "state": {
       "layout": "IPY_MODEL_004a93348bd64a9fbc37b2620a6fd057",
       "style": "IPY_MODEL_02eed6ecfcbd4bc7bb54908155ee5dba",
       "value": " 96% 75/78 [00:00&lt;00:00, 245.25it/s]"
      }
     },
     "4ae598a4d23148a7a6c7d06c1a7e3e2a": {
      "model_module": "@jupyter-widgets/controls",
      "model_module_version": "1.4.0",
      "model_name": "HTMLModel",
      "state": {
       "layout": "IPY_MODEL_009fa421611b4f859cb427b4cee6d4f6",
       "style": "IPY_MODEL_c2a77e57f6c54abe95b5143cecb02f45",
       "value": "100% 34/34 [00:27&lt;00:00,  1.23it/s]"
      }
     },
     "4afd44c69237460080eedbb7ac894c72": {
      "model_module": "@jupyter-widgets/base",
      "model_module_version": "1.1.0",
      "model_name": "LayoutModel",
      "state": {}
     },
     "4b2d878b1b284bd8b0a8ce6931a58325": {
      "model_module": "@jupyter-widgets/controls",
      "model_module_version": "1.4.0",
      "model_name": "DescriptionStyleModel",
      "state": {
       "description_width": ""
      }
     },
     "4b3b300b3313483986bfd061d7851982": {
      "model_module": "@jupyter-widgets/controls",
      "model_module_version": "1.4.0",
      "model_name": "IntProgressModel",
      "state": {
       "layout": "IPY_MODEL_444ff8e714e247f1bfabcee2121611de",
       "max": 17,
       "style": "IPY_MODEL_b976ac63e5e94e519a9971106dac5c4d",
       "value": 17
      }
     },
     "4b797ede49dc4f2190d2f626ff7b8b3b": {
      "model_module": "@jupyter-widgets/base",
      "model_module_version": "1.1.0",
      "model_name": "LayoutModel",
      "state": {}
     },
     "4b943f2351184a8dbdbe9aa8c5a849fb": {
      "model_module": "@jupyter-widgets/controls",
      "model_module_version": "1.4.0",
      "model_name": "IntProgressModel",
      "state": {
       "layout": "IPY_MODEL_e2199066fa96471aa8f8c036fb5acd88",
       "max": 34,
       "style": "IPY_MODEL_2fc73f630b9a4b269deb52948bd2e1b3",
       "value": 34
      }
     },
     "4baab1483e0944119f02b8ef63fa7277": {
      "model_module": "@jupyter-widgets/base",
      "model_module_version": "1.1.0",
      "model_name": "LayoutModel",
      "state": {}
     },
     "4be113d77ec547229a3aedfeedd11674": {
      "model_module": "@jupyter-widgets/controls",
      "model_module_version": "1.4.0",
      "model_name": "ProgressStyleModel",
      "state": {
       "description_width": ""
      }
     },
     "4c02a042aaea45c18fa0d3b72cb127d3": {
      "model_module": "@jupyter-widgets/base",
      "model_module_version": "1.1.0",
      "model_name": "LayoutModel",
      "state": {}
     },
     "4c2004e424354101b084e9d3c8919ac1": {
      "model_module": "@jupyter-widgets/controls",
      "model_module_version": "1.4.0",
      "model_name": "DescriptionStyleModel",
      "state": {
       "description_width": ""
      }
     },
     "4c223eadd614465c8cd3167c63460aae": {
      "model_module": "@jupyter-widgets/base",
      "model_module_version": "1.1.0",
      "model_name": "LayoutModel",
      "state": {}
     },
     "4c39a1b4b7824847a90e5f445f254b92": {
      "model_module": "@jupyter-widgets/controls",
      "model_module_version": "1.4.0",
      "model_name": "ProgressStyleModel",
      "state": {
       "description_width": ""
      }
     },
     "4c3c43681fbf47d68a7c48fc0a26b3ca": {
      "model_module": "@jupyter-widgets/controls",
      "model_module_version": "1.4.0",
      "model_name": "ProgressStyleModel",
      "state": {
       "description_width": ""
      }
     },
     "4cadb2380cc84f4dac67127efc5d687a": {
      "model_module": "@jupyter-widgets/base",
      "model_module_version": "1.1.0",
      "model_name": "LayoutModel",
      "state": {}
     },
     "4cc5b58989bc4e1cbe782729d9b85603": {
      "model_module": "@jupyter-widgets/base",
      "model_module_version": "1.1.0",
      "model_name": "LayoutModel",
      "state": {}
     },
     "4cd4eb5a9a00469c8b3202dd69bb3ebe": {
      "model_module": "@jupyter-widgets/controls",
      "model_module_version": "1.4.0",
      "model_name": "DescriptionStyleModel",
      "state": {
       "description_width": ""
      }
     },
     "4cd66bf927904e3c84ba74b03d3c2d78": {
      "model_module": "@jupyter-widgets/base",
      "model_module_version": "1.1.0",
      "model_name": "LayoutModel",
      "state": {}
     },
     "4cd76c9a636445eeaa813f218d60a0bb": {
      "model_module": "@jupyter-widgets/base",
      "model_module_version": "1.1.0",
      "model_name": "LayoutModel",
      "state": {}
     },
     "4d1917d15c5a4583957e81d32e84496d": {
      "model_module": "@jupyter-widgets/controls",
      "model_module_version": "1.4.0",
      "model_name": "ProgressStyleModel",
      "state": {
       "description_width": ""
      }
     },
     "4d2e5907f1734e679227896369fe775b": {
      "model_module": "@jupyter-widgets/controls",
      "model_module_version": "1.4.0",
      "model_name": "IntProgressModel",
      "state": {
       "layout": "IPY_MODEL_8a860f6dfb754e7983f7be7329b7cd4f",
       "max": 17,
       "style": "IPY_MODEL_344df04ab0c345a2be93183eef26e639",
       "value": 17
      }
     },
     "4d4370f094f14fa9b79b9424431ae447": {
      "model_module": "@jupyter-widgets/controls",
      "model_module_version": "1.4.0",
      "model_name": "HTMLModel",
      "state": {
       "layout": "IPY_MODEL_a01448ec2dc0425c801369e293dfa3a7",
       "style": "IPY_MODEL_63b35380e4ea471d98dc1488a28e3872",
       "value": "100% 34/34 [00:28&lt;00:00,  1.19it/s]"
      }
     },
     "4d4ceb423cd347f9ab1bba4cb36e51e1": {
      "model_module": "@jupyter-widgets/base",
      "model_module_version": "1.1.0",
      "model_name": "LayoutModel",
      "state": {}
     },
     "4d88176188c74cb880c4349a4085d14d": {
      "model_module": "@jupyter-widgets/controls",
      "model_module_version": "1.4.0",
      "model_name": "HTMLModel",
      "state": {
       "layout": "IPY_MODEL_05251ae5d9b041d6a915e532dbd41051",
       "style": "IPY_MODEL_59956b80d66b413cb87f6e654bf4471a",
       "value": " 81% 63/78 [00:00&lt;00:00, 251.36it/s]"
      }
     },
     "4d8fbdcee5f24df9951e970d54563924": {
      "model_module": "@jupyter-widgets/controls",
      "model_module_version": "1.4.0",
      "model_name": "HTMLModel",
      "state": {
       "layout": "IPY_MODEL_b8cf0616fab1467184deab8c952069d8",
       "style": "IPY_MODEL_0c5e2b115d534390903026ffe2d3402c",
       "value": " 85% 66/78 [00:00&lt;00:00, 182.57it/s]"
      }
     },
     "4da2327af79a41fe8aedda6d7b5681ae": {
      "model_module": "@jupyter-widgets/controls",
      "model_module_version": "1.4.0",
      "model_name": "DescriptionStyleModel",
      "state": {
       "description_width": ""
      }
     },
     "4dc1fde6d968459996ad1dfa8647ad38": {
      "model_module": "@jupyter-widgets/base",
      "model_module_version": "1.1.0",
      "model_name": "LayoutModel",
      "state": {}
     },
     "4df683708663407181a21f301098b2c7": {
      "model_module": "@jupyter-widgets/base",
      "model_module_version": "1.1.0",
      "model_name": "LayoutModel",
      "state": {}
     },
     "4e3d403ac9374fb8868582eea6ed010a": {
      "model_module": "@jupyter-widgets/controls",
      "model_module_version": "1.4.0",
      "model_name": "IntProgressModel",
      "state": {
       "layout": "IPY_MODEL_60f0894cedd94000aeb410347ee6e5b2",
       "max": 17,
       "style": "IPY_MODEL_dad6d842944043c49a8ace3815f76004",
       "value": 17
      }
     },
     "4e9fc86a74a241e495970415f88c0f6d": {
      "model_module": "@jupyter-widgets/controls",
      "model_module_version": "1.4.0",
      "model_name": "HBoxModel",
      "state": {
       "children": [
        "IPY_MODEL_6d011040c0c540d78c725be828bdc15e",
        "IPY_MODEL_daf4f1ffa39a47298b4c8eccbcd6142a"
       ],
       "layout": "IPY_MODEL_18c007070bd94b56bd8d11727c2f5e00"
      }
     },
     "4edbb06962374d9a9c24d84b091ebb2a": {
      "model_module": "@jupyter-widgets/controls",
      "model_module_version": "1.4.0",
      "model_name": "DescriptionStyleModel",
      "state": {
       "description_width": ""
      }
     },
     "4ee8d1a8ac7a4c27b1dbdf4e6610a82e": {
      "model_module": "@jupyter-widgets/base",
      "model_module_version": "1.1.0",
      "model_name": "LayoutModel",
      "state": {}
     },
     "4f193967ec5542f9a5ceaa70f372120d": {
      "model_module": "@jupyter-widgets/base",
      "model_module_version": "1.1.0",
      "model_name": "LayoutModel",
      "state": {}
     },
     "4f1af889966e4222afe513fe3ea708b3": {
      "model_module": "@jupyter-widgets/controls",
      "model_module_version": "1.4.0",
      "model_name": "ProgressStyleModel",
      "state": {
       "description_width": ""
      }
     },
     "4f29bcb6173946efbf906db16f2783ea": {
      "model_module": "@jupyter-widgets/controls",
      "model_module_version": "1.4.0",
      "model_name": "HTMLModel",
      "state": {
       "layout": "IPY_MODEL_1d0b920b735647089dac034ad2fe7fe5",
       "style": "IPY_MODEL_ea8bcfcb6337485a8caffa1cf135514c",
       "value": "100% 34/34 [00:20&lt;00:00,  1.63it/s]"
      }
     },
     "4fe5b44730cf4beb9e2f3ee94bd6923d": {
      "model_module": "@jupyter-widgets/controls",
      "model_module_version": "1.4.0",
      "model_name": "HTMLModel",
      "state": {
       "layout": "IPY_MODEL_63962f90aa57474099637af6b2bb9b24",
       "style": "IPY_MODEL_1763fc2f2a494802996ed7ce8ce61b80",
       "value": " 47% 37/78 [00:00&lt;00:00, 173.03it/s]"
      }
     },
     "50114823498a45d49c366adafe3be7e2": {
      "model_module": "@jupyter-widgets/base",
      "model_module_version": "1.1.0",
      "model_name": "LayoutModel",
      "state": {}
     },
     "5047d5b34867430bac752c7f86842f6b": {
      "model_module": "@jupyter-widgets/controls",
      "model_module_version": "1.4.0",
      "model_name": "ProgressStyleModel",
      "state": {
       "description_width": ""
      }
     },
     "505a1a8dfbbd4401b6e60be00d99442c": {
      "model_module": "@jupyter-widgets/controls",
      "model_module_version": "1.4.0",
      "model_name": "IntProgressModel",
      "state": {
       "layout": "IPY_MODEL_18c82b87faa54945aa4e026590198afb",
       "max": 78,
       "style": "IPY_MODEL_4c39a1b4b7824847a90e5f445f254b92",
       "value": 64
      }
     },
     "50bc2c6bd02c4ae899af852628dcc3a0": {
      "model_module": "@jupyter-widgets/base",
      "model_module_version": "1.1.0",
      "model_name": "LayoutModel",
      "state": {}
     },
     "50c95ff777eb4a3591ef6bf1db10aba9": {
      "model_module": "@jupyter-widgets/controls",
      "model_module_version": "1.4.0",
      "model_name": "DescriptionStyleModel",
      "state": {
       "description_width": ""
      }
     },
     "5163c009ca404d15851a846c0bf286a4": {
      "model_module": "@jupyter-widgets/controls",
      "model_module_version": "1.4.0",
      "model_name": "HTMLModel",
      "state": {
       "layout": "IPY_MODEL_0a02d6a3695b4a6ba1b4f460ad3cf576",
       "style": "IPY_MODEL_b172a8642c2e480c818cf65b34f27945",
       "value": " 90% 70/78 [00:00&lt;00:00, 337.20it/s]"
      }
     },
     "51a1f8c08acd4c6c82df46dcb3789d30": {
      "model_module": "@jupyter-widgets/controls",
      "model_module_version": "1.4.0",
      "model_name": "DescriptionStyleModel",
      "state": {
       "description_width": ""
      }
     },
     "51a5a42683514a32b55883feba13c991": {
      "model_module": "@jupyter-widgets/controls",
      "model_module_version": "1.4.0",
      "model_name": "ProgressStyleModel",
      "state": {
       "description_width": ""
      }
     },
     "52100f2332bf4903b1e5a57ca0a687d2": {
      "model_module": "@jupyter-widgets/controls",
      "model_module_version": "1.4.0",
      "model_name": "HTMLModel",
      "state": {
       "layout": "IPY_MODEL_0cc5a42f464443f3b231cabe6404f116",
       "style": "IPY_MODEL_8566bfde673e4e3e866d681f675cdd9d",
       "value": " 62% 48/78 [00:00&lt;00:00, 234.25it/s]"
      }
     },
     "5225f9d04af94156a44517af1ddd5526": {
      "model_module": "@jupyter-widgets/controls",
      "model_module_version": "1.4.0",
      "model_name": "ProgressStyleModel",
      "state": {
       "description_width": ""
      }
     },
     "5242740220d6414496a89ba70545f3e2": {
      "model_module": "@jupyter-widgets/controls",
      "model_module_version": "1.4.0",
      "model_name": "ProgressStyleModel",
      "state": {
       "description_width": ""
      }
     },
     "525ce31ba5614d9699464cd7ca705a07": {
      "model_module": "@jupyter-widgets/controls",
      "model_module_version": "1.4.0",
      "model_name": "ProgressStyleModel",
      "state": {
       "description_width": ""
      }
     },
     "52624c84553444948c6fa7cf59bc194d": {
      "model_module": "@jupyter-widgets/controls",
      "model_module_version": "1.4.0",
      "model_name": "HTMLModel",
      "state": {
       "layout": "IPY_MODEL_43bdf86b282d4dc59afc9a353259cc04",
       "style": "IPY_MODEL_78ae21ee5cdf48d1ba7eb5a2930e02b9",
       "value": "100% 34/34 [00:23&lt;00:00,  1.44it/s]"
      }
     },
     "5286b8be6ab44837bf776c1246ff6bf5": {
      "model_module": "@jupyter-widgets/controls",
      "model_module_version": "1.4.0",
      "model_name": "IntProgressModel",
      "state": {
       "layout": "IPY_MODEL_ff782dcd5f024a12913ac665b04fa349",
       "max": 78,
       "style": "IPY_MODEL_f841bb9f9e224690b7e67345fa022ad2",
       "value": 62
      }
     },
     "528b87a7773e487890c7025ae5ce4448": {
      "model_module": "@jupyter-widgets/base",
      "model_module_version": "1.1.0",
      "model_name": "LayoutModel",
      "state": {}
     },
     "5296c861006e4d68a9f1fffc5bc2c26c": {
      "model_module": "@jupyter-widgets/controls",
      "model_module_version": "1.4.0",
      "model_name": "DescriptionStyleModel",
      "state": {
       "description_width": ""
      }
     },
     "52a87a408cca4c74b97bcf7c2f5a622a": {
      "model_module": "@jupyter-widgets/base",
      "model_module_version": "1.1.0",
      "model_name": "LayoutModel",
      "state": {}
     },
     "52c3f5542946472e9012e6f7a2ac2e47": {
      "model_module": "@jupyter-widgets/base",
      "model_module_version": "1.1.0",
      "model_name": "LayoutModel",
      "state": {}
     },
     "53137aebb98b49d99c723535f6f0d2ba": {
      "model_module": "@jupyter-widgets/base",
      "model_module_version": "1.1.0",
      "model_name": "LayoutModel",
      "state": {}
     },
     "531517b7da8a42fd9be7232a0d370000": {
      "model_module": "@jupyter-widgets/base",
      "model_module_version": "1.1.0",
      "model_name": "LayoutModel",
      "state": {}
     },
     "531fe4612b8f44d7b5ff74e5f50301bb": {
      "model_module": "@jupyter-widgets/base",
      "model_module_version": "1.1.0",
      "model_name": "LayoutModel",
      "state": {}
     },
     "53226bd76c994e95ace3f8fafbbed262": {
      "model_module": "@jupyter-widgets/base",
      "model_module_version": "1.1.0",
      "model_name": "LayoutModel",
      "state": {}
     },
     "533d5a9e109b42e6af3215835ae32c80": {
      "model_module": "@jupyter-widgets/controls",
      "model_module_version": "1.4.0",
      "model_name": "ProgressStyleModel",
      "state": {
       "description_width": ""
      }
     },
     "53605c9816704684856970be0dae3a09": {
      "model_module": "@jupyter-widgets/base",
      "model_module_version": "1.1.0",
      "model_name": "LayoutModel",
      "state": {}
     },
     "536c4efd35c049e0b515fd13b37982d9": {
      "model_module": "@jupyter-widgets/base",
      "model_module_version": "1.1.0",
      "model_name": "LayoutModel",
      "state": {}
     },
     "537b3775a4c34260bc9d5ee55e791b56": {
      "model_module": "@jupyter-widgets/base",
      "model_module_version": "1.1.0",
      "model_name": "LayoutModel",
      "state": {}
     },
     "53b5f6aba66448b28837bec2bf95209c": {
      "model_module": "@jupyter-widgets/controls",
      "model_module_version": "1.4.0",
      "model_name": "IntProgressModel",
      "state": {
       "layout": "IPY_MODEL_dbd0b9030bc74973879829f3860ed063",
       "max": 78,
       "style": "IPY_MODEL_0578288db3e54ea5b5ce7dcd14098a6a",
       "value": 38
      }
     },
     "53f2c61e5b2f4bceb8eda2f46e9f0fbe": {
      "model_module": "@jupyter-widgets/base",
      "model_module_version": "1.1.0",
      "model_name": "LayoutModel",
      "state": {}
     },
     "543402464429461d8e1b395fa50de049": {
      "model_module": "@jupyter-widgets/controls",
      "model_module_version": "1.4.0",
      "model_name": "HTMLModel",
      "state": {
       "layout": "IPY_MODEL_21bf4ac2790a4ed1a24a235ca20aaa68",
       "style": "IPY_MODEL_1c2b5a8136e148c5b9b4321eb66da479",
       "value": "100% 34/34 [00:21&lt;00:00,  1.55it/s]"
      }
     },
     "5440e9ec36ec4de4b0c063f32a587ac1": {
      "model_module": "@jupyter-widgets/base",
      "model_module_version": "1.1.0",
      "model_name": "LayoutModel",
      "state": {}
     },
     "5463d772747845a7b44ebfec8733bb35": {
      "model_module": "@jupyter-widgets/controls",
      "model_module_version": "1.4.0",
      "model_name": "IntProgressModel",
      "state": {
       "layout": "IPY_MODEL_649bdaca18954c8fa11301296c030db8",
       "max": 34,
       "style": "IPY_MODEL_ee04cbebdf4048198905aabfd5fafc3f",
       "value": 34
      }
     },
     "547109a6b1414e2c9eb8975bbe555b2f": {
      "model_module": "@jupyter-widgets/base",
      "model_module_version": "1.1.0",
      "model_name": "LayoutModel",
      "state": {}
     },
     "54d540d86c064d1d8fef5bc9f7f2d1a8": {
      "model_module": "@jupyter-widgets/base",
      "model_module_version": "1.1.0",
      "model_name": "LayoutModel",
      "state": {}
     },
     "5513dbf407e441f7851089cc69bae1e5": {
      "model_module": "@jupyter-widgets/base",
      "model_module_version": "1.1.0",
      "model_name": "LayoutModel",
      "state": {}
     },
     "556abc9567574ba09ea8691288aab6c4": {
      "model_module": "@jupyter-widgets/controls",
      "model_module_version": "1.4.0",
      "model_name": "DescriptionStyleModel",
      "state": {
       "description_width": ""
      }
     },
     "55766df2bd4d4132910f94fba6c7ebc6": {
      "model_module": "@jupyter-widgets/controls",
      "model_module_version": "1.4.0",
      "model_name": "HTMLModel",
      "state": {
       "layout": "IPY_MODEL_b7bf4fd6dd3446419329ad9736fb5493",
       "style": "IPY_MODEL_facab5931b264c40b4334bedaa7e63f7",
       "value": "100% 34/34 [00:27&lt;00:00,  1.25it/s]"
      }
     },
     "55a7e2504dad4099a3d66e458d7b6f7e": {
      "model_module": "@jupyter-widgets/controls",
      "model_module_version": "1.4.0",
      "model_name": "DescriptionStyleModel",
      "state": {
       "description_width": ""
      }
     },
     "55b6c0cc789a4209b10fc95c8969b659": {
      "model_module": "@jupyter-widgets/controls",
      "model_module_version": "1.4.0",
      "model_name": "HTMLModel",
      "state": {
       "layout": "IPY_MODEL_f63d5d012afc4012a3e1bc035c2fe79b",
       "style": "IPY_MODEL_f15ae1a485fa46079a7ef93fc40b5549",
       "value": " 87% 68/78 [00:00&lt;00:00, 191.61it/s]"
      }
     },
     "55d7c241e95b431d8f831a7b03ffc43e": {
      "model_module": "@jupyter-widgets/controls",
      "model_module_version": "1.4.0",
      "model_name": "DescriptionStyleModel",
      "state": {
       "description_width": ""
      }
     },
     "55e1c3dbf8e84b2ba2140ccbe263e26b": {
      "model_module": "@jupyter-widgets/base",
      "model_module_version": "1.1.0",
      "model_name": "LayoutModel",
      "state": {}
     },
     "561b701bbdc54c1ea44a793c8d35c809": {
      "model_module": "@jupyter-widgets/base",
      "model_module_version": "1.1.0",
      "model_name": "LayoutModel",
      "state": {}
     },
     "5620d234d1704ec4ab55fde2a3df4aff": {
      "model_module": "@jupyter-widgets/base",
      "model_module_version": "1.1.0",
      "model_name": "LayoutModel",
      "state": {}
     },
     "5634efc48a854f508030f171913bb634": {
      "model_module": "@jupyter-widgets/controls",
      "model_module_version": "1.4.0",
      "model_name": "ProgressStyleModel",
      "state": {
       "description_width": ""
      }
     },
     "567763be68634d3c87ef42c528b30bdf": {
      "model_module": "@jupyter-widgets/controls",
      "model_module_version": "1.4.0",
      "model_name": "ProgressStyleModel",
      "state": {
       "description_width": ""
      }
     },
     "5678da0838fd448b9eca72560b27f1c0": {
      "model_module": "@jupyter-widgets/base",
      "model_module_version": "1.1.0",
      "model_name": "LayoutModel",
      "state": {}
     },
     "56d6ff311cb5413994a839d38d4adcb9": {
      "model_module": "@jupyter-widgets/base",
      "model_module_version": "1.1.0",
      "model_name": "LayoutModel",
      "state": {}
     },
     "56f4992d41a64750bc7b69ca3f351176": {
      "model_module": "@jupyter-widgets/base",
      "model_module_version": "1.1.0",
      "model_name": "LayoutModel",
      "state": {}
     },
     "57121f9c7a404718952c93a5941c828d": {
      "model_module": "@jupyter-widgets/controls",
      "model_module_version": "1.4.0",
      "model_name": "HTMLModel",
      "state": {
       "layout": "IPY_MODEL_6a9c5b9c9e0b4d8084696c1ca13411c0",
       "style": "IPY_MODEL_e38a734997104a9a984ec7397a35f51c",
       "value": "100% 17/17 [00:08&lt;00:00,  1.90it/s]"
      }
     },
     "5722219aea704f6fbb95244e6856080d": {
      "model_module": "@jupyter-widgets/controls",
      "model_module_version": "1.4.0",
      "model_name": "HTMLModel",
      "state": {
       "layout": "IPY_MODEL_04a339b7ccdf4cac806efecdc76674f2",
       "style": "IPY_MODEL_b2c47c2827034309a19bac01d1ef196e",
       "value": " 99% 77/78 [00:00&lt;00:00, 252.63it/s]"
      }
     },
     "575028110f5e4e3dbcf4ddacdd5d30ff": {
      "model_module": "@jupyter-widgets/base",
      "model_module_version": "1.1.0",
      "model_name": "LayoutModel",
      "state": {}
     },
     "577703ac64984f59a467efa6994c4f43": {
      "model_module": "@jupyter-widgets/base",
      "model_module_version": "1.1.0",
      "model_name": "LayoutModel",
      "state": {}
     },
     "5785d25c768441d8b71b07816d49bfe8": {
      "model_module": "@jupyter-widgets/base",
      "model_module_version": "1.1.0",
      "model_name": "LayoutModel",
      "state": {}
     },
     "57bfd48f9ae64404971990087a25fc56": {
      "model_module": "@jupyter-widgets/controls",
      "model_module_version": "1.4.0",
      "model_name": "IntProgressModel",
      "state": {
       "layout": "IPY_MODEL_e9d45c13ab0347ce9c742ea84049084d",
       "max": 17,
       "style": "IPY_MODEL_8319b078791e44b5943fd2cd74a1533b",
       "value": 17
      }
     },
     "57deb271b2b4447f9b418d8862a6ed75": {
      "model_module": "@jupyter-widgets/controls",
      "model_module_version": "1.4.0",
      "model_name": "DescriptionStyleModel",
      "state": {
       "description_width": ""
      }
     },
     "57e31c91c1ec4256b585956b4227aeb9": {
      "model_module": "@jupyter-widgets/controls",
      "model_module_version": "1.4.0",
      "model_name": "DescriptionStyleModel",
      "state": {
       "description_width": ""
      }
     },
     "581ccab88bea41a1882a2dcc424c48b7": {
      "model_module": "@jupyter-widgets/base",
      "model_module_version": "1.1.0",
      "model_name": "LayoutModel",
      "state": {}
     },
     "5892d03060494d69918dddd8beaf99b2": {
      "model_module": "@jupyter-widgets/base",
      "model_module_version": "1.1.0",
      "model_name": "LayoutModel",
      "state": {}
     },
     "58f89233f1c547c89c85f766cdd07827": {
      "model_module": "@jupyter-widgets/base",
      "model_module_version": "1.1.0",
      "model_name": "LayoutModel",
      "state": {}
     },
     "592313f1884e40e599280a5f1eb6e07e": {
      "model_module": "@jupyter-widgets/base",
      "model_module_version": "1.1.0",
      "model_name": "LayoutModel",
      "state": {}
     },
     "5925a232c9414c60aa7bc2a41d685667": {
      "model_module": "@jupyter-widgets/base",
      "model_module_version": "1.1.0",
      "model_name": "LayoutModel",
      "state": {}
     },
     "59956b80d66b413cb87f6e654bf4471a": {
      "model_module": "@jupyter-widgets/controls",
      "model_module_version": "1.4.0",
      "model_name": "DescriptionStyleModel",
      "state": {
       "description_width": ""
      }
     },
     "59f981bbae7048389c97e4900ad682f5": {
      "model_module": "@jupyter-widgets/base",
      "model_module_version": "1.1.0",
      "model_name": "LayoutModel",
      "state": {}
     },
     "5a1e0ee834de4c378be57e3ed13a24dd": {
      "model_module": "@jupyter-widgets/controls",
      "model_module_version": "1.4.0",
      "model_name": "DescriptionStyleModel",
      "state": {
       "description_width": ""
      }
     },
     "5a261761c81f4871af6fe72b251c71be": {
      "model_module": "@jupyter-widgets/base",
      "model_module_version": "1.1.0",
      "model_name": "LayoutModel",
      "state": {}
     },
     "5a3681feada2470880b661375da9dd0d": {
      "model_module": "@jupyter-widgets/base",
      "model_module_version": "1.1.0",
      "model_name": "LayoutModel",
      "state": {}
     },
     "5a5ec8e860b347ae94887c9bd3b60ce4": {
      "model_module": "@jupyter-widgets/base",
      "model_module_version": "1.1.0",
      "model_name": "LayoutModel",
      "state": {}
     },
     "5b07513847e84fea8d370f84990f8747": {
      "model_module": "@jupyter-widgets/controls",
      "model_module_version": "1.4.0",
      "model_name": "HTMLModel",
      "state": {
       "layout": "IPY_MODEL_c5bc4459ce4f4400b430fda528c1b895",
       "style": "IPY_MODEL_6d2ff2dd5416468e9f06cf2896e58454",
       "value": "100% 34/34 [00:23&lt;00:00,  1.48it/s]"
      }
     },
     "5b0b942c1a37469788470c76a5a9ec40": {
      "model_module": "@jupyter-widgets/base",
      "model_module_version": "1.1.0",
      "model_name": "LayoutModel",
      "state": {}
     },
     "5ba3d53d101345d59a092d16b3f2b025": {
      "model_module": "@jupyter-widgets/base",
      "model_module_version": "1.1.0",
      "model_name": "LayoutModel",
      "state": {}
     },
     "5be48f29bb6e4616a12894d38f26e1b6": {
      "model_module": "@jupyter-widgets/base",
      "model_module_version": "1.1.0",
      "model_name": "LayoutModel",
      "state": {}
     },
     "5bffb743427d4bffbcaf068785458c87": {
      "model_module": "@jupyter-widgets/controls",
      "model_module_version": "1.4.0",
      "model_name": "HTMLModel",
      "state": {
       "layout": "IPY_MODEL_1a68f029538d4b9dba814d37877bc8c5",
       "style": "IPY_MODEL_c6b5f37a7ef04e0a8a086acfdf0bd473",
       "value": "100% 78/78 [00:00&lt;00:00, 235.52it/s]"
      }
     },
     "5cf0b489f1b44117badd9e2b21f85c18": {
      "model_module": "@jupyter-widgets/controls",
      "model_module_version": "1.4.0",
      "model_name": "IntProgressModel",
      "state": {
       "layout": "IPY_MODEL_310cbc19669e4afdb839d8e27bdf94d7",
       "max": 78,
       "style": "IPY_MODEL_481114528ed0485c8d14f40ced779a03",
       "value": 58
      }
     },
     "5d1cb1ed3ede43439668c621938302af": {
      "model_module": "@jupyter-widgets/base",
      "model_module_version": "1.1.0",
      "model_name": "LayoutModel",
      "state": {}
     },
     "5d711c9b3fdb4898990ba729e6b93b95": {
      "model_module": "@jupyter-widgets/base",
      "model_module_version": "1.1.0",
      "model_name": "LayoutModel",
      "state": {}
     },
     "5d945c7bde7843f9986e8ed879dab26d": {
      "model_module": "@jupyter-widgets/base",
      "model_module_version": "1.1.0",
      "model_name": "LayoutModel",
      "state": {}
     },
     "5d96701589da41cfbce06fd23d776391": {
      "model_module": "@jupyter-widgets/base",
      "model_module_version": "1.1.0",
      "model_name": "LayoutModel",
      "state": {}
     },
     "5dcce0a50fe54054ae63a9eb295a999d": {
      "model_module": "@jupyter-widgets/base",
      "model_module_version": "1.1.0",
      "model_name": "LayoutModel",
      "state": {}
     },
     "5dcfe406284d484da3588ae6b6636125": {
      "model_module": "@jupyter-widgets/controls",
      "model_module_version": "1.4.0",
      "model_name": "DescriptionStyleModel",
      "state": {
       "description_width": ""
      }
     },
     "5df2735203834c838049ed3636f919d5": {
      "model_module": "@jupyter-widgets/base",
      "model_module_version": "1.1.0",
      "model_name": "LayoutModel",
      "state": {}
     },
     "5df9c113301647d88fd7328d393fd7e6": {
      "model_module": "@jupyter-widgets/base",
      "model_module_version": "1.1.0",
      "model_name": "LayoutModel",
      "state": {}
     },
     "5e0e20759d0a4eef8be694796f778905": {
      "model_module": "@jupyter-widgets/controls",
      "model_module_version": "1.4.0",
      "model_name": "IntProgressModel",
      "state": {
       "layout": "IPY_MODEL_b7a187fe86cd4d86b190693b94c349f2",
       "max": 78,
       "style": "IPY_MODEL_29da58ead1d54ccf95389dd3a33832c4",
       "value": 78
      }
     },
     "5e10a07ba01e498e8d6df441b660fa5f": {
      "model_module": "@jupyter-widgets/base",
      "model_module_version": "1.1.0",
      "model_name": "LayoutModel",
      "state": {}
     },
     "5e5444a681a94816a767629b02850a89": {
      "model_module": "@jupyter-widgets/controls",
      "model_module_version": "1.4.0",
      "model_name": "DescriptionStyleModel",
      "state": {
       "description_width": ""
      }
     },
     "5e63440691f24510b20d81c9602d6f5f": {
      "model_module": "@jupyter-widgets/controls",
      "model_module_version": "1.4.0",
      "model_name": "IntProgressModel",
      "state": {
       "layout": "IPY_MODEL_1c286d9e88c84c6182da6a848fdcd841",
       "max": 34,
       "style": "IPY_MODEL_90c8cc6a436f41e592d483584d946079",
       "value": 34
      }
     },
     "5e7c0fdf07ab490486f971bbfe02905f": {
      "model_module": "@jupyter-widgets/controls",
      "model_module_version": "1.4.0",
      "model_name": "ProgressStyleModel",
      "state": {
       "description_width": ""
      }
     },
     "5e944109eaf14cc5a928ecafb1ac4e28": {
      "model_module": "@jupyter-widgets/base",
      "model_module_version": "1.1.0",
      "model_name": "LayoutModel",
      "state": {}
     },
     "5ed02df7eaa443bc8c2480edad251b3b": {
      "model_module": "@jupyter-widgets/controls",
      "model_module_version": "1.4.0",
      "model_name": "IntProgressModel",
      "state": {
       "bar_style": "success",
       "layout": "IPY_MODEL_dc1c6b95bcc44012a02ed8e0e8a221c6",
       "max": 20,
       "style": "IPY_MODEL_dfc897c80efe4bcb906748c5b3bfa788",
       "value": 20
      }
     },
     "5f18958ce9a045b9801e02030513a099": {
      "model_module": "@jupyter-widgets/controls",
      "model_module_version": "1.4.0",
      "model_name": "IntProgressModel",
      "state": {
       "layout": "IPY_MODEL_8e5e64f539934da48d52013109a6ac62",
       "max": 34,
       "style": "IPY_MODEL_fa320ff7842c4dffbb084ad2b5d7c3b1",
       "value": 34
      }
     },
     "5f383700e9074e40bcb6714f070b538a": {
      "model_module": "@jupyter-widgets/controls",
      "model_module_version": "1.4.0",
      "model_name": "DescriptionStyleModel",
      "state": {
       "description_width": ""
      }
     },
     "5f40f613e3e94a7b87c732ecff0a4d44": {
      "model_module": "@jupyter-widgets/controls",
      "model_module_version": "1.4.0",
      "model_name": "IntProgressModel",
      "state": {
       "layout": "IPY_MODEL_dc530f4645d745928d53f5f85ccca4d9",
       "max": 78,
       "style": "IPY_MODEL_79e1960e644d4ee88b41dc76fda45890",
       "value": 48
      }
     },
     "5f4689deb17c45ad9d813a3135074980": {
      "model_module": "@jupyter-widgets/base",
      "model_module_version": "1.1.0",
      "model_name": "LayoutModel",
      "state": {}
     },
     "5fbca56317cb414d851557a0a73a837e": {
      "model_module": "@jupyter-widgets/controls",
      "model_module_version": "1.4.0",
      "model_name": "HTMLModel",
      "state": {
       "layout": "IPY_MODEL_f98f7d371ca6407eb884f1f5ce2467d3",
       "style": "IPY_MODEL_709e2e3366684285b101c675ac05b294",
       "value": "100% 17/17 [00:06&lt;00:00,  2.49it/s]"
      }
     },
     "600b538744d041f799e549d1a1fea905": {
      "model_module": "@jupyter-widgets/controls",
      "model_module_version": "1.4.0",
      "model_name": "IntProgressModel",
      "state": {
       "layout": "IPY_MODEL_85ee396a5684457082ce58e0d2e68121",
       "max": 78,
       "style": "IPY_MODEL_9a386314ed3e4d8c8f140e10d3087800",
       "value": 58
      }
     },
     "603d891cc6bb4dc98a812ce02a33448f": {
      "model_module": "@jupyter-widgets/base",
      "model_module_version": "1.1.0",
      "model_name": "LayoutModel",
      "state": {}
     },
     "60f0894cedd94000aeb410347ee6e5b2": {
      "model_module": "@jupyter-widgets/base",
      "model_module_version": "1.1.0",
      "model_name": "LayoutModel",
      "state": {}
     },
     "60f3dc4ff4c64eb5a1b2d87f81b88415": {
      "model_module": "@jupyter-widgets/controls",
      "model_module_version": "1.4.0",
      "model_name": "IntProgressModel",
      "state": {
       "layout": "IPY_MODEL_4f193967ec5542f9a5ceaa70f372120d",
       "max": 78,
       "style": "IPY_MODEL_667c3d6b641f4cf58bc96114295729e6",
       "value": 78
      }
     },
     "6181161c1cb1452c908ee1dd4a5d0d76": {
      "model_module": "@jupyter-widgets/controls",
      "model_module_version": "1.4.0",
      "model_name": "IntProgressModel",
      "state": {
       "layout": "IPY_MODEL_cb579755748a403588e35dd1db5837f1",
       "max": 17,
       "style": "IPY_MODEL_33cda33274d5470397b339ec0afaab98",
       "value": 17
      }
     },
     "6187d654a60b48c289ace5c3a1e8ddbd": {
      "model_module": "@jupyter-widgets/controls",
      "model_module_version": "1.4.0",
      "model_name": "DescriptionStyleModel",
      "state": {
       "description_width": ""
      }
     },
     "6218b10564cd4a42ad8292d4b1ecadc8": {
      "model_module": "@jupyter-widgets/controls",
      "model_module_version": "1.4.0",
      "model_name": "HTMLModel",
      "state": {
       "layout": "IPY_MODEL_5df9c113301647d88fd7328d393fd7e6",
       "style": "IPY_MODEL_6c1942e49fb445fe999b03777c6556f4",
       "value": " 90% 70/78 [00:00&lt;00:00, 230.65it/s]"
      }
     },
     "622dfccfd0a74053b38ac9d53a2145dd": {
      "model_module": "@jupyter-widgets/base",
      "model_module_version": "1.1.0",
      "model_name": "LayoutModel",
      "state": {}
     },
     "62ed2e472e684b138903c4f5277fc09b": {
      "model_module": "@jupyter-widgets/base",
      "model_module_version": "1.1.0",
      "model_name": "LayoutModel",
      "state": {}
     },
     "6313483c9aff477cb711ffa423a2f4b8": {
      "model_module": "@jupyter-widgets/controls",
      "model_module_version": "1.4.0",
      "model_name": "HTMLModel",
      "state": {
       "layout": "IPY_MODEL_55e1c3dbf8e84b2ba2140ccbe263e26b",
       "style": "IPY_MODEL_b7bc4364e17d453b9457733af128b133",
       "value": " 83% 65/78 [00:00&lt;00:00, 206.36it/s]"
      }
     },
     "6368f9e228a541179059faeaa924d84b": {
      "model_module": "@jupyter-widgets/controls",
      "model_module_version": "1.4.0",
      "model_name": "ProgressStyleModel",
      "state": {
       "description_width": ""
      }
     },
     "637372f06bc84ec7a9dc6e2ba7f90758": {
      "model_module": "@jupyter-widgets/base",
      "model_module_version": "1.1.0",
      "model_name": "LayoutModel",
      "state": {}
     },
     "637d3113c0a545699a828bf029ce6675": {
      "model_module": "@jupyter-widgets/base",
      "model_module_version": "1.1.0",
      "model_name": "LayoutModel",
      "state": {}
     },
     "63820db946cf4341ba59a06be264727e": {
      "model_module": "@jupyter-widgets/base",
      "model_module_version": "1.1.0",
      "model_name": "LayoutModel",
      "state": {}
     },
     "63962f90aa57474099637af6b2bb9b24": {
      "model_module": "@jupyter-widgets/base",
      "model_module_version": "1.1.0",
      "model_name": "LayoutModel",
      "state": {}
     },
     "63a50a67ab0b4dff8ba4b9458e15cf84": {
      "model_module": "@jupyter-widgets/controls",
      "model_module_version": "1.4.0",
      "model_name": "IntProgressModel",
      "state": {
       "layout": "IPY_MODEL_53605c9816704684856970be0dae3a09",
       "max": 78,
       "style": "IPY_MODEL_d391aaefbfa54bdca8d815bbc1c82598",
       "value": 36
      }
     },
     "63b35380e4ea471d98dc1488a28e3872": {
      "model_module": "@jupyter-widgets/controls",
      "model_module_version": "1.4.0",
      "model_name": "DescriptionStyleModel",
      "state": {
       "description_width": ""
      }
     },
     "63baae37f557464088decd7c705aef71": {
      "model_module": "@jupyter-widgets/controls",
      "model_module_version": "1.4.0",
      "model_name": "IntProgressModel",
      "state": {
       "layout": "IPY_MODEL_fc93417effbc486e88c3019a790554eb",
       "max": 78,
       "style": "IPY_MODEL_e5749d4c1fc4448d9719dea7f4d8798b",
       "value": 48
      }
     },
     "63e8277df8b243f3bc0ce010deb3c916": {
      "model_module": "@jupyter-widgets/controls",
      "model_module_version": "1.4.0",
      "model_name": "IntProgressModel",
      "state": {
       "layout": "IPY_MODEL_25c402da32b14da7afe77359256d814f",
       "max": 17,
       "style": "IPY_MODEL_a32ca224e40d41dcb98f801c195413ed",
       "value": 17
      }
     },
     "643ecc1db8bf40f3a61a0484c4ca9c19": {
      "model_module": "@jupyter-widgets/controls",
      "model_module_version": "1.4.0",
      "model_name": "DescriptionStyleModel",
      "state": {
       "description_width": ""
      }
     },
     "64706247047d4abcb2918eaf42ffda14": {
      "model_module": "@jupyter-widgets/base",
      "model_module_version": "1.1.0",
      "model_name": "LayoutModel",
      "state": {}
     },
     "64912d5e89284823a4d479a0cd9103d0": {
      "model_module": "@jupyter-widgets/controls",
      "model_module_version": "1.4.0",
      "model_name": "DescriptionStyleModel",
      "state": {
       "description_width": ""
      }
     },
     "649bdaca18954c8fa11301296c030db8": {
      "model_module": "@jupyter-widgets/base",
      "model_module_version": "1.1.0",
      "model_name": "LayoutModel",
      "state": {}
     },
     "64a71e71f5cd4f3f9e97d142c72da199": {
      "model_module": "@jupyter-widgets/base",
      "model_module_version": "1.1.0",
      "model_name": "LayoutModel",
      "state": {}
     },
     "66214eba963d4a13b98299750784727f": {
      "model_module": "@jupyter-widgets/controls",
      "model_module_version": "1.4.0",
      "model_name": "ProgressStyleModel",
      "state": {
       "description_width": ""
      }
     },
     "6671298906f147debeeac1587cd73dba": {
      "model_module": "@jupyter-widgets/controls",
      "model_module_version": "1.4.0",
      "model_name": "ProgressStyleModel",
      "state": {
       "description_width": ""
      }
     },
     "667c3d6b641f4cf58bc96114295729e6": {
      "model_module": "@jupyter-widgets/controls",
      "model_module_version": "1.4.0",
      "model_name": "ProgressStyleModel",
      "state": {
       "description_width": ""
      }
     },
     "669b23d4a4d944acb733908d5a20acc4": {
      "model_module": "@jupyter-widgets/controls",
      "model_module_version": "1.4.0",
      "model_name": "ProgressStyleModel",
      "state": {
       "description_width": ""
      }
     },
     "66b052328e8b457c92a271ab1f2adb76": {
      "model_module": "@jupyter-widgets/controls",
      "model_module_version": "1.4.0",
      "model_name": "IntProgressModel",
      "state": {
       "layout": "IPY_MODEL_af9ea78084a24e6db3b2e8e2b907cf6b",
       "max": 17,
       "style": "IPY_MODEL_0c62df8adf4d411ea3ecc9ea77d60f1b",
       "value": 17
      }
     },
     "67065a68301b40e483edb9e9baab3ecf": {
      "model_module": "@jupyter-widgets/controls",
      "model_module_version": "1.4.0",
      "model_name": "ProgressStyleModel",
      "state": {
       "description_width": ""
      }
     },
     "673fba756a224f2a87cc520f23dc0e9f": {
      "model_module": "@jupyter-widgets/controls",
      "model_module_version": "1.4.0",
      "model_name": "HTMLModel",
      "state": {
       "layout": "IPY_MODEL_2a5789d084764113ba5dc3a3f4650f5a",
       "style": "IPY_MODEL_57e31c91c1ec4256b585956b4227aeb9",
       "value": "100% 34/34 [00:21&lt;00:00,  1.62it/s]"
      }
     },
     "677736053c2246ce83f49f09c2d4a27f": {
      "model_module": "@jupyter-widgets/base",
      "model_module_version": "1.1.0",
      "model_name": "LayoutModel",
      "state": {}
     },
     "6779349c6c3f41f3aa920d0e360726e5": {
      "model_module": "@jupyter-widgets/controls",
      "model_module_version": "1.4.0",
      "model_name": "DescriptionStyleModel",
      "state": {
       "description_width": ""
      }
     },
     "67940bd44e264e19aa12ee158af86767": {
      "model_module": "@jupyter-widgets/controls",
      "model_module_version": "1.4.0",
      "model_name": "DescriptionStyleModel",
      "state": {
       "description_width": ""
      }
     },
     "67cbcbdae0dc485c8b30b72a3f6cc817": {
      "model_module": "@jupyter-widgets/base",
      "model_module_version": "1.1.0",
      "model_name": "LayoutModel",
      "state": {}
     },
     "67d04bd9a6a1494cbb23b6d9fcb9e07a": {
      "model_module": "@jupyter-widgets/base",
      "model_module_version": "1.1.0",
      "model_name": "LayoutModel",
      "state": {}
     },
     "67d8ca3bfedd4133ac39010b659bf8c4": {
      "model_module": "@jupyter-widgets/base",
      "model_module_version": "1.1.0",
      "model_name": "LayoutModel",
      "state": {}
     },
     "67f8e035666a4a11a3b5fa6538ebf344": {
      "model_module": "@jupyter-widgets/base",
      "model_module_version": "1.1.0",
      "model_name": "LayoutModel",
      "state": {}
     },
     "67f9ba350c4640c4a65e30fac73777d5": {
      "model_module": "@jupyter-widgets/controls",
      "model_module_version": "1.4.0",
      "model_name": "IntProgressModel",
      "state": {
       "layout": "IPY_MODEL_470885ea567f40eaa8dccd30c403eb5b",
       "max": 34,
       "style": "IPY_MODEL_43e781a7cb9c4589b3019d308207a636",
       "value": 34
      }
     },
     "683e00c178944af69131982a656bf1e7": {
      "model_module": "@jupyter-widgets/controls",
      "model_module_version": "1.4.0",
      "model_name": "IntProgressModel",
      "state": {
       "layout": "IPY_MODEL_a3bf7cc156dc455198754ebc2e4bf3a7",
       "max": 17,
       "style": "IPY_MODEL_3834af83160f438fa830ec31b79c4283",
       "value": 17
      }
     },
     "685d081ab3034ded9b44ec2ff057294b": {
      "model_module": "@jupyter-widgets/controls",
      "model_module_version": "1.4.0",
      "model_name": "ProgressStyleModel",
      "state": {
       "description_width": ""
      }
     },
     "6862f045caff48ebbfcb1ba7988b9467": {
      "model_module": "@jupyter-widgets/base",
      "model_module_version": "1.1.0",
      "model_name": "LayoutModel",
      "state": {}
     },
     "68c11d29029c4254b81280baab56da16": {
      "model_module": "@jupyter-widgets/base",
      "model_module_version": "1.1.0",
      "model_name": "LayoutModel",
      "state": {}
     },
     "68d25fc2ebd34e43966d6a5150ade114": {
      "model_module": "@jupyter-widgets/controls",
      "model_module_version": "1.4.0",
      "model_name": "IntProgressModel",
      "state": {
       "layout": "IPY_MODEL_ec3a085aca4f46babddaddc6c17c6220",
       "max": 78,
       "style": "IPY_MODEL_83103b8980f54cf987d5d0ccf32e8e08",
       "value": 77
      }
     },
     "691d894a04c941ab9d32821c4450a1d5": {
      "model_module": "@jupyter-widgets/base",
      "model_module_version": "1.1.0",
      "model_name": "LayoutModel",
      "state": {}
     },
     "6984507028714fbeafc1f9edb182185e": {
      "model_module": "@jupyter-widgets/controls",
      "model_module_version": "1.4.0",
      "model_name": "HTMLModel",
      "state": {
       "layout": "IPY_MODEL_a71e8759489946dbaeccd8048731953f",
       "style": "IPY_MODEL_3d0738f6590c4ab88e235932a6b8f151",
       "value": " 90% 70/78 [00:00&lt;00:00, 328.66it/s]"
      }
     },
     "69c460df5c2d423d8b2d96274e437d98": {
      "model_module": "@jupyter-widgets/base",
      "model_module_version": "1.1.0",
      "model_name": "LayoutModel",
      "state": {}
     },
     "69d4da783385487190074faf89e7314b": {
      "model_module": "@jupyter-widgets/base",
      "model_module_version": "1.1.0",
      "model_name": "LayoutModel",
      "state": {}
     },
     "6a43e853838f4ed5ab6862779677bd0d": {
      "model_module": "@jupyter-widgets/controls",
      "model_module_version": "1.4.0",
      "model_name": "DescriptionStyleModel",
      "state": {
       "description_width": ""
      }
     },
     "6a9c5b9c9e0b4d8084696c1ca13411c0": {
      "model_module": "@jupyter-widgets/base",
      "model_module_version": "1.1.0",
      "model_name": "LayoutModel",
      "state": {}
     },
     "6aa4e5daf6024b29beb495edb429bbc8": {
      "model_module": "@jupyter-widgets/base",
      "model_module_version": "1.1.0",
      "model_name": "LayoutModel",
      "state": {}
     },
     "6ad57c19efbf4dd196ecbce5d2f89d39": {
      "model_module": "@jupyter-widgets/controls",
      "model_module_version": "1.4.0",
      "model_name": "HTMLModel",
      "state": {
       "layout": "IPY_MODEL_d2f49ebc286147bda3509b1e75ce82d7",
       "style": "IPY_MODEL_771ffee0a29a482e8214019a6dcda50e",
       "value": "100% 34/34 [00:30&lt;00:00,  1.13it/s]"
      }
     },
     "6b5e409fe08d42849127795211426c8c": {
      "model_module": "@jupyter-widgets/base",
      "model_module_version": "1.1.0",
      "model_name": "LayoutModel",
      "state": {}
     },
     "6c1942e49fb445fe999b03777c6556f4": {
      "model_module": "@jupyter-widgets/controls",
      "model_module_version": "1.4.0",
      "model_name": "DescriptionStyleModel",
      "state": {
       "description_width": ""
      }
     },
     "6c79b6429c52484aa8c7a71c47ac2396": {
      "model_module": "@jupyter-widgets/controls",
      "model_module_version": "1.4.0",
      "model_name": "HTMLModel",
      "state": {
       "layout": "IPY_MODEL_a736b3256e16428197bca3d5f4b07673",
       "style": "IPY_MODEL_bc11433de4e543929ea8bfd0dd84d153",
       "value": "100% 17/17 [00:08&lt;00:00,  1.93it/s]"
      }
     },
     "6c8155cda9eb42e2838550e06b549cc3": {
      "model_module": "@jupyter-widgets/base",
      "model_module_version": "1.1.0",
      "model_name": "LayoutModel",
      "state": {}
     },
     "6cf2338f1fe5470491b8e6c669ec70cb": {
      "model_module": "@jupyter-widgets/controls",
      "model_module_version": "1.4.0",
      "model_name": "ProgressStyleModel",
      "state": {
       "description_width": ""
      }
     },
     "6d011040c0c540d78c725be828bdc15e": {
      "model_module": "@jupyter-widgets/controls",
      "model_module_version": "1.4.0",
      "model_name": "IntProgressModel",
      "state": {
       "bar_style": "success",
       "layout": "IPY_MODEL_fd2c10be2ca74afe86c5f5e88ac8b673",
       "max": 20,
       "style": "IPY_MODEL_19e71bde23824351ad9d18c4cc080843",
       "value": 20
      }
     },
     "6d17a8c7a1004bd4a4f2fc5d9a39971e": {
      "model_module": "@jupyter-widgets/base",
      "model_module_version": "1.1.0",
      "model_name": "LayoutModel",
      "state": {}
     },
     "6d2ff2dd5416468e9f06cf2896e58454": {
      "model_module": "@jupyter-widgets/controls",
      "model_module_version": "1.4.0",
      "model_name": "DescriptionStyleModel",
      "state": {
       "description_width": ""
      }
     },
     "6d7b24a81d7b4c0487f23e712b3573cb": {
      "model_module": "@jupyter-widgets/base",
      "model_module_version": "1.1.0",
      "model_name": "LayoutModel",
      "state": {}
     },
     "6d83e13720b14bcf9b3cae85307779db": {
      "model_module": "@jupyter-widgets/base",
      "model_module_version": "1.1.0",
      "model_name": "LayoutModel",
      "state": {}
     },
     "6d843c54f2c64e58827ea2aedf7bb7f9": {
      "model_module": "@jupyter-widgets/base",
      "model_module_version": "1.1.0",
      "model_name": "LayoutModel",
      "state": {}
     },
     "6d86de8de2804f3db27305934e8b5229": {
      "model_module": "@jupyter-widgets/controls",
      "model_module_version": "1.4.0",
      "model_name": "HTMLModel",
      "state": {
       "layout": "IPY_MODEL_2376ee7c126b4ffa845e81348f9549eb",
       "style": "IPY_MODEL_87224a3b8bb54d7aaa721a30745e68c1",
       "value": "100% 17/17 [00:09&lt;00:00,  1.84it/s]"
      }
     },
     "6d99bd625dcb415297ccfeb754914e2d": {
      "model_module": "@jupyter-widgets/controls",
      "model_module_version": "1.4.0",
      "model_name": "IntProgressModel",
      "state": {
       "layout": "IPY_MODEL_a29e276b0998462fb0a26c54005c6e65",
       "max": 17,
       "style": "IPY_MODEL_7577e038393944ee80a4d49a3ad80f28",
       "value": 17
      }
     },
     "6dcea026a1cb40e3b39586180a605e21": {
      "model_module": "@jupyter-widgets/controls",
      "model_module_version": "1.4.0",
      "model_name": "HTMLModel",
      "state": {
       "layout": "IPY_MODEL_4754782ff8d542378263557f8712a01f",
       "style": "IPY_MODEL_2b6d714fb44640aea7684f80efe5eebf",
       "value": "100% 78/78 [00:00&lt;00:00, 129.12it/s]"
      }
     },
     "6dd58b1bb8a1478b89bbfd0894ec2153": {
      "model_module": "@jupyter-widgets/controls",
      "model_module_version": "1.4.0",
      "model_name": "IntProgressModel",
      "state": {
       "layout": "IPY_MODEL_37dd4ae1448b430a98a820f31ac5fb32",
       "max": 78,
       "style": "IPY_MODEL_5047d5b34867430bac752c7f86842f6b",
       "value": 74
      }
     },
     "6eec93b6519445179f009d765e296956": {
      "model_module": "@jupyter-widgets/controls",
      "model_module_version": "1.4.0",
      "model_name": "HTMLModel",
      "state": {
       "layout": "IPY_MODEL_fba7d513363142c194ac9987acc4468c",
       "style": "IPY_MODEL_a6320d8049884c379acfe9b813c9a095",
       "value": "100% 34/34 [00:32&lt;00:00,  1.05it/s]"
      }
     },
     "6efd1eeb8b1b43eb926e43cf5bac66c5": {
      "model_module": "@jupyter-widgets/controls",
      "model_module_version": "1.4.0",
      "model_name": "DescriptionStyleModel",
      "state": {
       "description_width": ""
      }
     },
     "6f130a8fa77d422d8db95a2259c994cc": {
      "model_module": "@jupyter-widgets/base",
      "model_module_version": "1.1.0",
      "model_name": "LayoutModel",
      "state": {}
     },
     "6f3b5384e56b4db8b83e41000f3b9c7c": {
      "model_module": "@jupyter-widgets/controls",
      "model_module_version": "1.4.0",
      "model_name": "IntProgressModel",
      "state": {
       "layout": "IPY_MODEL_b32b3464118f43309a84180ae3dfc944",
       "max": 34,
       "style": "IPY_MODEL_2445ea83a67249d19acb45b7fd9e3ac8",
       "value": 34
      }
     },
     "6f51db9e13fa49f3a56d3c924ea72c56": {
      "model_module": "@jupyter-widgets/controls",
      "model_module_version": "1.4.0",
      "model_name": "ProgressStyleModel",
      "state": {
       "description_width": ""
      }
     },
     "6f6ebb96a950420c96cdba2531343b57": {
      "model_module": "@jupyter-widgets/controls",
      "model_module_version": "1.4.0",
      "model_name": "HTMLModel",
      "state": {
       "layout": "IPY_MODEL_291af035a165426c98c0391294bc245f",
       "style": "IPY_MODEL_ac53d4f817c843e5a4c79702a1a85545",
       "value": "100% 17/17 [00:09&lt;00:00,  1.74it/s]"
      }
     },
     "6fa1a414963641678801b2e6b671a164": {
      "model_module": "@jupyter-widgets/base",
      "model_module_version": "1.1.0",
      "model_name": "LayoutModel",
      "state": {}
     },
     "6fb35f585d2e4bbbaac592784102d687": {
      "model_module": "@jupyter-widgets/base",
      "model_module_version": "1.1.0",
      "model_name": "LayoutModel",
      "state": {}
     },
     "6fb9f1869ac6428da8da738b27ea6723": {
      "model_module": "@jupyter-widgets/controls",
      "model_module_version": "1.4.0",
      "model_name": "DescriptionStyleModel",
      "state": {
       "description_width": ""
      }
     },
     "6fe6b983b31c4192b6882183c1fe3afa": {
      "model_module": "@jupyter-widgets/controls",
      "model_module_version": "1.4.0",
      "model_name": "HTMLModel",
      "state": {
       "layout": "IPY_MODEL_9bf9c7b66f534d97b23baeb1f6292f6b",
       "style": "IPY_MODEL_c4d4ac73ba6741a08d9a76275039453d",
       "value": " 91% 71/78 [00:00&lt;00:00, 233.88it/s]"
      }
     },
     "6ffa9bae83e34cdbbde6e619f1c588c2": {
      "model_module": "@jupyter-widgets/controls",
      "model_module_version": "1.4.0",
      "model_name": "HTMLModel",
      "state": {
       "layout": "IPY_MODEL_581ccab88bea41a1882a2dcc424c48b7",
       "style": "IPY_MODEL_de021daae2a044f68a71e321ab2f5b82",
       "value": " 77% 60/78 [00:00&lt;00:00, 298.23it/s]"
      }
     },
     "7018fae554524e069d7bbc87cc763651": {
      "model_module": "@jupyter-widgets/base",
      "model_module_version": "1.1.0",
      "model_name": "LayoutModel",
      "state": {}
     },
     "702eb091fd824bc0a17127ca4b219efc": {
      "model_module": "@jupyter-widgets/base",
      "model_module_version": "1.1.0",
      "model_name": "LayoutModel",
      "state": {}
     },
     "70440b135f7c441280256b217db8abf3": {
      "model_module": "@jupyter-widgets/controls",
      "model_module_version": "1.4.0",
      "model_name": "IntProgressModel",
      "state": {
       "layout": "IPY_MODEL_36658cb278d243dba5cd45713b9830c2",
       "max": 17,
       "style": "IPY_MODEL_08b1a277adca453dae97a6d06726d5d3",
       "value": 17
      }
     },
     "7049502c5e8044a38c53a37d03fb525c": {
      "model_module": "@jupyter-widgets/base",
      "model_module_version": "1.1.0",
      "model_name": "LayoutModel",
      "state": {}
     },
     "708513ee84114d138107f6ead514ce7b": {
      "model_module": "@jupyter-widgets/controls",
      "model_module_version": "1.4.0",
      "model_name": "IntProgressModel",
      "state": {
       "layout": "IPY_MODEL_f4cc6ede8dba4041b0efbe95120e1c48",
       "max": 78,
       "style": "IPY_MODEL_c586a9eeaa8c4727a25c7c7994547f0f",
       "value": 47
      }
     },
     "709e2e3366684285b101c675ac05b294": {
      "model_module": "@jupyter-widgets/controls",
      "model_module_version": "1.4.0",
      "model_name": "DescriptionStyleModel",
      "state": {
       "description_width": ""
      }
     },
     "70b18ced69a8477a855afa64a373388c": {
      "model_module": "@jupyter-widgets/base",
      "model_module_version": "1.1.0",
      "model_name": "LayoutModel",
      "state": {}
     },
     "70b51b92f91f46519875407731a28b5e": {
      "model_module": "@jupyter-widgets/base",
      "model_module_version": "1.1.0",
      "model_name": "LayoutModel",
      "state": {}
     },
     "70c2ae1e2094421199632e4881983e89": {
      "model_module": "@jupyter-widgets/base",
      "model_module_version": "1.1.0",
      "model_name": "LayoutModel",
      "state": {}
     },
     "70e8fafa90034236851b6f3da713c672": {
      "model_module": "@jupyter-widgets/base",
      "model_module_version": "1.1.0",
      "model_name": "LayoutModel",
      "state": {}
     },
     "7171a4b13bbe40aab120a3f6bf5e7ec1": {
      "model_module": "@jupyter-widgets/controls",
      "model_module_version": "1.4.0",
      "model_name": "HTMLModel",
      "state": {
       "layout": "IPY_MODEL_cf1f2236c22f4ece8ae091bd93e333c8",
       "style": "IPY_MODEL_141bd8a7e4684d9b9c3d3885dc676d39",
       "value": " 63% 49/78 [00:00&lt;00:00, 160.45it/s]"
      }
     },
     "71f109f0e1a84c1f9cfbcace8597ccea": {
      "model_module": "@jupyter-widgets/controls",
      "model_module_version": "1.4.0",
      "model_name": "ProgressStyleModel",
      "state": {
       "description_width": ""
      }
     },
     "721cd8eccfe94a52964426c7246dd3b2": {
      "model_module": "@jupyter-widgets/base",
      "model_module_version": "1.1.0",
      "model_name": "LayoutModel",
      "state": {}
     },
     "725db071581e43fe81dd54ed5b027ede": {
      "model_module": "@jupyter-widgets/controls",
      "model_module_version": "1.4.0",
      "model_name": "DescriptionStyleModel",
      "state": {
       "description_width": ""
      }
     },
     "72988c68105746bfbbf18ac6d844790d": {
      "model_module": "@jupyter-widgets/controls",
      "model_module_version": "1.4.0",
      "model_name": "HTMLModel",
      "state": {
       "layout": "IPY_MODEL_4d4ceb423cd347f9ab1bba4cb36e51e1",
       "style": "IPY_MODEL_ccd74ceaf0bf430c8934fc696d19b3eb",
       "value": " 65% 51/78 [00:00&lt;00:00, 253.10it/s]"
      }
     },
     "72b4cef14f454868bdda38b8508cf9c8": {
      "model_module": "@jupyter-widgets/controls",
      "model_module_version": "1.4.0",
      "model_name": "ProgressStyleModel",
      "state": {
       "description_width": ""
      }
     },
     "7338f4eba8404428858a2863b76451f4": {
      "model_module": "@jupyter-widgets/controls",
      "model_module_version": "1.4.0",
      "model_name": "HTMLModel",
      "state": {
       "layout": "IPY_MODEL_ca62d202d2af45db912fef6f773b6c25",
       "style": "IPY_MODEL_b1a08d3f8cc34a79bf9941e565403d10",
       "value": " 63% 49/78 [00:00&lt;00:00, 236.80it/s]"
      }
     },
     "736408c155c84bf8ab05e306d1f3493a": {
      "model_module": "@jupyter-widgets/controls",
      "model_module_version": "1.4.0",
      "model_name": "HTMLModel",
      "state": {
       "layout": "IPY_MODEL_1b6a7ebaf95444c6a64b631628adfa6b",
       "style": "IPY_MODEL_2a3cc59f6e894392a74fe6359a409755",
       "value": "100% 17/17 [00:10&lt;00:00,  1.67it/s]"
      }
     },
     "73a5d094bef546348b0be889bb81c0f8": {
      "model_module": "@jupyter-widgets/controls",
      "model_module_version": "1.4.0",
      "model_name": "DescriptionStyleModel",
      "state": {
       "description_width": ""
      }
     },
     "73c41fa51cd249f2b70e2f34f5acc4c6": {
      "model_module": "@jupyter-widgets/base",
      "model_module_version": "1.1.0",
      "model_name": "LayoutModel",
      "state": {}
     },
     "74169a1ebd0542c0b0fbbe858250104c": {
      "model_module": "@jupyter-widgets/controls",
      "model_module_version": "1.4.0",
      "model_name": "HTMLModel",
      "state": {
       "layout": "IPY_MODEL_f23e4fbf72a34f5f9dc3e85304e41838",
       "style": "IPY_MODEL_2effc3850a4e451caa7ca905e1971bdb",
       "value": "100% 34/34 [00:20&lt;00:00,  1.67it/s]"
      }
     },
     "7473428629b8497f8cd97b86cc588d5e": {
      "model_module": "@jupyter-widgets/base",
      "model_module_version": "1.1.0",
      "model_name": "LayoutModel",
      "state": {}
     },
     "748325e3a346443b9d37f461378220f3": {
      "model_module": "@jupyter-widgets/controls",
      "model_module_version": "1.4.0",
      "model_name": "DescriptionStyleModel",
      "state": {
       "description_width": ""
      }
     },
     "748de4f7246a4243894c1c557e033228": {
      "model_module": "@jupyter-widgets/base",
      "model_module_version": "1.1.0",
      "model_name": "LayoutModel",
      "state": {}
     },
     "7495de4b02684f49a8df734551adf120": {
      "model_module": "@jupyter-widgets/base",
      "model_module_version": "1.1.0",
      "model_name": "LayoutModel",
      "state": {}
     },
     "74eebc3ac7c14ff4a12be3a6244bb254": {
      "model_module": "@jupyter-widgets/controls",
      "model_module_version": "1.4.0",
      "model_name": "DescriptionStyleModel",
      "state": {
       "description_width": ""
      }
     },
     "7500297e59da409db5ad4683fe925e68": {
      "model_module": "@jupyter-widgets/controls",
      "model_module_version": "1.4.0",
      "model_name": "HTMLModel",
      "state": {
       "layout": "IPY_MODEL_3e5d9b5065aa429a89bca89811778a5c",
       "style": "IPY_MODEL_38df975212b345bc8207976a49792c9f",
       "value": "100% 34/34 [00:25&lt;00:00,  1.35it/s]"
      }
     },
     "75032382d6654c0ba03cef75b35c729e": {
      "model_module": "@jupyter-widgets/controls",
      "model_module_version": "1.4.0",
      "model_name": "HBoxModel",
      "state": {
       "children": [
        "IPY_MODEL_5ed02df7eaa443bc8c2480edad251b3b",
        "IPY_MODEL_f64cff37ed18403e9994d4bce3b2046b"
       ],
       "layout": "IPY_MODEL_68c11d29029c4254b81280baab56da16"
      }
     },
     "7577e038393944ee80a4d49a3ad80f28": {
      "model_module": "@jupyter-widgets/controls",
      "model_module_version": "1.4.0",
      "model_name": "ProgressStyleModel",
      "state": {
       "description_width": ""
      }
     },
     "76bad362d66a41efbe0fa1cb8b8c1280": {
      "model_module": "@jupyter-widgets/controls",
      "model_module_version": "1.4.0",
      "model_name": "IntProgressModel",
      "state": {
       "layout": "IPY_MODEL_63820db946cf4341ba59a06be264727e",
       "max": 34,
       "style": "IPY_MODEL_4c3c43681fbf47d68a7c48fc0a26b3ca",
       "value": 34
      }
     },
     "76dcfcf344af4770b55c0c056addc302": {
      "model_module": "@jupyter-widgets/base",
      "model_module_version": "1.1.0",
      "model_name": "LayoutModel",
      "state": {}
     },
     "77072ae7cf9645979dd702242f01489f": {
      "model_module": "@jupyter-widgets/controls",
      "model_module_version": "1.4.0",
      "model_name": "HTMLModel",
      "state": {
       "layout": "IPY_MODEL_c5c20bc985c84c6fba868a20d1bfad82",
       "style": "IPY_MODEL_55a7e2504dad4099a3d66e458d7b6f7e",
       "value": " 85% 66/78 [00:00&lt;00:00, 218.44it/s]"
      }
     },
     "771192f2fa0640beac5407da2aa19583": {
      "model_module": "@jupyter-widgets/base",
      "model_module_version": "1.1.0",
      "model_name": "LayoutModel",
      "state": {}
     },
     "771ffee0a29a482e8214019a6dcda50e": {
      "model_module": "@jupyter-widgets/controls",
      "model_module_version": "1.4.0",
      "model_name": "DescriptionStyleModel",
      "state": {
       "description_width": ""
      }
     },
     "772fa91db06c46f8b03d91009ef11a4a": {
      "model_module": "@jupyter-widgets/base",
      "model_module_version": "1.1.0",
      "model_name": "LayoutModel",
      "state": {}
     },
     "77437752ca8943edaab0d518e6919682": {
      "model_module": "@jupyter-widgets/controls",
      "model_module_version": "1.4.0",
      "model_name": "HTMLModel",
      "state": {
       "layout": "IPY_MODEL_7cd1ac3be65e4b57be9773662ac81c1d",
       "style": "IPY_MODEL_f5b250660b6946f2becbe7fc7ee877f9",
       "value": " 77% 60/78 [00:00&lt;00:00, 297.90it/s]"
      }
     },
     "774868c615574588a7f991ff28544154": {
      "model_module": "@jupyter-widgets/base",
      "model_module_version": "1.1.0",
      "model_name": "LayoutModel",
      "state": {}
     },
     "778af00dee7d4f35badf1f2955d43c23": {
      "model_module": "@jupyter-widgets/controls",
      "model_module_version": "1.4.0",
      "model_name": "DescriptionStyleModel",
      "state": {
       "description_width": ""
      }
     },
     "779aded79e0545c0829f9d13ef3a4c0a": {
      "model_module": "@jupyter-widgets/base",
      "model_module_version": "1.1.0",
      "model_name": "LayoutModel",
      "state": {}
     },
     "77df49cffa6d45ae846f0dbda3611311": {
      "model_module": "@jupyter-widgets/controls",
      "model_module_version": "1.4.0",
      "model_name": "DescriptionStyleModel",
      "state": {
       "description_width": ""
      }
     },
     "784c251407d0406f810bb9eeff8ab60e": {
      "model_module": "@jupyter-widgets/base",
      "model_module_version": "1.1.0",
      "model_name": "LayoutModel",
      "state": {}
     },
     "7855b5cce2884516874ef1fdfafa55de": {
      "model_module": "@jupyter-widgets/base",
      "model_module_version": "1.1.0",
      "model_name": "LayoutModel",
      "state": {}
     },
     "78564cc7450d40f680afd23598c42ba7": {
      "model_module": "@jupyter-widgets/controls",
      "model_module_version": "1.4.0",
      "model_name": "ProgressStyleModel",
      "state": {
       "description_width": ""
      }
     },
     "788f56e08bab4ba18e3ca957a4709510": {
      "model_module": "@jupyter-widgets/base",
      "model_module_version": "1.1.0",
      "model_name": "LayoutModel",
      "state": {}
     },
     "78ae21ee5cdf48d1ba7eb5a2930e02b9": {
      "model_module": "@jupyter-widgets/controls",
      "model_module_version": "1.4.0",
      "model_name": "DescriptionStyleModel",
      "state": {
       "description_width": ""
      }
     },
     "78c214790e7545b5abce7eff1b1f9bbe": {
      "model_module": "@jupyter-widgets/controls",
      "model_module_version": "1.4.0",
      "model_name": "IntProgressModel",
      "state": {
       "layout": "IPY_MODEL_818ea512401a488c9b64bd8d48bd483b",
       "max": 34,
       "style": "IPY_MODEL_d4158a3178e34e12a1d448bb58b9ee81",
       "value": 34
      }
     },
     "78d54f3f5dbb4243986f785e59f7b6d5": {
      "model_module": "@jupyter-widgets/controls",
      "model_module_version": "1.4.0",
      "model_name": "DescriptionStyleModel",
      "state": {
       "description_width": ""
      }
     },
     "78d5a87cbc564348b35644805297a29d": {
      "model_module": "@jupyter-widgets/base",
      "model_module_version": "1.1.0",
      "model_name": "LayoutModel",
      "state": {}
     },
     "791a13684a8c449e8ac97cda4154c07f": {
      "model_module": "@jupyter-widgets/base",
      "model_module_version": "1.1.0",
      "model_name": "LayoutModel",
      "state": {}
     },
     "791f03a0aa96471cb9a6e2e45d86da76": {
      "model_module": "@jupyter-widgets/base",
      "model_module_version": "1.1.0",
      "model_name": "LayoutModel",
      "state": {}
     },
     "793769a1594948b0afc33f5de80c88a4": {
      "model_module": "@jupyter-widgets/controls",
      "model_module_version": "1.4.0",
      "model_name": "ProgressStyleModel",
      "state": {
       "description_width": ""
      }
     },
     "79e1960e644d4ee88b41dc76fda45890": {
      "model_module": "@jupyter-widgets/controls",
      "model_module_version": "1.4.0",
      "model_name": "ProgressStyleModel",
      "state": {
       "description_width": ""
      }
     },
     "7a5d4b8bf43a4698b65a6720f8d108f2": {
      "model_module": "@jupyter-widgets/base",
      "model_module_version": "1.1.0",
      "model_name": "LayoutModel",
      "state": {}
     },
     "7ac519f1fb89485793298a31e6582aae": {
      "model_module": "@jupyter-widgets/base",
      "model_module_version": "1.1.0",
      "model_name": "LayoutModel",
      "state": {}
     },
     "7b93730328d0449494391b37cb9b8bbb": {
      "model_module": "@jupyter-widgets/controls",
      "model_module_version": "1.4.0",
      "model_name": "HTMLModel",
      "state": {
       "layout": "IPY_MODEL_d03dba386bee43908bb60c3ce5d84b97",
       "style": "IPY_MODEL_2b9daa246cbb46df9a66d27ed92ecb16",
       "value": "100% 34/34 [00:21&lt;00:00,  1.62it/s]"
      }
     },
     "7bb430fbadb14abe9be4c7a842386cd8": {
      "model_module": "@jupyter-widgets/controls",
      "model_module_version": "1.4.0",
      "model_name": "HTMLModel",
      "state": {
       "layout": "IPY_MODEL_dd6f4a6a99824c258c4e70bd4ece584c",
       "style": "IPY_MODEL_2bf1cfc9ac7945fab87869d9c0e08d42",
       "value": "100% 17/17 [00:09&lt;00:00,  1.88it/s]"
      }
     },
     "7bc965495a1a4cb4899cf94f4fbe18b1": {
      "model_module": "@jupyter-widgets/controls",
      "model_module_version": "1.4.0",
      "model_name": "DescriptionStyleModel",
      "state": {
       "description_width": ""
      }
     },
     "7be950dddc74410faace442e40c3ed9a": {
      "model_module": "@jupyter-widgets/controls",
      "model_module_version": "1.4.0",
      "model_name": "IntProgressModel",
      "state": {
       "layout": "IPY_MODEL_d8d6adcdef6a43b6abd4ac487c00551c",
       "max": 17,
       "style": "IPY_MODEL_6671298906f147debeeac1587cd73dba",
       "value": 17
      }
     },
     "7c05c1cae25d4bc582e58b14216a3d77": {
      "model_module": "@jupyter-widgets/controls",
      "model_module_version": "1.4.0",
      "model_name": "IntProgressModel",
      "state": {
       "layout": "IPY_MODEL_296f7abebfbb42f8be13f84dad12cd07",
       "max": 78,
       "style": "IPY_MODEL_21046d22d59a44e396a70fe77ecac3a6",
       "value": 49
      }
     },
     "7c1eebace05846a3b0d19693c61fbe5f": {
      "model_module": "@jupyter-widgets/controls",
      "model_module_version": "1.4.0",
      "model_name": "ProgressStyleModel",
      "state": {
       "description_width": ""
      }
     },
     "7c29a8f350044fa7a03460a8cf883665": {
      "model_module": "@jupyter-widgets/base",
      "model_module_version": "1.1.0",
      "model_name": "LayoutModel",
      "state": {}
     },
     "7c2f567ef48e4ccd8751406011176462": {
      "model_module": "@jupyter-widgets/controls",
      "model_module_version": "1.4.0",
      "model_name": "IntProgressModel",
      "state": {
       "layout": "IPY_MODEL_e8280f4dd0484354829208ebd12bf8cb",
       "max": 34,
       "style": "IPY_MODEL_2a69a8f9540f4551ba2f484604e4dfe6",
       "value": 34
      }
     },
     "7c3b8d022c1c425a96c3fe4e9314f4e8": {
      "model_module": "@jupyter-widgets/controls",
      "model_module_version": "1.4.0",
      "model_name": "IntProgressModel",
      "state": {
       "bar_style": "success",
       "layout": "IPY_MODEL_43a032ab61034c038c1d28a6fc922a5a",
       "max": 551,
       "style": "IPY_MODEL_9157700ee283422081daeb7d647ad941",
       "value": 551
      }
     },
     "7c4fbd7df4264e37825d6fd3483641fe": {
      "model_module": "@jupyter-widgets/controls",
      "model_module_version": "1.4.0",
      "model_name": "DescriptionStyleModel",
      "state": {
       "description_width": ""
      }
     },
     "7caa25ca6f5d416786a16155aa82c12e": {
      "model_module": "@jupyter-widgets/controls",
      "model_module_version": "1.4.0",
      "model_name": "IntProgressModel",
      "state": {
       "layout": "IPY_MODEL_a2e29c998e3941418ea7ab6906921607",
       "max": 17,
       "style": "IPY_MODEL_c99fc32c441f4ced9d350c241976d3e8",
       "value": 17
      }
     },
     "7caaf1268cd54575b9234008bb7163fe": {
      "model_module": "@jupyter-widgets/controls",
      "model_module_version": "1.4.0",
      "model_name": "HTMLModel",
      "state": {
       "layout": "IPY_MODEL_69d4da783385487190074faf89e7314b",
       "style": "IPY_MODEL_292479f7642048918bb7957ce25fc984",
       "value": "100% 34/34 [00:27&lt;00:00,  1.22it/s]"
      }
     },
     "7cc12960eb9445c5a20a4b5fb0bd4aeb": {
      "model_module": "@jupyter-widgets/base",
      "model_module_version": "1.1.0",
      "model_name": "LayoutModel",
      "state": {}
     },
     "7cd1ac3be65e4b57be9773662ac81c1d": {
      "model_module": "@jupyter-widgets/base",
      "model_module_version": "1.1.0",
      "model_name": "LayoutModel",
      "state": {}
     },
     "7cdb69fdec3e48c7a1d4550ef7978fc0": {
      "model_module": "@jupyter-widgets/controls",
      "model_module_version": "1.4.0",
      "model_name": "IntProgressModel",
      "state": {
       "layout": "IPY_MODEL_5a261761c81f4871af6fe72b251c71be",
       "max": 34,
       "style": "IPY_MODEL_f88ef4f902e148898e878ad4936618c1",
       "value": 34
      }
     },
     "7cdee599416540d0bc758d1e97e2b849": {
      "model_module": "@jupyter-widgets/base",
      "model_module_version": "1.1.0",
      "model_name": "LayoutModel",
      "state": {}
     },
     "7d022ad1c3004b86bba08da0863469b8": {
      "model_module": "@jupyter-widgets/base",
      "model_module_version": "1.1.0",
      "model_name": "LayoutModel",
      "state": {}
     },
     "7d14eb86e99b47f98e5b7d3a3d842bd6": {
      "model_module": "@jupyter-widgets/controls",
      "model_module_version": "1.4.0",
      "model_name": "HBoxModel",
      "state": {
       "children": [
        "IPY_MODEL_7c3b8d022c1c425a96c3fe4e9314f4e8",
        "IPY_MODEL_93ce16af35354dc79277d1dc1e1cdc3c"
       ],
       "layout": "IPY_MODEL_f5e0381bf3fd49ce8954cafad6c76da1"
      }
     },
     "7d67cce756bc431aaad8ba9c0000d475": {
      "model_module": "@jupyter-widgets/controls",
      "model_module_version": "1.4.0",
      "model_name": "DescriptionStyleModel",
      "state": {
       "description_width": ""
      }
     },
     "7e121f23537b4087af20406ddc188545": {
      "model_module": "@jupyter-widgets/controls",
      "model_module_version": "1.4.0",
      "model_name": "HTMLModel",
      "state": {
       "layout": "IPY_MODEL_677736053c2246ce83f49f09c2d4a27f",
       "style": "IPY_MODEL_6779349c6c3f41f3aa920d0e360726e5",
       "value": "100% 17/17 [00:09&lt;00:00,  1.83it/s]"
      }
     },
     "7e1245a299ad490a942d1dbaa9ddeda2": {
      "model_module": "@jupyter-widgets/base",
      "model_module_version": "1.1.0",
      "model_name": "LayoutModel",
      "state": {}
     },
     "7ee0e5c7883844bebcda087d48595f6b": {
      "model_module": "@jupyter-widgets/base",
      "model_module_version": "1.1.0",
      "model_name": "LayoutModel",
      "state": {}
     },
     "7f57d8538a65445da338c3c493e655b9": {
      "model_module": "@jupyter-widgets/controls",
      "model_module_version": "1.4.0",
      "model_name": "HTMLModel",
      "state": {
       "layout": "IPY_MODEL_46bdde8d27424b4088bcdb492861317f",
       "style": "IPY_MODEL_f7528c2df8bb41479e54ae26302ee8fd",
       "value": " 67% 52/78 [00:00&lt;00:00, 254.87it/s]"
      }
     },
     "7f5d3cf84caf4dcda5ed1a4dd2283dd2": {
      "model_module": "@jupyter-widgets/controls",
      "model_module_version": "1.4.0",
      "model_name": "IntProgressModel",
      "state": {
       "layout": "IPY_MODEL_9b0e1ce39b624ecea5947426456e6ac4",
       "max": 17,
       "style": "IPY_MODEL_8b18994335bf4651ba8d4e7592e87e37",
       "value": 17
      }
     },
     "8027e2042c0c4caa9e1077e1be2825cb": {
      "model_module": "@jupyter-widgets/controls",
      "model_module_version": "1.4.0",
      "model_name": "DescriptionStyleModel",
      "state": {
       "description_width": ""
      }
     },
     "8030413f0acb425fbf59680c07dcfd4d": {
      "model_module": "@jupyter-widgets/base",
      "model_module_version": "1.1.0",
      "model_name": "LayoutModel",
      "state": {}
     },
     "80681fc74f7c4022a67f33deaebf1f1a": {
      "model_module": "@jupyter-widgets/controls",
      "model_module_version": "1.4.0",
      "model_name": "HTMLModel",
      "state": {
       "layout": "IPY_MODEL_5d1cb1ed3ede43439668c621938302af",
       "style": "IPY_MODEL_466668de4e1146e2966338dc275e2501",
       "value": "100% 34/34 [00:24&lt;00:00,  1.41it/s]"
      }
     },
     "80729c61ba174449824b34604d87bca5": {
      "model_module": "@jupyter-widgets/controls",
      "model_module_version": "1.4.0",
      "model_name": "HTMLModel",
      "state": {
       "layout": "IPY_MODEL_7cdee599416540d0bc758d1e97e2b849",
       "style": "IPY_MODEL_326bb5067bda4499856f8f7852ae592f",
       "value": "100% 34/34 [00:25&lt;00:00,  1.33it/s]"
      }
     },
     "80fbd6fed6f44413ad386e550fcc3159": {
      "model_module": "@jupyter-widgets/base",
      "model_module_version": "1.1.0",
      "model_name": "LayoutModel",
      "state": {}
     },
     "8109eb4e50724108b58ffff3ffa6bb46": {
      "model_module": "@jupyter-widgets/controls",
      "model_module_version": "1.4.0",
      "model_name": "DescriptionStyleModel",
      "state": {
       "description_width": ""
      }
     },
     "810c0316a0e140aab7bf5e62699f5a41": {
      "model_module": "@jupyter-widgets/base",
      "model_module_version": "1.1.0",
      "model_name": "LayoutModel",
      "state": {}
     },
     "813e3eedf7914ceb9b87860b5e634345": {
      "model_module": "@jupyter-widgets/controls",
      "model_module_version": "1.4.0",
      "model_name": "DescriptionStyleModel",
      "state": {
       "description_width": ""
      }
     },
     "81831daf0bed4eabbdfe2bff40f76de4": {
      "model_module": "@jupyter-widgets/base",
      "model_module_version": "1.1.0",
      "model_name": "LayoutModel",
      "state": {}
     },
     "818ea512401a488c9b64bd8d48bd483b": {
      "model_module": "@jupyter-widgets/base",
      "model_module_version": "1.1.0",
      "model_name": "LayoutModel",
      "state": {}
     },
     "81d32289f06546caa4884024f88eaf3d": {
      "model_module": "@jupyter-widgets/controls",
      "model_module_version": "1.4.0",
      "model_name": "HTMLModel",
      "state": {
       "layout": "IPY_MODEL_c8864b700511431280d26d7f3b46a680",
       "style": "IPY_MODEL_4edbb06962374d9a9c24d84b091ebb2a",
       "value": " 88% 69/78 [00:00&lt;00:00, 223.70it/s]"
      }
     },
     "81eb62bd42184e2a878b71c45f96cda0": {
      "model_module": "@jupyter-widgets/base",
      "model_module_version": "1.1.0",
      "model_name": "LayoutModel",
      "state": {}
     },
     "821bd8cdc2924b44adc1670b2d0ca3d4": {
      "model_module": "@jupyter-widgets/base",
      "model_module_version": "1.1.0",
      "model_name": "LayoutModel",
      "state": {}
     },
     "82580b8cd84e44f8aac1ed7fc9923b8a": {
      "model_module": "@jupyter-widgets/base",
      "model_module_version": "1.1.0",
      "model_name": "LayoutModel",
      "state": {}
     },
     "8270924d1c5d43b1b6bcc7ba27e565d4": {
      "model_module": "@jupyter-widgets/base",
      "model_module_version": "1.1.0",
      "model_name": "LayoutModel",
      "state": {}
     },
     "8271bafc357f4b51a3b979fbc0236902": {
      "model_module": "@jupyter-widgets/base",
      "model_module_version": "1.1.0",
      "model_name": "LayoutModel",
      "state": {}
     },
     "8294d61897e1430a9891fabc801382dd": {
      "model_module": "@jupyter-widgets/controls",
      "model_module_version": "1.4.0",
      "model_name": "IntProgressModel",
      "state": {
       "layout": "IPY_MODEL_a09f298cd3bd471d97f0e4a3da4e0532",
       "max": 78,
       "style": "IPY_MODEL_5225f9d04af94156a44517af1ddd5526",
       "value": 37
      }
     },
     "829b42810eac434d8e0bacbb44cba8ba": {
      "model_module": "@jupyter-widgets/controls",
      "model_module_version": "1.4.0",
      "model_name": "IntProgressModel",
      "state": {
       "layout": "IPY_MODEL_e7163f769723474a964ff71efe1261b7",
       "max": 78,
       "style": "IPY_MODEL_95cfe493234f40c1a9d443078f6457ca",
       "value": 48
      }
     },
     "82af3f0528e24b5a91a554bc70508517": {
      "model_module": "@jupyter-widgets/controls",
      "model_module_version": "1.4.0",
      "model_name": "HTMLModel",
      "state": {
       "layout": "IPY_MODEL_242c7cb509554ea6aa806fec67af0022",
       "style": "IPY_MODEL_3eefa1bce7b644beb2d6528bd55f14d6",
       "value": " 38% 30/78 [00:00&lt;00:00, 295.14it/s]"
      }
     },
     "82c772c1d3c046ef8004a29d534539c8": {
      "model_module": "@jupyter-widgets/controls",
      "model_module_version": "1.4.0",
      "model_name": "IntProgressModel",
      "state": {
       "layout": "IPY_MODEL_c5db586e8c73486a9fab2adf909de337",
       "max": 34,
       "style": "IPY_MODEL_5634efc48a854f508030f171913bb634",
       "value": 34
      }
     },
     "82d6a21e81084041bcbf68bc2cce204e": {
      "model_module": "@jupyter-widgets/base",
      "model_module_version": "1.1.0",
      "model_name": "LayoutModel",
      "state": {}
     },
     "83103b8980f54cf987d5d0ccf32e8e08": {
      "model_module": "@jupyter-widgets/controls",
      "model_module_version": "1.4.0",
      "model_name": "ProgressStyleModel",
      "state": {
       "description_width": ""
      }
     },
     "8319b078791e44b5943fd2cd74a1533b": {
      "model_module": "@jupyter-widgets/controls",
      "model_module_version": "1.4.0",
      "model_name": "ProgressStyleModel",
      "state": {
       "description_width": ""
      }
     },
     "8338a8a810784070a0c3dfba8215e672": {
      "model_module": "@jupyter-widgets/controls",
      "model_module_version": "1.4.0",
      "model_name": "HTMLModel",
      "state": {
       "layout": "IPY_MODEL_210ca060cf7445b69aba014ded073a00",
       "style": "IPY_MODEL_0951531e07aa48fb81882f985ef099a6",
       "value": "100% 34/34 [00:25&lt;00:00,  1.35it/s]"
      }
     },
     "839e49d492604ced85aa6b4f4735948b": {
      "model_module": "@jupyter-widgets/base",
      "model_module_version": "1.1.0",
      "model_name": "LayoutModel",
      "state": {}
     },
     "83f3482aa8c54e1aa0a17fb832ee7bcb": {
      "model_module": "@jupyter-widgets/base",
      "model_module_version": "1.1.0",
      "model_name": "LayoutModel",
      "state": {}
     },
     "8486277339e34065b8e7e2ed8201b837": {
      "model_module": "@jupyter-widgets/controls",
      "model_module_version": "1.4.0",
      "model_name": "ProgressStyleModel",
      "state": {
       "description_width": ""
      }
     },
     "84b712ec05ed4422b720e2c128c5e4f8": {
      "model_module": "@jupyter-widgets/base",
      "model_module_version": "1.1.0",
      "model_name": "LayoutModel",
      "state": {}
     },
     "84ef0c95e5db493592797522190a6c99": {
      "model_module": "@jupyter-widgets/base",
      "model_module_version": "1.1.0",
      "model_name": "LayoutModel",
      "state": {}
     },
     "8502c731defa4852a17caf8a5f1c96d3": {
      "model_module": "@jupyter-widgets/controls",
      "model_module_version": "1.4.0",
      "model_name": "HTMLModel",
      "state": {
       "layout": "IPY_MODEL_a51902704be8410090ddb2540f9e315a",
       "style": "IPY_MODEL_6187d654a60b48c289ace5c3a1e8ddbd",
       "value": "100% 551/551 [00:04&lt;00:00, 113.64it/s]"
      }
     },
     "85505de90c304f4ebb256bacacaf9989": {
      "model_module": "@jupyter-widgets/base",
      "model_module_version": "1.1.0",
      "model_name": "LayoutModel",
      "state": {}
     },
     "8566bfde673e4e3e866d681f675cdd9d": {
      "model_module": "@jupyter-widgets/controls",
      "model_module_version": "1.4.0",
      "model_name": "DescriptionStyleModel",
      "state": {
       "description_width": ""
      }
     },
     "8573ddb212d940e8ade260ee960bb43e": {
      "model_module": "@jupyter-widgets/base",
      "model_module_version": "1.1.0",
      "model_name": "LayoutModel",
      "state": {}
     },
     "857fbb36df38444c9e0beac5dbc36b69": {
      "model_module": "@jupyter-widgets/controls",
      "model_module_version": "1.4.0",
      "model_name": "IntProgressModel",
      "state": {
       "layout": "IPY_MODEL_1cf41a224eee4e43b31365dc82ab2033",
       "max": 17,
       "style": "IPY_MODEL_3a4c817876704af5b774bc9da18a59d3",
       "value": 17
      }
     },
     "85ee396a5684457082ce58e0d2e68121": {
      "model_module": "@jupyter-widgets/base",
      "model_module_version": "1.1.0",
      "model_name": "LayoutModel",
      "state": {}
     },
     "85f610a77b6a40208692ed73d95bdfb1": {
      "model_module": "@jupyter-widgets/base",
      "model_module_version": "1.1.0",
      "model_name": "LayoutModel",
      "state": {}
     },
     "86108123e36042bc8caa81d6ecd036f1": {
      "model_module": "@jupyter-widgets/controls",
      "model_module_version": "1.4.0",
      "model_name": "HTMLModel",
      "state": {
       "layout": "IPY_MODEL_ec938a8e0a7c4f17b10196e8a63ddd9c",
       "style": "IPY_MODEL_e41832fc2b3a41bfaf56f784b892a209",
       "value": " 60% 47/78 [00:00&lt;00:00, 227.40it/s]"
      }
     },
     "8625afb7760c4ab6a8fc7c1dbc27733b": {
      "model_module": "@jupyter-widgets/base",
      "model_module_version": "1.1.0",
      "model_name": "LayoutModel",
      "state": {}
     },
     "866c6b35340846f792d2cac4ad6f0dfc": {
      "model_module": "@jupyter-widgets/base",
      "model_module_version": "1.1.0",
      "model_name": "LayoutModel",
      "state": {}
     },
     "868690257a554341af0c61b96f206478": {
      "model_module": "@jupyter-widgets/base",
      "model_module_version": "1.1.0",
      "model_name": "LayoutModel",
      "state": {}
     },
     "86a5b731cbac432b9999bbb036fa811f": {
      "model_module": "@jupyter-widgets/base",
      "model_module_version": "1.1.0",
      "model_name": "LayoutModel",
      "state": {}
     },
     "8704340815cc4792a93215494711f91b": {
      "model_module": "@jupyter-widgets/controls",
      "model_module_version": "1.4.0",
      "model_name": "DescriptionStyleModel",
      "state": {
       "description_width": ""
      }
     },
     "87224a3b8bb54d7aaa721a30745e68c1": {
      "model_module": "@jupyter-widgets/controls",
      "model_module_version": "1.4.0",
      "model_name": "DescriptionStyleModel",
      "state": {
       "description_width": ""
      }
     },
     "87844ec698154336a9c478d0a16d0a47": {
      "model_module": "@jupyter-widgets/base",
      "model_module_version": "1.1.0",
      "model_name": "LayoutModel",
      "state": {}
     },
     "87b4848936854baf8a42cd92a5119ce3": {
      "model_module": "@jupyter-widgets/controls",
      "model_module_version": "1.4.0",
      "model_name": "HTMLModel",
      "state": {
       "layout": "IPY_MODEL_5df2735203834c838049ed3636f919d5",
       "style": "IPY_MODEL_d91100cc731740cdb3d901629fd70cef",
       "value": " 74% 58/78 [00:00&lt;00:00, 178.03it/s]"
      }
     },
     "87d2392383f940478d4a489c56a42820": {
      "model_module": "@jupyter-widgets/controls",
      "model_module_version": "1.4.0",
      "model_name": "IntProgressModel",
      "state": {
       "layout": "IPY_MODEL_d95993605408424392527656f31f9bb2",
       "max": 17,
       "style": "IPY_MODEL_ed87aa3949f747908a3a9561ff670651",
       "value": 17
      }
     },
     "883c66891f38450196d8ff409de57ae6": {
      "model_module": "@jupyter-widgets/controls",
      "model_module_version": "1.4.0",
      "model_name": "DescriptionStyleModel",
      "state": {
       "description_width": ""
      }
     },
     "88918474ad184d7cbe42d9ce063fadad": {
      "model_module": "@jupyter-widgets/controls",
      "model_module_version": "1.4.0",
      "model_name": "HTMLModel",
      "state": {
       "layout": "IPY_MODEL_6c8155cda9eb42e2838550e06b549cc3",
       "style": "IPY_MODEL_ac2620c687ac497b846fe99c4e0b5b1f",
       "value": "100% 17/17 [00:08&lt;00:00,  1.94it/s]"
      }
     },
     "88a53be7974c4eddaae41269c1b5dd99": {
      "model_module": "@jupyter-widgets/controls",
      "model_module_version": "1.4.0",
      "model_name": "HBoxModel",
      "state": {
       "children": [
        "IPY_MODEL_95cb62b5284b4578be26d7e98ac30ac5",
        "IPY_MODEL_6dcea026a1cb40e3b39586180a605e21"
       ],
       "layout": "IPY_MODEL_53f2c61e5b2f4bceb8eda2f46e9f0fbe"
      }
     },
     "88c2d009896045e49182b64d43ffe61d": {
      "model_module": "@jupyter-widgets/controls",
      "model_module_version": "1.4.0",
      "model_name": "HTMLModel",
      "state": {
       "layout": "IPY_MODEL_a9de77ceeeb94d5098e6cdd7ba666837",
       "style": "IPY_MODEL_3b5a3952bada480f892a52ff31ee0cfd",
       "value": "100% 34/34 [00:26&lt;00:00,  1.29it/s]"
      }
     },
     "88e3188b268a47ba8e99c1f823766484": {
      "model_module": "@jupyter-widgets/controls",
      "model_module_version": "1.4.0",
      "model_name": "DescriptionStyleModel",
      "state": {
       "description_width": ""
      }
     },
     "890663db431c43b0b3a5a4ea4f6d48f0": {
      "model_module": "@jupyter-widgets/controls",
      "model_module_version": "1.4.0",
      "model_name": "ProgressStyleModel",
      "state": {
       "description_width": ""
      }
     },
     "893e11b532564409b1e6b2ce6f80c2f1": {
      "model_module": "@jupyter-widgets/controls",
      "model_module_version": "1.4.0",
      "model_name": "IntProgressModel",
      "state": {
       "layout": "IPY_MODEL_ef009acfd8d04d62981b66dc67624f98",
       "max": 17,
       "style": "IPY_MODEL_fa96863625c8466fa7c043879711f86e",
       "value": 17
      }
     },
     "8953cd4865bc431786c55f1d5edf8a4a": {
      "model_module": "@jupyter-widgets/controls",
      "model_module_version": "1.4.0",
      "model_name": "DescriptionStyleModel",
      "state": {
       "description_width": ""
      }
     },
     "89c7735447b144d284e310844c29c4e0": {
      "model_module": "@jupyter-widgets/controls",
      "model_module_version": "1.4.0",
      "model_name": "IntProgressModel",
      "state": {
       "layout": "IPY_MODEL_1d4b4657e72a48b78f50b0f8425baed5",
       "max": 78,
       "style": "IPY_MODEL_adcffd291de245ba961f59ef015d6487",
       "value": 20
      }
     },
     "8a0e973823ff4e22b13eaa3fd8dae06f": {
      "model_module": "@jupyter-widgets/controls",
      "model_module_version": "1.4.0",
      "model_name": "ProgressStyleModel",
      "state": {
       "description_width": ""
      }
     },
     "8a2b62fafdaf49fda19d64c999884954": {
      "model_module": "@jupyter-widgets/base",
      "model_module_version": "1.1.0",
      "model_name": "LayoutModel",
      "state": {}
     },
     "8a860f6dfb754e7983f7be7329b7cd4f": {
      "model_module": "@jupyter-widgets/base",
      "model_module_version": "1.1.0",
      "model_name": "LayoutModel",
      "state": {}
     },
     "8a8db86dff1a48eea4e329ededb0c4da": {
      "model_module": "@jupyter-widgets/controls",
      "model_module_version": "1.4.0",
      "model_name": "DescriptionStyleModel",
      "state": {
       "description_width": ""
      }
     },
     "8aa874b9d1c942dfab1595cbfb0037f1": {
      "model_module": "@jupyter-widgets/controls",
      "model_module_version": "1.4.0",
      "model_name": "HTMLModel",
      "state": {
       "layout": "IPY_MODEL_868690257a554341af0c61b96f206478",
       "style": "IPY_MODEL_2e2fd5f223e44eca925b2fd9ccb6800c",
       "value": " 49% 38/78 [00:00&lt;00:00, 161.01it/s]"
      }
     },
     "8b18994335bf4651ba8d4e7592e87e37": {
      "model_module": "@jupyter-widgets/controls",
      "model_module_version": "1.4.0",
      "model_name": "ProgressStyleModel",
      "state": {
       "description_width": ""
      }
     },
     "8b3fe3900c314742b21f3910fca89c09": {
      "model_module": "@jupyter-widgets/base",
      "model_module_version": "1.1.0",
      "model_name": "LayoutModel",
      "state": {}
     },
     "8bd419f8c79446b98c37fa9033792a19": {
      "model_module": "@jupyter-widgets/controls",
      "model_module_version": "1.4.0",
      "model_name": "HBoxModel",
      "state": {
       "children": [
        "IPY_MODEL_dd590946307a4c04b9962236dcd7fc2d",
        "IPY_MODEL_932e3579eebf46868815c186d02589c9"
       ],
       "layout": "IPY_MODEL_fe8f78ecbfe24158883c2a1fd76e4f9d"
      }
     },
     "8beb50dbdf614ca9b90d2305e2cf3081": {
      "model_module": "@jupyter-widgets/base",
      "model_module_version": "1.1.0",
      "model_name": "LayoutModel",
      "state": {}
     },
     "8c0d5543df644593a23e86277646468b": {
      "model_module": "@jupyter-widgets/controls",
      "model_module_version": "1.4.0",
      "model_name": "ProgressStyleModel",
      "state": {
       "description_width": ""
      }
     },
     "8d2f1b0ddf3449d1b897f4dbf21ba8eb": {
      "model_module": "@jupyter-widgets/controls",
      "model_module_version": "1.4.0",
      "model_name": "ProgressStyleModel",
      "state": {
       "description_width": ""
      }
     },
     "8d4b5a7f05a2444cb12a0a058f718392": {
      "model_module": "@jupyter-widgets/base",
      "model_module_version": "1.1.0",
      "model_name": "LayoutModel",
      "state": {}
     },
     "8d512343a512491f9c9afc51dc28bf63": {
      "model_module": "@jupyter-widgets/controls",
      "model_module_version": "1.4.0",
      "model_name": "DescriptionStyleModel",
      "state": {
       "description_width": ""
      }
     },
     "8daa24c9ca75454384a535ecb0f387f0": {
      "model_module": "@jupyter-widgets/controls",
      "model_module_version": "1.4.0",
      "model_name": "HTMLModel",
      "state": {
       "layout": "IPY_MODEL_33eff876c7b841e2a2d018de69895038",
       "style": "IPY_MODEL_fad5ce310a744c91b6d8579e757c9015",
       "value": " 46% 36/78 [00:00&lt;00:00, 170.09it/s]"
      }
     },
     "8e2cbac36a96446d9469415f24e4164f": {
      "model_module": "@jupyter-widgets/controls",
      "model_module_version": "1.4.0",
      "model_name": "DescriptionStyleModel",
      "state": {
       "description_width": ""
      }
     },
     "8e5e64f539934da48d52013109a6ac62": {
      "model_module": "@jupyter-widgets/base",
      "model_module_version": "1.1.0",
      "model_name": "LayoutModel",
      "state": {}
     },
     "8e68f37199af47718508bf215e71f336": {
      "model_module": "@jupyter-widgets/controls",
      "model_module_version": "1.4.0",
      "model_name": "DescriptionStyleModel",
      "state": {
       "description_width": ""
      }
     },
     "8e91c2659640475993e93bd8c990f162": {
      "model_module": "@jupyter-widgets/base",
      "model_module_version": "1.1.0",
      "model_name": "LayoutModel",
      "state": {}
     },
     "8ea662573474481cbfc08b2b8ccc7396": {
      "model_module": "@jupyter-widgets/controls",
      "model_module_version": "1.4.0",
      "model_name": "HTMLModel",
      "state": {
       "layout": "IPY_MODEL_53137aebb98b49d99c723535f6f0d2ba",
       "style": "IPY_MODEL_38e246c2f21d493eb858d5d3d4a96aba",
       "value": "100% 78/78 [00:00&lt;00:00, 565.26it/s]"
      }
     },
     "8ed10bfcabff4ad08849a2c11d439898": {
      "model_module": "@jupyter-widgets/controls",
      "model_module_version": "1.4.0",
      "model_name": "DescriptionStyleModel",
      "state": {
       "description_width": ""
      }
     },
     "8ee8dc430c7549a1af4563ad3d29cfe4": {
      "model_module": "@jupyter-widgets/base",
      "model_module_version": "1.1.0",
      "model_name": "LayoutModel",
      "state": {}
     },
     "8f56664bc5874712a9ac4b55b7211f66": {
      "model_module": "@jupyter-widgets/controls",
      "model_module_version": "1.4.0",
      "model_name": "IntProgressModel",
      "state": {
       "layout": "IPY_MODEL_84ef0c95e5db493592797522190a6c99",
       "max": 78,
       "style": "IPY_MODEL_26215f822fd1438abf1aaa3116d48698",
       "value": 18
      }
     },
     "8f5f1e8cf4004556b6b409eef8fd98a4": {
      "model_module": "@jupyter-widgets/controls",
      "model_module_version": "1.4.0",
      "model_name": "IntProgressModel",
      "state": {
       "layout": "IPY_MODEL_09afe3e71efd41d5aa24ca62201c90e5",
       "max": 78,
       "style": "IPY_MODEL_9a3d32843dae480889123cb03c89ff78",
       "value": 71
      }
     },
     "8f6fd62fed89430c91ea2005763d746e": {
      "model_module": "@jupyter-widgets/controls",
      "model_module_version": "1.4.0",
      "model_name": "ProgressStyleModel",
      "state": {
       "description_width": ""
      }
     },
     "8f7b6f8870bc49cd93a3dc6b58dece67": {
      "model_module": "@jupyter-widgets/base",
      "model_module_version": "1.1.0",
      "model_name": "LayoutModel",
      "state": {}
     },
     "907e4c13b1ed4ebea7df613778770360": {
      "model_module": "@jupyter-widgets/base",
      "model_module_version": "1.1.0",
      "model_name": "LayoutModel",
      "state": {}
     },
     "908bd939fd824e2686c4bb4acdc92f68": {
      "model_module": "@jupyter-widgets/base",
      "model_module_version": "1.1.0",
      "model_name": "LayoutModel",
      "state": {}
     },
     "908cdea399c340aeb422be101093a698": {
      "model_module": "@jupyter-widgets/controls",
      "model_module_version": "1.4.0",
      "model_name": "ProgressStyleModel",
      "state": {
       "description_width": ""
      }
     },
     "90c8cc6a436f41e592d483584d946079": {
      "model_module": "@jupyter-widgets/controls",
      "model_module_version": "1.4.0",
      "model_name": "ProgressStyleModel",
      "state": {
       "description_width": ""
      }
     },
     "90cda9ac2f514cfc90954c2c21a3f009": {
      "model_module": "@jupyter-widgets/base",
      "model_module_version": "1.1.0",
      "model_name": "LayoutModel",
      "state": {}
     },
     "90eab24dd3864d6990531d198b375a4e": {
      "model_module": "@jupyter-widgets/base",
      "model_module_version": "1.1.0",
      "model_name": "LayoutModel",
      "state": {}
     },
     "90f24f9fb99947a79cf9bd19c8b4f1c7": {
      "model_module": "@jupyter-widgets/base",
      "model_module_version": "1.1.0",
      "model_name": "LayoutModel",
      "state": {}
     },
     "911dd896170b4cb0b3ca8a03e181fd0f": {
      "model_module": "@jupyter-widgets/controls",
      "model_module_version": "1.4.0",
      "model_name": "HTMLModel",
      "state": {
       "layout": "IPY_MODEL_adaf5a26aede4271ab1b8d6ed8e579d4",
       "style": "IPY_MODEL_2e3cbcd5fc9e439ca285599dd7b404dc",
       "value": "100% 17/17 [00:09&lt;00:00,  1.81it/s]"
      }
     },
     "913f0e8efeb4489fb82e5f4dbe5e3eb4": {
      "model_module": "@jupyter-widgets/controls",
      "model_module_version": "1.4.0",
      "model_name": "HTMLModel",
      "state": {
       "layout": "IPY_MODEL_ed98903670ac401f918bf98da0324e36",
       "style": "IPY_MODEL_2a8dd3a226e241ef8cd1802c7a9bd0ad",
       "value": "100% 17/17 [00:08&lt;00:00,  1.90it/s]"
      }
     },
     "9157700ee283422081daeb7d647ad941": {
      "model_module": "@jupyter-widgets/controls",
      "model_module_version": "1.4.0",
      "model_name": "ProgressStyleModel",
      "state": {
       "description_width": ""
      }
     },
     "917aa7ebfe154ee5a7e2224a56fcf666": {
      "model_module": "@jupyter-widgets/controls",
      "model_module_version": "1.4.0",
      "model_name": "ProgressStyleModel",
      "state": {
       "description_width": ""
      }
     },
     "919078daea174b9f9bf0eb8be0534ebb": {
      "model_module": "@jupyter-widgets/base",
      "model_module_version": "1.1.0",
      "model_name": "LayoutModel",
      "state": {}
     },
     "928af4857e84426ba5ec2a2a26d40d3d": {
      "model_module": "@jupyter-widgets/controls",
      "model_module_version": "1.4.0",
      "model_name": "IntProgressModel",
      "state": {
       "layout": "IPY_MODEL_2bf737a6fdb84ea586fe0c210388edf4",
       "max": 78,
       "style": "IPY_MODEL_37b5e0ca879c43a3b492ba431f2664b4",
       "value": 45
      }
     },
     "928c319116fd4cbdb8c53c7a4b6845e8": {
      "model_module": "@jupyter-widgets/base",
      "model_module_version": "1.1.0",
      "model_name": "LayoutModel",
      "state": {}
     },
     "92de06ffdc0e49499e620c437795880e": {
      "model_module": "@jupyter-widgets/controls",
      "model_module_version": "1.4.0",
      "model_name": "DescriptionStyleModel",
      "state": {
       "description_width": ""
      }
     },
     "92f9a466d25b413a82daecfe62723020": {
      "model_module": "@jupyter-widgets/base",
      "model_module_version": "1.1.0",
      "model_name": "LayoutModel",
      "state": {}
     },
     "932e3579eebf46868815c186d02589c9": {
      "model_module": "@jupyter-widgets/controls",
      "model_module_version": "1.4.0",
      "model_name": "HTMLModel",
      "state": {
       "layout": "IPY_MODEL_ae1612ed523841fdbdf2c7b5834a79bb",
       "style": "IPY_MODEL_0f073b0b3ebd47108919fd59170feb1a",
       "value": "100% 78/78 [00:00&lt;00:00, 167.81it/s]"
      }
     },
     "934c7cbb4e404df6ba5cae3d7f0b3772": {
      "model_module": "@jupyter-widgets/base",
      "model_module_version": "1.1.0",
      "model_name": "LayoutModel",
      "state": {}
     },
     "9374e8cf52bb471aad3e1f883ece78f7": {
      "model_module": "@jupyter-widgets/base",
      "model_module_version": "1.1.0",
      "model_name": "LayoutModel",
      "state": {}
     },
     "9399d92b6883469099dba16581a22634": {
      "model_module": "@jupyter-widgets/base",
      "model_module_version": "1.1.0",
      "model_name": "LayoutModel",
      "state": {}
     },
     "93ce16af35354dc79277d1dc1e1cdc3c": {
      "model_module": "@jupyter-widgets/controls",
      "model_module_version": "1.4.0",
      "model_name": "HTMLModel",
      "state": {
       "layout": "IPY_MODEL_c04c269283394632b55e67e5aad89e46",
       "style": "IPY_MODEL_748325e3a346443b9d37f461378220f3",
       "value": "100% 551/551 [00:09&lt;00:00, 59.87it/s]"
      }
     },
     "93dbc9c755c34082b28b57d13948db94": {
      "model_module": "@jupyter-widgets/base",
      "model_module_version": "1.1.0",
      "model_name": "LayoutModel",
      "state": {}
     },
     "93dd17ef64cb44ec97d51761c6b3f76d": {
      "model_module": "@jupyter-widgets/base",
      "model_module_version": "1.1.0",
      "model_name": "LayoutModel",
      "state": {}
     },
     "944c3d07de1140729bfa696a5c74347e": {
      "model_module": "@jupyter-widgets/controls",
      "model_module_version": "1.4.0",
      "model_name": "DescriptionStyleModel",
      "state": {
       "description_width": ""
      }
     },
     "94504b51517d4d879f06934fd1b060c0": {
      "model_module": "@jupyter-widgets/controls",
      "model_module_version": "1.4.0",
      "model_name": "HTMLModel",
      "state": {
       "layout": "IPY_MODEL_d381d59213c847eb994ee4402a388770",
       "style": "IPY_MODEL_813e3eedf7914ceb9b87860b5e634345",
       "value": "100% 17/17 [00:10&lt;00:00,  1.63it/s]"
      }
     },
     "94a9ac89a5564b1db09f0ad8079c3e92": {
      "model_module": "@jupyter-widgets/controls",
      "model_module_version": "1.4.0",
      "model_name": "ProgressStyleModel",
      "state": {
       "description_width": ""
      }
     },
     "9518841bf9aa494a89c84163f893441d": {
      "model_module": "@jupyter-widgets/controls",
      "model_module_version": "1.4.0",
      "model_name": "IntProgressModel",
      "state": {
       "layout": "IPY_MODEL_561b701bbdc54c1ea44a793c8d35c809",
       "max": 17,
       "style": "IPY_MODEL_7c1eebace05846a3b0d19693c61fbe5f",
       "value": 17
      }
     },
     "952e6e4ae3904f0dbdd8254f1eb47979": {
      "model_module": "@jupyter-widgets/controls",
      "model_module_version": "1.4.0",
      "model_name": "HTMLModel",
      "state": {
       "layout": "IPY_MODEL_934c7cbb4e404df6ba5cae3d7f0b3772",
       "style": "IPY_MODEL_b00564ef3355461ba7c44b424e9efdf7",
       "value": "100% 17/17 [00:09&lt;00:00,  1.87it/s]"
      }
     },
     "953763eb58844c018f1e80fd35b47cf4": {
      "model_module": "@jupyter-widgets/controls",
      "model_module_version": "1.4.0",
      "model_name": "IntProgressModel",
      "state": {
       "layout": "IPY_MODEL_bf15d69c4fa047f990a01543b08f1dae",
       "max": 17,
       "style": "IPY_MODEL_9cd8f1be9f864dfca5203628d95a8594",
       "value": 17
      }
     },
     "955f49cf72e9491ca2a763855c65d036": {
      "model_module": "@jupyter-widgets/base",
      "model_module_version": "1.1.0",
      "model_name": "LayoutModel",
      "state": {}
     },
     "95971fe455c14129825cbc809c472ea0": {
      "model_module": "@jupyter-widgets/base",
      "model_module_version": "1.1.0",
      "model_name": "LayoutModel",
      "state": {}
     },
     "95adbbd3ab224f3b9c6cb837fe060469": {
      "model_module": "@jupyter-widgets/controls",
      "model_module_version": "1.4.0",
      "model_name": "ProgressStyleModel",
      "state": {
       "description_width": ""
      }
     },
     "95cb62b5284b4578be26d7e98ac30ac5": {
      "model_module": "@jupyter-widgets/controls",
      "model_module_version": "1.4.0",
      "model_name": "IntProgressModel",
      "state": {
       "bar_style": "success",
       "layout": "IPY_MODEL_eb5b003d85c9498c9835a6998883e604",
       "max": 78,
       "style": "IPY_MODEL_2f9be355a7934c7cbbe0a982bd016fb8",
       "value": 78
      }
     },
     "95cfe493234f40c1a9d443078f6457ca": {
      "model_module": "@jupyter-widgets/controls",
      "model_module_version": "1.4.0",
      "model_name": "ProgressStyleModel",
      "state": {
       "description_width": ""
      }
     },
     "96893dbaa7114a11862bc62de2b0b659": {
      "model_module": "@jupyter-widgets/controls",
      "model_module_version": "1.4.0",
      "model_name": "IntProgressModel",
      "state": {
       "layout": "IPY_MODEL_021639a29c854b77b5a1af03fc138ca6",
       "max": 78,
       "style": "IPY_MODEL_39cec04b33c5465994a728422c5f8b17",
       "value": 68
      }
     },
     "969be07fd77448d3915e6ddbea2c5ff5": {
      "model_module": "@jupyter-widgets/controls",
      "model_module_version": "1.4.0",
      "model_name": "ProgressStyleModel",
      "state": {
       "description_width": ""
      }
     },
     "96a1dc6c25e34560b34352064131f880": {
      "model_module": "@jupyter-widgets/controls",
      "model_module_version": "1.4.0",
      "model_name": "IntProgressModel",
      "state": {
       "layout": "IPY_MODEL_1a57d181316a4f17b2f599db605f27b8",
       "max": 17,
       "style": "IPY_MODEL_8c0d5543df644593a23e86277646468b",
       "value": 17
      }
     },
     "96ad1396dd9c4c979a14016bb93613ae": {
      "model_module": "@jupyter-widgets/controls",
      "model_module_version": "1.4.0",
      "model_name": "DescriptionStyleModel",
      "state": {
       "description_width": ""
      }
     },
     "96e8b3f949494bfc84eeae9f834deca2": {
      "model_module": "@jupyter-widgets/controls",
      "model_module_version": "1.4.0",
      "model_name": "DescriptionStyleModel",
      "state": {
       "description_width": ""
      }
     },
     "9702ebb3778b4a77907e90470fa70618": {
      "model_module": "@jupyter-widgets/base",
      "model_module_version": "1.1.0",
      "model_name": "LayoutModel",
      "state": {}
     },
     "971b2ed575804bd49ae802dd14128bd7": {
      "model_module": "@jupyter-widgets/base",
      "model_module_version": "1.1.0",
      "model_name": "LayoutModel",
      "state": {}
     },
     "9756af9104814a0fbe3719543a080d94": {
      "model_module": "@jupyter-widgets/controls",
      "model_module_version": "1.4.0",
      "model_name": "ProgressStyleModel",
      "state": {
       "description_width": ""
      }
     },
     "979c5128156b4e119c387c38b43cd0ab": {
      "model_module": "@jupyter-widgets/controls",
      "model_module_version": "1.4.0",
      "model_name": "HTMLModel",
      "state": {
       "layout": "IPY_MODEL_48cfd94297294f3ca0c7af4f7cdf3be5",
       "style": "IPY_MODEL_126af760e4684f37a225d046432ed902",
       "value": " 69% 54/78 [00:00&lt;00:00, 269.49it/s]"
      }
     },
     "97f5138c711749f5b37d95e17a1ba93b": {
      "model_module": "@jupyter-widgets/base",
      "model_module_version": "1.1.0",
      "model_name": "LayoutModel",
      "state": {}
     },
     "98438caceea845abbe1589cbbede86ba": {
      "model_module": "@jupyter-widgets/base",
      "model_module_version": "1.1.0",
      "model_name": "LayoutModel",
      "state": {}
     },
     "988975c62fc44c8390840f1c3c2911f6": {
      "model_module": "@jupyter-widgets/controls",
      "model_module_version": "1.4.0",
      "model_name": "IntProgressModel",
      "state": {
       "layout": "IPY_MODEL_dab17ea9932c412dbbb6e5c3248c8169",
       "max": 78,
       "style": "IPY_MODEL_2738dc493572473ebfa841d2d3e03f8b",
       "value": 20
      }
     },
     "98a7a6b564fa4822ad1ba764c2f69eeb": {
      "model_module": "@jupyter-widgets/controls",
      "model_module_version": "1.4.0",
      "model_name": "DescriptionStyleModel",
      "state": {
       "description_width": ""
      }
     },
     "98e9075a81e74b5180bc8924c0da1117": {
      "model_module": "@jupyter-widgets/controls",
      "model_module_version": "1.4.0",
      "model_name": "DescriptionStyleModel",
      "state": {
       "description_width": ""
      }
     },
     "9931fec4948f4d6a9c6d1316810d578b": {
      "model_module": "@jupyter-widgets/controls",
      "model_module_version": "1.4.0",
      "model_name": "HTMLModel",
      "state": {
       "layout": "IPY_MODEL_84b712ec05ed4422b720e2c128c5e4f8",
       "style": "IPY_MODEL_643ecc1db8bf40f3a61a0484c4ca9c19",
       "value": "100% 17/17 [00:08&lt;00:00,  1.99it/s]"
      }
     },
     "9955e622de804278b7070ebdedf6d2f9": {
      "model_module": "@jupyter-widgets/base",
      "model_module_version": "1.1.0",
      "model_name": "LayoutModel",
      "state": {}
     },
     "99a65dcfbdce43f2b7c4d332335cf099": {
      "model_module": "@jupyter-widgets/controls",
      "model_module_version": "1.4.0",
      "model_name": "ProgressStyleModel",
      "state": {
       "description_width": ""
      }
     },
     "99abfaad0bd64b25afd1442b26931c42": {
      "model_module": "@jupyter-widgets/controls",
      "model_module_version": "1.4.0",
      "model_name": "IntProgressModel",
      "state": {
       "layout": "IPY_MODEL_fec4f28a63f74dc58293c4117fdf2de1",
       "max": 17,
       "style": "IPY_MODEL_8a0e973823ff4e22b13eaa3fd8dae06f",
       "value": 17
      }
     },
     "99ac0ee2ff7a45df87b31d7fbcc45c1e": {
      "model_module": "@jupyter-widgets/base",
      "model_module_version": "1.1.0",
      "model_name": "LayoutModel",
      "state": {}
     },
     "99ed5c07d4004d0cb03c6cc92fd88328": {
      "model_module": "@jupyter-widgets/controls",
      "model_module_version": "1.4.0",
      "model_name": "ProgressStyleModel",
      "state": {
       "description_width": ""
      }
     },
     "9a14832dd14845b4a034f27bdf0d3a47": {
      "model_module": "@jupyter-widgets/base",
      "model_module_version": "1.1.0",
      "model_name": "LayoutModel",
      "state": {}
     },
     "9a170f6a5b3140b99a081ab6ba7a7f7a": {
      "model_module": "@jupyter-widgets/base",
      "model_module_version": "1.1.0",
      "model_name": "LayoutModel",
      "state": {}
     },
     "9a17413da74347559813b8e60b9f4a8d": {
      "model_module": "@jupyter-widgets/base",
      "model_module_version": "1.1.0",
      "model_name": "LayoutModel",
      "state": {}
     },
     "9a210613438542a5adf4c8f5ea68d8e1": {
      "model_module": "@jupyter-widgets/base",
      "model_module_version": "1.1.0",
      "model_name": "LayoutModel",
      "state": {}
     },
     "9a386314ed3e4d8c8f140e10d3087800": {
      "model_module": "@jupyter-widgets/controls",
      "model_module_version": "1.4.0",
      "model_name": "ProgressStyleModel",
      "state": {
       "description_width": ""
      }
     },
     "9a3d32843dae480889123cb03c89ff78": {
      "model_module": "@jupyter-widgets/controls",
      "model_module_version": "1.4.0",
      "model_name": "ProgressStyleModel",
      "state": {
       "description_width": ""
      }
     },
     "9a5d7d898cf144278e75e6956145b073": {
      "model_module": "@jupyter-widgets/base",
      "model_module_version": "1.1.0",
      "model_name": "LayoutModel",
      "state": {}
     },
     "9a9759e60ca24836b63c0b4f7ab866f5": {
      "model_module": "@jupyter-widgets/base",
      "model_module_version": "1.1.0",
      "model_name": "LayoutModel",
      "state": {}
     },
     "9aaab717e2fc4a9aa2a0729e15a0da39": {
      "model_module": "@jupyter-widgets/controls",
      "model_module_version": "1.4.0",
      "model_name": "HTMLModel",
      "state": {
       "layout": "IPY_MODEL_2930a1c13c774393a355f85a2c57cf3e",
       "style": "IPY_MODEL_fe0c83a1433442e0a077363825ecc588",
       "value": "100% 78/78 [00:00&lt;00:00, 255.80it/s]"
      }
     },
     "9ac10597adf24964a83c6e64a802778f": {
      "model_module": "@jupyter-widgets/controls",
      "model_module_version": "1.4.0",
      "model_name": "IntProgressModel",
      "state": {
       "layout": "IPY_MODEL_45d7f39f513b4627a0d860d8488a82d6",
       "max": 17,
       "style": "IPY_MODEL_78564cc7450d40f680afd23598c42ba7",
       "value": 17
      }
     },
     "9b0257b5cbff47b08f1c22c84d5c9fa2": {
      "model_module": "@jupyter-widgets/base",
      "model_module_version": "1.1.0",
      "model_name": "LayoutModel",
      "state": {}
     },
     "9b0e1ce39b624ecea5947426456e6ac4": {
      "model_module": "@jupyter-widgets/base",
      "model_module_version": "1.1.0",
      "model_name": "LayoutModel",
      "state": {}
     },
     "9b19490a8f5a4b789796f2c62f479001": {
      "model_module": "@jupyter-widgets/controls",
      "model_module_version": "1.4.0",
      "model_name": "DescriptionStyleModel",
      "state": {
       "description_width": ""
      }
     },
     "9b4b1d7424114f1d948e4c75c9b9235b": {
      "model_module": "@jupyter-widgets/base",
      "model_module_version": "1.1.0",
      "model_name": "LayoutModel",
      "state": {}
     },
     "9b4f144363774122a4a71e317dc1f3f1": {
      "model_module": "@jupyter-widgets/base",
      "model_module_version": "1.1.0",
      "model_name": "LayoutModel",
      "state": {}
     },
     "9b90f82ce41a4acdab38d4425500a581": {
      "model_module": "@jupyter-widgets/controls",
      "model_module_version": "1.4.0",
      "model_name": "IntProgressModel",
      "state": {
       "layout": "IPY_MODEL_2ab802144ad84304a53a08a2145629f9",
       "max": 78,
       "style": "IPY_MODEL_a207d690a71f412dac48a6644d699ff1",
       "value": 78
      }
     },
     "9bf9c7b66f534d97b23baeb1f6292f6b": {
      "model_module": "@jupyter-widgets/base",
      "model_module_version": "1.1.0",
      "model_name": "LayoutModel",
      "state": {}
     },
     "9c22c323fa8a4b638e56f05385c937c1": {
      "model_module": "@jupyter-widgets/controls",
      "model_module_version": "1.4.0",
      "model_name": "DescriptionStyleModel",
      "state": {
       "description_width": ""
      }
     },
     "9c36e9955e4a4ffeb6bfa0f226c6bc5a": {
      "model_module": "@jupyter-widgets/controls",
      "model_module_version": "1.4.0",
      "model_name": "IntProgressModel",
      "state": {
       "layout": "IPY_MODEL_fb354221c5a349e9946882c436e88fc9",
       "max": 17,
       "style": "IPY_MODEL_51a5a42683514a32b55883feba13c991",
       "value": 17
      }
     },
     "9c40cd8a1fc44f0f8760e9ec46730550": {
      "model_module": "@jupyter-widgets/controls",
      "model_module_version": "1.4.0",
      "model_name": "IntProgressModel",
      "state": {
       "layout": "IPY_MODEL_328052dc060044d68b1cca7c2adcba52",
       "max": 78,
       "style": "IPY_MODEL_4874fc85275c40a4b4e6e45b89d6ee6e",
       "value": 66
      }
     },
     "9c4eb24114e2413fa06a28090c6b3c75": {
      "model_module": "@jupyter-widgets/base",
      "model_module_version": "1.1.0",
      "model_name": "LayoutModel",
      "state": {}
     },
     "9c6fccb5a19549eca4e13a3c05898325": {
      "model_module": "@jupyter-widgets/controls",
      "model_module_version": "1.4.0",
      "model_name": "ProgressStyleModel",
      "state": {
       "description_width": ""
      }
     },
     "9cb914dd591d47e28527abb0b8b1ac76": {
      "model_module": "@jupyter-widgets/base",
      "model_module_version": "1.1.0",
      "model_name": "LayoutModel",
      "state": {}
     },
     "9cd8f1be9f864dfca5203628d95a8594": {
      "model_module": "@jupyter-widgets/controls",
      "model_module_version": "1.4.0",
      "model_name": "ProgressStyleModel",
      "state": {
       "description_width": ""
      }
     },
     "9cfb3d9c1a6a4eada08bc71aed673ef3": {
      "model_module": "@jupyter-widgets/controls",
      "model_module_version": "1.4.0",
      "model_name": "ProgressStyleModel",
      "state": {
       "description_width": ""
      }
     },
     "9d18c2e557c745fcbc0762bcba6d6c54": {
      "model_module": "@jupyter-widgets/controls",
      "model_module_version": "1.4.0",
      "model_name": "DescriptionStyleModel",
      "state": {
       "description_width": ""
      }
     },
     "9d80db900b0842b9848c63d80f3dd875": {
      "model_module": "@jupyter-widgets/controls",
      "model_module_version": "1.4.0",
      "model_name": "IntProgressModel",
      "state": {
       "layout": "IPY_MODEL_19b055cafc3542feb4bf8c0e2b966d59",
       "max": 78,
       "style": "IPY_MODEL_e85ab302695e4a23beaa3eec094e5ab2",
       "value": 55
      }
     },
     "9e1da7dd88004bc5b92b2ac7810a873b": {
      "model_module": "@jupyter-widgets/controls",
      "model_module_version": "1.4.0",
      "model_name": "ProgressStyleModel",
      "state": {
       "description_width": ""
      }
     },
     "9e38fb3676394bafb3218aa3edc56fe5": {
      "model_module": "@jupyter-widgets/base",
      "model_module_version": "1.1.0",
      "model_name": "LayoutModel",
      "state": {}
     },
     "9e49812d9a5c45aea94da5e14a748eb3": {
      "model_module": "@jupyter-widgets/controls",
      "model_module_version": "1.4.0",
      "model_name": "HTMLModel",
      "state": {
       "layout": "IPY_MODEL_c3d9f6867f904168b8eb683cf7116814",
       "style": "IPY_MODEL_92de06ffdc0e49499e620c437795880e",
       "value": " 74% 58/78 [00:00&lt;00:00, 185.21it/s]"
      }
     },
     "9e62f6375cf64676b24934581e83afab": {
      "model_module": "@jupyter-widgets/controls",
      "model_module_version": "1.4.0",
      "model_name": "ProgressStyleModel",
      "state": {
       "description_width": ""
      }
     },
     "9e647c602a8642269f0748e3912e25bd": {
      "model_module": "@jupyter-widgets/controls",
      "model_module_version": "1.4.0",
      "model_name": "ProgressStyleModel",
      "state": {
       "description_width": ""
      }
     },
     "9f1f71ea6a744beeaf5e844fce4b1942": {
      "model_module": "@jupyter-widgets/controls",
      "model_module_version": "1.4.0",
      "model_name": "IntProgressModel",
      "state": {
       "layout": "IPY_MODEL_c141074e83194bfe8a2eb7b539931f90",
       "max": 34,
       "style": "IPY_MODEL_0d34b92a4de44d75bf304a93645e8565",
       "value": 34
      }
     },
     "9f4d4944ddb94f9c80469c9b4ace7ee0": {
      "model_module": "@jupyter-widgets/controls",
      "model_module_version": "1.4.0",
      "model_name": "IntProgressModel",
      "state": {
       "layout": "IPY_MODEL_637372f06bc84ec7a9dc6e2ba7f90758",
       "max": 78,
       "style": "IPY_MODEL_5e7c0fdf07ab490486f971bbfe02905f",
       "value": 47
      }
     },
     "9f6adf35b21a40ffaef17238d67cf1d5": {
      "model_module": "@jupyter-widgets/base",
      "model_module_version": "1.1.0",
      "model_name": "LayoutModel",
      "state": {}
     },
     "9fe24b26f6f34373bc36c2ce2bb81d90": {
      "model_module": "@jupyter-widgets/controls",
      "model_module_version": "1.4.0",
      "model_name": "IntProgressModel",
      "state": {
       "layout": "IPY_MODEL_425c07fed1d94ee399a820d0fffd7e8c",
       "max": 78,
       "style": "IPY_MODEL_39af3261b31e43b1ad4d4c8df3c8f862",
       "value": 66
      }
     },
     "a01448ec2dc0425c801369e293dfa3a7": {
      "model_module": "@jupyter-widgets/base",
      "model_module_version": "1.1.0",
      "model_name": "LayoutModel",
      "state": {}
     },
     "a035ca8464524f4695859bb057bba14c": {
      "model_module": "@jupyter-widgets/controls",
      "model_module_version": "1.4.0",
      "model_name": "IntProgressModel",
      "state": {
       "layout": "IPY_MODEL_58f89233f1c547c89c85f766cdd07827",
       "max": 34,
       "style": "IPY_MODEL_463ea8053bc74dafaadd4d5b25e51ad9",
       "value": 34
      }
     },
     "a0610c935d0c4488adff45558d3e6dde": {
      "model_module": "@jupyter-widgets/base",
      "model_module_version": "1.1.0",
      "model_name": "LayoutModel",
      "state": {}
     },
     "a09f298cd3bd471d97f0e4a3da4e0532": {
      "model_module": "@jupyter-widgets/base",
      "model_module_version": "1.1.0",
      "model_name": "LayoutModel",
      "state": {}
     },
     "a0ac024a60d7492781621cdd84fdd44c": {
      "model_module": "@jupyter-widgets/controls",
      "model_module_version": "1.4.0",
      "model_name": "HTMLModel",
      "state": {
       "layout": "IPY_MODEL_c73be089644444cfa55ebf01ceaed06f",
       "style": "IPY_MODEL_bf5622561803461fb1132d10a23bc964",
       "value": "100% 17/17 [00:08&lt;00:00,  1.89it/s]"
      }
     },
     "a0c766ccdcdd4988a16c033a3ec9724a": {
      "model_module": "@jupyter-widgets/controls",
      "model_module_version": "1.4.0",
      "model_name": "IntProgressModel",
      "state": {
       "layout": "IPY_MODEL_0e5fc49f53ac477fb43ef55914d2e67b",
       "max": 34,
       "style": "IPY_MODEL_66214eba963d4a13b98299750784727f",
       "value": 34
      }
     },
     "a0ebcd7756a44f189574de5cdafa99f0": {
      "model_module": "@jupyter-widgets/controls",
      "model_module_version": "1.4.0",
      "model_name": "HTMLModel",
      "state": {
       "layout": "IPY_MODEL_531517b7da8a42fd9be7232a0d370000",
       "style": "IPY_MODEL_47b3da9a0e3e4964a35dbc0975fba4cc",
       "value": " 60% 47/78 [00:00&lt;00:00, 227.15it/s]"
      }
     },
     "a12fe4b15c754914b8f6cebfc0848d7a": {
      "model_module": "@jupyter-widgets/base",
      "model_module_version": "1.1.0",
      "model_name": "LayoutModel",
      "state": {}
     },
     "a207d690a71f412dac48a6644d699ff1": {
      "model_module": "@jupyter-widgets/controls",
      "model_module_version": "1.4.0",
      "model_name": "ProgressStyleModel",
      "state": {
       "description_width": ""
      }
     },
     "a2193b8fc15742b3887cd78d19f1a124": {
      "model_module": "@jupyter-widgets/base",
      "model_module_version": "1.1.0",
      "model_name": "LayoutModel",
      "state": {}
     },
     "a24194f40e5b40f7902d6b8d1e20900b": {
      "model_module": "@jupyter-widgets/base",
      "model_module_version": "1.1.0",
      "model_name": "LayoutModel",
      "state": {}
     },
     "a27006141d884f04a84329fee34f0bfc": {
      "model_module": "@jupyter-widgets/controls",
      "model_module_version": "1.4.0",
      "model_name": "IntProgressModel",
      "state": {
       "layout": "IPY_MODEL_a4b6f4eb00f1405898d07f966c757664",
       "max": 78,
       "style": "IPY_MODEL_d471e6d121f14c05a938102128dcbfd5",
       "value": 35
      }
     },
     "a2777005da9743d79ca03b70162da800": {
      "model_module": "@jupyter-widgets/controls",
      "model_module_version": "1.4.0",
      "model_name": "ProgressStyleModel",
      "state": {
       "description_width": ""
      }
     },
     "a29e276b0998462fb0a26c54005c6e65": {
      "model_module": "@jupyter-widgets/base",
      "model_module_version": "1.1.0",
      "model_name": "LayoutModel",
      "state": {}
     },
     "a2e29c998e3941418ea7ab6906921607": {
      "model_module": "@jupyter-widgets/base",
      "model_module_version": "1.1.0",
      "model_name": "LayoutModel",
      "state": {}
     },
     "a32ca224e40d41dcb98f801c195413ed": {
      "model_module": "@jupyter-widgets/controls",
      "model_module_version": "1.4.0",
      "model_name": "ProgressStyleModel",
      "state": {
       "description_width": ""
      }
     },
     "a389c7bd343147499a5eef7ebee0a916": {
      "model_module": "@jupyter-widgets/controls",
      "model_module_version": "1.4.0",
      "model_name": "HTMLModel",
      "state": {
       "layout": "IPY_MODEL_928c319116fd4cbdb8c53c7a4b6845e8",
       "style": "IPY_MODEL_0836958eb8274fcea8e957b4790fa688",
       "value": "100% 34/34 [00:23&lt;00:00,  1.45it/s]"
      }
     },
     "a39bac5c31cc41eeaaa32f0dca4524f2": {
      "model_module": "@jupyter-widgets/controls",
      "model_module_version": "1.4.0",
      "model_name": "HTMLModel",
      "state": {
       "layout": "IPY_MODEL_9399d92b6883469099dba16581a22634",
       "style": "IPY_MODEL_74eebc3ac7c14ff4a12be3a6244bb254",
       "value": "100% 17/17 [00:09&lt;00:00,  1.78it/s]"
      }
     },
     "a39dc368af054423b35527840d51faac": {
      "model_module": "@jupyter-widgets/base",
      "model_module_version": "1.1.0",
      "model_name": "LayoutModel",
      "state": {}
     },
     "a3bf7cc156dc455198754ebc2e4bf3a7": {
      "model_module": "@jupyter-widgets/base",
      "model_module_version": "1.1.0",
      "model_name": "LayoutModel",
      "state": {}
     },
     "a3c51a8a9d0e4cc38b5aa1691abc982f": {
      "model_module": "@jupyter-widgets/controls",
      "model_module_version": "1.4.0",
      "model_name": "HTMLModel",
      "state": {
       "layout": "IPY_MODEL_af0bc7196df44f4492c59da3deaaaf0b",
       "style": "IPY_MODEL_944c3d07de1140729bfa696a5c74347e",
       "value": "100% 17/17 [00:10&lt;00:00,  1.70it/s]"
      }
     },
     "a3e7bd25d41e48789950e440a7ad49fe": {
      "model_module": "@jupyter-widgets/controls",
      "model_module_version": "1.4.0",
      "model_name": "HTMLModel",
      "state": {
       "layout": "IPY_MODEL_5785d25c768441d8b71b07816d49bfe8",
       "style": "IPY_MODEL_cd651d4c0bdb46c48bdc4477b84ea4fb",
       "value": "100% 34/34 [00:24&lt;00:00,  1.40it/s]"
      }
     },
     "a4197049c3ff48dc940db4327cf74b73": {
      "model_module": "@jupyter-widgets/base",
      "model_module_version": "1.1.0",
      "model_name": "LayoutModel",
      "state": {}
     },
     "a42ff0d0d6ec48d9953e6b617e6080cd": {
      "model_module": "@jupyter-widgets/controls",
      "model_module_version": "1.4.0",
      "model_name": "HTMLModel",
      "state": {
       "layout": "IPY_MODEL_19662bc187ee498086b1bc2f554d3411",
       "style": "IPY_MODEL_2ff05e1e0bf14cd78f2b8a558159c1bd",
       "value": " 95% 74/78 [00:00&lt;00:00, 97.92it/s]"
      }
     },
     "a43afa594f5442ccbc71ed97b664d34c": {
      "model_module": "@jupyter-widgets/controls",
      "model_module_version": "1.4.0",
      "model_name": "DescriptionStyleModel",
      "state": {
       "description_width": ""
      }
     },
     "a44d561f16274c8294c31c2f0e2c92f5": {
      "model_module": "@jupyter-widgets/base",
      "model_module_version": "1.1.0",
      "model_name": "LayoutModel",
      "state": {}
     },
     "a4674f8b5f0047568584fe48f1157c9e": {
      "model_module": "@jupyter-widgets/base",
      "model_module_version": "1.1.0",
      "model_name": "LayoutModel",
      "state": {}
     },
     "a4957252652b43e8bf54a647b4c7600d": {
      "model_module": "@jupyter-widgets/controls",
      "model_module_version": "1.4.0",
      "model_name": "IntProgressModel",
      "state": {
       "layout": "IPY_MODEL_47e68e5c19e7439fb7c2edeb39dc172e",
       "max": 34,
       "style": "IPY_MODEL_3fcd0c3a24a242e79711944a8c8bac31",
       "value": 34
      }
     },
     "a4b6f4eb00f1405898d07f966c757664": {
      "model_module": "@jupyter-widgets/base",
      "model_module_version": "1.1.0",
      "model_name": "LayoutModel",
      "state": {}
     },
     "a4def98ce22b4092ab7c059ae3d2b521": {
      "model_module": "@jupyter-widgets/controls",
      "model_module_version": "1.4.0",
      "model_name": "IntProgressModel",
      "state": {
       "layout": "IPY_MODEL_774868c615574588a7f991ff28544154",
       "max": 78,
       "style": "IPY_MODEL_5242740220d6414496a89ba70545f3e2",
       "value": 66
      }
     },
     "a50359251a5a488eb11c0ea4da6479da": {
      "model_module": "@jupyter-widgets/base",
      "model_module_version": "1.1.0",
      "model_name": "LayoutModel",
      "state": {}
     },
     "a51902704be8410090ddb2540f9e315a": {
      "model_module": "@jupyter-widgets/base",
      "model_module_version": "1.1.0",
      "model_name": "LayoutModel",
      "state": {}
     },
     "a605c7f6db3f4df98632176d00d0407d": {
      "model_module": "@jupyter-widgets/controls",
      "model_module_version": "1.4.0",
      "model_name": "DescriptionStyleModel",
      "state": {
       "description_width": ""
      }
     },
     "a6320d8049884c379acfe9b813c9a095": {
      "model_module": "@jupyter-widgets/controls",
      "model_module_version": "1.4.0",
      "model_name": "DescriptionStyleModel",
      "state": {
       "description_width": ""
      }
     },
     "a64132b73ade4e3791739b6762422657": {
      "model_module": "@jupyter-widgets/base",
      "model_module_version": "1.1.0",
      "model_name": "LayoutModel",
      "state": {}
     },
     "a643d81195dc42f487a646e11ea66dc1": {
      "model_module": "@jupyter-widgets/controls",
      "model_module_version": "1.4.0",
      "model_name": "IntProgressModel",
      "state": {
       "layout": "IPY_MODEL_5d711c9b3fdb4898990ba729e6b93b95",
       "max": 78,
       "style": "IPY_MODEL_06bbfebfe44a49b6bbdfd2bb1d664746",
       "value": 54
      }
     },
     "a67db469bba54705907f5a4f5d3a5a3c": {
      "model_module": "@jupyter-widgets/controls",
      "model_module_version": "1.4.0",
      "model_name": "ProgressStyleModel",
      "state": {
       "description_width": ""
      }
     },
     "a6cc9e2df24a422bb70f4188a12212bc": {
      "model_module": "@jupyter-widgets/controls",
      "model_module_version": "1.4.0",
      "model_name": "ProgressStyleModel",
      "state": {
       "description_width": ""
      }
     },
     "a6eb0597202f4509b26768b199ba304b": {
      "model_module": "@jupyter-widgets/controls",
      "model_module_version": "1.4.0",
      "model_name": "IntProgressModel",
      "state": {
       "layout": "IPY_MODEL_1d10643f46ee41eaa906c33a7a49ac79",
       "max": 17,
       "style": "IPY_MODEL_385f78735f1146f2ad093d25052aa6f5",
       "value": 17
      }
     },
     "a71e8759489946dbaeccd8048731953f": {
      "model_module": "@jupyter-widgets/base",
      "model_module_version": "1.1.0",
      "model_name": "LayoutModel",
      "state": {}
     },
     "a735628eb2044caebc5fec924ade97a3": {
      "model_module": "@jupyter-widgets/controls",
      "model_module_version": "1.4.0",
      "model_name": "ProgressStyleModel",
      "state": {
       "description_width": ""
      }
     },
     "a736b3256e16428197bca3d5f4b07673": {
      "model_module": "@jupyter-widgets/base",
      "model_module_version": "1.1.0",
      "model_name": "LayoutModel",
      "state": {}
     },
     "a73eb47ff07e4342ba83980035090e58": {
      "model_module": "@jupyter-widgets/controls",
      "model_module_version": "1.4.0",
      "model_name": "ProgressStyleModel",
      "state": {
       "description_width": ""
      }
     },
     "a765190803364538a7fb377c531eeafe": {
      "model_module": "@jupyter-widgets/controls",
      "model_module_version": "1.4.0",
      "model_name": "IntProgressModel",
      "state": {
       "bar_style": "success",
       "layout": "IPY_MODEL_e2bb2bd8c79540d5944c1fc209c93f29",
       "max": 551,
       "style": "IPY_MODEL_908cdea399c340aeb422be101093a698",
       "value": 551
      }
     },
     "a76d280002c647af81bb973fd865bcb5": {
      "model_module": "@jupyter-widgets/controls",
      "model_module_version": "1.4.0",
      "model_name": "IntProgressModel",
      "state": {
       "layout": "IPY_MODEL_2a6d39fb10114be3bccfca4f924c33e7",
       "max": 78,
       "style": "IPY_MODEL_8d2f1b0ddf3449d1b897f4dbf21ba8eb",
       "value": 35
      }
     },
     "a77dfa2f4a2a46fdacfe6400e8409e22": {
      "model_module": "@jupyter-widgets/controls",
      "model_module_version": "1.4.0",
      "model_name": "HTMLModel",
      "state": {
       "layout": "IPY_MODEL_1ed2dcc387d54cea87f1aa9c18f8749b",
       "style": "IPY_MODEL_dd72cb2ea7724849b6044c890ef22f02",
       "value": "100% 34/34 [00:23&lt;00:00,  1.42it/s]"
      }
     },
     "a79293f26c3b4def80cb1da1d08ae627": {
      "model_module": "@jupyter-widgets/base",
      "model_module_version": "1.1.0",
      "model_name": "LayoutModel",
      "state": {}
     },
     "a79dc50b5c8444b393ef3c83861148b3": {
      "model_module": "@jupyter-widgets/controls",
      "model_module_version": "1.4.0",
      "model_name": "DescriptionStyleModel",
      "state": {
       "description_width": ""
      }
     },
     "a7c97534788c4476a36c3cad5d991f03": {
      "model_module": "@jupyter-widgets/base",
      "model_module_version": "1.1.0",
      "model_name": "LayoutModel",
      "state": {}
     },
     "a7e2695d810f4ebd83f57ef5df05540b": {
      "model_module": "@jupyter-widgets/base",
      "model_module_version": "1.1.0",
      "model_name": "LayoutModel",
      "state": {}
     },
     "a8cd80b615f64235b1fa89943adf98e0": {
      "model_module": "@jupyter-widgets/base",
      "model_module_version": "1.1.0",
      "model_name": "LayoutModel",
      "state": {}
     },
     "a8d1ff5da25e45e3bd6c8c1099632689": {
      "model_module": "@jupyter-widgets/controls",
      "model_module_version": "1.4.0",
      "model_name": "HTMLModel",
      "state": {
       "layout": "IPY_MODEL_70c2ae1e2094421199632e4881983e89",
       "style": "IPY_MODEL_f69b1e4713ab4e73b6ed38726b1c6594",
       "value": "100% 34/34 [00:23&lt;00:00,  1.46it/s]"
      }
     },
     "a924b4a9521644cdaf2ac623a66faf90": {
      "model_module": "@jupyter-widgets/base",
      "model_module_version": "1.1.0",
      "model_name": "LayoutModel",
      "state": {}
     },
     "a946aa564fbd485ab460580f6bdf6879": {
      "model_module": "@jupyter-widgets/controls",
      "model_module_version": "1.4.0",
      "model_name": "DescriptionStyleModel",
      "state": {
       "description_width": ""
      }
     },
     "a9a9c940e7af416680902dd6a03b9ecc": {
      "model_module": "@jupyter-widgets/controls",
      "model_module_version": "1.4.0",
      "model_name": "ProgressStyleModel",
      "state": {
       "description_width": ""
      }
     },
     "a9ae2dfaa66a46499c963a0c70d3aa3f": {
      "model_module": "@jupyter-widgets/controls",
      "model_module_version": "1.4.0",
      "model_name": "IntProgressModel",
      "state": {
       "layout": "IPY_MODEL_a39dc368af054423b35527840d51faac",
       "max": 78,
       "style": "IPY_MODEL_cb7d15bf923f4e92ba58d8656c6d12d4",
       "value": 49
      }
     },
     "a9de77ceeeb94d5098e6cdd7ba666837": {
      "model_module": "@jupyter-widgets/base",
      "model_module_version": "1.1.0",
      "model_name": "LayoutModel",
      "state": {}
     },
     "aa1f902fb5844315872131cc02ef4930": {
      "model_module": "@jupyter-widgets/controls",
      "model_module_version": "1.4.0",
      "model_name": "DescriptionStyleModel",
      "state": {
       "description_width": ""
      }
     },
     "aa54e460602a453ebd40be95f72cd876": {
      "model_module": "@jupyter-widgets/controls",
      "model_module_version": "1.4.0",
      "model_name": "IntProgressModel",
      "state": {
       "layout": "IPY_MODEL_fde009dd87c5441b95dc2029735eeec6",
       "max": 34,
       "style": "IPY_MODEL_669b23d4a4d944acb733908d5a20acc4",
       "value": 34
      }
     },
     "aa8a88a7a29547aa98cb08c3629f6dab": {
      "model_module": "@jupyter-widgets/base",
      "model_module_version": "1.1.0",
      "model_name": "LayoutModel",
      "state": {}
     },
     "aae0c3f6d43544459c71424bc444f654": {
      "model_module": "@jupyter-widgets/base",
      "model_module_version": "1.1.0",
      "model_name": "LayoutModel",
      "state": {}
     },
     "ab5050b948b84d92a108e08d946ef147": {
      "model_module": "@jupyter-widgets/base",
      "model_module_version": "1.1.0",
      "model_name": "LayoutModel",
      "state": {}
     },
     "ab8a68e085134a7387a1b8c5ec232c9f": {
      "model_module": "@jupyter-widgets/controls",
      "model_module_version": "1.4.0",
      "model_name": "DescriptionStyleModel",
      "state": {
       "description_width": ""
      }
     },
     "ab8cf003194343ed87bd875c4a41b3b1": {
      "model_module": "@jupyter-widgets/base",
      "model_module_version": "1.1.0",
      "model_name": "LayoutModel",
      "state": {}
     },
     "aba79c66eea943e28673070f06829c6b": {
      "model_module": "@jupyter-widgets/base",
      "model_module_version": "1.1.0",
      "model_name": "LayoutModel",
      "state": {}
     },
     "abbe0c1fb6af44919aa3ab37b6ce2f6c": {
      "model_module": "@jupyter-widgets/base",
      "model_module_version": "1.1.0",
      "model_name": "LayoutModel",
      "state": {}
     },
     "abcd8da0dc224ed797a22f6cbc61c273": {
      "model_module": "@jupyter-widgets/controls",
      "model_module_version": "1.4.0",
      "model_name": "HTMLModel",
      "state": {
       "layout": "IPY_MODEL_fb371e1cbd23466a9d9323402499e205",
       "style": "IPY_MODEL_03037d92e62247aab24de4858376e1da",
       "value": " 96% 75/78 [00:00&lt;00:00, 372.59it/s]"
      }
     },
     "abf6fb20d6fa4874929b4e10a4b9c307": {
      "model_module": "@jupyter-widgets/controls",
      "model_module_version": "1.4.0",
      "model_name": "IntProgressModel",
      "state": {
       "bar_style": "success",
       "layout": "IPY_MODEL_603d891cc6bb4dc98a812ce02a33448f",
       "max": 78,
       "style": "IPY_MODEL_0382cf3b3131465bb09445c7e3729410",
       "value": 78
      }
     },
     "ac0297a0e1ee429db98d7e3fe128e035": {
      "model_module": "@jupyter-widgets/controls",
      "model_module_version": "1.4.0",
      "model_name": "IntProgressModel",
      "state": {
       "layout": "IPY_MODEL_73c41fa51cd249f2b70e2f34f5acc4c6",
       "max": 17,
       "style": "IPY_MODEL_567763be68634d3c87ef42c528b30bdf",
       "value": 17
      }
     },
     "ac146ff9f4104cd782c452adac08b2b0": {
      "model_module": "@jupyter-widgets/controls",
      "model_module_version": "1.4.0",
      "model_name": "HTMLModel",
      "state": {
       "layout": "IPY_MODEL_a4197049c3ff48dc940db4327cf74b73",
       "style": "IPY_MODEL_2dce98ae5a1f4183bd295df665a13198",
       "value": " 85% 66/78 [00:00&lt;00:00, 202.14it/s]"
      }
     },
     "ac2620c687ac497b846fe99c4e0b5b1f": {
      "model_module": "@jupyter-widgets/controls",
      "model_module_version": "1.4.0",
      "model_name": "DescriptionStyleModel",
      "state": {
       "description_width": ""
      }
     },
     "ac4de6d483554878b29990642d789391": {
      "model_module": "@jupyter-widgets/controls",
      "model_module_version": "1.4.0",
      "model_name": "IntProgressModel",
      "state": {
       "layout": "IPY_MODEL_8625afb7760c4ab6a8fc7c1dbc27733b",
       "max": 78,
       "style": "IPY_MODEL_890663db431c43b0b3a5a4ea4f6d48f0",
       "value": 68
      }
     },
     "ac53d4f817c843e5a4c79702a1a85545": {
      "model_module": "@jupyter-widgets/controls",
      "model_module_version": "1.4.0",
      "model_name": "DescriptionStyleModel",
      "state": {
       "description_width": ""
      }
     },
     "ac80017f6f02430587e9c504845bdc67": {
      "model_module": "@jupyter-widgets/controls",
      "model_module_version": "1.4.0",
      "model_name": "DescriptionStyleModel",
      "state": {
       "description_width": ""
      }
     },
     "ac8ddf9e5423464886ddaa5de3badbf1": {
      "model_module": "@jupyter-widgets/controls",
      "model_module_version": "1.4.0",
      "model_name": "IntProgressModel",
      "state": {
       "layout": "IPY_MODEL_f995986cec4041a6a7a09a1cab4d1092",
       "max": 34,
       "style": "IPY_MODEL_47776f428374469e805778ff64d8391b",
       "value": 34
      }
     },
     "aca74f2734d445729964ca9cbe6cde8c": {
      "model_module": "@jupyter-widgets/base",
      "model_module_version": "1.1.0",
      "model_name": "LayoutModel",
      "state": {}
     },
     "acf9299459364b778ac75876768aa4a0": {
      "model_module": "@jupyter-widgets/base",
      "model_module_version": "1.1.0",
      "model_name": "LayoutModel",
      "state": {}
     },
     "ad51573f70514241aa50834bf54a5bbe": {
      "model_module": "@jupyter-widgets/controls",
      "model_module_version": "1.4.0",
      "model_name": "IntProgressModel",
      "state": {
       "layout": "IPY_MODEL_11ce42f3cc664a8699f4f2801a50867d",
       "max": 78,
       "style": "IPY_MODEL_d1a1e1b4e4e1447eb2c7bed4e6a8cb7e",
       "value": 71
      }
     },
     "adaf5a26aede4271ab1b8d6ed8e579d4": {
      "model_module": "@jupyter-widgets/base",
      "model_module_version": "1.1.0",
      "model_name": "LayoutModel",
      "state": {}
     },
     "adbad12a9c8547cdade09a37aa8a7c67": {
      "model_module": "@jupyter-widgets/controls",
      "model_module_version": "1.4.0",
      "model_name": "IntProgressModel",
      "state": {
       "layout": "IPY_MODEL_3335f6a47f7d47589900e177f9ac1be0",
       "max": 78,
       "style": "IPY_MODEL_3e08ba558d164c428847df1214ef93e2",
       "value": 36
      }
     },
     "adceb7e9b83d40a4b26b2e73cbd4d875": {
      "model_module": "@jupyter-widgets/controls",
      "model_module_version": "1.4.0",
      "model_name": "IntProgressModel",
      "state": {
       "layout": "IPY_MODEL_69c460df5c2d423d8b2d96274e437d98",
       "max": 34,
       "style": "IPY_MODEL_438bb9fbc01a4ee0ab6eb3b1856f945a",
       "value": 34
      }
     },
     "adcffd291de245ba961f59ef015d6487": {
      "model_module": "@jupyter-widgets/controls",
      "model_module_version": "1.4.0",
      "model_name": "ProgressStyleModel",
      "state": {
       "description_width": ""
      }
     },
     "ae033c0e9b3245479ae4f47d71390910": {
      "model_module": "@jupyter-widgets/controls",
      "model_module_version": "1.4.0",
      "model_name": "ProgressStyleModel",
      "state": {
       "description_width": ""
      }
     },
     "ae1612ed523841fdbdf2c7b5834a79bb": {
      "model_module": "@jupyter-widgets/base",
      "model_module_version": "1.1.0",
      "model_name": "LayoutModel",
      "state": {}
     },
     "ae1fcb3145394a42a97ce1975d31309e": {
      "model_module": "@jupyter-widgets/controls",
      "model_module_version": "1.4.0",
      "model_name": "IntProgressModel",
      "state": {
       "layout": "IPY_MODEL_a924b4a9521644cdaf2ac623a66faf90",
       "max": 78,
       "style": "IPY_MODEL_30c70046f8c2444ea1257c3417d8d540",
       "value": 37
      }
     },
     "aeadd6b0c7b84572893be8f59a5c8794": {
      "model_module": "@jupyter-widgets/base",
      "model_module_version": "1.1.0",
      "model_name": "LayoutModel",
      "state": {}
     },
     "af022f781926450689a80df13dba27a9": {
      "model_module": "@jupyter-widgets/controls",
      "model_module_version": "1.4.0",
      "model_name": "HTMLModel",
      "state": {
       "layout": "IPY_MODEL_3daea88c45294b62a279d77e88273bf7",
       "style": "IPY_MODEL_061d6d2e61ed48ba90e7b186cf03d5c0",
       "value": "100% 34/34 [00:26&lt;00:00,  1.27it/s]"
      }
     },
     "af0bc7196df44f4492c59da3deaaaf0b": {
      "model_module": "@jupyter-widgets/base",
      "model_module_version": "1.1.0",
      "model_name": "LayoutModel",
      "state": {}
     },
     "af27a329d3c94f53a7adde60dbf8a776": {
      "model_module": "@jupyter-widgets/base",
      "model_module_version": "1.1.0",
      "model_name": "LayoutModel",
      "state": {}
     },
     "af9ea78084a24e6db3b2e8e2b907cf6b": {
      "model_module": "@jupyter-widgets/base",
      "model_module_version": "1.1.0",
      "model_name": "LayoutModel",
      "state": {}
     },
     "afb0e3aa08404634bbc8dff59c9b480d": {
      "model_module": "@jupyter-widgets/base",
      "model_module_version": "1.1.0",
      "model_name": "LayoutModel",
      "state": {}
     },
     "b00564ef3355461ba7c44b424e9efdf7": {
      "model_module": "@jupyter-widgets/controls",
      "model_module_version": "1.4.0",
      "model_name": "DescriptionStyleModel",
      "state": {
       "description_width": ""
      }
     },
     "b03cee47644842bd9eb505a9cae6678c": {
      "model_module": "@jupyter-widgets/controls",
      "model_module_version": "1.4.0",
      "model_name": "HTMLModel",
      "state": {
       "layout": "IPY_MODEL_bed059df291c4047b520877ea064f6da",
       "style": "IPY_MODEL_88e3188b268a47ba8e99c1f823766484",
       "value": "100% 34/34 [00:27&lt;00:00,  1.22it/s]"
      }
     },
     "b04e72ca7179411cbd33781a889328a9": {
      "model_module": "@jupyter-widgets/controls",
      "model_module_version": "1.4.0",
      "model_name": "HTMLModel",
      "state": {
       "layout": "IPY_MODEL_341fe0f2ccf042bd8e2da0835e3ef476",
       "style": "IPY_MODEL_9b19490a8f5a4b789796f2c62f479001",
       "value": "100% 17/17 [00:09&lt;00:00,  1.84it/s]"
      }
     },
     "b08fa572f8fe43fe8dfdf4890fb7b288": {
      "model_module": "@jupyter-widgets/controls",
      "model_module_version": "1.4.0",
      "model_name": "ProgressStyleModel",
      "state": {
       "description_width": ""
      }
     },
     "b0a030646f674068aefdaab029c9ea6e": {
      "model_module": "@jupyter-widgets/base",
      "model_module_version": "1.1.0",
      "model_name": "LayoutModel",
      "state": {}
     },
     "b0a9239d8f4442b2ba0545a665f88976": {
      "model_module": "@jupyter-widgets/base",
      "model_module_version": "1.1.0",
      "model_name": "LayoutModel",
      "state": {}
     },
     "b0c9d3709459407e92c0c63d3572bec6": {
      "model_module": "@jupyter-widgets/controls",
      "model_module_version": "1.4.0",
      "model_name": "HTMLModel",
      "state": {
       "layout": "IPY_MODEL_7495de4b02684f49a8df734551adf120",
       "style": "IPY_MODEL_6fb9f1869ac6428da8da738b27ea6723",
       "value": "100% 34/34 [00:26&lt;00:00,  1.27it/s]"
      }
     },
     "b0ddd7209bbb422e86eea00a5d440b37": {
      "model_module": "@jupyter-widgets/base",
      "model_module_version": "1.1.0",
      "model_name": "LayoutModel",
      "state": {}
     },
     "b11ee401649046b18369bc3a9095a525": {
      "model_module": "@jupyter-widgets/base",
      "model_module_version": "1.1.0",
      "model_name": "LayoutModel",
      "state": {}
     },
     "b120ee74cb4c4591b446e221d8e4f51a": {
      "model_module": "@jupyter-widgets/controls",
      "model_module_version": "1.4.0",
      "model_name": "HTMLModel",
      "state": {
       "layout": "IPY_MODEL_208850563ba14fccb90db5d3196befb3",
       "style": "IPY_MODEL_51a1f8c08acd4c6c82df46dcb3789d30",
       "value": "100% 17/17 [00:09&lt;00:00,  1.75it/s]"
      }
     },
     "b172a8642c2e480c818cf65b34f27945": {
      "model_module": "@jupyter-widgets/controls",
      "model_module_version": "1.4.0",
      "model_name": "DescriptionStyleModel",
      "state": {
       "description_width": ""
      }
     },
     "b1a08d3f8cc34a79bf9941e565403d10": {
      "model_module": "@jupyter-widgets/controls",
      "model_module_version": "1.4.0",
      "model_name": "DescriptionStyleModel",
      "state": {
       "description_width": ""
      }
     },
     "b1bd09d06ca949b1aa0959ba699f8980": {
      "model_module": "@jupyter-widgets/controls",
      "model_module_version": "1.4.0",
      "model_name": "ProgressStyleModel",
      "state": {
       "description_width": ""
      }
     },
     "b1e01016b16a4b958e5c32627a4563ab": {
      "model_module": "@jupyter-widgets/base",
      "model_module_version": "1.1.0",
      "model_name": "LayoutModel",
      "state": {}
     },
     "b202a96c10b5425794aad9a99fc66753": {
      "model_module": "@jupyter-widgets/controls",
      "model_module_version": "1.4.0",
      "model_name": "IntProgressModel",
      "state": {
       "layout": "IPY_MODEL_085f4684b64d4c20bcb388855e4b55fc",
       "max": 34,
       "style": "IPY_MODEL_c9ef833e35654928b04bad4f258c7d58",
       "value": 34
      }
     },
     "b279e987fac446d18e6b4e54402e277f": {
      "model_module": "@jupyter-widgets/base",
      "model_module_version": "1.1.0",
      "model_name": "LayoutModel",
      "state": {}
     },
     "b2a46eb227f94e6daa51d9762631cdad": {
      "model_module": "@jupyter-widgets/base",
      "model_module_version": "1.1.0",
      "model_name": "LayoutModel",
      "state": {}
     },
     "b2c47c2827034309a19bac01d1ef196e": {
      "model_module": "@jupyter-widgets/controls",
      "model_module_version": "1.4.0",
      "model_name": "DescriptionStyleModel",
      "state": {
       "description_width": ""
      }
     },
     "b3294872eab24e02963ef18fcf26bfc8": {
      "model_module": "@jupyter-widgets/controls",
      "model_module_version": "1.4.0",
      "model_name": "DescriptionStyleModel",
      "state": {
       "description_width": ""
      }
     },
     "b32b3464118f43309a84180ae3dfc944": {
      "model_module": "@jupyter-widgets/base",
      "model_module_version": "1.1.0",
      "model_name": "LayoutModel",
      "state": {}
     },
     "b343ae0c507a414a9349058f50fe3072": {
      "model_module": "@jupyter-widgets/controls",
      "model_module_version": "1.4.0",
      "model_name": "DescriptionStyleModel",
      "state": {
       "description_width": ""
      }
     },
     "b3980eb25c5c42c8807372eac256a338": {
      "model_module": "@jupyter-widgets/controls",
      "model_module_version": "1.4.0",
      "model_name": "HBoxModel",
      "state": {
       "children": [
        "IPY_MODEL_abf6fb20d6fa4874929b4e10a4b9c307",
        "IPY_MODEL_8ea662573474481cbfc08b2b8ccc7396"
       ],
       "layout": "IPY_MODEL_5be48f29bb6e4616a12894d38f26e1b6"
      }
     },
     "b42e998c03504160acf0ae4709f95471": {
      "model_module": "@jupyter-widgets/controls",
      "model_module_version": "1.4.0",
      "model_name": "HTMLModel",
      "state": {
       "layout": "IPY_MODEL_6fb35f585d2e4bbbaac592784102d687",
       "style": "IPY_MODEL_77df49cffa6d45ae846f0dbda3611311",
       "value": " 62% 48/78 [00:00&lt;00:00, 233.98it/s]"
      }
     },
     "b459736521f043feb6de82bec8ee7f1c": {
      "model_module": "@jupyter-widgets/controls",
      "model_module_version": "1.4.0",
      "model_name": "IntProgressModel",
      "state": {
       "layout": "IPY_MODEL_a50359251a5a488eb11c0ea4da6479da",
       "max": 78,
       "style": "IPY_MODEL_d8992ee9d57741f589e60c7a65986caf",
       "value": 69
      }
     },
     "b4ff34c540154400bc91d2d2fc729b68": {
      "model_module": "@jupyter-widgets/controls",
      "model_module_version": "1.4.0",
      "model_name": "IntProgressModel",
      "state": {
       "layout": "IPY_MODEL_19e1950192d64d8595e6dfbc87b61d7f",
       "max": 34,
       "style": "IPY_MODEL_c9641c9efa46407fba5f6f86901a6b80",
       "value": 34
      }
     },
     "b53a4759d600473cb1e6af6d8c6d0193": {
      "model_module": "@jupyter-widgets/controls",
      "model_module_version": "1.4.0",
      "model_name": "HTMLModel",
      "state": {
       "layout": "IPY_MODEL_f34022c21a5d4c0d81ae38ef685a2a80",
       "style": "IPY_MODEL_5e5444a681a94816a767629b02850a89",
       "value": "100% 17/17 [00:08&lt;00:00,  1.90it/s]"
      }
     },
     "b57befc919864c1aa31d2803cd65ab80": {
      "model_module": "@jupyter-widgets/base",
      "model_module_version": "1.1.0",
      "model_name": "LayoutModel",
      "state": {}
     },
     "b5df989c279f4cc1840a73cfc294bc15": {
      "model_module": "@jupyter-widgets/base",
      "model_module_version": "1.1.0",
      "model_name": "LayoutModel",
      "state": {}
     },
     "b5f07aef87984849a2ed26d5c79c1657": {
      "model_module": "@jupyter-widgets/controls",
      "model_module_version": "1.4.0",
      "model_name": "ProgressStyleModel",
      "state": {
       "description_width": ""
      }
     },
     "b60cd90807de4e07b47b4eee0ae75169": {
      "model_module": "@jupyter-widgets/controls",
      "model_module_version": "1.4.0",
      "model_name": "DescriptionStyleModel",
      "state": {
       "description_width": ""
      }
     },
     "b6ac7edc28bb43bf88a1f7df629b03ea": {
      "model_module": "@jupyter-widgets/controls",
      "model_module_version": "1.4.0",
      "model_name": "IntProgressModel",
      "state": {
       "layout": "IPY_MODEL_85f610a77b6a40208692ed73d95bdfb1",
       "max": 78,
       "style": "IPY_MODEL_32d30f51cb6c4014871959dbf9fef86a",
       "value": 52
      }
     },
     "b6b5cbedfbc84b008f16fc90dea95325": {
      "model_module": "@jupyter-widgets/controls",
      "model_module_version": "1.4.0",
      "model_name": "HTMLModel",
      "state": {
       "layout": "IPY_MODEL_ea0f57086f4f45b7a5bab26298451ebd",
       "style": "IPY_MODEL_3e28e54a3470475fa59de4a772c15605",
       "value": "100% 34/34 [00:26&lt;00:00,  1.28it/s]"
      }
     },
     "b6c7a7f237a747a9b19c2df2dce59efc": {
      "model_module": "@jupyter-widgets/controls",
      "model_module_version": "1.4.0",
      "model_name": "HBoxModel",
      "state": {
       "children": [
        "IPY_MODEL_ba484390c1ea4e8c86193683f851100b",
        "IPY_MODEL_d3a944569f78423a9838a3951ac38ba1"
       ],
       "layout": "IPY_MODEL_a8cd80b615f64235b1fa89943adf98e0"
      }
     },
     "b6f05e4df6bc4399875be2ebccbf8343": {
      "model_module": "@jupyter-widgets/base",
      "model_module_version": "1.1.0",
      "model_name": "LayoutModel",
      "state": {}
     },
     "b6fe17f94f6b4180881a791daf21a562": {
      "model_module": "@jupyter-widgets/controls",
      "model_module_version": "1.4.0",
      "model_name": "IntProgressModel",
      "state": {
       "layout": "IPY_MODEL_07f6ab70a6324cdea8bc940bc478ae96",
       "max": 78,
       "style": "IPY_MODEL_685d081ab3034ded9b44ec2ff057294b",
       "value": 54
      }
     },
     "b71a75eb45054e15bf3be5cab9d45d5a": {
      "model_module": "@jupyter-widgets/base",
      "model_module_version": "1.1.0",
      "model_name": "LayoutModel",
      "state": {}
     },
     "b789f24e58fe495db51a970ab195f818": {
      "model_module": "@jupyter-widgets/base",
      "model_module_version": "1.1.0",
      "model_name": "LayoutModel",
      "state": {}
     },
     "b7a187fe86cd4d86b190693b94c349f2": {
      "model_module": "@jupyter-widgets/base",
      "model_module_version": "1.1.0",
      "model_name": "LayoutModel",
      "state": {}
     },
     "b7a336df8d7b4c8aad8d226829dced4d": {
      "model_module": "@jupyter-widgets/base",
      "model_module_version": "1.1.0",
      "model_name": "LayoutModel",
      "state": {}
     },
     "b7bc4364e17d453b9457733af128b133": {
      "model_module": "@jupyter-widgets/controls",
      "model_module_version": "1.4.0",
      "model_name": "DescriptionStyleModel",
      "state": {
       "description_width": ""
      }
     },
     "b7bf4fd6dd3446419329ad9736fb5493": {
      "model_module": "@jupyter-widgets/base",
      "model_module_version": "1.1.0",
      "model_name": "LayoutModel",
      "state": {}
     },
     "b85bad0a947f46c7ac5bf34bcd785ff9": {
      "model_module": "@jupyter-widgets/controls",
      "model_module_version": "1.4.0",
      "model_name": "ProgressStyleModel",
      "state": {
       "description_width": ""
      }
     },
     "b8a3aed54acd404babf6d3c6758dda4b": {
      "model_module": "@jupyter-widgets/controls",
      "model_module_version": "1.4.0",
      "model_name": "IntProgressModel",
      "state": {
       "layout": "IPY_MODEL_b0ddd7209bbb422e86eea00a5d440b37",
       "max": 78,
       "style": "IPY_MODEL_9e647c602a8642269f0748e3912e25bd",
       "value": 54
      }
     },
     "b8b1819e8d7048a6af2d15a418feb97a": {
      "model_module": "@jupyter-widgets/controls",
      "model_module_version": "1.4.0",
      "model_name": "IntProgressModel",
      "state": {
       "layout": "IPY_MODEL_791a13684a8c449e8ac97cda4154c07f",
       "max": 78,
       "style": "IPY_MODEL_d791c449fd8548f6a7ce79ca31d9cc91",
       "value": 70
      }
     },
     "b8cf0616fab1467184deab8c952069d8": {
      "model_module": "@jupyter-widgets/base",
      "model_module_version": "1.1.0",
      "model_name": "LayoutModel",
      "state": {}
     },
     "b976ac63e5e94e519a9971106dac5c4d": {
      "model_module": "@jupyter-widgets/controls",
      "model_module_version": "1.4.0",
      "model_name": "ProgressStyleModel",
      "state": {
       "description_width": ""
      }
     },
     "b9e5ac453da7457f8326efc1c451af2b": {
      "model_module": "@jupyter-widgets/base",
      "model_module_version": "1.1.0",
      "model_name": "LayoutModel",
      "state": {}
     },
     "ba02d9255a8545208576c439a73764db": {
      "model_module": "@jupyter-widgets/base",
      "model_module_version": "1.1.0",
      "model_name": "LayoutModel",
      "state": {}
     },
     "ba484390c1ea4e8c86193683f851100b": {
      "model_module": "@jupyter-widgets/controls",
      "model_module_version": "1.4.0",
      "model_name": "IntProgressModel",
      "state": {
       "bar_style": "success",
       "layout": "IPY_MODEL_dd972b3038854327a5caf82db6c4efa4",
       "max": 50,
       "style": "IPY_MODEL_ea95be7b98d0468fbb47df3a0507d490",
       "value": 50
      }
     },
     "ba7f0be6c3dd4dd186a3f96ee8531401": {
      "model_module": "@jupyter-widgets/base",
      "model_module_version": "1.1.0",
      "model_name": "LayoutModel",
      "state": {}
     },
     "bb3eb1c95ae640668b6844ff7676355f": {
      "model_module": "@jupyter-widgets/base",
      "model_module_version": "1.1.0",
      "model_name": "LayoutModel",
      "state": {}
     },
     "bc09c50bb7664e9293fe5a913486a8a2": {
      "model_module": "@jupyter-widgets/controls",
      "model_module_version": "1.4.0",
      "model_name": "IntProgressModel",
      "state": {
       "layout": "IPY_MODEL_caf1b5f4a57c4a8e97a9ea90e7641c37",
       "max": 34,
       "style": "IPY_MODEL_969be07fd77448d3915e6ddbea2c5ff5",
       "value": 34
      }
     },
     "bc11433de4e543929ea8bfd0dd84d153": {
      "model_module": "@jupyter-widgets/controls",
      "model_module_version": "1.4.0",
      "model_name": "DescriptionStyleModel",
      "state": {
       "description_width": ""
      }
     },
     "bc722586d6ce439e9fc40b1eee997015": {
      "model_module": "@jupyter-widgets/controls",
      "model_module_version": "1.4.0",
      "model_name": "DescriptionStyleModel",
      "state": {
       "description_width": ""
      }
     },
     "bc9d9ea5a10e42898e464175ec5527ad": {
      "model_module": "@jupyter-widgets/base",
      "model_module_version": "1.1.0",
      "model_name": "LayoutModel",
      "state": {}
     },
     "bce33f112468498dbe09bbd8aa511289": {
      "model_module": "@jupyter-widgets/controls",
      "model_module_version": "1.4.0",
      "model_name": "IntProgressModel",
      "state": {
       "layout": "IPY_MODEL_784c251407d0406f810bb9eeff8ab60e",
       "max": 17,
       "style": "IPY_MODEL_71f109f0e1a84c1f9cfbcace8597ccea",
       "value": 17
      }
     },
     "bdb48f5ebcb647d8abcedfffa00fd4f6": {
      "model_module": "@jupyter-widgets/base",
      "model_module_version": "1.1.0",
      "model_name": "LayoutModel",
      "state": {}
     },
     "bdec458be3674a648520a93ed943aa66": {
      "model_module": "@jupyter-widgets/controls",
      "model_module_version": "1.4.0",
      "model_name": "DescriptionStyleModel",
      "state": {
       "description_width": ""
      }
     },
     "be35743f31f448689a94cbe9e8de1e34": {
      "model_module": "@jupyter-widgets/base",
      "model_module_version": "1.1.0",
      "model_name": "LayoutModel",
      "state": {}
     },
     "be803de84e0c416ca4b042431790709f": {
      "model_module": "@jupyter-widgets/base",
      "model_module_version": "1.1.0",
      "model_name": "LayoutModel",
      "state": {}
     },
     "be804aafe61a465bac0aec1a5ee7c0c5": {
      "model_module": "@jupyter-widgets/controls",
      "model_module_version": "1.4.0",
      "model_name": "IntProgressModel",
      "state": {
       "layout": "IPY_MODEL_39aa3bc50617469d8b6c3ac5bd15e42f",
       "max": 78,
       "style": "IPY_MODEL_0dfcfed04ff648c6b1537b14f4159a9d",
       "value": 27
      }
     },
     "beafb48010f541aaa734358bd9aab4bb": {
      "model_module": "@jupyter-widgets/controls",
      "model_module_version": "1.4.0",
      "model_name": "HTMLModel",
      "state": {
       "layout": "IPY_MODEL_8beb50dbdf614ca9b90d2305e2cf3081",
       "style": "IPY_MODEL_5dcfe406284d484da3588ae6b6636125",
       "value": " 88% 69/78 [00:00&lt;00:00, 215.26it/s]"
      }
     },
     "bed059df291c4047b520877ea064f6da": {
      "model_module": "@jupyter-widgets/base",
      "model_module_version": "1.1.0",
      "model_name": "LayoutModel",
      "state": {}
     },
     "bee1f47faf0042eb90516ffe05535d88": {
      "model_module": "@jupyter-widgets/controls",
      "model_module_version": "1.4.0",
      "model_name": "IntProgressModel",
      "state": {
       "layout": "IPY_MODEL_c3340bc5a95e4071a8996520b2ac684d",
       "max": 78,
       "style": "IPY_MODEL_1fb98d91333347db98805a017b1cb75a",
       "value": 21
      }
     },
     "bf15d69c4fa047f990a01543b08f1dae": {
      "model_module": "@jupyter-widgets/base",
      "model_module_version": "1.1.0",
      "model_name": "LayoutModel",
      "state": {}
     },
     "bf30e8c7fe01421187bcd033a2b80e84": {
      "model_module": "@jupyter-widgets/controls",
      "model_module_version": "1.4.0",
      "model_name": "HTMLModel",
      "state": {
       "layout": "IPY_MODEL_4cd76c9a636445eeaa813f218d60a0bb",
       "style": "IPY_MODEL_2497355dd87046228a7bd497f6e00a09",
       "value": " 71% 55/78 [00:00&lt;00:00, 262.94it/s]"
      }
     },
     "bf35b71d84354756b528068b598644cd": {
      "model_module": "@jupyter-widgets/base",
      "model_module_version": "1.1.0",
      "model_name": "LayoutModel",
      "state": {}
     },
     "bf5622561803461fb1132d10a23bc964": {
      "model_module": "@jupyter-widgets/controls",
      "model_module_version": "1.4.0",
      "model_name": "DescriptionStyleModel",
      "state": {
       "description_width": ""
      }
     },
     "bfba7b00920d418e9a00ee955ec74f57": {
      "model_module": "@jupyter-widgets/controls",
      "model_module_version": "1.4.0",
      "model_name": "ProgressStyleModel",
      "state": {
       "description_width": ""
      }
     },
     "bfd6a5bd09df4463a0c2bde60c89ab65": {
      "model_module": "@jupyter-widgets/controls",
      "model_module_version": "1.4.0",
      "model_name": "DescriptionStyleModel",
      "state": {
       "description_width": ""
      }
     },
     "bfec1c5aa47c4f03a6b96a1007ca0753": {
      "model_module": "@jupyter-widgets/controls",
      "model_module_version": "1.4.0",
      "model_name": "HTMLModel",
      "state": {
       "layout": "IPY_MODEL_e4e070825fe1478288ce3223d0f41daa",
       "style": "IPY_MODEL_4b2d878b1b284bd8b0a8ce6931a58325",
       "value": " 72% 56/78 [00:00&lt;00:00, 266.55it/s]"
      }
     },
     "c03ae8a19572421a9f942db5d9387692": {
      "model_module": "@jupyter-widgets/controls",
      "model_module_version": "1.4.0",
      "model_name": "HTMLModel",
      "state": {
       "layout": "IPY_MODEL_b0a030646f674068aefdaab029c9ea6e",
       "style": "IPY_MODEL_d334f8ac71194250ac1bf1bf04216ca9",
       "value": " 59% 46/78 [00:00&lt;00:00, 456.17it/s]"
      }
     },
     "c04c269283394632b55e67e5aad89e46": {
      "model_module": "@jupyter-widgets/base",
      "model_module_version": "1.1.0",
      "model_name": "LayoutModel",
      "state": {}
     },
     "c05e1dd9c1334ac084c811a1a1564b30": {
      "model_module": "@jupyter-widgets/base",
      "model_module_version": "1.1.0",
      "model_name": "LayoutModel",
      "state": {}
     },
     "c0a982460004444889268c681f3579f1": {
      "model_module": "@jupyter-widgets/base",
      "model_module_version": "1.1.0",
      "model_name": "LayoutModel",
      "state": {}
     },
     "c0f613b360d14f0c918a27586c06756a": {
      "model_module": "@jupyter-widgets/controls",
      "model_module_version": "1.4.0",
      "model_name": "HTMLModel",
      "state": {
       "layout": "IPY_MODEL_f5b91119ee644eb18617240a058cc0df",
       "style": "IPY_MODEL_c32efd16d8ca4ff8b34715cc0a4390b5",
       "value": "100% 34/34 [00:21&lt;00:00,  1.58it/s]"
      }
     },
     "c0fb50508ccd4b1ea874de2e629a8d6b": {
      "model_module": "@jupyter-widgets/controls",
      "model_module_version": "1.4.0",
      "model_name": "HTMLModel",
      "state": {
       "layout": "IPY_MODEL_93dbc9c755c34082b28b57d13948db94",
       "style": "IPY_MODEL_7d67cce756bc431aaad8ba9c0000d475",
       "value": " 45% 35/78 [00:00&lt;00:00, 172.76it/s]"
      }
     },
     "c13ae15b617c4428bca1ea4a8b28819a": {
      "model_module": "@jupyter-widgets/controls",
      "model_module_version": "1.4.0",
      "model_name": "ProgressStyleModel",
      "state": {
       "description_width": ""
      }
     },
     "c141074e83194bfe8a2eb7b539931f90": {
      "model_module": "@jupyter-widgets/base",
      "model_module_version": "1.1.0",
      "model_name": "LayoutModel",
      "state": {}
     },
     "c16201e42c7d4b8094446dfa61227f5e": {
      "model_module": "@jupyter-widgets/base",
      "model_module_version": "1.1.0",
      "model_name": "LayoutModel",
      "state": {}
     },
     "c1750a1e52d644bcacea54469bcae74e": {
      "model_module": "@jupyter-widgets/base",
      "model_module_version": "1.1.0",
      "model_name": "LayoutModel",
      "state": {}
     },
     "c247de23e26e4b5d93bf2afaee1c0e4e": {
      "model_module": "@jupyter-widgets/controls",
      "model_module_version": "1.4.0",
      "model_name": "IntProgressModel",
      "state": {
       "layout": "IPY_MODEL_f210fcc395a64eaf8101f4810ebe33bb",
       "max": 78,
       "style": "IPY_MODEL_9e62f6375cf64676b24934581e83afab",
       "value": 50
      }
     },
     "c2a77e57f6c54abe95b5143cecb02f45": {
      "model_module": "@jupyter-widgets/controls",
      "model_module_version": "1.4.0",
      "model_name": "DescriptionStyleModel",
      "state": {
       "description_width": ""
      }
     },
     "c2c1cc3a8a3641a69b722fc1e573429d": {
      "model_module": "@jupyter-widgets/controls",
      "model_module_version": "1.4.0",
      "model_name": "IntProgressModel",
      "state": {
       "layout": "IPY_MODEL_d7d665058c8e4811983dc4b1fe52ceb3",
       "max": 17,
       "style": "IPY_MODEL_dcf6742634584f8b8067ded3d5155b6b",
       "value": 17
      }
     },
     "c2daa0f329ed4634b1e5a111e706eec9": {
      "model_module": "@jupyter-widgets/controls",
      "model_module_version": "1.4.0",
      "model_name": "DescriptionStyleModel",
      "state": {
       "description_width": ""
      }
     },
     "c314d1c2f61b427e928d06cb270e8fbf": {
      "model_module": "@jupyter-widgets/controls",
      "model_module_version": "1.4.0",
      "model_name": "HTMLModel",
      "state": {
       "layout": "IPY_MODEL_c717f9a0e5ea420394d3d2cdcfc4af08",
       "style": "IPY_MODEL_b60cd90807de4e07b47b4eee0ae75169",
       "value": "100% 17/17 [00:08&lt;00:00,  1.94it/s]"
      }
     },
     "c32efd16d8ca4ff8b34715cc0a4390b5": {
      "model_module": "@jupyter-widgets/controls",
      "model_module_version": "1.4.0",
      "model_name": "DescriptionStyleModel",
      "state": {
       "description_width": ""
      }
     },
     "c3340bc5a95e4071a8996520b2ac684d": {
      "model_module": "@jupyter-widgets/base",
      "model_module_version": "1.1.0",
      "model_name": "LayoutModel",
      "state": {}
     },
     "c34a68e5b474478c8a39e856e17bcfef": {
      "model_module": "@jupyter-widgets/controls",
      "model_module_version": "1.4.0",
      "model_name": "HBoxModel",
      "state": {
       "children": [
        "IPY_MODEL_a765190803364538a7fb377c531eeafe",
        "IPY_MODEL_8502c731defa4852a17caf8a5f1c96d3"
       ],
       "layout": "IPY_MODEL_9702ebb3778b4a77907e90470fa70618"
      }
     },
     "c3a646fc54c74f459387e665074961c1": {
      "model_module": "@jupyter-widgets/controls",
      "model_module_version": "1.4.0",
      "model_name": "HTMLModel",
      "state": {
       "layout": "IPY_MODEL_f7a2676e09884df297d3d45e72a627c0",
       "style": "IPY_MODEL_a946aa564fbd485ab460580f6bdf6879",
       "value": "100% 34/34 [00:25&lt;00:00,  1.32it/s]"
      }
     },
     "c3a95a6966da4bb192a169a4b3497999": {
      "model_module": "@jupyter-widgets/controls",
      "model_module_version": "1.4.0",
      "model_name": "DescriptionStyleModel",
      "state": {
       "description_width": ""
      }
     },
     "c3ad136c95c0457d9d247e9817d2d284": {
      "model_module": "@jupyter-widgets/controls",
      "model_module_version": "1.4.0",
      "model_name": "HTMLModel",
      "state": {
       "layout": "IPY_MODEL_f97f88abbb39401dbeb78eb447264279",
       "style": "IPY_MODEL_c7970ec28928402c8a51d5230c408058",
       "value": "100% 34/34 [00:24&lt;00:00,  1.37it/s]"
      }
     },
     "c3bbfd048bc54d0593f72853c4be2cc8": {
      "model_module": "@jupyter-widgets/base",
      "model_module_version": "1.1.0",
      "model_name": "LayoutModel",
      "state": {}
     },
     "c3bf21424d5845ccbaf680215b316100": {
      "model_module": "@jupyter-widgets/controls",
      "model_module_version": "1.4.0",
      "model_name": "HTMLModel",
      "state": {
       "layout": "IPY_MODEL_cec79f93ef78422e9fb4485374fd543c",
       "style": "IPY_MODEL_c3f5e3f5cb1f490d8a56c4c75b590820",
       "value": " 87% 68/78 [00:00&lt;00:00, 337.56it/s]"
      }
     },
     "c3d9f6867f904168b8eb683cf7116814": {
      "model_module": "@jupyter-widgets/base",
      "model_module_version": "1.1.0",
      "model_name": "LayoutModel",
      "state": {}
     },
     "c3f1ac3855184ecfbbc4472ad47c3297": {
      "model_module": "@jupyter-widgets/controls",
      "model_module_version": "1.4.0",
      "model_name": "IntProgressModel",
      "state": {
       "layout": "IPY_MODEL_fe8509b08bfc4774950c20bd17661926",
       "max": 34,
       "style": "IPY_MODEL_2830f3a436f842c8b56da48d63be1b72",
       "value": 34
      }
     },
     "c3f5e3f5cb1f490d8a56c4c75b590820": {
      "model_module": "@jupyter-widgets/controls",
      "model_module_version": "1.4.0",
      "model_name": "DescriptionStyleModel",
      "state": {
       "description_width": ""
      }
     },
     "c4d4ac73ba6741a08d9a76275039453d": {
      "model_module": "@jupyter-widgets/controls",
      "model_module_version": "1.4.0",
      "model_name": "DescriptionStyleModel",
      "state": {
       "description_width": ""
      }
     },
     "c51fe4438da8473ca5df273fd86d9f2c": {
      "model_module": "@jupyter-widgets/controls",
      "model_module_version": "1.4.0",
      "model_name": "HTMLModel",
      "state": {
       "layout": "IPY_MODEL_67d8ca3bfedd4133ac39010b659bf8c4",
       "style": "IPY_MODEL_f15e5da1e3ce473fa063096dc293db49",
       "value": " 96% 75/78 [00:00&lt;00:00, 226.40it/s]"
      }
     },
     "c52d98ebdda74f4da4b068c04d4e0032": {
      "model_module": "@jupyter-widgets/controls",
      "model_module_version": "1.4.0",
      "model_name": "IntProgressModel",
      "state": {
       "layout": "IPY_MODEL_dbfa7caba0084fd3bdd49ec63ee2895f",
       "max": 78,
       "style": "IPY_MODEL_ef47e90e3c0440ab953a23536d2aeafb",
       "value": 48
      }
     },
     "c52f3ffc9cb3479b9c167399e2b0ea93": {
      "model_module": "@jupyter-widgets/controls",
      "model_module_version": "1.4.0",
      "model_name": "IntProgressModel",
      "state": {
       "layout": "IPY_MODEL_4cadb2380cc84f4dac67127efc5d687a",
       "max": 34,
       "style": "IPY_MODEL_72b4cef14f454868bdda38b8508cf9c8",
       "value": 34
      }
     },
     "c5565fc74dff44e5beab03530339d015": {
      "model_module": "@jupyter-widgets/base",
      "model_module_version": "1.1.0",
      "model_name": "LayoutModel",
      "state": {}
     },
     "c56333d676874574a1dfa1e51c88845c": {
      "model_module": "@jupyter-widgets/controls",
      "model_module_version": "1.4.0",
      "model_name": "HTMLModel",
      "state": {
       "layout": "IPY_MODEL_2cc152fa15a04b869cbf084493fe1654",
       "style": "IPY_MODEL_1274a99a60fc4c3c940fe22edcc94ca8",
       "value": "100% 34/34 [00:35&lt;00:00,  1.04s/it]"
      }
     },
     "c578b9b759f4406a978f20c3d232815d": {
      "model_module": "@jupyter-widgets/base",
      "model_module_version": "1.1.0",
      "model_name": "LayoutModel",
      "state": {}
     },
     "c586a9eeaa8c4727a25c7c7994547f0f": {
      "model_module": "@jupyter-widgets/controls",
      "model_module_version": "1.4.0",
      "model_name": "ProgressStyleModel",
      "state": {
       "description_width": ""
      }
     },
     "c5bc4459ce4f4400b430fda528c1b895": {
      "model_module": "@jupyter-widgets/base",
      "model_module_version": "1.1.0",
      "model_name": "LayoutModel",
      "state": {}
     },
     "c5c20bc985c84c6fba868a20d1bfad82": {
      "model_module": "@jupyter-widgets/base",
      "model_module_version": "1.1.0",
      "model_name": "LayoutModel",
      "state": {}
     },
     "c5db586e8c73486a9fab2adf909de337": {
      "model_module": "@jupyter-widgets/base",
      "model_module_version": "1.1.0",
      "model_name": "LayoutModel",
      "state": {}
     },
     "c662ce430c864ccf88feb17df3ae6320": {
      "model_module": "@jupyter-widgets/controls",
      "model_module_version": "1.4.0",
      "model_name": "IntProgressModel",
      "state": {
       "layout": "IPY_MODEL_37807cbc7c3a4a1bb2fb991d1f2ee162",
       "max": 34,
       "style": "IPY_MODEL_cee0b3bb7aa843c09c40814f2a3f8f7a",
       "value": 34
      }
     },
     "c6b5f37a7ef04e0a8a086acfdf0bd473": {
      "model_module": "@jupyter-widgets/controls",
      "model_module_version": "1.4.0",
      "model_name": "DescriptionStyleModel",
      "state": {
       "description_width": ""
      }
     },
     "c717f9a0e5ea420394d3d2cdcfc4af08": {
      "model_module": "@jupyter-widgets/base",
      "model_module_version": "1.1.0",
      "model_name": "LayoutModel",
      "state": {}
     },
     "c72a407feb7f4a879c1ec6ca80a798f4": {
      "model_module": "@jupyter-widgets/controls",
      "model_module_version": "1.4.0",
      "model_name": "HTMLModel",
      "state": {
       "layout": "IPY_MODEL_528b87a7773e487890c7025ae5ce4448",
       "style": "IPY_MODEL_dd22a4af911043638c2e7ecb1d388c92",
       "value": "100% 17/17 [00:08&lt;00:00,  2.06it/s]"
      }
     },
     "c73be089644444cfa55ebf01ceaed06f": {
      "model_module": "@jupyter-widgets/base",
      "model_module_version": "1.1.0",
      "model_name": "LayoutModel",
      "state": {}
     },
     "c745603da009410a912f5072d6bd5bd4": {
      "model_module": "@jupyter-widgets/base",
      "model_module_version": "1.1.0",
      "model_name": "LayoutModel",
      "state": {}
     },
     "c7970ec28928402c8a51d5230c408058": {
      "model_module": "@jupyter-widgets/controls",
      "model_module_version": "1.4.0",
      "model_name": "DescriptionStyleModel",
      "state": {
       "description_width": ""
      }
     },
     "c7c29c21c416426b82c290dfa6b06a1a": {
      "model_module": "@jupyter-widgets/base",
      "model_module_version": "1.1.0",
      "model_name": "LayoutModel",
      "state": {}
     },
     "c80465f324c04b878b72e75443c2c704": {
      "model_module": "@jupyter-widgets/controls",
      "model_module_version": "1.4.0",
      "model_name": "DescriptionStyleModel",
      "state": {
       "description_width": ""
      }
     },
     "c86a517b5cc74a2987f13676220f58f7": {
      "model_module": "@jupyter-widgets/base",
      "model_module_version": "1.1.0",
      "model_name": "LayoutModel",
      "state": {}
     },
     "c87cd357cdca4ba8ac6191fd0afb1f49": {
      "model_module": "@jupyter-widgets/base",
      "model_module_version": "1.1.0",
      "model_name": "LayoutModel",
      "state": {}
     },
     "c8864b700511431280d26d7f3b46a680": {
      "model_module": "@jupyter-widgets/base",
      "model_module_version": "1.1.0",
      "model_name": "LayoutModel",
      "state": {}
     },
     "c8bf139609cb41d3adc6e58a3f9a5b2b": {
      "model_module": "@jupyter-widgets/controls",
      "model_module_version": "1.4.0",
      "model_name": "HTMLModel",
      "state": {
       "layout": "IPY_MODEL_ef6c11fa8e114508bb925c86ff34d7a8",
       "style": "IPY_MODEL_4c2004e424354101b084e9d3c8919ac1",
       "value": " 67% 52/78 [00:00&lt;00:00, 116.46it/s]"
      }
     },
     "c8bf408c71e346259ead5f83b534e665": {
      "model_module": "@jupyter-widgets/base",
      "model_module_version": "1.1.0",
      "model_name": "LayoutModel",
      "state": {}
     },
     "c8dac5ac091949e394e16ec51d7c22d2": {
      "model_module": "@jupyter-widgets/base",
      "model_module_version": "1.1.0",
      "model_name": "LayoutModel",
      "state": {}
     },
     "c8de2417833246a1923fe3c1a4125bff": {
      "model_module": "@jupyter-widgets/base",
      "model_module_version": "1.1.0",
      "model_name": "LayoutModel",
      "state": {}
     },
     "c8ffba7303974d9983f16a1af54321fe": {
      "model_module": "@jupyter-widgets/controls",
      "model_module_version": "1.4.0",
      "model_name": "IntProgressModel",
      "state": {
       "layout": "IPY_MODEL_53226bd76c994e95ace3f8fafbbed262",
       "max": 34,
       "style": "IPY_MODEL_e43f2a212e9341d3abf009aff0b1ad73",
       "value": 34
      }
     },
     "c9214fa0309d45d2b5fff2e9b7a80197": {
      "model_module": "@jupyter-widgets/base",
      "model_module_version": "1.1.0",
      "model_name": "LayoutModel",
      "state": {}
     },
     "c9641c9efa46407fba5f6f86901a6b80": {
      "model_module": "@jupyter-widgets/controls",
      "model_module_version": "1.4.0",
      "model_name": "ProgressStyleModel",
      "state": {
       "description_width": ""
      }
     },
     "c9667f67c9604c2299bae5f71704980b": {
      "model_module": "@jupyter-widgets/controls",
      "model_module_version": "1.4.0",
      "model_name": "IntProgressModel",
      "state": {
       "layout": "IPY_MODEL_e1d5d7fac9ce46afaba66fb7e8e76146",
       "max": 78,
       "style": "IPY_MODEL_525ce31ba5614d9699464cd7ca705a07",
       "value": 55
      }
     },
     "c98bc0c81dd8467592f2fb270d913960": {
      "model_module": "@jupyter-widgets/controls",
      "model_module_version": "1.4.0",
      "model_name": "IntProgressModel",
      "state": {
       "layout": "IPY_MODEL_d055e155afbd416a81d1ed80040ea6bd",
       "max": 17,
       "style": "IPY_MODEL_cacde383ebd944b297e0581d5be24b0e",
       "value": 17
      }
     },
     "c99fc32c441f4ced9d350c241976d3e8": {
      "model_module": "@jupyter-widgets/controls",
      "model_module_version": "1.4.0",
      "model_name": "ProgressStyleModel",
      "state": {
       "description_width": ""
      }
     },
     "c9ef833e35654928b04bad4f258c7d58": {
      "model_module": "@jupyter-widgets/controls",
      "model_module_version": "1.4.0",
      "model_name": "ProgressStyleModel",
      "state": {
       "description_width": ""
      }
     },
     "ca4c3f0d703040b4ad56882b1653d02d": {
      "model_module": "@jupyter-widgets/base",
      "model_module_version": "1.1.0",
      "model_name": "LayoutModel",
      "state": {}
     },
     "ca62d202d2af45db912fef6f773b6c25": {
      "model_module": "@jupyter-widgets/base",
      "model_module_version": "1.1.0",
      "model_name": "LayoutModel",
      "state": {}
     },
     "cacde383ebd944b297e0581d5be24b0e": {
      "model_module": "@jupyter-widgets/controls",
      "model_module_version": "1.4.0",
      "model_name": "ProgressStyleModel",
      "state": {
       "description_width": ""
      }
     },
     "caf1b5f4a57c4a8e97a9ea90e7641c37": {
      "model_module": "@jupyter-widgets/base",
      "model_module_version": "1.1.0",
      "model_name": "LayoutModel",
      "state": {}
     },
     "cb2bfa85bf8646e9b2c0e1818b4b6ee6": {
      "model_module": "@jupyter-widgets/controls",
      "model_module_version": "1.4.0",
      "model_name": "ProgressStyleModel",
      "state": {
       "description_width": ""
      }
     },
     "cb579755748a403588e35dd1db5837f1": {
      "model_module": "@jupyter-widgets/base",
      "model_module_version": "1.1.0",
      "model_name": "LayoutModel",
      "state": {}
     },
     "cb7d15bf923f4e92ba58d8656c6d12d4": {
      "model_module": "@jupyter-widgets/controls",
      "model_module_version": "1.4.0",
      "model_name": "ProgressStyleModel",
      "state": {
       "description_width": ""
      }
     },
     "cc788c26e4af4aa88cf4b3b323ef2be7": {
      "model_module": "@jupyter-widgets/controls",
      "model_module_version": "1.4.0",
      "model_name": "HTMLModel",
      "state": {
       "layout": "IPY_MODEL_90eab24dd3864d6990531d198b375a4e",
       "style": "IPY_MODEL_64912d5e89284823a4d479a0cd9103d0",
       "value": "100% 17/17 [00:10&lt;00:00,  1.58it/s]"
      }
     },
     "ccae68fa085e4c3a983dc1fa5457c8f6": {
      "model_module": "@jupyter-widgets/controls",
      "model_module_version": "1.4.0",
      "model_name": "IntProgressModel",
      "state": {
       "layout": "IPY_MODEL_44e905c8b6f34b5fb9e9fb018835eddc",
       "max": 17,
       "style": "IPY_MODEL_d574aac92eb44a1f8b9cd54e0c7383bb",
       "value": 17
      }
     },
     "ccd74ceaf0bf430c8934fc696d19b3eb": {
      "model_module": "@jupyter-widgets/controls",
      "model_module_version": "1.4.0",
      "model_name": "DescriptionStyleModel",
      "state": {
       "description_width": ""
      }
     },
     "ccd80c06f832411db03192a67ff269e3": {
      "model_module": "@jupyter-widgets/controls",
      "model_module_version": "1.4.0",
      "model_name": "IntProgressModel",
      "state": {
       "layout": "IPY_MODEL_26836fccd6394b339d52ed7670014c10",
       "max": 34,
       "style": "IPY_MODEL_e5c2c0ab57b14eb1892582199d5f062f",
       "value": 34
      }
     },
     "cd2a0927f9124e25bee02a62ec51f063": {
      "model_module": "@jupyter-widgets/controls",
      "model_module_version": "1.4.0",
      "model_name": "HTMLModel",
      "state": {
       "layout": "IPY_MODEL_da38d538d65347018bc5f7e73db82d6a",
       "style": "IPY_MODEL_5296c861006e4d68a9f1fffc5bc2c26c",
       "value": " 58% 45/78 [00:00&lt;00:00, 97.86it/s]"
      }
     },
     "cd483a44632f4538984efc12b73a7416": {
      "model_module": "@jupyter-widgets/controls",
      "model_module_version": "1.4.0",
      "model_name": "DescriptionStyleModel",
      "state": {
       "description_width": ""
      }
     },
     "cd4b3b0c703847ab89d192f93ee17b5c": {
      "model_module": "@jupyter-widgets/base",
      "model_module_version": "1.1.0",
      "model_name": "LayoutModel",
      "state": {}
     },
     "cd651d4c0bdb46c48bdc4477b84ea4fb": {
      "model_module": "@jupyter-widgets/controls",
      "model_module_version": "1.4.0",
      "model_name": "DescriptionStyleModel",
      "state": {
       "description_width": ""
      }
     },
     "cdfd3c22c9644f06a3c44d3665dd282f": {
      "model_module": "@jupyter-widgets/controls",
      "model_module_version": "1.4.0",
      "model_name": "ProgressStyleModel",
      "state": {
       "description_width": ""
      }
     },
     "ce03af220ee44994951c51e4c564b270": {
      "model_module": "@jupyter-widgets/controls",
      "model_module_version": "1.4.0",
      "model_name": "IntProgressModel",
      "state": {
       "layout": "IPY_MODEL_25c8ab80dc3f4ba2aeadfcdd05836927",
       "max": 34,
       "style": "IPY_MODEL_a2777005da9743d79ca03b70162da800",
       "value": 34
      }
     },
     "ce49f21a03e2495998446473954a9bf8": {
      "model_module": "@jupyter-widgets/controls",
      "model_module_version": "1.4.0",
      "model_name": "DescriptionStyleModel",
      "state": {
       "description_width": ""
      }
     },
     "ce562889ccee4d1f8d103178d458cc44": {
      "model_module": "@jupyter-widgets/controls",
      "model_module_version": "1.4.0",
      "model_name": "IntProgressModel",
      "state": {
       "layout": "IPY_MODEL_034493c6a3a74b9d8a88cc64f66d143d",
       "max": 78,
       "style": "IPY_MODEL_13d90c10c5014c45a88085abe66b342a",
       "value": 58
      }
     },
     "ce581c5de2f043df9afd3b79710a0129": {
      "model_module": "@jupyter-widgets/controls",
      "model_module_version": "1.4.0",
      "model_name": "IntProgressModel",
      "state": {
       "layout": "IPY_MODEL_6aa4e5daf6024b29beb495edb429bbc8",
       "max": 17,
       "style": "IPY_MODEL_e83c382cffaa4544b8b48c7e593a2bda",
       "value": 17
      }
     },
     "ce71ac6a454a4122bfe0353939f14f7c": {
      "model_module": "@jupyter-widgets/base",
      "model_module_version": "1.1.0",
      "model_name": "LayoutModel",
      "state": {}
     },
     "ce7cbd5b69274605918975f3c3d2db7d": {
      "model_module": "@jupyter-widgets/base",
      "model_module_version": "1.1.0",
      "model_name": "LayoutModel",
      "state": {}
     },
     "cec79f93ef78422e9fb4485374fd543c": {
      "model_module": "@jupyter-widgets/base",
      "model_module_version": "1.1.0",
      "model_name": "LayoutModel",
      "state": {}
     },
     "ced05fce02fb40ed89eb148a9173b7a3": {
      "model_module": "@jupyter-widgets/controls",
      "model_module_version": "1.4.0",
      "model_name": "ProgressStyleModel",
      "state": {
       "description_width": ""
      }
     },
     "cee0b3bb7aa843c09c40814f2a3f8f7a": {
      "model_module": "@jupyter-widgets/controls",
      "model_module_version": "1.4.0",
      "model_name": "ProgressStyleModel",
      "state": {
       "description_width": ""
      }
     },
     "cf1f2236c22f4ece8ae091bd93e333c8": {
      "model_module": "@jupyter-widgets/base",
      "model_module_version": "1.1.0",
      "model_name": "LayoutModel",
      "state": {}
     },
     "cf6a8fb0f4c74083838e9c2d42d2ee5f": {
      "model_module": "@jupyter-widgets/controls",
      "model_module_version": "1.4.0",
      "model_name": "ProgressStyleModel",
      "state": {
       "description_width": ""
      }
     },
     "cf7bcfd545c047c8bd7199ed67a3d271": {
      "model_module": "@jupyter-widgets/controls",
      "model_module_version": "1.4.0",
      "model_name": "HTMLModel",
      "state": {
       "layout": "IPY_MODEL_9b4b1d7424114f1d948e4c75c9b9235b",
       "style": "IPY_MODEL_d3ed4db2329849e2bb5d87e3b71bbdd5",
       "value": " 23% 18/78 [00:00&lt;00:00, 176.73it/s]"
      }
     },
     "cfa8a1de1f204539b6084513f56195db": {
      "model_module": "@jupyter-widgets/base",
      "model_module_version": "1.1.0",
      "model_name": "LayoutModel",
      "state": {}
     },
     "cfbff004254e493ba5b5ed0549685fcd": {
      "model_module": "@jupyter-widgets/controls",
      "model_module_version": "1.4.0",
      "model_name": "IntProgressModel",
      "state": {
       "layout": "IPY_MODEL_261bb2ff026f43b6b4f216849e30ee77",
       "max": 78,
       "style": "IPY_MODEL_e39c2bd27f6b4096a0c2b2d7223bf8b5",
       "value": 63
      }
     },
     "d03dba386bee43908bb60c3ce5d84b97": {
      "model_module": "@jupyter-widgets/base",
      "model_module_version": "1.1.0",
      "model_name": "LayoutModel",
      "state": {}
     },
     "d040a89a154a46c9a5e634b86f521919": {
      "model_module": "@jupyter-widgets/controls",
      "model_module_version": "1.4.0",
      "model_name": "IntProgressModel",
      "state": {
       "bar_style": "success",
       "layout": "IPY_MODEL_839e49d492604ced85aa6b4f4735948b",
       "max": 78,
       "style": "IPY_MODEL_6cf2338f1fe5470491b8e6c669ec70cb",
       "value": 78
      }
     },
     "d04ddf6fb8e64624bdb6758c59e67a64": {
      "model_module": "@jupyter-widgets/base",
      "model_module_version": "1.1.0",
      "model_name": "LayoutModel",
      "state": {}
     },
     "d05218591af94f3a93231da54d4c759a": {
      "model_module": "@jupyter-widgets/controls",
      "model_module_version": "1.4.0",
      "model_name": "IntProgressModel",
      "state": {
       "layout": "IPY_MODEL_d8bd80135e1b4d61be5cf76401c6e883",
       "max": 34,
       "style": "IPY_MODEL_94a9ac89a5564b1db09f0ad8079c3e92",
       "value": 34
      }
     },
     "d055e155afbd416a81d1ed80040ea6bd": {
      "model_module": "@jupyter-widgets/base",
      "model_module_version": "1.1.0",
      "model_name": "LayoutModel",
      "state": {}
     },
     "d061c1e4950e454497ede967a73c79ea": {
      "model_module": "@jupyter-widgets/controls",
      "model_module_version": "1.4.0",
      "model_name": "HTMLModel",
      "state": {
       "layout": "IPY_MODEL_8ee8dc430c7549a1af4563ad3d29cfe4",
       "style": "IPY_MODEL_23b90eb852504a4484f594cb41e4f234",
       "value": " 69% 54/78 [00:00&lt;00:00, 254.42it/s]"
      }
     },
     "d0bc7d300c6440a382db094f6a1ce013": {
      "model_module": "@jupyter-widgets/controls",
      "model_module_version": "1.4.0",
      "model_name": "IntProgressModel",
      "state": {
       "layout": "IPY_MODEL_05afb50db2f74989afceec2e8bfae836",
       "max": 34,
       "style": "IPY_MODEL_14d5b858b2ae4804958244da1af30282",
       "value": 34
      }
     },
     "d1025ba6cbbe4dc3ba75c88dcccbbaa7": {
      "model_module": "@jupyter-widgets/base",
      "model_module_version": "1.1.0",
      "model_name": "LayoutModel",
      "state": {}
     },
     "d19c7f2ed61d45e292bf27e50cfb8b0f": {
      "model_module": "@jupyter-widgets/base",
      "model_module_version": "1.1.0",
      "model_name": "LayoutModel",
      "state": {}
     },
     "d1a1e1b4e4e1447eb2c7bed4e6a8cb7e": {
      "model_module": "@jupyter-widgets/controls",
      "model_module_version": "1.4.0",
      "model_name": "ProgressStyleModel",
      "state": {
       "description_width": ""
      }
     },
     "d1e1806aaeab441492dafa07a9f9efa6": {
      "model_module": "@jupyter-widgets/base",
      "model_module_version": "1.1.0",
      "model_name": "LayoutModel",
      "state": {}
     },
     "d20c85659fd5477fa02f639548861b98": {
      "model_module": "@jupyter-widgets/controls",
      "model_module_version": "1.4.0",
      "model_name": "HTMLModel",
      "state": {
       "layout": "IPY_MODEL_e675f77b799e4185b1e5bbcef92ee40c",
       "style": "IPY_MODEL_e7e6c2449ce94825a8e1fd9f83f570ec",
       "value": " 64% 50/78 [00:00&lt;00:00, 246.67it/s]"
      }
     },
     "d214df594e4e4280bf081340bd6668d0": {
      "model_module": "@jupyter-widgets/controls",
      "model_module_version": "1.4.0",
      "model_name": "IntProgressModel",
      "state": {
       "layout": "IPY_MODEL_1290ca782bc644258da4d1a1f33977de",
       "max": 78,
       "style": "IPY_MODEL_e0520f21f47947289c0d2b650a87e896",
       "value": 70
      }
     },
     "d22631726af046f6beb369a8b0eb1a0d": {
      "model_module": "@jupyter-widgets/controls",
      "model_module_version": "1.4.0",
      "model_name": "HTMLModel",
      "state": {
       "layout": "IPY_MODEL_5678da0838fd448b9eca72560b27f1c0",
       "style": "IPY_MODEL_b343ae0c507a414a9349058f50fe3072",
       "value": "100% 17/17 [00:10&lt;00:00,  1.68it/s]"
      }
     },
     "d2419aef0f1b45ce8548a6f98fc298b3": {
      "model_module": "@jupyter-widgets/base",
      "model_module_version": "1.1.0",
      "model_name": "LayoutModel",
      "state": {}
     },
     "d2651da9bf0c4b4f86a2193c50da4e2c": {
      "model_module": "@jupyter-widgets/base",
      "model_module_version": "1.1.0",
      "model_name": "LayoutModel",
      "state": {}
     },
     "d26a407a8f8a4525a16e29c76f07cd6f": {
      "model_module": "@jupyter-widgets/base",
      "model_module_version": "1.1.0",
      "model_name": "LayoutModel",
      "state": {}
     },
     "d26b9911731d4f6e8758bbdb9bbd21c6": {
      "model_module": "@jupyter-widgets/base",
      "model_module_version": "1.1.0",
      "model_name": "LayoutModel",
      "state": {}
     },
     "d2ab3c28acdb4ef693d52a727783e6b1": {
      "model_module": "@jupyter-widgets/controls",
      "model_module_version": "1.4.0",
      "model_name": "ProgressStyleModel",
      "state": {
       "description_width": ""
      }
     },
     "d2bc1cb4681a4d05937df9042f592a15": {
      "model_module": "@jupyter-widgets/controls",
      "model_module_version": "1.4.0",
      "model_name": "DescriptionStyleModel",
      "state": {
       "description_width": ""
      }
     },
     "d2e36fbc113d48c58155dd6b52907d39": {
      "model_module": "@jupyter-widgets/base",
      "model_module_version": "1.1.0",
      "model_name": "LayoutModel",
      "state": {}
     },
     "d2f49ebc286147bda3509b1e75ce82d7": {
      "model_module": "@jupyter-widgets/base",
      "model_module_version": "1.1.0",
      "model_name": "LayoutModel",
      "state": {}
     },
     "d334f8ac71194250ac1bf1bf04216ca9": {
      "model_module": "@jupyter-widgets/controls",
      "model_module_version": "1.4.0",
      "model_name": "DescriptionStyleModel",
      "state": {
       "description_width": ""
      }
     },
     "d36ead5405254b24b4335192bb5f8463": {
      "model_module": "@jupyter-widgets/controls",
      "model_module_version": "1.4.0",
      "model_name": "HTMLModel",
      "state": {
       "layout": "IPY_MODEL_810c0316a0e140aab7bf5e62699f5a41",
       "style": "IPY_MODEL_8d512343a512491f9c9afc51dc28bf63",
       "value": " 60% 47/78 [00:00&lt;00:00, 226.91it/s]"
      }
     },
     "d381d59213c847eb994ee4402a388770": {
      "model_module": "@jupyter-widgets/base",
      "model_module_version": "1.1.0",
      "model_name": "LayoutModel",
      "state": {}
     },
     "d38ebfc6ba5b4a298ccc6123f487c2c5": {
      "model_module": "@jupyter-widgets/controls",
      "model_module_version": "1.4.0",
      "model_name": "ProgressStyleModel",
      "state": {
       "description_width": ""
      }
     },
     "d391aaefbfa54bdca8d815bbc1c82598": {
      "model_module": "@jupyter-widgets/controls",
      "model_module_version": "1.4.0",
      "model_name": "ProgressStyleModel",
      "state": {
       "description_width": ""
      }
     },
     "d3a944569f78423a9838a3951ac38ba1": {
      "model_module": "@jupyter-widgets/controls",
      "model_module_version": "1.4.0",
      "model_name": "HTMLModel",
      "state": {
       "layout": "IPY_MODEL_d2e36fbc113d48c58155dd6b52907d39",
       "style": "IPY_MODEL_bc722586d6ce439e9fc40b1eee997015",
       "value": "100% 50/50 [08:00&lt;00:00,  9.60s/it]"
      }
     },
     "d3b9ad9de4f445bfabaa966891c019bb": {
      "model_module": "@jupyter-widgets/controls",
      "model_module_version": "1.4.0",
      "model_name": "HTMLModel",
      "state": {
       "layout": "IPY_MODEL_d870eaf7719e42ebbaea00cd1eeeb867",
       "style": "IPY_MODEL_462ff9e34adf43fab176c907c5b348b3",
       "value": "100% 17/17 [00:08&lt;00:00,  1.96it/s]"
      }
     },
     "d3ba377a21c44efc845a26d74f587493": {
      "model_module": "@jupyter-widgets/controls",
      "model_module_version": "1.4.0",
      "model_name": "ProgressStyleModel",
      "state": {
       "description_width": ""
      }
     },
     "d3ed4db2329849e2bb5d87e3b71bbdd5": {
      "model_module": "@jupyter-widgets/controls",
      "model_module_version": "1.4.0",
      "model_name": "DescriptionStyleModel",
      "state": {
       "description_width": ""
      }
     },
     "d4158a3178e34e12a1d448bb58b9ee81": {
      "model_module": "@jupyter-widgets/controls",
      "model_module_version": "1.4.0",
      "model_name": "ProgressStyleModel",
      "state": {
       "description_width": ""
      }
     },
     "d43a8f5561464e9298091a4ed79c90ef": {
      "model_module": "@jupyter-widgets/base",
      "model_module_version": "1.1.0",
      "model_name": "LayoutModel",
      "state": {}
     },
     "d467ca74ddda45f4b2a01c9da40ec821": {
      "model_module": "@jupyter-widgets/controls",
      "model_module_version": "1.4.0",
      "model_name": "DescriptionStyleModel",
      "state": {
       "description_width": ""
      }
     },
     "d471e6d121f14c05a938102128dcbfd5": {
      "model_module": "@jupyter-widgets/controls",
      "model_module_version": "1.4.0",
      "model_name": "ProgressStyleModel",
      "state": {
       "description_width": ""
      }
     },
     "d479eea8b6b043a2978b3cdb0bc42c9d": {
      "model_module": "@jupyter-widgets/base",
      "model_module_version": "1.1.0",
      "model_name": "LayoutModel",
      "state": {}
     },
     "d48aef72e6a04d9a9f24e1f4ae9eef33": {
      "model_module": "@jupyter-widgets/controls",
      "model_module_version": "1.4.0",
      "model_name": "IntProgressModel",
      "state": {
       "layout": "IPY_MODEL_9374e8cf52bb471aad3e1f883ece78f7",
       "max": 78,
       "style": "IPY_MODEL_b1bd09d06ca949b1aa0959ba699f8980",
       "value": 18
      }
     },
     "d4b23756d05d4d78bf018c0e6284baff": {
      "model_module": "@jupyter-widgets/controls",
      "model_module_version": "1.4.0",
      "model_name": "IntProgressModel",
      "state": {
       "layout": "IPY_MODEL_ca4c3f0d703040b4ad56882b1653d02d",
       "max": 17,
       "style": "IPY_MODEL_cb2bfa85bf8646e9b2c0e1818b4b6ee6",
       "value": 17
      }
     },
     "d4b3757d573f4b519d3cd4e261ea698e": {
      "model_module": "@jupyter-widgets/controls",
      "model_module_version": "1.4.0",
      "model_name": "HTMLModel",
      "state": {
       "layout": "IPY_MODEL_d479eea8b6b043a2978b3cdb0bc42c9d",
       "style": "IPY_MODEL_aa1f902fb5844315872131cc02ef4930",
       "value": "100% 17/17 [00:09&lt;00:00,  1.87it/s]"
      }
     },
     "d4e090511b984e9e96076d522cc9e181": {
      "model_module": "@jupyter-widgets/base",
      "model_module_version": "1.1.0",
      "model_name": "LayoutModel",
      "state": {}
     },
     "d4e451d568ca4bce949565721713170d": {
      "model_module": "@jupyter-widgets/base",
      "model_module_version": "1.1.0",
      "model_name": "LayoutModel",
      "state": {}
     },
     "d4f209a6df8f4a5987bc425b1f62f41d": {
      "model_module": "@jupyter-widgets/controls",
      "model_module_version": "1.4.0",
      "model_name": "IntProgressModel",
      "state": {
       "layout": "IPY_MODEL_4afd44c69237460080eedbb7ac894c72",
       "max": 17,
       "style": "IPY_MODEL_cdfd3c22c9644f06a3c44d3665dd282f",
       "value": 17
      }
     },
     "d4f59050305d45768a96947e4b8767b1": {
      "model_module": "@jupyter-widgets/controls",
      "model_module_version": "1.4.0",
      "model_name": "HTMLModel",
      "state": {
       "layout": "IPY_MODEL_e7a7280450d145928fb3afe41b0d4f2a",
       "style": "IPY_MODEL_4da2327af79a41fe8aedda6d7b5681ae",
       "value": " 95% 74/78 [00:00&lt;00:00, 230.84it/s]"
      }
     },
     "d514c5769bf6423caaa27dc9846ef582": {
      "model_module": "@jupyter-widgets/controls",
      "model_module_version": "1.4.0",
      "model_name": "IntProgressModel",
      "state": {
       "layout": "IPY_MODEL_da424cb85643450bbf7ec88608984459",
       "max": 78,
       "style": "IPY_MODEL_a735628eb2044caebc5fec924ade97a3",
       "value": 38
      }
     },
     "d566e2803da844968a9d596f94f6d22f": {
      "model_module": "@jupyter-widgets/controls",
      "model_module_version": "1.4.0",
      "model_name": "IntProgressModel",
      "state": {
       "layout": "IPY_MODEL_85505de90c304f4ebb256bacacaf9989",
       "max": 34,
       "style": "IPY_MODEL_95adbbd3ab224f3b9c6cb837fe060469",
       "value": 34
      }
     },
     "d574aac92eb44a1f8b9cd54e0c7383bb": {
      "model_module": "@jupyter-widgets/controls",
      "model_module_version": "1.4.0",
      "model_name": "ProgressStyleModel",
      "state": {
       "description_width": ""
      }
     },
     "d5bc417e21754b3eb42993431b22e0fb": {
      "model_module": "@jupyter-widgets/controls",
      "model_module_version": "1.4.0",
      "model_name": "DescriptionStyleModel",
      "state": {
       "description_width": ""
      }
     },
     "d69a5643858c4803b3c569523ac0ae7e": {
      "model_module": "@jupyter-widgets/base",
      "model_module_version": "1.1.0",
      "model_name": "LayoutModel",
      "state": {}
     },
     "d716fc1a028345f5af95907949a4b9fc": {
      "model_module": "@jupyter-widgets/base",
      "model_module_version": "1.1.0",
      "model_name": "LayoutModel",
      "state": {}
     },
     "d73ccc6a450945ea85e0f58168113cb6": {
      "model_module": "@jupyter-widgets/base",
      "model_module_version": "1.1.0",
      "model_name": "LayoutModel",
      "state": {}
     },
     "d791c449fd8548f6a7ce79ca31d9cc91": {
      "model_module": "@jupyter-widgets/controls",
      "model_module_version": "1.4.0",
      "model_name": "ProgressStyleModel",
      "state": {
       "description_width": ""
      }
     },
     "d7b2c5cef3ba407f9c47b8ad838280d7": {
      "model_module": "@jupyter-widgets/controls",
      "model_module_version": "1.4.0",
      "model_name": "DescriptionStyleModel",
      "state": {
       "description_width": ""
      }
     },
     "d7d665058c8e4811983dc4b1fe52ceb3": {
      "model_module": "@jupyter-widgets/base",
      "model_module_version": "1.1.0",
      "model_name": "LayoutModel",
      "state": {}
     },
     "d8395a402ada4344b33f3c2a87e04db4": {
      "model_module": "@jupyter-widgets/controls",
      "model_module_version": "1.4.0",
      "model_name": "IntProgressModel",
      "state": {
       "layout": "IPY_MODEL_b9e5ac453da7457f8326efc1c451af2b",
       "max": 78,
       "style": "IPY_MODEL_250ca01826ac46fba28a8784441f5e56",
       "value": 75
      }
     },
     "d8485f2d0f9c451aad48b840dc1dc82c": {
      "model_module": "@jupyter-widgets/controls",
      "model_module_version": "1.4.0",
      "model_name": "HTMLModel",
      "state": {
       "layout": "IPY_MODEL_29172d3133544d46a34de540ec0c7cd1",
       "style": "IPY_MODEL_ce49f21a03e2495998446473954a9bf8",
       "value": " 91% 71/78 [00:00&lt;00:00, 224.97it/s]"
      }
     },
     "d863614c8ebd4045a06a1699a3a1a1d1": {
      "model_module": "@jupyter-widgets/base",
      "model_module_version": "1.1.0",
      "model_name": "LayoutModel",
      "state": {}
     },
     "d870eaf7719e42ebbaea00cd1eeeb867": {
      "model_module": "@jupyter-widgets/base",
      "model_module_version": "1.1.0",
      "model_name": "LayoutModel",
      "state": {}
     },
     "d8992ee9d57741f589e60c7a65986caf": {
      "model_module": "@jupyter-widgets/controls",
      "model_module_version": "1.4.0",
      "model_name": "ProgressStyleModel",
      "state": {
       "description_width": ""
      }
     },
     "d8bd80135e1b4d61be5cf76401c6e883": {
      "model_module": "@jupyter-widgets/base",
      "model_module_version": "1.1.0",
      "model_name": "LayoutModel",
      "state": {}
     },
     "d8d6adcdef6a43b6abd4ac487c00551c": {
      "model_module": "@jupyter-widgets/base",
      "model_module_version": "1.1.0",
      "model_name": "LayoutModel",
      "state": {}
     },
     "d8e227b6045148529b7c33a859b18b0a": {
      "model_module": "@jupyter-widgets/controls",
      "model_module_version": "1.4.0",
      "model_name": "HTMLModel",
      "state": {
       "layout": "IPY_MODEL_8a2b62fafdaf49fda19d64c999884954",
       "style": "IPY_MODEL_24c8e692fc4b477aabe98990de694f5a",
       "value": "100% 34/34 [00:43&lt;00:00,  1.29s/it]"
      }
     },
     "d91100cc731740cdb3d901629fd70cef": {
      "model_module": "@jupyter-widgets/controls",
      "model_module_version": "1.4.0",
      "model_name": "DescriptionStyleModel",
      "state": {
       "description_width": ""
      }
     },
     "d92d45fdf8d94175b1233129fbf0013b": {
      "model_module": "@jupyter-widgets/controls",
      "model_module_version": "1.4.0",
      "model_name": "HTMLModel",
      "state": {
       "layout": "IPY_MODEL_8030413f0acb425fbf59680c07dcfd4d",
       "style": "IPY_MODEL_8953cd4865bc431786c55f1d5edf8a4a",
       "value": "100% 17/17 [00:10&lt;00:00,  1.68it/s]"
      }
     },
     "d9363d4f7889481d8c31d532ff4eef4f": {
      "model_module": "@jupyter-widgets/base",
      "model_module_version": "1.1.0",
      "model_name": "LayoutModel",
      "state": {}
     },
     "d95993605408424392527656f31f9bb2": {
      "model_module": "@jupyter-widgets/base",
      "model_module_version": "1.1.0",
      "model_name": "LayoutModel",
      "state": {}
     },
     "d95b0e687868439488fca30fcd5416b9": {
      "model_module": "@jupyter-widgets/controls",
      "model_module_version": "1.4.0",
      "model_name": "IntProgressModel",
      "state": {
       "layout": "IPY_MODEL_f699c510965e4672b5da44aade1dae05",
       "max": 17,
       "style": "IPY_MODEL_2385291f9a844d2a87aa626a3f201425",
       "value": 17
      }
     },
     "d9cdbcf4c3a74d3eb84d32339ed0a823": {
      "model_module": "@jupyter-widgets/base",
      "model_module_version": "1.1.0",
      "model_name": "LayoutModel",
      "state": {}
     },
     "da204a7eb3c54d559d3ab7ae9eee72a5": {
      "model_module": "@jupyter-widgets/controls",
      "model_module_version": "1.4.0",
      "model_name": "ProgressStyleModel",
      "state": {
       "description_width": ""
      }
     },
     "da38d538d65347018bc5f7e73db82d6a": {
      "model_module": "@jupyter-widgets/base",
      "model_module_version": "1.1.0",
      "model_name": "LayoutModel",
      "state": {}
     },
     "da424cb85643450bbf7ec88608984459": {
      "model_module": "@jupyter-widgets/base",
      "model_module_version": "1.1.0",
      "model_name": "LayoutModel",
      "state": {}
     },
     "da5a2d8226f74a439381e677a4d23b59": {
      "model_module": "@jupyter-widgets/base",
      "model_module_version": "1.1.0",
      "model_name": "LayoutModel",
      "state": {}
     },
     "da65889baab74136b7443d2c46611671": {
      "model_module": "@jupyter-widgets/base",
      "model_module_version": "1.1.0",
      "model_name": "LayoutModel",
      "state": {}
     },
     "dab17ea9932c412dbbb6e5c3248c8169": {
      "model_module": "@jupyter-widgets/base",
      "model_module_version": "1.1.0",
      "model_name": "LayoutModel",
      "state": {}
     },
     "dabc137b1f434d3ea5f2928a8c98cec6": {
      "model_module": "@jupyter-widgets/controls",
      "model_module_version": "1.4.0",
      "model_name": "IntProgressModel",
      "state": {
       "layout": "IPY_MODEL_c578b9b759f4406a978f20c3d232815d",
       "max": 34,
       "style": "IPY_MODEL_eda90cff460b40248132ee8b6456c28e",
       "value": 34
      }
     },
     "dad6d842944043c49a8ace3815f76004": {
      "model_module": "@jupyter-widgets/controls",
      "model_module_version": "1.4.0",
      "model_name": "ProgressStyleModel",
      "state": {
       "description_width": ""
      }
     },
     "daf4f1ffa39a47298b4c8eccbcd6142a": {
      "model_module": "@jupyter-widgets/controls",
      "model_module_version": "1.4.0",
      "model_name": "HTMLModel",
      "state": {
       "layout": "IPY_MODEL_13976b367a19426e9ca299bd2f3ad509",
       "style": "IPY_MODEL_0f28f53e191d4cf485d03e7837f126b1",
       "value": "100% 20/20 [08:30&lt;00:00, 25.52s/it]"
      }
     },
     "db02d684005d42d1b7db1e92861b6e77": {
      "model_module": "@jupyter-widgets/base",
      "model_module_version": "1.1.0",
      "model_name": "LayoutModel",
      "state": {}
     },
     "db223fbe538b4338b0981a2e5492bb46": {
      "model_module": "@jupyter-widgets/controls",
      "model_module_version": "1.4.0",
      "model_name": "ProgressStyleModel",
      "state": {
       "description_width": ""
      }
     },
     "dbd0b9030bc74973879829f3860ed063": {
      "model_module": "@jupyter-widgets/base",
      "model_module_version": "1.1.0",
      "model_name": "LayoutModel",
      "state": {}
     },
     "dbe9b335806b439ca0927887b820721f": {
      "model_module": "@jupyter-widgets/controls",
      "model_module_version": "1.4.0",
      "model_name": "IntProgressModel",
      "state": {
       "layout": "IPY_MODEL_ab5050b948b84d92a108e08d946ef147",
       "max": 17,
       "style": "IPY_MODEL_793769a1594948b0afc33f5de80c88a4",
       "value": 17
      }
     },
     "dbfa7caba0084fd3bdd49ec63ee2895f": {
      "model_module": "@jupyter-widgets/base",
      "model_module_version": "1.1.0",
      "model_name": "LayoutModel",
      "state": {}
     },
     "dc1c6b95bcc44012a02ed8e0e8a221c6": {
      "model_module": "@jupyter-widgets/base",
      "model_module_version": "1.1.0",
      "model_name": "LayoutModel",
      "state": {}
     },
     "dc30d097007e4d9f88a462079b1c717c": {
      "model_module": "@jupyter-widgets/base",
      "model_module_version": "1.1.0",
      "model_name": "LayoutModel",
      "state": {}
     },
     "dc530f4645d745928d53f5f85ccca4d9": {
      "model_module": "@jupyter-widgets/base",
      "model_module_version": "1.1.0",
      "model_name": "LayoutModel",
      "state": {}
     },
     "dc7f407d7e694f03a1afd913038b8207": {
      "model_module": "@jupyter-widgets/controls",
      "model_module_version": "1.4.0",
      "model_name": "ProgressStyleModel",
      "state": {
       "description_width": ""
      }
     },
     "dc86bcfae0d8421a97b795a8cb1fada7": {
      "model_module": "@jupyter-widgets/base",
      "model_module_version": "1.1.0",
      "model_name": "LayoutModel",
      "state": {}
     },
     "dce2345e3161457db980517ab6309b12": {
      "model_module": "@jupyter-widgets/controls",
      "model_module_version": "1.4.0",
      "model_name": "ProgressStyleModel",
      "state": {
       "description_width": ""
      }
     },
     "dcf6742634584f8b8067ded3d5155b6b": {
      "model_module": "@jupyter-widgets/controls",
      "model_module_version": "1.4.0",
      "model_name": "ProgressStyleModel",
      "state": {
       "description_width": ""
      }
     },
     "dd22a4af911043638c2e7ecb1d388c92": {
      "model_module": "@jupyter-widgets/controls",
      "model_module_version": "1.4.0",
      "model_name": "DescriptionStyleModel",
      "state": {
       "description_width": ""
      }
     },
     "dd25e145488742cdbaf8c0fca903e97b": {
      "model_module": "@jupyter-widgets/controls",
      "model_module_version": "1.4.0",
      "model_name": "DescriptionStyleModel",
      "state": {
       "description_width": ""
      }
     },
     "dd2ec7fa0199487aba84d05685ea05ae": {
      "model_module": "@jupyter-widgets/controls",
      "model_module_version": "1.4.0",
      "model_name": "DescriptionStyleModel",
      "state": {
       "description_width": ""
      }
     },
     "dd386f2473184a24876a6da0fc4e8fea": {
      "model_module": "@jupyter-widgets/base",
      "model_module_version": "1.1.0",
      "model_name": "LayoutModel",
      "state": {}
     },
     "dd3b82f71c9443c39a4d7b75656d9c6c": {
      "model_module": "@jupyter-widgets/controls",
      "model_module_version": "1.4.0",
      "model_name": "DescriptionStyleModel",
      "state": {
       "description_width": ""
      }
     },
     "dd590946307a4c04b9962236dcd7fc2d": {
      "model_module": "@jupyter-widgets/controls",
      "model_module_version": "1.4.0",
      "model_name": "IntProgressModel",
      "state": {
       "bar_style": "success",
       "layout": "IPY_MODEL_5d96701589da41cfbce06fd23d776391",
       "max": 78,
       "style": "IPY_MODEL_310e5b138c88456285e57283d754fa99",
       "value": 78
      }
     },
     "dd6f4a6a99824c258c4e70bd4ece584c": {
      "model_module": "@jupyter-widgets/base",
      "model_module_version": "1.1.0",
      "model_name": "LayoutModel",
      "state": {}
     },
     "dd72cb2ea7724849b6044c890ef22f02": {
      "model_module": "@jupyter-widgets/controls",
      "model_module_version": "1.4.0",
      "model_name": "DescriptionStyleModel",
      "state": {
       "description_width": ""
      }
     },
     "dd72d0ac52a543a794266c85f78450da": {
      "model_module": "@jupyter-widgets/controls",
      "model_module_version": "1.4.0",
      "model_name": "HTMLModel",
      "state": {
       "layout": "IPY_MODEL_aae0c3f6d43544459c71424bc444f654",
       "style": "IPY_MODEL_bfd6a5bd09df4463a0c2bde60c89ab65",
       "value": " 82% 64/78 [00:00&lt;00:00, 129.94it/s]"
      }
     },
     "dd972b3038854327a5caf82db6c4efa4": {
      "model_module": "@jupyter-widgets/base",
      "model_module_version": "1.1.0",
      "model_name": "LayoutModel",
      "state": {}
     },
     "dd9e374814bd410ab346ba2a811399b7": {
      "model_module": "@jupyter-widgets/base",
      "model_module_version": "1.1.0",
      "model_name": "LayoutModel",
      "state": {}
     },
     "dde79f006ba44ba08c9ac810a097fe17": {
      "model_module": "@jupyter-widgets/controls",
      "model_module_version": "1.4.0",
      "model_name": "IntProgressModel",
      "state": {
       "layout": "IPY_MODEL_ff1620a6efbe4fe9be303932ed70a4b2",
       "max": 78,
       "style": "IPY_MODEL_102fa46b2d6b441aad692649785210fe",
       "value": 61
      }
     },
     "de021daae2a044f68a71e321ab2f5b82": {
      "model_module": "@jupyter-widgets/controls",
      "model_module_version": "1.4.0",
      "model_name": "DescriptionStyleModel",
      "state": {
       "description_width": ""
      }
     },
     "de0d703465274b6ebec38894703ca1a6": {
      "model_module": "@jupyter-widgets/controls",
      "model_module_version": "1.4.0",
      "model_name": "DescriptionStyleModel",
      "state": {
       "description_width": ""
      }
     },
     "de408e7e0c0d4d09b2b73a09de918042": {
      "model_module": "@jupyter-widgets/base",
      "model_module_version": "1.1.0",
      "model_name": "LayoutModel",
      "state": {}
     },
     "deae64b297194d279f4c906d9a9b4474": {
      "model_module": "@jupyter-widgets/controls",
      "model_module_version": "1.4.0",
      "model_name": "IntProgressModel",
      "state": {
       "layout": "IPY_MODEL_d04ddf6fb8e64624bdb6758c59e67a64",
       "max": 78,
       "style": "IPY_MODEL_0dc5b99238a24644a894463868c7978a",
       "value": 47
      }
     },
     "deb755d9550845e1ab3539a048a4ada1": {
      "model_module": "@jupyter-widgets/controls",
      "model_module_version": "1.4.0",
      "model_name": "DescriptionStyleModel",
      "state": {
       "description_width": ""
      }
     },
     "df04c278a4fe481d9fcaacfb45cf81c4": {
      "model_module": "@jupyter-widgets/controls",
      "model_module_version": "1.4.0",
      "model_name": "ProgressStyleModel",
      "state": {
       "description_width": ""
      }
     },
     "df292c4d4e974be292b71c17f59726b1": {
      "model_module": "@jupyter-widgets/controls",
      "model_module_version": "1.4.0",
      "model_name": "HTMLModel",
      "state": {
       "layout": "IPY_MODEL_d26b9911731d4f6e8758bbdb9bbd21c6",
       "style": "IPY_MODEL_8027e2042c0c4caa9e1077e1be2825cb",
       "value": " 59% 46/78 [00:00&lt;00:00, 142.49it/s]"
      }
     },
     "df7a88dfdd7840fd934f5b3d67924ed7": {
      "model_module": "@jupyter-widgets/base",
      "model_module_version": "1.1.0",
      "model_name": "LayoutModel",
      "state": {}
     },
     "dfc897c80efe4bcb906748c5b3bfa788": {
      "model_module": "@jupyter-widgets/controls",
      "model_module_version": "1.4.0",
      "model_name": "ProgressStyleModel",
      "state": {
       "description_width": ""
      }
     },
     "dfe11672afa14d42b9fdae550f8dde75": {
      "model_module": "@jupyter-widgets/controls",
      "model_module_version": "1.4.0",
      "model_name": "HTMLModel",
      "state": {
       "layout": "IPY_MODEL_9a14832dd14845b4a034f27bdf0d3a47",
       "style": "IPY_MODEL_5a1e0ee834de4c378be57e3ed13a24dd",
       "value": " 60% 47/78 [00:00&lt;00:00, 230.82it/s]"
      }
     },
     "e0520f21f47947289c0d2b650a87e896": {
      "model_module": "@jupyter-widgets/controls",
      "model_module_version": "1.4.0",
      "model_name": "ProgressStyleModel",
      "state": {
       "description_width": ""
      }
     },
     "e065c6376e3a463e98cd764a3d5feda0": {
      "model_module": "@jupyter-widgets/controls",
      "model_module_version": "1.4.0",
      "model_name": "DescriptionStyleModel",
      "state": {
       "description_width": ""
      }
     },
     "e09314b3d4a440ed946594ef5e51e7d6": {
      "model_module": "@jupyter-widgets/base",
      "model_module_version": "1.1.0",
      "model_name": "LayoutModel",
      "state": {}
     },
     "e0cc131056014de1a0ef8c3f3158c86a": {
      "model_module": "@jupyter-widgets/base",
      "model_module_version": "1.1.0",
      "model_name": "LayoutModel",
      "state": {}
     },
     "e19b9d64e6b6400682de31ff1b389185": {
      "model_module": "@jupyter-widgets/controls",
      "model_module_version": "1.4.0",
      "model_name": "IntProgressModel",
      "state": {
       "layout": "IPY_MODEL_81831daf0bed4eabbdfe2bff40f76de4",
       "max": 78,
       "style": "IPY_MODEL_3efdf26e5a8241f4965be638e08d2d92",
       "value": 69
      }
     },
     "e19bda5b1a6543c292e924abd2b1e26a": {
      "model_module": "@jupyter-widgets/controls",
      "model_module_version": "1.4.0",
      "model_name": "HTMLModel",
      "state": {
       "layout": "IPY_MODEL_aca74f2734d445729964ca9cbe6cde8c",
       "style": "IPY_MODEL_4163ad5f0e804857b286548bdd05cad6",
       "value": " 74% 58/78 [00:00&lt;00:00, 188.88it/s]"
      }
     },
     "e1d5d7fac9ce46afaba66fb7e8e76146": {
      "model_module": "@jupyter-widgets/base",
      "model_module_version": "1.1.0",
      "model_name": "LayoutModel",
      "state": {}
     },
     "e2199066fa96471aa8f8c036fb5acd88": {
      "model_module": "@jupyter-widgets/base",
      "model_module_version": "1.1.0",
      "model_name": "LayoutModel",
      "state": {}
     },
     "e277481e0e0848ad99e2bd8e5fabf8d9": {
      "model_module": "@jupyter-widgets/controls",
      "model_module_version": "1.4.0",
      "model_name": "HTMLModel",
      "state": {
       "layout": "IPY_MODEL_c8de2417833246a1923fe3c1a4125bff",
       "style": "IPY_MODEL_8109eb4e50724108b58ffff3ffa6bb46",
       "value": "100% 34/34 [00:24&lt;00:00,  1.39it/s]"
      }
     },
     "e28c20473ad7439799420177903dcb16": {
      "model_module": "@jupyter-widgets/base",
      "model_module_version": "1.1.0",
      "model_name": "LayoutModel",
      "state": {}
     },
     "e2bb2bd8c79540d5944c1fc209c93f29": {
      "model_module": "@jupyter-widgets/base",
      "model_module_version": "1.1.0",
      "model_name": "LayoutModel",
      "state": {}
     },
     "e3517b4b03ee4d94a9af630a90e76f00": {
      "model_module": "@jupyter-widgets/base",
      "model_module_version": "1.1.0",
      "model_name": "LayoutModel",
      "state": {}
     },
     "e372ac1ee5434c02948c3cc383c0940f": {
      "model_module": "@jupyter-widgets/base",
      "model_module_version": "1.1.0",
      "model_name": "LayoutModel",
      "state": {}
     },
     "e38a734997104a9a984ec7397a35f51c": {
      "model_module": "@jupyter-widgets/controls",
      "model_module_version": "1.4.0",
      "model_name": "DescriptionStyleModel",
      "state": {
       "description_width": ""
      }
     },
     "e39c2bd27f6b4096a0c2b2d7223bf8b5": {
      "model_module": "@jupyter-widgets/controls",
      "model_module_version": "1.4.0",
      "model_name": "ProgressStyleModel",
      "state": {
       "description_width": ""
      }
     },
     "e41832fc2b3a41bfaf56f784b892a209": {
      "model_module": "@jupyter-widgets/controls",
      "model_module_version": "1.4.0",
      "model_name": "DescriptionStyleModel",
      "state": {
       "description_width": ""
      }
     },
     "e43b1f486cea4f3ca9246fbde200846e": {
      "model_module": "@jupyter-widgets/base",
      "model_module_version": "1.1.0",
      "model_name": "LayoutModel",
      "state": {}
     },
     "e43f2a212e9341d3abf009aff0b1ad73": {
      "model_module": "@jupyter-widgets/controls",
      "model_module_version": "1.4.0",
      "model_name": "ProgressStyleModel",
      "state": {
       "description_width": ""
      }
     },
     "e4a75a6c8a7a442aaa1a0be2aad51edd": {
      "model_module": "@jupyter-widgets/controls",
      "model_module_version": "1.4.0",
      "model_name": "IntProgressModel",
      "state": {
       "layout": "IPY_MODEL_e63ab1007f754ef89cb0b6970c484a69",
       "max": 34,
       "style": "IPY_MODEL_6368f9e228a541179059faeaa924d84b",
       "value": 34
      }
     },
     "e4a7fabe39704144bea9f311a6095dd8": {
      "model_module": "@jupyter-widgets/base",
      "model_module_version": "1.1.0",
      "model_name": "LayoutModel",
      "state": {}
     },
     "e4d2a89e2702441a82f98169b081853b": {
      "model_module": "@jupyter-widgets/base",
      "model_module_version": "1.1.0",
      "model_name": "LayoutModel",
      "state": {}
     },
     "e4e070825fe1478288ce3223d0f41daa": {
      "model_module": "@jupyter-widgets/base",
      "model_module_version": "1.1.0",
      "model_name": "LayoutModel",
      "state": {}
     },
     "e52dfdc0cc9544a1995cfa1c4d352208": {
      "model_module": "@jupyter-widgets/controls",
      "model_module_version": "1.4.0",
      "model_name": "HTMLModel",
      "state": {
       "layout": "IPY_MODEL_b6f05e4df6bc4399875be2ebccbf8343",
       "style": "IPY_MODEL_e72ac0955e47447bb17a95142717460a",
       "value": "100% 34/34 [00:20&lt;00:00,  1.64it/s]"
      }
     },
     "e53aa283d26b4357a22dd62d3feade3d": {
      "model_module": "@jupyter-widgets/controls",
      "model_module_version": "1.4.0",
      "model_name": "HTMLModel",
      "state": {
       "layout": "IPY_MODEL_d2419aef0f1b45ce8548a6f98fc298b3",
       "style": "IPY_MODEL_20396eea5a6d42188a450f3ccc5d3fdd",
       "value": " 87% 68/78 [00:00&lt;00:00, 332.04it/s]"
      }
     },
     "e5510d33c87e4712a492b1e22a6ec90d": {
      "model_module": "@jupyter-widgets/base",
      "model_module_version": "1.1.0",
      "model_name": "LayoutModel",
      "state": {}
     },
     "e5749d4c1fc4448d9719dea7f4d8798b": {
      "model_module": "@jupyter-widgets/controls",
      "model_module_version": "1.4.0",
      "model_name": "ProgressStyleModel",
      "state": {
       "description_width": ""
      }
     },
     "e5c2c0ab57b14eb1892582199d5f062f": {
      "model_module": "@jupyter-widgets/controls",
      "model_module_version": "1.4.0",
      "model_name": "ProgressStyleModel",
      "state": {
       "description_width": ""
      }
     },
     "e63ab1007f754ef89cb0b6970c484a69": {
      "model_module": "@jupyter-widgets/base",
      "model_module_version": "1.1.0",
      "model_name": "LayoutModel",
      "state": {}
     },
     "e6654569abfc46ae9a6b9989b78dadcd": {
      "model_module": "@jupyter-widgets/controls",
      "model_module_version": "1.4.0",
      "model_name": "ProgressStyleModel",
      "state": {
       "description_width": ""
      }
     },
     "e675f77b799e4185b1e5bbcef92ee40c": {
      "model_module": "@jupyter-widgets/base",
      "model_module_version": "1.1.0",
      "model_name": "LayoutModel",
      "state": {}
     },
     "e68844873e244f49a58327a64d650d64": {
      "model_module": "@jupyter-widgets/controls",
      "model_module_version": "1.4.0",
      "model_name": "HTMLModel",
      "state": {
       "layout": "IPY_MODEL_971b2ed575804bd49ae802dd14128bd7",
       "style": "IPY_MODEL_bdec458be3674a648520a93ed943aa66",
       "value": "100% 17/17 [00:09&lt;00:00,  1.86it/s]"
      }
     },
     "e6b27b4813594be2ae5c976f08c34935": {
      "model_module": "@jupyter-widgets/base",
      "model_module_version": "1.1.0",
      "model_name": "LayoutModel",
      "state": {}
     },
     "e7163f769723474a964ff71efe1261b7": {
      "model_module": "@jupyter-widgets/base",
      "model_module_version": "1.1.0",
      "model_name": "LayoutModel",
      "state": {}
     },
     "e72ac0955e47447bb17a95142717460a": {
      "model_module": "@jupyter-widgets/controls",
      "model_module_version": "1.4.0",
      "model_name": "DescriptionStyleModel",
      "state": {
       "description_width": ""
      }
     },
     "e73cbb11fde2480ebb48a8b8d31d3e64": {
      "model_module": "@jupyter-widgets/base",
      "model_module_version": "1.1.0",
      "model_name": "LayoutModel",
      "state": {}
     },
     "e7a7280450d145928fb3afe41b0d4f2a": {
      "model_module": "@jupyter-widgets/base",
      "model_module_version": "1.1.0",
      "model_name": "LayoutModel",
      "state": {}
     },
     "e7ddc9264af648c68619099b1cb97390": {
      "model_module": "@jupyter-widgets/controls",
      "model_module_version": "1.4.0",
      "model_name": "HTMLModel",
      "state": {
       "layout": "IPY_MODEL_a79293f26c3b4def80cb1da1d08ae627",
       "style": "IPY_MODEL_241983dcbc4a47268d9d156607335cca",
       "value": "100% 17/17 [00:09&lt;00:00,  1.82it/s]"
      }
     },
     "e7e6c2449ce94825a8e1fd9f83f570ec": {
      "model_module": "@jupyter-widgets/controls",
      "model_module_version": "1.4.0",
      "model_name": "DescriptionStyleModel",
      "state": {
       "description_width": ""
      }
     },
     "e8280f4dd0484354829208ebd12bf8cb": {
      "model_module": "@jupyter-widgets/base",
      "model_module_version": "1.1.0",
      "model_name": "LayoutModel",
      "state": {}
     },
     "e83c382cffaa4544b8b48c7e593a2bda": {
      "model_module": "@jupyter-widgets/controls",
      "model_module_version": "1.4.0",
      "model_name": "ProgressStyleModel",
      "state": {
       "description_width": ""
      }
     },
     "e85ab302695e4a23beaa3eec094e5ab2": {
      "model_module": "@jupyter-widgets/controls",
      "model_module_version": "1.4.0",
      "model_name": "ProgressStyleModel",
      "state": {
       "description_width": ""
      }
     },
     "e85d09c62b254b7daa20395d6b5a1d83": {
      "model_module": "@jupyter-widgets/base",
      "model_module_version": "1.1.0",
      "model_name": "LayoutModel",
      "state": {}
     },
     "e8717abf56684bc58a27e0a6d5f6e1d3": {
      "model_module": "@jupyter-widgets/controls",
      "model_module_version": "1.4.0",
      "model_name": "IntProgressModel",
      "state": {
       "layout": "IPY_MODEL_67f8e035666a4a11a3b5fa6538ebf344",
       "max": 17,
       "style": "IPY_MODEL_1d67276301bf484cbda74d222d8454e3",
       "value": 17
      }
     },
     "e9a080291a1e4eed85d35086b01004c4": {
      "model_module": "@jupyter-widgets/controls",
      "model_module_version": "1.4.0",
      "model_name": "IntProgressModel",
      "state": {
       "layout": "IPY_MODEL_dd9e374814bd410ab346ba2a811399b7",
       "max": 17,
       "style": "IPY_MODEL_dc7f407d7e694f03a1afd913038b8207",
       "value": 17
      }
     },
     "e9a9d1ded81b41159428fbc9d07c31c9": {
      "model_module": "@jupyter-widgets/base",
      "model_module_version": "1.1.0",
      "model_name": "LayoutModel",
      "state": {}
     },
     "e9d45c13ab0347ce9c742ea84049084d": {
      "model_module": "@jupyter-widgets/base",
      "model_module_version": "1.1.0",
      "model_name": "LayoutModel",
      "state": {}
     },
     "e9ddda99b8394081b4865864041fab1c": {
      "model_module": "@jupyter-widgets/base",
      "model_module_version": "1.1.0",
      "model_name": "LayoutModel",
      "state": {}
     },
     "e9fbedbd0f9645d19ac72d9361a9f306": {
      "model_module": "@jupyter-widgets/base",
      "model_module_version": "1.1.0",
      "model_name": "LayoutModel",
      "state": {}
     },
     "ea01d6596da04532b6fd543c2d30bbb9": {
      "model_module": "@jupyter-widgets/base",
      "model_module_version": "1.1.0",
      "model_name": "LayoutModel",
      "state": {}
     },
     "ea0f57086f4f45b7a5bab26298451ebd": {
      "model_module": "@jupyter-widgets/base",
      "model_module_version": "1.1.0",
      "model_name": "LayoutModel",
      "state": {}
     },
     "ea3ce9eadfe345d086078adadd3734b9": {
      "model_module": "@jupyter-widgets/controls",
      "model_module_version": "1.4.0",
      "model_name": "IntProgressModel",
      "state": {
       "layout": "IPY_MODEL_4cd66bf927904e3c84ba74b03d3c2d78",
       "max": 78,
       "style": "IPY_MODEL_6f51db9e13fa49f3a56d3c924ea72c56",
       "value": 50
      }
     },
     "ea8bcfcb6337485a8caffa1cf135514c": {
      "model_module": "@jupyter-widgets/controls",
      "model_module_version": "1.4.0",
      "model_name": "DescriptionStyleModel",
      "state": {
       "description_width": ""
      }
     },
     "ea95be7b98d0468fbb47df3a0507d490": {
      "model_module": "@jupyter-widgets/controls",
      "model_module_version": "1.4.0",
      "model_name": "ProgressStyleModel",
      "state": {
       "description_width": ""
      }
     },
     "eafc4013078a44d68a5f4ad66c6366ef": {
      "model_module": "@jupyter-widgets/controls",
      "model_module_version": "1.4.0",
      "model_name": "HTMLModel",
      "state": {
       "layout": "IPY_MODEL_955f49cf72e9491ca2a763855c65d036",
       "style": "IPY_MODEL_3c23249ad67140adbdb78805028c1087",
       "value": "100% 34/34 [00:25&lt;00:00,  1.31it/s]"
      }
     },
     "eb5b003d85c9498c9835a6998883e604": {
      "model_module": "@jupyter-widgets/base",
      "model_module_version": "1.1.0",
      "model_name": "LayoutModel",
      "state": {}
     },
     "eba62772b6a3409d842680deb2463ad9": {
      "model_module": "@jupyter-widgets/controls",
      "model_module_version": "1.4.0",
      "model_name": "HTMLModel",
      "state": {
       "layout": "IPY_MODEL_f8f5e100ee66498e8e4ad05e195871f2",
       "style": "IPY_MODEL_d7b2c5cef3ba407f9c47b8ad838280d7",
       "value": " 18% 14/78 [00:00&lt;00:00, 139.58it/s]"
      }
     },
     "ebadaa279d464be491a8913657ccf86a": {
      "model_module": "@jupyter-widgets/base",
      "model_module_version": "1.1.0",
      "model_name": "LayoutModel",
      "state": {}
     },
     "ebd70e8b54034728b9e05e0a9772503a": {
      "model_module": "@jupyter-widgets/controls",
      "model_module_version": "1.4.0",
      "model_name": "IntProgressModel",
      "state": {
       "layout": "IPY_MODEL_4baab1483e0944119f02b8ef63fa7277",
       "max": 78,
       "style": "IPY_MODEL_9c6fccb5a19549eca4e13a3c05898325",
       "value": 60
      }
     },
     "ebe5627a39714408a0ec68f1613c2182": {
      "model_module": "@jupyter-widgets/base",
      "model_module_version": "1.1.0",
      "model_name": "LayoutModel",
      "state": {}
     },
     "ec3a085aca4f46babddaddc6c17c6220": {
      "model_module": "@jupyter-widgets/base",
      "model_module_version": "1.1.0",
      "model_name": "LayoutModel",
      "state": {}
     },
     "ec6e010a31b84e2caaf89a24bdd98cd4": {
      "model_module": "@jupyter-widgets/base",
      "model_module_version": "1.1.0",
      "model_name": "LayoutModel",
      "state": {}
     },
     "ec938a8e0a7c4f17b10196e8a63ddd9c": {
      "model_module": "@jupyter-widgets/base",
      "model_module_version": "1.1.0",
      "model_name": "LayoutModel",
      "state": {}
     },
     "eccf72257f6b49538a63aa863bd593f3": {
      "model_module": "@jupyter-widgets/controls",
      "model_module_version": "1.4.0",
      "model_name": "DescriptionStyleModel",
      "state": {
       "description_width": ""
      }
     },
     "ecf888e6eb0e43978192f750887bb817": {
      "model_module": "@jupyter-widgets/controls",
      "model_module_version": "1.4.0",
      "model_name": "ProgressStyleModel",
      "state": {
       "description_width": ""
      }
     },
     "ed08f2e8e27147e1ac28666392f07e4d": {
      "model_module": "@jupyter-widgets/base",
      "model_module_version": "1.1.0",
      "model_name": "LayoutModel",
      "state": {}
     },
     "ed87aa3949f747908a3a9561ff670651": {
      "model_module": "@jupyter-widgets/controls",
      "model_module_version": "1.4.0",
      "model_name": "ProgressStyleModel",
      "state": {
       "description_width": ""
      }
     },
     "ed98903670ac401f918bf98da0324e36": {
      "model_module": "@jupyter-widgets/base",
      "model_module_version": "1.1.0",
      "model_name": "LayoutModel",
      "state": {}
     },
     "eda07eb9161d4e7f8b5adf41495d11d7": {
      "model_module": "@jupyter-widgets/controls",
      "model_module_version": "1.4.0",
      "model_name": "HTMLModel",
      "state": {
       "layout": "IPY_MODEL_bb3eb1c95ae640668b6844ff7676355f",
       "style": "IPY_MODEL_d5bc417e21754b3eb42993431b22e0fb",
       "value": "100% 17/17 [00:06&lt;00:00,  2.64it/s]"
      }
     },
     "eda817103fc642a49b367f1aa2c7d0fc": {
      "model_module": "@jupyter-widgets/base",
      "model_module_version": "1.1.0",
      "model_name": "LayoutModel",
      "state": {}
     },
     "eda90cff460b40248132ee8b6456c28e": {
      "model_module": "@jupyter-widgets/controls",
      "model_module_version": "1.4.0",
      "model_name": "ProgressStyleModel",
      "state": {
       "description_width": ""
      }
     },
     "edcf9b70d90147b185ee0bea0e203347": {
      "model_module": "@jupyter-widgets/controls",
      "model_module_version": "1.4.0",
      "model_name": "HTMLModel",
      "state": {
       "layout": "IPY_MODEL_31d9f91745164504b2cba2cd99e6f3d9",
       "style": "IPY_MODEL_33cb44466142464cb4e650affdcc5230",
       "value": "100% 17/17 [00:09&lt;00:00,  1.77it/s]"
      }
     },
     "ee04cbebdf4048198905aabfd5fafc3f": {
      "model_module": "@jupyter-widgets/controls",
      "model_module_version": "1.4.0",
      "model_name": "ProgressStyleModel",
      "state": {
       "description_width": ""
      }
     },
     "ee34393cc0a647ddaf756f2f16588e0c": {
      "model_module": "@jupyter-widgets/base",
      "model_module_version": "1.1.0",
      "model_name": "LayoutModel",
      "state": {}
     },
     "ee3f7c42c56840a18f74ab56f5cdc905": {
      "model_module": "@jupyter-widgets/controls",
      "model_module_version": "1.4.0",
      "model_name": "HTMLModel",
      "state": {
       "layout": "IPY_MODEL_9e38fb3676394bafb3218aa3edc56fe5",
       "style": "IPY_MODEL_7c4fbd7df4264e37825d6fd3483641fe",
       "value": "100% 34/34 [00:25&lt;00:00,  1.35it/s]"
      }
     },
     "ef009acfd8d04d62981b66dc67624f98": {
      "model_module": "@jupyter-widgets/base",
      "model_module_version": "1.1.0",
      "model_name": "LayoutModel",
      "state": {}
     },
     "ef47e90e3c0440ab953a23536d2aeafb": {
      "model_module": "@jupyter-widgets/controls",
      "model_module_version": "1.4.0",
      "model_name": "ProgressStyleModel",
      "state": {
       "description_width": ""
      }
     },
     "ef5629f0a31e49f8a19618855403f43f": {
      "model_module": "@jupyter-widgets/base",
      "model_module_version": "1.1.0",
      "model_name": "LayoutModel",
      "state": {}
     },
     "ef6c11fa8e114508bb925c86ff34d7a8": {
      "model_module": "@jupyter-widgets/base",
      "model_module_version": "1.1.0",
      "model_name": "LayoutModel",
      "state": {}
     },
     "efbee21eb7de4ac1a5b880b67747bf67": {
      "model_module": "@jupyter-widgets/controls",
      "model_module_version": "1.4.0",
      "model_name": "IntProgressModel",
      "state": {
       "layout": "IPY_MODEL_415e6fe2091c47eb8eea45b77d99734e",
       "max": 78,
       "style": "IPY_MODEL_c13ae15b617c4428bca1ea4a8b28819a",
       "value": 46
      }
     },
     "efcd9b0853984e5391aa14757fa18dd7": {
      "model_module": "@jupyter-widgets/base",
      "model_module_version": "1.1.0",
      "model_name": "LayoutModel",
      "state": {}
     },
     "f05d2972edb244ba84d503b53b711e9c": {
      "model_module": "@jupyter-widgets/base",
      "model_module_version": "1.1.0",
      "model_name": "LayoutModel",
      "state": {}
     },
     "f0681962284a4f35a136973319084ae3": {
      "model_module": "@jupyter-widgets/controls",
      "model_module_version": "1.4.0",
      "model_name": "IntProgressModel",
      "state": {
       "layout": "IPY_MODEL_771192f2fa0640beac5407da2aa19583",
       "max": 78,
       "style": "IPY_MODEL_d2ab3c28acdb4ef693d52a727783e6b1",
       "value": 74
      }
     },
     "f06c23fcc66f4c75b6e6af7120e4ed40": {
      "model_module": "@jupyter-widgets/controls",
      "model_module_version": "1.4.0",
      "model_name": "HTMLModel",
      "state": {
       "layout": "IPY_MODEL_6d843c54f2c64e58827ea2aedf7bb7f9",
       "style": "IPY_MODEL_8ed10bfcabff4ad08849a2c11d439898",
       "value": " 73% 57/78 [00:00&lt;00:00, 284.33it/s]"
      }
     },
     "f12ed51f0300453b9a466436517b3fb8": {
      "model_module": "@jupyter-widgets/base",
      "model_module_version": "1.1.0",
      "model_name": "LayoutModel",
      "state": {}
     },
     "f15ae1a485fa46079a7ef93fc40b5549": {
      "model_module": "@jupyter-widgets/controls",
      "model_module_version": "1.4.0",
      "model_name": "DescriptionStyleModel",
      "state": {
       "description_width": ""
      }
     },
     "f15e5da1e3ce473fa063096dc293db49": {
      "model_module": "@jupyter-widgets/controls",
      "model_module_version": "1.4.0",
      "model_name": "DescriptionStyleModel",
      "state": {
       "description_width": ""
      }
     },
     "f1a998ef811f497ea312fc17e7a24b6f": {
      "model_module": "@jupyter-widgets/controls",
      "model_module_version": "1.4.0",
      "model_name": "IntProgressModel",
      "state": {
       "layout": "IPY_MODEL_4ee8d1a8ac7a4c27b1dbdf4e6610a82e",
       "max": 78,
       "style": "IPY_MODEL_cf6a8fb0f4c74083838e9c2d42d2ee5f",
       "value": 49
      }
     },
     "f1b3a7c39b034d208d5b80385ca76d31": {
      "model_module": "@jupyter-widgets/controls",
      "model_module_version": "1.4.0",
      "model_name": "DescriptionStyleModel",
      "state": {
       "description_width": ""
      }
     },
     "f210fcc395a64eaf8101f4810ebe33bb": {
      "model_module": "@jupyter-widgets/base",
      "model_module_version": "1.1.0",
      "model_name": "LayoutModel",
      "state": {}
     },
     "f23e4fbf72a34f5f9dc3e85304e41838": {
      "model_module": "@jupyter-widgets/base",
      "model_module_version": "1.1.0",
      "model_name": "LayoutModel",
      "state": {}
     },
     "f2cb57fc621843878c725923aebeb2bd": {
      "model_module": "@jupyter-widgets/base",
      "model_module_version": "1.1.0",
      "model_name": "LayoutModel",
      "state": {}
     },
     "f34022c21a5d4c0d81ae38ef685a2a80": {
      "model_module": "@jupyter-widgets/base",
      "model_module_version": "1.1.0",
      "model_name": "LayoutModel",
      "state": {}
     },
     "f3d2e54313644b5593a176036380ab8f": {
      "model_module": "@jupyter-widgets/controls",
      "model_module_version": "1.4.0",
      "model_name": "ProgressStyleModel",
      "state": {
       "description_width": ""
      }
     },
     "f4c6654278174acb9e7bbf872d63ce7f": {
      "model_module": "@jupyter-widgets/base",
      "model_module_version": "1.1.0",
      "model_name": "LayoutModel",
      "state": {}
     },
     "f4cc6ede8dba4041b0efbe95120e1c48": {
      "model_module": "@jupyter-widgets/base",
      "model_module_version": "1.1.0",
      "model_name": "LayoutModel",
      "state": {}
     },
     "f5b250660b6946f2becbe7fc7ee877f9": {
      "model_module": "@jupyter-widgets/controls",
      "model_module_version": "1.4.0",
      "model_name": "DescriptionStyleModel",
      "state": {
       "description_width": ""
      }
     },
     "f5b91119ee644eb18617240a058cc0df": {
      "model_module": "@jupyter-widgets/base",
      "model_module_version": "1.1.0",
      "model_name": "LayoutModel",
      "state": {}
     },
     "f5e0381bf3fd49ce8954cafad6c76da1": {
      "model_module": "@jupyter-widgets/base",
      "model_module_version": "1.1.0",
      "model_name": "LayoutModel",
      "state": {}
     },
     "f5efef4e99db4290882f5c1c21d53e67": {
      "model_module": "@jupyter-widgets/controls",
      "model_module_version": "1.4.0",
      "model_name": "ProgressStyleModel",
      "state": {
       "description_width": ""
      }
     },
     "f63d5d012afc4012a3e1bc035c2fe79b": {
      "model_module": "@jupyter-widgets/base",
      "model_module_version": "1.1.0",
      "model_name": "LayoutModel",
      "state": {}
     },
     "f64cff37ed18403e9994d4bce3b2046b": {
      "model_module": "@jupyter-widgets/controls",
      "model_module_version": "1.4.0",
      "model_name": "HTMLModel",
      "state": {
       "layout": "IPY_MODEL_3d3eb9ed010f4c128495e3b7f12a9e9c",
       "style": "IPY_MODEL_5f383700e9074e40bcb6714f070b538a",
       "value": "100% 20/20 [09:06&lt;00:00, 27.32s/it]"
      }
     },
     "f65ef79fcc9d4a888670e616e7e14044": {
      "model_module": "@jupyter-widgets/controls",
      "model_module_version": "1.4.0",
      "model_name": "DescriptionStyleModel",
      "state": {
       "description_width": ""
      }
     },
     "f699c510965e4672b5da44aade1dae05": {
      "model_module": "@jupyter-widgets/base",
      "model_module_version": "1.1.0",
      "model_name": "LayoutModel",
      "state": {}
     },
     "f699f700309e47aebb853c4980a03b73": {
      "model_module": "@jupyter-widgets/controls",
      "model_module_version": "1.4.0",
      "model_name": "ProgressStyleModel",
      "state": {
       "description_width": ""
      }
     },
     "f69b1e4713ab4e73b6ed38726b1c6594": {
      "model_module": "@jupyter-widgets/controls",
      "model_module_version": "1.4.0",
      "model_name": "DescriptionStyleModel",
      "state": {
       "description_width": ""
      }
     },
     "f6a8a9e3160945f2b345a7fbf99a713e": {
      "model_module": "@jupyter-widgets/controls",
      "model_module_version": "1.4.0",
      "model_name": "ProgressStyleModel",
      "state": {
       "description_width": ""
      }
     },
     "f6ef109863c043dc9a0c23fdf29aa84e": {
      "model_module": "@jupyter-widgets/base",
      "model_module_version": "1.1.0",
      "model_name": "LayoutModel",
      "state": {}
     },
     "f702695ea42547869343747d53fb70a7": {
      "model_module": "@jupyter-widgets/base",
      "model_module_version": "1.1.0",
      "model_name": "LayoutModel",
      "state": {}
     },
     "f7528c2df8bb41479e54ae26302ee8fd": {
      "model_module": "@jupyter-widgets/controls",
      "model_module_version": "1.4.0",
      "model_name": "DescriptionStyleModel",
      "state": {
       "description_width": ""
      }
     },
     "f7a2676e09884df297d3d45e72a627c0": {
      "model_module": "@jupyter-widgets/base",
      "model_module_version": "1.1.0",
      "model_name": "LayoutModel",
      "state": {}
     },
     "f81a5fdfa7ef4f77995ea3ed77ee0a0a": {
      "model_module": "@jupyter-widgets/base",
      "model_module_version": "1.1.0",
      "model_name": "LayoutModel",
      "state": {}
     },
     "f841bb9f9e224690b7e67345fa022ad2": {
      "model_module": "@jupyter-widgets/controls",
      "model_module_version": "1.4.0",
      "model_name": "ProgressStyleModel",
      "state": {
       "description_width": ""
      }
     },
     "f88ef4f902e148898e878ad4936618c1": {
      "model_module": "@jupyter-widgets/controls",
      "model_module_version": "1.4.0",
      "model_name": "ProgressStyleModel",
      "state": {
       "description_width": ""
      }
     },
     "f8b934f755f04e3a9e4c0a47dfa13b43": {
      "model_module": "@jupyter-widgets/controls",
      "model_module_version": "1.4.0",
      "model_name": "HTMLModel",
      "state": {
       "layout": "IPY_MODEL_acf9299459364b778ac75876768aa4a0",
       "style": "IPY_MODEL_a43afa594f5442ccbc71ed97b664d34c",
       "value": " 81% 63/78 [00:00&lt;00:00, 144.71it/s]"
      }
     },
     "f8f5e100ee66498e8e4ad05e195871f2": {
      "model_module": "@jupyter-widgets/base",
      "model_module_version": "1.1.0",
      "model_name": "LayoutModel",
      "state": {}
     },
     "f92720b159f04430bea3c818abe51d75": {
      "model_module": "@jupyter-widgets/controls",
      "model_module_version": "1.4.0",
      "model_name": "IntProgressModel",
      "state": {
       "layout": "IPY_MODEL_3bd71989849c4937abfa576a99fba1dd",
       "max": 78,
       "style": "IPY_MODEL_460c7df2b1214dd4ba8bdc2f0a18dfb3",
       "value": 71
      }
     },
     "f9704ec92f544873ad2fa55c9cce9f61": {
      "model_module": "@jupyter-widgets/controls",
      "model_module_version": "1.4.0",
      "model_name": "IntProgressModel",
      "state": {
       "layout": "IPY_MODEL_4cc5b58989bc4e1cbe782729d9b85603",
       "max": 78,
       "style": "IPY_MODEL_8f6fd62fed89430c91ea2005763d746e",
       "value": 50
      }
     },
     "f97f88abbb39401dbeb78eb447264279": {
      "model_module": "@jupyter-widgets/base",
      "model_module_version": "1.1.0",
      "model_name": "LayoutModel",
      "state": {}
     },
     "f98f7d371ca6407eb884f1f5ce2467d3": {
      "model_module": "@jupyter-widgets/base",
      "model_module_version": "1.1.0",
      "model_name": "LayoutModel",
      "state": {}
     },
     "f995986cec4041a6a7a09a1cab4d1092": {
      "model_module": "@jupyter-widgets/base",
      "model_module_version": "1.1.0",
      "model_name": "LayoutModel",
      "state": {}
     },
     "f99b9d36b44749ea8face8d32dbb8564": {
      "model_module": "@jupyter-widgets/base",
      "model_module_version": "1.1.0",
      "model_name": "LayoutModel",
      "state": {}
     },
     "f9b131005ea84b33a3986701c875ab10": {
      "model_module": "@jupyter-widgets/base",
      "model_module_version": "1.1.0",
      "model_name": "LayoutModel",
      "state": {}
     },
     "fa320ff7842c4dffbb084ad2b5d7c3b1": {
      "model_module": "@jupyter-widgets/controls",
      "model_module_version": "1.4.0",
      "model_name": "ProgressStyleModel",
      "state": {
       "description_width": ""
      }
     },
     "fa50b548efbf4bc0a6976c3c34e0ce6c": {
      "model_module": "@jupyter-widgets/controls",
      "model_module_version": "1.4.0",
      "model_name": "HTMLModel",
      "state": {
       "layout": "IPY_MODEL_e3517b4b03ee4d94a9af630a90e76f00",
       "style": "IPY_MODEL_50c95ff777eb4a3591ef6bf1db10aba9",
       "value": " 91% 71/78 [00:00&lt;00:00, 210.06it/s]"
      }
     },
     "fa96863625c8466fa7c043879711f86e": {
      "model_module": "@jupyter-widgets/controls",
      "model_module_version": "1.4.0",
      "model_name": "ProgressStyleModel",
      "state": {
       "description_width": ""
      }
     },
     "faa63443f8384eb0b8273aa68d22f394": {
      "model_module": "@jupyter-widgets/controls",
      "model_module_version": "1.4.0",
      "model_name": "HTMLModel",
      "state": {
       "layout": "IPY_MODEL_463e5ea7b8e54a96a1c29f64b26b9b43",
       "style": "IPY_MODEL_8e2cbac36a96446d9469415f24e4164f",
       "value": "100% 78/78 [00:00&lt;00:00, 407.72it/s]"
      }
     },
     "facab5931b264c40b4334bedaa7e63f7": {
      "model_module": "@jupyter-widgets/controls",
      "model_module_version": "1.4.0",
      "model_name": "DescriptionStyleModel",
      "state": {
       "description_width": ""
      }
     },
     "fad5ce310a744c91b6d8579e757c9015": {
      "model_module": "@jupyter-widgets/controls",
      "model_module_version": "1.4.0",
      "model_name": "DescriptionStyleModel",
      "state": {
       "description_width": ""
      }
     },
     "fb354221c5a349e9946882c436e88fc9": {
      "model_module": "@jupyter-widgets/base",
      "model_module_version": "1.1.0",
      "model_name": "LayoutModel",
      "state": {}
     },
     "fb371e1cbd23466a9d9323402499e205": {
      "model_module": "@jupyter-widgets/base",
      "model_module_version": "1.1.0",
      "model_name": "LayoutModel",
      "state": {}
     },
     "fb5e79ffe4ba4509b6f22f35d0691155": {
      "model_module": "@jupyter-widgets/controls",
      "model_module_version": "1.4.0",
      "model_name": "IntProgressModel",
      "state": {
       "layout": "IPY_MODEL_9b0257b5cbff47b08f1c22c84d5c9fa2",
       "max": 34,
       "style": "IPY_MODEL_3c0c5f10765040bcbf07791ff3505772",
       "value": 34
      }
     },
     "fba7d513363142c194ac9987acc4468c": {
      "model_module": "@jupyter-widgets/base",
      "model_module_version": "1.1.0",
      "model_name": "LayoutModel",
      "state": {}
     },
     "fbd00898569849ada9e38a96e7a7c384": {
      "model_module": "@jupyter-widgets/base",
      "model_module_version": "1.1.0",
      "model_name": "LayoutModel",
      "state": {}
     },
     "fbebf6adc92348fc885126a144a5d6e4": {
      "model_module": "@jupyter-widgets/base",
      "model_module_version": "1.1.0",
      "model_name": "LayoutModel",
      "state": {}
     },
     "fbf80aabdb4842d187db5ec2ace2f8db": {
      "model_module": "@jupyter-widgets/controls",
      "model_module_version": "1.4.0",
      "model_name": "DescriptionStyleModel",
      "state": {
       "description_width": ""
      }
     },
     "fc19695ed3084898ade9619d6670c5a0": {
      "model_module": "@jupyter-widgets/base",
      "model_module_version": "1.1.0",
      "model_name": "LayoutModel",
      "state": {}
     },
     "fc51297a16ef4bbba906697039a095d4": {
      "model_module": "@jupyter-widgets/controls",
      "model_module_version": "1.4.0",
      "model_name": "ProgressStyleModel",
      "state": {
       "description_width": ""
      }
     },
     "fc93417effbc486e88c3019a790554eb": {
      "model_module": "@jupyter-widgets/base",
      "model_module_version": "1.1.0",
      "model_name": "LayoutModel",
      "state": {}
     },
     "fc9d1201ec7a4e36804e576d08810433": {
      "model_module": "@jupyter-widgets/controls",
      "model_module_version": "1.4.0",
      "model_name": "HTMLModel",
      "state": {
       "layout": "IPY_MODEL_e0cc131056014de1a0ef8c3f3158c86a",
       "style": "IPY_MODEL_7bc965495a1a4cb4899cf94f4fbe18b1",
       "value": "100% 17/17 [00:09&lt;00:00,  1.83it/s]"
      }
     },
     "fcad4e26622b448bbd06d51d74f87061": {
      "model_module": "@jupyter-widgets/base",
      "model_module_version": "1.1.0",
      "model_name": "LayoutModel",
      "state": {}
     },
     "fd2888f956df4e38a390166ba323fa20": {
      "model_module": "@jupyter-widgets/controls",
      "model_module_version": "1.4.0",
      "model_name": "HTMLModel",
      "state": {
       "layout": "IPY_MODEL_c1750a1e52d644bcacea54469bcae74e",
       "style": "IPY_MODEL_2f023ae019684225b1f628eae6c9c098",
       "value": " 46% 36/78 [00:00&lt;00:00, 351.44it/s]"
      }
     },
     "fd2c10be2ca74afe86c5f5e88ac8b673": {
      "model_module": "@jupyter-widgets/base",
      "model_module_version": "1.1.0",
      "model_name": "LayoutModel",
      "state": {}
     },
     "fda2b6dfe3f14230b07b339e02da7f92": {
      "model_module": "@jupyter-widgets/controls",
      "model_module_version": "1.4.0",
      "model_name": "HTMLModel",
      "state": {
       "layout": "IPY_MODEL_52a87a408cca4c74b97bcf7c2f5a622a",
       "style": "IPY_MODEL_98e9075a81e74b5180bc8924c0da1117",
       "value": "100% 17/17 [00:09&lt;00:00,  1.80it/s]"
      }
     },
     "fdae9015996d45e6bedd6c5e917ca5a0": {
      "model_module": "@jupyter-widgets/controls",
      "model_module_version": "1.4.0",
      "model_name": "HTMLModel",
      "state": {
       "layout": "IPY_MODEL_7e1245a299ad490a942d1dbaa9ddeda2",
       "style": "IPY_MODEL_ab8a68e085134a7387a1b8c5ec232c9f",
       "value": " 64% 50/78 [00:00&lt;00:00, 232.02it/s]"
      }
     },
     "fdbc9556580748968731a768ddda8f4a": {
      "model_module": "@jupyter-widgets/base",
      "model_module_version": "1.1.0",
      "model_name": "LayoutModel",
      "state": {}
     },
     "fdbedb3f378d410ab8fd90d0af662a32": {
      "model_module": "@jupyter-widgets/controls",
      "model_module_version": "1.4.0",
      "model_name": "IntProgressModel",
      "state": {
       "layout": "IPY_MODEL_702eb091fd824bc0a17127ca4b219efc",
       "max": 17,
       "style": "IPY_MODEL_07a7b322dba04213945db421885e7322",
       "value": 17
      }
     },
     "fde009dd87c5441b95dc2029735eeec6": {
      "model_module": "@jupyter-widgets/base",
      "model_module_version": "1.1.0",
      "model_name": "LayoutModel",
      "state": {}
     },
     "fe0c83a1433442e0a077363825ecc588": {
      "model_module": "@jupyter-widgets/controls",
      "model_module_version": "1.4.0",
      "model_name": "DescriptionStyleModel",
      "state": {
       "description_width": ""
      }
     },
     "fe248c48f66946afa98f2ab03cb34773": {
      "model_module": "@jupyter-widgets/controls",
      "model_module_version": "1.4.0",
      "model_name": "HTMLModel",
      "state": {
       "layout": "IPY_MODEL_afb0e3aa08404634bbc8dff59c9b480d",
       "style": "IPY_MODEL_209c3a8200dd472ead535c939d59eb9d",
       "value": "100% 78/78 [00:00&lt;00:00, 207.64it/s]"
      }
     },
     "fe8509b08bfc4774950c20bd17661926": {
      "model_module": "@jupyter-widgets/base",
      "model_module_version": "1.1.0",
      "model_name": "LayoutModel",
      "state": {}
     },
     "fe8f78ecbfe24158883c2a1fd76e4f9d": {
      "model_module": "@jupyter-widgets/base",
      "model_module_version": "1.1.0",
      "model_name": "LayoutModel",
      "state": {}
     },
     "fec4f28a63f74dc58293c4117fdf2de1": {
      "model_module": "@jupyter-widgets/base",
      "model_module_version": "1.1.0",
      "model_name": "LayoutModel",
      "state": {}
     },
     "ff1620a6efbe4fe9be303932ed70a4b2": {
      "model_module": "@jupyter-widgets/base",
      "model_module_version": "1.1.0",
      "model_name": "LayoutModel",
      "state": {}
     },
     "ff55e3bdbf9f40ca82f84e3807ba026e": {
      "model_module": "@jupyter-widgets/base",
      "model_module_version": "1.1.0",
      "model_name": "LayoutModel",
      "state": {}
     },
     "ff782dcd5f024a12913ac665b04fa349": {
      "model_module": "@jupyter-widgets/base",
      "model_module_version": "1.1.0",
      "model_name": "LayoutModel",
      "state": {}
     },
     "fffc68dfaaad4309aaffb340c8bd5f62": {
      "model_module": "@jupyter-widgets/controls",
      "model_module_version": "1.4.0",
      "model_name": "HTMLModel",
      "state": {
       "layout": "IPY_MODEL_318c932217fd461186556916f61bfb76",
       "style": "IPY_MODEL_a79dc50b5c8444b393ef3c83861148b3",
       "value": "100% 17/17 [00:09&lt;00:00,  1.76it/s]"
      }
     }
    },
    "version_major": 2,
    "version_minor": 0
   }
  }
 },
 "nbformat": 4,
 "nbformat_minor": 2
}
