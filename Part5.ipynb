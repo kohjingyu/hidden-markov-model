{
 "cells": [
  {
   "cell_type": "code",
   "execution_count": 1,
   "metadata": {},
   "outputs": [],
   "source": [
    "%matplotlib inline\n",
    "import numpy as np\n",
    "import matplotlib.pyplot as plt\n",
    "import os\n",
    "import re\n",
    "import itertools\n",
    "from collections import defaultdict, OrderedDict\n",
    "from random import shuffle\n",
    "from tqdm import tqdm_notebook as tqdm, tnrange as trange\n",
    "from sklearn.metrics import confusion_matrix\n",
    "\n",
    "from evalResult import get_predicted, get_observed\n",
    "plt.style.use('seaborn')"
   ]
  },
  {
   "cell_type": "code",
   "execution_count": 2,
   "metadata": {},
   "outputs": [],
   "source": [
    "dataset = 'EN'"
   ]
  },
  {
   "cell_type": "markdown",
   "metadata": {},
   "source": [
    "## Hyperparameters\n",
    "Here for easy tuning."
   ]
  },
  {
   "cell_type": "code",
   "execution_count": 3,
   "metadata": {},
   "outputs": [],
   "source": [
    "# optimal 1e-4\n",
    "lr = 1e-4\n",
    "batch_size = 16\n",
    "n_epochs = 20"
   ]
  },
  {
   "cell_type": "markdown",
   "metadata": {},
   "source": [
    "## Data"
   ]
  },
  {
   "cell_type": "markdown",
   "metadata": {},
   "source": [
    "### Cleaning\n",
    "Prepare words for cleaning. Specifically, find\n",
    "1. ~~stopwords~~\n",
    "1. punctuation\n",
    "1. hashtags\n",
    "1. @ mentions\n",
    "1. numbers\n",
    "1. URLs"
   ]
  },
  {
   "cell_type": "code",
   "execution_count": 4,
   "metadata": {},
   "outputs": [],
   "source": [
    "re_punc = r'^[^a-zA-Z0-9]+$'\n",
    "re_hash = r'^#'\n",
    "re_at = r'^@'\n",
    "re_num = r'\\d'  # just remove all words with numbers\n",
    "re_url = r'(^http:|\\.com$)'"
   ]
  },
  {
   "cell_type": "code",
   "execution_count": 5,
   "metadata": {},
   "outputs": [],
   "source": [
    "def clean_word(w):\n",
    "    w = w.strip()\n",
    "    if re.match(re_punc, w):\n",
    "        return '#PUNC#'\n",
    "    if re.match(re_hash, w):\n",
    "        return '#HASH#'\n",
    "    if re.match(re_at, w):\n",
    "        return '#AT#'\n",
    "    if re.match(re_num, w):\n",
    "        return '#NUM#'\n",
    "    if re.match(re_url, w):\n",
    "        return '#URL#'\n",
    "    return w.lower()"
   ]
  },
  {
   "cell_type": "markdown",
   "metadata": {},
   "source": [
    "### I/O"
   ]
  },
  {
   "cell_type": "code",
   "execution_count": 6,
   "metadata": {},
   "outputs": [],
   "source": [
    "def parse(train_filename):\n",
    "    with open(train_filename, 'r') as f:\n",
    "        lines = f.readlines()\n",
    "\n",
    "    observations, states = defaultdict(int), defaultdict(int)\n",
    "    for line in lines:\n",
    "        data_split = line.strip().rsplit(' ', 1)\n",
    "        if len(data_split) == 2:\n",
    "            obs, state = data_split\n",
    "            observations[clean_word(obs)] += 1\n",
    "            states[state] += 1\n",
    "    return observations, states"
   ]
  },
  {
   "cell_type": "code",
   "execution_count": 7,
   "metadata": {},
   "outputs": [],
   "source": [
    "def read_file(filename, clean=True):\n",
    "    with open(filename, 'r') as f:\n",
    "        lines = f.readlines()\n",
    "        \n",
    "    sentence, label = [], []\n",
    "    sentences, labels = [], []\n",
    "    for line in lines:\n",
    "        data_split = line.strip().rsplit(' ', 1)\n",
    "        if len(data_split) == 2:\n",
    "            word, state = data_split\n",
    "            if clean:\n",
    "                word = clean_word(word)\n",
    "            sentence.append(word)\n",
    "            label.append(state)\n",
    "        else:\n",
    "            sentences.append(sentence)\n",
    "            labels.append(label)\n",
    "            sentence = []\n",
    "            label = []\n",
    "    return sentences, labels"
   ]
  },
  {
   "cell_type": "markdown",
   "metadata": {},
   "source": [
    "### Train data"
   ]
  },
  {
   "cell_type": "code",
   "execution_count": 8,
   "metadata": {},
   "outputs": [],
   "source": [
    "train_filename = f'data/{dataset}/train'\n",
    "\n",
    "observations, states = parse(train_filename)"
   ]
  },
  {
   "cell_type": "code",
   "execution_count": 9,
   "metadata": {
    "scrolled": true
   },
   "outputs": [
    {
     "data": {
      "text/plain": [
       "(['rt', '#AT#', '#PUNC#', 'encore', '#PUNC#'], ['O', 'O', 'O', 'B-INTJ', 'O'])"
      ]
     },
     "execution_count": 9,
     "metadata": {},
     "output_type": "execute_result"
    }
   ],
   "source": [
    "train_sentences, train_labels = read_file(train_filename)\n",
    "train_sentences[0][:5], train_labels[0][:5]"
   ]
  },
  {
   "cell_type": "markdown",
   "metadata": {},
   "source": [
    "### Validation data"
   ]
  },
  {
   "cell_type": "code",
   "execution_count": 10,
   "metadata": {
    "scrolled": true
   },
   "outputs": [
    {
     "data": {
      "text/plain": [
       "(['no', 'saints', 'r', '#PUNC#', 'buch'],\n",
       " ['B-NP', 'I-NP', 'I-NP', 'O', 'B-NP'])"
      ]
     },
     "execution_count": 10,
     "metadata": {},
     "output_type": "execute_result"
    }
   ],
   "source": [
    "val_filename = f'data/{dataset}/dev.out'\n",
    "val_sentences, val_labels = read_file(val_filename)\n",
    "val_sentences[0][:5], val_labels[0][:5]"
   ]
  },
  {
   "cell_type": "code",
   "execution_count": 11,
   "metadata": {},
   "outputs": [],
   "source": [
    "out_filename = f'data/{dataset}/dev.p5.out'"
   ]
  },
  {
   "cell_type": "markdown",
   "metadata": {},
   "source": [
    "## Split classes"
   ]
  },
  {
   "cell_type": "code",
   "execution_count": 12,
   "metadata": {},
   "outputs": [
    {
     "data": {
      "text/plain": [
       "defaultdict(int,\n",
       "            {'O': 2191,\n",
       "             'B-INTJ': 257,\n",
       "             'B-PP': 716,\n",
       "             'B-NP': 2768,\n",
       "             'I-NP': 1904,\n",
       "             'B-VP': 1327,\n",
       "             'B-PRT': 85,\n",
       "             'I-VP': 607,\n",
       "             'B-ADJP': 159,\n",
       "             'B-SBAR': 71,\n",
       "             'B-ADVP': 386,\n",
       "             'I-INTJ': 88,\n",
       "             'B-CONJP': 2,\n",
       "             'I-CONJP': 2,\n",
       "             'I-ADVP': 51,\n",
       "             'I-ADJP': 61,\n",
       "             'I-SBAR': 4,\n",
       "             'I-PP': 6})"
      ]
     },
     "execution_count": 12,
     "metadata": {},
     "output_type": "execute_result"
    }
   ],
   "source": [
    "states"
   ]
  },
  {
   "cell_type": "code",
   "execution_count": 13,
   "metadata": {},
   "outputs": [],
   "source": [
    "def convert_state(state):\n",
    "    if state == 'O':\n",
    "        return (state, state)\n",
    "    return state.split('-')\n",
    "\n",
    "\n",
    "entities = defaultdict(int)\n",
    "entity_types = defaultdict(int)\n",
    "\n",
    "for state, counts in states.items():\n",
    "    e, e_type = convert_state(state)\n",
    "    entities[e] += counts\n",
    "    entity_types[e_type] += counts"
   ]
  },
  {
   "cell_type": "code",
   "execution_count": 14,
   "metadata": {},
   "outputs": [
    {
     "data": {
      "image/png": "[encoded data removed]",
      "text/plain": [
       "<Figure size 1440x360 with 2 Axes>"
      ]
     },
     "metadata": {
      "needs_background": "light"
     },
     "output_type": "display_data"
    }
   ],
   "source": [
    "x1, y1 = zip(*entities.items())\n",
    "x2, y2 = zip(*entity_types.items())\n",
    "\n",
    "plt.figure(figsize=(20, 5))\n",
    "\n",
    "plt.subplot(1, 2, 1)\n",
    "plt.title('Entity')\n",
    "bar1 = plt.bar(x1, y1)\n",
    "for rect in bar1:\n",
    "    height = rect.get_height()\n",
    "    plt.text(rect.get_x()+rect.get_width()/2, height, str(height), ha='center', va='bottom')\n",
    "\n",
    "plt.subplot(1, 2, 2)\n",
    "plt.title('Entity type')\n",
    "bar2 = plt.bar(x2, y2)\n",
    "for rect in bar2:\n",
    "    height = rect.get_height()\n",
    "    plt.text(rect.get_x()+rect.get_width()/2, height, str(height), ha='center', va='bottom')"
   ]
  },
  {
   "cell_type": "markdown",
   "metadata": {},
   "source": [
    "## Encoding"
   ]
  },
  {
   "cell_type": "code",
   "execution_count": 15,
   "metadata": {},
   "outputs": [],
   "source": [
    "def one_hot_encode(n, depth):\n",
    "    a = np.zeros([depth, 1])\n",
    "    a[n, 0] = 1\n",
    "    return a"
   ]
  },
  {
   "cell_type": "markdown",
   "metadata": {},
   "source": [
    "### Encode words\n",
    "Create a vocabulary out of words that appear more than `1` time(s) in training. Each word now maps to an _integer_. Other words will be treated as `#UNK#`."
   ]
  },
  {
   "cell_type": "code",
   "execution_count": 16,
   "metadata": {},
   "outputs": [],
   "source": [
    "def tokenize(token_mapping, sentence):\n",
    "    \"\"\"\n",
    "    Function to convert each word into its corresponding integer\n",
    "    If word is not found, return the value for '#UNK'\n",
    "    \"\"\"\n",
    "    return [token_mapping.get(w, token_mapping['#UNK#']) for w in sentence]\n",
    "\n",
    "def prepare_inputs(token_mapping, sentences):\n",
    "    \"\"\"\n",
    "    Converts a 2-D list of sentences (list of list of words)\n",
    "    to one-hot encoded tokens of shape [n_sentences, n_words, len(token_mapping), 1].\n",
    "    \"\"\"\n",
    "    tokens = [tokenize(token_mapping, sentence) for sentence in sentences] \n",
    "    \n",
    "    depth = len(token_mapping)\n",
    "    one_hot_tokens = [[one_hot_encode(token, depth) for token in sentence] for sentence in tokens]\n",
    "    one_hot_tokens = [np.asarray(ls) for ls in one_hot_tokens]  # list of [n_words, len(token_mapping), 1]\n",
    "    return one_hot_tokens"
   ]
  },
  {
   "cell_type": "code",
   "execution_count": 17,
   "metadata": {},
   "outputs": [
    {
     "data": {
      "text/plain": [
       "2504"
      ]
     },
     "execution_count": 17,
     "metadata": {},
     "output_type": "execute_result"
    }
   ],
   "source": [
    "min_freq = 0\n",
    "\n",
    "token_mapping = {}\n",
    "for word in observations:\n",
    "    if observations[word] > min_freq:  # appears more than once in training\n",
    "        token_mapping[word] = len(token_mapping)\n",
    "token_mapping['#UNK#'] = len(token_mapping)\n",
    "len(token_mapping)"
   ]
  },
  {
   "cell_type": "code",
   "execution_count": 18,
   "metadata": {
    "scrolled": false
   },
   "outputs": [
    {
     "data": {
      "text/plain": [
       "(551, (25, 2504, 1))"
      ]
     },
     "execution_count": 18,
     "metadata": {},
     "output_type": "execute_result"
    }
   ],
   "source": [
    "X_train = prepare_inputs(token_mapping, train_sentences)\n",
    "len(X_train), X_train[0].shape"
   ]
  },
  {
   "cell_type": "markdown",
   "metadata": {},
   "source": [
    "### Encode labels\n",
    "Perform a similar encoding for the states:\n",
    "1. Map to integer\n",
    "1. Convert from integer to one-hot-encoding"
   ]
  },
  {
   "cell_type": "code",
   "execution_count": 19,
   "metadata": {},
   "outputs": [],
   "source": [
    "def prepare_labels(entity_mapping, entity_type_mapping, sequences):\n",
    "    \"\"\"\n",
    "    Convert each state from str to its corresponding int value.\n",
    "    Convert the int to a one-hot vector.\n",
    "    \"\"\"\n",
    "    # code simplicity over code efficiency\n",
    "    encoded_entities = [[entity_mapping[convert_state(state)[0]] for state in label] for label in sequences]\n",
    "    encoded_e_types = [[entity_type_mapping[convert_state(state)[1]] for state in label] for label in sequences]\n",
    "    \n",
    "    depth = len(entity_mapping)\n",
    "    one_hot_entities = [[one_hot_encode(label, depth) for label in sequence] for sequence in encoded_entities]\n",
    "    one_hot_entities = [np.asarray(ls) for ls in one_hot_entities]\n",
    "    \n",
    "    depth = len(entity_type_mapping)\n",
    "    one_hot_e_types = [[one_hot_encode(label, depth) for label in sequence] for sequence in encoded_e_types]\n",
    "    one_hot_e_types = [np.asarray(ls) for ls in one_hot_e_types]\n",
    "    return one_hot_entities, one_hot_e_types"
   ]
  },
  {
   "cell_type": "code",
   "execution_count": 20,
   "metadata": {},
   "outputs": [],
   "source": [
    "entity_mapping = {entity: i for i, entity in enumerate(entities)}\n",
    "entity_type_mapping = {e_type: i for i, e_type in enumerate(entity_types)}"
   ]
  },
  {
   "cell_type": "code",
   "execution_count": 21,
   "metadata": {},
   "outputs": [
    {
     "data": {
      "text/plain": [
       "(551, (25, 3, 1), 551, (25, 10, 1))"
      ]
     },
     "execution_count": 21,
     "metadata": {},
     "output_type": "execute_result"
    }
   ],
   "source": [
    "y1_train, y2_train = prepare_labels(entity_mapping, entity_type_mapping, train_labels)\n",
    "len(y1_train), y1_train[0].shape, len(y2_train), y2_train[0].shape"
   ]
  },
  {
   "cell_type": "markdown",
   "metadata": {},
   "source": [
    "### Validation\n",
    "Perform a similar encoding for validation data, based on the states and tokens of the training data."
   ]
  },
  {
   "cell_type": "code",
   "execution_count": 22,
   "metadata": {},
   "outputs": [],
   "source": [
    "X_val = prepare_inputs(token_mapping, val_sentences)\n",
    "y1_val, y2_val = prepare_labels(entity_mapping, entity_type_mapping, val_labels)"
   ]
  },
  {
   "cell_type": "markdown",
   "metadata": {},
   "source": [
    "## RNN\n",
    "$$\n",
    "    a^{(t)} = b + Wh^{(t-1)} + Ux^{(t)} \\\\\n",
    "    h^{(t)} = \\text{tanh}(a^{(t)}) \\\\\n",
    "    \\\\\n",
    "    o^{(t)} = c + Vh^{(t)} \\\\\n",
    "    \\hat{y}^{(t)} = \\text{softmax}(o^{(t)})\n",
    "$$"
   ]
  },
  {
   "cell_type": "code",
   "execution_count": 23,
   "metadata": {},
   "outputs": [],
   "source": [
    "def softmax(x):\n",
    "    e_x = np.exp(x - np.max(x))\n",
    "    return e_x / e_x.sum(axis=0)"
   ]
  },
  {
   "cell_type": "markdown",
   "metadata": {},
   "source": [
    "### Initialization"
   ]
  },
  {
   "cell_type": "code",
   "execution_count": 24,
   "metadata": {
    "scrolled": true
   },
   "outputs": [],
   "source": [
    "np.random.seed(0)\n",
    "\n",
    "rnn_size = 128\n",
    "# input\n",
    "U = np.random.normal(0, 0.1, size=[rnn_size, len(token_mapping)])\n",
    "# hidden layer\n",
    "W = np.random.normal(0, 0.1, size=[rnn_size, rnn_size])\n",
    "b = np.ones(shape=[rnn_size, 1]) * 0.1\n",
    "# output - entity\n",
    "V1 = np.random.normal(0, 0.1, size=[len(entity_mapping), rnn_size])\n",
    "c1 = np.ones(shape=[len(entity_mapping), 1]) * 0.1\n",
    "# output - entity type\n",
    "V2 = np.random.normal(0, 0.1, size=[len(entity_type_mapping), rnn_size])\n",
    "c2 = np.ones(shape=[len(entity_type_mapping), 1]) * 0.1"
   ]
  },
  {
   "cell_type": "code",
   "execution_count": 25,
   "metadata": {},
   "outputs": [],
   "source": [
    "model = (U, W, b, V1, c1, V2, c2)  # time for some unpacking magic"
   ]
  },
  {
   "cell_type": "markdown",
   "metadata": {},
   "source": [
    "### Forward"
   ]
  },
  {
   "cell_type": "code",
   "execution_count": 26,
   "metadata": {},
   "outputs": [
    {
     "data": {
      "text/plain": [
       "((25, 3, 1), (25, 10, 1))"
      ]
     },
     "execution_count": 26,
     "metadata": {},
     "output_type": "execute_result"
    }
   ],
   "source": [
    "def forward(U, W, b, V1, c1, V2, c2, x):\n",
    "    \"\"\"\n",
    "    Compute the outputs at each time step.\n",
    "    Note that in the forward function, we only store y_ at each time step.\n",
    "    \"\"\"\n",
    "    y1_, y2_ = [], []\n",
    "    # initialize h_1\n",
    "    h = np.tanh(b + U.dot(x[0]))\n",
    "    o1 = c1 + V1.dot(h)\n",
    "    o2 = c2 + V2.dot(h)\n",
    "    y1_.append(softmax(o1))\n",
    "    y2_.append(softmax(o2))\n",
    "    # iterate for [h_t, .., h_n]\n",
    "    for i in range(1, len(x)):\n",
    "        h = np.tanh(b + W.dot(h) + U.dot(x[i]))\n",
    "        o1 = c1 + V1.dot(h)\n",
    "        o2 = c2 + V2.dot(h)\n",
    "        y1_.append(softmax(o1))\n",
    "        y2_.append(softmax(o2))\n",
    "    return np.array(y1_), np.array(y2_)\n",
    "\n",
    "y1_, y2_ = forward(*model, x=X_train[0])\n",
    "y1_.shape, y2_.shape"
   ]
  },
  {
   "cell_type": "code",
   "execution_count": 27,
   "metadata": {},
   "outputs": [
    {
     "data": {
      "text/plain": [
       "array([1, 1, 2, 1, 1, 2, 2, 0, 2, 2, 2, 0, 2, 1, 2, 0, 2, 1, 2, 2, 2, 1,\n",
       "       0, 2, 2])"
      ]
     },
     "execution_count": 27,
     "metadata": {},
     "output_type": "execute_result"
    }
   ],
   "source": [
    "np.argmax(y1_, axis=1).flatten()"
   ]
  },
  {
   "cell_type": "code",
   "execution_count": 28,
   "metadata": {},
   "outputs": [
    {
     "data": {
      "text/plain": [
       "array([5, 3, 3, 6, 8, 5, 4, 2, 9, 2, 3, 8, 8, 8, 3, 8, 5, 3, 5, 8, 8, 6,\n",
       "       3, 8, 8])"
      ]
     },
     "execution_count": 28,
     "metadata": {},
     "output_type": "execute_result"
    }
   ],
   "source": [
    "np.argmax(y2_, axis=1).flatten()"
   ]
  },
  {
   "cell_type": "markdown",
   "metadata": {},
   "source": [
    "### Evaluation"
   ]
  },
  {
   "cell_type": "code",
   "execution_count": 29,
   "metadata": {},
   "outputs": [],
   "source": [
    "def predict(entity_mapping, entity_type_mapping, y1, y2):\n",
    "    idx1 = np.argmax(y1, axis=1)\n",
    "    idx2 = np.argmax(y2, axis=1)\n",
    "    \n",
    "    e_mapping = list(entity_mapping)\n",
    "    e = [e_mapping[int(i)] for i in idx1]\n",
    "    \n",
    "    e_t_mapping = list(entity_type_mapping)\n",
    "    e_t = [e_t_mapping[int(i)] for i in idx2]\n",
    "    \n",
    "    output = []\n",
    "    for entity, entity_type in zip(e, e_t):\n",
    "        if entity == 'O':\n",
    "            output.append('O')\n",
    "        else:\n",
    "            output.append(f'{entity}-{entity_type}')\n",
    "    return output"
   ]
  },
  {
   "cell_type": "code",
   "execution_count": 30,
   "metadata": {},
   "outputs": [],
   "source": [
    "def write_predictions(*args, entity_mapping, entity_type_mapping, X):\n",
    "    # get and store predictions\n",
    "    result = []\n",
    "    for i in trange(len(X_val), leave=False):\n",
    "        y1, y2 = forward(*args, x=X_val[i])\n",
    "        y_pred = predict(entity_mapping, entity_type_mapping, y1, y2)\n",
    "        result.append(y_pred)\n",
    "    # write predictions to file\n",
    "    with open(out_filename, 'w') as f:\n",
    "        for i in range(len(val_sentences)):\n",
    "            for j in range(len(val_sentences[i])):\n",
    "                word = val_sentences[i][j]\n",
    "                pred = result[i][j]\n",
    "                f.write(word + ' ' + pred + '\\n')\n",
    "            f.write('\\n')"
   ]
  },
  {
   "cell_type": "code",
   "execution_count": 31,
   "metadata": {},
   "outputs": [
    {
     "data": {
      "application/vnd.jupyter.widget-view+json": {
       "model_id": "",
       "version_major": 2,
       "version_minor": 0
      },
      "text/plain": [
       "HBox(children=(IntProgress(value=0, max=78), HTML(value='')))"
      ]
     },
     "metadata": {},
     "output_type": "display_data"
    },
    {
     "name": "stdout",
     "output_type": "stream",
     "text": [
      "\r"
     ]
    },
    {
     "data": {
      "text/plain": [
       "((0.36237623762376237, 0.456359102244389, 0.4039735099337748),\n",
       " (0.07623762376237624, 0.09600997506234414, 0.08498896247240618))"
      ]
     },
     "execution_count": 31,
     "metadata": {},
     "output_type": "execute_result"
    }
   ],
   "source": [
    "def compare(observed, predicted):\n",
    "    correct_sentiment = 0\n",
    "    correct_entity = 0\n",
    "\n",
    "    total_observed = 0.0\n",
    "    total_predicted = 0.0\n",
    "\n",
    "    #For each Instance Index example (example = 0,1,2,3.....)\n",
    "    for example in observed:\n",
    "        observed_instance = observed[example]\n",
    "        predicted_instance = predicted[example]\n",
    "\n",
    "        #Count number of entities in gold data\n",
    "        total_observed += len(observed_instance)\n",
    "        #Count number of entities in prediction data\n",
    "        total_predicted += len(predicted_instance)\n",
    "\n",
    "        #For each entity in prediction\n",
    "        for span in predicted_instance:\n",
    "            span_begin = span[1]\n",
    "            span_length = len(span) - 1\n",
    "            span_ne = (span_begin, span_length)\n",
    "            span_sent = span[0]\n",
    "\n",
    "            #For each entity in gold data\n",
    "            for observed_span in observed_instance:\n",
    "                begin = observed_span[1]\n",
    "                length = len(observed_span) - 1\n",
    "                ne = (begin, length)\n",
    "                sent = observed_span[0]\n",
    "\n",
    "                #Entity matched\n",
    "                if span_ne == ne:\n",
    "                    correct_entity += 1\n",
    "                    #Entity & Sentiment both are matched\n",
    "                    if span_sent == sent:\n",
    "                        correct_sentiment += 1\n",
    "\n",
    "    prec = correct_entity/total_predicted\n",
    "    rec = correct_entity/total_observed\n",
    "    if abs(prec + rec) < 1e-6:\n",
    "        f = 0\n",
    "    else:\n",
    "        f = 2 * prec * rec / (prec + rec)\n",
    "    entity_scores = (prec, rec, f)\n",
    "\n",
    "    prec = correct_sentiment/total_predicted\n",
    "    rec = correct_sentiment/total_observed\n",
    "    if abs(prec + rec) < 1e-6:\n",
    "        f = 0\n",
    "    else:\n",
    "        f = 2 * prec * rec / (prec + rec)\n",
    "    type_scores = (prec, rec, f)\n",
    "    return entity_scores, type_scores\n",
    "\n",
    "def get_scores(*args, entity_mapping, entity_type_mapping, X):\n",
    "    write_predictions(*args, entity_mapping=entity_mapping, entity_type_mapping=entity_type_mapping, X=X_val)\n",
    "    observed = get_observed(open(val_filename, 'r'))\n",
    "    predicted = get_predicted(open(out_filename, 'r'))\n",
    "    return compare(observed, predicted)\n",
    "\n",
    "get_scores(*model, entity_mapping=entity_mapping, entity_type_mapping=entity_type_mapping, X=X_val)"
   ]
  },
  {
   "cell_type": "markdown",
   "metadata": {},
   "source": [
    "### Backward\n",
    "`<insert derived backpropagation equations here>`"
   ]
  },
  {
   "cell_type": "markdown",
   "metadata": {},
   "source": [
    "#### Weighting\n",
    "We create two sets of weights for mis-classifying each class:\n",
    "* `count_weights`: based on frequency of occurrences of each class\n",
    "* `label_weights`: based on importance of correctly predicting certain classes"
   ]
  },
  {
   "cell_type": "code",
   "execution_count": 32,
   "metadata": {},
   "outputs": [
    {
     "data": {
      "text/plain": [
       "array([[1.        ],\n",
       "       [0.37965691],\n",
       "       [0.80462725]])"
      ]
     },
     "execution_count": 32,
     "metadata": {},
     "output_type": "execute_result"
    }
   ],
   "source": [
    "def make_weights(counts, min_weight=0):\n",
    "    weights = np.asarray(counts)\n",
    "    weights = 1 / weights\n",
    "    weights /= np.max(weights)\n",
    "    weights = np.maximum(min_weight, weights)\n",
    "    weights = weights.reshape(-1, 1)\n",
    "    return weights\n",
    "\n",
    "w1 = make_weights(list(entities.values()))\n",
    "w1"
   ]
  },
  {
   "cell_type": "code",
   "execution_count": 33,
   "metadata": {},
   "outputs": [
    {
     "data": {
      "text/plain": [
       "array([[1.82565039e-03],\n",
       "       [1.15942029e-02],\n",
       "       [5.54016620e-03],\n",
       "       [8.56164384e-04],\n",
       "       [2.06825233e-03],\n",
       "       [4.70588235e-02],\n",
       "       [1.81818182e-02],\n",
       "       [5.33333333e-02],\n",
       "       [9.15331808e-03],\n",
       "       [1.00000000e+00]])"
      ]
     },
     "execution_count": 33,
     "metadata": {},
     "output_type": "execute_result"
    }
   ],
   "source": [
    "w2 = make_weights(list(entity_types.values()))\n",
    "w2"
   ]
  },
  {
   "cell_type": "markdown",
   "metadata": {},
   "source": [
    "#### Gradients"
   ]
  },
  {
   "cell_type": "code",
   "execution_count": 34,
   "metadata": {
    "scrolled": true
   },
   "outputs": [],
   "source": [
    "def jacobian(h):\n",
    "    \"\"\"\n",
    "    Returns the Jacobian of tanh(h).\n",
    "    \"\"\"\n",
    "    diag_elems = (1 - h**2).flatten()\n",
    "    return np.diag(diag_elems)\n",
    "    \n",
    "\n",
    "def backward(U, W, b, V1, c1, V2, c2, x, y1, y2):\n",
    "    assert len(x) == len(y1) == len(y2)\n",
    "    n = len(x)\n",
    "    if n <= 1:\n",
    "        return np.nan, np.nan, np.nan, (0, 0, 0, 0, 0)\n",
    "    \n",
    "    # feedforward\n",
    "    h_1 = np.tanh(b + U.dot(x[0]))\n",
    "    h = [h_1]\n",
    "    for i in range(1, n):\n",
    "        h_t = np.tanh(b + W.dot(h[-1]) + U.dot(x[i]))\n",
    "        h.append(h_t)\n",
    "\n",
    "    o1 = [c1 + V1.dot(h_t) for h_t in h]\n",
    "    o2 = [c2 + V2.dot(h_t) for h_t in h]\n",
    "    \n",
    "    # backprop\n",
    "    do1 = [softmax(o1[i]) - y1[i]*w1 for i in range(n)]\n",
    "    do2 = [softmax(o2[i]) - y2[i]*w2 for i in range(n)]\n",
    "    \n",
    "    dh_n = 0.5 * (V1.T.dot(do1[-1]) + V2.T.dot(do2[-1]))  # h_n has no (t+1) gradient\n",
    "    dh = [dh_n]\n",
    "    for i in range(n-2, -1, -1):\n",
    "        dh_t = W.T.dot(jacobian(h[i+1])).dot(dh[0]) + 0.5 * (V1.T.dot(do1[i]) + V2.T.dot(do2[i]))\n",
    "        dh.insert(0, dh_t)\n",
    "        \n",
    "    dc1 = np.sum(do1, axis=0)\n",
    "    dV1 = np.sum([do1[i].dot(dh[i].T) for i in range(n)], axis=0)  # TODO: dubious\n",
    "    \n",
    "    dc2 = np.sum(do2, axis=0)\n",
    "    dV2 = np.sum([do2[i].dot(dh[i].T) for i in range(n)], axis=0)  # TODO: dubious\n",
    "    \n",
    "    delta_h = [jacobian(h[i]).dot(dh[i]) for i in range(n)]  # propagated error term of h\n",
    "    db = np.sum(delta_h, axis=0)\n",
    "    dW = np.sum([delta_h[i].dot(h[i-1].T) for i in range(1, n)], axis=0)  # t=1 has no prev\n",
    "    dU = np.sum([delta_h[i].dot(x[i].T) for i in range(n)], axis=0)\n",
    "    \n",
    "    assert dc1.shape == c1.shape\n",
    "    assert dV1.shape == V1.shape\n",
    "    assert dc2.shape == c2.shape\n",
    "    assert dV2.shape == V2.shape\n",
    "    assert db.shape == b.shape\n",
    "    assert dW.shape == W.shape\n",
    "    assert dU.shape == U.shape\n",
    "\n",
    "    grad = (dU, dW, db, dV1, dc1, dV2, dc2)\n",
    "    \n",
    "    # compute loss\n",
    "    y1_ = [softmax(o1_t) for o1_t in o1]\n",
    "    xent1 = [-np.log(y1_[i] + 1e-8) * y1[i] for i in range(n)]\n",
    "    loss1 = np.mean(np.sum(xent1, axis=1))  # sum softmax CE for each word, then take mean across all words\n",
    "    \n",
    "    y2_ = [softmax(o2_t) for o2_t in o2]\n",
    "    xent2 = [-np.log(y2_[i] + 1e-8) * y2[i] for i in range(n)]\n",
    "    loss2 = np.mean(np.sum(xent2, axis=1))  # sum softmax CE for each word, then take mean across all words\n",
    "    return loss1, loss2, loss1 + loss2, grad\n",
    "\n",
    "# for i in trange(len(X_train)):\n",
    "#     backward(*model, x=X_train[i], y1=y1_train[i], y2=y2_train[i])"
   ]
  },
  {
   "cell_type": "markdown",
   "metadata": {},
   "source": [
    "## Training"
   ]
  },
  {
   "cell_type": "code",
   "execution_count": 35,
   "metadata": {},
   "outputs": [],
   "source": [
    "%%script true\n",
    "# overfitting check\n",
    "losses_1, losses_2, total_losses = [], [], []\n",
    "n_iters = 1000\n",
    "for i in trange(n_iters):\n",
    "    x, y1, y2 = X_train[0], y1_train[0], y2_train[0]\n",
    "    loss1, loss2, total_loss, grad = backward(*model, x=x, y1=y1, y2=y2)\n",
    "    \n",
    "    losses_1.append(loss1)\n",
    "    losses_2.append(loss2)\n",
    "    total_losses.append(total_loss)\n",
    "    for error, weight in zip(grad, model):\n",
    "        weight -= lr * error\n",
    "\n",
    "plt.plot(np.arange(n_iters), losses_1, label='1')\n",
    "plt.plot(np.arange(n_iters), losses_2, label='2')\n",
    "plt.plot(np.arange(n_iters), total_losses, label='sum')\n",
    "plt.legend()\n",
    "\n",
    "y1, y2 = forward(*model, x=X_train[0])\n",
    "y_pred = predict(entity_mapping, entity_type_mapping, y1, y2)\n",
    "y_true = train_labels[0]\n",
    "\n",
    "for a, b in zip(y_pred, y_true):\n",
    "    print(a, b)\n",
    "\n",
    "np.mean(np.array(y_pred) == np.array(y_true))"
   ]
  },
  {
   "cell_type": "code",
   "execution_count": 36,
   "metadata": {},
   "outputs": [
    {
     "data": {
      "application/vnd.jupyter.widget-view+json": {
       "model_id": "b71ec748ed1a463abaff6c7547f6f884",
       "version_major": 2,
       "version_minor": 0
      },
      "text/plain": [
       "HBox(children=(IntProgress(value=0, max=20), HTML(value='')))"
      ]
     },
     "metadata": {},
     "output_type": "display_data"
    },
    {
     "data": {
      "application/vnd.jupyter.widget-view+json": {
       "model_id": "",
       "version_major": 2,
       "version_minor": 0
      },
      "text/plain": [
       "HBox(children=(IntProgress(value=0, max=34), HTML(value='')))"
      ]
     },
     "metadata": {},
     "output_type": "display_data"
    },
    {
     "data": {
      "application/vnd.jupyter.widget-view+json": {
       "model_id": "",
       "version_major": 2,
       "version_minor": 0
      },
      "text/plain": [
       "HBox(children=(IntProgress(value=0, max=78), HTML(value='')))"
      ]
     },
     "metadata": {},
     "output_type": "display_data"
    },
    {
     "data": {
      "application/vnd.jupyter.widget-view+json": {
       "model_id": "",
       "version_major": 2,
       "version_minor": 0
      },
      "text/plain": [
       "HBox(children=(IntProgress(value=0, max=34), HTML(value='')))"
      ]
     },
     "metadata": {},
     "output_type": "display_data"
    },
    {
     "data": {
      "application/vnd.jupyter.widget-view+json": {
       "model_id": "",
       "version_major": 2,
       "version_minor": 0
      },
      "text/plain": [
       "HBox(children=(IntProgress(value=0, max=78), HTML(value='')))"
      ]
     },
     "metadata": {},
     "output_type": "display_data"
    },
    {
     "data": {
      "application/vnd.jupyter.widget-view+json": {
       "model_id": "",
       "version_major": 2,
       "version_minor": 0
      },
      "text/plain": [
       "HBox(children=(IntProgress(value=0, max=34), HTML(value='')))"
      ]
     },
     "metadata": {},
     "output_type": "display_data"
    },
    {
     "data": {
      "application/vnd.jupyter.widget-view+json": {
       "model_id": "",
       "version_major": 2,
       "version_minor": 0
      },
      "text/plain": [
       "HBox(children=(IntProgress(value=0, max=78), HTML(value='')))"
      ]
     },
     "metadata": {},
     "output_type": "display_data"
    },
    {
     "data": {
      "application/vnd.jupyter.widget-view+json": {
       "model_id": "",
       "version_major": 2,
       "version_minor": 0
      },
      "text/plain": [
       "HBox(children=(IntProgress(value=0, max=34), HTML(value='')))"
      ]
     },
     "metadata": {},
     "output_type": "display_data"
    },
    {
     "data": {
      "application/vnd.jupyter.widget-view+json": {
       "model_id": "",
       "version_major": 2,
       "version_minor": 0
      },
      "text/plain": [
       "HBox(children=(IntProgress(value=0, max=78), HTML(value='')))"
      ]
     },
     "metadata": {},
     "output_type": "display_data"
    },
    {
     "data": {
      "application/vnd.jupyter.widget-view+json": {
       "model_id": "",
       "version_major": 2,
       "version_minor": 0
      },
      "text/plain": [
       "HBox(children=(IntProgress(value=0, max=34), HTML(value='')))"
      ]
     },
     "metadata": {},
     "output_type": "display_data"
    },
    {
     "data": {
      "application/vnd.jupyter.widget-view+json": {
       "model_id": "",
       "version_major": 2,
       "version_minor": 0
      },
      "text/plain": [
       "HBox(children=(IntProgress(value=0, max=78), HTML(value='')))"
      ]
     },
     "metadata": {},
     "output_type": "display_data"
    },
    {
     "data": {
      "application/vnd.jupyter.widget-view+json": {
       "model_id": "",
       "version_major": 2,
       "version_minor": 0
      },
      "text/plain": [
       "HBox(children=(IntProgress(value=0, max=34), HTML(value='')))"
      ]
     },
     "metadata": {},
     "output_type": "display_data"
    },
    {
     "data": {
      "application/vnd.jupyter.widget-view+json": {
       "model_id": "",
       "version_major": 2,
       "version_minor": 0
      },
      "text/plain": [
       "HBox(children=(IntProgress(value=0, max=78), HTML(value='')))"
      ]
     },
     "metadata": {},
     "output_type": "display_data"
    },
    {
     "data": {
      "application/vnd.jupyter.widget-view+json": {
       "model_id": "",
       "version_major": 2,
       "version_minor": 0
      },
      "text/plain": [
       "HBox(children=(IntProgress(value=0, max=34), HTML(value='')))"
      ]
     },
     "metadata": {},
     "output_type": "display_data"
    },
    {
     "data": {
      "application/vnd.jupyter.widget-view+json": {
       "model_id": "",
       "version_major": 2,
       "version_minor": 0
      },
      "text/plain": [
       "HBox(children=(IntProgress(value=0, max=78), HTML(value='')))"
      ]
     },
     "metadata": {},
     "output_type": "display_data"
    },
    {
     "data": {
      "application/vnd.jupyter.widget-view+json": {
       "model_id": "",
       "version_major": 2,
       "version_minor": 0
      },
      "text/plain": [
       "HBox(children=(IntProgress(value=0, max=34), HTML(value='')))"
      ]
     },
     "metadata": {},
     "output_type": "display_data"
    },
    {
     "data": {
      "application/vnd.jupyter.widget-view+json": {
       "model_id": "",
       "version_major": 2,
       "version_minor": 0
      },
      "text/plain": [
       "HBox(children=(IntProgress(value=0, max=78), HTML(value='')))"
      ]
     },
     "metadata": {},
     "output_type": "display_data"
    },
    {
     "data": {
      "application/vnd.jupyter.widget-view+json": {
       "model_id": "",
       "version_major": 2,
       "version_minor": 0
      },
      "text/plain": [
       "HBox(children=(IntProgress(value=0, max=34), HTML(value='')))"
      ]
     },
     "metadata": {},
     "output_type": "display_data"
    },
    {
     "data": {
      "application/vnd.jupyter.widget-view+json": {
       "model_id": "",
       "version_major": 2,
       "version_minor": 0
      },
      "text/plain": [
       "HBox(children=(IntProgress(value=0, max=78), HTML(value='')))"
      ]
     },
     "metadata": {},
     "output_type": "display_data"
    },
    {
     "data": {
      "application/vnd.jupyter.widget-view+json": {
       "model_id": "",
       "version_major": 2,
       "version_minor": 0
      },
      "text/plain": [
       "HBox(children=(IntProgress(value=0, max=34), HTML(value='')))"
      ]
     },
     "metadata": {},
     "output_type": "display_data"
    },
    {
     "data": {
      "application/vnd.jupyter.widget-view+json": {
       "model_id": "",
       "version_major": 2,
       "version_minor": 0
      },
      "text/plain": [
       "HBox(children=(IntProgress(value=0, max=78), HTML(value='')))"
      ]
     },
     "metadata": {},
     "output_type": "display_data"
    },
    {
     "data": {
      "application/vnd.jupyter.widget-view+json": {
       "model_id": "",
       "version_major": 2,
       "version_minor": 0
      },
      "text/plain": [
       "HBox(children=(IntProgress(value=0, max=34), HTML(value='')))"
      ]
     },
     "metadata": {},
     "output_type": "display_data"
    },
    {
     "data": {
      "application/vnd.jupyter.widget-view+json": {
       "model_id": "",
       "version_major": 2,
       "version_minor": 0
      },
      "text/plain": [
       "HBox(children=(IntProgress(value=0, max=78), HTML(value='')))"
      ]
     },
     "metadata": {},
     "output_type": "display_data"
    },
    {
     "data": {
      "application/vnd.jupyter.widget-view+json": {
       "model_id": "",
       "version_major": 2,
       "version_minor": 0
      },
      "text/plain": [
       "HBox(children=(IntProgress(value=0, max=34), HTML(value='')))"
      ]
     },
     "metadata": {},
     "output_type": "display_data"
    },
    {
     "data": {
      "application/vnd.jupyter.widget-view+json": {
       "model_id": "",
       "version_major": 2,
       "version_minor": 0
      },
      "text/plain": [
       "HBox(children=(IntProgress(value=0, max=78), HTML(value='')))"
      ]
     },
     "metadata": {},
     "output_type": "display_data"
    },
    {
     "data": {
      "application/vnd.jupyter.widget-view+json": {
       "model_id": "",
       "version_major": 2,
       "version_minor": 0
      },
      "text/plain": [
       "HBox(children=(IntProgress(value=0, max=34), HTML(value='')))"
      ]
     },
     "metadata": {},
     "output_type": "display_data"
    },
    {
     "data": {
      "application/vnd.jupyter.widget-view+json": {
       "model_id": "",
       "version_major": 2,
       "version_minor": 0
      },
      "text/plain": [
       "HBox(children=(IntProgress(value=0, max=78), HTML(value='')))"
      ]
     },
     "metadata": {},
     "output_type": "display_data"
    },
    {
     "data": {
      "application/vnd.jupyter.widget-view+json": {
       "model_id": "",
       "version_major": 2,
       "version_minor": 0
      },
      "text/plain": [
       "HBox(children=(IntProgress(value=0, max=34), HTML(value='')))"
      ]
     },
     "metadata": {},
     "output_type": "display_data"
    },
    {
     "data": {
      "application/vnd.jupyter.widget-view+json": {
       "model_id": "",
       "version_major": 2,
       "version_minor": 0
      },
      "text/plain": [
       "HBox(children=(IntProgress(value=0, max=78), HTML(value='')))"
      ]
     },
     "metadata": {},
     "output_type": "display_data"
    },
    {
     "data": {
      "application/vnd.jupyter.widget-view+json": {
       "model_id": "",
       "version_major": 2,
       "version_minor": 0
      },
      "text/plain": [
       "HBox(children=(IntProgress(value=0, max=34), HTML(value='')))"
      ]
     },
     "metadata": {},
     "output_type": "display_data"
    },
    {
     "data": {
      "application/vnd.jupyter.widget-view+json": {
       "model_id": "",
       "version_major": 2,
       "version_minor": 0
      },
      "text/plain": [
       "HBox(children=(IntProgress(value=0, max=78), HTML(value='')))"
      ]
     },
     "metadata": {},
     "output_type": "display_data"
    },
    {
     "data": {
      "application/vnd.jupyter.widget-view+json": {
       "model_id": "",
       "version_major": 2,
       "version_minor": 0
      },
      "text/plain": [
       "HBox(children=(IntProgress(value=0, max=34), HTML(value='')))"
      ]
     },
     "metadata": {},
     "output_type": "display_data"
    },
    {
     "data": {
      "application/vnd.jupyter.widget-view+json": {
       "model_id": "",
       "version_major": 2,
       "version_minor": 0
      },
      "text/plain": [
       "HBox(children=(IntProgress(value=0, max=78), HTML(value='')))"
      ]
     },
     "metadata": {},
     "output_type": "display_data"
    },
    {
     "data": {
      "application/vnd.jupyter.widget-view+json": {
       "model_id": "",
       "version_major": 2,
       "version_minor": 0
      },
      "text/plain": [
       "HBox(children=(IntProgress(value=0, max=34), HTML(value='')))"
      ]
     },
     "metadata": {},
     "output_type": "display_data"
    },
    {
     "data": {
      "application/vnd.jupyter.widget-view+json": {
       "model_id": "",
       "version_major": 2,
       "version_minor": 0
      },
      "text/plain": [
       "HBox(children=(IntProgress(value=0, max=78), HTML(value='')))"
      ]
     },
     "metadata": {},
     "output_type": "display_data"
    },
    {
     "data": {
      "application/vnd.jupyter.widget-view+json": {
       "model_id": "",
       "version_major": 2,
       "version_minor": 0
      },
      "text/plain": [
       "HBox(children=(IntProgress(value=0, max=34), HTML(value='')))"
      ]
     },
     "metadata": {},
     "output_type": "display_data"
    },
    {
     "data": {
      "application/vnd.jupyter.widget-view+json": {
       "model_id": "",
       "version_major": 2,
       "version_minor": 0
      },
      "text/plain": [
       "HBox(children=(IntProgress(value=0, max=78), HTML(value='')))"
      ]
     },
     "metadata": {},
     "output_type": "display_data"
    },
    {
     "data": {
      "application/vnd.jupyter.widget-view+json": {
       "model_id": "",
       "version_major": 2,
       "version_minor": 0
      },
      "text/plain": [
       "HBox(children=(IntProgress(value=0, max=34), HTML(value='')))"
      ]
     },
     "metadata": {},
     "output_type": "display_data"
    },
    {
     "data": {
      "application/vnd.jupyter.widget-view+json": {
       "model_id": "",
       "version_major": 2,
       "version_minor": 0
      },
      "text/plain": [
       "HBox(children=(IntProgress(value=0, max=78), HTML(value='')))"
      ]
     },
     "metadata": {},
     "output_type": "display_data"
    },
    {
     "data": {
      "application/vnd.jupyter.widget-view+json": {
       "model_id": "",
       "version_major": 2,
       "version_minor": 0
      },
      "text/plain": [
       "HBox(children=(IntProgress(value=0, max=34), HTML(value='')))"
      ]
     },
     "metadata": {},
     "output_type": "display_data"
    },
    {
     "data": {
      "application/vnd.jupyter.widget-view+json": {
       "model_id": "",
       "version_major": 2,
       "version_minor": 0
      },
      "text/plain": [
       "HBox(children=(IntProgress(value=0, max=78), HTML(value='')))"
      ]
     },
     "metadata": {},
     "output_type": "display_data"
    },
    {
     "name": "stdout",
     "output_type": "stream",
     "text": [
      "\n"
     ]
    }
   ],
   "source": [
    "checkpoints = []  # save model weights after every epoch\n",
    "losses = []\n",
    "scores = []\n",
    "\n",
    "n_iters = len(X_train) // batch_size\n",
    "for i in trange(n_epochs):\n",
    "    for j in trange(n_iters, leave=False):\n",
    "        batch_indices = np.random.choice(np.arange(len(X_train)), size=batch_size)\n",
    "        batch_losses = []\n",
    "        batch_grads = tuple(np.zeros_like(weight) for weight in model)\n",
    "        \n",
    "        for k in batch_indices:\n",
    "            x, y1, y2 = X_train[k], y1_train[k], y2_train[k]\n",
    "            _, _, loss, grad = backward(*model, x=x, y1=y1, y2=y2)\n",
    "            \n",
    "            batch_losses.append(loss)\n",
    "            for error, batch_error in zip(grad, batch_grads):\n",
    "                batch_error += error  # accumulate all grads in batch\n",
    "        # average loss and gradients\n",
    "        losses.append(np.mean(batch_losses))\n",
    "        for errors, weight in zip(batch_grads, model):\n",
    "            weight -= lr * errors / batch_size\n",
    "    \n",
    "    scores.append(get_scores(*model, entity_mapping=entity_mapping, entity_type_mapping=entity_type_mapping, X=X_val))\n",
    "    checkpoints.append(tuple(weights.copy() for weights in model))"
   ]
  },
  {
   "cell_type": "code",
   "execution_count": 37,
   "metadata": {
    "scrolled": false
   },
   "outputs": [
    {
     "data": {
      "image/png": "[encoded data removed]",
      "text/plain": [
       "<Figure size 1440x720 with 1 Axes>"
      ]
     },
     "metadata": {
      "needs_background": "light"
     },
     "output_type": "display_data"
    }
   ],
   "source": [
    "plt.figure(figsize=(20, 10))\n",
    "plt.plot(np.arange(len(losses)), losses, linewidth=0.5);  # overall training loss"
   ]
  },
  {
   "cell_type": "code",
   "execution_count": 38,
   "metadata": {},
   "outputs": [
    {
     "data": {
      "image/png": "[encoded data removed]",
      "text/plain": [
       "<Figure size 1440x720 with 1 Axes>"
      ]
     },
     "metadata": {
      "needs_background": "light"
     },
     "output_type": "display_data"
    }
   ],
   "source": [
    "f_entity = [tup[0][-1] for tup in scores]\n",
    "f_type = [tup[1][-1] for tup in scores]\n",
    "\n",
    "x = [np.argmax(f_entity), np.argmax(f_type)]\n",
    "y = [np.max(f_entity), np.max(f_type)]\n",
    "\n",
    "\n",
    "plt.figure(figsize=(20, 10))\n",
    "plt.plot(np.arange(n_epochs), f_entity, label='Entity')\n",
    "plt.plot(np.arange(n_epochs), f_type, label='Entity type')\n",
    "\n",
    "plt.scatter(x, y)\n",
    "plt.annotate(f'Entity: ({x[0]}, {np.round(y[0], 3)})', (x[0], y[0]))\n",
    "plt.annotate(f'Entity type: ({x[1]}, {np.round(y[1], 3)})', (x[1], y[1]))\n",
    "\n",
    "plt.legend();"
   ]
  },
  {
   "cell_type": "markdown",
   "metadata": {},
   "source": [
    "## Prediction"
   ]
  },
  {
   "cell_type": "code",
   "execution_count": 39,
   "metadata": {},
   "outputs": [
    {
     "name": "stdout",
     "output_type": "stream",
     "text": [
      "B-INTJ\tB-NP\n",
      "B-NP\tI-NP\n",
      "B-ADJP\tI-NP\n",
      "I-NP\tO\n",
      "I-VP\tB-NP\n",
      "I-VP\tB-VP\n",
      "I-CONJP\tI-VP\n",
      "I-VP\tB-ADVP\n",
      "I-VP\tO\n",
      "I-VP\tB-VP\n",
      "I-CONJP\tB-PP\n",
      "I-INTJ\tB-NP\n",
      "I-VP\tB-PP\n",
      "I-CONJP\tB-NP\n",
      "I-VP\tO\n"
     ]
    }
   ],
   "source": [
    "y1, y2 = forward(*model, x=X_val[0])\n",
    "y_pred = predict(entity_mapping, entity_type_mapping, y1, y2)\n",
    "y_true = val_labels[0]\n",
    "for _pred, _true in zip(y_pred, y_true):\n",
    "    print(_pred, _true, sep='\\t')"
   ]
  },
  {
   "cell_type": "markdown",
   "metadata": {},
   "source": [
    "Check for class imbalance."
   ]
  },
  {
   "cell_type": "code",
   "execution_count": 40,
   "metadata": {
    "scrolled": true
   },
   "outputs": [
    {
     "data": {
      "application/vnd.jupyter.widget-view+json": {
       "model_id": "8f76f9e3c3b64886bb62ebb4bdd2d54a",
       "version_major": 2,
       "version_minor": 0
      },
      "text/plain": [
       "HBox(children=(IntProgress(value=0, max=78), HTML(value='')))"
      ]
     },
     "metadata": {},
     "output_type": "display_data"
    },
    {
     "name": "stdout",
     "output_type": "stream",
     "text": [
      "\n"
     ]
    },
    {
     "data": {
      "image/png": "[encoded data removed]",
      "text/plain": [
       "<Figure size 1440x360 with 2 Axes>"
      ]
     },
     "metadata": {
      "needs_background": "light"
     },
     "output_type": "display_data"
    }
   ],
   "source": [
    "all_y1, all_y2 = [], []\n",
    "for i in trange(len(X_val)):\n",
    "    y1, y2 = forward(*model, x=X_val[i])\n",
    "    all_y1.extend(np.argmax(y1, axis=1).flatten())\n",
    "    all_y2.extend(np.argmax(y2, axis=1).flatten())\n",
    "\n",
    "\n",
    "plt.figure(figsize=(20, 5))\n",
    "plt.subplot(1, 2, 1)\n",
    "plt.hist(all_y1)\n",
    "plt.subplot(1, 2, 2)\n",
    "plt.hist(all_y2);"
   ]
  }
 ],
 "metadata": {
  "kernelspec": {
   "display_name": "Python 3",
   "language": "python",
   "name": "python3"
  },
  "language_info": {
   "codemirror_mode": {
    "name": "ipython",
    "version": 3
   },
   "file_extension": ".py",
   "mimetype": "text/x-python",
   "name": "python",
   "nbconvert_exporter": "python",
   "pygments_lexer": "ipython3",
   "version": "3.6.7"
  }
 },
 "nbformat": 4,
 "nbformat_minor": 2
}
